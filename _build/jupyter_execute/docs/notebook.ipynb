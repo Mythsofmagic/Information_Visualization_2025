{
 "cells": [
  {
   "cell_type": "markdown",
   "id": "3b46ee32",
   "metadata": {},
   "source": [
    "# Your Data Story Title\n",
    "\n",
    "Student names: Reyna Geluk (15708845),\n",
    "Lucas Vaneman (14663937),\n",
    "Aryan Müller (15631591),\n",
    "Mieke Fraters (15778770)   \n",
    "\n",
    "Team number: C3 (#9)"
   ]
  },
  {
   "cell_type": "code",
   "execution_count": 1,
   "id": "e180382e",
   "metadata": {
    "editable": true,
    "slideshow": {
     "slide_type": ""
    },
    "tags": [
     "hide-input"
    ]
   },
   "outputs": [
    {
     "ename": "ModuleNotFoundError",
     "evalue": "No module named 'pandas'",
     "output_type": "error",
     "traceback": [
      "\u001b[1;31m---------------------------------------------------------------------------\u001b[0m",
      "\u001b[1;31mModuleNotFoundError\u001b[0m                       Traceback (most recent call last)",
      "Cell \u001b[1;32mIn[1], line 2\u001b[0m\n\u001b[0;32m      1\u001b[0m \u001b[38;5;66;03m# Alle imports\u001b[39;00m\n\u001b[1;32m----> 2\u001b[0m \u001b[38;5;28;01mimport\u001b[39;00m\u001b[38;5;250m \u001b[39m\u001b[38;5;21;01mpandas\u001b[39;00m\u001b[38;5;250m \u001b[39m\u001b[38;5;28;01mas\u001b[39;00m\u001b[38;5;250m \u001b[39m\u001b[38;5;21;01mpd\u001b[39;00m\n\u001b[0;32m      3\u001b[0m \u001b[38;5;28;01mimport\u001b[39;00m\u001b[38;5;250m \u001b[39m\u001b[38;5;21;01mplotly\u001b[39;00m\u001b[38;5;21;01m.\u001b[39;00m\u001b[38;5;21;01mexpress\u001b[39;00m\u001b[38;5;250m \u001b[39m\u001b[38;5;28;01mas\u001b[39;00m\u001b[38;5;250m \u001b[39m\u001b[38;5;21;01mpx\u001b[39;00m\n\u001b[0;32m      4\u001b[0m \u001b[38;5;28;01mimport\u001b[39;00m\u001b[38;5;250m \u001b[39m\u001b[38;5;21;01mplotly\u001b[39;00m\u001b[38;5;21;01m.\u001b[39;00m\u001b[38;5;21;01mgraph_objs\u001b[39;00m\u001b[38;5;250m \u001b[39m\u001b[38;5;28;01mas\u001b[39;00m\u001b[38;5;250m \u001b[39m\u001b[38;5;21;01mgo\u001b[39;00m\n",
      "\u001b[1;31mModuleNotFoundError\u001b[0m: No module named 'pandas'"
     ]
    }
   ],
   "source": [
    "# Alle imports\n",
    "import pandas as pd\n",
    "import plotly.express as px\n",
    "import plotly.graph_objs as go\n",
    "import seaborn as sns\n",
    "import numpy as np\n",
    "import matplotlib.pyplot as plt\n",
    "from plotly.offline import init_notebook_mode\n",
    "init_notebook_mode(connected=True)\n",
    "\n",
    "df1 = pd.read_csv('World-happiness-report-2024.csv')\n",
    "fig = px.choropleth(\n",
    "    df1,\n",
    "    locations='Country name',\n",
    "    locationmode='country names',\n",
    "    color='Ladder score',\n",
    "    color_continuous_scale='Viridis',\n",
    "    title='World Happiness Score by Country'\n",
    ")\n",
    "\n",
    "# Adjust size\n",
    "fig.update_layout(width=1000, height=600)\n",
    "\n",
    "# Adjust projection & zoom\n",
    "fig.update_geos(projection_type='natural earth')\n",
    "\n",
    "fig.show()"
   ]
  },
  {
   "cell_type": "markdown",
   "id": "7d5fce97-8e22-41ee-a19c-6c0f0fb2f08f",
   "metadata": {},
   "source": [
    "## Introductie"
   ]
  },
  {
   "cell_type": "markdown",
   "id": "7cf81853-c237-4df2-8ed4-9deae8423fb0",
   "metadata": {},
   "source": [
    "## Onderwerp\n",
    "\n",
    "Het geluksniveau van mensen wordt beïnvloed door een combinatie van vele factoren. In deze data-analyse onderzoeken we of en hoe weersomstandigheden en klimaatfactoren samenhangen met het gemiddelde geluk van mensen in verschillende landen. \n",
    "\n",
    "Klimaatfactoren kunnen de leefbaarheid van een land beïnvloeden (Peng et al., 2016; Rehdanz & Maddison, 2004; Tsutsui, 2013). Zo kan extreem weer, zoals langdurige kou, hittegolven of hoge neerslag, mogelijk leiden tot meer stress, gezondheidsproblemen of economische schade (Tsutsui, 2013; Rehdanz & Maddison, 2004). Anderzijds zijn er ook landen met minder aangename klimaten waar het geluksniveau toch hoog blijft, vaak dankzij sterke sociale vangnetten en economische stabiliteit.\n",
    "\n",
    "Naast klimatologische factoren spelen ook sociale vangnetten en instituties een belangrijke rol in het verklaren van het geluksniveau in een land. Landen met goed ontwikkelde sociale structuren bieden vaak meer inkomenszekerheid, toegankelijke gezondheidszorg, goed onderwijs en sterke sociale cohesie. Deze factoren helpen burgers om beter om te gaan met tegenslagen, werkloosheid, ziekte of ouderdom, waardoor het algehele welzijn hoger blijft, zelfs bij ongunstige klimaatomstandigheden.\n",
    "\n",
    "Het World Happiness Report benadrukt dat aspecten zoals sociale steun, vrijheid van keuzes, lage corruptieniveaus en sterke instituties sterk bijdragen aan het gemiddelde geluk in landen (Helliwell et al., 2017). Hierdoor kunnen landen met een relatief streng klimaat, zoals Scandinavië, toch hoog scoren op de wereldwijde gelukslijsten.\n",
    "\n",
    "In deze studie proberen we inzicht te krijgen in de relatie tussen klimaat, sociaal-economische factoren en geluk. We baseren ons hierbij onder andere op eerder wetenschappelijk onderzoek dat suggereert dat zowel omgevingsfactoren als maatschappelijke structuren een rol spelen bij het ervaren van geluk.\n",
    "\n",
    "### Weersomstandigheden en klimaatfactoren die we onderzoeken:\n",
    "- Gemiddelde temperatuur\n",
    "- Zonuren \n",
    "- Air quality index\n",
    "- Hoeveelheid natural disasters\n",
    "- Bewolktheid\n",
    "\n",
    "\n",
    "### Sociaal-economische indicatoren die we onderzoeken:\n",
    "- GDP per capita\n",
    "- Sociale steun\n",
    "- Vrijheid\n",
    "- Corruptieperceptie\n",
    "- Gezondheidszorg\n",
    "\n",
    "## Perspectieven en argumenten\n",
    "\n",
    "### Perspectief 1: Klimaat heeft een significante invloed op geluk\n",
    "- **Argument 1.1**: In landen met een stabiel, mild of zonnig klimaat zijn mensen gemiddeld blijer, omdat dergelijke omstandigheden bijdragen aan een prettigere leefomgeving.\n",
    "- **Argument 1.2**: Extreme weersomstandigheden (hittegolven, kou, neerslag) zorgen voor stress en gezondheidsproblemen, wat het geluksniveau verlaagt.\n",
    "\n",
    "### Perspectief 2: Sociaal-economische factoren zijn bepalender voor geluk dan klimaat\n",
    "- **Argument 2.1**: Landen als Zweden, Noorwegen en Finland hebben lange, koude winters, maar behoren tot de gelukkigste landen dankzij sterke sociale vangnetten, gezondheidszorg en welvaart.\n",
    "- **Argument 2.2**: Economische stabiliteit, werkgelegenheid, gezondheidszorg en sociale verbondenheid dragen meer bij aan geluk dan klimaatfactoren.\n",
    "\n",
    "Met behulp van de beschikbare datasets proberen we deze perspectieven te toetsen aan de hand van concrete data en visualisaties."
   ]
  },
  {
   "cell_type": "markdown",
   "id": "d9d4c934-c639-495f-a2bc-ed078e5659c3",
   "metadata": {},
   "source": [
    "## Dataset and Preprocessing"
   ]
  },
  {
   "cell_type": "code",
   "execution_count": 2,
   "id": "63c950c8",
   "metadata": {
    "editable": true,
    "slideshow": {
     "slide_type": ""
    },
    "tags": [
     "hide-input"
    ]
   },
   "outputs": [
    {
     "data": {
      "text/html": [
       "        <script type=\"text/javascript\">\n",
       "        window.PlotlyConfig = {MathJaxConfig: 'local'};\n",
       "        if (window.MathJax && window.MathJax.Hub && window.MathJax.Hub.Config) {window.MathJax.Hub.Config({SVG: {font: \"STIX-Web\"}});}\n",
       "        </script>\n",
       "        <script type=\"module\">import \"https://cdn.plot.ly/plotly-3.0.1.min\"</script>\n",
       "        "
      ]
     },
     "metadata": {},
     "output_type": "display_data"
    }
   ],
   "source": [
    "# Alle imports\n",
    "import pandas as pd\n",
    "import plotly.express as px\n",
    "import plotly.graph_objs as go\n",
    "import seaborn as sns\n",
    "import numpy as np\n",
    "from plotly.offline import init_notebook_mode\n",
    "init_notebook_mode(connected=True)\n",
    "\n",
    "# Datasets importen\n",
    "# df1 is al geimporteerd.\n",
    "df2 = pd.read_csv('GlobalWeatherRepository.csv')     # Main weather dataset, https://www.kaggle.com/datasets/nelgiriyewithana/global-weather-repository\n",
    "df3 = pd.read_csv('update_temperature.csv')          # Deze bevat ook de variabele voor natuurrampen, https://www.kaggle.com/datasets/adilshamim8/temperature\n",
    "\n",
    "df2['last_updated'] = pd.to_datetime(df2['last_updated'])\n",
    "df22024 = df2[df2['last_updated'].dt.year == 2024]  # Zo is de tabel gefilterd op values uit 2024\n",
    "\n",
    "def mode(series):\n",
    "    return series.mode().iloc[0] if not series.mode().empty else np.nan   # Vanwege een error met de mode krijgen van series\n",
    "    \n",
    "df2w = df22024.groupby('country').agg({\n",
    "    'location_name': mode,\n",
    "    'temperature_celsius' : 'mean',\n",
    "    'feels_like_celsius' : 'mean',\n",
    "    'cloud': 'mean',\n",
    "    'wind_kph' : 'mean',\n",
    "    'sunrise': mode,                      # dit gaan we ook nog veranderen naar een column voor de hoeveelheid uren daglicht. Kijk dus niet naar \n",
    "    'sunset' : mode,                      # deze column maar naar de Sunlight hours column. Kan zijn dat r misschien problemen komen met negatieve waarden btw.\n",
    "    'air_quality_Carbon_Monoxide' : 'mean',\n",
    "    'air_quality_Ozone' : 'mean',\n",
    "    'air_quality_Nitrogen_dioxide' : 'mean',\n",
    "    'air_quality_Sulphur_dioxide' : 'mean',\n",
    "    'air_quality_PM2.5' : 'mean',\n",
    "    'air_quality_PM10' : 'mean',\n",
    "    'air_quality_gb-defra-index' : 'mean',         # Nog niet finalized, we gebruiken waarschijnlijk andere variabelen voor air quality, ff kijken wekle\n",
    "    'air_quality_us-epa-index' : 'mean'\n",
    "}).reset_index()\n",
    "\n",
    "df2w['sunrise'] = pd.to_datetime(df2w['sunrise'], format='%I:%M %p')\n",
    "df2w['sunset'] = pd.to_datetime(df2w['sunset'], format='%I:%M %p')\n",
    "df2w['Sunlight hours'] = ((df2w['sunset'] - df2w['sunrise']).dt.total_seconds() / 3600).round(2)\n",
    "\n",
    "df32024 = df3[df3['Year'] == 2024].copy()         # .copy() want anders verschijnt een warning, \n",
    "df32024.rename(columns={'Country' : 'country'}, inplace=True)\n",
    "df32024grouped = df32024.groupby('country', as_index=False).mean(numeric_only=True) # Er waren issues met duplicate instances per land\n",
    "df23 = df2w.merge(df32024[['country', 'Extreme_Weather_Events']], on='country', how='left')  # merge van df2 en df3\n",
    "\n",
    "df1filter = df1[['Country name', 'Ladder score', 'Log GDP per capita',                           # df1 filteren op wat we willen gebruiken\n",
    "                 'Social support', 'Healthy life expectancy', 'Freedom to make life choices', \n",
    "                 'Generosity', 'Perceptions of corruption', 'Dystopia + residual']].copy()\n",
    "\n",
    "df1filter.rename(columns={'Country name' : 'country'}, inplace= True)\n",
    "df123 = df23.merge(df1filter, on='country', how='left')   # De tabel! We kunnen nog ff kiezen welke waarden wel/niet nodig zijn."
   ]
  },
  {
   "cell_type": "markdown",
   "id": "850c1744-f4cc-4cc1-b0a7-9207c75837d8",
   "metadata": {},
   "source": [
    "Het bedenken van een concreet onderwerp en het vinden van bruikbare datasets had wat overlap bij ons. Op Kaggle hadden we een dataset gevonden over het geluk van mensen wereldwijd. Deze dataset was goed bruikbaar en zowel gefilterd op land als op jaar, waardoor andere datasets die we konden gebruiken dus ook aan die eisen moesten voldoen. Na nog langer zoeken op Kaggle, vonden we twee andere datasets die ook gefilterd konden worden op land en jaartal. Deze datasets hadden allebei te maken met het klimaat en weersomstandigheden, een van de onderwerpen die we overwogen om als datastory onderwerp te nemen.\n",
    "\n",
    "### Dataset 1: World Happiness Report- 2024\n",
    "\n",
    "URL: https://www.kaggle.com/datasets/jainaru/world-happiness-report-2024-yearly-updated ('World-happiness-report-2024.csv')\n",
    "\n",
    "**Uitleg over de dataset:**     \n",
    "Het World Happiness Report is een jaarlijks rapport dat gegevens bevat over de gemiddelde gelukkigheid van mensen in, in het geval van het jaar 2024, 143 verschillende landen (Helliwell et al., 2024). Het rapport wordt opgesteld op basis van de gegevens uit een globale survey en wordt gepubliceerd in samenwerking met de University of Oxford's Wellbeing Research Centre, het Sustainable Development Solutions Network en Gallup (World Happiness Report - Sustainable Development Solutions Network, 2025)\n",
    "\n",
    "**Variabelen**\n",
    "\n",
    "De World Happiness Report dataset bevat 12 variabelen:\n",
    "\n",
    "- Nominal (discrete): `Country name`, `Regional indicator`\n",
    "- Ratio (continuous):`Ladder score`, `upperwhisker`, `lowerwhisker`, `Log GDP per capita`, `Social support`, `Healthy life expectancy`, `Freedom to make life choices`, `Generosity`, `Perceptions of corruption`, `Dystopia + residual`\n",
    "\n",
    "### Dataset 2: World Weather Repository (Daily Updating)\n",
    "\n",
    "URL: https://www.kaggle.com/datasets/nelgiriyewithana/global-weather-repository ('GlobalWeatherRepository.csv')\n",
    "\n",
    "**Uitleg over de dataset:**    \n",
    "De World Weather Repository dataset is een dataset met gegevens over het dagelijkse weer en het klimaat in de hoofdsteden van 210 verschillende landen (Elgiriyewithana, 2025). De dataset is gecreëerd op 29-8-2023 en er worden dagelijks nieuwe gegevens aan toegevoegd (5). Voor dit onderzoek wordt er alleen gekeken naar de gegevens uit 2024.\n",
    "\n",
    "**Variabelen**\n",
    "\n",
    "De World Weather Repository dataset bevat 41 variabelen:\n",
    "\n",
    "- Nominal (discrete): `country`, `location_name`, `timezone`, `condition_text`, `wind_direction`, `moon_phase`\n",
    "- Ordinal (discrete): `uv_index`, `air_quality_us-epa-index`, `air_quality_gb-defra-index`\n",
    "- Interval (discrete): `last_updated_epoch`, `last_updated`,  `sunrise`, `sunset`, `moonrise`, `moonset`\n",
    "- Interval (continuous): `temperature_celsius`, `temperature_fahrenheit`, `feels_like_celsius`, `feels_like_fahrenheit`\n",
    "- Ratio (continuous): `latitude`, `longitude`, `wind_mph`, `wind_kph`, `wind_degree`,  `pressure_mb`, `pressure_in`, `precip_mm`, `precip_in`, `humidity`, `cloud`, `visibility_km`, `visibility_miles`, `gust_mph`, `gust_kph`, `air_quality_Carbon_Monoxide`, `air_quality_Ozone`, `air_quality_Nitrogen_dioxide`, `air_quality_Sulphur_dioxide`, `air_quality_PM2.5`, `air_quality_PM10`, `moon_illumination`\n",
    "\n",
    "### Dataset 3: Global Environmental Trends 2000-2024\n",
    "\n",
    "URL: https://www.kaggle.com/datasets/adilshamim8/temperature ('update_temperature.csv')\n",
    "\n",
    "**Uitleg over de dataset:**    \n",
    "De Global Environmental Trends dataset bevat ook gegevens over het weer en het klimaat in verschillende landen (Shamim, 2025). Deze dataset bevat minder variabelen en landen dan de World Weather Repository dataset, maar bevat wel een variabele die mogelijk nuttig is voor dit onderzoek, namelijk extreme weersomstandigheden (Elgiriyewithana, 2025; Shamim, 2025).\n",
    "\n",
    "**Variabelen**\n",
    "\n",
    "De Global Environmental Trends dataset bevat 10 variabelen:\n",
    "\n",
    "- Nominal (discrete): `Country`\n",
    "- Interval (discrete): `Year`\n",
    "- Interval (continuous): `Avg_Temperature_degC`\n",
    "- Ratio (discrete):  `Population`, `Extreme_Weather_Events`\n",
    "- Ratio (continuous):  `CO2_Emission_tons_per_capita`, `Sea_level_Rise_mm`, `Rainfall_mm`, `Renewable_Energy_pct`, `Forest_Area_pct`\n",
    "\n",
    "### Terugkoppeling naar het onderzoek\n",
    "\n",
    "Om meer inzicht te krijgen in de mogelijke relatie tussen het klimaat, socio-economische factoren en geluk, moeten de factoren en indicatoren die genoemd zijn in de introductie worden geanalyseerd. Per factor staat hieronder aangegeven welke variabele(n) hiervoor nodig zijn:\n",
    "\n",
    "### Weersomstandigheden en klimaatfactoren die we onderzoeken:\n",
    "- Gemiddelde temperatuur: `temperature_celsius` of `feels_like_celsius` uit dataset 2.\n",
    "- Zonuren: `sunrise` en `sunset` uit dataset 2. \n",
    "- Air quality index: `nog ff kijken welke van de air qualities we willen` uit dataset 2.\n",
    "- Hoeveelheid natural disasters: `Extreme_Weather_Events` uit dataset 3.\n",
    "- Bewolktheid: `cloud` uit dataset 2.\n",
    "\n",
    "### Sociaal-economische indicatoren die we onderzoeken:\n",
    "- GDP per capita: `Log GDP per capita` uit dataset 1.\n",
    "- Sociale steun: `Social support` uit dataset 1.\n",
    "- Vrijheid: `Freedom to make life choices` uit dataset 1.\n",
    "- Corruptieperceptie: `Perceptions of corruption` uit dataset 1.\n",
    "- Gezondheidszorg: `Healthy life expectancy` uit dataset 1.\n",
    "\n",
    "### Preprocessing van de data\n",
    "\n",
    "De raw data uit de drie datasets was niet gelijk bruikbaar voor de visualisaties en correlaties die met dit onderzoek aangetoond moeten worden. Daardoor moest er wat preprocessing plaatsvinden, om de raw data te transformeren naar een bruikbare DataFrame in Pandas.  \n",
    "\n",
    "Allereerst is de World Weather Repository (df2) dataset gepreprocessed. Deze dataset bevat namelijk het grootste aantal gegevens die nodig zijn voor de visualisaties. Dataset df2 is allereerst gefilterd op het jaar 2024, aangezien dit onderzoek gefocust is op gegevens uit 2024. Vervolgens is de dataset geaggregeerd zodat het de variabelen bevat die nodig zijn voor het onderzoek, aangezien er erg veel instances zijn. De dataset bevat namelijk veel verschillende momentopnames per land, dus de instances moesten allemaal gecombineerd en gecategoriseerd worden per land. Bij de meeste columns kon het gemiddelde van de column worden gebruikt om de waardes te berekenen. Ook konden de columns ‘sunrise’ en ‘sunset’ gecombineerd worden tot een column met de hoeveelheid uren aan zonlicht. Deze twee variabelen zijn allereerst aangepast met een `pd.to_datetime` zodat er met de waardes kon worden gerekend. Vervolgens is de waarde van `sunrise` afgetrokken van `sunset` en is de uitkomst omgezet in uren, afgerond op minuten.\n"
   ]
  },
  {
   "cell_type": "code",
   "execution_count": 3,
   "id": "a6bd3423-381d-4ff2-b237-f3143fc6c985",
   "metadata": {
    "editable": true,
    "slideshow": {
     "slide_type": ""
    },
    "tags": [
     "hide-input"
    ]
   },
   "outputs": [
    {
     "data": {
      "text/html": [
       "<div>\n",
       "<style scoped>\n",
       "    .dataframe tbody tr th:only-of-type {\n",
       "        vertical-align: middle;\n",
       "    }\n",
       "\n",
       "    .dataframe tbody tr th {\n",
       "        vertical-align: top;\n",
       "    }\n",
       "\n",
       "    .dataframe thead th {\n",
       "        text-align: right;\n",
       "    }\n",
       "</style>\n",
       "<table border=\"1\" class=\"dataframe\">\n",
       "  <thead>\n",
       "    <tr style=\"text-align: right;\">\n",
       "      <th></th>\n",
       "      <th>country</th>\n",
       "      <th>location_name</th>\n",
       "      <th>temperature_celsius</th>\n",
       "      <th>feels_like_celsius</th>\n",
       "      <th>cloud</th>\n",
       "      <th>wind_kph</th>\n",
       "      <th>sunrise</th>\n",
       "      <th>sunset</th>\n",
       "      <th>air_quality_Carbon_Monoxide</th>\n",
       "      <th>air_quality_Ozone</th>\n",
       "      <th>air_quality_Nitrogen_dioxide</th>\n",
       "      <th>air_quality_Sulphur_dioxide</th>\n",
       "      <th>air_quality_PM2.5</th>\n",
       "      <th>air_quality_PM10</th>\n",
       "      <th>air_quality_gb-defra-index</th>\n",
       "      <th>air_quality_us-epa-index</th>\n",
       "      <th>Sunlight hours</th>\n",
       "    </tr>\n",
       "  </thead>\n",
       "  <tbody>\n",
       "    <tr>\n",
       "      <th>0</th>\n",
       "      <td>Afghanistan</td>\n",
       "      <td>Kabul</td>\n",
       "      <td>22.696943</td>\n",
       "      <td>21.810044</td>\n",
       "      <td>16.419214</td>\n",
       "      <td>12.113974</td>\n",
       "      <td>1900-01-01 04:40:00</td>\n",
       "      <td>1900-01-01 19:10:00</td>\n",
       "      <td>774.743013</td>\n",
       "      <td>107.629258</td>\n",
       "      <td>7.655328</td>\n",
       "      <td>7.974389</td>\n",
       "      <td>14.860000</td>\n",
       "      <td>28.745873</td>\n",
       "      <td>1.772926</td>\n",
       "      <td>1.388646</td>\n",
       "      <td>14.50</td>\n",
       "    </tr>\n",
       "    <tr>\n",
       "      <th>1</th>\n",
       "      <td>Albania</td>\n",
       "      <td>Tirana</td>\n",
       "      <td>25.022271</td>\n",
       "      <td>25.559389</td>\n",
       "      <td>26.205240</td>\n",
       "      <td>11.429694</td>\n",
       "      <td>1900-01-01 05:07:00</td>\n",
       "      <td>1900-01-01 16:11:00</td>\n",
       "      <td>257.638646</td>\n",
       "      <td>83.346288</td>\n",
       "      <td>10.230000</td>\n",
       "      <td>4.604236</td>\n",
       "      <td>13.593777</td>\n",
       "      <td>18.724323</td>\n",
       "      <td>1.672489</td>\n",
       "      <td>1.349345</td>\n",
       "      <td>11.07</td>\n",
       "    </tr>\n",
       "    <tr>\n",
       "      <th>2</th>\n",
       "      <td>Algeria</td>\n",
       "      <td>Algiers</td>\n",
       "      <td>25.154386</td>\n",
       "      <td>26.760526</td>\n",
       "      <td>28.048246</td>\n",
       "      <td>15.312719</td>\n",
       "      <td>1900-01-01 05:29:00</td>\n",
       "      <td>1900-01-01 17:32:00</td>\n",
       "      <td>307.305263</td>\n",
       "      <td>88.343860</td>\n",
       "      <td>30.107917</td>\n",
       "      <td>12.673136</td>\n",
       "      <td>18.584364</td>\n",
       "      <td>35.214364</td>\n",
       "      <td>2.122807</td>\n",
       "      <td>1.574561</td>\n",
       "      <td>12.05</td>\n",
       "    </tr>\n",
       "    <tr>\n",
       "      <th>3</th>\n",
       "      <td>Andorra</td>\n",
       "      <td>Andorra La Vella</td>\n",
       "      <td>14.105677</td>\n",
       "      <td>13.451528</td>\n",
       "      <td>44.209607</td>\n",
       "      <td>9.516594</td>\n",
       "      <td>1900-01-01 06:16:00</td>\n",
       "      <td>1900-01-01 17:21:00</td>\n",
       "      <td>177.131659</td>\n",
       "      <td>64.942358</td>\n",
       "      <td>0.616790</td>\n",
       "      <td>0.162074</td>\n",
       "      <td>3.729760</td>\n",
       "      <td>7.693100</td>\n",
       "      <td>1.048035</td>\n",
       "      <td>1.030568</td>\n",
       "      <td>11.08</td>\n",
       "    </tr>\n",
       "    <tr>\n",
       "      <th>4</th>\n",
       "      <td>Angola</td>\n",
       "      <td>Luanda</td>\n",
       "      <td>26.335808</td>\n",
       "      <td>29.028384</td>\n",
       "      <td>49.633188</td>\n",
       "      <td>13.153712</td>\n",
       "      <td>1900-01-01 06:23:00</td>\n",
       "      <td>1900-01-01 18:02:00</td>\n",
       "      <td>690.936900</td>\n",
       "      <td>117.070306</td>\n",
       "      <td>9.025524</td>\n",
       "      <td>8.001550</td>\n",
       "      <td>47.178341</td>\n",
       "      <td>82.926769</td>\n",
       "      <td>4.301310</td>\n",
       "      <td>2.484716</td>\n",
       "      <td>11.65</td>\n",
       "    </tr>\n",
       "  </tbody>\n",
       "</table>\n",
       "</div>"
      ],
      "text/plain": [
       "       country     location_name  temperature_celsius  feels_like_celsius  \\\n",
       "0  Afghanistan             Kabul            22.696943           21.810044   \n",
       "1      Albania            Tirana            25.022271           25.559389   \n",
       "2      Algeria           Algiers            25.154386           26.760526   \n",
       "3      Andorra  Andorra La Vella            14.105677           13.451528   \n",
       "4       Angola            Luanda            26.335808           29.028384   \n",
       "\n",
       "       cloud   wind_kph             sunrise              sunset  \\\n",
       "0  16.419214  12.113974 1900-01-01 04:40:00 1900-01-01 19:10:00   \n",
       "1  26.205240  11.429694 1900-01-01 05:07:00 1900-01-01 16:11:00   \n",
       "2  28.048246  15.312719 1900-01-01 05:29:00 1900-01-01 17:32:00   \n",
       "3  44.209607   9.516594 1900-01-01 06:16:00 1900-01-01 17:21:00   \n",
       "4  49.633188  13.153712 1900-01-01 06:23:00 1900-01-01 18:02:00   \n",
       "\n",
       "   air_quality_Carbon_Monoxide  air_quality_Ozone  \\\n",
       "0                   774.743013         107.629258   \n",
       "1                   257.638646          83.346288   \n",
       "2                   307.305263          88.343860   \n",
       "3                   177.131659          64.942358   \n",
       "4                   690.936900         117.070306   \n",
       "\n",
       "   air_quality_Nitrogen_dioxide  air_quality_Sulphur_dioxide  \\\n",
       "0                      7.655328                     7.974389   \n",
       "1                     10.230000                     4.604236   \n",
       "2                     30.107917                    12.673136   \n",
       "3                      0.616790                     0.162074   \n",
       "4                      9.025524                     8.001550   \n",
       "\n",
       "   air_quality_PM2.5  air_quality_PM10  air_quality_gb-defra-index  \\\n",
       "0          14.860000         28.745873                    1.772926   \n",
       "1          13.593777         18.724323                    1.672489   \n",
       "2          18.584364         35.214364                    2.122807   \n",
       "3           3.729760          7.693100                    1.048035   \n",
       "4          47.178341         82.926769                    4.301310   \n",
       "\n",
       "   air_quality_us-epa-index  Sunlight hours  \n",
       "0                  1.388646           14.50  \n",
       "1                  1.349345           11.07  \n",
       "2                  1.574561           12.05  \n",
       "3                  1.030568           11.08  \n",
       "4                  2.484716           11.65  "
      ]
     },
     "execution_count": 3,
     "metadata": {},
     "output_type": "execute_result"
    }
   ],
   "source": [
    "df2w.head(n=5)"
   ]
  },
  {
   "cell_type": "markdown",
   "id": "981260ef-eb39-4ec2-b311-4c476a087f50",
   "metadata": {},
   "source": [
    "> *Figuur x: De eerste 5 rows van df2w: df2 gefilterd op jaar, land en belangrijke variabelen.*"
   ]
  },
  {
   "cell_type": "markdown",
   "id": "7abaeeba-b3f8-4b39-b244-27bb2d318f99",
   "metadata": {},
   "source": [
    "Vervolgens is de Global Environment Trends (df3) dataset gefilterd. Deze dataset was al gefilterd op land, dus moest het alleen nog gefilterd worden op gegevens uit 2024. Ook moest de columns ‘Country’ renamed worden naar ‘country’, zodat een aggregatie plaats kon vinden met df2. Dataset df3 bevat namelijk een column met extreme weersomstandigheden die goed zou passen bij dit onderzoek. Vanwege een probleem met meerdere waarden per country, is het gemiddelde genomen van alle numerieke waarden in df3. Dataset df3 is vervolgens toegevoegd aan dataset df2, waardoor dataset df23 ontstond."
   ]
  },
  {
   "cell_type": "code",
   "execution_count": 4,
   "id": "3c75f73b-1174-4b09-863f-058c0e83b377",
   "metadata": {
    "editable": true,
    "slideshow": {
     "slide_type": ""
    },
    "tags": [
     "hide-input"
    ]
   },
   "outputs": [
    {
     "data": {
      "text/html": [
       "<div>\n",
       "<style scoped>\n",
       "    .dataframe tbody tr th:only-of-type {\n",
       "        vertical-align: middle;\n",
       "    }\n",
       "\n",
       "    .dataframe tbody tr th {\n",
       "        vertical-align: top;\n",
       "    }\n",
       "\n",
       "    .dataframe thead th {\n",
       "        text-align: right;\n",
       "    }\n",
       "</style>\n",
       "<table border=\"1\" class=\"dataframe\">\n",
       "  <thead>\n",
       "    <tr style=\"text-align: right;\">\n",
       "      <th></th>\n",
       "      <th>country</th>\n",
       "      <th>Extreme_Weather_Events</th>\n",
       "    </tr>\n",
       "  </thead>\n",
       "  <tbody>\n",
       "    <tr>\n",
       "      <th>40</th>\n",
       "      <td>United States</td>\n",
       "      <td>64</td>\n",
       "    </tr>\n",
       "    <tr>\n",
       "      <th>41</th>\n",
       "      <td>China</td>\n",
       "      <td>48</td>\n",
       "    </tr>\n",
       "    <tr>\n",
       "      <th>42</th>\n",
       "      <td>Germany</td>\n",
       "      <td>25</td>\n",
       "    </tr>\n",
       "    <tr>\n",
       "      <th>43</th>\n",
       "      <td>Brazil</td>\n",
       "      <td>37</td>\n",
       "    </tr>\n",
       "    <tr>\n",
       "      <th>44</th>\n",
       "      <td>Australia</td>\n",
       "      <td>29</td>\n",
       "    </tr>\n",
       "  </tbody>\n",
       "</table>\n",
       "</div>"
      ],
      "text/plain": [
       "          country  Extreme_Weather_Events\n",
       "40  United States                      64\n",
       "41          China                      48\n",
       "42        Germany                      25\n",
       "43         Brazil                      37\n",
       "44      Australia                      29"
      ]
     },
     "execution_count": 4,
     "metadata": {},
     "output_type": "execute_result"
    }
   ],
   "source": [
    "df32024[['country','Extreme_Weather_Events']].head(n=5)"
   ]
  },
  {
   "cell_type": "markdown",
   "id": "2cb3a851-ae05-40a4-8aab-e6dd49db1ce3",
   "metadata": {},
   "source": [
    "> *Figuur x: De eerste 5 rows van df32024, df3 gefilterd op 2024, en de variabele Extreme_Weather_Events.*"
   ]
  },
  {
   "cell_type": "code",
   "execution_count": 5,
   "id": "09e851bf-1e3d-444e-aea5-66aac8c1827d",
   "metadata": {},
   "outputs": [
    {
     "data": {
      "text/html": [
       "<div>\n",
       "<style scoped>\n",
       "    .dataframe tbody tr th:only-of-type {\n",
       "        vertical-align: middle;\n",
       "    }\n",
       "\n",
       "    .dataframe tbody tr th {\n",
       "        vertical-align: top;\n",
       "    }\n",
       "\n",
       "    .dataframe thead th {\n",
       "        text-align: right;\n",
       "    }\n",
       "</style>\n",
       "<table border=\"1\" class=\"dataframe\">\n",
       "  <thead>\n",
       "    <tr style=\"text-align: right;\">\n",
       "      <th></th>\n",
       "      <th>country</th>\n",
       "      <th>location_name</th>\n",
       "      <th>temperature_celsius</th>\n",
       "      <th>feels_like_celsius</th>\n",
       "      <th>cloud</th>\n",
       "      <th>wind_kph</th>\n",
       "      <th>sunrise</th>\n",
       "      <th>sunset</th>\n",
       "      <th>air_quality_Carbon_Monoxide</th>\n",
       "      <th>air_quality_Ozone</th>\n",
       "      <th>air_quality_Nitrogen_dioxide</th>\n",
       "      <th>air_quality_Sulphur_dioxide</th>\n",
       "      <th>air_quality_PM2.5</th>\n",
       "      <th>air_quality_PM10</th>\n",
       "      <th>air_quality_gb-defra-index</th>\n",
       "      <th>air_quality_us-epa-index</th>\n",
       "      <th>Sunlight hours</th>\n",
       "      <th>Extreme_Weather_Events</th>\n",
       "    </tr>\n",
       "  </thead>\n",
       "  <tbody>\n",
       "    <tr>\n",
       "      <th>0</th>\n",
       "      <td>Afghanistan</td>\n",
       "      <td>Kabul</td>\n",
       "      <td>22.696943</td>\n",
       "      <td>21.810044</td>\n",
       "      <td>16.419214</td>\n",
       "      <td>12.113974</td>\n",
       "      <td>1900-01-01 04:40:00</td>\n",
       "      <td>1900-01-01 19:10:00</td>\n",
       "      <td>774.743013</td>\n",
       "      <td>107.629258</td>\n",
       "      <td>7.655328</td>\n",
       "      <td>7.974389</td>\n",
       "      <td>14.860000</td>\n",
       "      <td>28.745873</td>\n",
       "      <td>1.772926</td>\n",
       "      <td>1.388646</td>\n",
       "      <td>14.50</td>\n",
       "      <td>NaN</td>\n",
       "    </tr>\n",
       "    <tr>\n",
       "      <th>1</th>\n",
       "      <td>Albania</td>\n",
       "      <td>Tirana</td>\n",
       "      <td>25.022271</td>\n",
       "      <td>25.559389</td>\n",
       "      <td>26.205240</td>\n",
       "      <td>11.429694</td>\n",
       "      <td>1900-01-01 05:07:00</td>\n",
       "      <td>1900-01-01 16:11:00</td>\n",
       "      <td>257.638646</td>\n",
       "      <td>83.346288</td>\n",
       "      <td>10.230000</td>\n",
       "      <td>4.604236</td>\n",
       "      <td>13.593777</td>\n",
       "      <td>18.724323</td>\n",
       "      <td>1.672489</td>\n",
       "      <td>1.349345</td>\n",
       "      <td>11.07</td>\n",
       "      <td>NaN</td>\n",
       "    </tr>\n",
       "    <tr>\n",
       "      <th>2</th>\n",
       "      <td>Algeria</td>\n",
       "      <td>Algiers</td>\n",
       "      <td>25.154386</td>\n",
       "      <td>26.760526</td>\n",
       "      <td>28.048246</td>\n",
       "      <td>15.312719</td>\n",
       "      <td>1900-01-01 05:29:00</td>\n",
       "      <td>1900-01-01 17:32:00</td>\n",
       "      <td>307.305263</td>\n",
       "      <td>88.343860</td>\n",
       "      <td>30.107917</td>\n",
       "      <td>12.673136</td>\n",
       "      <td>18.584364</td>\n",
       "      <td>35.214364</td>\n",
       "      <td>2.122807</td>\n",
       "      <td>1.574561</td>\n",
       "      <td>12.05</td>\n",
       "      <td>NaN</td>\n",
       "    </tr>\n",
       "    <tr>\n",
       "      <th>3</th>\n",
       "      <td>Andorra</td>\n",
       "      <td>Andorra La Vella</td>\n",
       "      <td>14.105677</td>\n",
       "      <td>13.451528</td>\n",
       "      <td>44.209607</td>\n",
       "      <td>9.516594</td>\n",
       "      <td>1900-01-01 06:16:00</td>\n",
       "      <td>1900-01-01 17:21:00</td>\n",
       "      <td>177.131659</td>\n",
       "      <td>64.942358</td>\n",
       "      <td>0.616790</td>\n",
       "      <td>0.162074</td>\n",
       "      <td>3.729760</td>\n",
       "      <td>7.693100</td>\n",
       "      <td>1.048035</td>\n",
       "      <td>1.030568</td>\n",
       "      <td>11.08</td>\n",
       "      <td>NaN</td>\n",
       "    </tr>\n",
       "    <tr>\n",
       "      <th>4</th>\n",
       "      <td>Angola</td>\n",
       "      <td>Luanda</td>\n",
       "      <td>26.335808</td>\n",
       "      <td>29.028384</td>\n",
       "      <td>49.633188</td>\n",
       "      <td>13.153712</td>\n",
       "      <td>1900-01-01 06:23:00</td>\n",
       "      <td>1900-01-01 18:02:00</td>\n",
       "      <td>690.936900</td>\n",
       "      <td>117.070306</td>\n",
       "      <td>9.025524</td>\n",
       "      <td>8.001550</td>\n",
       "      <td>47.178341</td>\n",
       "      <td>82.926769</td>\n",
       "      <td>4.301310</td>\n",
       "      <td>2.484716</td>\n",
       "      <td>11.65</td>\n",
       "      <td>NaN</td>\n",
       "    </tr>\n",
       "  </tbody>\n",
       "</table>\n",
       "</div>"
      ],
      "text/plain": [
       "       country     location_name  temperature_celsius  feels_like_celsius  \\\n",
       "0  Afghanistan             Kabul            22.696943           21.810044   \n",
       "1      Albania            Tirana            25.022271           25.559389   \n",
       "2      Algeria           Algiers            25.154386           26.760526   \n",
       "3      Andorra  Andorra La Vella            14.105677           13.451528   \n",
       "4       Angola            Luanda            26.335808           29.028384   \n",
       "\n",
       "       cloud   wind_kph             sunrise              sunset  \\\n",
       "0  16.419214  12.113974 1900-01-01 04:40:00 1900-01-01 19:10:00   \n",
       "1  26.205240  11.429694 1900-01-01 05:07:00 1900-01-01 16:11:00   \n",
       "2  28.048246  15.312719 1900-01-01 05:29:00 1900-01-01 17:32:00   \n",
       "3  44.209607   9.516594 1900-01-01 06:16:00 1900-01-01 17:21:00   \n",
       "4  49.633188  13.153712 1900-01-01 06:23:00 1900-01-01 18:02:00   \n",
       "\n",
       "   air_quality_Carbon_Monoxide  air_quality_Ozone  \\\n",
       "0                   774.743013         107.629258   \n",
       "1                   257.638646          83.346288   \n",
       "2                   307.305263          88.343860   \n",
       "3                   177.131659          64.942358   \n",
       "4                   690.936900         117.070306   \n",
       "\n",
       "   air_quality_Nitrogen_dioxide  air_quality_Sulphur_dioxide  \\\n",
       "0                      7.655328                     7.974389   \n",
       "1                     10.230000                     4.604236   \n",
       "2                     30.107917                    12.673136   \n",
       "3                      0.616790                     0.162074   \n",
       "4                      9.025524                     8.001550   \n",
       "\n",
       "   air_quality_PM2.5  air_quality_PM10  air_quality_gb-defra-index  \\\n",
       "0          14.860000         28.745873                    1.772926   \n",
       "1          13.593777         18.724323                    1.672489   \n",
       "2          18.584364         35.214364                    2.122807   \n",
       "3           3.729760          7.693100                    1.048035   \n",
       "4          47.178341         82.926769                    4.301310   \n",
       "\n",
       "   air_quality_us-epa-index  Sunlight hours  Extreme_Weather_Events  \n",
       "0                  1.388646           14.50                     NaN  \n",
       "1                  1.349345           11.07                     NaN  \n",
       "2                  1.574561           12.05                     NaN  \n",
       "3                  1.030568           11.08                     NaN  \n",
       "4                  2.484716           11.65                     NaN  "
      ]
     },
     "execution_count": 5,
     "metadata": {},
     "output_type": "execute_result"
    }
   ],
   "source": [
    "df23.head(n=5)"
   ]
  },
  {
   "cell_type": "markdown",
   "id": "aa22f4c2-ab32-4d0b-8cbf-050ab1358b68",
   "metadata": {},
   "source": [
    "> *Figuur x: De eerste 5 rows van df23, een combinatie van df2 en df3 waarbij de waarden van df3 zijn toegevoegd aan df2.*"
   ]
  },
  {
   "cell_type": "markdown",
   "id": "c0e5847e-7900-45bb-bd53-d00414a9f21c",
   "metadata": {},
   "source": [
    "Tenslotte moest de World Happiness Report (df1) dataset nog gecombineerd worden met df23. Dataset df1 was al georganiseerd op land en daardoor vrij makkelijk te gebruiken. Eerst is df1 gefilterd op mogelijk nuttige variabelen. Vervolgens is de column ‘Country name’ hernoemt naar ‘country’, waardoor df1 gecombineerd kon worden met df23, wat resulteerde in de uiteindelijke dataframe df123."
   ]
  },
  {
   "cell_type": "code",
   "execution_count": 6,
   "id": "53981567-c4b1-4c82-9466-85e51f5716f5",
   "metadata": {
    "editable": true,
    "slideshow": {
     "slide_type": ""
    },
    "tags": [
     "hide-input"
    ]
   },
   "outputs": [
    {
     "data": {
      "text/html": [
       "<div>\n",
       "<style scoped>\n",
       "    .dataframe tbody tr th:only-of-type {\n",
       "        vertical-align: middle;\n",
       "    }\n",
       "\n",
       "    .dataframe tbody tr th {\n",
       "        vertical-align: top;\n",
       "    }\n",
       "\n",
       "    .dataframe thead th {\n",
       "        text-align: right;\n",
       "    }\n",
       "</style>\n",
       "<table border=\"1\" class=\"dataframe\">\n",
       "  <thead>\n",
       "    <tr style=\"text-align: right;\">\n",
       "      <th></th>\n",
       "      <th>country</th>\n",
       "      <th>Ladder score</th>\n",
       "      <th>Log GDP per capita</th>\n",
       "      <th>Social support</th>\n",
       "      <th>Healthy life expectancy</th>\n",
       "      <th>Freedom to make life choices</th>\n",
       "      <th>Generosity</th>\n",
       "      <th>Perceptions of corruption</th>\n",
       "      <th>Dystopia + residual</th>\n",
       "    </tr>\n",
       "  </thead>\n",
       "  <tbody>\n",
       "    <tr>\n",
       "      <th>0</th>\n",
       "      <td>Finland</td>\n",
       "      <td>7.741</td>\n",
       "      <td>1.844</td>\n",
       "      <td>1.572</td>\n",
       "      <td>0.695</td>\n",
       "      <td>0.859</td>\n",
       "      <td>0.142</td>\n",
       "      <td>0.546</td>\n",
       "      <td>2.082</td>\n",
       "    </tr>\n",
       "    <tr>\n",
       "      <th>1</th>\n",
       "      <td>Denmark</td>\n",
       "      <td>7.583</td>\n",
       "      <td>1.908</td>\n",
       "      <td>1.520</td>\n",
       "      <td>0.699</td>\n",
       "      <td>0.823</td>\n",
       "      <td>0.204</td>\n",
       "      <td>0.548</td>\n",
       "      <td>1.881</td>\n",
       "    </tr>\n",
       "    <tr>\n",
       "      <th>2</th>\n",
       "      <td>Iceland</td>\n",
       "      <td>7.525</td>\n",
       "      <td>1.881</td>\n",
       "      <td>1.617</td>\n",
       "      <td>0.718</td>\n",
       "      <td>0.819</td>\n",
       "      <td>0.258</td>\n",
       "      <td>0.182</td>\n",
       "      <td>2.050</td>\n",
       "    </tr>\n",
       "    <tr>\n",
       "      <th>3</th>\n",
       "      <td>Sweden</td>\n",
       "      <td>7.344</td>\n",
       "      <td>1.878</td>\n",
       "      <td>1.501</td>\n",
       "      <td>0.724</td>\n",
       "      <td>0.838</td>\n",
       "      <td>0.221</td>\n",
       "      <td>0.524</td>\n",
       "      <td>1.658</td>\n",
       "    </tr>\n",
       "    <tr>\n",
       "      <th>4</th>\n",
       "      <td>Israel</td>\n",
       "      <td>7.341</td>\n",
       "      <td>1.803</td>\n",
       "      <td>1.513</td>\n",
       "      <td>0.740</td>\n",
       "      <td>0.641</td>\n",
       "      <td>0.153</td>\n",
       "      <td>0.193</td>\n",
       "      <td>2.298</td>\n",
       "    </tr>\n",
       "  </tbody>\n",
       "</table>\n",
       "</div>"
      ],
      "text/plain": [
       "   country  Ladder score  Log GDP per capita  Social support  \\\n",
       "0  Finland         7.741               1.844           1.572   \n",
       "1  Denmark         7.583               1.908           1.520   \n",
       "2  Iceland         7.525               1.881           1.617   \n",
       "3   Sweden         7.344               1.878           1.501   \n",
       "4   Israel         7.341               1.803           1.513   \n",
       "\n",
       "   Healthy life expectancy  Freedom to make life choices  Generosity  \\\n",
       "0                    0.695                         0.859       0.142   \n",
       "1                    0.699                         0.823       0.204   \n",
       "2                    0.718                         0.819       0.258   \n",
       "3                    0.724                         0.838       0.221   \n",
       "4                    0.740                         0.641       0.153   \n",
       "\n",
       "   Perceptions of corruption  Dystopia + residual  \n",
       "0                      0.546                2.082  \n",
       "1                      0.548                1.881  \n",
       "2                      0.182                2.050  \n",
       "3                      0.524                1.658  \n",
       "4                      0.193                2.298  "
      ]
     },
     "execution_count": 6,
     "metadata": {},
     "output_type": "execute_result"
    }
   ],
   "source": [
    "df1filter.head(n=5)"
   ]
  },
  {
   "cell_type": "markdown",
   "id": "2d73bc4e-4eff-43e3-a315-cc838f7f4205",
   "metadata": {},
   "source": [
    "> *Figuur x: De eerste 5 rows van df1filter, de gefilterde versie van df1 die de belangrijkste variabelen bevat.*"
   ]
  },
  {
   "cell_type": "code",
   "execution_count": 7,
   "id": "dd3b2b60-f6eb-45f8-bc7f-e66dcc26ecb2",
   "metadata": {},
   "outputs": [
    {
     "data": {
      "text/html": [
       "<div>\n",
       "<style scoped>\n",
       "    .dataframe tbody tr th:only-of-type {\n",
       "        vertical-align: middle;\n",
       "    }\n",
       "\n",
       "    .dataframe tbody tr th {\n",
       "        vertical-align: top;\n",
       "    }\n",
       "\n",
       "    .dataframe thead th {\n",
       "        text-align: right;\n",
       "    }\n",
       "</style>\n",
       "<table border=\"1\" class=\"dataframe\">\n",
       "  <thead>\n",
       "    <tr style=\"text-align: right;\">\n",
       "      <th></th>\n",
       "      <th>country</th>\n",
       "      <th>location_name</th>\n",
       "      <th>temperature_celsius</th>\n",
       "      <th>feels_like_celsius</th>\n",
       "      <th>cloud</th>\n",
       "      <th>wind_kph</th>\n",
       "      <th>sunrise</th>\n",
       "      <th>sunset</th>\n",
       "      <th>air_quality_Carbon_Monoxide</th>\n",
       "      <th>air_quality_Ozone</th>\n",
       "      <th>...</th>\n",
       "      <th>Sunlight hours</th>\n",
       "      <th>Extreme_Weather_Events</th>\n",
       "      <th>Ladder score</th>\n",
       "      <th>Log GDP per capita</th>\n",
       "      <th>Social support</th>\n",
       "      <th>Healthy life expectancy</th>\n",
       "      <th>Freedom to make life choices</th>\n",
       "      <th>Generosity</th>\n",
       "      <th>Perceptions of corruption</th>\n",
       "      <th>Dystopia + residual</th>\n",
       "    </tr>\n",
       "  </thead>\n",
       "  <tbody>\n",
       "    <tr>\n",
       "      <th>6</th>\n",
       "      <td>Argentina</td>\n",
       "      <td>Buenos Aires</td>\n",
       "      <td>13.177632</td>\n",
       "      <td>12.474561</td>\n",
       "      <td>26.214912</td>\n",
       "      <td>11.136842</td>\n",
       "      <td>1900-01-01 08:02:00</td>\n",
       "      <td>1900-01-01 17:51:00</td>\n",
       "      <td>517.272807</td>\n",
       "      <td>35.935965</td>\n",
       "      <td>...</td>\n",
       "      <td>9.82</td>\n",
       "      <td>NaN</td>\n",
       "      <td>6.188</td>\n",
       "      <td>1.562</td>\n",
       "      <td>1.381</td>\n",
       "      <td>0.585</td>\n",
       "      <td>0.681</td>\n",
       "      <td>0.087</td>\n",
       "      <td>0.080</td>\n",
       "      <td>1.812</td>\n",
       "    </tr>\n",
       "    <tr>\n",
       "      <th>7</th>\n",
       "      <td>Armenia</td>\n",
       "      <td>Yerevan</td>\n",
       "      <td>22.620524</td>\n",
       "      <td>22.053712</td>\n",
       "      <td>27.318777</td>\n",
       "      <td>8.651528</td>\n",
       "      <td>1900-01-01 05:32:00</td>\n",
       "      <td>1900-01-01 20:35:00</td>\n",
       "      <td>254.201747</td>\n",
       "      <td>77.655022</td>\n",
       "      <td>...</td>\n",
       "      <td>15.05</td>\n",
       "      <td>NaN</td>\n",
       "      <td>5.455</td>\n",
       "      <td>1.444</td>\n",
       "      <td>1.154</td>\n",
       "      <td>0.603</td>\n",
       "      <td>0.650</td>\n",
       "      <td>0.051</td>\n",
       "      <td>0.173</td>\n",
       "      <td>1.379</td>\n",
       "    </tr>\n",
       "    <tr>\n",
       "      <th>8</th>\n",
       "      <td>Australia</td>\n",
       "      <td>Canberra</td>\n",
       "      <td>9.911790</td>\n",
       "      <td>8.985153</td>\n",
       "      <td>31.925764</td>\n",
       "      <td>10.485590</td>\n",
       "      <td>1900-01-01 05:42:00</td>\n",
       "      <td>1900-01-01 16:57:00</td>\n",
       "      <td>219.703057</td>\n",
       "      <td>49.445852</td>\n",
       "      <td>...</td>\n",
       "      <td>11.25</td>\n",
       "      <td>29.0</td>\n",
       "      <td>7.057</td>\n",
       "      <td>1.854</td>\n",
       "      <td>1.461</td>\n",
       "      <td>0.692</td>\n",
       "      <td>0.756</td>\n",
       "      <td>0.225</td>\n",
       "      <td>0.323</td>\n",
       "      <td>1.745</td>\n",
       "    </tr>\n",
       "    <tr>\n",
       "      <th>9</th>\n",
       "      <td>Australia</td>\n",
       "      <td>Canberra</td>\n",
       "      <td>9.911790</td>\n",
       "      <td>8.985153</td>\n",
       "      <td>31.925764</td>\n",
       "      <td>10.485590</td>\n",
       "      <td>1900-01-01 05:42:00</td>\n",
       "      <td>1900-01-01 16:57:00</td>\n",
       "      <td>219.703057</td>\n",
       "      <td>49.445852</td>\n",
       "      <td>...</td>\n",
       "      <td>11.25</td>\n",
       "      <td>23.0</td>\n",
       "      <td>7.057</td>\n",
       "      <td>1.854</td>\n",
       "      <td>1.461</td>\n",
       "      <td>0.692</td>\n",
       "      <td>0.756</td>\n",
       "      <td>0.225</td>\n",
       "      <td>0.323</td>\n",
       "      <td>1.745</td>\n",
       "    </tr>\n",
       "    <tr>\n",
       "      <th>10</th>\n",
       "      <td>Austria</td>\n",
       "      <td>Vienna</td>\n",
       "      <td>18.178947</td>\n",
       "      <td>17.438596</td>\n",
       "      <td>35.429825</td>\n",
       "      <td>14.800877</td>\n",
       "      <td>1900-01-01 04:54:00</td>\n",
       "      <td>1900-01-01 20:59:00</td>\n",
       "      <td>338.641228</td>\n",
       "      <td>70.290351</td>\n",
       "      <td>...</td>\n",
       "      <td>16.08</td>\n",
       "      <td>NaN</td>\n",
       "      <td>6.905</td>\n",
       "      <td>1.885</td>\n",
       "      <td>1.336</td>\n",
       "      <td>0.696</td>\n",
       "      <td>0.703</td>\n",
       "      <td>0.214</td>\n",
       "      <td>0.305</td>\n",
       "      <td>1.766</td>\n",
       "    </tr>\n",
       "    <tr>\n",
       "      <th>11</th>\n",
       "      <td>Azerbaijan</td>\n",
       "      <td>Baku</td>\n",
       "      <td>22.427193</td>\n",
       "      <td>22.546491</td>\n",
       "      <td>30.925439</td>\n",
       "      <td>22.666228</td>\n",
       "      <td>1900-01-01 05:10:00</td>\n",
       "      <td>1900-01-01 20:14:00</td>\n",
       "      <td>284.128947</td>\n",
       "      <td>84.131140</td>\n",
       "      <td>...</td>\n",
       "      <td>15.07</td>\n",
       "      <td>NaN</td>\n",
       "      <td>4.893</td>\n",
       "      <td>1.433</td>\n",
       "      <td>0.876</td>\n",
       "      <td>0.496</td>\n",
       "      <td>0.668</td>\n",
       "      <td>0.112</td>\n",
       "      <td>0.199</td>\n",
       "      <td>1.110</td>\n",
       "    </tr>\n",
       "    <tr>\n",
       "      <th>12</th>\n",
       "      <td>Bahamas</td>\n",
       "      <td>Nassau</td>\n",
       "      <td>26.919111</td>\n",
       "      <td>30.552889</td>\n",
       "      <td>56.826667</td>\n",
       "      <td>19.556000</td>\n",
       "      <td>1900-01-01 06:19:00</td>\n",
       "      <td>1900-01-01 20:03:00</td>\n",
       "      <td>239.491778</td>\n",
       "      <td>63.716444</td>\n",
       "      <td>...</td>\n",
       "      <td>13.73</td>\n",
       "      <td>NaN</td>\n",
       "      <td>NaN</td>\n",
       "      <td>NaN</td>\n",
       "      <td>NaN</td>\n",
       "      <td>NaN</td>\n",
       "      <td>NaN</td>\n",
       "      <td>NaN</td>\n",
       "      <td>NaN</td>\n",
       "      <td>NaN</td>\n",
       "    </tr>\n",
       "    <tr>\n",
       "      <th>13</th>\n",
       "      <td>Bahrain</td>\n",
       "      <td>Manama</td>\n",
       "      <td>32.711790</td>\n",
       "      <td>36.885153</td>\n",
       "      <td>3.366812</td>\n",
       "      <td>19.667686</td>\n",
       "      <td>1900-01-01 04:45:00</td>\n",
       "      <td>1900-01-01 18:34:00</td>\n",
       "      <td>449.263319</td>\n",
       "      <td>153.274672</td>\n",
       "      <td>...</td>\n",
       "      <td>13.82</td>\n",
       "      <td>NaN</td>\n",
       "      <td>5.959</td>\n",
       "      <td>NaN</td>\n",
       "      <td>NaN</td>\n",
       "      <td>NaN</td>\n",
       "      <td>NaN</td>\n",
       "      <td>NaN</td>\n",
       "      <td>NaN</td>\n",
       "      <td>NaN</td>\n",
       "    </tr>\n",
       "  </tbody>\n",
       "</table>\n",
       "<p>8 rows × 26 columns</p>\n",
       "</div>"
      ],
      "text/plain": [
       "       country location_name  temperature_celsius  feels_like_celsius  \\\n",
       "6    Argentina  Buenos Aires            13.177632           12.474561   \n",
       "7      Armenia       Yerevan            22.620524           22.053712   \n",
       "8    Australia      Canberra             9.911790            8.985153   \n",
       "9    Australia      Canberra             9.911790            8.985153   \n",
       "10     Austria        Vienna            18.178947           17.438596   \n",
       "11  Azerbaijan          Baku            22.427193           22.546491   \n",
       "12     Bahamas        Nassau            26.919111           30.552889   \n",
       "13     Bahrain        Manama            32.711790           36.885153   \n",
       "\n",
       "        cloud   wind_kph             sunrise              sunset  \\\n",
       "6   26.214912  11.136842 1900-01-01 08:02:00 1900-01-01 17:51:00   \n",
       "7   27.318777   8.651528 1900-01-01 05:32:00 1900-01-01 20:35:00   \n",
       "8   31.925764  10.485590 1900-01-01 05:42:00 1900-01-01 16:57:00   \n",
       "9   31.925764  10.485590 1900-01-01 05:42:00 1900-01-01 16:57:00   \n",
       "10  35.429825  14.800877 1900-01-01 04:54:00 1900-01-01 20:59:00   \n",
       "11  30.925439  22.666228 1900-01-01 05:10:00 1900-01-01 20:14:00   \n",
       "12  56.826667  19.556000 1900-01-01 06:19:00 1900-01-01 20:03:00   \n",
       "13   3.366812  19.667686 1900-01-01 04:45:00 1900-01-01 18:34:00   \n",
       "\n",
       "    air_quality_Carbon_Monoxide  air_quality_Ozone  ...  Sunlight hours  \\\n",
       "6                    517.272807          35.935965  ...            9.82   \n",
       "7                    254.201747          77.655022  ...           15.05   \n",
       "8                    219.703057          49.445852  ...           11.25   \n",
       "9                    219.703057          49.445852  ...           11.25   \n",
       "10                   338.641228          70.290351  ...           16.08   \n",
       "11                   284.128947          84.131140  ...           15.07   \n",
       "12                   239.491778          63.716444  ...           13.73   \n",
       "13                   449.263319         153.274672  ...           13.82   \n",
       "\n",
       "    Extreme_Weather_Events  Ladder score  Log GDP per capita  Social support  \\\n",
       "6                      NaN         6.188               1.562           1.381   \n",
       "7                      NaN         5.455               1.444           1.154   \n",
       "8                     29.0         7.057               1.854           1.461   \n",
       "9                     23.0         7.057               1.854           1.461   \n",
       "10                     NaN         6.905               1.885           1.336   \n",
       "11                     NaN         4.893               1.433           0.876   \n",
       "12                     NaN           NaN                 NaN             NaN   \n",
       "13                     NaN         5.959                 NaN             NaN   \n",
       "\n",
       "    Healthy life expectancy  Freedom to make life choices  Generosity  \\\n",
       "6                     0.585                         0.681       0.087   \n",
       "7                     0.603                         0.650       0.051   \n",
       "8                     0.692                         0.756       0.225   \n",
       "9                     0.692                         0.756       0.225   \n",
       "10                    0.696                         0.703       0.214   \n",
       "11                    0.496                         0.668       0.112   \n",
       "12                      NaN                           NaN         NaN   \n",
       "13                      NaN                           NaN         NaN   \n",
       "\n",
       "    Perceptions of corruption  Dystopia + residual  \n",
       "6                       0.080                1.812  \n",
       "7                       0.173                1.379  \n",
       "8                       0.323                1.745  \n",
       "9                       0.323                1.745  \n",
       "10                      0.305                1.766  \n",
       "11                      0.199                1.110  \n",
       "12                        NaN                  NaN  \n",
       "13                        NaN                  NaN  \n",
       "\n",
       "[8 rows x 26 columns]"
      ]
     },
     "execution_count": 7,
     "metadata": {},
     "output_type": "execute_result"
    }
   ],
   "source": [
    "df123[6:14]  # Dit lijkt misschien op een rare selectie aan cellen, maar zo zijn er niet alleen NaN waardes voor de extreme weather events."
   ]
  },
  {
   "cell_type": "markdown",
   "id": "a7ce5703-9cf5-4c80-af9e-7eafb4ee44e5",
   "metadata": {},
   "source": [
    "> *Figuur X: Rij 6 tot en met 14 van de uiteindelijke dataset df123. Deze rijen zijn gekozen zodat er niet alleen NaN waarden staan bij Extreme_Weather_Events*"
   ]
  },
  {
   "cell_type": "markdown",
   "id": "d5010a07-96a0-45a7-ba76-250a56053f62",
   "metadata": {},
   "source": [
    "## Perspectief 1: Klimaat heeft een significante invloed op geluk"
   ]
  },
  {
   "cell_type": "markdown",
   "id": "1f26b1fd",
   "metadata": {},
   "source": [
    "De structuur van deze teksten moet nog aangepast worden, iig voor de final versie"
   ]
  },
  {
   "cell_type": "markdown",
   "id": "a43c3ae1-48d8-4663-8525-7d92fae83483",
   "metadata": {},
   "source": [
    "### Argument 1.1: In landen met een stabiel, mild of zonnig klimaat zijn mensen gemiddeld blijer, omdat dergelijke omstandigheden bijdragen aan een prettigere leefomgeving.\n"
   ]
  },
  {
   "cell_type": "markdown",
   "id": "a44acbb2-6dbc-4cb9-ba26-7ba3fb19af5d",
   "metadata": {},
   "source": [
    "In landen met een stabiel, mild of zonnig klimaat zijn mensen gemiddeld blijer, omdat dergelijke omstandigheden bijdragen aan een prettigere leefomgeving (Rehdanz & Maddison, 2004; Tsutsui, 2012).\n",
    "\n",
    "Uit bestaand onderzoek blijkt dat het klimaat waarin mensen leven invloed heeft op hun welzijn en geluksbeleving. Zo zijn er aanwijzingen dat gemiddelde temperaturen en zonlicht samenhangen met een verhoogd comfort en stemming (Rehdanz & Maddison, 2004; Tsutsui, 2012). In warmere en zonnigere klimaten brengen mensen doorgaans meer tijd buiten door, wat sociale interactie en lichamelijke activiteit stimuleert – beide factoren die bijdragen aan mentaal welzijn (Tsutsui, 2012).\n",
    "\n",
    "Dit wordt ook weerspiegeld in data uit het World Happiness Report (Helliwell et al., 2017): landen zoals Spanje, Costa Rica en Australië, die bekendstaan om hun aangename klimaat, scoren consequent bovengemiddeld op geluksscores.\n",
    "\n",
    "Daarnaast kan een voorspelbaar klimaat bijdragen aan minder stress in het dagelijks leven. Wanneer mensen zich minder zorgen hoeven te maken over extreem weer of bijkomende gevolgen zoals energiekosten of beperkte mobiliteit, ervaren zij een hogere mate van gemak en stabiliteit (Rehdanz & Maddison, 2004; Peng et al., 2016).\n",
    "\n",
    "Hoewel klimaat uiteraard niet de enige factor is die geluk beïnvloedt, toont onze analyse aan dat klimaatvariabelen zoals zonuren, temperatuur en luchtkwaliteit samenhangen met het gerapporteerde geluksniveau in verschillende landen (Peng et al., 2016; Helliwell et al., 2017)."
   ]
  },
  {
   "cell_type": "code",
   "execution_count": 8,
   "id": "62bfd307",
   "metadata": {
    "tags": [
     "hide-input"
    ]
   },
   "outputs": [
    {
     "data": {
      "application/vnd.plotly.v1+json": {
       "config": {
        "plotlyServerURL": "https://plot.ly"
       },
       "data": [
        {
         "coloraxis": "coloraxis",
         "geo": "geo",
         "hovertemplate": "country=%{location}<br>cloud=%{z}<extra></extra>",
         "locationmode": "country names",
         "locations": [
          "Afghanistan",
          "Albania",
          "Algeria",
          "Andorra",
          "Angola",
          "Antigua and Barbuda",
          "Argentina",
          "Armenia",
          "Australia",
          "Australia",
          "Austria",
          "Azerbaijan",
          "Bahamas",
          "Bahrain",
          "Bangladesh",
          "Barbados",
          "Belarus",
          "Belgium",
          "Belize",
          "Benin",
          "Bhutan",
          "Bolivia",
          "Bosnia and Herzegovina",
          "Botswana",
          "Brazil",
          "Brazil",
          "Brunei Darussalam",
          "Bulgaria",
          "Burkina Faso",
          "Burundi",
          "Bélgica",
          "Cambodia",
          "Cameroon",
          "Canada",
          "Cape Verde",
          "Central African Republic",
          "Chad",
          "Chile",
          "China",
          "China",
          "Colombia",
          "Comoros",
          "Congo",
          "Costa Rica",
          "Croatia",
          "Cuba",
          "Cyprus",
          "Czech Republic",
          "Democratic Republic of Congo",
          "Denmark",
          "Djibouti",
          "Dominica",
          "Dominican Republic",
          "Ecuador",
          "Egypt",
          "El Salvador",
          "Equatorial Guinea",
          "Eritrea",
          "Estonia",
          "Estonie",
          "Ethiopia",
          "Fiji Islands",
          "Finland",
          "France",
          "Gabon",
          "Gambia",
          "Georgia",
          "Germany",
          "Germany",
          "Ghana",
          "Greece",
          "Grenada",
          "Guatemala",
          "Guinea",
          "Guinea-Bissau",
          "Guyana",
          "Haiti",
          "Honduras",
          "Hungary",
          "Iceland",
          "Inde",
          "India",
          "India",
          "Indonesia",
          "Iran",
          "Iraq",
          "Ireland",
          "Israel",
          "Italy",
          "Jamaica",
          "Japan",
          "Jemen",
          "Jordan",
          "Kazakhstan",
          "Kenya",
          "Kiribati",
          "Komoren",
          "Kosovo",
          "Kuwait",
          "Kyrghyzstan",
          "Lao People's Democratic Republic",
          "Latvia",
          "Lebanon",
          "Lesotho",
          "Letonia",
          "Liberia",
          "Libya",
          "Liechtenstein",
          "Lithuania",
          "Luxembourg",
          "Macedonia",
          "Madagascar",
          "Malawi",
          "Malaysia",
          "Maldives",
          "Mali",
          "Malta",
          "Malásia",
          "Marrocos",
          "Marshall Islands",
          "Mauritania",
          "Mauritius",
          "Mexico",
          "Mexique",
          "Micronesia",
          "Monaco",
          "Mongolia",
          "Montenegro",
          "Morocco",
          "Mozambique",
          "Myanmar",
          "Namibia",
          "Nepal",
          "Netherlands",
          "New Zealand",
          "Nicaragua",
          "Niger",
          "Nigeria",
          "Nigeria",
          "North Korea",
          "Norway",
          "Oman",
          "Pakistan",
          "Palau",
          "Panama",
          "Papua New Guinea",
          "Paraguay",
          "Peru",
          "Philippines",
          "Poland",
          "Polônia",
          "Portugal",
          "Qatar",
          "Romania",
          "Russia",
          "Russia",
          "Rwanda",
          "Saint Kitts and Nevis",
          "Saint Lucia",
          "Saint Vincent and the Grenadines",
          "Saint-Vincent-et-les-Grenadines",
          "Samoa",
          "San Marino",
          "Saudi Arabia",
          "Saudi Arabien",
          "Senegal",
          "Serbia",
          "Seychelles Islands",
          "Sierra Leone",
          "Singapore",
          "Slovakia",
          "Slovenia",
          "Solomon Islands",
          "Somalia",
          "South Africa",
          "South Korea",
          "Spain",
          "Sri Lanka",
          "Sudan",
          "Suriname",
          "Swaziland",
          "Sweden",
          "Switzerland",
          "Syria",
          "Südkorea",
          "Tajikistan",
          "Tanzania",
          "Thailand",
          "Timor-Leste",
          "Togo",
          "Tonga",
          "Trinidad and Tobago",
          "Tunisia",
          "Turkey",
          "Turkmenistan",
          "Turkménistan",
          "Tuvalu",
          "USA United States of America",
          "Uganda",
          "Ukraine",
          "United Arab Emirates",
          "United Kingdom",
          "United States of America",
          "Uruguay",
          "Uzbekistan",
          "Vanuatu",
          "Vatican City",
          "Venezuela",
          "Vietnam",
          "Yemen",
          "Zambia",
          "Zimbabwe",
          "Гватемала",
          "Польша",
          "Турция",
          "كولومبيا",
          "火鸡"
         ],
         "name": "",
         "type": "choropleth",
         "z": {
          "_inputArray": {
           "0": 16.419213973799128,
           "1": 26.20524017467249,
           "10": 35.42982456140351,
           "100": 98,
           "101": 42.87224669603524,
           "102": 29.17105263157895,
           "103": 18.94298245614035,
           "104": 87,
           "105": 71.4298245614035,
           "106": 0,
           "107": 50.75,
           "108": 49.81140350877193,
           "109": 48.290748898678416,
           "11": 30.92543859649123,
           "110": 32.99559471365639,
           "111": 26.75438596491228,
           "112": 31.99126637554585,
           "113": 35.379912663755455,
           "114": 61.18141592920354,
           "115": 30.03930131004367,
           "116": 21.074235807860262,
           "117": 59,
           "118": 0,
           "119": 84.57205240174673,
           "12": 56.82666666666667,
           "120": 15.043668122270743,
           "121": 53.6768558951965,
           "122": 54.06194690265487,
           "123": 32,
           "124": 81.46929824561404,
           "125": 34.28193832599119,
           "126": 37.38157894736842,
           "127": 28.092105263157894,
           "128": 32.59911894273128,
           "129": 34.80349344978166,
           "13": 3.3668122270742358,
           "130": 66.87336244541484,
           "131": 7.118421052631579,
           "132": 58.87280701754386,
           "133": 44.73684210526316,
           "134": 50.7117903930131,
           "135": 47.216814159292035,
           "136": 17.80701754385965,
           "137": 46.698689956331876,
           "138": 46.698689956331876,
           "139": 33.82017543859649,
           "14": 42.18859649122807,
           "140": 48.1140350877193,
           "141": 14.20524017467249,
           "142": 16.964912280701753,
           "143": 78.00438596491227,
           "144": 61.00440528634361,
           "145": 56.85526315789474,
           "146": 28.419213973799128,
           "147": 47.56637168141593,
           "148": 66.30701754385964,
           "149": 33.56768558951965,
           "15": 48.083333333333336,
           "150": 32,
           "151": 27.863436123348016,
           "152": 3.307017543859649,
           "153": 20.25438596491228,
           "154": 42.8099173553719,
           "155": 42.8099173553719,
           "156": 50.578947368421055,
           "157": 41.48684210526316,
           "158": 51.780701754385966,
           "159": 57.77533039647577,
           "16": 45.53711790393013,
           "160": 86,
           "161": 60.097345132743364,
           "162": 28.853982300884955,
           "163": 4.762114537444934,
           "164": 0,
           "165": 30.502183406113538,
           "166": 21.855263157894736,
           "167": 48.969298245614034,
           "168": 63.52422907488987,
           "169": 63.506550218340614,
           "17": 56.558241758241756,
           "170": 30.719298245614034,
           "171": 51.7292576419214,
           "172": 56.213973799126634,
           "173": 48.12719298245614,
           "174": 6.104803493449782,
           "175": 27.12280701754386,
           "176": 21,
           "177": 58.30701754385965,
           "178": 17.592105263157894,
           "179": 41.26315789473684,
           "18": 74.59471365638767,
           "180": 26.289473684210527,
           "181": 31.912280701754387,
           "182": 51.55701754385965,
           "183": 10.912280701754385,
           "184": 0,
           "185": 25.767543859649123,
           "186": 30.353711790393014,
           "187": 41.65714285714286,
           "188": 41.691629955947135,
           "189": 85,
           "19": 50.89035087719298,
           "190": 55.07860262008734,
           "191": 35.4078947368421,
           "192": 29.403508771929825,
           "193": 33.53846153846154,
           "194": 37.60526315789474,
           "195": 2,
           "196": 67.23144104803494,
           "197": 34.333333333333336,
           "198": 37.74561403508772,
           "199": 42.532751091703055,
           "2": 28.04824561403509,
           "20": 65.05263157894737,
           "200": 5.406113537117904,
           "201": 52.74449339207048,
           "202": 47.20444444444445,
           "203": 37.99126637554585,
           "204": 14.174672489082969,
           "205": 61.12719298245614,
           "206": 20.08296943231441,
           "207": 27.277533039647576,
           "208": 46.693627450980394,
           "209": 32.12719298245614,
           "21": 31.29490022172949,
           "210": 14.807860262008735,
           "211": 12.977973568281937,
           "212": 46,
           "213": 74,
           "214": 25,
           "215": 92,
           "216": 4,
           "22": 39.68995633187773,
           "23": 13.030567685589519,
           "24": 37.87224669603524,
           "25": 37.87224669603524,
           "26": 70.01754385964912,
           "27": 32.265306122448976,
           "28": 27.57017543859649,
           "29": 45.61572052401747,
           "3": 44.209606986899566,
           "30": 75,
           "31": 55.23144104803494,
           "32": 48.47577092511013,
           "33": 57.48898678414097,
           "34": 42.35807860262009,
           "35": 45.75438596491228,
           "36": 24.646288209606986,
           "37": 30.334801762114537,
           "38": 11.135964912280702,
           "39": 11.135964912280702,
           "4": 49.633187772925766,
           "40": 69,
           "41": 67.91189427312776,
           "42": 48.078947368421055,
           "43": 57.57333333333333,
           "44": 29.68281938325991,
           "45": 39.629955947136565,
           "46": 30.17982456140351,
           "47": 42.99557522123894,
           "48": 48.903083700440526,
           "49": 52.574561403508774,
           "5": 47.5353982300885,
           "50": 21.123348017621144,
           "51": 54.87665198237885,
           "52": 51.64159292035398,
           "53": 33.220264317180614,
           "54": 14.596491228070175,
           "55": 49.10666666666667,
           "56": 64.4934497816594,
           "57": 42.082969432314414,
           "58": 49.969298245614034,
           "59": 25,
           "6": 26.214912280701753,
           "60": 56.08810572687225,
           "61": 63.02620087336245,
           "62": 43,
           "63": 51.76419213973799,
           "64": 54.81578947368421,
           "65": 36.98237885462555,
           "66": 28.070484581497798,
           "67": 34.92576419213974,
           "68": 34.92576419213974,
           "69": 52.03493449781659,
           "7": 27.31877729257642,
           "70": 23.26872246696035,
           "71": 39.008849557522126,
           "72": 63.50222222222222,
           "73": 58.97379912663755,
           "74": 41.18340611353712,
           "75": 52.76651982378855,
           "76": 37.77533039647577,
           "77": 66.79646017699115,
           "78": 32.213973799126634,
           "79": 65.8122270742358,
           "8": 31.925764192139738,
           "80": 75,
           "81": 33.17180616740088,
           "82": 33.17180616740088,
           "83": 51.28322440087146,
           "84": 22.013157894736842,
           "85": 9.68995633187773,
           "86": 65.60964912280701,
           "87": 14.714912280701755,
           "88": 19.95175438596491,
           "89": 32.76211453744494,
           "9": 31.925764192139738,
           "90": 47.60698689956332,
           "91": 84,
           "92": 13.283842794759826,
           "93": 46.219298245614034,
           "94": 64.64782608695653,
           "95": 52.25110132158591,
           "96": 55,
           "97": 85,
           "98": 6.851528384279476,
           "99": 42.6578947368421,
           "bdata": "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",
           "dtype": "f8",
           "shape": "217"
          },
          "bdata": "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",
          "dtype": "f8"
         }
        }
       ],
       "layout": {
        "coloraxis": {
         "colorbar": {
          "title": {
           "text": "cloud"
          }
         },
         "colorscale": [
          [
           0,
           "#fee838"
          ],
          [
           0.1111111111111111,
           "#e1cc55"
          ],
          [
           0.2222222222222222,
           "#c3b369"
          ],
          [
           0.3333333333333333,
           "#a59c74"
          ],
          [
           0.4444444444444444,
           "#8a8678"
          ],
          [
           0.5555555555555556,
           "#707173"
          ],
          [
           0.6666666666666666,
           "#575d6d"
          ],
          [
           0.7777777777777778,
           "#3b496c"
          ],
          [
           0.8888888888888888,
           "#123570"
          ],
          [
           1,
           "#00224e"
          ]
         ]
        },
        "geo": {
         "center": {},
         "domain": {
          "x": [
           0,
           1
          ],
          "y": [
           0,
           1
          ]
         },
         "projection": {
          "type": "natural earth"
         }
        },
        "height": 600,
        "legend": {
         "tracegroupgap": 0
        },
        "template": {
         "data": {
          "bar": [
           {
            "error_x": {
             "color": "#2a3f5f"
            },
            "error_y": {
             "color": "#2a3f5f"
            },
            "marker": {
             "line": {
              "color": "#E5ECF6",
              "width": 0.5
             },
             "pattern": {
              "fillmode": "overlay",
              "size": 10,
              "solidity": 0.2
             }
            },
            "type": "bar"
           }
          ],
          "barpolar": [
           {
            "marker": {
             "line": {
              "color": "#E5ECF6",
              "width": 0.5
             },
             "pattern": {
              "fillmode": "overlay",
              "size": 10,
              "solidity": 0.2
             }
            },
            "type": "barpolar"
           }
          ],
          "carpet": [
           {
            "aaxis": {
             "endlinecolor": "#2a3f5f",
             "gridcolor": "white",
             "linecolor": "white",
             "minorgridcolor": "white",
             "startlinecolor": "#2a3f5f"
            },
            "baxis": {
             "endlinecolor": "#2a3f5f",
             "gridcolor": "white",
             "linecolor": "white",
             "minorgridcolor": "white",
             "startlinecolor": "#2a3f5f"
            },
            "type": "carpet"
           }
          ],
          "choropleth": [
           {
            "colorbar": {
             "outlinewidth": 0,
             "ticks": ""
            },
            "type": "choropleth"
           }
          ],
          "contour": [
           {
            "colorbar": {
             "outlinewidth": 0,
             "ticks": ""
            },
            "colorscale": [
             [
              0,
              "#0d0887"
             ],
             [
              0.1111111111111111,
              "#46039f"
             ],
             [
              0.2222222222222222,
              "#7201a8"
             ],
             [
              0.3333333333333333,
              "#9c179e"
             ],
             [
              0.4444444444444444,
              "#bd3786"
             ],
             [
              0.5555555555555556,
              "#d8576b"
             ],
             [
              0.6666666666666666,
              "#ed7953"
             ],
             [
              0.7777777777777778,
              "#fb9f3a"
             ],
             [
              0.8888888888888888,
              "#fdca26"
             ],
             [
              1,
              "#f0f921"
             ]
            ],
            "type": "contour"
           }
          ],
          "contourcarpet": [
           {
            "colorbar": {
             "outlinewidth": 0,
             "ticks": ""
            },
            "type": "contourcarpet"
           }
          ],
          "heatmap": [
           {
            "colorbar": {
             "outlinewidth": 0,
             "ticks": ""
            },
            "colorscale": [
             [
              0,
              "#0d0887"
             ],
             [
              0.1111111111111111,
              "#46039f"
             ],
             [
              0.2222222222222222,
              "#7201a8"
             ],
             [
              0.3333333333333333,
              "#9c179e"
             ],
             [
              0.4444444444444444,
              "#bd3786"
             ],
             [
              0.5555555555555556,
              "#d8576b"
             ],
             [
              0.6666666666666666,
              "#ed7953"
             ],
             [
              0.7777777777777778,
              "#fb9f3a"
             ],
             [
              0.8888888888888888,
              "#fdca26"
             ],
             [
              1,
              "#f0f921"
             ]
            ],
            "type": "heatmap"
           }
          ],
          "histogram": [
           {
            "marker": {
             "pattern": {
              "fillmode": "overlay",
              "size": 10,
              "solidity": 0.2
             }
            },
            "type": "histogram"
           }
          ],
          "histogram2d": [
           {
            "colorbar": {
             "outlinewidth": 0,
             "ticks": ""
            },
            "colorscale": [
             [
              0,
              "#0d0887"
             ],
             [
              0.1111111111111111,
              "#46039f"
             ],
             [
              0.2222222222222222,
              "#7201a8"
             ],
             [
              0.3333333333333333,
              "#9c179e"
             ],
             [
              0.4444444444444444,
              "#bd3786"
             ],
             [
              0.5555555555555556,
              "#d8576b"
             ],
             [
              0.6666666666666666,
              "#ed7953"
             ],
             [
              0.7777777777777778,
              "#fb9f3a"
             ],
             [
              0.8888888888888888,
              "#fdca26"
             ],
             [
              1,
              "#f0f921"
             ]
            ],
            "type": "histogram2d"
           }
          ],
          "histogram2dcontour": [
           {
            "colorbar": {
             "outlinewidth": 0,
             "ticks": ""
            },
            "colorscale": [
             [
              0,
              "#0d0887"
             ],
             [
              0.1111111111111111,
              "#46039f"
             ],
             [
              0.2222222222222222,
              "#7201a8"
             ],
             [
              0.3333333333333333,
              "#9c179e"
             ],
             [
              0.4444444444444444,
              "#bd3786"
             ],
             [
              0.5555555555555556,
              "#d8576b"
             ],
             [
              0.6666666666666666,
              "#ed7953"
             ],
             [
              0.7777777777777778,
              "#fb9f3a"
             ],
             [
              0.8888888888888888,
              "#fdca26"
             ],
             [
              1,
              "#f0f921"
             ]
            ],
            "type": "histogram2dcontour"
           }
          ],
          "mesh3d": [
           {
            "colorbar": {
             "outlinewidth": 0,
             "ticks": ""
            },
            "type": "mesh3d"
           }
          ],
          "parcoords": [
           {
            "line": {
             "colorbar": {
              "outlinewidth": 0,
              "ticks": ""
             }
            },
            "type": "parcoords"
           }
          ],
          "pie": [
           {
            "automargin": true,
            "type": "pie"
           }
          ],
          "scatter": [
           {
            "fillpattern": {
             "fillmode": "overlay",
             "size": 10,
             "solidity": 0.2
            },
            "type": "scatter"
           }
          ],
          "scatter3d": [
           {
            "line": {
             "colorbar": {
              "outlinewidth": 0,
              "ticks": ""
             }
            },
            "marker": {
             "colorbar": {
              "outlinewidth": 0,
              "ticks": ""
             }
            },
            "type": "scatter3d"
           }
          ],
          "scattercarpet": [
           {
            "marker": {
             "colorbar": {
              "outlinewidth": 0,
              "ticks": ""
             }
            },
            "type": "scattercarpet"
           }
          ],
          "scattergeo": [
           {
            "marker": {
             "colorbar": {
              "outlinewidth": 0,
              "ticks": ""
             }
            },
            "type": "scattergeo"
           }
          ],
          "scattergl": [
           {
            "marker": {
             "colorbar": {
              "outlinewidth": 0,
              "ticks": ""
             }
            },
            "type": "scattergl"
           }
          ],
          "scattermap": [
           {
            "marker": {
             "colorbar": {
              "outlinewidth": 0,
              "ticks": ""
             }
            },
            "type": "scattermap"
           }
          ],
          "scattermapbox": [
           {
            "marker": {
             "colorbar": {
              "outlinewidth": 0,
              "ticks": ""
             }
            },
            "type": "scattermapbox"
           }
          ],
          "scatterpolar": [
           {
            "marker": {
             "colorbar": {
              "outlinewidth": 0,
              "ticks": ""
             }
            },
            "type": "scatterpolar"
           }
          ],
          "scatterpolargl": [
           {
            "marker": {
             "colorbar": {
              "outlinewidth": 0,
              "ticks": ""
             }
            },
            "type": "scatterpolargl"
           }
          ],
          "scatterternary": [
           {
            "marker": {
             "colorbar": {
              "outlinewidth": 0,
              "ticks": ""
             }
            },
            "type": "scatterternary"
           }
          ],
          "surface": [
           {
            "colorbar": {
             "outlinewidth": 0,
             "ticks": ""
            },
            "colorscale": [
             [
              0,
              "#0d0887"
             ],
             [
              0.1111111111111111,
              "#46039f"
             ],
             [
              0.2222222222222222,
              "#7201a8"
             ],
             [
              0.3333333333333333,
              "#9c179e"
             ],
             [
              0.4444444444444444,
              "#bd3786"
             ],
             [
              0.5555555555555556,
              "#d8576b"
             ],
             [
              0.6666666666666666,
              "#ed7953"
             ],
             [
              0.7777777777777778,
              "#fb9f3a"
             ],
             [
              0.8888888888888888,
              "#fdca26"
             ],
             [
              1,
              "#f0f921"
             ]
            ],
            "type": "surface"
           }
          ],
          "table": [
           {
            "cells": {
             "fill": {
              "color": "#EBF0F8"
             },
             "line": {
              "color": "white"
             }
            },
            "header": {
             "fill": {
              "color": "#C8D4E3"
             },
             "line": {
              "color": "white"
             }
            },
            "type": "table"
           }
          ]
         },
         "layout": {
          "annotationdefaults": {
           "arrowcolor": "#2a3f5f",
           "arrowhead": 0,
           "arrowwidth": 1
          },
          "autotypenumbers": "strict",
          "coloraxis": {
           "colorbar": {
            "outlinewidth": 0,
            "ticks": ""
           }
          },
          "colorscale": {
           "diverging": [
            [
             0,
             "#8e0152"
            ],
            [
             0.1,
             "#c51b7d"
            ],
            [
             0.2,
             "#de77ae"
            ],
            [
             0.3,
             "#f1b6da"
            ],
            [
             0.4,
             "#fde0ef"
            ],
            [
             0.5,
             "#f7f7f7"
            ],
            [
             0.6,
             "#e6f5d0"
            ],
            [
             0.7,
             "#b8e186"
            ],
            [
             0.8,
             "#7fbc41"
            ],
            [
             0.9,
             "#4d9221"
            ],
            [
             1,
             "#276419"
            ]
           ],
           "sequential": [
            [
             0,
             "#0d0887"
            ],
            [
             0.1111111111111111,
             "#46039f"
            ],
            [
             0.2222222222222222,
             "#7201a8"
            ],
            [
             0.3333333333333333,
             "#9c179e"
            ],
            [
             0.4444444444444444,
             "#bd3786"
            ],
            [
             0.5555555555555556,
             "#d8576b"
            ],
            [
             0.6666666666666666,
             "#ed7953"
            ],
            [
             0.7777777777777778,
             "#fb9f3a"
            ],
            [
             0.8888888888888888,
             "#fdca26"
            ],
            [
             1,
             "#f0f921"
            ]
           ],
           "sequentialminus": [
            [
             0,
             "#0d0887"
            ],
            [
             0.1111111111111111,
             "#46039f"
            ],
            [
             0.2222222222222222,
             "#7201a8"
            ],
            [
             0.3333333333333333,
             "#9c179e"
            ],
            [
             0.4444444444444444,
             "#bd3786"
            ],
            [
             0.5555555555555556,
             "#d8576b"
            ],
            [
             0.6666666666666666,
             "#ed7953"
            ],
            [
             0.7777777777777778,
             "#fb9f3a"
            ],
            [
             0.8888888888888888,
             "#fdca26"
            ],
            [
             1,
             "#f0f921"
            ]
           ]
          },
          "colorway": [
           "#636efa",
           "#EF553B",
           "#00cc96",
           "#ab63fa",
           "#FFA15A",
           "#19d3f3",
           "#FF6692",
           "#B6E880",
           "#FF97FF",
           "#FECB52"
          ],
          "font": {
           "color": "#2a3f5f"
          },
          "geo": {
           "bgcolor": "white",
           "lakecolor": "white",
           "landcolor": "#E5ECF6",
           "showlakes": true,
           "showland": true,
           "subunitcolor": "white"
          },
          "hoverlabel": {
           "align": "left"
          },
          "hovermode": "closest",
          "mapbox": {
           "style": "light"
          },
          "paper_bgcolor": "white",
          "plot_bgcolor": "#E5ECF6",
          "polar": {
           "angularaxis": {
            "gridcolor": "white",
            "linecolor": "white",
            "ticks": ""
           },
           "bgcolor": "#E5ECF6",
           "radialaxis": {
            "gridcolor": "white",
            "linecolor": "white",
            "ticks": ""
           }
          },
          "scene": {
           "xaxis": {
            "backgroundcolor": "#E5ECF6",
            "gridcolor": "white",
            "gridwidth": 2,
            "linecolor": "white",
            "showbackground": true,
            "ticks": "",
            "zerolinecolor": "white"
           },
           "yaxis": {
            "backgroundcolor": "#E5ECF6",
            "gridcolor": "white",
            "gridwidth": 2,
            "linecolor": "white",
            "showbackground": true,
            "ticks": "",
            "zerolinecolor": "white"
           },
           "zaxis": {
            "backgroundcolor": "#E5ECF6",
            "gridcolor": "white",
            "gridwidth": 2,
            "linecolor": "white",
            "showbackground": true,
            "ticks": "",
            "zerolinecolor": "white"
           }
          },
          "shapedefaults": {
           "line": {
            "color": "#2a3f5f"
           }
          },
          "ternary": {
           "aaxis": {
            "gridcolor": "white",
            "linecolor": "white",
            "ticks": ""
           },
           "baxis": {
            "gridcolor": "white",
            "linecolor": "white",
            "ticks": ""
           },
           "bgcolor": "#E5ECF6",
           "caxis": {
            "gridcolor": "white",
            "linecolor": "white",
            "ticks": ""
           }
          },
          "title": {
           "x": 0.05
          },
          "xaxis": {
           "automargin": true,
           "gridcolor": "white",
           "linecolor": "white",
           "ticks": "",
           "title": {
            "standoff": 15
           },
           "zerolinecolor": "white",
           "zerolinewidth": 2
          },
          "yaxis": {
           "automargin": true,
           "gridcolor": "white",
           "linecolor": "white",
           "ticks": "",
           "title": {
            "standoff": 15
           },
           "zerolinecolor": "white",
           "zerolinewidth": 2
          }
         }
        },
        "title": {
         "text": "Hoeveelheid bewolking per land (in percentage)"
        },
        "width": 1000
       }
      },
      "text/html": [
       "<div>            <script src=\"https://cdnjs.cloudflare.com/ajax/libs/mathjax/2.7.5/MathJax.js?config=TeX-AMS-MML_SVG\"></script><script type=\"text/javascript\">if (window.MathJax && window.MathJax.Hub && window.MathJax.Hub.Config) {window.MathJax.Hub.Config({SVG: {font: \"STIX-Web\"}});}</script>                <script type=\"text/javascript\">window.PlotlyConfig = {MathJaxConfig: 'local'};</script>\n",
       "        <script charset=\"utf-8\" src=\"https://cdn.plot.ly/plotly-3.0.1.min.js\"></script>                <div id=\"4fe323ef-c278-4d60-aef1-97f58d20f386\" class=\"plotly-graph-div\" style=\"height:600px; width:1000px;\"></div>            <script type=\"text/javascript\">                window.PLOTLYENV=window.PLOTLYENV || {};                                if (document.getElementById(\"4fe323ef-c278-4d60-aef1-97f58d20f386\")) {                    Plotly.newPlot(                        \"4fe323ef-c278-4d60-aef1-97f58d20f386\",                        [{\"coloraxis\":\"coloraxis\",\"geo\":\"geo\",\"hovertemplate\":\"country=%{location}\\u003cbr\\u003ecloud=%{z}\\u003cextra\\u003e\\u003c\\u002fextra\\u003e\",\"locationmode\":\"country names\",\"locations\":[\"Afghanistan\",\"Albania\",\"Algeria\",\"Andorra\",\"Angola\",\"Antigua and Barbuda\",\"Argentina\",\"Armenia\",\"Australia\",\"Australia\",\"Austria\",\"Azerbaijan\",\"Bahamas\",\"Bahrain\",\"Bangladesh\",\"Barbados\",\"Belarus\",\"Belgium\",\"Belize\",\"Benin\",\"Bhutan\",\"Bolivia\",\"Bosnia and Herzegovina\",\"Botswana\",\"Brazil\",\"Brazil\",\"Brunei Darussalam\",\"Bulgaria\",\"Burkina Faso\",\"Burundi\",\"B\\u00e9lgica\",\"Cambodia\",\"Cameroon\",\"Canada\",\"Cape Verde\",\"Central African Republic\",\"Chad\",\"Chile\",\"China\",\"China\",\"Colombia\",\"Comoros\",\"Congo\",\"Costa Rica\",\"Croatia\",\"Cuba\",\"Cyprus\",\"Czech Republic\",\"Democratic Republic of Congo\",\"Denmark\",\"Djibouti\",\"Dominica\",\"Dominican Republic\",\"Ecuador\",\"Egypt\",\"El Salvador\",\"Equatorial Guinea\",\"Eritrea\",\"Estonia\",\"Estonie\",\"Ethiopia\",\"Fiji Islands\",\"Finland\",\"France\",\"Gabon\",\"Gambia\",\"Georgia\",\"Germany\",\"Germany\",\"Ghana\",\"Greece\",\"Grenada\",\"Guatemala\",\"Guinea\",\"Guinea-Bissau\",\"Guyana\",\"Haiti\",\"Honduras\",\"Hungary\",\"Iceland\",\"Inde\",\"India\",\"India\",\"Indonesia\",\"Iran\",\"Iraq\",\"Ireland\",\"Israel\",\"Italy\",\"Jamaica\",\"Japan\",\"Jemen\",\"Jordan\",\"Kazakhstan\",\"Kenya\",\"Kiribati\",\"Komoren\",\"Kosovo\",\"Kuwait\",\"Kyrghyzstan\",\"Lao People's Democratic Republic\",\"Latvia\",\"Lebanon\",\"Lesotho\",\"Letonia\",\"Liberia\",\"Libya\",\"Liechtenstein\",\"Lithuania\",\"Luxembourg\",\"Macedonia\",\"Madagascar\",\"Malawi\",\"Malaysia\",\"Maldives\",\"Mali\",\"Malta\",\"Mal\\u00e1sia\",\"Marrocos\",\"Marshall Islands\",\"Mauritania\",\"Mauritius\",\"Mexico\",\"Mexique\",\"Micronesia\",\"Monaco\",\"Mongolia\",\"Montenegro\",\"Morocco\",\"Mozambique\",\"Myanmar\",\"Namibia\",\"Nepal\",\"Netherlands\",\"New Zealand\",\"Nicaragua\",\"Niger\",\"Nigeria\",\"Nigeria\",\"North Korea\",\"Norway\",\"Oman\",\"Pakistan\",\"Palau\",\"Panama\",\"Papua New Guinea\",\"Paraguay\",\"Peru\",\"Philippines\",\"Poland\",\"Pol\\u00f4nia\",\"Portugal\",\"Qatar\",\"Romania\",\"Russia\",\"Russia\",\"Rwanda\",\"Saint Kitts and Nevis\",\"Saint Lucia\",\"Saint Vincent and the Grenadines\",\"Saint-Vincent-et-les-Grenadines\",\"Samoa\",\"San Marino\",\"Saudi Arabia\",\"Saudi Arabien\",\"Senegal\",\"Serbia\",\"Seychelles Islands\",\"Sierra Leone\",\"Singapore\",\"Slovakia\",\"Slovenia\",\"Solomon Islands\",\"Somalia\",\"South Africa\",\"South Korea\",\"Spain\",\"Sri Lanka\",\"Sudan\",\"Suriname\",\"Swaziland\",\"Sweden\",\"Switzerland\",\"Syria\",\"S\\u00fcdkorea\",\"Tajikistan\",\"Tanzania\",\"Thailand\",\"Timor-Leste\",\"Togo\",\"Tonga\",\"Trinidad and Tobago\",\"Tunisia\",\"Turkey\",\"Turkmenistan\",\"Turkm\\u00e9nistan\",\"Tuvalu\",\"USA United States of America\",\"Uganda\",\"Ukraine\",\"United Arab Emirates\",\"United Kingdom\",\"United States of America\",\"Uruguay\",\"Uzbekistan\",\"Vanuatu\",\"Vatican City\",\"Venezuela\",\"Vietnam\",\"Yemen\",\"Zambia\",\"Zimbabwe\",\"\\u0413\\u0432\\u0430\\u0442\\u0435\\u043c\\u0430\\u043b\\u0430\",\"\\u041f\\u043e\\u043b\\u044c\\u0448\\u0430\",\"\\u0422\\u0443\\u0440\\u0446\\u0438\\u044f\",\"\\u0643\\u0648\\u0644\\u0648\\u0645\\u0628\\u064a\\u0627\",\"\\u706b\\u9e21\"],\"name\":\"\",\"z\":{\"dtype\":\"f8\",\"bdata\":\"U35jm1FrMEAuC76eijQ6QMZ0FtNZDDxAld\\u002fYZtQaRkC8eARMDNFIQH9I4O2HxEdAcB\\u002fBfQQ3OkC6Un5jm1E7QEwM0eH+7D9ATAzR4f7sP0BwH8F9BLdBQM9iOovp7D5AagOdNtBpTEBDdLg\\u002fO+8KQIL7CO4jGEVAq6qqqqoKSEDtvItHwMRGQHd0R3d0R0xA2yreyQ+mUkAfwX0E93FJQDaU11BeQ1BAS+m3lH5LP0CfijR9UNhDQMHXU5GmDypA+cGcx6XvQkD5wZzHpe9CQBLcR3AfgVFAaKwPjfUhQEAfwX0E95E7QMUQHe7PzkZAAAAAAADAUkCKITrcn51LQCveyQ\\u002fmPEhA5QdzHpe+TEBJ0weF1S1FQAnuI7iP4EZAag3kJHOlOEDU7HqRtVU+QFpMZzGdRSZAWkxnMZ1FJkAAAAAAAEBRQJQfzHlc+lBAoryG8hoKSEDJL5b8YslMQBwtSEDNrj1Apm9\\u002fZaLQQ0DhPoL7CC4+QPD2QwJvf0VAq3gnP5hzSECZzmI6i0lKQJG1VbyTHzVANyXVITZwS0D7IYG3H9JJQB1iA58xnEBAFtNZTGcxLUAOdNpAp41IQIKcZK6UH1BA1i0Lvp4KRUDBfQT3EfxIQAAAAAAAADlA2cBnDEcLTEDzG9uMWoNPQAAAAAAAgEVAeQRMDNHhSUCH8hrKa2hLQAhzHpe+fUJAwWcMRwsSPEAmhuhwf3ZBQCaG6HB\\u002fdkFA7s\\u002fOu3gESkCPS9\\u002f+ykQ3QCASePshgUNAa+JZ0UjAT0AN5CRzpXxNQKLD\\u002fdl5l0RAKXRTUh1iSkClOsQGPuNCQJMvGzT5slBAkrlSfmMbQEAwMUSH+3NQQAAAAAAAwFJAcx6Xvv2VQEBzHpe+\\u002fZVAQAiWebJApElANpTXUF4DNkB7KtL0QWEjQHAfwX0EZ1BA4T6C+whuLUA6i+kspvMzQOsQG\\u002fiMYUBAyVwpv7HNR0AAAAAAAABVQLtlwddTkSpAwX0E9xEcR0BVPoz7dSlQQNAYjhYkIEpAAAAAAACAS0AAAAAAAEBVQGBiiA73ZxtAQ3kN5TVURUAAAAAAAIBYQPnBnMelb0VAvYbyGsorPUAW01lMZ\\u002fEyQAAAAAAAwFVAuI\\u002fgPoLbUUAAAAAAAAAAAAAAAAAAYElAfgT3EdznSED+lYlCNyVIQMKcx6Vvf0BAEtxHcB\\u002fBOkAJmBiiw\\u002f0\\u002fQD0VafqgsEFAinMdoziXTkDYU5GmDwo+QLTzLh4BEzVAAAAAAACATUAAAAAAAAAAAG5GrYGcJFVApw8Kq1sWLkCl\\u002fMY2o9ZKQN5+SODtB0tAAAAAAAAAQEDhPoL7CF5UQILPGI4WJEFADeU1lNewQkB5DeU1lBc8QPS49O2vTEBAZa6U39hmQUAgJ5kr5bdQQJTXUF5DeRxA\\u002fAjuI7hvTUDlNZTXUF5GQJTMlfIbW0lACbz9kMCbR0DqLKazmM4xQJo+KKxuWUdAmj4orG5ZR0CQ4D6C++hAQOosprOYDkhAXBZ8PRVpLEBwH8F9BPcwQAT3EdxHgFNAPmM4WpCATkDYUF5DeW1MQFN+Y5tRazxA7ocE3n7IR0A6i+ksppNQQN2y4OupyEBAAAAAAAAAQED69lcmCt07QExnMZ3FdApAEtxHcB9BNEB\\u002f5DRfq2dFQH\\u002fkNF+rZ0VAoryG8hpKSUDlNZTXUL5EQD+C+wju40lApTrEBj7jTEAAAAAAAIBVQF3HKM51DE5A6amFlZ7aPEBVh9jAZwwTQAAAAAAAAAAA\\u002ftl5F4+APkCvobyG8to1QMF9BPcRfEhA1SE28BnDT0D9xjaj1sBPQIL7CO4juD5AizR9UFjdSUCSuVJ+YxtMQAT3EdxHEEhAU35jm1FrGED3EdxHcB87QAAAAAAAADVAdRbTWUwnTUB5DeU1lJcxQBvKayivoURAoryG8hpKOkCZzmI6i+k\\u002fQHUW01lMx0lAMZ3FdBbTJUAAAAAAAAAAAEhwH8F9xDlAlvIb24xaPkBCHdRBHdREQArdlFSH2ERAAAAAAABAVUDYU5GmD4pLQEN5DeU1tEFAdRbTWUxnPUBP7MRO7MRAQNhQXkN5zUJAAAAAAAAAAEDFEB3uz85QQKuqqqqqKkFA9xHcR3DfQkDv4hEwMURFQIGJITrcnxVA8oM5j0tfSkBwXk08K5pHQARMDNHh\\u002fkJAmj4orG5ZLEAE9xHcR5BOQKtbFnw9FTRAh9jAZwxHO0DJyMjIyFhHQAT3EdxHEEBAiiE63J+dLUAnP5jzuPQpQAAAAAAAAEdAAAAAAACAUkAAAAAAAAA5QAAAAAAAAFdAAAAAAAAAEEA=\"},\"type\":\"choropleth\"}],                        {\"template\":{\"data\":{\"histogram2dcontour\":[{\"type\":\"histogram2dcontour\",\"colorbar\":{\"outlinewidth\":0,\"ticks\":\"\"},\"colorscale\":[[0.0,\"#0d0887\"],[0.1111111111111111,\"#46039f\"],[0.2222222222222222,\"#7201a8\"],[0.3333333333333333,\"#9c179e\"],[0.4444444444444444,\"#bd3786\"],[0.5555555555555556,\"#d8576b\"],[0.6666666666666666,\"#ed7953\"],[0.7777777777777778,\"#fb9f3a\"],[0.8888888888888888,\"#fdca26\"],[1.0,\"#f0f921\"]]}],\"choropleth\":[{\"type\":\"choropleth\",\"colorbar\":{\"outlinewidth\":0,\"ticks\":\"\"}}],\"histogram2d\":[{\"type\":\"histogram2d\",\"colorbar\":{\"outlinewidth\":0,\"ticks\":\"\"},\"colorscale\":[[0.0,\"#0d0887\"],[0.1111111111111111,\"#46039f\"],[0.2222222222222222,\"#7201a8\"],[0.3333333333333333,\"#9c179e\"],[0.4444444444444444,\"#bd3786\"],[0.5555555555555556,\"#d8576b\"],[0.6666666666666666,\"#ed7953\"],[0.7777777777777778,\"#fb9f3a\"],[0.8888888888888888,\"#fdca26\"],[1.0,\"#f0f921\"]]}],\"heatmap\":[{\"type\":\"heatmap\",\"colorbar\":{\"outlinewidth\":0,\"ticks\":\"\"},\"colorscale\":[[0.0,\"#0d0887\"],[0.1111111111111111,\"#46039f\"],[0.2222222222222222,\"#7201a8\"],[0.3333333333333333,\"#9c179e\"],[0.4444444444444444,\"#bd3786\"],[0.5555555555555556,\"#d8576b\"],[0.6666666666666666,\"#ed7953\"],[0.7777777777777778,\"#fb9f3a\"],[0.8888888888888888,\"#fdca26\"],[1.0,\"#f0f921\"]]}],\"contourcarpet\":[{\"type\":\"contourcarpet\",\"colorbar\":{\"outlinewidth\":0,\"ticks\":\"\"}}],\"contour\":[{\"type\":\"contour\",\"colorbar\":{\"outlinewidth\":0,\"ticks\":\"\"},\"colorscale\":[[0.0,\"#0d0887\"],[0.1111111111111111,\"#46039f\"],[0.2222222222222222,\"#7201a8\"],[0.3333333333333333,\"#9c179e\"],[0.4444444444444444,\"#bd3786\"],[0.5555555555555556,\"#d8576b\"],[0.6666666666666666,\"#ed7953\"],[0.7777777777777778,\"#fb9f3a\"],[0.8888888888888888,\"#fdca26\"],[1.0,\"#f0f921\"]]}],\"surface\":[{\"type\":\"surface\",\"colorbar\":{\"outlinewidth\":0,\"ticks\":\"\"},\"colorscale\":[[0.0,\"#0d0887\"],[0.1111111111111111,\"#46039f\"],[0.2222222222222222,\"#7201a8\"],[0.3333333333333333,\"#9c179e\"],[0.4444444444444444,\"#bd3786\"],[0.5555555555555556,\"#d8576b\"],[0.6666666666666666,\"#ed7953\"],[0.7777777777777778,\"#fb9f3a\"],[0.8888888888888888,\"#fdca26\"],[1.0,\"#f0f921\"]]}],\"mesh3d\":[{\"type\":\"mesh3d\",\"colorbar\":{\"outlinewidth\":0,\"ticks\":\"\"}}],\"scatter\":[{\"fillpattern\":{\"fillmode\":\"overlay\",\"size\":10,\"solidity\":0.2},\"type\":\"scatter\"}],\"parcoords\":[{\"type\":\"parcoords\",\"line\":{\"colorbar\":{\"outlinewidth\":0,\"ticks\":\"\"}}}],\"scatterpolargl\":[{\"type\":\"scatterpolargl\",\"marker\":{\"colorbar\":{\"outlinewidth\":0,\"ticks\":\"\"}}}],\"bar\":[{\"error_x\":{\"color\":\"#2a3f5f\"},\"error_y\":{\"color\":\"#2a3f5f\"},\"marker\":{\"line\":{\"color\":\"#E5ECF6\",\"width\":0.5},\"pattern\":{\"fillmode\":\"overlay\",\"size\":10,\"solidity\":0.2}},\"type\":\"bar\"}],\"scattergeo\":[{\"type\":\"scattergeo\",\"marker\":{\"colorbar\":{\"outlinewidth\":0,\"ticks\":\"\"}}}],\"scatterpolar\":[{\"type\":\"scatterpolar\",\"marker\":{\"colorbar\":{\"outlinewidth\":0,\"ticks\":\"\"}}}],\"histogram\":[{\"marker\":{\"pattern\":{\"fillmode\":\"overlay\",\"size\":10,\"solidity\":0.2}},\"type\":\"histogram\"}],\"scattergl\":[{\"type\":\"scattergl\",\"marker\":{\"colorbar\":{\"outlinewidth\":0,\"ticks\":\"\"}}}],\"scatter3d\":[{\"type\":\"scatter3d\",\"line\":{\"colorbar\":{\"outlinewidth\":0,\"ticks\":\"\"}},\"marker\":{\"colorbar\":{\"outlinewidth\":0,\"ticks\":\"\"}}}],\"scattermap\":[{\"type\":\"scattermap\",\"marker\":{\"colorbar\":{\"outlinewidth\":0,\"ticks\":\"\"}}}],\"scattermapbox\":[{\"type\":\"scattermapbox\",\"marker\":{\"colorbar\":{\"outlinewidth\":0,\"ticks\":\"\"}}}],\"scatterternary\":[{\"type\":\"scatterternary\",\"marker\":{\"colorbar\":{\"outlinewidth\":0,\"ticks\":\"\"}}}],\"scattercarpet\":[{\"type\":\"scattercarpet\",\"marker\":{\"colorbar\":{\"outlinewidth\":0,\"ticks\":\"\"}}}],\"carpet\":[{\"aaxis\":{\"endlinecolor\":\"#2a3f5f\",\"gridcolor\":\"white\",\"linecolor\":\"white\",\"minorgridcolor\":\"white\",\"startlinecolor\":\"#2a3f5f\"},\"baxis\":{\"endlinecolor\":\"#2a3f5f\",\"gridcolor\":\"white\",\"linecolor\":\"white\",\"minorgridcolor\":\"white\",\"startlinecolor\":\"#2a3f5f\"},\"type\":\"carpet\"}],\"table\":[{\"cells\":{\"fill\":{\"color\":\"#EBF0F8\"},\"line\":{\"color\":\"white\"}},\"header\":{\"fill\":{\"color\":\"#C8D4E3\"},\"line\":{\"color\":\"white\"}},\"type\":\"table\"}],\"barpolar\":[{\"marker\":{\"line\":{\"color\":\"#E5ECF6\",\"width\":0.5},\"pattern\":{\"fillmode\":\"overlay\",\"size\":10,\"solidity\":0.2}},\"type\":\"barpolar\"}],\"pie\":[{\"automargin\":true,\"type\":\"pie\"}]},\"layout\":{\"autotypenumbers\":\"strict\",\"colorway\":[\"#636efa\",\"#EF553B\",\"#00cc96\",\"#ab63fa\",\"#FFA15A\",\"#19d3f3\",\"#FF6692\",\"#B6E880\",\"#FF97FF\",\"#FECB52\"],\"font\":{\"color\":\"#2a3f5f\"},\"hovermode\":\"closest\",\"hoverlabel\":{\"align\":\"left\"},\"paper_bgcolor\":\"white\",\"plot_bgcolor\":\"#E5ECF6\",\"polar\":{\"bgcolor\":\"#E5ECF6\",\"angularaxis\":{\"gridcolor\":\"white\",\"linecolor\":\"white\",\"ticks\":\"\"},\"radialaxis\":{\"gridcolor\":\"white\",\"linecolor\":\"white\",\"ticks\":\"\"}},\"ternary\":{\"bgcolor\":\"#E5ECF6\",\"aaxis\":{\"gridcolor\":\"white\",\"linecolor\":\"white\",\"ticks\":\"\"},\"baxis\":{\"gridcolor\":\"white\",\"linecolor\":\"white\",\"ticks\":\"\"},\"caxis\":{\"gridcolor\":\"white\",\"linecolor\":\"white\",\"ticks\":\"\"}},\"coloraxis\":{\"colorbar\":{\"outlinewidth\":0,\"ticks\":\"\"}},\"colorscale\":{\"sequential\":[[0.0,\"#0d0887\"],[0.1111111111111111,\"#46039f\"],[0.2222222222222222,\"#7201a8\"],[0.3333333333333333,\"#9c179e\"],[0.4444444444444444,\"#bd3786\"],[0.5555555555555556,\"#d8576b\"],[0.6666666666666666,\"#ed7953\"],[0.7777777777777778,\"#fb9f3a\"],[0.8888888888888888,\"#fdca26\"],[1.0,\"#f0f921\"]],\"sequentialminus\":[[0.0,\"#0d0887\"],[0.1111111111111111,\"#46039f\"],[0.2222222222222222,\"#7201a8\"],[0.3333333333333333,\"#9c179e\"],[0.4444444444444444,\"#bd3786\"],[0.5555555555555556,\"#d8576b\"],[0.6666666666666666,\"#ed7953\"],[0.7777777777777778,\"#fb9f3a\"],[0.8888888888888888,\"#fdca26\"],[1.0,\"#f0f921\"]],\"diverging\":[[0,\"#8e0152\"],[0.1,\"#c51b7d\"],[0.2,\"#de77ae\"],[0.3,\"#f1b6da\"],[0.4,\"#fde0ef\"],[0.5,\"#f7f7f7\"],[0.6,\"#e6f5d0\"],[0.7,\"#b8e186\"],[0.8,\"#7fbc41\"],[0.9,\"#4d9221\"],[1,\"#276419\"]]},\"xaxis\":{\"gridcolor\":\"white\",\"linecolor\":\"white\",\"ticks\":\"\",\"title\":{\"standoff\":15},\"zerolinecolor\":\"white\",\"automargin\":true,\"zerolinewidth\":2},\"yaxis\":{\"gridcolor\":\"white\",\"linecolor\":\"white\",\"ticks\":\"\",\"title\":{\"standoff\":15},\"zerolinecolor\":\"white\",\"automargin\":true,\"zerolinewidth\":2},\"scene\":{\"xaxis\":{\"backgroundcolor\":\"#E5ECF6\",\"gridcolor\":\"white\",\"linecolor\":\"white\",\"showbackground\":true,\"ticks\":\"\",\"zerolinecolor\":\"white\",\"gridwidth\":2},\"yaxis\":{\"backgroundcolor\":\"#E5ECF6\",\"gridcolor\":\"white\",\"linecolor\":\"white\",\"showbackground\":true,\"ticks\":\"\",\"zerolinecolor\":\"white\",\"gridwidth\":2},\"zaxis\":{\"backgroundcolor\":\"#E5ECF6\",\"gridcolor\":\"white\",\"linecolor\":\"white\",\"showbackground\":true,\"ticks\":\"\",\"zerolinecolor\":\"white\",\"gridwidth\":2}},\"shapedefaults\":{\"line\":{\"color\":\"#2a3f5f\"}},\"annotationdefaults\":{\"arrowcolor\":\"#2a3f5f\",\"arrowhead\":0,\"arrowwidth\":1},\"geo\":{\"bgcolor\":\"white\",\"landcolor\":\"#E5ECF6\",\"subunitcolor\":\"white\",\"showland\":true,\"showlakes\":true,\"lakecolor\":\"white\"},\"title\":{\"x\":0.05},\"mapbox\":{\"style\":\"light\"}}},\"geo\":{\"domain\":{\"x\":[0.0,1.0],\"y\":[0.0,1.0]},\"center\":{},\"projection\":{\"type\":\"natural earth\"}},\"coloraxis\":{\"colorbar\":{\"title\":{\"text\":\"cloud\"}},\"colorscale\":[[0.0,\"#fee838\"],[0.1111111111111111,\"#e1cc55\"],[0.2222222222222222,\"#c3b369\"],[0.3333333333333333,\"#a59c74\"],[0.4444444444444444,\"#8a8678\"],[0.5555555555555556,\"#707173\"],[0.6666666666666666,\"#575d6d\"],[0.7777777777777778,\"#3b496c\"],[0.8888888888888888,\"#123570\"],[1.0,\"#00224e\"]]},\"legend\":{\"tracegroupgap\":0},\"title\":{\"text\":\"Hoeveelheid bewolking per land (in percentage)\"},\"width\":1000,\"height\":600},                        {\"responsive\": true}                    ).then(function(){\n",
       "                            \n",
       "var gd = document.getElementById('4fe323ef-c278-4d60-aef1-97f58d20f386');\n",
       "var x = new MutationObserver(function (mutations, observer) {{\n",
       "        var display = window.getComputedStyle(gd).display;\n",
       "        if (!display || display === 'none') {{\n",
       "            console.log([gd, 'removed!']);\n",
       "            Plotly.purge(gd);\n",
       "            observer.disconnect();\n",
       "        }}\n",
       "}});\n",
       "\n",
       "// Listen for the removal of the full notebook cells\n",
       "var notebookContainer = gd.closest('#notebook-container');\n",
       "if (notebookContainer) {{\n",
       "    x.observe(notebookContainer, {childList: true});\n",
       "}}\n",
       "\n",
       "// Listen for the clearing of the current output cell\n",
       "var outputEl = gd.closest('.output');\n",
       "if (outputEl) {{\n",
       "    x.observe(outputEl, {childList: true});\n",
       "}}\n",
       "\n",
       "                        })                };            </script>        </div>"
      ]
     },
     "metadata": {},
     "output_type": "display_data"
    }
   ],
   "source": [
    "zonfig = px.choropleth(\n",
    "    df123,\n",
    "    locations='country',\n",
    "    locationmode='country names',\n",
    "    color='cloud',\n",
    "    color_continuous_scale='Cividis_r',\n",
    "    title='Hoeveelheid bewolking per land (in percentage)'\n",
    ")\n",
    "\n",
    "# Adjust size\n",
    "zonfig.update_layout(width=1000, height=600)\n",
    "\n",
    "# Adjust projection & zoom\n",
    "zonfig.update_geos(projection_type='natural earth')\n",
    "\n",
    "zonfig.show()"
   ]
  },
  {
   "cell_type": "markdown",
   "id": "f07d4a62-ad4f-4fd3-84ad-3540363a03fb",
   "metadata": {},
   "source": [
    "> *Figuur X: Vivamus elementum semper nisi. Aenean vulputate eleifend tellus. Aenean leo ligula, porttitor eu, consequat vitae, eleifend ac, enim. Aliquam lorem ante, dapibus in, viverra quis, feugiat a, tellus.*"
   ]
  },
  {
   "cell_type": "code",
   "execution_count": 9,
   "id": "9efe362b-87bf-499f-954c-691e3b3efaac",
   "metadata": {},
   "outputs": [
    {
     "data": {
      "application/vnd.plotly.v1+json": {
       "config": {
        "plotlyServerURL": "https://plot.ly"
       },
       "data": [
        {
         "hovertemplate": "<b>%{hovertext}</b><br><br>Gemiddelde temperatuur (°C)=%{marker.color}<br>Geluksscore=%{y}<extra></extra>",
         "hovertext": [
          "Afghanistan",
          "Albania",
          "Algeria",
          "Andorra",
          "Angola",
          "Antigua and Barbuda",
          "Argentina",
          "Armenia",
          "Australia",
          "Australia",
          "Austria",
          "Azerbaijan",
          "Bahamas",
          "Bahrain",
          "Bangladesh",
          "Barbados",
          "Belarus",
          "Belgium",
          "Belize",
          "Benin",
          "Bhutan",
          "Bolivia",
          "Bosnia and Herzegovina",
          "Botswana",
          "Brazil",
          "Brazil",
          "Brunei Darussalam",
          "Bulgaria",
          "Burkina Faso",
          "Burundi",
          "Bélgica",
          "Cambodia",
          "Cameroon",
          "Canada",
          "Cape Verde",
          "Central African Republic",
          "Chad",
          "Chile",
          "China",
          "China",
          "Colombia",
          "Comoros",
          "Congo",
          "Costa Rica",
          "Croatia",
          "Cuba",
          "Cyprus",
          "Czech Republic",
          "Democratic Republic of Congo",
          "Denmark",
          "Djibouti",
          "Dominica",
          "Dominican Republic",
          "Ecuador",
          "Egypt",
          "El Salvador",
          "Equatorial Guinea",
          "Eritrea",
          "Estonia",
          "Estonie",
          "Ethiopia",
          "Fiji Islands",
          "Finland",
          "France",
          "Gabon",
          "Gambia",
          "Georgia",
          "Germany",
          "Germany",
          "Ghana",
          "Greece",
          "Grenada",
          "Guatemala",
          "Guinea",
          "Guinea-Bissau",
          "Guyana",
          "Haiti",
          "Honduras",
          "Hungary",
          "Iceland",
          "Inde",
          "India",
          "India",
          "Indonesia",
          "Iran",
          "Iraq",
          "Ireland",
          "Israel",
          "Italy",
          "Jamaica",
          "Japan",
          "Jemen",
          "Jordan",
          "Kazakhstan",
          "Kenya",
          "Kiribati",
          "Komoren",
          "Kosovo",
          "Kuwait",
          "Kyrghyzstan",
          "Lao People's Democratic Republic",
          "Latvia",
          "Lebanon",
          "Lesotho",
          "Letonia",
          "Liberia",
          "Libya",
          "Liechtenstein",
          "Lithuania",
          "Luxembourg",
          "Macedonia",
          "Madagascar",
          "Malawi",
          "Malaysia",
          "Maldives",
          "Mali",
          "Malta",
          "Malásia",
          "Marrocos",
          "Marshall Islands",
          "Mauritania",
          "Mauritius",
          "Mexico",
          "Mexique",
          "Micronesia",
          "Monaco",
          "Mongolia",
          "Montenegro",
          "Morocco",
          "Mozambique",
          "Myanmar",
          "Namibia",
          "Nepal",
          "Netherlands",
          "New Zealand",
          "Nicaragua",
          "Niger",
          "Nigeria",
          "Nigeria",
          "North Korea",
          "Norway",
          "Oman",
          "Pakistan",
          "Palau",
          "Panama",
          "Papua New Guinea",
          "Paraguay",
          "Peru",
          "Philippines",
          "Poland",
          "Polônia",
          "Portugal",
          "Qatar",
          "Romania",
          "Russia",
          "Russia",
          "Rwanda",
          "Saint Kitts and Nevis",
          "Saint Lucia",
          "Saint Vincent and the Grenadines",
          "Saint-Vincent-et-les-Grenadines",
          "Samoa",
          "San Marino",
          "Saudi Arabia",
          "Saudi Arabien",
          "Senegal",
          "Serbia",
          "Seychelles Islands",
          "Sierra Leone",
          "Singapore",
          "Slovakia",
          "Slovenia",
          "Solomon Islands",
          "Somalia",
          "South Africa",
          "South Korea",
          "Spain",
          "Sri Lanka",
          "Sudan",
          "Suriname",
          "Swaziland",
          "Sweden",
          "Switzerland",
          "Syria",
          "Südkorea",
          "Tajikistan",
          "Tanzania",
          "Thailand",
          "Timor-Leste",
          "Togo",
          "Tonga",
          "Trinidad and Tobago",
          "Tunisia",
          "Turkey",
          "Turkmenistan",
          "Turkménistan",
          "Tuvalu",
          "USA United States of America",
          "Uganda",
          "Ukraine",
          "United Arab Emirates",
          "United Kingdom",
          "United States of America",
          "Uruguay",
          "Uzbekistan",
          "Vanuatu",
          "Vatican City",
          "Venezuela",
          "Vietnam",
          "Yemen",
          "Zambia",
          "Zimbabwe",
          "Гватемала",
          "Польша",
          "Турция",
          "كولومبيا",
          "火鸡"
         ],
         "legendgroup": "",
         "marker": {
          "color": {
           "_inputArray": {
            "0": 22.69694323144105,
            "1": 25.02227074235808,
            "10": 18.178947368421053,
            "100": 25,
            "101": 15.704405286343613,
            "102": 25.969736842105263,
            "103": 21.133333333333333,
            "104": 20.6,
            "105": 27.108771929824563,
            "106": 27,
            "107": 13.82719298245614,
            "108": 15.525877192982456,
            "109": 14.411013215859032,
            "11": 22.427192982456138,
            "110": 23.333920704845816,
            "111": 27.181140350877193,
            "112": 27.13231441048035,
            "113": 28.33711790393013,
            "114": 28.081858407079647,
            "115": 29.43580786026201,
            "116": 25.733624454148472,
            "117": 24.3,
            "118": 40.3,
            "119": 28.33231441048035,
            "12": 26.91911111111111,
            "120": 26.358515283842795,
            "121": 25.01528384279476,
            "122": 14.369911504424778,
            "123": 27.4,
            "124": 27.435087719298245,
            "125": 21.047577092511013,
            "126": 5.561842105263158,
            "127": 23.79605263157895,
            "128": 22.718502202643172,
            "129": 26.868995633187772,
            "13": 32.7117903930131,
            "130": 28.606550218340608,
            "131": 25.891666666666666,
            "132": 22.147368421052633,
            "133": 15.667543859649122,
            "134": 12.035807860262008,
            "135": 24.383185840707966,
            "136": 31.850438596491227,
            "137": 29.04934497816594,
            "138": 29.04934497816594,
            "139": 16.15657894736842,
            "14": 29.846491228070175,
            "140": 10.679385964912282,
            "141": 32.57510917030567,
            "142": 30.546491228070177,
            "143": 27.63421052631579,
            "144": 25.83832599118943,
            "145": 25.90921052631579,
            "146": 21.127947598253275,
            "147": 16.539823008849556,
            "148": 29.045614035087716,
            "149": 17.57117903930131,
            "15": 28.227192982456142,
            "150": 27.7,
            "151": 20.751541850220267,
            "152": 35.14035087719298,
            "153": 21.954385964912284,
            "154": 15.618181818181817,
            "155": 15.618181818181817,
            "156": 26.521491228070175,
            "157": 28.28377192982456,
            "158": 28.046491228070177,
            "159": 28.69647577092511,
            "16": 15.893013100436681,
            "160": 27.8,
            "161": 25.509734513274335,
            "162": 20.953982300884956,
            "163": 36.25550660792952,
            "164": 45,
            "165": 27.32532751091703,
            "166": 21.262719298245614,
            "167": 27.90921052631579,
            "168": 26.97973568281938,
            "169": 28.80655021834061,
            "17": 15.645934065934066,
            "170": 18.553947368421053,
            "171": 18.26375545851528,
            "172": 26.078602620087338,
            "173": 28.678947368421053,
            "174": 23.500873362445414,
            "175": 18.56315789473684,
            "176": 21.760087719298248,
            "177": 29.078070175438597,
            "178": 32.60087719298246,
            "179": 25.850438596491227,
            "18": 24.026872246696037,
            "180": 23.769298245614035,
            "181": 14.560964912280703,
            "182": 15.997368421052633,
            "183": 28.618859649122808,
            "184": 26.1,
            "185": 24.714473684210525,
            "186": 28.039737991266378,
            "187": 29.27098901098901,
            "188": 25.670484581497796,
            "189": 27.9,
            "19": 29.106578947368423,
            "190": 22.747598253275108,
            "191": 26.825438596491228,
            "192": 27.042543859649122,
            "193": 23.3632967032967,
            "194": 26.25482456140351,
            "195": 37.8,
            "196": 28.666812227074235,
            "197": 24.53333333333333,
            "198": 26.473684210526315,
            "199": 18.504366812227076,
            "2": 25.15438596491228,
            "20": 12.683333333333334,
            "200": 33.93973799126638,
            "201": 15.58590308370044,
            "202": 9.506222222222222,
            "203": 13.151528384279475,
            "204": 24.602183406113536,
            "205": 23.385964912280702,
            "206": 24.024454148471616,
            "207": 23.02863436123348,
            "208": 26.532107843137254,
            "209": 23.580701754385963,
            "21": 18.28580931263858,
            "210": 28.12227074235808,
            "211": 26.427312775330396,
            "212": 15.9,
            "213": 24.2,
            "214": 34,
            "215": 23.1,
            "216": 29.7,
            "22": 19.579912663755458,
            "23": 27.055458515283842,
            "24": 26.856828193832598,
            "25": 26.856828193832598,
            "26": 28.01359649122807,
            "27": 21.499795918367347,
            "28": 30.583771929824564,
            "29": 27.496943231441048,
            "3": 14.105676855895195,
            "30": 17.4,
            "31": 29.799126637554586,
            "32": 24.986784140969164,
            "33": 11.045374449339208,
            "34": 26.71004366812227,
            "35": 30.84780701754386,
            "36": 31.689956331877728,
            "37": 9.398678414096917,
            "38": 19.4390350877193,
            "39": 19.4390350877193,
            "4": 26.33580786026201,
            "40": 13.5,
            "41": 25.76035242290749,
            "42": 29.773684210526316,
            "43": 18.223555555555556,
            "44": 20.00088105726872,
            "45": 25.40352422907489,
            "46": 28.92105263157895,
            "47": 16.326106194690265,
            "48": 29.662114537444936,
            "49": 14.864473684210527,
            "5": 27.93185840707965,
            "50": 33.71674008810572,
            "51": 27.931277533039648,
            "52": 25.70486725663717,
            "53": 11.094273127753304,
            "54": 30.751315789473686,
            "55": 22.07466666666667,
            "56": 27.134497816593885,
            "57": 21.824890829694322,
            "58": 14.368421052631579,
            "59": 23.3,
            "6": 13.177631578947368,
            "60": 20.505286343612333,
            "61": 23.397816593886464,
            "62": 14.239737991266376,
            "63": 16.955458515283844,
            "64": 27.61798245614035,
            "65": 28.163876651982378,
            "66": 21.36079295154185,
            "67": 17.211353711790395,
            "68": 17.211353711790395,
            "69": 28.25720524017467,
            "7": 22.62052401746725,
            "70": 26.6784140969163,
            "71": 28.207964601769913,
            "72": 17.41111111111111,
            "73": 26.956768558951968,
            "74": 28.360698689956333,
            "75": 26.024229074889867,
            "76": 24.97180616740088,
            "77": 18.90929203539823,
            "78": 19.74235807860262,
            "79": 6.769432314410481,
            "8": 9.911790393013101,
            "80": 31.2,
            "81": 32.13348017621146,
            "82": 32.13348017621146,
            "83": 26.808496732026146,
            "84": 23.588815789473685,
            "85": 35.33580786026201,
            "86": 13.483771929824563,
            "87": 25.742105263157892,
            "88": 24.035087719298247,
            "89": 28.027753303964758,
            "9": 9.911790393013101,
            "90": 22.009606986899563,
            "91": 26.1,
            "92": 26.631004366812228,
            "93": 12.075877192982457,
            "94": 23.30086956521739,
            "95": 28.37224669603524,
            "96": 25.2,
            "97": 29.3,
            "98": 35.68296943231441,
            "99": 18.375877192982454,
            "bdata": "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",
            "dtype": "f8",
            "shape": "217"
           },
           "bdata": "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",
           "dtype": "f8"
          },
          "coloraxis": "coloraxis",
          "symbol": "circle"
         },
         "mode": "markers",
         "name": "",
         "orientation": "v",
         "showlegend": false,
         "type": "scatter",
         "x": {
          "_inputArray": {
           "0": 22.69694323144105,
           "1": 25.02227074235808,
           "10": 18.178947368421053,
           "100": 25,
           "101": 15.704405286343613,
           "102": 25.969736842105263,
           "103": 21.133333333333333,
           "104": 20.6,
           "105": 27.108771929824563,
           "106": 27,
           "107": 13.82719298245614,
           "108": 15.525877192982456,
           "109": 14.411013215859032,
           "11": 22.427192982456138,
           "110": 23.333920704845816,
           "111": 27.181140350877193,
           "112": 27.13231441048035,
           "113": 28.33711790393013,
           "114": 28.081858407079647,
           "115": 29.43580786026201,
           "116": 25.733624454148472,
           "117": 24.3,
           "118": 40.3,
           "119": 28.33231441048035,
           "12": 26.91911111111111,
           "120": 26.358515283842795,
           "121": 25.01528384279476,
           "122": 14.369911504424778,
           "123": 27.4,
           "124": 27.435087719298245,
           "125": 21.047577092511013,
           "126": 5.561842105263158,
           "127": 23.79605263157895,
           "128": 22.718502202643172,
           "129": 26.868995633187772,
           "13": 32.7117903930131,
           "130": 28.606550218340608,
           "131": 25.891666666666666,
           "132": 22.147368421052633,
           "133": 15.667543859649122,
           "134": 12.035807860262008,
           "135": 24.383185840707966,
           "136": 31.850438596491227,
           "137": 29.04934497816594,
           "138": 29.04934497816594,
           "139": 16.15657894736842,
           "14": 29.846491228070175,
           "140": 10.679385964912282,
           "141": 32.57510917030567,
           "142": 30.546491228070177,
           "143": 27.63421052631579,
           "144": 25.83832599118943,
           "145": 25.90921052631579,
           "146": 21.127947598253275,
           "147": 16.539823008849556,
           "148": 29.045614035087716,
           "149": 17.57117903930131,
           "15": 28.227192982456142,
           "150": 27.7,
           "151": 20.751541850220267,
           "152": 35.14035087719298,
           "153": 21.954385964912284,
           "154": 15.618181818181817,
           "155": 15.618181818181817,
           "156": 26.521491228070175,
           "157": 28.28377192982456,
           "158": 28.046491228070177,
           "159": 28.69647577092511,
           "16": 15.893013100436681,
           "160": 27.8,
           "161": 25.509734513274335,
           "162": 20.953982300884956,
           "163": 36.25550660792952,
           "164": 45,
           "165": 27.32532751091703,
           "166": 21.262719298245614,
           "167": 27.90921052631579,
           "168": 26.97973568281938,
           "169": 28.80655021834061,
           "17": 15.645934065934066,
           "170": 18.553947368421053,
           "171": 18.26375545851528,
           "172": 26.078602620087338,
           "173": 28.678947368421053,
           "174": 23.500873362445414,
           "175": 18.56315789473684,
           "176": 21.760087719298248,
           "177": 29.078070175438597,
           "178": 32.60087719298246,
           "179": 25.850438596491227,
           "18": 24.026872246696037,
           "180": 23.769298245614035,
           "181": 14.560964912280703,
           "182": 15.997368421052633,
           "183": 28.618859649122808,
           "184": 26.1,
           "185": 24.714473684210525,
           "186": 28.039737991266378,
           "187": 29.27098901098901,
           "188": 25.670484581497796,
           "189": 27.9,
           "19": 29.106578947368423,
           "190": 22.747598253275108,
           "191": 26.825438596491228,
           "192": 27.042543859649122,
           "193": 23.3632967032967,
           "194": 26.25482456140351,
           "195": 37.8,
           "196": 28.666812227074235,
           "197": 24.53333333333333,
           "198": 26.473684210526315,
           "199": 18.504366812227076,
           "2": 25.15438596491228,
           "20": 12.683333333333334,
           "200": 33.93973799126638,
           "201": 15.58590308370044,
           "202": 9.506222222222222,
           "203": 13.151528384279475,
           "204": 24.602183406113536,
           "205": 23.385964912280702,
           "206": 24.024454148471616,
           "207": 23.02863436123348,
           "208": 26.532107843137254,
           "209": 23.580701754385963,
           "21": 18.28580931263858,
           "210": 28.12227074235808,
           "211": 26.427312775330396,
           "212": 15.9,
           "213": 24.2,
           "214": 34,
           "215": 23.1,
           "216": 29.7,
           "22": 19.579912663755458,
           "23": 27.055458515283842,
           "24": 26.856828193832598,
           "25": 26.856828193832598,
           "26": 28.01359649122807,
           "27": 21.499795918367347,
           "28": 30.583771929824564,
           "29": 27.496943231441048,
           "3": 14.105676855895195,
           "30": 17.4,
           "31": 29.799126637554586,
           "32": 24.986784140969164,
           "33": 11.045374449339208,
           "34": 26.71004366812227,
           "35": 30.84780701754386,
           "36": 31.689956331877728,
           "37": 9.398678414096917,
           "38": 19.4390350877193,
           "39": 19.4390350877193,
           "4": 26.33580786026201,
           "40": 13.5,
           "41": 25.76035242290749,
           "42": 29.773684210526316,
           "43": 18.223555555555556,
           "44": 20.00088105726872,
           "45": 25.40352422907489,
           "46": 28.92105263157895,
           "47": 16.326106194690265,
           "48": 29.662114537444936,
           "49": 14.864473684210527,
           "5": 27.93185840707965,
           "50": 33.71674008810572,
           "51": 27.931277533039648,
           "52": 25.70486725663717,
           "53": 11.094273127753304,
           "54": 30.751315789473686,
           "55": 22.07466666666667,
           "56": 27.134497816593885,
           "57": 21.824890829694322,
           "58": 14.368421052631579,
           "59": 23.3,
           "6": 13.177631578947368,
           "60": 20.505286343612333,
           "61": 23.397816593886464,
           "62": 14.239737991266376,
           "63": 16.955458515283844,
           "64": 27.61798245614035,
           "65": 28.163876651982378,
           "66": 21.36079295154185,
           "67": 17.211353711790395,
           "68": 17.211353711790395,
           "69": 28.25720524017467,
           "7": 22.62052401746725,
           "70": 26.6784140969163,
           "71": 28.207964601769913,
           "72": 17.41111111111111,
           "73": 26.956768558951968,
           "74": 28.360698689956333,
           "75": 26.024229074889867,
           "76": 24.97180616740088,
           "77": 18.90929203539823,
           "78": 19.74235807860262,
           "79": 6.769432314410481,
           "8": 9.911790393013101,
           "80": 31.2,
           "81": 32.13348017621146,
           "82": 32.13348017621146,
           "83": 26.808496732026146,
           "84": 23.588815789473685,
           "85": 35.33580786026201,
           "86": 13.483771929824563,
           "87": 25.742105263157892,
           "88": 24.035087719298247,
           "89": 28.027753303964758,
           "9": 9.911790393013101,
           "90": 22.009606986899563,
           "91": 26.1,
           "92": 26.631004366812228,
           "93": 12.075877192982457,
           "94": 23.30086956521739,
           "95": 28.37224669603524,
           "96": 25.2,
           "97": 29.3,
           "98": 35.68296943231441,
           "99": 18.375877192982454,
           "bdata": "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",
           "dtype": "f8",
           "shape": "217"
          },
          "bdata": "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",
          "dtype": "f8"
         },
         "xaxis": "x",
         "y": {
          "_inputArray": {
           "0": 1.721,
           "1": 5.304,
           "10": 6.905,
           "100": null,
           "101": 6.234,
           "102": 2.707,
           "103": 3.186,
           "104": null,
           "105": 4.269,
           "106": 5.866,
           "107": null,
           "108": 6.818,
           "109": 7.122,
           "11": 4.893,
           "110": null,
           "111": 4.228,
           "112": 3.421,
           "113": 5.975,
           "114": null,
           "115": 4.232,
           "116": 6.346,
           "117": null,
           "118": null,
           "119": null,
           "12": null,
           "120": 4.505,
           "121": 5.816,
           "122": 6.678,
           "123": null,
           "124": null,
           "125": null,
           "126": 5.696,
           "127": 5.707,
           "128": 4.795,
           "129": 5.216,
           "13": 5.959,
           "130": 4.354,
           "131": 4.832,
           "132": 5.158,
           "133": 7.319,
           "134": 7.029,
           "135": 6.284,
           "136": 4.556,
           "137": 4.881,
           "138": 4.881,
           "139": null,
           "14": 3.886,
           "140": 7.302,
           "141": null,
           "142": 4.657,
           "143": null,
           "144": 6.358,
           "145": null,
           "146": 5.977,
           "147": 5.841,
           "148": 6.048,
           "149": 6.442,
           "15": null,
           "150": null,
           "151": 6.03,
           "152": null,
           "153": 6.491,
           "154": 5.785,
           "155": 5.785,
           "156": null,
           "157": null,
           "158": null,
           "159": null,
           "16": null,
           "160": null,
           "161": null,
           "162": null,
           "163": 6.594,
           "164": null,
           "165": 4.969,
           "166": 6.411,
           "167": null,
           "168": 3.245,
           "169": 6.523,
           "17": 6.894,
           "170": 6.257,
           "171": 6.743,
           "172": null,
           "173": null,
           "174": 5.422,
           "175": 6.058,
           "176": 6.421,
           "177": 3.898,
           "178": null,
           "179": null,
           "18": null,
           "180": null,
           "181": 7.344,
           "182": 7.06,
           "183": null,
           "184": null,
           "185": 5.281,
           "186": 3.781,
           "187": 5.976,
           "188": null,
           "189": 4.214,
           "19": 4.377,
           "190": null,
           "191": null,
           "192": 4.422,
           "193": null,
           "194": null,
           "195": null,
           "196": null,
           "197": null,
           "198": 4.372,
           "199": 4.873,
           "2": 5.364,
           "20": null,
           "200": 6.733,
           "201": 6.749,
           "202": null,
           "203": 6.611,
           "204": 6.195,
           "205": null,
           "206": null,
           "207": 5.607,
           "208": 6.043,
           "209": 3.561,
           "21": 5.784,
           "210": 3.502,
           "211": 3.341,
           "212": null,
           "213": null,
           "214": null,
           "215": null,
           "216": null,
           "22": 5.877,
           "23": 3.383,
           "24": 6.272,
           "25": 6.272,
           "26": null,
           "27": 5.463,
           "28": 4.548,
           "29": null,
           "3": null,
           "30": null,
           "31": 4.341,
           "32": 4.874,
           "33": 6.9,
           "34": null,
           "35": null,
           "36": 4.471,
           "37": 6.36,
           "38": 5.973,
           "39": 5.973,
           "4": null,
           "40": 5.695,
           "41": 3.566,
           "42": null,
           "43": 6.955,
           "44": 5.942,
           "45": null,
           "46": 6.068,
           "47": null,
           "48": null,
           "49": 7.583,
           "5": null,
           "50": null,
           "51": null,
           "52": 5.823,
           "53": 5.725,
           "54": 3.977,
           "55": 6.469,
           "56": null,
           "57": null,
           "58": 6.448,
           "59": null,
           "6": 6.188,
           "60": 3.861,
           "61": null,
           "62": 7.741,
           "63": 6.609,
           "64": 5.106,
           "65": 4.485,
           "66": 5.185,
           "67": 6.719,
           "68": 6.719,
           "69": 4.289,
           "7": 5.455,
           "70": 5.934,
           "71": null,
           "72": 6.287,
           "73": 5.023,
           "74": null,
           "75": null,
           "76": null,
           "77": 5.968,
           "78": 6.017,
           "79": 7.525,
           "8": 7.057,
           "80": null,
           "81": 4.054,
           "82": 4.054,
           "83": 5.568,
           "84": 4.923,
           "85": 5.166,
           "86": 6.838,
           "87": 7.341,
           "88": 6.324,
           "89": 5.842,
           "9": 7.057,
           "90": 6.06,
           "91": null,
           "92": 4.186,
           "93": 6.188,
           "94": 4.47,
           "95": null,
           "96": null,
           "97": 6.561,
           "98": 6.951,
           "99": null,
           "bdata": "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",
           "dtype": "f8",
           "shape": "217"
          },
          "bdata": "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",
          "dtype": "f8"
         },
         "yaxis": "y"
        }
       ],
       "layout": {
        "coloraxis": {
         "colorbar": {
          "title": {
           "text": "Gemiddelde temperatuur (°C)"
          }
         },
         "colorscale": [
          [
           0,
           "rgb(3, 35, 51)"
          ],
          [
           0.09090909090909091,
           "rgb(13, 48, 100)"
          ],
          [
           0.18181818181818182,
           "rgb(53, 50, 155)"
          ],
          [
           0.2727272727272727,
           "rgb(93, 62, 153)"
          ],
          [
           0.36363636363636365,
           "rgb(126, 77, 143)"
          ],
          [
           0.45454545454545453,
           "rgb(158, 89, 135)"
          ],
          [
           0.5454545454545454,
           "rgb(193, 100, 121)"
          ],
          [
           0.6363636363636364,
           "rgb(225, 113, 97)"
          ],
          [
           0.7272727272727273,
           "rgb(246, 139, 69)"
          ],
          [
           0.8181818181818182,
           "rgb(251, 173, 60)"
          ],
          [
           0.9090909090909091,
           "rgb(246, 211, 70)"
          ],
          [
           1,
           "rgb(231, 250, 90)"
          ]
         ]
        },
        "height": 600,
        "legend": {
         "tracegroupgap": 0
        },
        "template": {
         "data": {
          "bar": [
           {
            "error_x": {
             "color": "#2a3f5f"
            },
            "error_y": {
             "color": "#2a3f5f"
            },
            "marker": {
             "line": {
              "color": "#E5ECF6",
              "width": 0.5
             },
             "pattern": {
              "fillmode": "overlay",
              "size": 10,
              "solidity": 0.2
             }
            },
            "type": "bar"
           }
          ],
          "barpolar": [
           {
            "marker": {
             "line": {
              "color": "#E5ECF6",
              "width": 0.5
             },
             "pattern": {
              "fillmode": "overlay",
              "size": 10,
              "solidity": 0.2
             }
            },
            "type": "barpolar"
           }
          ],
          "carpet": [
           {
            "aaxis": {
             "endlinecolor": "#2a3f5f",
             "gridcolor": "white",
             "linecolor": "white",
             "minorgridcolor": "white",
             "startlinecolor": "#2a3f5f"
            },
            "baxis": {
             "endlinecolor": "#2a3f5f",
             "gridcolor": "white",
             "linecolor": "white",
             "minorgridcolor": "white",
             "startlinecolor": "#2a3f5f"
            },
            "type": "carpet"
           }
          ],
          "choropleth": [
           {
            "colorbar": {
             "outlinewidth": 0,
             "ticks": ""
            },
            "type": "choropleth"
           }
          ],
          "contour": [
           {
            "colorbar": {
             "outlinewidth": 0,
             "ticks": ""
            },
            "colorscale": [
             [
              0,
              "#0d0887"
             ],
             [
              0.1111111111111111,
              "#46039f"
             ],
             [
              0.2222222222222222,
              "#7201a8"
             ],
             [
              0.3333333333333333,
              "#9c179e"
             ],
             [
              0.4444444444444444,
              "#bd3786"
             ],
             [
              0.5555555555555556,
              "#d8576b"
             ],
             [
              0.6666666666666666,
              "#ed7953"
             ],
             [
              0.7777777777777778,
              "#fb9f3a"
             ],
             [
              0.8888888888888888,
              "#fdca26"
             ],
             [
              1,
              "#f0f921"
             ]
            ],
            "type": "contour"
           }
          ],
          "contourcarpet": [
           {
            "colorbar": {
             "outlinewidth": 0,
             "ticks": ""
            },
            "type": "contourcarpet"
           }
          ],
          "heatmap": [
           {
            "colorbar": {
             "outlinewidth": 0,
             "ticks": ""
            },
            "colorscale": [
             [
              0,
              "#0d0887"
             ],
             [
              0.1111111111111111,
              "#46039f"
             ],
             [
              0.2222222222222222,
              "#7201a8"
             ],
             [
              0.3333333333333333,
              "#9c179e"
             ],
             [
              0.4444444444444444,
              "#bd3786"
             ],
             [
              0.5555555555555556,
              "#d8576b"
             ],
             [
              0.6666666666666666,
              "#ed7953"
             ],
             [
              0.7777777777777778,
              "#fb9f3a"
             ],
             [
              0.8888888888888888,
              "#fdca26"
             ],
             [
              1,
              "#f0f921"
             ]
            ],
            "type": "heatmap"
           }
          ],
          "histogram": [
           {
            "marker": {
             "pattern": {
              "fillmode": "overlay",
              "size": 10,
              "solidity": 0.2
             }
            },
            "type": "histogram"
           }
          ],
          "histogram2d": [
           {
            "colorbar": {
             "outlinewidth": 0,
             "ticks": ""
            },
            "colorscale": [
             [
              0,
              "#0d0887"
             ],
             [
              0.1111111111111111,
              "#46039f"
             ],
             [
              0.2222222222222222,
              "#7201a8"
             ],
             [
              0.3333333333333333,
              "#9c179e"
             ],
             [
              0.4444444444444444,
              "#bd3786"
             ],
             [
              0.5555555555555556,
              "#d8576b"
             ],
             [
              0.6666666666666666,
              "#ed7953"
             ],
             [
              0.7777777777777778,
              "#fb9f3a"
             ],
             [
              0.8888888888888888,
              "#fdca26"
             ],
             [
              1,
              "#f0f921"
             ]
            ],
            "type": "histogram2d"
           }
          ],
          "histogram2dcontour": [
           {
            "colorbar": {
             "outlinewidth": 0,
             "ticks": ""
            },
            "colorscale": [
             [
              0,
              "#0d0887"
             ],
             [
              0.1111111111111111,
              "#46039f"
             ],
             [
              0.2222222222222222,
              "#7201a8"
             ],
             [
              0.3333333333333333,
              "#9c179e"
             ],
             [
              0.4444444444444444,
              "#bd3786"
             ],
             [
              0.5555555555555556,
              "#d8576b"
             ],
             [
              0.6666666666666666,
              "#ed7953"
             ],
             [
              0.7777777777777778,
              "#fb9f3a"
             ],
             [
              0.8888888888888888,
              "#fdca26"
             ],
             [
              1,
              "#f0f921"
             ]
            ],
            "type": "histogram2dcontour"
           }
          ],
          "mesh3d": [
           {
            "colorbar": {
             "outlinewidth": 0,
             "ticks": ""
            },
            "type": "mesh3d"
           }
          ],
          "parcoords": [
           {
            "line": {
             "colorbar": {
              "outlinewidth": 0,
              "ticks": ""
             }
            },
            "type": "parcoords"
           }
          ],
          "pie": [
           {
            "automargin": true,
            "type": "pie"
           }
          ],
          "scatter": [
           {
            "fillpattern": {
             "fillmode": "overlay",
             "size": 10,
             "solidity": 0.2
            },
            "type": "scatter"
           }
          ],
          "scatter3d": [
           {
            "line": {
             "colorbar": {
              "outlinewidth": 0,
              "ticks": ""
             }
            },
            "marker": {
             "colorbar": {
              "outlinewidth": 0,
              "ticks": ""
             }
            },
            "type": "scatter3d"
           }
          ],
          "scattercarpet": [
           {
            "marker": {
             "colorbar": {
              "outlinewidth": 0,
              "ticks": ""
             }
            },
            "type": "scattercarpet"
           }
          ],
          "scattergeo": [
           {
            "marker": {
             "colorbar": {
              "outlinewidth": 0,
              "ticks": ""
             }
            },
            "type": "scattergeo"
           }
          ],
          "scattergl": [
           {
            "marker": {
             "colorbar": {
              "outlinewidth": 0,
              "ticks": ""
             }
            },
            "type": "scattergl"
           }
          ],
          "scattermap": [
           {
            "marker": {
             "colorbar": {
              "outlinewidth": 0,
              "ticks": ""
             }
            },
            "type": "scattermap"
           }
          ],
          "scattermapbox": [
           {
            "marker": {
             "colorbar": {
              "outlinewidth": 0,
              "ticks": ""
             }
            },
            "type": "scattermapbox"
           }
          ],
          "scatterpolar": [
           {
            "marker": {
             "colorbar": {
              "outlinewidth": 0,
              "ticks": ""
             }
            },
            "type": "scatterpolar"
           }
          ],
          "scatterpolargl": [
           {
            "marker": {
             "colorbar": {
              "outlinewidth": 0,
              "ticks": ""
             }
            },
            "type": "scatterpolargl"
           }
          ],
          "scatterternary": [
           {
            "marker": {
             "colorbar": {
              "outlinewidth": 0,
              "ticks": ""
             }
            },
            "type": "scatterternary"
           }
          ],
          "surface": [
           {
            "colorbar": {
             "outlinewidth": 0,
             "ticks": ""
            },
            "colorscale": [
             [
              0,
              "#0d0887"
             ],
             [
              0.1111111111111111,
              "#46039f"
             ],
             [
              0.2222222222222222,
              "#7201a8"
             ],
             [
              0.3333333333333333,
              "#9c179e"
             ],
             [
              0.4444444444444444,
              "#bd3786"
             ],
             [
              0.5555555555555556,
              "#d8576b"
             ],
             [
              0.6666666666666666,
              "#ed7953"
             ],
             [
              0.7777777777777778,
              "#fb9f3a"
             ],
             [
              0.8888888888888888,
              "#fdca26"
             ],
             [
              1,
              "#f0f921"
             ]
            ],
            "type": "surface"
           }
          ],
          "table": [
           {
            "cells": {
             "fill": {
              "color": "#EBF0F8"
             },
             "line": {
              "color": "white"
             }
            },
            "header": {
             "fill": {
              "color": "#C8D4E3"
             },
             "line": {
              "color": "white"
             }
            },
            "type": "table"
           }
          ]
         },
         "layout": {
          "annotationdefaults": {
           "arrowcolor": "#2a3f5f",
           "arrowhead": 0,
           "arrowwidth": 1
          },
          "autotypenumbers": "strict",
          "coloraxis": {
           "colorbar": {
            "outlinewidth": 0,
            "ticks": ""
           }
          },
          "colorscale": {
           "diverging": [
            [
             0,
             "#8e0152"
            ],
            [
             0.1,
             "#c51b7d"
            ],
            [
             0.2,
             "#de77ae"
            ],
            [
             0.3,
             "#f1b6da"
            ],
            [
             0.4,
             "#fde0ef"
            ],
            [
             0.5,
             "#f7f7f7"
            ],
            [
             0.6,
             "#e6f5d0"
            ],
            [
             0.7,
             "#b8e186"
            ],
            [
             0.8,
             "#7fbc41"
            ],
            [
             0.9,
             "#4d9221"
            ],
            [
             1,
             "#276419"
            ]
           ],
           "sequential": [
            [
             0,
             "#0d0887"
            ],
            [
             0.1111111111111111,
             "#46039f"
            ],
            [
             0.2222222222222222,
             "#7201a8"
            ],
            [
             0.3333333333333333,
             "#9c179e"
            ],
            [
             0.4444444444444444,
             "#bd3786"
            ],
            [
             0.5555555555555556,
             "#d8576b"
            ],
            [
             0.6666666666666666,
             "#ed7953"
            ],
            [
             0.7777777777777778,
             "#fb9f3a"
            ],
            [
             0.8888888888888888,
             "#fdca26"
            ],
            [
             1,
             "#f0f921"
            ]
           ],
           "sequentialminus": [
            [
             0,
             "#0d0887"
            ],
            [
             0.1111111111111111,
             "#46039f"
            ],
            [
             0.2222222222222222,
             "#7201a8"
            ],
            [
             0.3333333333333333,
             "#9c179e"
            ],
            [
             0.4444444444444444,
             "#bd3786"
            ],
            [
             0.5555555555555556,
             "#d8576b"
            ],
            [
             0.6666666666666666,
             "#ed7953"
            ],
            [
             0.7777777777777778,
             "#fb9f3a"
            ],
            [
             0.8888888888888888,
             "#fdca26"
            ],
            [
             1,
             "#f0f921"
            ]
           ]
          },
          "colorway": [
           "#636efa",
           "#EF553B",
           "#00cc96",
           "#ab63fa",
           "#FFA15A",
           "#19d3f3",
           "#FF6692",
           "#B6E880",
           "#FF97FF",
           "#FECB52"
          ],
          "font": {
           "color": "#2a3f5f"
          },
          "geo": {
           "bgcolor": "white",
           "lakecolor": "white",
           "landcolor": "#E5ECF6",
           "showlakes": true,
           "showland": true,
           "subunitcolor": "white"
          },
          "hoverlabel": {
           "align": "left"
          },
          "hovermode": "closest",
          "mapbox": {
           "style": "light"
          },
          "paper_bgcolor": "white",
          "plot_bgcolor": "#E5ECF6",
          "polar": {
           "angularaxis": {
            "gridcolor": "white",
            "linecolor": "white",
            "ticks": ""
           },
           "bgcolor": "#E5ECF6",
           "radialaxis": {
            "gridcolor": "white",
            "linecolor": "white",
            "ticks": ""
           }
          },
          "scene": {
           "xaxis": {
            "backgroundcolor": "#E5ECF6",
            "gridcolor": "white",
            "gridwidth": 2,
            "linecolor": "white",
            "showbackground": true,
            "ticks": "",
            "zerolinecolor": "white"
           },
           "yaxis": {
            "backgroundcolor": "#E5ECF6",
            "gridcolor": "white",
            "gridwidth": 2,
            "linecolor": "white",
            "showbackground": true,
            "ticks": "",
            "zerolinecolor": "white"
           },
           "zaxis": {
            "backgroundcolor": "#E5ECF6",
            "gridcolor": "white",
            "gridwidth": 2,
            "linecolor": "white",
            "showbackground": true,
            "ticks": "",
            "zerolinecolor": "white"
           }
          },
          "shapedefaults": {
           "line": {
            "color": "#2a3f5f"
           }
          },
          "ternary": {
           "aaxis": {
            "gridcolor": "white",
            "linecolor": "white",
            "ticks": ""
           },
           "baxis": {
            "gridcolor": "white",
            "linecolor": "white",
            "ticks": ""
           },
           "bgcolor": "#E5ECF6",
           "caxis": {
            "gridcolor": "white",
            "linecolor": "white",
            "ticks": ""
           }
          },
          "title": {
           "x": 0.05
          },
          "xaxis": {
           "automargin": true,
           "gridcolor": "white",
           "linecolor": "white",
           "ticks": "",
           "title": {
            "standoff": 15
           },
           "zerolinecolor": "white",
           "zerolinewidth": 2
          },
          "yaxis": {
           "automargin": true,
           "gridcolor": "white",
           "linecolor": "white",
           "ticks": "",
           "title": {
            "standoff": 15
           },
           "zerolinecolor": "white",
           "zerolinewidth": 2
          }
         }
        },
        "title": {
         "text": "Relatie tussen gemiddelde temperatuur en geluksscore per land"
        },
        "width": 900,
        "xaxis": {
         "anchor": "y",
         "autorange": true,
         "domain": [
          0,
          1
         ],
         "range": [
          3.042247734663593,
          47.51959437059956
         ],
         "title": {
          "text": "Gemiddelde temperatuur (°C)"
         },
         "type": "linear"
        },
        "yaxis": {
         "anchor": "x",
         "autorange": true,
         "domain": [
          0,
          1
         ],
         "range": [
          1.3188542510121457,
          8.143145748987854
         ],
         "title": {
          "text": "Geluksscore"
         },
         "type": "linear"
        }
       }
      },
      "text/html": [
       "<div>            <script src=\"https://cdnjs.cloudflare.com/ajax/libs/mathjax/2.7.5/MathJax.js?config=TeX-AMS-MML_SVG\"></script><script type=\"text/javascript\">if (window.MathJax && window.MathJax.Hub && window.MathJax.Hub.Config) {window.MathJax.Hub.Config({SVG: {font: \"STIX-Web\"}});}</script>                <script type=\"text/javascript\">window.PlotlyConfig = {MathJaxConfig: 'local'};</script>\n",
       "        <script charset=\"utf-8\" src=\"https://cdn.plot.ly/plotly-3.0.1.min.js\"></script>                <div id=\"1c76c447-b0cb-4785-a3a0-234aa894d76b\" class=\"plotly-graph-div\" style=\"height:600px; width:900px;\"></div>            <script type=\"text/javascript\">                window.PLOTLYENV=window.PLOTLYENV || {};                                if (document.getElementById(\"1c76c447-b0cb-4785-a3a0-234aa894d76b\")) {                    Plotly.newPlot(                        \"1c76c447-b0cb-4785-a3a0-234aa894d76b\",                        [{\"hovertemplate\":\"\\u003cb\\u003e%{hovertext}\\u003c\\u002fb\\u003e\\u003cbr\\u003e\\u003cbr\\u003eGemiddelde temperatuur (\\u00b0C)=%{marker.color}\\u003cbr\\u003eGeluksscore=%{y}\\u003cextra\\u003e\\u003c\\u002fextra\\u003e\",\"hovertext\":[\"Afghanistan\",\"Albania\",\"Algeria\",\"Andorra\",\"Angola\",\"Antigua and Barbuda\",\"Argentina\",\"Armenia\",\"Australia\",\"Australia\",\"Austria\",\"Azerbaijan\",\"Bahamas\",\"Bahrain\",\"Bangladesh\",\"Barbados\",\"Belarus\",\"Belgium\",\"Belize\",\"Benin\",\"Bhutan\",\"Bolivia\",\"Bosnia and Herzegovina\",\"Botswana\",\"Brazil\",\"Brazil\",\"Brunei Darussalam\",\"Bulgaria\",\"Burkina Faso\",\"Burundi\",\"B\\u00e9lgica\",\"Cambodia\",\"Cameroon\",\"Canada\",\"Cape Verde\",\"Central African Republic\",\"Chad\",\"Chile\",\"China\",\"China\",\"Colombia\",\"Comoros\",\"Congo\",\"Costa Rica\",\"Croatia\",\"Cuba\",\"Cyprus\",\"Czech Republic\",\"Democratic Republic of Congo\",\"Denmark\",\"Djibouti\",\"Dominica\",\"Dominican Republic\",\"Ecuador\",\"Egypt\",\"El Salvador\",\"Equatorial Guinea\",\"Eritrea\",\"Estonia\",\"Estonie\",\"Ethiopia\",\"Fiji Islands\",\"Finland\",\"France\",\"Gabon\",\"Gambia\",\"Georgia\",\"Germany\",\"Germany\",\"Ghana\",\"Greece\",\"Grenada\",\"Guatemala\",\"Guinea\",\"Guinea-Bissau\",\"Guyana\",\"Haiti\",\"Honduras\",\"Hungary\",\"Iceland\",\"Inde\",\"India\",\"India\",\"Indonesia\",\"Iran\",\"Iraq\",\"Ireland\",\"Israel\",\"Italy\",\"Jamaica\",\"Japan\",\"Jemen\",\"Jordan\",\"Kazakhstan\",\"Kenya\",\"Kiribati\",\"Komoren\",\"Kosovo\",\"Kuwait\",\"Kyrghyzstan\",\"Lao People's Democratic Republic\",\"Latvia\",\"Lebanon\",\"Lesotho\",\"Letonia\",\"Liberia\",\"Libya\",\"Liechtenstein\",\"Lithuania\",\"Luxembourg\",\"Macedonia\",\"Madagascar\",\"Malawi\",\"Malaysia\",\"Maldives\",\"Mali\",\"Malta\",\"Mal\\u00e1sia\",\"Marrocos\",\"Marshall Islands\",\"Mauritania\",\"Mauritius\",\"Mexico\",\"Mexique\",\"Micronesia\",\"Monaco\",\"Mongolia\",\"Montenegro\",\"Morocco\",\"Mozambique\",\"Myanmar\",\"Namibia\",\"Nepal\",\"Netherlands\",\"New Zealand\",\"Nicaragua\",\"Niger\",\"Nigeria\",\"Nigeria\",\"North Korea\",\"Norway\",\"Oman\",\"Pakistan\",\"Palau\",\"Panama\",\"Papua New Guinea\",\"Paraguay\",\"Peru\",\"Philippines\",\"Poland\",\"Pol\\u00f4nia\",\"Portugal\",\"Qatar\",\"Romania\",\"Russia\",\"Russia\",\"Rwanda\",\"Saint Kitts and Nevis\",\"Saint Lucia\",\"Saint Vincent and the Grenadines\",\"Saint-Vincent-et-les-Grenadines\",\"Samoa\",\"San Marino\",\"Saudi Arabia\",\"Saudi Arabien\",\"Senegal\",\"Serbia\",\"Seychelles Islands\",\"Sierra Leone\",\"Singapore\",\"Slovakia\",\"Slovenia\",\"Solomon Islands\",\"Somalia\",\"South Africa\",\"South Korea\",\"Spain\",\"Sri Lanka\",\"Sudan\",\"Suriname\",\"Swaziland\",\"Sweden\",\"Switzerland\",\"Syria\",\"S\\u00fcdkorea\",\"Tajikistan\",\"Tanzania\",\"Thailand\",\"Timor-Leste\",\"Togo\",\"Tonga\",\"Trinidad and Tobago\",\"Tunisia\",\"Turkey\",\"Turkmenistan\",\"Turkm\\u00e9nistan\",\"Tuvalu\",\"USA United States of America\",\"Uganda\",\"Ukraine\",\"United Arab Emirates\",\"United Kingdom\",\"United States of America\",\"Uruguay\",\"Uzbekistan\",\"Vanuatu\",\"Vatican City\",\"Venezuela\",\"Vietnam\",\"Yemen\",\"Zambia\",\"Zimbabwe\",\"\\u0413\\u0432\\u0430\\u0442\\u0435\\u043c\\u0430\\u043b\\u0430\",\"\\u041f\\u043e\\u043b\\u044c\\u0448\\u0430\",\"\\u0422\\u0443\\u0440\\u0446\\u0438\\u044f\",\"\\u0643\\u0648\\u0644\\u0648\\u0645\\u0628\\u064a\\u0627\",\"\\u706b\\u9e21\"],\"legendgroup\":\"\",\"marker\":{\"color\":{\"dtype\":\"f8\",\"bdata\":\"NzUi32qyNkDqFQ6JswU5QHhCrtaFJzlAJwfgRhs2LECokAGB91U6QOXoxkWO7jtAr6G8hvJaKkCFZ3mp2p42QLWYvTDW0iNAtZi9MNbSI0DdEqd+zy0yQNW68IRcbTZAyZyj3UrrOkCUzJXyG1tAQIvpLKaz2D1Ao4e9USk6PEDbjFoDOckvQEUesd63Si9Awrp8GeEGOEC1YwXCSBs9QN7d3d3dXSlAyaySzCpJMkCuXQUodZQzQMdtfYcyDjtAQM2uF1nbOkBAza4XWds6QDgqRQ97AzxA4g8UoPJ\\u002fNUBY68ITcpU+QAMC76s3fztAZmZmZmZmMUDOqDWQk8w9QIysreKd\\u002fDhAyfjfUTsXJkApUf1rxbU6QJGrdeEJ2T5APRVp+qCwP0C2VbyTH8wiQAeNf5pkcDNAB41\\u002fmmRwM0AAAAAAAAArQHHS1XSmwjlAYaQdKxDGPUBC89fvOjkyQLInsL05ADRAMAUnXU1nOUC9hvIayus8QLs3EbJ7UzBAPIicVoCpPUCq33NLnLotQLgSoyO+20BApOdTNGjuO0AjRzcucrQ5QCQvQZFEMCZABsJIO1bAPkBHb8taHRM2QHan63JuIjtAs06gCyzTNUDKayivobwsQM3MzMzMTDdALu4gclqBNEBpjOxO12U3QBUyIPC+eixALtTj7Zj0MEDjnyYZNJ47QKDX\\u002fNHzKTxA439H7VxcNUAoB+BGGzYxQCgH4EYbNjFA+OjeM9hBPECgZteLrK06QNNTCys9NTxAlD7pkz5pMUAtisbI7vQ6QI8S1b9WXDxAqkNs4DMGOkCzCftJyPg4QHaM4lzH6DJACIXVLQu+M0Cxg4sQ5hMbQDMzMzMzMz9AC7\\u002ff4BURQEALv9\\u002fgFRFAQKX5TqT5zjpAbCivobyWN0BUyIDA+6pBQHyjUvSw9ypA33NLnPq9OUCQ4D6C+wg4QHTiLNcaBzxA9ot+mnUCNkCamZmZmRk6QHoXj4CJoTpAbr4cYNkmKEBu+K7JBU03QPKDOY9LXzxAMzMzMzMzOUDNzMzMzEw9QKL614pr10FAAyzbfDlgMkAAAAAAAAA5QF\\u002fzR8+naC9AhJF2rED4OUAiIiIiIiI1QJqZmZmZmTRAvlEpetgbO0AAAAAAAAA7QHhCrtaFpytA1CSDxj8NL0A6rQBTcNIsQCLFytN7VTdA5gDLNl8uO0B5zXFb3yE7QKdG5FtNVjxAS08trPQUPEBCKpsakW89QBEd7s\\u002fOuzlAzczMzMxMOEBmZmZmZiZEQKwApY4SVTxAkThbqMdbOkDw9VSk6QM5QFDWawplvSxAZmZmZmZmO0D2RqXoYW87QKJfKAMuDDVA9XtuiVM\\u002fFkC9hvIayss3QNZ0psLvtzZAhuhwf3beOkCSJwfgRps8QERERERE5DlAXOLU77klNkBcrQtPyFUvQLaHaWhVEihAiCGedxhiOECbLwdYttk\\u002fQM5xW9+hDD1AznFb36EMPUCBMNKOFSgwQL5RKXrYWyVA2QtjLZ1JQEC\\u002fHGDZ5os+QCZO\\u002fZ5bojtAnos7iJzWOUCMtGMFwug5QH0ZfizBIDVAHaM41zGKMEC68IRcrQs9QLf1Hco4kjFAMzMzMzOzO0B5RfQLZcA0QB\\u002fBfQT3kUFARg97o1L0NUA8JchTgjwvQDwlyFOCPC9AWLb5coCFOkCKHvZGpUg8QL8cYNnmCzxAapRyPEyyPEDNzMzMzMw7QN8nCPZ9gjlAg0MfLzj0NEAOfMZwtCBCQAAAAAAAgEZAs+DrqUhTO0A0\\u002fmmSQUM1QIy0YwXC6DtA+G4s9c\\u002f6OkDGWjoTes48QN0Sp37PjTJA8XZMeoVDMkCwpyJNHxQ6QN0Sp37PrTxA\\u002fyOXPDmAN0ACYaQdK5AyQCp62BuVwjVAQE0yaPwTPUDPYjqL6UxAQJsvB1i22TlAT8jVuvDEN0D05QDLNh8tQOv33BKn\\u002fi9A58sBlm2ePECamZmZmRk6QG6JU7\\u002fntjhA2OXcRCwKPEDvxSuJX0U9QFoBpuCkqzlAZmZmZmbmO0ACXWCZYr82QDXJoPFP0zpArtaFJ+QKO0BpZ0MDAV03QBRytS48QTpAZmZmZmbmQkBV28M0tKo8QIiIiIiIiDhAlNdQXkN5OkD8s\\u002fMuHoEyQB+moVVJ+EBA5jwuffsrL0Dh5yGPLwMjQMnK3SCVTSpAl3MTsSiaOEAtprOYzmI3QOfvh6BCBjhAJgrdlFQHN0A4ODg4OIg6QErRw96olDdAg6+nIk0fPEABNbteZG06QM3MzMzMzC9AMzMzMzMzOEAAAAAAAABBQJqZmZmZGTdAMzMzMzOzPUA=\"},\"coloraxis\":\"coloraxis\",\"symbol\":\"circle\"},\"mode\":\"markers\",\"name\":\"\",\"orientation\":\"v\",\"showlegend\":false,\"x\":{\"dtype\":\"f8\",\"bdata\":\"NzUi32qyNkDqFQ6JswU5QHhCrtaFJzlAJwfgRhs2LECokAGB91U6QOXoxkWO7jtAr6G8hvJaKkCFZ3mp2p42QLWYvTDW0iNAtZi9MNbSI0DdEqd+zy0yQNW68IRcbTZAyZyj3UrrOkCUzJXyG1tAQIvpLKaz2D1Ao4e9USk6PEDbjFoDOckvQEUesd63Si9Awrp8GeEGOEC1YwXCSBs9QN7d3d3dXSlAyaySzCpJMkCuXQUodZQzQMdtfYcyDjtAQM2uF1nbOkBAza4XWds6QDgqRQ97AzxA4g8UoPJ\\u002fNUBY68ITcpU+QAMC76s3fztAZmZmZmZmMUDOqDWQk8w9QIysreKd\\u002fDhAyfjfUTsXJkApUf1rxbU6QJGrdeEJ2T5APRVp+qCwP0C2VbyTH8wiQAeNf5pkcDNAB41\\u002fmmRwM0AAAAAAAAArQHHS1XSmwjlAYaQdKxDGPUBC89fvOjkyQLInsL05ADRAMAUnXU1nOUC9hvIayus8QLs3EbJ7UzBAPIicVoCpPUCq33NLnLotQLgSoyO+20BApOdTNGjuO0AjRzcucrQ5QCQvQZFEMCZABsJIO1bAPkBHb8taHRM2QHan63JuIjtAs06gCyzTNUDKayivobwsQM3MzMzMTDdALu4gclqBNEBpjOxO12U3QBUyIPC+eixALtTj7Zj0MEDjnyYZNJ47QKDX\\u002fNHzKTxA439H7VxcNUAoB+BGGzYxQCgH4EYbNjFA+OjeM9hBPECgZteLrK06QNNTCys9NTxAlD7pkz5pMUAtisbI7vQ6QI8S1b9WXDxAqkNs4DMGOkCzCftJyPg4QHaM4lzH6DJACIXVLQu+M0Cxg4sQ5hMbQDMzMzMzMz9AC7\\u002ff4BURQEALv9\\u002fgFRFAQKX5TqT5zjpAbCivobyWN0BUyIDA+6pBQHyjUvSw9ypA33NLnPq9OUCQ4D6C+wg4QHTiLNcaBzxA9ot+mnUCNkCamZmZmRk6QHoXj4CJoTpAbr4cYNkmKEBu+K7JBU03QPKDOY9LXzxAMzMzMzMzOUDNzMzMzEw9QKL614pr10FAAyzbfDlgMkAAAAAAAAA5QF\\u002fzR8+naC9AhJF2rED4OUAiIiIiIiI1QJqZmZmZmTRAvlEpetgbO0AAAAAAAAA7QHhCrtaFpytA1CSDxj8NL0A6rQBTcNIsQCLFytN7VTdA5gDLNl8uO0B5zXFb3yE7QKdG5FtNVjxAS08trPQUPEBCKpsakW89QBEd7s\\u002fOuzlAzczMzMxMOEBmZmZmZiZEQKwApY4SVTxAkThbqMdbOkDw9VSk6QM5QFDWawplvSxAZmZmZmZmO0D2RqXoYW87QKJfKAMuDDVA9XtuiVM\\u002fFkC9hvIayss3QNZ0psLvtzZAhuhwf3beOkCSJwfgRps8QERERERE5DlAXOLU77klNkBcrQtPyFUvQLaHaWhVEihAiCGedxhiOECbLwdYttk\\u002fQM5xW9+hDD1AznFb36EMPUCBMNKOFSgwQL5RKXrYWyVA2QtjLZ1JQEC\\u002fHGDZ5os+QCZO\\u002fZ5bojtAnos7iJzWOUCMtGMFwug5QH0ZfizBIDVAHaM41zGKMEC68IRcrQs9QLf1Hco4kjFAMzMzMzOzO0B5RfQLZcA0QB\\u002fBfQT3kUFARg97o1L0NUA8JchTgjwvQDwlyFOCPC9AWLb5coCFOkCKHvZGpUg8QL8cYNnmCzxAapRyPEyyPEDNzMzMzMw7QN8nCPZ9gjlAg0MfLzj0NEAOfMZwtCBCQAAAAAAAgEZAs+DrqUhTO0A0\\u002fmmSQUM1QIy0YwXC6DtA+G4s9c\\u002f6OkDGWjoTes48QN0Sp37PjTJA8XZMeoVDMkCwpyJNHxQ6QN0Sp37PrTxA\\u002fyOXPDmAN0ACYaQdK5AyQCp62BuVwjVAQE0yaPwTPUDPYjqL6UxAQJsvB1i22TlAT8jVuvDEN0D05QDLNh8tQOv33BKn\\u002fi9A58sBlm2ePECamZmZmRk6QG6JU7\\u002fntjhA2OXcRCwKPEDvxSuJX0U9QFoBpuCkqzlAZmZmZmbmO0ACXWCZYr82QDXJoPFP0zpArtaFJ+QKO0BpZ0MDAV03QBRytS48QTpAZmZmZmbmQkBV28M0tKo8QIiIiIiIiDhAlNdQXkN5OkD8s\\u002fMuHoEyQB+moVVJ+EBA5jwuffsrL0Dh5yGPLwMjQMnK3SCVTSpAl3MTsSiaOEAtprOYzmI3QOfvh6BCBjhAJgrdlFQHN0A4ODg4OIg6QErRw96olDdAg6+nIk0fPEABNbteZG06QM3MzMzMzC9AMzMzMzMzOEAAAAAAAABBQJqZmZmZGTdAMzMzMzOzPUA=\"},\"xaxis\":\"x\",\"y\":{\"dtype\":\"f8\",\"bdata\":\"8KfGSzeJ+z+e76fGSzcVQNv5fmq8dBVAAAAAAAAA+H8AAAAAAAD4fwAAAAAAAPh\\u002fjZduEoPAGEBSuB6F69EVQO58PzVeOhxA7nw\\u002fNV46HEAfhetRuJ4bQN9PjZdukhNAAAAAAAAA+H+8dJMYBNYXQEoMAiuHFg9AAAAAAAAA+H8AAAAAAAD4f\\u002fp+arx0kxtAAAAAAAAA+H81XrpJDIIRQAAAAAAAAPh\\u002fiUFg5dAiF0A1XrpJDIIXQKrx0k1iEAtASgwCK4cWGUBKDAIrhxYZQAAAAAAAAPh\\u002fJzEIrBzaFUD+1HjpJjESQAAAAAAAAPh\\u002fAAAAAAAA+H93vp8aL10RQOXQItv5fhNAmpmZmZmZG0AAAAAAAAD4fwAAAAAAAPh\\u002f\\u002fKnx0k3iEUBxPQrXo3AZQDEIrBxa5BdAMQisHFrkF0BI4XoUrscWQLpJDAIrhwxAAAAAAAAA+H9SuB6F69EbQPhT46WbxBdAAAAAAAAA+H8Sg8DKoUUYQAAAAAAAAPh\\u002fAAAAAAAA+H+iRbbz\\u002fVQeQAAAAAAAAPh\\u002fAAAAAAAA+H+YbhKDwEoXQGZmZmZm5hZAN4lBYOXQD0DHSzeJQeAZQAAAAAAAAPh\\u002fAAAAAAAA+H+YbhKDwMoZQAAAAAAAAPh\\u002fF9nO91PjDkAAAAAAAAD4fxBYObTI9h5AVg4tsp1vGkAGgZVDi2wUQHE9Ctej8BFAPQrXo3C9FEDHSzeJQeAaQMdLN4lB4BpADi2yne8nEUAj2\\u002fl+arwXQAAAAAAAAPh\\u002f2c73U+MlGUBkO99PjRcUQAAAAAAAAPh\\u002fAAAAAAAA+H8AAAAAAAD4f6wcWmQ73xdAxSCwcmgRGECamZmZmRkeQAAAAAAAAPh\\u002fnu+nxks3EECe76fGSzcQQBKDwMqhRRZA\\u002ftR46SaxE0BEi2zn+6kUQCcxCKwcWhtAd76fGi9dHUCyne+nxksZQJHtfD81XhdAPQrXo3A9GEAAAAAAAAD4f1g5tMh2vhBAjZduEoPAGEDhehSuR+ERQAAAAAAAAPh\\u002fAAAAAAAA+H9YObTIdj4aQOf7qfHSzRtAAAAAAAAA+H8AAAAAAAD4f1YOLbKd7xhADi2yne+nBUCwcmiR7XwJQAAAAAAAAPh\\u002f+n5qvHQTEUAQWDm0yHYXQAAAAAAAAPh\\u002fEoPAyqFFG0CwcmiR7XwcQAAAAAAAAPh\\u002ftvP91HjpEECR7Xw\\u002fNV4LQGZmZmZm5hdAAAAAAAAA+H8hsHJoke0QQPyp8dJNYhlAAAAAAAAA+H8AAAAAAAD4fwAAAAAAAPh\\u002fhetRuB4FEkDdJAaBlUMXQIPAyqFFthpAAAAAAAAA+H8AAAAAAAD4fwAAAAAAAPh\\u002fYhBYObTIFkCHFtnO99MWQK5H4XoULhNAd76fGi\\u002fdFEDRItv5fmoRQIcW2c73UxNAbxKDwMqhFEAtsp3vp0YdQARWDi2yHRxAiUFg5dAiGUDTTWIQWDkSQKAaL90khhNAoBov3SSGE0AAAAAAAAD4f2iR7Xw\\u002fNR1AAAAAAAAA+H9U46WbxKASQAAAAAAAAPh\\u002fO99PjZduGUAAAAAAAAD4f5zEILBy6BdAd76fGi9dF0D+1HjpJjEYQPhT46WbxBlAAAAAAAAA+H8fhetRuB4YQAAAAAAAAPh\\u002fEFg5tMj2GUCkcD0K1yMXQKRwPQrXIxdAAAAAAAAA+H8AAAAAAAD4fwAAAAAAAPh\\u002fAAAAAAAA+H8AAAAAAAD4fwAAAAAAAPh\\u002fAAAAAAAA+H\\u002fHSzeJQWAaQAAAAAAAAPh\\u002fx0s3iUHgE0C+nxov3aQZQAAAAAAAAPh\\u002f9ihcj8L1CUBkO99PjRcaQLpJDAIrBxlARrbz\\u002fdT4GkAAAAAAAAD4fwAAAAAAAPh\\u002f46WbxCCwFUAIrBxaZDsYQMl2vp8arxlAyXa+nxovD0AAAAAAAAD4fwAAAAAAAPh\\u002fAAAAAAAA+H\\u002fHSzeJQWAdQD0K16NwPRxAAAAAAAAA+H8AAAAAAAD4fzm0yHa+HxVAc2iR7Xw\\u002fDkCBlUOLbOcXQAAAAAAAAPh\\u002fQmDl0CLbEEAAAAAAAAD4fwAAAAAAAPh\\u002f46WbxCCwEUAAAAAAAAD4fwAAAAAAAPh\\u002fAAAAAAAA+H8AAAAAAAD4fwAAAAAAAPh\\u002fsHJoke18EUDLoUW2830TQDvfT42X7hpA5dAi2\\u002fn+GkAAAAAAAAD4f4ts5\\u002fupcRpASOF6FK7HGEAAAAAAAAD4fwAAAAAAAPh\\u002fIbByaJFtFkB56SYxCCwYQLByaJHtfAxAarx0kxgEDEDufD81XroKQAAAAAAAAPh\\u002fAAAAAAAA+H8AAAAAAAD4fwAAAAAAAPh\\u002fAAAAAAAA+H8=\"},\"yaxis\":\"y\",\"type\":\"scatter\"}],                        {\"template\":{\"data\":{\"histogram2dcontour\":[{\"type\":\"histogram2dcontour\",\"colorbar\":{\"outlinewidth\":0,\"ticks\":\"\"},\"colorscale\":[[0.0,\"#0d0887\"],[0.1111111111111111,\"#46039f\"],[0.2222222222222222,\"#7201a8\"],[0.3333333333333333,\"#9c179e\"],[0.4444444444444444,\"#bd3786\"],[0.5555555555555556,\"#d8576b\"],[0.6666666666666666,\"#ed7953\"],[0.7777777777777778,\"#fb9f3a\"],[0.8888888888888888,\"#fdca26\"],[1.0,\"#f0f921\"]]}],\"choropleth\":[{\"type\":\"choropleth\",\"colorbar\":{\"outlinewidth\":0,\"ticks\":\"\"}}],\"histogram2d\":[{\"type\":\"histogram2d\",\"colorbar\":{\"outlinewidth\":0,\"ticks\":\"\"},\"colorscale\":[[0.0,\"#0d0887\"],[0.1111111111111111,\"#46039f\"],[0.2222222222222222,\"#7201a8\"],[0.3333333333333333,\"#9c179e\"],[0.4444444444444444,\"#bd3786\"],[0.5555555555555556,\"#d8576b\"],[0.6666666666666666,\"#ed7953\"],[0.7777777777777778,\"#fb9f3a\"],[0.8888888888888888,\"#fdca26\"],[1.0,\"#f0f921\"]]}],\"heatmap\":[{\"type\":\"heatmap\",\"colorbar\":{\"outlinewidth\":0,\"ticks\":\"\"},\"colorscale\":[[0.0,\"#0d0887\"],[0.1111111111111111,\"#46039f\"],[0.2222222222222222,\"#7201a8\"],[0.3333333333333333,\"#9c179e\"],[0.4444444444444444,\"#bd3786\"],[0.5555555555555556,\"#d8576b\"],[0.6666666666666666,\"#ed7953\"],[0.7777777777777778,\"#fb9f3a\"],[0.8888888888888888,\"#fdca26\"],[1.0,\"#f0f921\"]]}],\"contourcarpet\":[{\"type\":\"contourcarpet\",\"colorbar\":{\"outlinewidth\":0,\"ticks\":\"\"}}],\"contour\":[{\"type\":\"contour\",\"colorbar\":{\"outlinewidth\":0,\"ticks\":\"\"},\"colorscale\":[[0.0,\"#0d0887\"],[0.1111111111111111,\"#46039f\"],[0.2222222222222222,\"#7201a8\"],[0.3333333333333333,\"#9c179e\"],[0.4444444444444444,\"#bd3786\"],[0.5555555555555556,\"#d8576b\"],[0.6666666666666666,\"#ed7953\"],[0.7777777777777778,\"#fb9f3a\"],[0.8888888888888888,\"#fdca26\"],[1.0,\"#f0f921\"]]}],\"surface\":[{\"type\":\"surface\",\"colorbar\":{\"outlinewidth\":0,\"ticks\":\"\"},\"colorscale\":[[0.0,\"#0d0887\"],[0.1111111111111111,\"#46039f\"],[0.2222222222222222,\"#7201a8\"],[0.3333333333333333,\"#9c179e\"],[0.4444444444444444,\"#bd3786\"],[0.5555555555555556,\"#d8576b\"],[0.6666666666666666,\"#ed7953\"],[0.7777777777777778,\"#fb9f3a\"],[0.8888888888888888,\"#fdca26\"],[1.0,\"#f0f921\"]]}],\"mesh3d\":[{\"type\":\"mesh3d\",\"colorbar\":{\"outlinewidth\":0,\"ticks\":\"\"}}],\"scatter\":[{\"fillpattern\":{\"fillmode\":\"overlay\",\"size\":10,\"solidity\":0.2},\"type\":\"scatter\"}],\"parcoords\":[{\"type\":\"parcoords\",\"line\":{\"colorbar\":{\"outlinewidth\":0,\"ticks\":\"\"}}}],\"scatterpolargl\":[{\"type\":\"scatterpolargl\",\"marker\":{\"colorbar\":{\"outlinewidth\":0,\"ticks\":\"\"}}}],\"bar\":[{\"error_x\":{\"color\":\"#2a3f5f\"},\"error_y\":{\"color\":\"#2a3f5f\"},\"marker\":{\"line\":{\"color\":\"#E5ECF6\",\"width\":0.5},\"pattern\":{\"fillmode\":\"overlay\",\"size\":10,\"solidity\":0.2}},\"type\":\"bar\"}],\"scattergeo\":[{\"type\":\"scattergeo\",\"marker\":{\"colorbar\":{\"outlinewidth\":0,\"ticks\":\"\"}}}],\"scatterpolar\":[{\"type\":\"scatterpolar\",\"marker\":{\"colorbar\":{\"outlinewidth\":0,\"ticks\":\"\"}}}],\"histogram\":[{\"marker\":{\"pattern\":{\"fillmode\":\"overlay\",\"size\":10,\"solidity\":0.2}},\"type\":\"histogram\"}],\"scattergl\":[{\"type\":\"scattergl\",\"marker\":{\"colorbar\":{\"outlinewidth\":0,\"ticks\":\"\"}}}],\"scatter3d\":[{\"type\":\"scatter3d\",\"line\":{\"colorbar\":{\"outlinewidth\":0,\"ticks\":\"\"}},\"marker\":{\"colorbar\":{\"outlinewidth\":0,\"ticks\":\"\"}}}],\"scattermap\":[{\"type\":\"scattermap\",\"marker\":{\"colorbar\":{\"outlinewidth\":0,\"ticks\":\"\"}}}],\"scattermapbox\":[{\"type\":\"scattermapbox\",\"marker\":{\"colorbar\":{\"outlinewidth\":0,\"ticks\":\"\"}}}],\"scatterternary\":[{\"type\":\"scatterternary\",\"marker\":{\"colorbar\":{\"outlinewidth\":0,\"ticks\":\"\"}}}],\"scattercarpet\":[{\"type\":\"scattercarpet\",\"marker\":{\"colorbar\":{\"outlinewidth\":0,\"ticks\":\"\"}}}],\"carpet\":[{\"aaxis\":{\"endlinecolor\":\"#2a3f5f\",\"gridcolor\":\"white\",\"linecolor\":\"white\",\"minorgridcolor\":\"white\",\"startlinecolor\":\"#2a3f5f\"},\"baxis\":{\"endlinecolor\":\"#2a3f5f\",\"gridcolor\":\"white\",\"linecolor\":\"white\",\"minorgridcolor\":\"white\",\"startlinecolor\":\"#2a3f5f\"},\"type\":\"carpet\"}],\"table\":[{\"cells\":{\"fill\":{\"color\":\"#EBF0F8\"},\"line\":{\"color\":\"white\"}},\"header\":{\"fill\":{\"color\":\"#C8D4E3\"},\"line\":{\"color\":\"white\"}},\"type\":\"table\"}],\"barpolar\":[{\"marker\":{\"line\":{\"color\":\"#E5ECF6\",\"width\":0.5},\"pattern\":{\"fillmode\":\"overlay\",\"size\":10,\"solidity\":0.2}},\"type\":\"barpolar\"}],\"pie\":[{\"automargin\":true,\"type\":\"pie\"}]},\"layout\":{\"autotypenumbers\":\"strict\",\"colorway\":[\"#636efa\",\"#EF553B\",\"#00cc96\",\"#ab63fa\",\"#FFA15A\",\"#19d3f3\",\"#FF6692\",\"#B6E880\",\"#FF97FF\",\"#FECB52\"],\"font\":{\"color\":\"#2a3f5f\"},\"hovermode\":\"closest\",\"hoverlabel\":{\"align\":\"left\"},\"paper_bgcolor\":\"white\",\"plot_bgcolor\":\"#E5ECF6\",\"polar\":{\"bgcolor\":\"#E5ECF6\",\"angularaxis\":{\"gridcolor\":\"white\",\"linecolor\":\"white\",\"ticks\":\"\"},\"radialaxis\":{\"gridcolor\":\"white\",\"linecolor\":\"white\",\"ticks\":\"\"}},\"ternary\":{\"bgcolor\":\"#E5ECF6\",\"aaxis\":{\"gridcolor\":\"white\",\"linecolor\":\"white\",\"ticks\":\"\"},\"baxis\":{\"gridcolor\":\"white\",\"linecolor\":\"white\",\"ticks\":\"\"},\"caxis\":{\"gridcolor\":\"white\",\"linecolor\":\"white\",\"ticks\":\"\"}},\"coloraxis\":{\"colorbar\":{\"outlinewidth\":0,\"ticks\":\"\"}},\"colorscale\":{\"sequential\":[[0.0,\"#0d0887\"],[0.1111111111111111,\"#46039f\"],[0.2222222222222222,\"#7201a8\"],[0.3333333333333333,\"#9c179e\"],[0.4444444444444444,\"#bd3786\"],[0.5555555555555556,\"#d8576b\"],[0.6666666666666666,\"#ed7953\"],[0.7777777777777778,\"#fb9f3a\"],[0.8888888888888888,\"#fdca26\"],[1.0,\"#f0f921\"]],\"sequentialminus\":[[0.0,\"#0d0887\"],[0.1111111111111111,\"#46039f\"],[0.2222222222222222,\"#7201a8\"],[0.3333333333333333,\"#9c179e\"],[0.4444444444444444,\"#bd3786\"],[0.5555555555555556,\"#d8576b\"],[0.6666666666666666,\"#ed7953\"],[0.7777777777777778,\"#fb9f3a\"],[0.8888888888888888,\"#fdca26\"],[1.0,\"#f0f921\"]],\"diverging\":[[0,\"#8e0152\"],[0.1,\"#c51b7d\"],[0.2,\"#de77ae\"],[0.3,\"#f1b6da\"],[0.4,\"#fde0ef\"],[0.5,\"#f7f7f7\"],[0.6,\"#e6f5d0\"],[0.7,\"#b8e186\"],[0.8,\"#7fbc41\"],[0.9,\"#4d9221\"],[1,\"#276419\"]]},\"xaxis\":{\"gridcolor\":\"white\",\"linecolor\":\"white\",\"ticks\":\"\",\"title\":{\"standoff\":15},\"zerolinecolor\":\"white\",\"automargin\":true,\"zerolinewidth\":2},\"yaxis\":{\"gridcolor\":\"white\",\"linecolor\":\"white\",\"ticks\":\"\",\"title\":{\"standoff\":15},\"zerolinecolor\":\"white\",\"automargin\":true,\"zerolinewidth\":2},\"scene\":{\"xaxis\":{\"backgroundcolor\":\"#E5ECF6\",\"gridcolor\":\"white\",\"linecolor\":\"white\",\"showbackground\":true,\"ticks\":\"\",\"zerolinecolor\":\"white\",\"gridwidth\":2},\"yaxis\":{\"backgroundcolor\":\"#E5ECF6\",\"gridcolor\":\"white\",\"linecolor\":\"white\",\"showbackground\":true,\"ticks\":\"\",\"zerolinecolor\":\"white\",\"gridwidth\":2},\"zaxis\":{\"backgroundcolor\":\"#E5ECF6\",\"gridcolor\":\"white\",\"linecolor\":\"white\",\"showbackground\":true,\"ticks\":\"\",\"zerolinecolor\":\"white\",\"gridwidth\":2}},\"shapedefaults\":{\"line\":{\"color\":\"#2a3f5f\"}},\"annotationdefaults\":{\"arrowcolor\":\"#2a3f5f\",\"arrowhead\":0,\"arrowwidth\":1},\"geo\":{\"bgcolor\":\"white\",\"landcolor\":\"#E5ECF6\",\"subunitcolor\":\"white\",\"showland\":true,\"showlakes\":true,\"lakecolor\":\"white\"},\"title\":{\"x\":0.05},\"mapbox\":{\"style\":\"light\"}}},\"xaxis\":{\"anchor\":\"y\",\"domain\":[0.0,1.0],\"title\":{\"text\":\"Gemiddelde temperatuur (\\u00b0C)\"}},\"yaxis\":{\"anchor\":\"x\",\"domain\":[0.0,1.0],\"title\":{\"text\":\"Geluksscore\"}},\"coloraxis\":{\"colorbar\":{\"title\":{\"text\":\"Gemiddelde temperatuur (\\u00b0C)\"}},\"colorscale\":[[0.0,\"rgb(3, 35, 51)\"],[0.09090909090909091,\"rgb(13, 48, 100)\"],[0.18181818181818182,\"rgb(53, 50, 155)\"],[0.2727272727272727,\"rgb(93, 62, 153)\"],[0.36363636363636365,\"rgb(126, 77, 143)\"],[0.45454545454545453,\"rgb(158, 89, 135)\"],[0.5454545454545454,\"rgb(193, 100, 121)\"],[0.6363636363636364,\"rgb(225, 113, 97)\"],[0.7272727272727273,\"rgb(246, 139, 69)\"],[0.8181818181818182,\"rgb(251, 173, 60)\"],[0.9090909090909091,\"rgb(246, 211, 70)\"],[1.0,\"rgb(231, 250, 90)\"]]},\"legend\":{\"tracegroupgap\":0},\"title\":{\"text\":\"Relatie tussen gemiddelde temperatuur en geluksscore per land\"},\"width\":900,\"height\":600},                        {\"responsive\": true}                    ).then(function(){\n",
       "                            \n",
       "var gd = document.getElementById('1c76c447-b0cb-4785-a3a0-234aa894d76b');\n",
       "var x = new MutationObserver(function (mutations, observer) {{\n",
       "        var display = window.getComputedStyle(gd).display;\n",
       "        if (!display || display === 'none') {{\n",
       "            console.log([gd, 'removed!']);\n",
       "            Plotly.purge(gd);\n",
       "            observer.disconnect();\n",
       "        }}\n",
       "}});\n",
       "\n",
       "// Listen for the removal of the full notebook cells\n",
       "var notebookContainer = gd.closest('#notebook-container');\n",
       "if (notebookContainer) {{\n",
       "    x.observe(notebookContainer, {childList: true});\n",
       "}}\n",
       "\n",
       "// Listen for the clearing of the current output cell\n",
       "var outputEl = gd.closest('.output');\n",
       "if (outputEl) {{\n",
       "    x.observe(outputEl, {childList: true});\n",
       "}}\n",
       "\n",
       "                        })                };            </script>        </div>"
      ]
     },
     "metadata": {},
     "output_type": "display_data"
    }
   ],
   "source": [
    "fig = px.scatter(\n",
    "    df123,\n",
    "    x=\"temperature_celsius\",\n",
    "    y=\"Ladder score\",\n",
    "    hover_name=\"country\",\n",
    "    color=\"temperature_celsius\",  # of kleur op continent als je die variabele hebt\n",
    "    color_continuous_scale=\"thermal\",\n",
    "    labels={\n",
    "        \"temperature_celsius\": \"Gemiddelde temperatuur (°C)\",\n",
    "        \"Ladder score\": \"Geluksscore\"\n",
    "    },\n",
    "    title=\"Relatie tussen gemiddelde temperatuur en geluksscore per land\"\n",
    ")\n",
    "\n",
    "fig.update_layout(width=900, height=600)\n",
    "fig.show()"
   ]
  },
  {
   "cell_type": "markdown",
   "id": "f16bf3e8-2cb6-4285-bbd2-df4155262c5f",
   "metadata": {},
   "source": [
    "> *Figuur X: Vivamus elementum semper nisi. Aenean vulputate eleifend tellus. Aenean leo ligula, porttitor eu, consequat vitae, eleifend ac, enim. Aliquam lorem ante, dapibus in, viverra quis, feugiat a, tellus.*"
   ]
  },
  {
   "cell_type": "markdown",
   "id": "e0a5e8f3-eed9-4965-a85d-05a296514ca0",
   "metadata": {},
   "source": [
    "### Argument 1.2: Extreme weersomstandigheden (hittegolven, kou, neerslag) zorgen voor stress en gezondheidsproblemen, wat het geluksniveau verlaagt."
   ]
  },
  {
   "cell_type": "markdown",
   "id": "bb01e374",
   "metadata": {},
   "source": [
    "De Global Environments Trends dataset definieert extreme weersomstandigheden als gebeurtenissen zoals hittegolven, hevige neerslag, extreme kou, orkanen en overstromingen (BRON IS DATASET). Deze weersomstandigheden hebben aantoonbare negatieve effecten op de gezondheid van mensen, wat het welzijn en dus het geluk vermindert (BRON NOG BENOEMEN). Volgens Berry, Bowen en Kjellstrom (2010) kunnen zulke extreme weersomstandigheden leiden tot directe gezondheidsproblemen, zoals hitteberoertes en ademhalingsklachten, en indirecte effecten zoals verhoogde stress, angst en sociale verstoring. \n",
    "\n",
    "Ook in grootschalige empirische studies, zoals die van Rehdanz en Maddison (2005), blijkt dat mensen minder gelukkig zijn in klimaten met veel extreme temperatuurvariatie en overmatige neerslag. In landen met frequente kou of hittegolven is het geluksniveau gemiddeld lager dan in gematigde gebieden.\n",
    "\n",
    "Peng et al. (2016) vonden dat onder andere een hoge luchtvochtigheid en lage zichtbaarheid, weersomstandigheden die vaak voorkomen bij extreme regenval of smog, negatief gecorreleerd zijn met zelfgerapporteerd geluk. Ze tonen ook aan dat de impact van weer op geluk sterker wordt naarmate de omstandigheden extremer worden."
   ]
  },
  {
   "cell_type": "code",
   "execution_count": 10,
   "id": "f37eabe8-5f45-4a7e-9290-8d50c65bce10",
   "metadata": {},
   "outputs": [],
   "source": [
    "df123ExtremeLadder = df123[['country','Extreme_Weather_Events', 'Ladder score']].dropna()\n",
    "df123ExtremeLadder = df123ExtremeLadder.groupby('country', as_index=False).mean(numeric_only=True) # Er waren duplicate values in de oorspronkelijke dataset.\n",
    "correlation = df123ExtremeLadder[['Extreme_Weather_Events','Ladder score']].corr(method='pearson')\n",
    "# print(correlation)"
   ]
  },
  {
   "cell_type": "code",
   "execution_count": 11,
   "id": "9670f668-eb26-466b-9758-c6dae6eafac4",
   "metadata": {},
   "outputs": [
    {
     "data": {
      "image/png": "[encoded data removed]",
      "text/plain": [
       "<Figure size 640x480 with 1 Axes>"
      ]
     },
     "metadata": {},
     "output_type": "display_data"
    },
    {
     "data": {
      "text/plain": [
       "<Figure size 800x600 with 0 Axes>"
      ]
     },
     "metadata": {},
     "output_type": "display_data"
    }
   ],
   "source": [
    "sns.regplot(\n",
    "    data=df123ExtremeLadder,\n",
    "    x='Extreme_Weather_Events',\n",
    "    y='Ladder score',\n",
    "    scatter_kws={'alpha':0.7},\n",
    "    line_kws={\"color\":\"red\"}\n",
    ")\n",
    "plt.title('Correlation between Extreme Weather Events and Happiness (Ladder score)')\n",
    "plt.xlabel('Extreme Weather Events per year')\n",
    "plt.ylabel('Ladder score (Happiness)')\n",
    "plt.grid(True)\n",
    "plt.figure(figsize=(8,6))\n",
    "plt.show()\n"
   ]
  },
  {
   "cell_type": "markdown",
   "id": "dbf82375-b2e8-4a22-b5a9-2c45b960d08a",
   "metadata": {},
   "source": [
    "> *Figuur X: Vivamus elementum semper nisi. Aenean vulputate eleifend tellus. Aenean leo ligula, porttitor eu, consequat vitae, eleifend ac, enim. Aliquam lorem ante, dapibus in, viverra quis, feugiat a, tellus.*"
   ]
  },
  {
   "cell_type": "markdown",
   "id": "e1ec4c90-ccd9-4940-9a0e-18799c438ef5",
   "metadata": {},
   "source": [
    "## Perspectief 2: Sociaal-economische factoren zijn bepalender voor geluk dan klimaat"
   ]
  },
  {
   "cell_type": "markdown",
   "id": "005e94a9",
   "metadata": {},
   "source": [
    "Niet alleen het klimaat heeft invloed op het geluk. Zoals te zien in Figuur X, scoren de Scandinavische landen hoge Happiness scores in vergelijking met andere landen die vaak minder extreme weersomstandigheden hebben. Andere factoren, zoals GDP per capita (BBP per hoofd) en vrijheid, hebben ook invloed op de blijheid van mensen in een bepaald land. Dit komt doordat deze factoren extra betekenis hebben: vrijheid geeft meer ruimte voor men om zichzelf te uiten en een hoger GDP per capita betekent dat individuen in een land vaak meer te besteden hebben.\n",
    "Daarom wordt er gekeken naar de volgende twee argumenten. Ten eerste, dat de Scandinavische landen met extremere weersomstandigheden toch hoge Happiness scores hebben vanwege hun sterke sociale factoren. Ten tweede hebben landen met over het algemeen hogere GDP per capita en een mindere perceptie van corruptie hogere Happiness scores. Hieronder zal er meer worden gezegd over de twee argumenten.\n"
   ]
  },
  {
   "cell_type": "markdown",
   "id": "4a3eacb4-4812-474a-9900-71e2ac33cb5f",
   "metadata": {},
   "source": [
    "## Argument 2.1: Landen als Zweden, Noorwegen en Finland hebben lange, koude winters, maar behoren tot de gelukkigste landen dankzij sterke sociale vangnetten, gezondheidszorg en welvaart."
   ]
  },
  {
   "cell_type": "markdown",
   "id": "62b3848e-5c37-482c-a584-c7c2a02a1e95",
   "metadata": {},
   "source": [
    "Uit Figuur X kunnen we zien dat er een positieve correlatie is tussen Social support en de Happiness score in verschillende landen. Landen met een betere sociale steun, hebben ook vaker een hogere Happiness score. Hieruit valt vooral op dat de landen bovenaan de lijst voornamelijk Scandinavische landen zijn (Zweden, Noorwegen, Finland, IJsland en Denemarken). Als we dit vergelijken met landen met een milder klimaat (tussen de 16 en 23 graden), zien we dat deze landen nog steeds, ondanks redelijke hoge scores in Social support en milder klimaat, toch lager scoren dan de Scandinavische landen. Dit komt zeker niet alleen door Social support en klimaat, maar de Scandinavische landen scoren over het algemeen veel hoger op alle andere factoren in dataset 1 dan andere landen. (BASICALLY WE HEBBEN GEZEGD DAT EEN WARMER KLIMAAT != HOGERE SCORES, MAAR DAT EEN KOUDER KLIMAAT NIET PER SE DE CAUSATIE IS VOOR DE CORRELATIE HIER)"
   ]
  },
  {
   "cell_type": "code",
   "execution_count": 12,
   "id": "982ff45f",
   "metadata": {
    "tags": [
     "hide-input"
    ]
   },
   "outputs": [
    {
     "data": {
      "application/vnd.plotly.v1+json": {
       "config": {
        "plotlyServerURL": "https://plot.ly"
       },
       "data": [
        {
         "hovertemplate": "<b>%{hovertext}</b><br><br>Social support=%{x}<br>Ladder score=%{marker.color}<extra></extra>",
         "hovertext": [
          "Afghanistan",
          "Albania",
          "Algeria",
          "Andorra",
          "Angola",
          "Antigua and Barbuda",
          "Argentina",
          "Armenia",
          "Australia",
          "Australia",
          "Austria",
          "Azerbaijan",
          "Bahamas",
          "Bahrain",
          "Bangladesh",
          "Barbados",
          "Belarus",
          "Belgium",
          "Belize",
          "Benin",
          "Bhutan",
          "Bolivia",
          "Bosnia and Herzegovina",
          "Botswana",
          "Brazil",
          "Brazil",
          "Brunei Darussalam",
          "Bulgaria",
          "Burkina Faso",
          "Burundi",
          "Bélgica",
          "Cambodia",
          "Cameroon",
          "Canada",
          "Cape Verde",
          "Central African Republic",
          "Chad",
          "Chile",
          "China",
          "China",
          "Colombia",
          "Comoros",
          "Congo",
          "Costa Rica",
          "Croatia",
          "Cuba",
          "Cyprus",
          "Czech Republic",
          "Democratic Republic of Congo",
          "Denmark",
          "Djibouti",
          "Dominica",
          "Dominican Republic",
          "Ecuador",
          "Egypt",
          "El Salvador",
          "Equatorial Guinea",
          "Eritrea",
          "Estonia",
          "Estonie",
          "Ethiopia",
          "Fiji Islands",
          "Finland",
          "France",
          "Gabon",
          "Gambia",
          "Georgia",
          "Germany",
          "Germany",
          "Ghana",
          "Greece",
          "Grenada",
          "Guatemala",
          "Guinea",
          "Guinea-Bissau",
          "Guyana",
          "Haiti",
          "Honduras",
          "Hungary",
          "Iceland",
          "Inde",
          "India",
          "India",
          "Indonesia",
          "Iran",
          "Iraq",
          "Ireland",
          "Israel",
          "Italy",
          "Jamaica",
          "Japan",
          "Jemen",
          "Jordan",
          "Kazakhstan",
          "Kenya",
          "Kiribati",
          "Komoren",
          "Kosovo",
          "Kuwait",
          "Kyrghyzstan",
          "Lao People's Democratic Republic",
          "Latvia",
          "Lebanon",
          "Lesotho",
          "Letonia",
          "Liberia",
          "Libya",
          "Liechtenstein",
          "Lithuania",
          "Luxembourg",
          "Macedonia",
          "Madagascar",
          "Malawi",
          "Malaysia",
          "Maldives",
          "Mali",
          "Malta",
          "Malásia",
          "Marrocos",
          "Marshall Islands",
          "Mauritania",
          "Mauritius",
          "Mexico",
          "Mexique",
          "Micronesia",
          "Monaco",
          "Mongolia",
          "Montenegro",
          "Morocco",
          "Mozambique",
          "Myanmar",
          "Namibia",
          "Nepal",
          "Netherlands",
          "New Zealand",
          "Nicaragua",
          "Niger",
          "Nigeria",
          "Nigeria",
          "North Korea",
          "Norway",
          "Oman",
          "Pakistan",
          "Palau",
          "Panama",
          "Papua New Guinea",
          "Paraguay",
          "Peru",
          "Philippines",
          "Poland",
          "Polônia",
          "Portugal",
          "Qatar",
          "Romania",
          "Russia",
          "Russia",
          "Rwanda",
          "Saint Kitts and Nevis",
          "Saint Lucia",
          "Saint Vincent and the Grenadines",
          "Saint-Vincent-et-les-Grenadines",
          "Samoa",
          "San Marino",
          "Saudi Arabia",
          "Saudi Arabien",
          "Senegal",
          "Serbia",
          "Seychelles Islands",
          "Sierra Leone",
          "Singapore",
          "Slovakia",
          "Slovenia",
          "Solomon Islands",
          "Somalia",
          "South Africa",
          "South Korea",
          "Spain",
          "Sri Lanka",
          "Sudan",
          "Suriname",
          "Swaziland",
          "Sweden",
          "Switzerland",
          "Syria",
          "Südkorea",
          "Tajikistan",
          "Tanzania",
          "Thailand",
          "Timor-Leste",
          "Togo",
          "Tonga",
          "Trinidad and Tobago",
          "Tunisia",
          "Turkey",
          "Turkmenistan",
          "Turkménistan",
          "Tuvalu",
          "USA United States of America",
          "Uganda",
          "Ukraine",
          "United Arab Emirates",
          "United Kingdom",
          "United States of America",
          "Uruguay",
          "Uzbekistan",
          "Vanuatu",
          "Vatican City",
          "Venezuela",
          "Vietnam",
          "Yemen",
          "Zambia",
          "Zimbabwe",
          "Гватемала",
          "Польша",
          "Турция",
          "كولومبيا",
          "火鸡"
         ],
         "legendgroup": "",
         "marker": {
          "color": {
           "_inputArray": {
            "0": 1.721,
            "1": 5.304,
            "10": 6.905,
            "100": null,
            "101": 6.234,
            "102": 2.707,
            "103": 3.186,
            "104": null,
            "105": 4.269,
            "106": 5.866,
            "107": null,
            "108": 6.818,
            "109": 7.122,
            "11": 4.893,
            "110": null,
            "111": 4.228,
            "112": 3.421,
            "113": 5.975,
            "114": null,
            "115": 4.232,
            "116": 6.346,
            "117": null,
            "118": null,
            "119": null,
            "12": null,
            "120": 4.505,
            "121": 5.816,
            "122": 6.678,
            "123": null,
            "124": null,
            "125": null,
            "126": 5.696,
            "127": 5.707,
            "128": 4.795,
            "129": 5.216,
            "13": 5.959,
            "130": 4.354,
            "131": 4.832,
            "132": 5.158,
            "133": 7.319,
            "134": 7.029,
            "135": 6.284,
            "136": 4.556,
            "137": 4.881,
            "138": 4.881,
            "139": null,
            "14": 3.886,
            "140": 7.302,
            "141": null,
            "142": 4.657,
            "143": null,
            "144": 6.358,
            "145": null,
            "146": 5.977,
            "147": 5.841,
            "148": 6.048,
            "149": 6.442,
            "15": null,
            "150": null,
            "151": 6.03,
            "152": null,
            "153": 6.491,
            "154": 5.785,
            "155": 5.785,
            "156": null,
            "157": null,
            "158": null,
            "159": null,
            "16": null,
            "160": null,
            "161": null,
            "162": null,
            "163": 6.594,
            "164": null,
            "165": 4.969,
            "166": 6.411,
            "167": null,
            "168": 3.245,
            "169": 6.523,
            "17": 6.894,
            "170": 6.257,
            "171": 6.743,
            "172": null,
            "173": null,
            "174": 5.422,
            "175": 6.058,
            "176": 6.421,
            "177": 3.898,
            "178": null,
            "179": null,
            "18": null,
            "180": null,
            "181": 7.344,
            "182": 7.06,
            "183": null,
            "184": null,
            "185": 5.281,
            "186": 3.781,
            "187": 5.976,
            "188": null,
            "189": 4.214,
            "19": 4.377,
            "190": null,
            "191": null,
            "192": 4.422,
            "193": null,
            "194": null,
            "195": null,
            "196": null,
            "197": null,
            "198": 4.372,
            "199": 4.873,
            "2": 5.364,
            "20": null,
            "200": 6.733,
            "201": 6.749,
            "202": null,
            "203": 6.611,
            "204": 6.195,
            "205": null,
            "206": null,
            "207": 5.607,
            "208": 6.043,
            "209": 3.561,
            "21": 5.784,
            "210": 3.502,
            "211": 3.341,
            "212": null,
            "213": null,
            "214": null,
            "215": null,
            "216": null,
            "22": 5.877,
            "23": 3.383,
            "24": 6.272,
            "25": 6.272,
            "26": null,
            "27": 5.463,
            "28": 4.548,
            "29": null,
            "3": null,
            "30": null,
            "31": 4.341,
            "32": 4.874,
            "33": 6.9,
            "34": null,
            "35": null,
            "36": 4.471,
            "37": 6.36,
            "38": 5.973,
            "39": 5.973,
            "4": null,
            "40": 5.695,
            "41": 3.566,
            "42": null,
            "43": 6.955,
            "44": 5.942,
            "45": null,
            "46": 6.068,
            "47": null,
            "48": null,
            "49": 7.583,
            "5": null,
            "50": null,
            "51": null,
            "52": 5.823,
            "53": 5.725,
            "54": 3.977,
            "55": 6.469,
            "56": null,
            "57": null,
            "58": 6.448,
            "59": null,
            "6": 6.188,
            "60": 3.861,
            "61": null,
            "62": 7.741,
            "63": 6.609,
            "64": 5.106,
            "65": 4.485,
            "66": 5.185,
            "67": 6.719,
            "68": 6.719,
            "69": 4.289,
            "7": 5.455,
            "70": 5.934,
            "71": null,
            "72": 6.287,
            "73": 5.023,
            "74": null,
            "75": null,
            "76": null,
            "77": 5.968,
            "78": 6.017,
            "79": 7.525,
            "8": 7.057,
            "80": null,
            "81": 4.054,
            "82": 4.054,
            "83": 5.568,
            "84": 4.923,
            "85": 5.166,
            "86": 6.838,
            "87": 7.341,
            "88": 6.324,
            "89": 5.842,
            "9": 7.057,
            "90": 6.06,
            "91": null,
            "92": 4.186,
            "93": 6.188,
            "94": 4.47,
            "95": null,
            "96": null,
            "97": 6.561,
            "98": 6.951,
            "99": null,
            "bdata": "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",
            "dtype": "f8",
            "shape": "217"
           },
           "bdata": "8KfGSzeJ+z+e76fGSzcVQNv5fmq8dBVAAAAAAAAA+H8AAAAAAAD4fwAAAAAAAPh/jZduEoPAGEBSuB6F69EVQO58PzVeOhxA7nw/NV46HEAfhetRuJ4bQN9PjZdukhNAAAAAAAAA+H+8dJMYBNYXQEoMAiuHFg9AAAAAAAAA+H8AAAAAAAD4f/p+arx0kxtAAAAAAAAA+H81XrpJDIIRQAAAAAAAAPh/iUFg5dAiF0A1XrpJDIIXQKrx0k1iEAtASgwCK4cWGUBKDAIrhxYZQAAAAAAAAPh/JzEIrBzaFUD+1HjpJjESQAAAAAAAAPh/AAAAAAAA+H93vp8aL10RQOXQItv5fhNAmpmZmZmZG0AAAAAAAAD4fwAAAAAAAPh//Knx0k3iEUBxPQrXo3AZQDEIrBxa5BdAMQisHFrkF0BI4XoUrscWQLpJDAIrhwxAAAAAAAAA+H9SuB6F69EbQPhT46WbxBdAAAAAAAAA+H8Sg8DKoUUYQAAAAAAAAPh/AAAAAAAA+H+iRbbz/VQeQAAAAAAAAPh/AAAAAAAA+H+YbhKDwEoXQGZmZmZm5hZAN4lBYOXQD0DHSzeJQeAZQAAAAAAAAPh/AAAAAAAA+H+YbhKDwMoZQAAAAAAAAPh/F9nO91PjDkAAAAAAAAD4fxBYObTI9h5AVg4tsp1vGkAGgZVDi2wUQHE9Ctej8BFAPQrXo3C9FEDHSzeJQeAaQMdLN4lB4BpADi2yne8nEUAj2/l+arwXQAAAAAAAAPh/2c73U+MlGUBkO99PjRcUQAAAAAAAAPh/AAAAAAAA+H8AAAAAAAD4f6wcWmQ73xdAxSCwcmgRGECamZmZmRkeQAAAAAAAAPh/nu+nxks3EECe76fGSzcQQBKDwMqhRRZA/tR46SaxE0BEi2zn+6kUQCcxCKwcWhtAd76fGi9dHUCyne+nxksZQJHtfD81XhdAPQrXo3A9GEAAAAAAAAD4f1g5tMh2vhBAjZduEoPAGEDhehSuR+ERQAAAAAAAAPh/AAAAAAAA+H9YObTIdj4aQOf7qfHSzRtAAAAAAAAA+H8AAAAAAAD4f1YOLbKd7xhADi2yne+nBUCwcmiR7XwJQAAAAAAAAPh/+n5qvHQTEUAQWDm0yHYXQAAAAAAAAPh/EoPAyqFFG0CwcmiR7XwcQAAAAAAAAPh/tvP91HjpEECR7Xw/NV4LQGZmZmZm5hdAAAAAAAAA+H8hsHJoke0QQPyp8dJNYhlAAAAAAAAA+H8AAAAAAAD4fwAAAAAAAPh/hetRuB4FEkDdJAaBlUMXQIPAyqFFthpAAAAAAAAA+H8AAAAAAAD4fwAAAAAAAPh/YhBYObTIFkCHFtnO99MWQK5H4XoULhNAd76fGi/dFEDRItv5fmoRQIcW2c73UxNAbxKDwMqhFEAtsp3vp0YdQARWDi2yHRxAiUFg5dAiGUDTTWIQWDkSQKAaL90khhNAoBov3SSGE0AAAAAAAAD4f2iR7Xw/NR1AAAAAAAAA+H9U46WbxKASQAAAAAAAAPh/O99PjZduGUAAAAAAAAD4f5zEILBy6BdAd76fGi9dF0D+1HjpJjEYQPhT46WbxBlAAAAAAAAA+H8fhetRuB4YQAAAAAAAAPh/EFg5tMj2GUCkcD0K1yMXQKRwPQrXIxdAAAAAAAAA+H8AAAAAAAD4fwAAAAAAAPh/AAAAAAAA+H8AAAAAAAD4fwAAAAAAAPh/AAAAAAAA+H/HSzeJQWAaQAAAAAAAAPh/x0s3iUHgE0C+nxov3aQZQAAAAAAAAPh/9ihcj8L1CUBkO99PjRcaQLpJDAIrBxlARrbz/dT4GkAAAAAAAAD4fwAAAAAAAPh/46WbxCCwFUAIrBxaZDsYQMl2vp8arxlAyXa+nxovD0AAAAAAAAD4fwAAAAAAAPh/AAAAAAAA+H/HSzeJQWAdQD0K16NwPRxAAAAAAAAA+H8AAAAAAAD4fzm0yHa+HxVAc2iR7Xw/DkCBlUOLbOcXQAAAAAAAAPh/QmDl0CLbEEAAAAAAAAD4fwAAAAAAAPh/46WbxCCwEUAAAAAAAAD4fwAAAAAAAPh/AAAAAAAA+H8AAAAAAAD4fwAAAAAAAPh/sHJoke18EUDLoUW2830TQDvfT42X7hpA5dAi2/n+GkAAAAAAAAD4f4ts5/upcRpASOF6FK7HGEAAAAAAAAD4fwAAAAAAAPh/IbByaJFtFkB56SYxCCwYQLByaJHtfAxAarx0kxgEDEDufD81XroKQAAAAAAAAPh/AAAAAAAA+H8AAAAAAAD4fwAAAAAAAPh/AAAAAAAA+H8=",
           "dtype": "f8"
          },
          "coloraxis": "coloraxis",
          "opacity": 0.7,
          "size": 8,
          "symbol": "circle"
         },
         "mode": "markers",
         "name": "",
         "orientation": "v",
         "showlegend": false,
         "textposition": "top center",
         "type": "scatter",
         "x": {
          "_inputArray": {
           "0": 0,
           "1": 0.924,
           "10": 1.336,
           "100": null,
           "101": 1.508,
           "102": 0.577,
           "103": 0.851,
           "104": null,
           "105": 0.673,
           "106": 1.1,
           "107": null,
           "108": 1.454,
           "109": 1.355,
           "11": 0.876,
           "110": null,
           "111": 0.823,
           "112": 0.41,
           "113": 1.143,
           "114": null,
           "115": 0.688,
           "116": 1.444,
           "117": null,
           "118": null,
           "119": null,
           "12": null,
           "120": 0.705,
           "121": 1.358,
           "122": 1.241,
           "123": null,
           "124": null,
           "125": null,
           "126": 1.511,
           "127": 1.318,
           "128": 0.471,
           "129": 0.883,
           "13": null,
           "130": 0.988,
           "131": 1.212,
           "132": 0.99,
           "133": 1.462,
           "134": 1.527,
           "135": 1.263,
           "136": 0.677,
           "137": 1.075,
           "138": 1.075,
           "139": null,
           "14": 0.249,
           "140": 1.517,
           "141": null,
           "142": 0.6,
           "143": null,
           "144": 1.392,
           "145": null,
           "146": 1.408,
           "147": 1.18,
           "148": 1.146,
           "149": 1.417,
           "15": null,
           "150": null,
           "151": 1.368,
           "152": null,
           "153": 1.236,
           "154": 1.351,
           "155": 1.351,
           "156": null,
           "157": null,
           "158": null,
           "159": null,
           "16": null,
           "160": null,
           "161": null,
           "162": null,
           "163": 1.361,
           "164": null,
           "165": 0.751,
           "166": 1.391,
           "167": null,
           "168": 0.566,
           "169": 1.361,
           "17": 1.44,
           "170": 1.54,
           "171": 1.502,
           "172": null,
           "173": null,
           "174": 1.369,
           "175": 1.178,
           "176": 1.471,
           "177": 1.179,
           "178": null,
           "179": null,
           "18": null,
           "180": null,
           "181": 1.501,
           "182": 1.425,
           "183": null,
           "184": null,
           "185": null,
           "186": 0.706,
           "187": 1.347,
           "188": null,
           "189": 0.586,
           "19": 0.128,
           "190": null,
           "191": null,
           "192": 0.955,
           "193": null,
           "194": null,
           "195": null,
           "196": null,
           "197": null,
           "198": 1.151,
           "199": 1.315,
           "2": 1.191,
           "20": null,
           "200": 1.164,
           "201": 1.326,
           "202": null,
           "203": 1.431,
           "204": 1.394,
           "205": null,
           "206": null,
           "207": 1.321,
           "208": 1.267,
           "209": 1.281,
           "21": 1.179,
           "210": 0.809,
           "211": 0.85,
           "212": null,
           "213": null,
           "214": null,
           "215": null,
           "216": null,
           "22": 1.318,
           "23": 0.969,
           "24": 1.269,
           "25": 1.269,
           "26": null,
           "27": 1.469,
           "28": 0.685,
           "29": null,
           "3": null,
           "30": null,
           "31": 1.019,
           "32": 0.856,
           "33": 1.459,
           "34": null,
           "35": null,
           "36": 0.805,
           "37": 1.369,
           "38": 1.239,
           "39": 1.239,
           "4": null,
           "40": 1.241,
           "41": 0.328,
           "42": null,
           "43": 1.373,
           "44": 1.445,
           "45": null,
           "46": 1.217,
           "47": null,
           "48": null,
           "49": 1.52,
           "5": null,
           "50": null,
           "51": null,
           "52": 1.272,
           "53": 1.151,
           "54": 0.996,
           "55": 1.08,
           "56": null,
           "57": null,
           "58": 1.527,
           "59": null,
           "6": 1.381,
           "60": 0.915,
           "61": null,
           "62": 1.572,
           "63": 1.348,
           "64": 1.038,
           "65": 0.684,
           "66": 0.99,
           "67": 1.39,
           "68": 1.39,
           "69": 0.747,
           "7": 1.154,
           "70": 1.276,
           "71": null,
           "72": 1.169,
           "73": 0.622,
           "74": null,
           "75": null,
           "76": null,
           "77": 1.035,
           "78": 1.528,
           "79": 1.617,
           "8": 1.461,
           "80": null,
           "81": 0.653,
           "82": 0.653,
           "83": 1.184,
           "84": 1.136,
           "85": 0.996,
           "86": 1.39,
           "87": 1.513,
           "88": 1.328,
           "89": 1.324,
           "9": 1.461,
           "90": 1.354,
           "91": null,
           "92": 0.983,
           "93": 1.457,
           "94": 0.895,
           "95": null,
           "96": null,
           "97": 1.277,
           "98": 1.364,
           "99": null,
           "bdata": "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",
           "dtype": "f8",
           "shape": "217"
          },
          "bdata": "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",
          "dtype": "f8"
         },
         "xaxis": "x",
         "y": {
          "_inputArray": {
           "0": 1.721,
           "1": 5.304,
           "10": 6.905,
           "100": null,
           "101": 6.234,
           "102": 2.707,
           "103": 3.186,
           "104": null,
           "105": 4.269,
           "106": 5.866,
           "107": null,
           "108": 6.818,
           "109": 7.122,
           "11": 4.893,
           "110": null,
           "111": 4.228,
           "112": 3.421,
           "113": 5.975,
           "114": null,
           "115": 4.232,
           "116": 6.346,
           "117": null,
           "118": null,
           "119": null,
           "12": null,
           "120": 4.505,
           "121": 5.816,
           "122": 6.678,
           "123": null,
           "124": null,
           "125": null,
           "126": 5.696,
           "127": 5.707,
           "128": 4.795,
           "129": 5.216,
           "13": 5.959,
           "130": 4.354,
           "131": 4.832,
           "132": 5.158,
           "133": 7.319,
           "134": 7.029,
           "135": 6.284,
           "136": 4.556,
           "137": 4.881,
           "138": 4.881,
           "139": null,
           "14": 3.886,
           "140": 7.302,
           "141": null,
           "142": 4.657,
           "143": null,
           "144": 6.358,
           "145": null,
           "146": 5.977,
           "147": 5.841,
           "148": 6.048,
           "149": 6.442,
           "15": null,
           "150": null,
           "151": 6.03,
           "152": null,
           "153": 6.491,
           "154": 5.785,
           "155": 5.785,
           "156": null,
           "157": null,
           "158": null,
           "159": null,
           "16": null,
           "160": null,
           "161": null,
           "162": null,
           "163": 6.594,
           "164": null,
           "165": 4.969,
           "166": 6.411,
           "167": null,
           "168": 3.245,
           "169": 6.523,
           "17": 6.894,
           "170": 6.257,
           "171": 6.743,
           "172": null,
           "173": null,
           "174": 5.422,
           "175": 6.058,
           "176": 6.421,
           "177": 3.898,
           "178": null,
           "179": null,
           "18": null,
           "180": null,
           "181": 7.344,
           "182": 7.06,
           "183": null,
           "184": null,
           "185": 5.281,
           "186": 3.781,
           "187": 5.976,
           "188": null,
           "189": 4.214,
           "19": 4.377,
           "190": null,
           "191": null,
           "192": 4.422,
           "193": null,
           "194": null,
           "195": null,
           "196": null,
           "197": null,
           "198": 4.372,
           "199": 4.873,
           "2": 5.364,
           "20": null,
           "200": 6.733,
           "201": 6.749,
           "202": null,
           "203": 6.611,
           "204": 6.195,
           "205": null,
           "206": null,
           "207": 5.607,
           "208": 6.043,
           "209": 3.561,
           "21": 5.784,
           "210": 3.502,
           "211": 3.341,
           "212": null,
           "213": null,
           "214": null,
           "215": null,
           "216": null,
           "22": 5.877,
           "23": 3.383,
           "24": 6.272,
           "25": 6.272,
           "26": null,
           "27": 5.463,
           "28": 4.548,
           "29": null,
           "3": null,
           "30": null,
           "31": 4.341,
           "32": 4.874,
           "33": 6.9,
           "34": null,
           "35": null,
           "36": 4.471,
           "37": 6.36,
           "38": 5.973,
           "39": 5.973,
           "4": null,
           "40": 5.695,
           "41": 3.566,
           "42": null,
           "43": 6.955,
           "44": 5.942,
           "45": null,
           "46": 6.068,
           "47": null,
           "48": null,
           "49": 7.583,
           "5": null,
           "50": null,
           "51": null,
           "52": 5.823,
           "53": 5.725,
           "54": 3.977,
           "55": 6.469,
           "56": null,
           "57": null,
           "58": 6.448,
           "59": null,
           "6": 6.188,
           "60": 3.861,
           "61": null,
           "62": 7.741,
           "63": 6.609,
           "64": 5.106,
           "65": 4.485,
           "66": 5.185,
           "67": 6.719,
           "68": 6.719,
           "69": 4.289,
           "7": 5.455,
           "70": 5.934,
           "71": null,
           "72": 6.287,
           "73": 5.023,
           "74": null,
           "75": null,
           "76": null,
           "77": 5.968,
           "78": 6.017,
           "79": 7.525,
           "8": 7.057,
           "80": null,
           "81": 4.054,
           "82": 4.054,
           "83": 5.568,
           "84": 4.923,
           "85": 5.166,
           "86": 6.838,
           "87": 7.341,
           "88": 6.324,
           "89": 5.842,
           "9": 7.057,
           "90": 6.06,
           "91": null,
           "92": 4.186,
           "93": 6.188,
           "94": 4.47,
           "95": null,
           "96": null,
           "97": 6.561,
           "98": 6.951,
           "99": null,
           "bdata": "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",
           "dtype": "f8",
           "shape": "217"
          },
          "bdata": "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",
          "dtype": "f8"
         },
         "yaxis": "y"
        },
        {
         "hovertemplate": "<b>OLS trendline</b><br>Ladder score = 2.96208 * Social support + 2.18271<br>R<sup>2</sup>=0.684833<br><br>Social support=%{x}<br>Ladder score=%{y} <b>(trend)</b><extra></extra>",
         "legendgroup": "",
         "marker": {
          "opacity": 0.7,
          "size": 8,
          "symbol": "circle"
         },
         "mode": "lines",
         "name": "",
         "showlegend": false,
         "textposition": "top center",
         "type": "scatter",
         "x": {
          "_inputArray": {
           "0": 0,
           "1": 0.128,
           "10": 0.622,
           "100": 1.39,
           "101": 1.39,
           "102": 1.39,
           "103": 1.391,
           "104": 1.392,
           "105": 1.394,
           "106": 1.408,
           "107": 1.417,
           "108": 1.425,
           "109": 1.431,
           "11": 0.653,
           "110": 1.44,
           "111": 1.444,
           "112": 1.445,
           "113": 1.454,
           "114": 1.457,
           "115": 1.459,
           "116": 1.461,
           "117": 1.461,
           "118": 1.462,
           "119": 1.469,
           "12": 0.653,
           "120": 1.471,
           "121": 1.501,
           "122": 1.502,
           "123": 1.508,
           "124": 1.511,
           "125": 1.513,
           "126": 1.517,
           "127": 1.52,
           "128": 1.527,
           "129": 1.527,
           "13": 0.673,
           "130": 1.528,
           "131": 1.54,
           "132": 1.572,
           "133": 1.617,
           "14": 0.677,
           "15": 0.684,
           "16": 0.685,
           "17": 0.688,
           "18": 0.705,
           "19": 0.706,
           "2": 0.249,
           "20": 0.747,
           "21": 0.751,
           "22": 0.805,
           "23": 0.809,
           "24": 0.823,
           "25": 0.85,
           "26": 0.851,
           "27": 0.856,
           "28": 0.876,
           "29": 0.883,
           "3": 0.328,
           "30": 0.895,
           "31": 0.915,
           "32": 0.924,
           "33": 0.955,
           "34": 0.969,
           "35": 0.983,
           "36": 0.988,
           "37": 0.99,
           "38": 0.99,
           "39": 0.996,
           "4": 0.41,
           "40": 0.996,
           "41": 1.019,
           "42": 1.035,
           "43": 1.038,
           "44": 1.075,
           "45": 1.075,
           "46": 1.08,
           "47": 1.1,
           "48": 1.136,
           "49": 1.143,
           "5": 0.471,
           "50": 1.146,
           "51": 1.151,
           "52": 1.151,
           "53": 1.154,
           "54": 1.164,
           "55": 1.169,
           "56": 1.178,
           "57": 1.179,
           "58": 1.179,
           "59": 1.18,
           "6": 0.566,
           "60": 1.184,
           "61": 1.191,
           "62": 1.212,
           "63": 1.217,
           "64": 1.236,
           "65": 1.239,
           "66": 1.239,
           "67": 1.241,
           "68": 1.241,
           "69": 1.263,
           "7": 0.577,
           "70": 1.267,
           "71": 1.269,
           "72": 1.269,
           "73": 1.272,
           "74": 1.276,
           "75": 1.277,
           "76": 1.281,
           "77": 1.315,
           "78": 1.318,
           "79": 1.318,
           "8": 0.586,
           "80": 1.321,
           "81": 1.324,
           "82": 1.326,
           "83": 1.328,
           "84": 1.336,
           "85": 1.347,
           "86": 1.348,
           "87": 1.351,
           "88": 1.351,
           "89": 1.354,
           "9": 0.6,
           "90": 1.355,
           "91": 1.358,
           "92": 1.361,
           "93": 1.361,
           "94": 1.364,
           "95": 1.368,
           "96": 1.369,
           "97": 1.369,
           "98": 1.373,
           "99": 1.381,
           "bdata": "AAAAAAAAAAD8qfHSTWLAP6wcWmQ7388/y6FFtvP91D89CtejcD3aP76fGi/dJN4/6SYxCKwc4j8QWDm0yHbiP42XbhKDwOI/MzMzMzMz4z+BlUOLbOfjP0w3iUFg5eQ/TDeJQWDl5D/wp8ZLN4nlP0SLbOf7qeU/F9nO91Pj5T/sUbgehevlP2q8dJMYBOY/j8L1KFyP5j9kO99PjZfmP4GVQ4ts5+c/1XjpJjEI6D/D9Shcj8LpPxfZzvdT4+k/vHSTGARW6j8zMzMzMzPrPwisHFpkO+s/MQisHFpk6z/VeOkmMQjsP6jGSzeJQew/pHA9Ctej7D9I4XoUrkftP8UgsHJoke0/j8L1KFyP7j81XrpJDALvP9v5fmq8dO8/BFYOLbKd7z+uR+F6FK7vP65H4XoUru8/rBxaZDvf7z+sHFpkO9/vP+f7qfHSTfA/j8L1KFyP8D/P91PjpZvwPzMzMzMzM/E/MzMzMzMz8T9I4XoUrkfxP5qZmZmZmfE/kxgEVg4t8j99PzVeuknyP7x0kxgEVvI/0SLb+X5q8j/RItv5fmryPxBYObTIdvI/ObTIdr6f8j9OYhBYObTyPwwCK4cW2fI/d76fGi/d8j93vp8aL93yP+F6FK5H4fI/i2zn+6nx8j91kxgEVg7zPzEIrBxaZPM/Rrbz/dR48z8tsp3vp8bzP23n+6nx0vM/bef7qfHS8z9CYOXQItvzP0Jg5dAi2/M/aJHtfD819D8Sg8DKoUX0P+f7qfHSTfQ/5/up8dJN9D8nMQisHFr0P9Ei2/l+avQ/O99PjZdu9D/l0CLb+X70PwrXo3A9CvU/SgwCK4cW9T9KDAIrhxb1P4lBYOXQIvU/yXa+nxov9T+e76fGSzf1P3Noke18P/U/x0s3iUFg9T9aZDvfT431P8UgsHJokfU/BFYOLbKd9T8EVg4tsp31P0SLbOf7qfU/rkfhehSu9T/ufD81Xrr1Py2yne+nxvU/LbKd76fG9T9t5/up8dL1PxfZzvdT4/U/gZVDi2zn9T+BlUOLbOf1PyuHFtnO9/U/f2q8dJMY9j89CtejcD32Pz0K16NwPfY/PQrXo3A99j+oxks3iUH2PxKDwMqhRfY/5/up8dJN9j+6SQwCK4f2P3npJjEIrPY/zczMzMzM9j9MN4lBYOX2PwrXo3A9Cvc/tMh2vp8a9z8fhetRuB73P90kBoGVQ/c/HVpkO99P9z/y0k1iEFj3P8dLN4lBYPc/x0s3iUFg9z8xCKwcWmT3Pxsv3SQGgfc/8KfGSzeJ9z9qvHSTGAT4P9V46SYxCPg/VOOlm8Qg+D+TGARWDi34P2iR7Xw/Nfg/EoPAyqFF+D9SuB6F61H4PzvfT42Xbvg/O99PjZdu+D+mm8QgsHL4P6RwPQrXo/g/9P3UeOkm+T+sHFpkO9/5Pw==",
           "dtype": "f8",
           "shape": "134"
          },
          "bdata": "AAAAAAAAAAD8qfHSTWLAP6wcWmQ7388/y6FFtvP91D89CtejcD3aP76fGi/dJN4/6SYxCKwc4j8QWDm0yHbiP42XbhKDwOI/MzMzMzMz4z+BlUOLbOfjP0w3iUFg5eQ/TDeJQWDl5D/wp8ZLN4nlP0SLbOf7qeU/F9nO91Pj5T/sUbgehevlP2q8dJMYBOY/j8L1KFyP5j9kO99PjZfmP4GVQ4ts5+c/1XjpJjEI6D/D9Shcj8LpPxfZzvdT4+k/vHSTGARW6j8zMzMzMzPrPwisHFpkO+s/MQisHFpk6z/VeOkmMQjsP6jGSzeJQew/pHA9Ctej7D9I4XoUrkftP8UgsHJoke0/j8L1KFyP7j81XrpJDALvP9v5fmq8dO8/BFYOLbKd7z+uR+F6FK7vP65H4XoUru8/rBxaZDvf7z+sHFpkO9/vP+f7qfHSTfA/j8L1KFyP8D/P91PjpZvwPzMzMzMzM/E/MzMzMzMz8T9I4XoUrkfxP5qZmZmZmfE/kxgEVg4t8j99PzVeuknyP7x0kxgEVvI/0SLb+X5q8j/RItv5fmryPxBYObTIdvI/ObTIdr6f8j9OYhBYObTyPwwCK4cW2fI/d76fGi/d8j93vp8aL93yP+F6FK5H4fI/i2zn+6nx8j91kxgEVg7zPzEIrBxaZPM/Rrbz/dR48z8tsp3vp8bzP23n+6nx0vM/bef7qfHS8z9CYOXQItvzP0Jg5dAi2/M/aJHtfD819D8Sg8DKoUX0P+f7qfHSTfQ/5/up8dJN9D8nMQisHFr0P9Ei2/l+avQ/O99PjZdu9D/l0CLb+X70PwrXo3A9CvU/SgwCK4cW9T9KDAIrhxb1P4lBYOXQIvU/yXa+nxov9T+e76fGSzf1P3Noke18P/U/x0s3iUFg9T9aZDvfT431P8UgsHJokfU/BFYOLbKd9T8EVg4tsp31P0SLbOf7qfU/rkfhehSu9T/ufD81Xrr1Py2yne+nxvU/LbKd76fG9T9t5/up8dL1PxfZzvdT4/U/gZVDi2zn9T+BlUOLbOf1PyuHFtnO9/U/f2q8dJMY9j89CtejcD32Pz0K16NwPfY/PQrXo3A99j+oxks3iUH2PxKDwMqhRfY/5/up8dJN9j+6SQwCK4f2P3npJjEIrPY/zczMzMzM9j9MN4lBYOX2PwrXo3A9Cvc/tMh2vp8a9z8fhetRuB73P90kBoGVQ/c/HVpkO99P9z/y0k1iEFj3P8dLN4lBYPc/x0s3iUFg9z8xCKwcWmT3Pxsv3SQGgfc/8KfGSzeJ9z9qvHSTGAT4P9V46SYxCPg/VOOlm8Qg+D+TGARWDi34P2iR7Xw/Nfg/EoPAyqFF+D9SuB6F61H4PzvfT42Xbvg/O99PjZdu+D+mm8QgsHL4P6RwPQrXo/g/9P3UeOkm+T+sHFpkO9/5Pw==",
          "dtype": "f8"
         },
         "xaxis": "x",
         "y": {
          "_inputArray": {
           "0": 2.1827065548248856,
           "1": 2.5618527162801055,
           "10": 4.025119933146345,
           "100": 6.299996901877664,
           "101": 6.299996901877664,
           "102": 6.299996901877664,
           "103": 6.302958981264034,
           "104": 6.305921060650402,
           "105": 6.311845219423141,
           "106": 6.353314330832305,
           "107": 6.379973045309626,
           "108": 6.4036696804005775,
           "109": 6.42144215671879,
           "11": 4.116944394123781,
           "110": 6.448100871196109,
           "111": 6.459949188741586,
           "112": 6.4629112681279555,
           "113": 6.489569982605275,
           "114": 6.498456220764382,
           "115": 6.504380379537119,
           "116": 6.510304538309857,
           "117": 6.510304538309857,
           "118": 6.513266617696226,
           "119": 6.534001173400808,
           "12": 4.116944394123781,
           "120": 6.539925332173546,
           "121": 6.628787713764613,
           "122": 6.631749793150982,
           "123": 6.6495222694691964,
           "124": 6.658408507628302,
           "125": 6.664332666401039,
           "126": 6.676180983946516,
           "127": 6.685067222105623,
           "128": 6.705801777810205,
           "129": 6.705801777810205,
           "13": 4.17618598185116,
           "130": 6.708763857196574,
           "131": 6.744308809833001,
           "132": 6.839095350196805,
           "133": 6.972388922583406,
           "14": 4.1880342993966355,
           "15": 4.2087688551012175,
           "16": 4.211730934487586,
           "17": 4.220617172646692,
           "18": 4.270972522214964,
           "19": 4.273934601601333,
           "2": 2.920264322030743,
           "20": 4.395379856442458,
           "21": 4.407228173987933,
           "22": 4.567180460851855,
           "23": 4.579028778397331,
           "24": 4.6204978898064955,
           "25": 4.700474033238455,
           "26": 4.703436112624825,
           "27": 4.7182465095566695,
           "28": 4.777488097284047,
           "29": 4.798222652988629,
           "3": 3.154268593553887,
           "30": 4.833767605625056,
           "31": 4.893009193352435,
           "32": 4.919667907829755,
           "33": 5.011492368807191,
           "34": 5.052961480216355,
           "35": 5.09443059162552,
           "36": 5.109240988557365,
           "37": 5.115165147330103,
           "38": 5.115165147330103,
           "39": 5.132937623648315,
           "4": 3.3971591032361372,
           "40": 5.132937623648315,
           "41": 5.2010654495348,
           "42": 5.248458719716703,
           "43": 5.2573449578758105,
           "44": 5.366941895171459,
           "45": 5.366941895171459,
           "46": 5.381752292103304,
           "47": 5.440993879830682,
           "48": 5.547628737739963,
           "49": 5.568363293444545,
           "5": 3.5778459458046403,
           "50": 5.577249531603652,
           "51": 5.592059928535496,
           "52": 5.592059928535496,
           "53": 5.6009461666946025,
           "54": 5.630566960558292,
           "55": 5.645377357490137,
           "56": 5.672036071967456,
           "57": 5.674998151353826,
           "58": 5.674998151353826,
           "59": 5.677960230740194,
           "6": 3.859243487509686,
           "60": 5.68980854828567,
           "61": 5.710543103990252,
           "62": 5.772746771104,
           "63": 5.787557168035844,
           "64": 5.843836676376853,
           "65": 5.85272291453596,
           "66": 5.85272291453596,
           "67": 5.858647073308698,
           "68": 5.858647073308698,
           "69": 5.923812819808814,
           "7": 3.891826360759744,
           "70": 5.935661137354289,
           "71": 5.941585296127027,
           "72": 5.941585296127027,
           "73": 5.950471534286134,
           "74": 5.96231985183161,
           "75": 5.965281931217978,
           "76": 5.977130248763453,
           "77": 6.077840947899997,
           "78": 6.086727186059104,
           "79": 6.086727186059104,
           "8": 3.918485075237064,
           "80": 6.09561342421821,
           "81": 6.104499662377317,
           "82": 6.1104238211500554,
           "83": 6.116347979922793,
           "84": 6.140044615013744,
           "85": 6.172627488263801,
           "86": 6.175589567650171,
           "87": 6.184475805809278,
           "88": 6.184475805809278,
           "89": 6.193362043968385,
           "9": 3.959954186646229,
           "90": 6.196324123354753,
           "91": 6.20521036151386,
           "92": 6.214096599672967,
           "93": 6.214096599672967,
           "94": 6.222982837832074,
           "95": 6.234831155377549,
           "96": 6.2377932347639184,
           "97": 6.2377932347639184,
           "98": 6.249641552309393,
           "99": 6.273338187400345,
           "bdata": "1+at2i52AUAMvAyjrH4EQJhhdoqzXAdAMOkgLPE7CUDGqX3AYS0LQGHb+rFtnwxAnj2xDLvfDkDwY+nbdSIPQO4OALQOWQ9AQG7qdfytD0BzXS0KuRkQQETZcEXAdxBARNlwRcB3EEDtQRgZarQQQEK9ORCMwBBAFlW0gMfVEEDrs3z+z9gQQGrQ1Xfp4RBAkxwk0nkVEUBoe+xPghgRQI6rA3XelBFA4iYlbAChEUDcJ2n0ykQSQDGjiuvsUBJA2tJ/zGN7EkBW06EQSc0SQCwyao5R0BJAVgxUA3zfEkD+dPvWJRwTQNIMdkdhMRNA0H7aLMdVE0B554EAcZITQPg8jWy9rRNAybjQp8QLFEBy6MWIOzYUQBsYu2myYBRARfKk3txvFEDwrzXa7XUUQPCvNdrtdRRA7ujnzCCIFEDu6OfMIIgUQBZu6BnkzRRAaltu9mv+FEDqd8dvhQcVQLosvZ2/dxVAuiy9nb93FUDkBqcS6oYVQIxvTuaTwxVAiMV7lsUwFkBcXfYGAUYWQNx5T4AaTxZABlQ59UReFkAGVDn1RF4WQIVwkm5eZxZA2iRmWLOFFkAE/0/N3ZQWQIJUWzkqsBZAWLMjtzKzFkBYsyO3MrMWQCwS7DQ7thZAgo0NLF3CFkBWJYicmNcWQNTs9+1KFxdA/sbhYnUmF0DQ0MC4FmAXQFDtGTIwaRdAUO0ZMjBpF0D7qqotQW8XQPuqqi1BbxdATdHi/PuxF0CiTAT0Hb4XQEwKle8uxBdATAqV7y7EF0DMJu5oSM0XQCGiD2Bq2RdA9gDY3XLcF0BKfPnUlOgXQJwUlom1TxhAHDHvAs9YGEAcMe8Cz1gYQJtNSHzoYRhAG2qh9QFrGEDGJzLxEnEYQHDlwuwjdxhAGtwF22ePGEBC76FCxbAYQBhOasDNsxhAmGrDOee8GECYasM557wYQBiHHLMAxhhA7OXkMAnJGEBsAj6qItIYQOwelyM82xhA7B6XIzzbGEBsO/CcVeQYQMC2EZR38BhAlhXaEYDzGECWFdoRgPMYQOqQ+wii/xhAlIc+9+UXGUAS3UljMjMZQBLdSWMyMxlAEt1JYzIzGUDoOxLhOjYZQLya2l5DORlAaFhrWlQ/GUAQiGA7y2kZQJDda6cXhRlAOtSulVudGUA4DWGIjq8ZQLZibPTayhlADN6N6/zWGUDiPFZpBdoZQGCSYdVR9RlA4K66Tmv+GUCKbEtKfAQaQDQq3EWNChpANCrcRY0KGkAKiaTDlQ0aQN4gHzTRIhpAiN6vL+IoGkCE+yrt4IMaQFpa82rphhpAWpOlXRyZGkDYr/7WNaIaQIJtj9JGqBpA2OiwyWi0GkBYBQpDgr0aQCydhLO90hpALJ2Es73SGkAC/EwxxtUaQABusRYs+hpApki9zztbG0Ag9PXrueMbQA==",
           "dtype": "f8",
           "shape": "134"
          },
          "bdata": "1+at2i52AUAMvAyjrH4EQJhhdoqzXAdAMOkgLPE7CUDGqX3AYS0LQGHb+rFtnwxAnj2xDLvfDkDwY+nbdSIPQO4OALQOWQ9AQG7qdfytD0BzXS0KuRkQQETZcEXAdxBARNlwRcB3EEDtQRgZarQQQEK9ORCMwBBAFlW0gMfVEEDrs3z+z9gQQGrQ1Xfp4RBAkxwk0nkVEUBoe+xPghgRQI6rA3XelBFA4iYlbAChEUDcJ2n0ykQSQDGjiuvsUBJA2tJ/zGN7EkBW06EQSc0SQCwyao5R0BJAVgxUA3zfEkD+dPvWJRwTQNIMdkdhMRNA0H7aLMdVE0B554EAcZITQPg8jWy9rRNAybjQp8QLFEBy6MWIOzYUQBsYu2myYBRARfKk3txvFEDwrzXa7XUUQPCvNdrtdRRA7ujnzCCIFEDu6OfMIIgUQBZu6BnkzRRAaltu9mv+FEDqd8dvhQcVQLosvZ2/dxVAuiy9nb93FUDkBqcS6oYVQIxvTuaTwxVAiMV7lsUwFkBcXfYGAUYWQNx5T4AaTxZABlQ59UReFkAGVDn1RF4WQIVwkm5eZxZA2iRmWLOFFkAE/0/N3ZQWQIJUWzkqsBZAWLMjtzKzFkBYsyO3MrMWQCwS7DQ7thZAgo0NLF3CFkBWJYicmNcWQNTs9+1KFxdA/sbhYnUmF0DQ0MC4FmAXQFDtGTIwaRdAUO0ZMjBpF0D7qqotQW8XQPuqqi1BbxdATdHi/PuxF0CiTAT0Hb4XQEwKle8uxBdATAqV7y7EF0DMJu5oSM0XQCGiD2Bq2RdA9gDY3XLcF0BKfPnUlOgXQJwUlom1TxhAHDHvAs9YGEAcMe8Cz1gYQJtNSHzoYRhAG2qh9QFrGEDGJzLxEnEYQHDlwuwjdxhAGtwF22ePGEBC76FCxbAYQBhOasDNsxhAmGrDOee8GECYasM557wYQBiHHLMAxhhA7OXkMAnJGEBsAj6qItIYQOwelyM82xhA7B6XIzzbGEBsO/CcVeQYQMC2EZR38BhAlhXaEYDzGECWFdoRgPMYQOqQ+wii/xhAlIc+9+UXGUAS3UljMjMZQBLdSWMyMxlAEt1JYzIzGUDoOxLhOjYZQLya2l5DORlAaFhrWlQ/GUAQiGA7y2kZQJDda6cXhRlAOtSulVudGUA4DWGIjq8ZQLZibPTayhlADN6N6/zWGUDiPFZpBdoZQGCSYdVR9RlA4K66Tmv+GUCKbEtKfAQaQDQq3EWNChpANCrcRY0KGkAKiaTDlQ0aQN4gHzTRIhpAiN6vL+IoGkCE+yrt4IMaQFpa82rphhpAWpOlXRyZGkDYr/7WNaIaQIJtj9JGqBpA2OiwyWi0GkBYBQpDgr0aQCydhLO90hpALJ2Es73SGkAC/EwxxtUaQABusRYs+hpApki9zztbG0Ag9PXrueMbQA==",
          "dtype": "f8"
         },
         "yaxis": "y"
        },
        {
         "hovertemplate": "<b>%{hovertext}</b><br><br>Highlight=Mild Climate<br>Social support=%{x}<br>Ladder score=%{y}<br>country=%{text}<extra></extra>",
         "hovertext": [
          "Afghanistan",
          "Armenia",
          "Austria",
          "Azerbaijan",
          "Bolivia",
          "Bosnia and Herzegovina",
          "Bulgaria",
          "Bélgica",
          "China",
          "China",
          "Costa Rica",
          "Croatia",
          "Czech Republic",
          "El Salvador",
          "Eritrea",
          "Ethiopia",
          "France",
          "Georgia",
          "Germany",
          "Germany",
          "Guatemala",
          "Honduras",
          "Hungary",
          "Japan",
          "Kyrghyzstan",
          "Lesotho",
          "Letonia",
          "Monaco",
          "Morocco",
          "Nepal",
          "North Korea",
          "Paraguay",
          "Peru",
          "Poland",
          "Portugal",
          "Romania",
          "San Marino",
          "Serbia",
          "Slovakia",
          "Slovenia",
          "South Korea",
          "Spain",
          "Tonga",
          "Ukraine"
         ],
         "legendgroup": "Mild Climate",
         "marker": {
          "color": "orange",
          "opacity": 0.9,
          "size": 10,
          "symbol": "circle"
         },
         "mode": "markers+text",
         "name": "Mild Climate",
         "orientation": "v",
         "showlegend": true,
         "text": [
          "Afghanistan",
          "Armenia",
          "Austria",
          "Azerbaijan",
          "Bolivia",
          "Bosnia and Herzegovina",
          "Bulgaria",
          "Bélgica",
          "China",
          "China",
          "Costa Rica",
          "Croatia",
          "Czech Republic",
          "El Salvador",
          "Eritrea",
          "Ethiopia",
          "France",
          "Georgia",
          "Germany",
          "Germany",
          "Guatemala",
          "Honduras",
          "Hungary",
          "Japan",
          "Kyrghyzstan",
          "Lesotho",
          "Letonia",
          "Monaco",
          "Morocco",
          "Nepal",
          "North Korea",
          "Paraguay",
          "Peru",
          "Poland",
          "Portugal",
          "Romania",
          "San Marino",
          "Serbia",
          "Slovakia",
          "Slovenia",
          "South Korea",
          "Spain",
          "Tonga",
          "Ukraine"
         ],
         "textposition": "top center",
         "type": "scatter",
         "x": {
          "_inputArray": {
           "0": 0,
           "1": 1.154,
           "10": 1.373,
           "11": 1.445,
           "12": null,
           "13": 1.08,
           "14": null,
           "15": 0.915,
           "16": 1.348,
           "17": 0.99,
           "18": 1.39,
           "19": 1.39,
           "2": 1.336,
           "20": 1.169,
           "21": 1.035,
           "22": 1.528,
           "23": 1.354,
           "24": null,
           "25": 0.851,
           "26": null,
           "27": null,
           "28": 0.471,
           "29": 0.99,
           "3": 0.876,
           "30": null,
           "31": 1.408,
           "32": 1.18,
           "33": 1.417,
           "34": 1.368,
           "35": 1.236,
           "36": null,
           "37": 1.391,
           "38": 1.54,
           "39": 1.502,
           "4": 1.179,
           "40": 1.178,
           "41": 1.471,
           "42": null,
           "43": 1.315,
           "5": 1.318,
           "6": 1.469,
           "7": null,
           "8": 1.239,
           "9": 1.239,
           "bdata": "AAAAAAAAAAAQWDm0yHbyP8dLN4lBYPU/1XjpJjEI7D93vp8aL93yP0oMAiuHFvU/Gy/dJAaB9z8AAAAAAAD4f23n+6nx0vM/bef7qfHS8z8rhxbZzvf1Px+F61G4Hvc/AAAAAAAA+H9I4XoUrkfxPwAAAAAAAPh/SOF6FK5H7T/FILByaJH1P65H4XoUru8/PQrXo3A99j89CtejcD32P05iEFg5tPI/j8L1KFyP8D+mm8QgsHL4P0SLbOf7qfU/AAAAAAAA+H8IrBxaZDvrPwAAAAAAAPh/AAAAAAAA+H++nxov3STeP65H4XoUru8/AAAAAAAA+H+6SQwCK4f2P+F6FK5H4fI/eekmMQis9j8X2c73U+P1Py2yne+nxvM/AAAAAAAA+H+oxks3iUH2P6RwPQrXo/g/1XjpJjEI+D8MAiuHFtnyP/Cnxks3ifc/AAAAAAAA+H8K16NwPQr1Pw==",
           "dtype": "f8",
           "shape": "44"
          },
          "bdata": "AAAAAAAAAAAQWDm0yHbyP8dLN4lBYPU/1XjpJjEI7D93vp8aL93yP0oMAiuHFvU/Gy/dJAaB9z8AAAAAAAD4f23n+6nx0vM/bef7qfHS8z8rhxbZzvf1Px+F61G4Hvc/AAAAAAAA+H9I4XoUrkfxPwAAAAAAAPh/SOF6FK5H7T/FILByaJH1P65H4XoUru8/PQrXo3A99j89CtejcD32P05iEFg5tPI/j8L1KFyP8D+mm8QgsHL4P0SLbOf7qfU/AAAAAAAA+H8IrBxaZDvrPwAAAAAAAPh/AAAAAAAA+H++nxov3STeP65H4XoUru8/AAAAAAAA+H+6SQwCK4f2P+F6FK5H4fI/eekmMQis9j8X2c73U+P1Py2yne+nxvM/AAAAAAAA+H+oxks3iUH2P6RwPQrXo/g/1XjpJjEI+D8MAiuHFtnyP/Cnxks3ifc/AAAAAAAA+H8K16NwPQr1Pw==",
          "dtype": "f8"
         },
         "xaxis": "x2",
         "y": {
          "_inputArray": {
           "0": 1.721,
           "1": 5.455,
           "10": 6.955,
           "11": 5.942,
           "12": null,
           "13": 6.469,
           "14": null,
           "15": 3.861,
           "16": 6.609,
           "17": 5.185,
           "18": 6.719,
           "19": 6.719,
           "2": 6.905,
           "20": 6.287,
           "21": 5.968,
           "22": 6.017,
           "23": 6.06,
           "24": null,
           "25": 3.186,
           "26": null,
           "27": null,
           "28": 4.795,
           "29": 5.158,
           "3": 4.893,
           "30": null,
           "31": 5.977,
           "32": 5.841,
           "33": 6.442,
           "34": 6.03,
           "35": 6.491,
           "36": null,
           "37": 6.411,
           "38": 6.257,
           "39": 6.743,
           "4": 5.784,
           "40": 6.058,
           "41": 6.421,
           "42": null,
           "43": 4.873,
           "5": 5.877,
           "6": 5.463,
           "7": null,
           "8": 5.973,
           "9": 5.973,
           "bdata": "8KfGSzeJ+z9SuB6F69EVQB+F61G4nhtA30+Nl26SE0CJQWDl0CIXQDVeukkMghdAJzEIrBzaFUAAAAAAAAD4fzEIrBxa5BdAMQisHFrkF0BSuB6F69EbQPhT46WbxBdAAAAAAAAA+H/HSzeJQeAZQAAAAAAAAPh/F9nO91PjDkBWDi2ynW8aQD0K16NwvRRAx0s3iUHgGkDHSzeJQeAaQNnO91PjJRlArBxaZDvfF0DFILByaBEYQD0K16NwPRhAAAAAAAAA+H+wcmiR7XwJQAAAAAAAAPh/AAAAAAAA+H+uR+F6FC4TQG8Sg8DKoRRAAAAAAAAA+H+cxCCwcugXQHe+nxovXRdA+FPjpZvEGUAfhetRuB4YQBBYObTI9hlAAAAAAAAA+H++nxov3aQZQLpJDAIrBxlARrbz/dT4GkAIrBxaZDsYQMl2vp8arxlAAAAAAAAA+H/LoUW2830TQA==",
           "dtype": "f8",
           "shape": "44"
          },
          "bdata": "8KfGSzeJ+z9SuB6F69EVQB+F61G4nhtA30+Nl26SE0CJQWDl0CIXQDVeukkMghdAJzEIrBzaFUAAAAAAAAD4fzEIrBxa5BdAMQisHFrkF0BSuB6F69EbQPhT46WbxBdAAAAAAAAA+H/HSzeJQeAZQAAAAAAAAPh/F9nO91PjDkBWDi2ynW8aQD0K16NwvRRAx0s3iUHgGkDHSzeJQeAaQNnO91PjJRlArBxaZDvfF0DFILByaBEYQD0K16NwPRhAAAAAAAAA+H+wcmiR7XwJQAAAAAAAAPh/AAAAAAAA+H+uR+F6FC4TQG8Sg8DKoRRAAAAAAAAA+H+cxCCwcugXQHe+nxovXRdA+FPjpZvEGUAfhetRuB4YQBBYObTI9hlAAAAAAAAA+H++nxov3aQZQLpJDAIrBxlARrbz/dT4GkAIrBxaZDsYQMl2vp8arxlAAAAAAAAA+H/LoUW2830TQA==",
          "dtype": "f8"
         },
         "yaxis": "y2"
        },
        {
         "hovertemplate": "<b>%{hovertext}</b><br><br>Highlight=Nordic<br>Social support=%{x}<br>Ladder score=%{y}<br>country=%{text}<extra></extra>",
         "hovertext": [
          "Denmark",
          "Finland",
          "Iceland",
          "Norway",
          "Sweden"
         ],
         "legendgroup": "Nordic",
         "marker": {
          "color": "blue",
          "opacity": 0.9,
          "size": 10,
          "symbol": "circle"
         },
         "mode": "markers+text",
         "name": "Nordic",
         "orientation": "v",
         "showlegend": true,
         "text": [
          "Denmark",
          "Finland",
          "Iceland",
          "Norway",
          "Sweden"
         ],
         "textposition": "top center",
         "type": "scatter",
         "x": {
          "_inputArray": {
           "0": 1.52,
           "1": 1.572,
           "2": 1.617,
           "3": 1.517,
           "4": 1.501,
           "bdata": "UrgehetR+D/0/dR46Sb5P6wcWmQ73/k/EoPAyqFF+D9qvHSTGAT4Pw==",
           "dtype": "f8",
           "shape": "5"
          },
          "bdata": "UrgehetR+D/0/dR46Sb5P6wcWmQ73/k/EoPAyqFF+D9qvHSTGAT4Pw==",
          "dtype": "f8"
         },
         "xaxis": "x2",
         "y": {
          "_inputArray": {
           "0": 7.583,
           "1": 7.741,
           "2": 7.525,
           "3": 7.302,
           "4": 7.344,
           "bdata": "okW28/1UHkAQWDm0yPYeQJqZmZmZGR5AaJHtfD81HUDHSzeJQWAdQA==",
           "dtype": "f8",
           "shape": "5"
          },
          "bdata": "okW28/1UHkAQWDm0yPYeQJqZmZmZGR5AaJHtfD81HUDHSzeJQWAdQA==",
          "dtype": "f8"
         },
         "yaxis": "y2"
        }
       ],
       "layout": {
        "annotations": [
         {
          "font": {
           "size": 16
          },
          "showarrow": false,
          "text": "Alle landen met trendline",
          "x": 0.5,
          "xanchor": "center",
          "xref": "paper",
          "y": 1,
          "yanchor": "bottom",
          "yref": "paper"
         },
         {
          "font": {
           "size": 16
          },
          "showarrow": false,
          "text": "Nordic vs Mild Climate",
          "x": 0.5,
          "xanchor": "center",
          "xref": "paper",
          "y": 0.375,
          "yanchor": "bottom",
          "yref": "paper"
         }
        ],
        "height": 1000,
        "showlegend": false,
        "template": {
         "data": {
          "bar": [
           {
            "error_x": {
             "color": "#2a3f5f"
            },
            "error_y": {
             "color": "#2a3f5f"
            },
            "marker": {
             "line": {
              "color": "#E5ECF6",
              "width": 0.5
             },
             "pattern": {
              "fillmode": "overlay",
              "size": 10,
              "solidity": 0.2
             }
            },
            "type": "bar"
           }
          ],
          "barpolar": [
           {
            "marker": {
             "line": {
              "color": "#E5ECF6",
              "width": 0.5
             },
             "pattern": {
              "fillmode": "overlay",
              "size": 10,
              "solidity": 0.2
             }
            },
            "type": "barpolar"
           }
          ],
          "carpet": [
           {
            "aaxis": {
             "endlinecolor": "#2a3f5f",
             "gridcolor": "white",
             "linecolor": "white",
             "minorgridcolor": "white",
             "startlinecolor": "#2a3f5f"
            },
            "baxis": {
             "endlinecolor": "#2a3f5f",
             "gridcolor": "white",
             "linecolor": "white",
             "minorgridcolor": "white",
             "startlinecolor": "#2a3f5f"
            },
            "type": "carpet"
           }
          ],
          "choropleth": [
           {
            "colorbar": {
             "outlinewidth": 0,
             "ticks": ""
            },
            "type": "choropleth"
           }
          ],
          "contour": [
           {
            "colorbar": {
             "outlinewidth": 0,
             "ticks": ""
            },
            "colorscale": [
             [
              0,
              "#0d0887"
             ],
             [
              0.1111111111111111,
              "#46039f"
             ],
             [
              0.2222222222222222,
              "#7201a8"
             ],
             [
              0.3333333333333333,
              "#9c179e"
             ],
             [
              0.4444444444444444,
              "#bd3786"
             ],
             [
              0.5555555555555556,
              "#d8576b"
             ],
             [
              0.6666666666666666,
              "#ed7953"
             ],
             [
              0.7777777777777778,
              "#fb9f3a"
             ],
             [
              0.8888888888888888,
              "#fdca26"
             ],
             [
              1,
              "#f0f921"
             ]
            ],
            "type": "contour"
           }
          ],
          "contourcarpet": [
           {
            "colorbar": {
             "outlinewidth": 0,
             "ticks": ""
            },
            "type": "contourcarpet"
           }
          ],
          "heatmap": [
           {
            "colorbar": {
             "outlinewidth": 0,
             "ticks": ""
            },
            "colorscale": [
             [
              0,
              "#0d0887"
             ],
             [
              0.1111111111111111,
              "#46039f"
             ],
             [
              0.2222222222222222,
              "#7201a8"
             ],
             [
              0.3333333333333333,
              "#9c179e"
             ],
             [
              0.4444444444444444,
              "#bd3786"
             ],
             [
              0.5555555555555556,
              "#d8576b"
             ],
             [
              0.6666666666666666,
              "#ed7953"
             ],
             [
              0.7777777777777778,
              "#fb9f3a"
             ],
             [
              0.8888888888888888,
              "#fdca26"
             ],
             [
              1,
              "#f0f921"
             ]
            ],
            "type": "heatmap"
           }
          ],
          "histogram": [
           {
            "marker": {
             "pattern": {
              "fillmode": "overlay",
              "size": 10,
              "solidity": 0.2
             }
            },
            "type": "histogram"
           }
          ],
          "histogram2d": [
           {
            "colorbar": {
             "outlinewidth": 0,
             "ticks": ""
            },
            "colorscale": [
             [
              0,
              "#0d0887"
             ],
             [
              0.1111111111111111,
              "#46039f"
             ],
             [
              0.2222222222222222,
              "#7201a8"
             ],
             [
              0.3333333333333333,
              "#9c179e"
             ],
             [
              0.4444444444444444,
              "#bd3786"
             ],
             [
              0.5555555555555556,
              "#d8576b"
             ],
             [
              0.6666666666666666,
              "#ed7953"
             ],
             [
              0.7777777777777778,
              "#fb9f3a"
             ],
             [
              0.8888888888888888,
              "#fdca26"
             ],
             [
              1,
              "#f0f921"
             ]
            ],
            "type": "histogram2d"
           }
          ],
          "histogram2dcontour": [
           {
            "colorbar": {
             "outlinewidth": 0,
             "ticks": ""
            },
            "colorscale": [
             [
              0,
              "#0d0887"
             ],
             [
              0.1111111111111111,
              "#46039f"
             ],
             [
              0.2222222222222222,
              "#7201a8"
             ],
             [
              0.3333333333333333,
              "#9c179e"
             ],
             [
              0.4444444444444444,
              "#bd3786"
             ],
             [
              0.5555555555555556,
              "#d8576b"
             ],
             [
              0.6666666666666666,
              "#ed7953"
             ],
             [
              0.7777777777777778,
              "#fb9f3a"
             ],
             [
              0.8888888888888888,
              "#fdca26"
             ],
             [
              1,
              "#f0f921"
             ]
            ],
            "type": "histogram2dcontour"
           }
          ],
          "mesh3d": [
           {
            "colorbar": {
             "outlinewidth": 0,
             "ticks": ""
            },
            "type": "mesh3d"
           }
          ],
          "parcoords": [
           {
            "line": {
             "colorbar": {
              "outlinewidth": 0,
              "ticks": ""
             }
            },
            "type": "parcoords"
           }
          ],
          "pie": [
           {
            "automargin": true,
            "type": "pie"
           }
          ],
          "scatter": [
           {
            "fillpattern": {
             "fillmode": "overlay",
             "size": 10,
             "solidity": 0.2
            },
            "type": "scatter"
           }
          ],
          "scatter3d": [
           {
            "line": {
             "colorbar": {
              "outlinewidth": 0,
              "ticks": ""
             }
            },
            "marker": {
             "colorbar": {
              "outlinewidth": 0,
              "ticks": ""
             }
            },
            "type": "scatter3d"
           }
          ],
          "scattercarpet": [
           {
            "marker": {
             "colorbar": {
              "outlinewidth": 0,
              "ticks": ""
             }
            },
            "type": "scattercarpet"
           }
          ],
          "scattergeo": [
           {
            "marker": {
             "colorbar": {
              "outlinewidth": 0,
              "ticks": ""
             }
            },
            "type": "scattergeo"
           }
          ],
          "scattergl": [
           {
            "marker": {
             "colorbar": {
              "outlinewidth": 0,
              "ticks": ""
             }
            },
            "type": "scattergl"
           }
          ],
          "scattermap": [
           {
            "marker": {
             "colorbar": {
              "outlinewidth": 0,
              "ticks": ""
             }
            },
            "type": "scattermap"
           }
          ],
          "scattermapbox": [
           {
            "marker": {
             "colorbar": {
              "outlinewidth": 0,
              "ticks": ""
             }
            },
            "type": "scattermapbox"
           }
          ],
          "scatterpolar": [
           {
            "marker": {
             "colorbar": {
              "outlinewidth": 0,
              "ticks": ""
             }
            },
            "type": "scatterpolar"
           }
          ],
          "scatterpolargl": [
           {
            "marker": {
             "colorbar": {
              "outlinewidth": 0,
              "ticks": ""
             }
            },
            "type": "scatterpolargl"
           }
          ],
          "scatterternary": [
           {
            "marker": {
             "colorbar": {
              "outlinewidth": 0,
              "ticks": ""
             }
            },
            "type": "scatterternary"
           }
          ],
          "surface": [
           {
            "colorbar": {
             "outlinewidth": 0,
             "ticks": ""
            },
            "colorscale": [
             [
              0,
              "#0d0887"
             ],
             [
              0.1111111111111111,
              "#46039f"
             ],
             [
              0.2222222222222222,
              "#7201a8"
             ],
             [
              0.3333333333333333,
              "#9c179e"
             ],
             [
              0.4444444444444444,
              "#bd3786"
             ],
             [
              0.5555555555555556,
              "#d8576b"
             ],
             [
              0.6666666666666666,
              "#ed7953"
             ],
             [
              0.7777777777777778,
              "#fb9f3a"
             ],
             [
              0.8888888888888888,
              "#fdca26"
             ],
             [
              1,
              "#f0f921"
             ]
            ],
            "type": "surface"
           }
          ],
          "table": [
           {
            "cells": {
             "fill": {
              "color": "#EBF0F8"
             },
             "line": {
              "color": "white"
             }
            },
            "header": {
             "fill": {
              "color": "#C8D4E3"
             },
             "line": {
              "color": "white"
             }
            },
            "type": "table"
           }
          ]
         },
         "layout": {
          "annotationdefaults": {
           "arrowcolor": "#2a3f5f",
           "arrowhead": 0,
           "arrowwidth": 1
          },
          "autotypenumbers": "strict",
          "coloraxis": {
           "colorbar": {
            "outlinewidth": 0,
            "ticks": ""
           }
          },
          "colorscale": {
           "diverging": [
            [
             0,
             "#8e0152"
            ],
            [
             0.1,
             "#c51b7d"
            ],
            [
             0.2,
             "#de77ae"
            ],
            [
             0.3,
             "#f1b6da"
            ],
            [
             0.4,
             "#fde0ef"
            ],
            [
             0.5,
             "#f7f7f7"
            ],
            [
             0.6,
             "#e6f5d0"
            ],
            [
             0.7,
             "#b8e186"
            ],
            [
             0.8,
             "#7fbc41"
            ],
            [
             0.9,
             "#4d9221"
            ],
            [
             1,
             "#276419"
            ]
           ],
           "sequential": [
            [
             0,
             "#0d0887"
            ],
            [
             0.1111111111111111,
             "#46039f"
            ],
            [
             0.2222222222222222,
             "#7201a8"
            ],
            [
             0.3333333333333333,
             "#9c179e"
            ],
            [
             0.4444444444444444,
             "#bd3786"
            ],
            [
             0.5555555555555556,
             "#d8576b"
            ],
            [
             0.6666666666666666,
             "#ed7953"
            ],
            [
             0.7777777777777778,
             "#fb9f3a"
            ],
            [
             0.8888888888888888,
             "#fdca26"
            ],
            [
             1,
             "#f0f921"
            ]
           ],
           "sequentialminus": [
            [
             0,
             "#0d0887"
            ],
            [
             0.1111111111111111,
             "#46039f"
            ],
            [
             0.2222222222222222,
             "#7201a8"
            ],
            [
             0.3333333333333333,
             "#9c179e"
            ],
            [
             0.4444444444444444,
             "#bd3786"
            ],
            [
             0.5555555555555556,
             "#d8576b"
            ],
            [
             0.6666666666666666,
             "#ed7953"
            ],
            [
             0.7777777777777778,
             "#fb9f3a"
            ],
            [
             0.8888888888888888,
             "#fdca26"
            ],
            [
             1,
             "#f0f921"
            ]
           ]
          },
          "colorway": [
           "#636efa",
           "#EF553B",
           "#00cc96",
           "#ab63fa",
           "#FFA15A",
           "#19d3f3",
           "#FF6692",
           "#B6E880",
           "#FF97FF",
           "#FECB52"
          ],
          "font": {
           "color": "#2a3f5f"
          },
          "geo": {
           "bgcolor": "white",
           "lakecolor": "white",
           "landcolor": "#E5ECF6",
           "showlakes": true,
           "showland": true,
           "subunitcolor": "white"
          },
          "hoverlabel": {
           "align": "left"
          },
          "hovermode": "closest",
          "mapbox": {
           "style": "light"
          },
          "paper_bgcolor": "white",
          "plot_bgcolor": "#E5ECF6",
          "polar": {
           "angularaxis": {
            "gridcolor": "white",
            "linecolor": "white",
            "ticks": ""
           },
           "bgcolor": "#E5ECF6",
           "radialaxis": {
            "gridcolor": "white",
            "linecolor": "white",
            "ticks": ""
           }
          },
          "scene": {
           "xaxis": {
            "backgroundcolor": "#E5ECF6",
            "gridcolor": "white",
            "gridwidth": 2,
            "linecolor": "white",
            "showbackground": true,
            "ticks": "",
            "zerolinecolor": "white"
           },
           "yaxis": {
            "backgroundcolor": "#E5ECF6",
            "gridcolor": "white",
            "gridwidth": 2,
            "linecolor": "white",
            "showbackground": true,
            "ticks": "",
            "zerolinecolor": "white"
           },
           "zaxis": {
            "backgroundcolor": "#E5ECF6",
            "gridcolor": "white",
            "gridwidth": 2,
            "linecolor": "white",
            "showbackground": true,
            "ticks": "",
            "zerolinecolor": "white"
           }
          },
          "shapedefaults": {
           "line": {
            "color": "#2a3f5f"
           }
          },
          "ternary": {
           "aaxis": {
            "gridcolor": "white",
            "linecolor": "white",
            "ticks": ""
           },
           "baxis": {
            "gridcolor": "white",
            "linecolor": "white",
            "ticks": ""
           },
           "bgcolor": "#E5ECF6",
           "caxis": {
            "gridcolor": "white",
            "linecolor": "white",
            "ticks": ""
           }
          },
          "title": {
           "x": 0.05
          },
          "xaxis": {
           "automargin": true,
           "gridcolor": "white",
           "linecolor": "white",
           "ticks": "",
           "title": {
            "standoff": 15
           },
           "zerolinecolor": "white",
           "zerolinewidth": 2
          },
          "yaxis": {
           "automargin": true,
           "gridcolor": "white",
           "linecolor": "white",
           "ticks": "",
           "title": {
            "standoff": 15
           },
           "zerolinecolor": "white",
           "zerolinewidth": 2
          }
         }
        },
        "title": {
         "text": "Vergelijking: Klimaat en Geluk"
        },
        "width": 1000,
        "xaxis": {
         "anchor": "y",
         "autorange": true,
         "domain": [
          0,
          1
         ],
         "range": [
          -0.10199269085002709,
          1.718992690850027
         ],
         "title": {
          "text": "Social support"
         },
         "type": "linear"
        },
        "xaxis2": {
         "anchor": "y2",
         "autorange": true,
         "domain": [
          0,
          1
         ],
         "range": [
          -0.10508413690071983,
          1.7220841369007198
         ],
         "title": {
          "text": "Social support"
         },
         "type": "linear"
        },
        "yaxis": {
         "anchor": "x",
         "autorange": true,
         "domain": [
          0.625,
          1
         ],
         "range": [
          1.2611780693533272,
          8.200821930646672
         ],
         "title": {
          "text": "Happiness score"
         },
         "type": "linear"
        },
        "yaxis2": {
         "anchor": "x2",
         "autorange": true,
         "domain": [
          0,
          0.375
         ],
         "range": [
          1.2283509933774837,
          8.233649006622516
         ],
         "title": {
          "text": "Happiness score"
         },
         "type": "linear"
        }
       }
      },
      "text/html": [
       "<div>            <script src=\"https://cdnjs.cloudflare.com/ajax/libs/mathjax/2.7.5/MathJax.js?config=TeX-AMS-MML_SVG\"></script><script type=\"text/javascript\">if (window.MathJax && window.MathJax.Hub && window.MathJax.Hub.Config) {window.MathJax.Hub.Config({SVG: {font: \"STIX-Web\"}});}</script>                <script type=\"text/javascript\">window.PlotlyConfig = {MathJaxConfig: 'local'};</script>\n",
       "        <script charset=\"utf-8\" src=\"https://cdn.plot.ly/plotly-3.0.1.min.js\"></script>                <div id=\"48bcf9b7-6d23-4931-a42e-bb705dbd7c5d\" class=\"plotly-graph-div\" style=\"height:1000px; width:1000px;\"></div>            <script type=\"text/javascript\">                window.PLOTLYENV=window.PLOTLYENV || {};                                if (document.getElementById(\"48bcf9b7-6d23-4931-a42e-bb705dbd7c5d\")) {                    Plotly.newPlot(                        \"48bcf9b7-6d23-4931-a42e-bb705dbd7c5d\",                        [{\"hovertemplate\":\"\\u003cb\\u003e%{hovertext}\\u003c\\u002fb\\u003e\\u003cbr\\u003e\\u003cbr\\u003eSocial support=%{x}\\u003cbr\\u003eLadder score=%{marker.color}\\u003cextra\\u003e\\u003c\\u002fextra\\u003e\",\"hovertext\":[\"Afghanistan\",\"Albania\",\"Algeria\",\"Andorra\",\"Angola\",\"Antigua and Barbuda\",\"Argentina\",\"Armenia\",\"Australia\",\"Australia\",\"Austria\",\"Azerbaijan\",\"Bahamas\",\"Bahrain\",\"Bangladesh\",\"Barbados\",\"Belarus\",\"Belgium\",\"Belize\",\"Benin\",\"Bhutan\",\"Bolivia\",\"Bosnia and Herzegovina\",\"Botswana\",\"Brazil\",\"Brazil\",\"Brunei Darussalam\",\"Bulgaria\",\"Burkina Faso\",\"Burundi\",\"B\\u00e9lgica\",\"Cambodia\",\"Cameroon\",\"Canada\",\"Cape Verde\",\"Central African Republic\",\"Chad\",\"Chile\",\"China\",\"China\",\"Colombia\",\"Comoros\",\"Congo\",\"Costa Rica\",\"Croatia\",\"Cuba\",\"Cyprus\",\"Czech Republic\",\"Democratic Republic of Congo\",\"Denmark\",\"Djibouti\",\"Dominica\",\"Dominican Republic\",\"Ecuador\",\"Egypt\",\"El Salvador\",\"Equatorial Guinea\",\"Eritrea\",\"Estonia\",\"Estonie\",\"Ethiopia\",\"Fiji Islands\",\"Finland\",\"France\",\"Gabon\",\"Gambia\",\"Georgia\",\"Germany\",\"Germany\",\"Ghana\",\"Greece\",\"Grenada\",\"Guatemala\",\"Guinea\",\"Guinea-Bissau\",\"Guyana\",\"Haiti\",\"Honduras\",\"Hungary\",\"Iceland\",\"Inde\",\"India\",\"India\",\"Indonesia\",\"Iran\",\"Iraq\",\"Ireland\",\"Israel\",\"Italy\",\"Jamaica\",\"Japan\",\"Jemen\",\"Jordan\",\"Kazakhstan\",\"Kenya\",\"Kiribati\",\"Komoren\",\"Kosovo\",\"Kuwait\",\"Kyrghyzstan\",\"Lao People's Democratic Republic\",\"Latvia\",\"Lebanon\",\"Lesotho\",\"Letonia\",\"Liberia\",\"Libya\",\"Liechtenstein\",\"Lithuania\",\"Luxembourg\",\"Macedonia\",\"Madagascar\",\"Malawi\",\"Malaysia\",\"Maldives\",\"Mali\",\"Malta\",\"Mal\\u00e1sia\",\"Marrocos\",\"Marshall Islands\",\"Mauritania\",\"Mauritius\",\"Mexico\",\"Mexique\",\"Micronesia\",\"Monaco\",\"Mongolia\",\"Montenegro\",\"Morocco\",\"Mozambique\",\"Myanmar\",\"Namibia\",\"Nepal\",\"Netherlands\",\"New Zealand\",\"Nicaragua\",\"Niger\",\"Nigeria\",\"Nigeria\",\"North Korea\",\"Norway\",\"Oman\",\"Pakistan\",\"Palau\",\"Panama\",\"Papua New Guinea\",\"Paraguay\",\"Peru\",\"Philippines\",\"Poland\",\"Pol\\u00f4nia\",\"Portugal\",\"Qatar\",\"Romania\",\"Russia\",\"Russia\",\"Rwanda\",\"Saint Kitts and Nevis\",\"Saint Lucia\",\"Saint Vincent and the Grenadines\",\"Saint-Vincent-et-les-Grenadines\",\"Samoa\",\"San Marino\",\"Saudi Arabia\",\"Saudi Arabien\",\"Senegal\",\"Serbia\",\"Seychelles Islands\",\"Sierra Leone\",\"Singapore\",\"Slovakia\",\"Slovenia\",\"Solomon Islands\",\"Somalia\",\"South Africa\",\"South Korea\",\"Spain\",\"Sri Lanka\",\"Sudan\",\"Suriname\",\"Swaziland\",\"Sweden\",\"Switzerland\",\"Syria\",\"S\\u00fcdkorea\",\"Tajikistan\",\"Tanzania\",\"Thailand\",\"Timor-Leste\",\"Togo\",\"Tonga\",\"Trinidad and Tobago\",\"Tunisia\",\"Turkey\",\"Turkmenistan\",\"Turkm\\u00e9nistan\",\"Tuvalu\",\"USA United States of America\",\"Uganda\",\"Ukraine\",\"United Arab Emirates\",\"United Kingdom\",\"United States of America\",\"Uruguay\",\"Uzbekistan\",\"Vanuatu\",\"Vatican City\",\"Venezuela\",\"Vietnam\",\"Yemen\",\"Zambia\",\"Zimbabwe\",\"\\u0413\\u0432\\u0430\\u0442\\u0435\\u043c\\u0430\\u043b\\u0430\",\"\\u041f\\u043e\\u043b\\u044c\\u0448\\u0430\",\"\\u0422\\u0443\\u0440\\u0446\\u0438\\u044f\",\"\\u0643\\u0648\\u0644\\u0648\\u0645\\u0628\\u064a\\u0627\",\"\\u706b\\u9e21\"],\"legendgroup\":\"\",\"marker\":{\"color\":{\"dtype\":\"f8\",\"bdata\":\"8KfGSzeJ+z+e76fGSzcVQNv5fmq8dBVAAAAAAAAA+H8AAAAAAAD4fwAAAAAAAPh\\u002fjZduEoPAGEBSuB6F69EVQO58PzVeOhxA7nw\\u002fNV46HEAfhetRuJ4bQN9PjZdukhNAAAAAAAAA+H+8dJMYBNYXQEoMAiuHFg9AAAAAAAAA+H8AAAAAAAD4f\\u002fp+arx0kxtAAAAAAAAA+H81XrpJDIIRQAAAAAAAAPh\\u002fiUFg5dAiF0A1XrpJDIIXQKrx0k1iEAtASgwCK4cWGUBKDAIrhxYZQAAAAAAAAPh\\u002fJzEIrBzaFUD+1HjpJjESQAAAAAAAAPh\\u002fAAAAAAAA+H93vp8aL10RQOXQItv5fhNAmpmZmZmZG0AAAAAAAAD4fwAAAAAAAPh\\u002f\\u002fKnx0k3iEUBxPQrXo3AZQDEIrBxa5BdAMQisHFrkF0BI4XoUrscWQLpJDAIrhwxAAAAAAAAA+H9SuB6F69EbQPhT46WbxBdAAAAAAAAA+H8Sg8DKoUUYQAAAAAAAAPh\\u002fAAAAAAAA+H+iRbbz\\u002fVQeQAAAAAAAAPh\\u002fAAAAAAAA+H+YbhKDwEoXQGZmZmZm5hZAN4lBYOXQD0DHSzeJQeAZQAAAAAAAAPh\\u002fAAAAAAAA+H+YbhKDwMoZQAAAAAAAAPh\\u002fF9nO91PjDkAAAAAAAAD4fxBYObTI9h5AVg4tsp1vGkAGgZVDi2wUQHE9Ctej8BFAPQrXo3C9FEDHSzeJQeAaQMdLN4lB4BpADi2yne8nEUAj2\\u002fl+arwXQAAAAAAAAPh\\u002f2c73U+MlGUBkO99PjRcUQAAAAAAAAPh\\u002fAAAAAAAA+H8AAAAAAAD4f6wcWmQ73xdAxSCwcmgRGECamZmZmRkeQAAAAAAAAPh\\u002fnu+nxks3EECe76fGSzcQQBKDwMqhRRZA\\u002ftR46SaxE0BEi2zn+6kUQCcxCKwcWhtAd76fGi9dHUCyne+nxksZQJHtfD81XhdAPQrXo3A9GEAAAAAAAAD4f1g5tMh2vhBAjZduEoPAGEDhehSuR+ERQAAAAAAAAPh\\u002fAAAAAAAA+H9YObTIdj4aQOf7qfHSzRtAAAAAAAAA+H8AAAAAAAD4f1YOLbKd7xhADi2yne+nBUCwcmiR7XwJQAAAAAAAAPh\\u002f+n5qvHQTEUAQWDm0yHYXQAAAAAAAAPh\\u002fEoPAyqFFG0CwcmiR7XwcQAAAAAAAAPh\\u002ftvP91HjpEECR7Xw\\u002fNV4LQGZmZmZm5hdAAAAAAAAA+H8hsHJoke0QQPyp8dJNYhlAAAAAAAAA+H8AAAAAAAD4fwAAAAAAAPh\\u002fhetRuB4FEkDdJAaBlUMXQIPAyqFFthpAAAAAAAAA+H8AAAAAAAD4fwAAAAAAAPh\\u002fYhBYObTIFkCHFtnO99MWQK5H4XoULhNAd76fGi\\u002fdFEDRItv5fmoRQIcW2c73UxNAbxKDwMqhFEAtsp3vp0YdQARWDi2yHRxAiUFg5dAiGUDTTWIQWDkSQKAaL90khhNAoBov3SSGE0AAAAAAAAD4f2iR7Xw\\u002fNR1AAAAAAAAA+H9U46WbxKASQAAAAAAAAPh\\u002fO99PjZduGUAAAAAAAAD4f5zEILBy6BdAd76fGi9dF0D+1HjpJjEYQPhT46WbxBlAAAAAAAAA+H8fhetRuB4YQAAAAAAAAPh\\u002fEFg5tMj2GUCkcD0K1yMXQKRwPQrXIxdAAAAAAAAA+H8AAAAAAAD4fwAAAAAAAPh\\u002fAAAAAAAA+H8AAAAAAAD4fwAAAAAAAPh\\u002fAAAAAAAA+H\\u002fHSzeJQWAaQAAAAAAAAPh\\u002fx0s3iUHgE0C+nxov3aQZQAAAAAAAAPh\\u002f9ihcj8L1CUBkO99PjRcaQLpJDAIrBxlARrbz\\u002fdT4GkAAAAAAAAD4fwAAAAAAAPh\\u002f46WbxCCwFUAIrBxaZDsYQMl2vp8arxlAyXa+nxovD0AAAAAAAAD4fwAAAAAAAPh\\u002fAAAAAAAA+H\\u002fHSzeJQWAdQD0K16NwPRxAAAAAAAAA+H8AAAAAAAD4fzm0yHa+HxVAc2iR7Xw\\u002fDkCBlUOLbOcXQAAAAAAAAPh\\u002fQmDl0CLbEEAAAAAAAAD4fwAAAAAAAPh\\u002f46WbxCCwEUAAAAAAAAD4fwAAAAAAAPh\\u002fAAAAAAAA+H8AAAAAAAD4fwAAAAAAAPh\\u002fsHJoke18EUDLoUW2830TQDvfT42X7hpA5dAi2\\u002fn+GkAAAAAAAAD4f4ts5\\u002fupcRpASOF6FK7HGEAAAAAAAAD4fwAAAAAAAPh\\u002fIbByaJFtFkB56SYxCCwYQLByaJHtfAxAarx0kxgEDEDufD81XroKQAAAAAAAAPh\\u002fAAAAAAAA+H8AAAAAAAD4fwAAAAAAAPh\\u002fAAAAAAAA+H8=\"},\"coloraxis\":\"coloraxis\",\"opacity\":0.7,\"size\":8,\"symbol\":\"circle\"},\"mode\":\"markers\",\"name\":\"\",\"orientation\":\"v\",\"showlegend\":false,\"textposition\":\"top center\",\"x\":{\"dtype\":\"f8\",\"bdata\":\"AAAAAAAAAADFILByaJHtP3WTGARWDvM\\u002fAAAAAAAA+H8AAAAAAAD4fwAAAAAAAPh\\u002ff2q8dJMY9j8QWDm0yHbyP8dLN4lBYPc\\u002fx0s3iUFg9z\\u002fHSzeJQWD1P9V46SYxCOw\\u002fAAAAAAAA+H8AAAAAAAD4f6wcWmQ7388\\u002fAAAAAAAA+H8AAAAAAAD4fwrXo3A9Cvc\\u002fAAAAAAAA+H\\u002f8qfHSTWLAPwAAAAAAAPh\\u002fd76fGi\\u002fd8j9KDAIrhxb1PzVeukkMAu8\\u002f5\\u002fup8dJN9D\\u002fn+6nx0k30PwAAAAAAAPh\\u002fGy\\u002fdJAaB9z\\u002fsUbgehevlPwAAAAAAAPh\\u002fAAAAAAAA+H\\u002fn+6nx0k3wPzEIrBxaZOs\\u002f8tJNYhBY9z8AAAAAAAD4fwAAAAAAAPh\\u002fw\\u002fUoXI\\u002fC6T+BlUOLbOf1P23n+6nx0vM\\u002fbef7qfHS8z9CYOXQItvzP8uhRbbz\\u002fdQ\\u002fAAAAAAAA+H8rhxbZzvf1Px+F61G4Hvc\\u002fAAAAAAAA+H9GtvP91HjzPwAAAAAAAPh\\u002fAAAAAAAA+H9SuB6F61H4PwAAAAAAAPh\\u002fAAAAAAAA+H8nMQisHFr0P9Ei2\\u002fl+avI\\u002frBxaZDvf7z9I4XoUrkfxPwAAAAAAAPh\\u002fAAAAAAAA+H8730+Nl274PwAAAAAAAPh\\u002fSOF6FK5H7T8AAAAAAAD4f\\u002fT91HjpJvk\\u002fxSCwcmiR9T\\u002fP91PjpZvwPxfZzvdT4+U\\u002frkfhehSu7z89CtejcD32Pz0K16NwPfY\\u002fgZVDi2zn5z\\u002fRItv5fmr0PwAAAAAAAPh\\u002fTmIQWDm08j+BlUOLbOfjPwAAAAAAAPh\\u002fAAAAAAAA+H8AAAAAAAD4f4\\u002fC9Shcj\\u002fA\\u002fppvEILBy+D+sHFpkO9\\u002f5PwAAAAAAAPh\\u002fTDeJQWDl5D9MN4lBYOXkP4ts5\\u002fup8fI\\u002fkxgEVg4t8j+sHFpkO9\\u002fvPz0K16NwPfY\\u002faJHtfD81+D9zaJHtfD\\u002f1P8l2vp8aL\\u002fU\\u002fRIts5\\u002fup9T8AAAAAAAD4f9v5fmq8dO8\\u002fHVpkO99P9z+kcD0K16PsPwAAAAAAAPh\\u002fAAAAAAAA+H8730+Nl270P23n+6nx0vU\\u002fAAAAAAAA+H8AAAAAAAD4f1TjpZvEIPg\\u002fEFg5tMh24j8IrBxaZDvrPwAAAAAAAPh\\u002f8KfGSzeJ5T+amZmZmZnxPwAAAAAAAPh\\u002f3SQGgZVD9z+uR+F6FK71PwAAAAAAAPh\\u002fvHSTGARW6j89CtejcD3aP30\\u002fNV66SfI\\u002fAAAAAAAA+H9qvHSTGATmP7TIdr6fGvc\\u002fAAAAAAAA+H8AAAAAAAD4fwAAAAAAAPh\\u002fj8L1KFyP5j\\u002fufD81Xrr1P0Jg5dAi2\\u002fM\\u002fAAAAAAAA+H8AAAAAAAD4fwAAAAAAAPh\\u002fkxgEVg4t+D9KDAIrhxb1P76fGi\\u002fdJN4\\u002fqMZLN4lB7D8EVg4tsp3vPzEIrBxaZPM\\u002frkfhehSu7z8xCKwcWmT3PzvfT42Xbvg\\u002faJHtfD819D9Ei2zn+6nlPzMzMzMzM\\u002fE\\u002fMzMzMzMz8T8AAAAAAAD4fxKDwMqhRfg\\u002fAAAAAAAA+H8zMzMzMzPjPwAAAAAAAPh\\u002fEoPAyqFF9j8AAAAAAAD4f7pJDAIrh\\u002fY\\u002f4XoUrkfh8j+8dJMYBFbyP3npJjEIrPY\\u002fAAAAAAAA+H8X2c73U+P1PwAAAAAAAPh\\u002fLbKd76fG8z8EVg4tsp31PwRWDi2ynfU\\u002fAAAAAAAA+H8AAAAAAAD4fwAAAAAAAPh\\u002fAAAAAAAA+H8AAAAAAAD4fwAAAAAAAPh\\u002fAAAAAAAA+H8tsp3vp8b1PwAAAAAAAPh\\u002f1XjpJjEI6D+oxks3iUH2PwAAAAAAAPh\\u002f6SYxCKwc4j8tsp3vp8b1P6RwPQrXo\\u002fg\\u002f1XjpJjEI+D8AAAAAAAD4fwAAAAAAAPh\\u002fgZVDi2zn9T8MAiuHFtnyP\\u002fCnxks3ifc\\u002fd76fGi\\u002fd8j8AAAAAAAD4fwAAAAAAAPh\\u002fAAAAAAAA+H9qvHSTGAT4P83MzMzMzPY\\u002fAAAAAAAA+H8AAAAAAAD4fwAAAAAAAPh\\u002fZDvfT42X5j9aZDvfT431PwAAAAAAAPh\\u002fjZduEoPA4j8AAAAAAAD4fwAAAAAAAPh\\u002fj8L1KFyP7j8AAAAAAAD4fwAAAAAAAPh\\u002fAAAAAAAA+H8AAAAAAAD4fwAAAAAAAPh\\u002f0SLb+X5q8j8K16NwPQr1Pzm0yHa+n\\u002fI\\u002fnu+nxks39T8AAAAAAAD4f0w3iUFg5fY\\u002f5\\u002fup8dJN9j8AAAAAAAD4fwAAAAAAAPh\\u002fiUFg5dAi9T8Sg8DKoUX0P+XQItv5fvQ\\u002fF9nO91Pj6T8zMzMzMzPrPwAAAAAAAPh\\u002fAAAAAAAA+H8AAAAAAAD4fwAAAAAAAPh\\u002fAAAAAAAA+H8=\"},\"xaxis\":\"x\",\"y\":{\"dtype\":\"f8\",\"bdata\":\"8KfGSzeJ+z+e76fGSzcVQNv5fmq8dBVAAAAAAAAA+H8AAAAAAAD4fwAAAAAAAPh\\u002fjZduEoPAGEBSuB6F69EVQO58PzVeOhxA7nw\\u002fNV46HEAfhetRuJ4bQN9PjZdukhNAAAAAAAAA+H+8dJMYBNYXQEoMAiuHFg9AAAAAAAAA+H8AAAAAAAD4f\\u002fp+arx0kxtAAAAAAAAA+H81XrpJDIIRQAAAAAAAAPh\\u002fiUFg5dAiF0A1XrpJDIIXQKrx0k1iEAtASgwCK4cWGUBKDAIrhxYZQAAAAAAAAPh\\u002fJzEIrBzaFUD+1HjpJjESQAAAAAAAAPh\\u002fAAAAAAAA+H93vp8aL10RQOXQItv5fhNAmpmZmZmZG0AAAAAAAAD4fwAAAAAAAPh\\u002f\\u002fKnx0k3iEUBxPQrXo3AZQDEIrBxa5BdAMQisHFrkF0BI4XoUrscWQLpJDAIrhwxAAAAAAAAA+H9SuB6F69EbQPhT46WbxBdAAAAAAAAA+H8Sg8DKoUUYQAAAAAAAAPh\\u002fAAAAAAAA+H+iRbbz\\u002fVQeQAAAAAAAAPh\\u002fAAAAAAAA+H+YbhKDwEoXQGZmZmZm5hZAN4lBYOXQD0DHSzeJQeAZQAAAAAAAAPh\\u002fAAAAAAAA+H+YbhKDwMoZQAAAAAAAAPh\\u002fF9nO91PjDkAAAAAAAAD4fxBYObTI9h5AVg4tsp1vGkAGgZVDi2wUQHE9Ctej8BFAPQrXo3C9FEDHSzeJQeAaQMdLN4lB4BpADi2yne8nEUAj2\\u002fl+arwXQAAAAAAAAPh\\u002f2c73U+MlGUBkO99PjRcUQAAAAAAAAPh\\u002fAAAAAAAA+H8AAAAAAAD4f6wcWmQ73xdAxSCwcmgRGECamZmZmRkeQAAAAAAAAPh\\u002fnu+nxks3EECe76fGSzcQQBKDwMqhRRZA\\u002ftR46SaxE0BEi2zn+6kUQCcxCKwcWhtAd76fGi9dHUCyne+nxksZQJHtfD81XhdAPQrXo3A9GEAAAAAAAAD4f1g5tMh2vhBAjZduEoPAGEDhehSuR+ERQAAAAAAAAPh\\u002fAAAAAAAA+H9YObTIdj4aQOf7qfHSzRtAAAAAAAAA+H8AAAAAAAD4f1YOLbKd7xhADi2yne+nBUCwcmiR7XwJQAAAAAAAAPh\\u002f+n5qvHQTEUAQWDm0yHYXQAAAAAAAAPh\\u002fEoPAyqFFG0CwcmiR7XwcQAAAAAAAAPh\\u002ftvP91HjpEECR7Xw\\u002fNV4LQGZmZmZm5hdAAAAAAAAA+H8hsHJoke0QQPyp8dJNYhlAAAAAAAAA+H8AAAAAAAD4fwAAAAAAAPh\\u002fhetRuB4FEkDdJAaBlUMXQIPAyqFFthpAAAAAAAAA+H8AAAAAAAD4fwAAAAAAAPh\\u002fYhBYObTIFkCHFtnO99MWQK5H4XoULhNAd76fGi\\u002fdFEDRItv5fmoRQIcW2c73UxNAbxKDwMqhFEAtsp3vp0YdQARWDi2yHRxAiUFg5dAiGUDTTWIQWDkSQKAaL90khhNAoBov3SSGE0AAAAAAAAD4f2iR7Xw\\u002fNR1AAAAAAAAA+H9U46WbxKASQAAAAAAAAPh\\u002fO99PjZduGUAAAAAAAAD4f5zEILBy6BdAd76fGi9dF0D+1HjpJjEYQPhT46WbxBlAAAAAAAAA+H8fhetRuB4YQAAAAAAAAPh\\u002fEFg5tMj2GUCkcD0K1yMXQKRwPQrXIxdAAAAAAAAA+H8AAAAAAAD4fwAAAAAAAPh\\u002fAAAAAAAA+H8AAAAAAAD4fwAAAAAAAPh\\u002fAAAAAAAA+H\\u002fHSzeJQWAaQAAAAAAAAPh\\u002fx0s3iUHgE0C+nxov3aQZQAAAAAAAAPh\\u002f9ihcj8L1CUBkO99PjRcaQLpJDAIrBxlARrbz\\u002fdT4GkAAAAAAAAD4fwAAAAAAAPh\\u002f46WbxCCwFUAIrBxaZDsYQMl2vp8arxlAyXa+nxovD0AAAAAAAAD4fwAAAAAAAPh\\u002fAAAAAAAA+H\\u002fHSzeJQWAdQD0K16NwPRxAAAAAAAAA+H8AAAAAAAD4fzm0yHa+HxVAc2iR7Xw\\u002fDkCBlUOLbOcXQAAAAAAAAPh\\u002fQmDl0CLbEEAAAAAAAAD4fwAAAAAAAPh\\u002f46WbxCCwEUAAAAAAAAD4fwAAAAAAAPh\\u002fAAAAAAAA+H8AAAAAAAD4fwAAAAAAAPh\\u002fsHJoke18EUDLoUW2830TQDvfT42X7hpA5dAi2\\u002fn+GkAAAAAAAAD4f4ts5\\u002fupcRpASOF6FK7HGEAAAAAAAAD4fwAAAAAAAPh\\u002fIbByaJFtFkB56SYxCCwYQLByaJHtfAxAarx0kxgEDEDufD81XroKQAAAAAAAAPh\\u002fAAAAAAAA+H8AAAAAAAD4fwAAAAAAAPh\\u002fAAAAAAAA+H8=\"},\"yaxis\":\"y\",\"type\":\"scatter\"},{\"hovertemplate\":\"\\u003cb\\u003eOLS trendline\\u003c\\u002fb\\u003e\\u003cbr\\u003eLadder score = 2.96208 * Social support + 2.18271\\u003cbr\\u003eR\\u003csup\\u003e2\\u003c\\u002fsup\\u003e=0.684833\\u003cbr\\u003e\\u003cbr\\u003eSocial support=%{x}\\u003cbr\\u003eLadder score=%{y} \\u003cb\\u003e(trend)\\u003c\\u002fb\\u003e\\u003cextra\\u003e\\u003c\\u002fextra\\u003e\",\"legendgroup\":\"\",\"marker\":{\"opacity\":0.7,\"size\":8,\"symbol\":\"circle\"},\"mode\":\"lines\",\"name\":\"\",\"showlegend\":false,\"textposition\":\"top center\",\"x\":{\"dtype\":\"f8\",\"bdata\":\"AAAAAAAAAAD8qfHSTWLAP6wcWmQ7388\\u002fy6FFtvP91D89CtejcD3aP76fGi\\u002fdJN4\\u002f6SYxCKwc4j8QWDm0yHbiP42XbhKDwOI\\u002fMzMzMzMz4z+BlUOLbOfjP0w3iUFg5eQ\\u002fTDeJQWDl5D\\u002fwp8ZLN4nlP0SLbOf7qeU\\u002fF9nO91Pj5T\\u002fsUbgehevlP2q8dJMYBOY\\u002fj8L1KFyP5j9kO99PjZfmP4GVQ4ts5+c\\u002f1XjpJjEI6D\\u002fD9Shcj8LpPxfZzvdT4+k\\u002fvHSTGARW6j8zMzMzMzPrPwisHFpkO+s\\u002fMQisHFpk6z\\u002fVeOkmMQjsP6jGSzeJQew\\u002fpHA9Ctej7D9I4XoUrkftP8UgsHJoke0\\u002fj8L1KFyP7j81XrpJDALvP9v5fmq8dO8\\u002fBFYOLbKd7z+uR+F6FK7vP65H4XoUru8\\u002frBxaZDvf7z+sHFpkO9\\u002fvP+f7qfHSTfA\\u002fj8L1KFyP8D\\u002fP91PjpZvwPzMzMzMzM\\u002fE\\u002fMzMzMzMz8T9I4XoUrkfxP5qZmZmZmfE\\u002fkxgEVg4t8j99PzVeuknyP7x0kxgEVvI\\u002f0SLb+X5q8j\\u002fRItv5fmryPxBYObTIdvI\\u002fObTIdr6f8j9OYhBYObTyPwwCK4cW2fI\\u002fd76fGi\\u002fd8j93vp8aL93yP+F6FK5H4fI\\u002fi2zn+6nx8j91kxgEVg7zPzEIrBxaZPM\\u002fRrbz\\u002fdR48z8tsp3vp8bzP23n+6nx0vM\\u002fbef7qfHS8z9CYOXQItvzP0Jg5dAi2\\u002fM\\u002faJHtfD819D8Sg8DKoUX0P+f7qfHSTfQ\\u002f5\\u002fup8dJN9D8nMQisHFr0P9Ei2\\u002fl+avQ\\u002fO99PjZdu9D\\u002fl0CLb+X70PwrXo3A9CvU\\u002fSgwCK4cW9T9KDAIrhxb1P4lBYOXQIvU\\u002fyXa+nxov9T+e76fGSzf1P3Noke18P\\u002fU\\u002fx0s3iUFg9T9aZDvfT431P8UgsHJokfU\\u002fBFYOLbKd9T8EVg4tsp31P0SLbOf7qfU\\u002frkfhehSu9T\\u002fufD81Xrr1Py2yne+nxvU\\u002fLbKd76fG9T9t5\\u002fup8dL1PxfZzvdT4\\u002fU\\u002fgZVDi2zn9T+BlUOLbOf1PyuHFtnO9\\u002fU\\u002ff2q8dJMY9j89CtejcD32Pz0K16NwPfY\\u002fPQrXo3A99j+oxks3iUH2PxKDwMqhRfY\\u002f5\\u002fup8dJN9j+6SQwCK4f2P3npJjEIrPY\\u002fzczMzMzM9j9MN4lBYOX2PwrXo3A9Cvc\\u002ftMh2vp8a9z8fhetRuB73P90kBoGVQ\\u002fc\\u002fHVpkO99P9z\\u002fy0k1iEFj3P8dLN4lBYPc\\u002fx0s3iUFg9z8xCKwcWmT3Pxsv3SQGgfc\\u002f8KfGSzeJ9z9qvHSTGAT4P9V46SYxCPg\\u002fVOOlm8Qg+D+TGARWDi34P2iR7Xw\\u002fNfg\\u002fEoPAyqFF+D9SuB6F61H4PzvfT42Xbvg\\u002fO99PjZdu+D+mm8QgsHL4P6RwPQrXo\\u002fg\\u002f9P3UeOkm+T+sHFpkO9\\u002f5Pw==\"},\"xaxis\":\"x\",\"y\":{\"dtype\":\"f8\",\"bdata\":\"1+at2i52AUAMvAyjrH4EQJhhdoqzXAdAMOkgLPE7CUDGqX3AYS0LQGHb+rFtnwxAnj2xDLvfDkDwY+nbdSIPQO4OALQOWQ9AQG7qdfytD0BzXS0KuRkQQETZcEXAdxBARNlwRcB3EEDtQRgZarQQQEK9ORCMwBBAFlW0gMfVEEDrs3z+z9gQQGrQ1Xfp4RBAkxwk0nkVEUBoe+xPghgRQI6rA3XelBFA4iYlbAChEUDcJ2n0ykQSQDGjiuvsUBJA2tJ\\u002fzGN7EkBW06EQSc0SQCwyao5R0BJAVgxUA3zfEkD+dPvWJRwTQNIMdkdhMRNA0H7aLMdVE0B554EAcZITQPg8jWy9rRNAybjQp8QLFEBy6MWIOzYUQBsYu2myYBRARfKk3txvFEDwrzXa7XUUQPCvNdrtdRRA7ujnzCCIFEDu6OfMIIgUQBZu6BnkzRRAaltu9mv+FEDqd8dvhQcVQLosvZ2\\u002fdxVAuiy9nb93FUDkBqcS6oYVQIxvTuaTwxVAiMV7lsUwFkBcXfYGAUYWQNx5T4AaTxZABlQ59UReFkAGVDn1RF4WQIVwkm5eZxZA2iRmWLOFFkAE\\u002f0\\u002fN3ZQWQIJUWzkqsBZAWLMjtzKzFkBYsyO3MrMWQCwS7DQ7thZAgo0NLF3CFkBWJYicmNcWQNTs9+1KFxdA\\u002fsbhYnUmF0DQ0MC4FmAXQFDtGTIwaRdAUO0ZMjBpF0D7qqotQW8XQPuqqi1BbxdATdHi\\u002fPuxF0CiTAT0Hb4XQEwKle8uxBdATAqV7y7EF0DMJu5oSM0XQCGiD2Bq2RdA9gDY3XLcF0BKfPnUlOgXQJwUlom1TxhAHDHvAs9YGEAcMe8Cz1gYQJtNSHzoYRhAG2qh9QFrGEDGJzLxEnEYQHDlwuwjdxhAGtwF22ePGEBC76FCxbAYQBhOasDNsxhAmGrDOee8GECYasM557wYQBiHHLMAxhhA7OXkMAnJGEBsAj6qItIYQOwelyM82xhA7B6XIzzbGEBsO\\u002fCcVeQYQMC2EZR38BhAlhXaEYDzGECWFdoRgPMYQOqQ+wii\\u002fxhAlIc+9+UXGUAS3UljMjMZQBLdSWMyMxlAEt1JYzIzGUDoOxLhOjYZQLya2l5DORlAaFhrWlQ\\u002fGUAQiGA7y2kZQJDda6cXhRlAOtSulVudGUA4DWGIjq8ZQLZibPTayhlADN6N6\\u002fzWGUDiPFZpBdoZQGCSYdVR9RlA4K66Tmv+GUCKbEtKfAQaQDQq3EWNChpANCrcRY0KGkAKiaTDlQ0aQN4gHzTRIhpAiN6vL+IoGkCE+yrt4IMaQFpa82rphhpAWpOlXRyZGkDYr\\u002f7WNaIaQIJtj9JGqBpA2OiwyWi0GkBYBQpDgr0aQCydhLO90hpALJ2Es73SGkAC\\u002fEwxxtUaQABusRYs+hpApki9zztbG0Ag9PXrueMbQA==\"},\"yaxis\":\"y\",\"type\":\"scatter\"},{\"hovertemplate\":\"\\u003cb\\u003e%{hovertext}\\u003c\\u002fb\\u003e\\u003cbr\\u003e\\u003cbr\\u003eHighlight=Mild Climate\\u003cbr\\u003eSocial support=%{x}\\u003cbr\\u003eLadder score=%{y}\\u003cbr\\u003ecountry=%{text}\\u003cextra\\u003e\\u003c\\u002fextra\\u003e\",\"hovertext\":[\"Afghanistan\",\"Armenia\",\"Austria\",\"Azerbaijan\",\"Bolivia\",\"Bosnia and Herzegovina\",\"Bulgaria\",\"B\\u00e9lgica\",\"China\",\"China\",\"Costa Rica\",\"Croatia\",\"Czech Republic\",\"El Salvador\",\"Eritrea\",\"Ethiopia\",\"France\",\"Georgia\",\"Germany\",\"Germany\",\"Guatemala\",\"Honduras\",\"Hungary\",\"Japan\",\"Kyrghyzstan\",\"Lesotho\",\"Letonia\",\"Monaco\",\"Morocco\",\"Nepal\",\"North Korea\",\"Paraguay\",\"Peru\",\"Poland\",\"Portugal\",\"Romania\",\"San Marino\",\"Serbia\",\"Slovakia\",\"Slovenia\",\"South Korea\",\"Spain\",\"Tonga\",\"Ukraine\"],\"legendgroup\":\"Mild Climate\",\"marker\":{\"color\":\"orange\",\"opacity\":0.9,\"size\":10,\"symbol\":\"circle\"},\"mode\":\"markers+text\",\"name\":\"Mild Climate\",\"orientation\":\"v\",\"showlegend\":true,\"text\":[\"Afghanistan\",\"Armenia\",\"Austria\",\"Azerbaijan\",\"Bolivia\",\"Bosnia and Herzegovina\",\"Bulgaria\",\"B\\u00e9lgica\",\"China\",\"China\",\"Costa Rica\",\"Croatia\",\"Czech Republic\",\"El Salvador\",\"Eritrea\",\"Ethiopia\",\"France\",\"Georgia\",\"Germany\",\"Germany\",\"Guatemala\",\"Honduras\",\"Hungary\",\"Japan\",\"Kyrghyzstan\",\"Lesotho\",\"Letonia\",\"Monaco\",\"Morocco\",\"Nepal\",\"North Korea\",\"Paraguay\",\"Peru\",\"Poland\",\"Portugal\",\"Romania\",\"San Marino\",\"Serbia\",\"Slovakia\",\"Slovenia\",\"South Korea\",\"Spain\",\"Tonga\",\"Ukraine\"],\"textposition\":\"top center\",\"x\":{\"dtype\":\"f8\",\"bdata\":\"AAAAAAAAAAAQWDm0yHbyP8dLN4lBYPU\\u002f1XjpJjEI7D93vp8aL93yP0oMAiuHFvU\\u002fGy\\u002fdJAaB9z8AAAAAAAD4f23n+6nx0vM\\u002fbef7qfHS8z8rhxbZzvf1Px+F61G4Hvc\\u002fAAAAAAAA+H9I4XoUrkfxPwAAAAAAAPh\\u002fSOF6FK5H7T\\u002fFILByaJH1P65H4XoUru8\\u002fPQrXo3A99j89CtejcD32P05iEFg5tPI\\u002fj8L1KFyP8D+mm8QgsHL4P0SLbOf7qfU\\u002fAAAAAAAA+H8IrBxaZDvrPwAAAAAAAPh\\u002fAAAAAAAA+H++nxov3STeP65H4XoUru8\\u002fAAAAAAAA+H+6SQwCK4f2P+F6FK5H4fI\\u002feekmMQis9j8X2c73U+P1Py2yne+nxvM\\u002fAAAAAAAA+H+oxks3iUH2P6RwPQrXo\\u002fg\\u002f1XjpJjEI+D8MAiuHFtnyP\\u002fCnxks3ifc\\u002fAAAAAAAA+H8K16NwPQr1Pw==\"},\"xaxis\":\"x2\",\"y\":{\"dtype\":\"f8\",\"bdata\":\"8KfGSzeJ+z9SuB6F69EVQB+F61G4nhtA30+Nl26SE0CJQWDl0CIXQDVeukkMghdAJzEIrBzaFUAAAAAAAAD4fzEIrBxa5BdAMQisHFrkF0BSuB6F69EbQPhT46WbxBdAAAAAAAAA+H\\u002fHSzeJQeAZQAAAAAAAAPh\\u002fF9nO91PjDkBWDi2ynW8aQD0K16NwvRRAx0s3iUHgGkDHSzeJQeAaQNnO91PjJRlArBxaZDvfF0DFILByaBEYQD0K16NwPRhAAAAAAAAA+H+wcmiR7XwJQAAAAAAAAPh\\u002fAAAAAAAA+H+uR+F6FC4TQG8Sg8DKoRRAAAAAAAAA+H+cxCCwcugXQHe+nxovXRdA+FPjpZvEGUAfhetRuB4YQBBYObTI9hlAAAAAAAAA+H++nxov3aQZQLpJDAIrBxlARrbz\\u002fdT4GkAIrBxaZDsYQMl2vp8arxlAAAAAAAAA+H\\u002fLoUW2830TQA==\"},\"yaxis\":\"y2\",\"type\":\"scatter\"},{\"hovertemplate\":\"\\u003cb\\u003e%{hovertext}\\u003c\\u002fb\\u003e\\u003cbr\\u003e\\u003cbr\\u003eHighlight=Nordic\\u003cbr\\u003eSocial support=%{x}\\u003cbr\\u003eLadder score=%{y}\\u003cbr\\u003ecountry=%{text}\\u003cextra\\u003e\\u003c\\u002fextra\\u003e\",\"hovertext\":[\"Denmark\",\"Finland\",\"Iceland\",\"Norway\",\"Sweden\"],\"legendgroup\":\"Nordic\",\"marker\":{\"color\":\"blue\",\"opacity\":0.9,\"size\":10,\"symbol\":\"circle\"},\"mode\":\"markers+text\",\"name\":\"Nordic\",\"orientation\":\"v\",\"showlegend\":true,\"text\":[\"Denmark\",\"Finland\",\"Iceland\",\"Norway\",\"Sweden\"],\"textposition\":\"top center\",\"x\":{\"dtype\":\"f8\",\"bdata\":\"UrgehetR+D\\u002f0\\u002fdR46Sb5P6wcWmQ73\\u002fk\\u002fEoPAyqFF+D9qvHSTGAT4Pw==\"},\"xaxis\":\"x2\",\"y\":{\"dtype\":\"f8\",\"bdata\":\"okW28\\u002f1UHkAQWDm0yPYeQJqZmZmZGR5AaJHtfD81HUDHSzeJQWAdQA==\"},\"yaxis\":\"y2\",\"type\":\"scatter\"}],                        {\"template\":{\"data\":{\"histogram2dcontour\":[{\"type\":\"histogram2dcontour\",\"colorbar\":{\"outlinewidth\":0,\"ticks\":\"\"},\"colorscale\":[[0.0,\"#0d0887\"],[0.1111111111111111,\"#46039f\"],[0.2222222222222222,\"#7201a8\"],[0.3333333333333333,\"#9c179e\"],[0.4444444444444444,\"#bd3786\"],[0.5555555555555556,\"#d8576b\"],[0.6666666666666666,\"#ed7953\"],[0.7777777777777778,\"#fb9f3a\"],[0.8888888888888888,\"#fdca26\"],[1.0,\"#f0f921\"]]}],\"choropleth\":[{\"type\":\"choropleth\",\"colorbar\":{\"outlinewidth\":0,\"ticks\":\"\"}}],\"histogram2d\":[{\"type\":\"histogram2d\",\"colorbar\":{\"outlinewidth\":0,\"ticks\":\"\"},\"colorscale\":[[0.0,\"#0d0887\"],[0.1111111111111111,\"#46039f\"],[0.2222222222222222,\"#7201a8\"],[0.3333333333333333,\"#9c179e\"],[0.4444444444444444,\"#bd3786\"],[0.5555555555555556,\"#d8576b\"],[0.6666666666666666,\"#ed7953\"],[0.7777777777777778,\"#fb9f3a\"],[0.8888888888888888,\"#fdca26\"],[1.0,\"#f0f921\"]]}],\"heatmap\":[{\"type\":\"heatmap\",\"colorbar\":{\"outlinewidth\":0,\"ticks\":\"\"},\"colorscale\":[[0.0,\"#0d0887\"],[0.1111111111111111,\"#46039f\"],[0.2222222222222222,\"#7201a8\"],[0.3333333333333333,\"#9c179e\"],[0.4444444444444444,\"#bd3786\"],[0.5555555555555556,\"#d8576b\"],[0.6666666666666666,\"#ed7953\"],[0.7777777777777778,\"#fb9f3a\"],[0.8888888888888888,\"#fdca26\"],[1.0,\"#f0f921\"]]}],\"contourcarpet\":[{\"type\":\"contourcarpet\",\"colorbar\":{\"outlinewidth\":0,\"ticks\":\"\"}}],\"contour\":[{\"type\":\"contour\",\"colorbar\":{\"outlinewidth\":0,\"ticks\":\"\"},\"colorscale\":[[0.0,\"#0d0887\"],[0.1111111111111111,\"#46039f\"],[0.2222222222222222,\"#7201a8\"],[0.3333333333333333,\"#9c179e\"],[0.4444444444444444,\"#bd3786\"],[0.5555555555555556,\"#d8576b\"],[0.6666666666666666,\"#ed7953\"],[0.7777777777777778,\"#fb9f3a\"],[0.8888888888888888,\"#fdca26\"],[1.0,\"#f0f921\"]]}],\"surface\":[{\"type\":\"surface\",\"colorbar\":{\"outlinewidth\":0,\"ticks\":\"\"},\"colorscale\":[[0.0,\"#0d0887\"],[0.1111111111111111,\"#46039f\"],[0.2222222222222222,\"#7201a8\"],[0.3333333333333333,\"#9c179e\"],[0.4444444444444444,\"#bd3786\"],[0.5555555555555556,\"#d8576b\"],[0.6666666666666666,\"#ed7953\"],[0.7777777777777778,\"#fb9f3a\"],[0.8888888888888888,\"#fdca26\"],[1.0,\"#f0f921\"]]}],\"mesh3d\":[{\"type\":\"mesh3d\",\"colorbar\":{\"outlinewidth\":0,\"ticks\":\"\"}}],\"scatter\":[{\"fillpattern\":{\"fillmode\":\"overlay\",\"size\":10,\"solidity\":0.2},\"type\":\"scatter\"}],\"parcoords\":[{\"type\":\"parcoords\",\"line\":{\"colorbar\":{\"outlinewidth\":0,\"ticks\":\"\"}}}],\"scatterpolargl\":[{\"type\":\"scatterpolargl\",\"marker\":{\"colorbar\":{\"outlinewidth\":0,\"ticks\":\"\"}}}],\"bar\":[{\"error_x\":{\"color\":\"#2a3f5f\"},\"error_y\":{\"color\":\"#2a3f5f\"},\"marker\":{\"line\":{\"color\":\"#E5ECF6\",\"width\":0.5},\"pattern\":{\"fillmode\":\"overlay\",\"size\":10,\"solidity\":0.2}},\"type\":\"bar\"}],\"scattergeo\":[{\"type\":\"scattergeo\",\"marker\":{\"colorbar\":{\"outlinewidth\":0,\"ticks\":\"\"}}}],\"scatterpolar\":[{\"type\":\"scatterpolar\",\"marker\":{\"colorbar\":{\"outlinewidth\":0,\"ticks\":\"\"}}}],\"histogram\":[{\"marker\":{\"pattern\":{\"fillmode\":\"overlay\",\"size\":10,\"solidity\":0.2}},\"type\":\"histogram\"}],\"scattergl\":[{\"type\":\"scattergl\",\"marker\":{\"colorbar\":{\"outlinewidth\":0,\"ticks\":\"\"}}}],\"scatter3d\":[{\"type\":\"scatter3d\",\"line\":{\"colorbar\":{\"outlinewidth\":0,\"ticks\":\"\"}},\"marker\":{\"colorbar\":{\"outlinewidth\":0,\"ticks\":\"\"}}}],\"scattermap\":[{\"type\":\"scattermap\",\"marker\":{\"colorbar\":{\"outlinewidth\":0,\"ticks\":\"\"}}}],\"scattermapbox\":[{\"type\":\"scattermapbox\",\"marker\":{\"colorbar\":{\"outlinewidth\":0,\"ticks\":\"\"}}}],\"scatterternary\":[{\"type\":\"scatterternary\",\"marker\":{\"colorbar\":{\"outlinewidth\":0,\"ticks\":\"\"}}}],\"scattercarpet\":[{\"type\":\"scattercarpet\",\"marker\":{\"colorbar\":{\"outlinewidth\":0,\"ticks\":\"\"}}}],\"carpet\":[{\"aaxis\":{\"endlinecolor\":\"#2a3f5f\",\"gridcolor\":\"white\",\"linecolor\":\"white\",\"minorgridcolor\":\"white\",\"startlinecolor\":\"#2a3f5f\"},\"baxis\":{\"endlinecolor\":\"#2a3f5f\",\"gridcolor\":\"white\",\"linecolor\":\"white\",\"minorgridcolor\":\"white\",\"startlinecolor\":\"#2a3f5f\"},\"type\":\"carpet\"}],\"table\":[{\"cells\":{\"fill\":{\"color\":\"#EBF0F8\"},\"line\":{\"color\":\"white\"}},\"header\":{\"fill\":{\"color\":\"#C8D4E3\"},\"line\":{\"color\":\"white\"}},\"type\":\"table\"}],\"barpolar\":[{\"marker\":{\"line\":{\"color\":\"#E5ECF6\",\"width\":0.5},\"pattern\":{\"fillmode\":\"overlay\",\"size\":10,\"solidity\":0.2}},\"type\":\"barpolar\"}],\"pie\":[{\"automargin\":true,\"type\":\"pie\"}]},\"layout\":{\"autotypenumbers\":\"strict\",\"colorway\":[\"#636efa\",\"#EF553B\",\"#00cc96\",\"#ab63fa\",\"#FFA15A\",\"#19d3f3\",\"#FF6692\",\"#B6E880\",\"#FF97FF\",\"#FECB52\"],\"font\":{\"color\":\"#2a3f5f\"},\"hovermode\":\"closest\",\"hoverlabel\":{\"align\":\"left\"},\"paper_bgcolor\":\"white\",\"plot_bgcolor\":\"#E5ECF6\",\"polar\":{\"bgcolor\":\"#E5ECF6\",\"angularaxis\":{\"gridcolor\":\"white\",\"linecolor\":\"white\",\"ticks\":\"\"},\"radialaxis\":{\"gridcolor\":\"white\",\"linecolor\":\"white\",\"ticks\":\"\"}},\"ternary\":{\"bgcolor\":\"#E5ECF6\",\"aaxis\":{\"gridcolor\":\"white\",\"linecolor\":\"white\",\"ticks\":\"\"},\"baxis\":{\"gridcolor\":\"white\",\"linecolor\":\"white\",\"ticks\":\"\"},\"caxis\":{\"gridcolor\":\"white\",\"linecolor\":\"white\",\"ticks\":\"\"}},\"coloraxis\":{\"colorbar\":{\"outlinewidth\":0,\"ticks\":\"\"}},\"colorscale\":{\"sequential\":[[0.0,\"#0d0887\"],[0.1111111111111111,\"#46039f\"],[0.2222222222222222,\"#7201a8\"],[0.3333333333333333,\"#9c179e\"],[0.4444444444444444,\"#bd3786\"],[0.5555555555555556,\"#d8576b\"],[0.6666666666666666,\"#ed7953\"],[0.7777777777777778,\"#fb9f3a\"],[0.8888888888888888,\"#fdca26\"],[1.0,\"#f0f921\"]],\"sequentialminus\":[[0.0,\"#0d0887\"],[0.1111111111111111,\"#46039f\"],[0.2222222222222222,\"#7201a8\"],[0.3333333333333333,\"#9c179e\"],[0.4444444444444444,\"#bd3786\"],[0.5555555555555556,\"#d8576b\"],[0.6666666666666666,\"#ed7953\"],[0.7777777777777778,\"#fb9f3a\"],[0.8888888888888888,\"#fdca26\"],[1.0,\"#f0f921\"]],\"diverging\":[[0,\"#8e0152\"],[0.1,\"#c51b7d\"],[0.2,\"#de77ae\"],[0.3,\"#f1b6da\"],[0.4,\"#fde0ef\"],[0.5,\"#f7f7f7\"],[0.6,\"#e6f5d0\"],[0.7,\"#b8e186\"],[0.8,\"#7fbc41\"],[0.9,\"#4d9221\"],[1,\"#276419\"]]},\"xaxis\":{\"gridcolor\":\"white\",\"linecolor\":\"white\",\"ticks\":\"\",\"title\":{\"standoff\":15},\"zerolinecolor\":\"white\",\"automargin\":true,\"zerolinewidth\":2},\"yaxis\":{\"gridcolor\":\"white\",\"linecolor\":\"white\",\"ticks\":\"\",\"title\":{\"standoff\":15},\"zerolinecolor\":\"white\",\"automargin\":true,\"zerolinewidth\":2},\"scene\":{\"xaxis\":{\"backgroundcolor\":\"#E5ECF6\",\"gridcolor\":\"white\",\"linecolor\":\"white\",\"showbackground\":true,\"ticks\":\"\",\"zerolinecolor\":\"white\",\"gridwidth\":2},\"yaxis\":{\"backgroundcolor\":\"#E5ECF6\",\"gridcolor\":\"white\",\"linecolor\":\"white\",\"showbackground\":true,\"ticks\":\"\",\"zerolinecolor\":\"white\",\"gridwidth\":2},\"zaxis\":{\"backgroundcolor\":\"#E5ECF6\",\"gridcolor\":\"white\",\"linecolor\":\"white\",\"showbackground\":true,\"ticks\":\"\",\"zerolinecolor\":\"white\",\"gridwidth\":2}},\"shapedefaults\":{\"line\":{\"color\":\"#2a3f5f\"}},\"annotationdefaults\":{\"arrowcolor\":\"#2a3f5f\",\"arrowhead\":0,\"arrowwidth\":1},\"geo\":{\"bgcolor\":\"white\",\"landcolor\":\"#E5ECF6\",\"subunitcolor\":\"white\",\"showland\":true,\"showlakes\":true,\"lakecolor\":\"white\"},\"title\":{\"x\":0.05},\"mapbox\":{\"style\":\"light\"}}},\"xaxis\":{\"anchor\":\"y\",\"domain\":[0.0,1.0],\"title\":{\"text\":\"Social support\"}},\"yaxis\":{\"anchor\":\"x\",\"domain\":[0.625,1.0],\"title\":{\"text\":\"Happiness score\"}},\"xaxis2\":{\"anchor\":\"y2\",\"domain\":[0.0,1.0],\"title\":{\"text\":\"Social support\"}},\"yaxis2\":{\"anchor\":\"x2\",\"domain\":[0.0,0.375],\"title\":{\"text\":\"Happiness score\"}},\"annotations\":[{\"font\":{\"size\":16},\"showarrow\":false,\"text\":\"Alle landen met trendline\",\"x\":0.5,\"xanchor\":\"center\",\"xref\":\"paper\",\"y\":1.0,\"yanchor\":\"bottom\",\"yref\":\"paper\"},{\"font\":{\"size\":16},\"showarrow\":false,\"text\":\"Nordic vs Mild Climate\",\"x\":0.5,\"xanchor\":\"center\",\"xref\":\"paper\",\"y\":0.375,\"yanchor\":\"bottom\",\"yref\":\"paper\"}],\"title\":{\"text\":\"Vergelijking: Klimaat en Geluk\"},\"height\":1000,\"width\":1000,\"showlegend\":false},                        {\"responsive\": true}                    ).then(function(){\n",
       "                            \n",
       "var gd = document.getElementById('48bcf9b7-6d23-4931-a42e-bb705dbd7c5d');\n",
       "var x = new MutationObserver(function (mutations, observer) {{\n",
       "        var display = window.getComputedStyle(gd).display;\n",
       "        if (!display || display === 'none') {{\n",
       "            console.log([gd, 'removed!']);\n",
       "            Plotly.purge(gd);\n",
       "            observer.disconnect();\n",
       "        }}\n",
       "}});\n",
       "\n",
       "// Listen for the removal of the full notebook cells\n",
       "var notebookContainer = gd.closest('#notebook-container');\n",
       "if (notebookContainer) {{\n",
       "    x.observe(notebookContainer, {childList: true});\n",
       "}}\n",
       "\n",
       "// Listen for the clearing of the current output cell\n",
       "var outputEl = gd.closest('.output');\n",
       "if (outputEl) {{\n",
       "    x.observe(outputEl, {childList: true});\n",
       "}}\n",
       "\n",
       "                        })                };            </script>        </div>"
      ]
     },
     "metadata": {},
     "output_type": "display_data"
    }
   ],
   "source": [
    "from plotly.subplots import make_subplots\n",
    "\n",
    "# Definieer Nordic en gemiddeld warme landen\n",
    "nordics = ['Sweden', 'Norway', 'Finland', 'Denmark', 'Iceland']\n",
    "avg_temp_df = df123[(df123['temperature_celsius'] >= 16) & (df123['temperature_celsius'] <= 23)]\n",
    "avg_temp_countries = avg_temp_df['country'].unique()\n",
    "\n",
    "# Voeg Highlight-kolom toe voor categorisering\n",
    "def climate_category(row):\n",
    "    if row['country'] in nordics:\n",
    "        return 'Nordic'\n",
    "    elif row['country'] in avg_temp_countries:\n",
    "        return 'Mild Climate'\n",
    "    else:\n",
    "        return 'Other'\n",
    "\n",
    "df123['Highlight'] = df123.apply(climate_category, axis=1)\n",
    "\n",
    "# Eerste plot: alle landen, viridis kleuren op basis van Ladder score\n",
    "scatter_all = px.scatter(\n",
    "    df123,\n",
    "    x='Social support',\n",
    "    y='Ladder score',\n",
    "    color='Ladder score',                  # Viridis op happiness\n",
    "    color_continuous_scale='viridis',\n",
    "    trendline='ols',                        \n",
    "    title='Correlatie: Social Support vs Happiness (alle landen)',\n",
    "    hover_name='country'\n",
    ")\n",
    "\n",
    "scatter_all.update_traces(marker=dict(size=8, opacity=0.7), textposition='top center')\n",
    "\n",
    "# Tweede plot: enkel Nordic vs Mild Climate landen\n",
    "scan_vs_mild = px.scatter(\n",
    "    df123[df123['Highlight'].isin(['Nordic', 'Mild Climate'])],\n",
    "    x='Social support',\n",
    "    y='Ladder score',\n",
    "    color='Highlight',\n",
    "    color_discrete_map={'Nordic': 'blue', 'Mild Climate': 'orange'},\n",
    "    text='country',\n",
    "    title='Nordic vs Mild Climate landen: Social Support vs Happiness',\n",
    "    hover_name='country'\n",
    ")\n",
    "\n",
    "scan_vs_mild.update_traces(marker=dict(size=10, opacity=0.9), textposition='top center')\n",
    "\n",
    "# Combineer beide in subplots\n",
    "final_fig = make_subplots(rows=2, cols=1, subplot_titles=(\"Alle landen met trendline\", \"Nordic vs Mild Climate\"))\n",
    "\n",
    "for trace in scatter_all.data:\n",
    "    final_fig.add_trace(trace, row=1, col=1)\n",
    "for trace in scan_vs_mild.data:\n",
    "    final_fig.add_trace(trace, row=2, col=1)\n",
    "\n",
    "# 6. Layout en labels\n",
    "final_fig.update_layout(\n",
    "    height=1000,\n",
    "    width=1000,\n",
    "    title_text=\"Vergelijking: Klimaat en Geluk\",\n",
    "    showlegend=False\n",
    ")\n",
    "final_fig.update_xaxes(title_text=\"Social support\", row=1, col=1)\n",
    "final_fig.update_xaxes(title_text=\"Social support\", row=2, col=1)\n",
    "final_fig.update_yaxes(title_text=\"Happiness score\", row=1, col=1)\n",
    "final_fig.update_yaxes(title_text=\"Happiness score\", row=2, col=1)\n",
    "\n",
    "# 7. Toon figuur\n",
    "final_fig.show()"
   ]
  },
  {
   "cell_type": "markdown",
   "id": "c3857f81-dcad-489c-a608-3f7f86e6a58e",
   "metadata": {},
   "source": [
    "> *Figuur X, hierop is te zien dat landen met meer Social support, ook blijer zijn over het algemeen. Daarnaast is te zien dat het temperatuur verschil hier ook niet uitmaakt en landen met betere sociale steun toch hoger scoren.*"
   ]
  },
  {
   "cell_type": "markdown",
   "id": "bf522e30-74ba-4774-a6a0-a94f3d827123",
   "metadata": {},
   "source": [
    "## Argument 2.2: Economische stabiliteit, werkgelegenheid, gezondheidszorg en sociale verbondenheid dragen meer bij aan geluk dan klimaatfactoren."
   ]
  },
  {
   "cell_type": "markdown",
   "id": "51f7128d-2dd5-42ff-a178-bd7d6457d749",
   "metadata": {},
   "source": [
    "Landen met een hoge Log GDP per capita bevinden zich rechts in de grafiek en tonen vrijwel zonder uitzondering hoge happiness scores. Dit suggereert dat economische stabiliteit, waaronder dus factoren als werkgelegenheid, inkomenszekerheid en toegang tot voorzieningen, bijdraagt aan een verhoogd gevoel van welzijn. In rijkere landen is de kans op langdurige werkloosheid kleiner, zijn er meer middelen voor sociale zekerheid, en is de publieke infrastructuur (zoals transport en huisvesting) doorgaans beter geregeld.\n",
    "\n",
    "Economische rijkdom vertaalt zich ook in betere gezondheidsvoorzieningen. In landen met een hoger BBP per capita is de Healthy life expectancy doorgaans aanzienlijk hoger, wat op zijn beurt bijdraagt aan het algemene levensgeluk. Gezond zijn is niet alleen een fysieke toestand maar beïnvloedt ook mentale gezondheid, levenskwaliteit en de mate waarin mensen actief kunnen deelnemen aan de samenleving.\n",
    "\n",
    "De grootte van de bubbels weerspiegelt het niveau van social support, en duidelijk is dat grotere bubbels (meer steun) vaker in het bovenste deel van de grafiek verschijnen, bij landen met hogere geluksscores. Dit impliceert dat zelfs als economische omstandigheden goed zijn, sociale verbondenheid een essentiële factor blijft. Mensen voelen zich gelukkiger als ze op vrienden, familie of de overheid kunnen terugvallen in moeilijke tijden.\n",
    "\n",
    "Hoewel klimaat in deze visualisatie niet direct is opgenomen, laat het ontbreken ervan zien dat een hoge happiness score ook mogelijk is zonder zonnig, mild weer. Landen met strenge winters, zoals Zweden, Noorwegen en Finland, scoren hoog op zowel GDP als social support, en behoren tegelijk tot de gelukkigste landen ter wereld. Dit ondersteunt het idee dat sociaal-economische factoren zwaarder wegen dan klimaatfactoren in het verklaren van geluk."
   ]
  },
  {
   "cell_type": "code",
   "execution_count": 13,
   "id": "e6372635",
   "metadata": {
    "tags": [
     "hide-input"
    ]
   },
   "outputs": [
    {
     "data": {
      "application/vnd.plotly.v1+json": {
       "config": {
        "plotlyServerURL": "https://plot.ly"
       },
       "data": [
        {
         "hovertemplate": "<b>%{hovertext}</b><br><br>Log GDP per capita=%{x}<br>Social support=%{y}<br>Happiness score=%{marker.color}<extra></extra>",
         "hovertext": [
          "Afghanistan",
          "Albania",
          "Algeria",
          "Argentina",
          "Armenia",
          "Australia",
          "Australia",
          "Austria",
          "Azerbaijan",
          "Bangladesh",
          "Belgium",
          "Benin",
          "Bolivia",
          "Bosnia and Herzegovina",
          "Botswana",
          "Brazil",
          "Brazil",
          "Bulgaria",
          "Burkina Faso",
          "Cambodia",
          "Cameroon",
          "Canada",
          "Chad",
          "Chile",
          "China",
          "China",
          "Colombia",
          "Comoros",
          "Costa Rica",
          "Croatia",
          "Cyprus",
          "Denmark",
          "Dominican Republic",
          "Ecuador",
          "Egypt",
          "El Salvador",
          "Estonia",
          "Ethiopia",
          "Finland",
          "France",
          "Gabon",
          "Gambia",
          "Georgia",
          "Germany",
          "Germany",
          "Ghana",
          "Greece",
          "Guatemala",
          "Guinea",
          "Honduras",
          "Hungary",
          "Iceland",
          "India",
          "India",
          "Indonesia",
          "Iran",
          "Iraq",
          "Ireland",
          "Israel",
          "Italy",
          "Jamaica",
          "Japan",
          "Jordan",
          "Kazakhstan",
          "Kenya",
          "Kosovo",
          "Kuwait",
          "Latvia",
          "Lebanon",
          "Lesotho",
          "Liberia",
          "Libya",
          "Lithuania",
          "Luxembourg",
          "Madagascar",
          "Malawi",
          "Malaysia",
          "Mali",
          "Malta",
          "Mauritania",
          "Mauritius",
          "Mexico",
          "Mongolia",
          "Montenegro",
          "Morocco",
          "Mozambique",
          "Myanmar",
          "Namibia",
          "Nepal",
          "Netherlands",
          "New Zealand",
          "Nicaragua",
          "Niger",
          "Nigeria",
          "Nigeria",
          "Norway",
          "Pakistan",
          "Panama",
          "Paraguay",
          "Peru",
          "Philippines",
          "Poland",
          "Portugal",
          "Romania",
          "Russia",
          "Russia",
          "Saudi Arabia",
          "Senegal",
          "Serbia",
          "Sierra Leone",
          "Singapore",
          "Slovakia",
          "Slovenia",
          "South Africa",
          "South Korea",
          "Spain",
          "Sri Lanka",
          "Sweden",
          "Switzerland",
          "Tanzania",
          "Thailand",
          "Togo",
          "Tunisia",
          "Uganda",
          "Ukraine",
          "United Arab Emirates",
          "United Kingdom",
          "Uruguay",
          "Uzbekistan",
          "Venezuela",
          "Vietnam",
          "Yemen",
          "Zambia",
          "Zimbabwe"
         ],
         "legendgroup": "",
         "marker": {
          "color": {
           "_inputArray": {
            "0": 1.721,
            "1": 5.304,
            "10": 6.894,
            "100": 6.048,
            "101": 6.442,
            "102": 6.03,
            "103": 6.491,
            "104": 5.785,
            "105": 5.785,
            "106": 6.594,
            "107": 4.969,
            "108": 6.411,
            "109": 3.245,
            "11": 4.377,
            "110": 6.523,
            "111": 6.257,
            "112": 6.743,
            "113": 5.422,
            "114": 6.058,
            "115": 6.421,
            "116": 3.898,
            "117": 7.344,
            "118": 7.06,
            "119": 3.781,
            "12": 5.784,
            "120": 5.976,
            "121": 4.214,
            "122": 4.422,
            "123": 4.372,
            "124": 4.873,
            "125": 6.733,
            "126": 6.749,
            "127": 6.611,
            "128": 6.195,
            "129": 5.607,
            "13": 5.877,
            "130": 6.043,
            "131": 3.561,
            "132": 3.502,
            "133": 3.341,
            "14": 3.383,
            "15": 6.272,
            "16": 6.272,
            "17": 5.463,
            "18": 4.548,
            "19": 4.341,
            "2": 5.364,
            "20": 4.874,
            "21": 6.9,
            "22": 4.471,
            "23": 6.36,
            "24": 5.973,
            "25": 5.973,
            "26": 5.695,
            "27": 3.566,
            "28": 6.955,
            "29": 5.942,
            "3": 6.188,
            "30": 6.068,
            "31": 7.583,
            "32": 5.823,
            "33": 5.725,
            "34": 3.977,
            "35": 6.469,
            "36": 6.448,
            "37": 3.861,
            "38": 7.741,
            "39": 6.609,
            "4": 5.455,
            "40": 5.106,
            "41": 4.485,
            "42": 5.185,
            "43": 6.719,
            "44": 6.719,
            "45": 4.289,
            "46": 5.934,
            "47": 6.287,
            "48": 5.023,
            "49": 5.968,
            "5": 7.057,
            "50": 6.017,
            "51": 7.525,
            "52": 4.054,
            "53": 4.054,
            "54": 5.568,
            "55": 4.923,
            "56": 5.166,
            "57": 6.838,
            "58": 7.341,
            "59": 6.324,
            "6": 7.057,
            "60": 5.842,
            "61": 6.06,
            "62": 4.186,
            "63": 6.188,
            "64": 4.47,
            "65": 6.561,
            "66": 6.951,
            "67": 6.234,
            "68": 2.707,
            "69": 3.186,
            "7": 6.905,
            "70": 4.269,
            "71": 5.866,
            "72": 6.818,
            "73": 7.122,
            "74": 4.228,
            "75": 3.421,
            "76": 5.975,
            "77": 4.232,
            "78": 6.346,
            "79": 4.505,
            "8": 4.893,
            "80": 5.816,
            "81": 6.678,
            "82": 5.696,
            "83": 5.707,
            "84": 4.795,
            "85": 5.216,
            "86": 4.354,
            "87": 4.832,
            "88": 5.158,
            "89": 7.319,
            "9": 3.886,
            "90": 7.029,
            "91": 6.284,
            "92": 4.556,
            "93": 4.881,
            "94": 4.881,
            "95": 7.302,
            "96": 4.657,
            "97": 6.358,
            "98": 5.977,
            "99": 5.841,
            "bdata": "8KfGSzeJ+z+e76fGSzcVQNv5fmq8dBVAjZduEoPAGEBSuB6F69EVQO58PzVeOhxA7nw/NV46HEAfhetRuJ4bQN9PjZdukhNASgwCK4cWD0D6fmq8dJMbQDVeukkMghFAiUFg5dAiF0A1XrpJDIIXQKrx0k1iEAtASgwCK4cWGUBKDAIrhxYZQCcxCKwc2hVA/tR46SYxEkB3vp8aL10RQOXQItv5fhNAmpmZmZmZG0D8qfHSTeIRQHE9CtejcBlAMQisHFrkF0AxCKwcWuQXQEjhehSuxxZAukkMAiuHDEBSuB6F69EbQPhT46WbxBdAEoPAyqFFGECiRbbz/VQeQJhuEoPAShdAZmZmZmbmFkA3iUFg5dAPQMdLN4lB4BlAmG4Sg8DKGUAX2c73U+MOQBBYObTI9h5AVg4tsp1vGkAGgZVDi2wUQHE9Ctej8BFAPQrXo3C9FEDHSzeJQeAaQMdLN4lB4BpADi2yne8nEUAj2/l+arwXQNnO91PjJRlAZDvfT40XFECsHFpkO98XQMUgsHJoERhAmpmZmZkZHkCe76fGSzcQQJ7vp8ZLNxBAEoPAyqFFFkD+1HjpJrETQESLbOf7qRRAJzEIrBxaG0B3vp8aL10dQLKd76fGSxlAke18PzVeF0A9CtejcD0YQFg5tMh2vhBAjZduEoPAGEDhehSuR+ERQFg5tMh2PhpA5/up8dLNG0BWDi2yne8YQA4tsp3vpwVAsHJoke18CUD6fmq8dBMRQBBYObTIdhdAEoPAyqFFG0CwcmiR7XwcQLbz/dR46RBAke18PzVeC0BmZmZmZuYXQCGwcmiR7RBA/Knx0k1iGUCF61G4HgUSQN0kBoGVQxdAg8DKoUW2GkBiEFg5tMgWQIcW2c730xZArkfhehQuE0B3vp8aL90UQNEi2/l+ahFAhxbZzvdTE0BvEoPAyqEUQC2yne+nRh1ABFYOLbIdHECJQWDl0CIZQNNNYhBYORJAoBov3SSGE0CgGi/dJIYTQGiR7Xw/NR1AVOOlm8SgEkA730+Nl24ZQJzEILBy6BdAd76fGi9dF0D+1HjpJjEYQPhT46WbxBlAH4XrUbgeGEAQWDm0yPYZQKRwPQrXIxdApHA9CtcjF0DHSzeJQWAaQMdLN4lB4BNAvp8aL92kGUD2KFyPwvUJQGQ730+NFxpAukkMAisHGUBGtvP91PgaQOOlm8QgsBVACKwcWmQ7GEDJdr6fGq8ZQMl2vp8aLw9Ax0s3iUFgHUA9CtejcD0cQHNoke18Pw5AgZVDi2znF0BCYOXQItsQQOOlm8QgsBFAsHJoke18EUDLoUW2830TQDvfT42X7hpA5dAi2/n+GkCLbOf7qXEaQEjhehSuxxhAIbByaJFtFkB56SYxCCwYQLByaJHtfAxAarx0kxgEDEDufD81XroKQA==",
            "dtype": "f8",
            "shape": "134"
           },
           "bdata": "8KfGSzeJ+z+e76fGSzcVQNv5fmq8dBVAjZduEoPAGEBSuB6F69EVQO58PzVeOhxA7nw/NV46HEAfhetRuJ4bQN9PjZdukhNASgwCK4cWD0D6fmq8dJMbQDVeukkMghFAiUFg5dAiF0A1XrpJDIIXQKrx0k1iEAtASgwCK4cWGUBKDAIrhxYZQCcxCKwc2hVA/tR46SYxEkB3vp8aL10RQOXQItv5fhNAmpmZmZmZG0D8qfHSTeIRQHE9CtejcBlAMQisHFrkF0AxCKwcWuQXQEjhehSuxxZAukkMAiuHDEBSuB6F69EbQPhT46WbxBdAEoPAyqFFGECiRbbz/VQeQJhuEoPAShdAZmZmZmbmFkA3iUFg5dAPQMdLN4lB4BlAmG4Sg8DKGUAX2c73U+MOQBBYObTI9h5AVg4tsp1vGkAGgZVDi2wUQHE9Ctej8BFAPQrXo3C9FEDHSzeJQeAaQMdLN4lB4BpADi2yne8nEUAj2/l+arwXQNnO91PjJRlAZDvfT40XFECsHFpkO98XQMUgsHJoERhAmpmZmZkZHkCe76fGSzcQQJ7vp8ZLNxBAEoPAyqFFFkD+1HjpJrETQESLbOf7qRRAJzEIrBxaG0B3vp8aL10dQLKd76fGSxlAke18PzVeF0A9CtejcD0YQFg5tMh2vhBAjZduEoPAGEDhehSuR+ERQFg5tMh2PhpA5/up8dLNG0BWDi2yne8YQA4tsp3vpwVAsHJoke18CUD6fmq8dBMRQBBYObTIdhdAEoPAyqFFG0CwcmiR7XwcQLbz/dR46RBAke18PzVeC0BmZmZmZuYXQCGwcmiR7RBA/Knx0k1iGUCF61G4HgUSQN0kBoGVQxdAg8DKoUW2GkBiEFg5tMgWQIcW2c730xZArkfhehQuE0B3vp8aL90UQNEi2/l+ahFAhxbZzvdTE0BvEoPAyqEUQC2yne+nRh1ABFYOLbIdHECJQWDl0CIZQNNNYhBYORJAoBov3SSGE0CgGi/dJIYTQGiR7Xw/NR1AVOOlm8SgEkA730+Nl24ZQJzEILBy6BdAd76fGi9dF0D+1HjpJjEYQPhT46WbxBlAH4XrUbgeGEAQWDm0yPYZQKRwPQrXIxdApHA9CtcjF0DHSzeJQWAaQMdLN4lB4BNAvp8aL92kGUD2KFyPwvUJQGQ730+NFxpAukkMAisHGUBGtvP91PgaQOOlm8QgsBVACKwcWmQ7GEDJdr6fGq8ZQMl2vp8aLw9Ax0s3iUFgHUA9CtejcD0cQHNoke18Pw5AgZVDi2znF0BCYOXQItsQQOOlm8QgsBFAsHJoke18EUDLoUW2830TQDvfT42X7hpA5dAi2/n+GkCLbOf7qXEaQEjhehSuxxhAIbByaJFtFkB56SYxCCwYQLByaJHtfAxAarx0kxgEDEDufD81XroKQA==",
           "dtype": "f8"
          },
          "coloraxis": "coloraxis",
          "size": {
           "_inputArray": {
            "0": 1.721,
            "1": 5.304,
            "10": 6.894,
            "100": 6.048,
            "101": 6.442,
            "102": 6.03,
            "103": 6.491,
            "104": 5.785,
            "105": 5.785,
            "106": 6.594,
            "107": 4.969,
            "108": 6.411,
            "109": 3.245,
            "11": 4.377,
            "110": 6.523,
            "111": 6.257,
            "112": 6.743,
            "113": 5.422,
            "114": 6.058,
            "115": 6.421,
            "116": 3.898,
            "117": 7.344,
            "118": 7.06,
            "119": 3.781,
            "12": 5.784,
            "120": 5.976,
            "121": 4.214,
            "122": 4.422,
            "123": 4.372,
            "124": 4.873,
            "125": 6.733,
            "126": 6.749,
            "127": 6.611,
            "128": 6.195,
            "129": 5.607,
            "13": 5.877,
            "130": 6.043,
            "131": 3.561,
            "132": 3.502,
            "133": 3.341,
            "14": 3.383,
            "15": 6.272,
            "16": 6.272,
            "17": 5.463,
            "18": 4.548,
            "19": 4.341,
            "2": 5.364,
            "20": 4.874,
            "21": 6.9,
            "22": 4.471,
            "23": 6.36,
            "24": 5.973,
            "25": 5.973,
            "26": 5.695,
            "27": 3.566,
            "28": 6.955,
            "29": 5.942,
            "3": 6.188,
            "30": 6.068,
            "31": 7.583,
            "32": 5.823,
            "33": 5.725,
            "34": 3.977,
            "35": 6.469,
            "36": 6.448,
            "37": 3.861,
            "38": 7.741,
            "39": 6.609,
            "4": 5.455,
            "40": 5.106,
            "41": 4.485,
            "42": 5.185,
            "43": 6.719,
            "44": 6.719,
            "45": 4.289,
            "46": 5.934,
            "47": 6.287,
            "48": 5.023,
            "49": 5.968,
            "5": 7.057,
            "50": 6.017,
            "51": 7.525,
            "52": 4.054,
            "53": 4.054,
            "54": 5.568,
            "55": 4.923,
            "56": 5.166,
            "57": 6.838,
            "58": 7.341,
            "59": 6.324,
            "6": 7.057,
            "60": 5.842,
            "61": 6.06,
            "62": 4.186,
            "63": 6.188,
            "64": 4.47,
            "65": 6.561,
            "66": 6.951,
            "67": 6.234,
            "68": 2.707,
            "69": 3.186,
            "7": 6.905,
            "70": 4.269,
            "71": 5.866,
            "72": 6.818,
            "73": 7.122,
            "74": 4.228,
            "75": 3.421,
            "76": 5.975,
            "77": 4.232,
            "78": 6.346,
            "79": 4.505,
            "8": 4.893,
            "80": 5.816,
            "81": 6.678,
            "82": 5.696,
            "83": 5.707,
            "84": 4.795,
            "85": 5.216,
            "86": 4.354,
            "87": 4.832,
            "88": 5.158,
            "89": 7.319,
            "9": 3.886,
            "90": 7.029,
            "91": 6.284,
            "92": 4.556,
            "93": 4.881,
            "94": 4.881,
            "95": 7.302,
            "96": 4.657,
            "97": 6.358,
            "98": 5.977,
            "99": 5.841,
            "bdata": "8KfGSzeJ+z+e76fGSzcVQNv5fmq8dBVAjZduEoPAGEBSuB6F69EVQO58PzVeOhxA7nw/NV46HEAfhetRuJ4bQN9PjZdukhNASgwCK4cWD0D6fmq8dJMbQDVeukkMghFAiUFg5dAiF0A1XrpJDIIXQKrx0k1iEAtASgwCK4cWGUBKDAIrhxYZQCcxCKwc2hVA/tR46SYxEkB3vp8aL10RQOXQItv5fhNAmpmZmZmZG0D8qfHSTeIRQHE9CtejcBlAMQisHFrkF0AxCKwcWuQXQEjhehSuxxZAukkMAiuHDEBSuB6F69EbQPhT46WbxBdAEoPAyqFFGECiRbbz/VQeQJhuEoPAShdAZmZmZmbmFkA3iUFg5dAPQMdLN4lB4BlAmG4Sg8DKGUAX2c73U+MOQBBYObTI9h5AVg4tsp1vGkAGgZVDi2wUQHE9Ctej8BFAPQrXo3C9FEDHSzeJQeAaQMdLN4lB4BpADi2yne8nEUAj2/l+arwXQNnO91PjJRlAZDvfT40XFECsHFpkO98XQMUgsHJoERhAmpmZmZkZHkCe76fGSzcQQJ7vp8ZLNxBAEoPAyqFFFkD+1HjpJrETQESLbOf7qRRAJzEIrBxaG0B3vp8aL10dQLKd76fGSxlAke18PzVeF0A9CtejcD0YQFg5tMh2vhBAjZduEoPAGEDhehSuR+ERQFg5tMh2PhpA5/up8dLNG0BWDi2yne8YQA4tsp3vpwVAsHJoke18CUD6fmq8dBMRQBBYObTIdhdAEoPAyqFFG0CwcmiR7XwcQLbz/dR46RBAke18PzVeC0BmZmZmZuYXQCGwcmiR7RBA/Knx0k1iGUCF61G4HgUSQN0kBoGVQxdAg8DKoUW2GkBiEFg5tMgWQIcW2c730xZArkfhehQuE0B3vp8aL90UQNEi2/l+ahFAhxbZzvdTE0BvEoPAyqEUQC2yne+nRh1ABFYOLbIdHECJQWDl0CIZQNNNYhBYORJAoBov3SSGE0CgGi/dJIYTQGiR7Xw/NR1AVOOlm8SgEkA730+Nl24ZQJzEILBy6BdAd76fGi9dF0D+1HjpJjEYQPhT46WbxBlAH4XrUbgeGEAQWDm0yPYZQKRwPQrXIxdApHA9CtcjF0DHSzeJQWAaQMdLN4lB4BNAvp8aL92kGUD2KFyPwvUJQGQ730+NFxpAukkMAisHGUBGtvP91PgaQOOlm8QgsBVACKwcWmQ7GEDJdr6fGq8ZQMl2vp8aLw9Ax0s3iUFgHUA9CtejcD0cQHNoke18Pw5AgZVDi2znF0BCYOXQItsQQOOlm8QgsBFAsHJoke18EUDLoUW2830TQDvfT42X7hpA5dAi2/n+GkCLbOf7qXEaQEjhehSuxxhAIbByaJFtFkB56SYxCCwYQLByaJHtfAxAarx0kxgEDEDufD81XroKQA==",
            "dtype": "f8",
            "shape": "134"
           },
           "bdata": "8KfGSzeJ+z+e76fGSzcVQNv5fmq8dBVAjZduEoPAGEBSuB6F69EVQO58PzVeOhxA7nw/NV46HEAfhetRuJ4bQN9PjZdukhNASgwCK4cWD0D6fmq8dJMbQDVeukkMghFAiUFg5dAiF0A1XrpJDIIXQKrx0k1iEAtASgwCK4cWGUBKDAIrhxYZQCcxCKwc2hVA/tR46SYxEkB3vp8aL10RQOXQItv5fhNAmpmZmZmZG0D8qfHSTeIRQHE9CtejcBlAMQisHFrkF0AxCKwcWuQXQEjhehSuxxZAukkMAiuHDEBSuB6F69EbQPhT46WbxBdAEoPAyqFFGECiRbbz/VQeQJhuEoPAShdAZmZmZmbmFkA3iUFg5dAPQMdLN4lB4BlAmG4Sg8DKGUAX2c73U+MOQBBYObTI9h5AVg4tsp1vGkAGgZVDi2wUQHE9Ctej8BFAPQrXo3C9FEDHSzeJQeAaQMdLN4lB4BpADi2yne8nEUAj2/l+arwXQNnO91PjJRlAZDvfT40XFECsHFpkO98XQMUgsHJoERhAmpmZmZkZHkCe76fGSzcQQJ7vp8ZLNxBAEoPAyqFFFkD+1HjpJrETQESLbOf7qRRAJzEIrBxaG0B3vp8aL10dQLKd76fGSxlAke18PzVeF0A9CtejcD0YQFg5tMh2vhBAjZduEoPAGEDhehSuR+ERQFg5tMh2PhpA5/up8dLNG0BWDi2yne8YQA4tsp3vpwVAsHJoke18CUD6fmq8dBMRQBBYObTIdhdAEoPAyqFFG0CwcmiR7XwcQLbz/dR46RBAke18PzVeC0BmZmZmZuYXQCGwcmiR7RBA/Knx0k1iGUCF61G4HgUSQN0kBoGVQxdAg8DKoUW2GkBiEFg5tMgWQIcW2c730xZArkfhehQuE0B3vp8aL90UQNEi2/l+ahFAhxbZzvdTE0BvEoPAyqEUQC2yne+nRh1ABFYOLbIdHECJQWDl0CIZQNNNYhBYORJAoBov3SSGE0CgGi/dJIYTQGiR7Xw/NR1AVOOlm8SgEkA730+Nl24ZQJzEILBy6BdAd76fGi9dF0D+1HjpJjEYQPhT46WbxBlAH4XrUbgeGEAQWDm0yPYZQKRwPQrXIxdApHA9CtcjF0DHSzeJQWAaQMdLN4lB4BNAvp8aL92kGUD2KFyPwvUJQGQ730+NFxpAukkMAisHGUBGtvP91PgaQOOlm8QgsBVACKwcWmQ7GEDJdr6fGq8ZQMl2vp8aLw9Ax0s3iUFgHUA9CtejcD0cQHNoke18Pw5AgZVDi2znF0BCYOXQItsQQOOlm8QgsBFAsHJoke18EUDLoUW2830TQDvfT42X7hpA5dAi2/n+GkCLbOf7qXEaQEjhehSuxxhAIbByaJFtFkB56SYxCCwYQLByaJHtfAxAarx0kxgEDEDufD81XroKQA==",
           "dtype": "f8"
          },
          "sizemode": "area",
          "sizeref": 0.008601111111111111,
          "symbol": "circle"
         },
         "mode": "markers",
         "name": "",
         "orientation": "v",
         "showlegend": false,
         "type": "scatter",
         "x": {
          "_inputArray": {
           "0": 0.628,
           "1": 1.438,
           "10": 1.868,
           "100": 1.232,
           "101": 1.738,
           "102": 1.728,
           "103": 1.699,
           "104": 1.642,
           "105": 1.642,
           "106": 1.842,
           "107": 0.927,
           "108": 1.538,
           "109": 0.654,
           "11": 0.914,
           "110": 2.118,
           "111": 1.706,
           "112": 1.786,
           "113": 1.389,
           "114": 1.815,
           "115": 1.766,
           "116": 1.361,
           "117": 1.878,
           "118": 1.97,
           "119": 0.82,
           "12": 1.217,
           "120": 1.484,
           "121": 0.758,
           "122": 1.306,
           "123": 0.772,
           "124": 1.35,
           "125": 1.983,
           "126": 1.822,
           "127": 1.596,
           "128": 1.212,
           "129": 0,
           "13": 1.465,
           "130": 1.331,
           "131": 0.671,
           "132": 0.899,
           "133": 0.748,
           "14": 1.445,
           "15": 1.43,
           "16": 1.43,
           "17": 1.629,
           "18": 0.756,
           "19": 1.011,
           "2": 1.324,
           "20": 0.943,
           "21": 1.84,
           "22": 0.603,
           "23": 1.616,
           "24": 1.497,
           "25": 1.497,
           "26": 1.437,
           "27": 0.896,
           "28": 1.561,
           "29": 1.71,
           "3": 1.562,
           "30": 1.794,
           "31": 1.908,
           "32": 1.517,
           "33": 1.315,
           "34": 1.37,
           "35": 1.265,
           "36": 1.752,
           "37": 0.792,
           "38": 1.844,
           "39": 1.818,
           "4": 1.444,
           "40": 1.403,
           "41": 0.75,
           "42": 1.467,
           "43": 1.871,
           "44": 1.871,
           "45": 1.077,
           "46": 1.684,
           "47": 1.26,
           "48": 0.831,
           "49": 1.091,
           "5": 1.854,
           "50": 1.722,
           "51": 1.881,
           "52": 1.166,
           "53": 1.166,
           "54": 1.361,
           "55": 1.435,
           "56": 1.249,
           "57": 2.129,
           "58": 1.803,
           "59": 1.8,
           "6": 1.854,
           "60": 1.28,
           "61": 1.786,
           "62": 1.262,
           "63": 1.622,
           "64": 1.037,
           "65": 1.364,
           "66": 1.845,
           "67": 1.7,
           "68": 1.377,
           "69": 0.771,
           "7": 1.885,
           "70": 0.619,
           "71": 1.526,
           "72": 1.766,
           "73": 2.141,
           "74": 0.628,
           "75": 0.617,
           "76": 1.646,
           "77": 0.747,
           "78": 1.827,
           "79": 1.078,
           "8": 1.433,
           "80": 1.57,
           "81": 1.521,
           "82": 1.353,
           "83": 1.571,
           "84": 1.213,
           "85": 0.56,
           "86": 0.978,
           "87": 1.266,
           "88": 0.965,
           "89": 1.901,
           "9": 1.122,
           "90": 1.81,
           "91": 1.097,
           "92": 0.573,
           "93": 1.042,
           "94": 1.042,
           "95": 1.952,
           "96": 1.069,
           "97": 1.702,
           "98": 1.398,
           "99": 1.371,
           "bdata": "f2q8dJMY5D81XrpJDAL3P8l2vp8aL/U/y6FFtvP9+D+0yHa+nxr3P0SLbOf7qf0/RIts5/up/T8pXI/C9Sj+PyGwcmiR7fY/wcqhRbbz8T8X2c73U+P9P3Noke18P+0/Rrbz/dR48z9xPQrXo3D3Px+F61G4Hvc/4XoUrkfh9j/hehSuR+H2P6rx0k1iEPo//tR46SYx6D+TGARWDi3wP5MYBFYOLe4/cT0K16Nw/T+yne+nxkvjP0Jg5dAi2/k/wcqhRbbz9z/ByqFFtvP3P8uhRbbz/fY/eekmMQis7D9g5dAi2/n4P1yPwvUoXPs/TmIQWDm0/D+6SQwCK4f+PxKDwMqhRfg/CtejcD0K9T/sUbgehev1Pz0K16NwPfQ/1XjpJjEI/D/y0k1iEFjpPxsv3SQGgf0/SgwCK4cW/T+mm8QgsHL2PwAAAAAAAOg/Rrbz/dR49z9WDi2yne/9P1YOLbKd7/0/CKwcWmQ78T+LbOf7qfH6Pylcj8L1KPQ/ZDvfT42X6j/b+X5qvHTxP1pkO99Pjfs/f2q8dJMY/j8OLbKd76fyPw4tsp3vp/I/LbKd76fG9T/2KFyPwvX2P5ZDi2zn+/M/1XjpJjEIAUAMAiuHFtn8P83MzMzMzPw/exSuR+F69D/6fmq8dJP8P/7UeOkmMfQ/wcqhRbbz+T9kO99PjZfwP23n+6nx0vU/hetRuB6F/T8zMzMzMzP7P9V46SYxCPY/eekmMQis6D8CK4cW2c7jP9Ei2/l+avg/qMZLN4lB/D9U46WbxCABQH9qvHSTGOQ/WDm0yHa+4z+8dJMYBFb6P4GVQ4ts5+c/CKwcWmQ7/T9zaJHtfD/xPx+F61G4Hvk/vHSTGARW+D/ZzvdT46X1P4lBYOXQIvk/nMQgsHJo8z/sUbgehevhP7Kd76fGS+8/qMZLN4lB9D/hehSuR+HuP9Ei2/l+av4/9ihcj8L1/D9aZDvfT43xP7x0kxgEVuI/eekmMQis8D956SYxCKzwPwisHFpkO/8/tMh2vp8a8T8IrBxaZDv7P5HtfD81XvY/Vg4tsp3v9T+DwMqhRbbzPwIrhxbZzvs/2c73U+Ol+z/Jdr6fGi/7PxKDwMqhRfo/EoPAyqFF+j9GtvP91Hj9P0SLbOf7qe0/z/dT46Wb+D8hsHJoke3kP4ts5/up8QBAsp3vp8ZL+z/6fmq8dJP8P9NNYhBYOfY/CtejcD0K/T+oxks3iUH8Py2yne+nxvU/PzVeukkM/j+F61G4HoX/Pz0K16NwPeo/WDm0yHa+9z+oxks3iUHoP0w3iUFg5fQ/TmIQWDm06D+amZmZmZn1P+58PzVeuv8/9P3UeOkm/T/wp8ZLN4n5PzEIrBxaZPM/AAAAAAAAAACyne+nxkv1P0a28/3UeOU/+FPjpZvE7D9WDi2yne/nPw==",
           "dtype": "f8",
           "shape": "134"
          },
          "bdata": "f2q8dJMY5D81XrpJDAL3P8l2vp8aL/U/y6FFtvP9+D+0yHa+nxr3P0SLbOf7qf0/RIts5/up/T8pXI/C9Sj+PyGwcmiR7fY/wcqhRbbz8T8X2c73U+P9P3Noke18P+0/Rrbz/dR48z9xPQrXo3D3Px+F61G4Hvc/4XoUrkfh9j/hehSuR+H2P6rx0k1iEPo//tR46SYx6D+TGARWDi3wP5MYBFYOLe4/cT0K16Nw/T+yne+nxkvjP0Jg5dAi2/k/wcqhRbbz9z/ByqFFtvP3P8uhRbbz/fY/eekmMQis7D9g5dAi2/n4P1yPwvUoXPs/TmIQWDm0/D+6SQwCK4f+PxKDwMqhRfg/CtejcD0K9T/sUbgehev1Pz0K16NwPfQ/1XjpJjEI/D/y0k1iEFjpPxsv3SQGgf0/SgwCK4cW/T+mm8QgsHL2PwAAAAAAAOg/Rrbz/dR49z9WDi2yne/9P1YOLbKd7/0/CKwcWmQ78T+LbOf7qfH6Pylcj8L1KPQ/ZDvfT42X6j/b+X5qvHTxP1pkO99Pjfs/f2q8dJMY/j8OLbKd76fyPw4tsp3vp/I/LbKd76fG9T/2KFyPwvX2P5ZDi2zn+/M/1XjpJjEIAUAMAiuHFtn8P83MzMzMzPw/exSuR+F69D/6fmq8dJP8P/7UeOkmMfQ/wcqhRbbz+T9kO99PjZfwP23n+6nx0vU/hetRuB6F/T8zMzMzMzP7P9V46SYxCPY/eekmMQis6D8CK4cW2c7jP9Ei2/l+avg/qMZLN4lB/D9U46WbxCABQH9qvHSTGOQ/WDm0yHa+4z+8dJMYBFb6P4GVQ4ts5+c/CKwcWmQ7/T9zaJHtfD/xPx+F61G4Hvk/vHSTGARW+D/ZzvdT46X1P4lBYOXQIvk/nMQgsHJo8z/sUbgehevhP7Kd76fGS+8/qMZLN4lB9D/hehSuR+HuP9Ei2/l+av4/9ihcj8L1/D9aZDvfT43xP7x0kxgEVuI/eekmMQis8D956SYxCKzwPwisHFpkO/8/tMh2vp8a8T8IrBxaZDv7P5HtfD81XvY/Vg4tsp3v9T+DwMqhRbbzPwIrhxbZzvs/2c73U+Ol+z/Jdr6fGi/7PxKDwMqhRfo/EoPAyqFF+j9GtvP91Hj9P0SLbOf7qe0/z/dT46Wb+D8hsHJoke3kP4ts5/up8QBAsp3vp8ZL+z/6fmq8dJP8P9NNYhBYOfY/CtejcD0K/T+oxks3iUH8Py2yne+nxvU/PzVeukkM/j+F61G4HoX/Pz0K16NwPeo/WDm0yHa+9z+oxks3iUHoP0w3iUFg5fQ/TmIQWDm06D+amZmZmZn1P+58PzVeuv8/9P3UeOkm/T/wp8ZLN4n5PzEIrBxaZPM/AAAAAAAAAACyne+nxkv1P0a28/3UeOU/+FPjpZvE7D9WDi2yne/nPw==",
          "dtype": "f8"
         },
         "xaxis": "x",
         "y": {
          "_inputArray": {
           "0": 0,
           "1": 0.924,
           "10": 1.44,
           "100": 1.146,
           "101": 1.417,
           "102": 1.368,
           "103": 1.236,
           "104": 1.351,
           "105": 1.351,
           "106": 1.361,
           "107": 0.751,
           "108": 1.391,
           "109": 0.566,
           "11": 0.128,
           "110": 1.361,
           "111": 1.54,
           "112": 1.502,
           "113": 1.369,
           "114": 1.178,
           "115": 1.471,
           "116": 1.179,
           "117": 1.501,
           "118": 1.425,
           "119": 0.706,
           "12": 1.179,
           "120": 1.347,
           "121": 0.586,
           "122": 0.955,
           "123": 1.151,
           "124": 1.315,
           "125": 1.164,
           "126": 1.326,
           "127": 1.431,
           "128": 1.394,
           "129": 1.321,
           "13": 1.318,
           "130": 1.267,
           "131": 1.281,
           "132": 0.809,
           "133": 0.85,
           "14": 0.969,
           "15": 1.269,
           "16": 1.269,
           "17": 1.469,
           "18": 0.685,
           "19": 1.019,
           "2": 1.191,
           "20": 0.856,
           "21": 1.459,
           "22": 0.805,
           "23": 1.369,
           "24": 1.239,
           "25": 1.239,
           "26": 1.241,
           "27": 0.328,
           "28": 1.373,
           "29": 1.445,
           "3": 1.381,
           "30": 1.217,
           "31": 1.52,
           "32": 1.272,
           "33": 1.151,
           "34": 0.996,
           "35": 1.08,
           "36": 1.527,
           "37": 0.915,
           "38": 1.572,
           "39": 1.348,
           "4": 1.154,
           "40": 1.038,
           "41": 0.684,
           "42": 0.99,
           "43": 1.39,
           "44": 1.39,
           "45": 0.747,
           "46": 1.276,
           "47": 1.169,
           "48": 0.622,
           "49": 1.035,
           "5": 1.461,
           "50": 1.528,
           "51": 1.617,
           "52": 0.653,
           "53": 0.653,
           "54": 1.184,
           "55": 1.136,
           "56": 0.996,
           "57": 1.39,
           "58": 1.513,
           "59": 1.328,
           "6": 1.461,
           "60": 1.324,
           "61": 1.354,
           "62": 0.983,
           "63": 1.457,
           "64": 0.895,
           "65": 1.277,
           "66": 1.364,
           "67": 1.508,
           "68": 0.577,
           "69": 0.851,
           "7": 1.336,
           "70": 0.673,
           "71": 1.1,
           "72": 1.454,
           "73": 1.355,
           "74": 0.823,
           "75": 0.41,
           "76": 1.143,
           "77": 0.688,
           "78": 1.444,
           "79": 0.705,
           "8": 0.876,
           "80": 1.358,
           "81": 1.241,
           "82": 1.511,
           "83": 1.318,
           "84": 0.471,
           "85": 0.883,
           "86": 0.988,
           "87": 1.212,
           "88": 0.99,
           "89": 1.462,
           "9": 0.249,
           "90": 1.527,
           "91": 1.263,
           "92": 0.677,
           "93": 1.075,
           "94": 1.075,
           "95": 1.517,
           "96": 0.6,
           "97": 1.392,
           "98": 1.408,
           "99": 1.18,
           "bdata": "AAAAAAAAAADFILByaJHtP3WTGARWDvM/f2q8dJMY9j8QWDm0yHbyP8dLN4lBYPc/x0s3iUFg9z/HSzeJQWD1P9V46SYxCOw/rBxaZDvfzz8K16NwPQr3P/yp8dJNYsA/d76fGi/d8j9KDAIrhxb1PzVeukkMAu8/5/up8dJN9D/n+6nx0k30Pxsv3SQGgfc/7FG4HoXr5T/n+6nx0k3wPzEIrBxaZOs/8tJNYhBY9z/D9Shcj8LpP4GVQ4ts5/U/bef7qfHS8z9t5/up8dLzP0Jg5dAi2/M/y6FFtvP91D8rhxbZzvf1Px+F61G4Hvc/Rrbz/dR48z9SuB6F61H4PycxCKwcWvQ/0SLb+X5q8j+sHFpkO9/vP0jhehSuR/E/O99PjZdu+D9I4XoUrkftP/T91HjpJvk/xSCwcmiR9T/P91PjpZvwPxfZzvdT4+U/rkfhehSu7z89CtejcD32Pz0K16NwPfY/gZVDi2zn5z/RItv5fmr0P05iEFg5tPI/gZVDi2zn4z+PwvUoXI/wP6abxCCwcvg/rBxaZDvf+T9MN4lBYOXkP0w3iUFg5eQ/i2zn+6nx8j+TGARWDi3yP6wcWmQ73+8/PQrXo3A99j9oke18PzX4P3Noke18P/U/yXa+nxov9T9Ei2zn+6n1P9v5fmq8dO8/HVpkO99P9z+kcD0K16PsPzvfT42XbvQ/bef7qfHS9T9U46WbxCD4PxBYObTIduI/CKwcWmQ76z/wp8ZLN4nlP5qZmZmZmfE/3SQGgZVD9z+uR+F6FK71P7x0kxgEVuo/PQrXo3A92j99PzVeuknyP2q8dJMYBOY/tMh2vp8a9z+PwvUoXI/mP+58PzVeuvU/QmDl0CLb8z+TGARWDi34P0oMAiuHFvU/vp8aL90k3j+oxks3iUHsPwRWDi2yne8/MQisHFpk8z+uR+F6FK7vPzEIrBxaZPc/O99PjZdu+D9oke18PzX0P0SLbOf7qeU/MzMzMzMz8T8zMzMzMzPxPxKDwMqhRfg/MzMzMzMz4z8Sg8DKoUX2P7pJDAIrh/Y/4XoUrkfh8j+8dJMYBFbyP3npJjEIrPY/F9nO91Pj9T8tsp3vp8bzPwRWDi2ynfU/BFYOLbKd9T8tsp3vp8b1P9V46SYxCOg/qMZLN4lB9j/pJjEIrBziPy2yne+nxvU/pHA9Ctej+D/VeOkmMQj4P4GVQ4ts5/U/DAIrhxbZ8j/wp8ZLN4n3P3e+nxov3fI/arx0kxgE+D/NzMzMzMz2P2Q730+Nl+Y/WmQ730+N9T+Nl24Sg8DiP4/C9Shcj+4/0SLb+X5q8j8K16NwPQr1Pzm0yHa+n/I/nu+nxks39T9MN4lBYOX2P+f7qfHSTfY/iUFg5dAi9T8Sg8DKoUX0P+XQItv5fvQ/F9nO91Pj6T8zMzMzMzPrPw==",
           "dtype": "f8",
           "shape": "134"
          },
          "bdata": "AAAAAAAAAADFILByaJHtP3WTGARWDvM/f2q8dJMY9j8QWDm0yHbyP8dLN4lBYPc/x0s3iUFg9z/HSzeJQWD1P9V46SYxCOw/rBxaZDvfzz8K16NwPQr3P/yp8dJNYsA/d76fGi/d8j9KDAIrhxb1PzVeukkMAu8/5/up8dJN9D/n+6nx0k30Pxsv3SQGgfc/7FG4HoXr5T/n+6nx0k3wPzEIrBxaZOs/8tJNYhBY9z/D9Shcj8LpP4GVQ4ts5/U/bef7qfHS8z9t5/up8dLzP0Jg5dAi2/M/y6FFtvP91D8rhxbZzvf1Px+F61G4Hvc/Rrbz/dR48z9SuB6F61H4PycxCKwcWvQ/0SLb+X5q8j+sHFpkO9/vP0jhehSuR/E/O99PjZdu+D9I4XoUrkftP/T91HjpJvk/xSCwcmiR9T/P91PjpZvwPxfZzvdT4+U/rkfhehSu7z89CtejcD32Pz0K16NwPfY/gZVDi2zn5z/RItv5fmr0P05iEFg5tPI/gZVDi2zn4z+PwvUoXI/wP6abxCCwcvg/rBxaZDvf+T9MN4lBYOXkP0w3iUFg5eQ/i2zn+6nx8j+TGARWDi3yP6wcWmQ73+8/PQrXo3A99j9oke18PzX4P3Noke18P/U/yXa+nxov9T9Ei2zn+6n1P9v5fmq8dO8/HVpkO99P9z+kcD0K16PsPzvfT42XbvQ/bef7qfHS9T9U46WbxCD4PxBYObTIduI/CKwcWmQ76z/wp8ZLN4nlP5qZmZmZmfE/3SQGgZVD9z+uR+F6FK71P7x0kxgEVuo/PQrXo3A92j99PzVeuknyP2q8dJMYBOY/tMh2vp8a9z+PwvUoXI/mP+58PzVeuvU/QmDl0CLb8z+TGARWDi34P0oMAiuHFvU/vp8aL90k3j+oxks3iUHsPwRWDi2yne8/MQisHFpk8z+uR+F6FK7vPzEIrBxaZPc/O99PjZdu+D9oke18PzX0P0SLbOf7qeU/MzMzMzMz8T8zMzMzMzPxPxKDwMqhRfg/MzMzMzMz4z8Sg8DKoUX2P7pJDAIrh/Y/4XoUrkfh8j+8dJMYBFbyP3npJjEIrPY/F9nO91Pj9T8tsp3vp8bzPwRWDi2ynfU/BFYOLbKd9T8tsp3vp8b1P9V46SYxCOg/qMZLN4lB9j/pJjEIrBziPy2yne+nxvU/pHA9Ctej+D/VeOkmMQj4P4GVQ4ts5/U/DAIrhxbZ8j/wp8ZLN4n3P3e+nxov3fI/arx0kxgE+D/NzMzMzMz2P2Q730+Nl+Y/WmQ730+N9T+Nl24Sg8DiP4/C9Shcj+4/0SLb+X5q8j8K16NwPQr1Pzm0yHa+n/I/nu+nxks39T9MN4lBYOX2P+f7qfHSTfY/iUFg5dAi9T8Sg8DKoUX0P+XQItv5fvQ/F9nO91Pj6T8zMzMzMzPrPw==",
          "dtype": "f8"
         },
         "yaxis": "y"
        }
       ],
       "layout": {
        "autosize": true,
        "coloraxis": {
         "colorbar": {
          "title": {
           "text": "Happiness score"
          }
         },
         "colorscale": [
          [
           0,
           "#0d0887"
          ],
          [
           0.1111111111111111,
           "#46039f"
          ],
          [
           0.2222222222222222,
           "#7201a8"
          ],
          [
           0.3333333333333333,
           "#9c179e"
          ],
          [
           0.4444444444444444,
           "#bd3786"
          ],
          [
           0.5555555555555556,
           "#d8576b"
          ],
          [
           0.6666666666666666,
           "#ed7953"
          ],
          [
           0.7777777777777778,
           "#fb9f3a"
          ],
          [
           0.8888888888888888,
           "#fdca26"
          ],
          [
           1,
           "#f0f921"
          ]
         ]
        },
        "legend": {
         "itemsizing": "constant",
         "tracegroupgap": 0
        },
        "template": {
         "data": {
          "bar": [
           {
            "error_x": {
             "color": "#2a3f5f"
            },
            "error_y": {
             "color": "#2a3f5f"
            },
            "marker": {
             "line": {
              "color": "#E5ECF6",
              "width": 0.5
             },
             "pattern": {
              "fillmode": "overlay",
              "size": 10,
              "solidity": 0.2
             }
            },
            "type": "bar"
           }
          ],
          "barpolar": [
           {
            "marker": {
             "line": {
              "color": "#E5ECF6",
              "width": 0.5
             },
             "pattern": {
              "fillmode": "overlay",
              "size": 10,
              "solidity": 0.2
             }
            },
            "type": "barpolar"
           }
          ],
          "carpet": [
           {
            "aaxis": {
             "endlinecolor": "#2a3f5f",
             "gridcolor": "white",
             "linecolor": "white",
             "minorgridcolor": "white",
             "startlinecolor": "#2a3f5f"
            },
            "baxis": {
             "endlinecolor": "#2a3f5f",
             "gridcolor": "white",
             "linecolor": "white",
             "minorgridcolor": "white",
             "startlinecolor": "#2a3f5f"
            },
            "type": "carpet"
           }
          ],
          "choropleth": [
           {
            "colorbar": {
             "outlinewidth": 0,
             "ticks": ""
            },
            "type": "choropleth"
           }
          ],
          "contour": [
           {
            "colorbar": {
             "outlinewidth": 0,
             "ticks": ""
            },
            "colorscale": [
             [
              0,
              "#0d0887"
             ],
             [
              0.1111111111111111,
              "#46039f"
             ],
             [
              0.2222222222222222,
              "#7201a8"
             ],
             [
              0.3333333333333333,
              "#9c179e"
             ],
             [
              0.4444444444444444,
              "#bd3786"
             ],
             [
              0.5555555555555556,
              "#d8576b"
             ],
             [
              0.6666666666666666,
              "#ed7953"
             ],
             [
              0.7777777777777778,
              "#fb9f3a"
             ],
             [
              0.8888888888888888,
              "#fdca26"
             ],
             [
              1,
              "#f0f921"
             ]
            ],
            "type": "contour"
           }
          ],
          "contourcarpet": [
           {
            "colorbar": {
             "outlinewidth": 0,
             "ticks": ""
            },
            "type": "contourcarpet"
           }
          ],
          "heatmap": [
           {
            "colorbar": {
             "outlinewidth": 0,
             "ticks": ""
            },
            "colorscale": [
             [
              0,
              "#0d0887"
             ],
             [
              0.1111111111111111,
              "#46039f"
             ],
             [
              0.2222222222222222,
              "#7201a8"
             ],
             [
              0.3333333333333333,
              "#9c179e"
             ],
             [
              0.4444444444444444,
              "#bd3786"
             ],
             [
              0.5555555555555556,
              "#d8576b"
             ],
             [
              0.6666666666666666,
              "#ed7953"
             ],
             [
              0.7777777777777778,
              "#fb9f3a"
             ],
             [
              0.8888888888888888,
              "#fdca26"
             ],
             [
              1,
              "#f0f921"
             ]
            ],
            "type": "heatmap"
           }
          ],
          "histogram": [
           {
            "marker": {
             "pattern": {
              "fillmode": "overlay",
              "size": 10,
              "solidity": 0.2
             }
            },
            "type": "histogram"
           }
          ],
          "histogram2d": [
           {
            "colorbar": {
             "outlinewidth": 0,
             "ticks": ""
            },
            "colorscale": [
             [
              0,
              "#0d0887"
             ],
             [
              0.1111111111111111,
              "#46039f"
             ],
             [
              0.2222222222222222,
              "#7201a8"
             ],
             [
              0.3333333333333333,
              "#9c179e"
             ],
             [
              0.4444444444444444,
              "#bd3786"
             ],
             [
              0.5555555555555556,
              "#d8576b"
             ],
             [
              0.6666666666666666,
              "#ed7953"
             ],
             [
              0.7777777777777778,
              "#fb9f3a"
             ],
             [
              0.8888888888888888,
              "#fdca26"
             ],
             [
              1,
              "#f0f921"
             ]
            ],
            "type": "histogram2d"
           }
          ],
          "histogram2dcontour": [
           {
            "colorbar": {
             "outlinewidth": 0,
             "ticks": ""
            },
            "colorscale": [
             [
              0,
              "#0d0887"
             ],
             [
              0.1111111111111111,
              "#46039f"
             ],
             [
              0.2222222222222222,
              "#7201a8"
             ],
             [
              0.3333333333333333,
              "#9c179e"
             ],
             [
              0.4444444444444444,
              "#bd3786"
             ],
             [
              0.5555555555555556,
              "#d8576b"
             ],
             [
              0.6666666666666666,
              "#ed7953"
             ],
             [
              0.7777777777777778,
              "#fb9f3a"
             ],
             [
              0.8888888888888888,
              "#fdca26"
             ],
             [
              1,
              "#f0f921"
             ]
            ],
            "type": "histogram2dcontour"
           }
          ],
          "mesh3d": [
           {
            "colorbar": {
             "outlinewidth": 0,
             "ticks": ""
            },
            "type": "mesh3d"
           }
          ],
          "parcoords": [
           {
            "line": {
             "colorbar": {
              "outlinewidth": 0,
              "ticks": ""
             }
            },
            "type": "parcoords"
           }
          ],
          "pie": [
           {
            "automargin": true,
            "type": "pie"
           }
          ],
          "scatter": [
           {
            "fillpattern": {
             "fillmode": "overlay",
             "size": 10,
             "solidity": 0.2
            },
            "type": "scatter"
           }
          ],
          "scatter3d": [
           {
            "line": {
             "colorbar": {
              "outlinewidth": 0,
              "ticks": ""
             }
            },
            "marker": {
             "colorbar": {
              "outlinewidth": 0,
              "ticks": ""
             }
            },
            "type": "scatter3d"
           }
          ],
          "scattercarpet": [
           {
            "marker": {
             "colorbar": {
              "outlinewidth": 0,
              "ticks": ""
             }
            },
            "type": "scattercarpet"
           }
          ],
          "scattergeo": [
           {
            "marker": {
             "colorbar": {
              "outlinewidth": 0,
              "ticks": ""
             }
            },
            "type": "scattergeo"
           }
          ],
          "scattergl": [
           {
            "marker": {
             "colorbar": {
              "outlinewidth": 0,
              "ticks": ""
             }
            },
            "type": "scattergl"
           }
          ],
          "scattermap": [
           {
            "marker": {
             "colorbar": {
              "outlinewidth": 0,
              "ticks": ""
             }
            },
            "type": "scattermap"
           }
          ],
          "scattermapbox": [
           {
            "marker": {
             "colorbar": {
              "outlinewidth": 0,
              "ticks": ""
             }
            },
            "type": "scattermapbox"
           }
          ],
          "scatterpolar": [
           {
            "marker": {
             "colorbar": {
              "outlinewidth": 0,
              "ticks": ""
             }
            },
            "type": "scatterpolar"
           }
          ],
          "scatterpolargl": [
           {
            "marker": {
             "colorbar": {
              "outlinewidth": 0,
              "ticks": ""
             }
            },
            "type": "scatterpolargl"
           }
          ],
          "scatterternary": [
           {
            "marker": {
             "colorbar": {
              "outlinewidth": 0,
              "ticks": ""
             }
            },
            "type": "scatterternary"
           }
          ],
          "surface": [
           {
            "colorbar": {
             "outlinewidth": 0,
             "ticks": ""
            },
            "colorscale": [
             [
              0,
              "#0d0887"
             ],
             [
              0.1111111111111111,
              "#46039f"
             ],
             [
              0.2222222222222222,
              "#7201a8"
             ],
             [
              0.3333333333333333,
              "#9c179e"
             ],
             [
              0.4444444444444444,
              "#bd3786"
             ],
             [
              0.5555555555555556,
              "#d8576b"
             ],
             [
              0.6666666666666666,
              "#ed7953"
             ],
             [
              0.7777777777777778,
              "#fb9f3a"
             ],
             [
              0.8888888888888888,
              "#fdca26"
             ],
             [
              1,
              "#f0f921"
             ]
            ],
            "type": "surface"
           }
          ],
          "table": [
           {
            "cells": {
             "fill": {
              "color": "#EBF0F8"
             },
             "line": {
              "color": "white"
             }
            },
            "header": {
             "fill": {
              "color": "#C8D4E3"
             },
             "line": {
              "color": "white"
             }
            },
            "type": "table"
           }
          ]
         },
         "layout": {
          "annotationdefaults": {
           "arrowcolor": "#2a3f5f",
           "arrowhead": 0,
           "arrowwidth": 1
          },
          "autotypenumbers": "strict",
          "coloraxis": {
           "colorbar": {
            "outlinewidth": 0,
            "ticks": ""
           }
          },
          "colorscale": {
           "diverging": [
            [
             0,
             "#8e0152"
            ],
            [
             0.1,
             "#c51b7d"
            ],
            [
             0.2,
             "#de77ae"
            ],
            [
             0.3,
             "#f1b6da"
            ],
            [
             0.4,
             "#fde0ef"
            ],
            [
             0.5,
             "#f7f7f7"
            ],
            [
             0.6,
             "#e6f5d0"
            ],
            [
             0.7,
             "#b8e186"
            ],
            [
             0.8,
             "#7fbc41"
            ],
            [
             0.9,
             "#4d9221"
            ],
            [
             1,
             "#276419"
            ]
           ],
           "sequential": [
            [
             0,
             "#0d0887"
            ],
            [
             0.1111111111111111,
             "#46039f"
            ],
            [
             0.2222222222222222,
             "#7201a8"
            ],
            [
             0.3333333333333333,
             "#9c179e"
            ],
            [
             0.4444444444444444,
             "#bd3786"
            ],
            [
             0.5555555555555556,
             "#d8576b"
            ],
            [
             0.6666666666666666,
             "#ed7953"
            ],
            [
             0.7777777777777778,
             "#fb9f3a"
            ],
            [
             0.8888888888888888,
             "#fdca26"
            ],
            [
             1,
             "#f0f921"
            ]
           ],
           "sequentialminus": [
            [
             0,
             "#0d0887"
            ],
            [
             0.1111111111111111,
             "#46039f"
            ],
            [
             0.2222222222222222,
             "#7201a8"
            ],
            [
             0.3333333333333333,
             "#9c179e"
            ],
            [
             0.4444444444444444,
             "#bd3786"
            ],
            [
             0.5555555555555556,
             "#d8576b"
            ],
            [
             0.6666666666666666,
             "#ed7953"
            ],
            [
             0.7777777777777778,
             "#fb9f3a"
            ],
            [
             0.8888888888888888,
             "#fdca26"
            ],
            [
             1,
             "#f0f921"
            ]
           ]
          },
          "colorway": [
           "#636efa",
           "#EF553B",
           "#00cc96",
           "#ab63fa",
           "#FFA15A",
           "#19d3f3",
           "#FF6692",
           "#B6E880",
           "#FF97FF",
           "#FECB52"
          ],
          "font": {
           "color": "#2a3f5f"
          },
          "geo": {
           "bgcolor": "white",
           "lakecolor": "white",
           "landcolor": "#E5ECF6",
           "showlakes": true,
           "showland": true,
           "subunitcolor": "white"
          },
          "hoverlabel": {
           "align": "left"
          },
          "hovermode": "closest",
          "mapbox": {
           "style": "light"
          },
          "paper_bgcolor": "white",
          "plot_bgcolor": "#E5ECF6",
          "polar": {
           "angularaxis": {
            "gridcolor": "white",
            "linecolor": "white",
            "ticks": ""
           },
           "bgcolor": "#E5ECF6",
           "radialaxis": {
            "gridcolor": "white",
            "linecolor": "white",
            "ticks": ""
           }
          },
          "scene": {
           "xaxis": {
            "backgroundcolor": "#E5ECF6",
            "gridcolor": "white",
            "gridwidth": 2,
            "linecolor": "white",
            "showbackground": true,
            "ticks": "",
            "zerolinecolor": "white"
           },
           "yaxis": {
            "backgroundcolor": "#E5ECF6",
            "gridcolor": "white",
            "gridwidth": 2,
            "linecolor": "white",
            "showbackground": true,
            "ticks": "",
            "zerolinecolor": "white"
           },
           "zaxis": {
            "backgroundcolor": "#E5ECF6",
            "gridcolor": "white",
            "gridwidth": 2,
            "linecolor": "white",
            "showbackground": true,
            "ticks": "",
            "zerolinecolor": "white"
           }
          },
          "shapedefaults": {
           "line": {
            "color": "#2a3f5f"
           }
          },
          "ternary": {
           "aaxis": {
            "gridcolor": "white",
            "linecolor": "white",
            "ticks": ""
           },
           "baxis": {
            "gridcolor": "white",
            "linecolor": "white",
            "ticks": ""
           },
           "bgcolor": "#E5ECF6",
           "caxis": {
            "gridcolor": "white",
            "linecolor": "white",
            "ticks": ""
           }
          },
          "title": {
           "x": 0.05
          },
          "xaxis": {
           "automargin": true,
           "gridcolor": "white",
           "linecolor": "white",
           "ticks": "",
           "title": {
            "standoff": 15
           },
           "zerolinecolor": "white",
           "zerolinewidth": 2
          },
          "yaxis": {
           "automargin": true,
           "gridcolor": "white",
           "linecolor": "white",
           "ticks": "",
           "title": {
            "standoff": 15
           },
           "zerolinecolor": "white",
           "zerolinewidth": 2
          }
         }
        },
        "title": {
         "text": "Log GDP per Capita vs. Happiness (bubbel = Social support)"
        },
        "xaxis": {
         "anchor": "y",
         "autorange": true,
         "domain": [
          0,
          1
         ],
         "range": [
          -0.2482306320185363,
          2.4039183142118876
         ],
         "title": {
          "text": "Log GDP per capita"
         },
         "type": "linear"
        },
        "yaxis": {
         "anchor": "x",
         "autorange": true,
         "domain": [
          0,
          1
         ],
         "range": [
          -0.13411942311703662,
          1.7923560738874944
         ],
         "title": {
          "text": "Social support"
         },
         "type": "linear"
        }
       }
      },
      "text/html": [
       "<div>            <script src=\"https://cdnjs.cloudflare.com/ajax/libs/mathjax/2.7.5/MathJax.js?config=TeX-AMS-MML_SVG\"></script><script type=\"text/javascript\">if (window.MathJax && window.MathJax.Hub && window.MathJax.Hub.Config) {window.MathJax.Hub.Config({SVG: {font: \"STIX-Web\"}});}</script>                <script type=\"text/javascript\">window.PlotlyConfig = {MathJaxConfig: 'local'};</script>\n",
       "        <script charset=\"utf-8\" src=\"https://cdn.plot.ly/plotly-3.0.1.min.js\"></script>                <div id=\"9e52f7a2-a8c2-4ea5-ad9a-f81f97bf5949\" class=\"plotly-graph-div\" style=\"height:750px; width:100%;\"></div>            <script type=\"text/javascript\">                window.PLOTLYENV=window.PLOTLYENV || {};                                if (document.getElementById(\"9e52f7a2-a8c2-4ea5-ad9a-f81f97bf5949\")) {                    Plotly.newPlot(                        \"9e52f7a2-a8c2-4ea5-ad9a-f81f97bf5949\",                        [{\"hovertemplate\":\"\\u003cb\\u003e%{hovertext}\\u003c\\u002fb\\u003e\\u003cbr\\u003e\\u003cbr\\u003eLog GDP per capita=%{x}\\u003cbr\\u003eSocial support=%{y}\\u003cbr\\u003eHappiness score=%{marker.color}\\u003cextra\\u003e\\u003c\\u002fextra\\u003e\",\"hovertext\":[\"Afghanistan\",\"Albania\",\"Algeria\",\"Argentina\",\"Armenia\",\"Australia\",\"Australia\",\"Austria\",\"Azerbaijan\",\"Bangladesh\",\"Belgium\",\"Benin\",\"Bolivia\",\"Bosnia and Herzegovina\",\"Botswana\",\"Brazil\",\"Brazil\",\"Bulgaria\",\"Burkina Faso\",\"Cambodia\",\"Cameroon\",\"Canada\",\"Chad\",\"Chile\",\"China\",\"China\",\"Colombia\",\"Comoros\",\"Costa Rica\",\"Croatia\",\"Cyprus\",\"Denmark\",\"Dominican Republic\",\"Ecuador\",\"Egypt\",\"El Salvador\",\"Estonia\",\"Ethiopia\",\"Finland\",\"France\",\"Gabon\",\"Gambia\",\"Georgia\",\"Germany\",\"Germany\",\"Ghana\",\"Greece\",\"Guatemala\",\"Guinea\",\"Honduras\",\"Hungary\",\"Iceland\",\"India\",\"India\",\"Indonesia\",\"Iran\",\"Iraq\",\"Ireland\",\"Israel\",\"Italy\",\"Jamaica\",\"Japan\",\"Jordan\",\"Kazakhstan\",\"Kenya\",\"Kosovo\",\"Kuwait\",\"Latvia\",\"Lebanon\",\"Lesotho\",\"Liberia\",\"Libya\",\"Lithuania\",\"Luxembourg\",\"Madagascar\",\"Malawi\",\"Malaysia\",\"Mali\",\"Malta\",\"Mauritania\",\"Mauritius\",\"Mexico\",\"Mongolia\",\"Montenegro\",\"Morocco\",\"Mozambique\",\"Myanmar\",\"Namibia\",\"Nepal\",\"Netherlands\",\"New Zealand\",\"Nicaragua\",\"Niger\",\"Nigeria\",\"Nigeria\",\"Norway\",\"Pakistan\",\"Panama\",\"Paraguay\",\"Peru\",\"Philippines\",\"Poland\",\"Portugal\",\"Romania\",\"Russia\",\"Russia\",\"Saudi Arabia\",\"Senegal\",\"Serbia\",\"Sierra Leone\",\"Singapore\",\"Slovakia\",\"Slovenia\",\"South Africa\",\"South Korea\",\"Spain\",\"Sri Lanka\",\"Sweden\",\"Switzerland\",\"Tanzania\",\"Thailand\",\"Togo\",\"Tunisia\",\"Uganda\",\"Ukraine\",\"United Arab Emirates\",\"United Kingdom\",\"Uruguay\",\"Uzbekistan\",\"Venezuela\",\"Vietnam\",\"Yemen\",\"Zambia\",\"Zimbabwe\"],\"legendgroup\":\"\",\"marker\":{\"color\":{\"dtype\":\"f8\",\"bdata\":\"8KfGSzeJ+z+e76fGSzcVQNv5fmq8dBVAjZduEoPAGEBSuB6F69EVQO58PzVeOhxA7nw\\u002fNV46HEAfhetRuJ4bQN9PjZdukhNASgwCK4cWD0D6fmq8dJMbQDVeukkMghFAiUFg5dAiF0A1XrpJDIIXQKrx0k1iEAtASgwCK4cWGUBKDAIrhxYZQCcxCKwc2hVA\\u002ftR46SYxEkB3vp8aL10RQOXQItv5fhNAmpmZmZmZG0D8qfHSTeIRQHE9CtejcBlAMQisHFrkF0AxCKwcWuQXQEjhehSuxxZAukkMAiuHDEBSuB6F69EbQPhT46WbxBdAEoPAyqFFGECiRbbz\\u002fVQeQJhuEoPAShdAZmZmZmbmFkA3iUFg5dAPQMdLN4lB4BlAmG4Sg8DKGUAX2c73U+MOQBBYObTI9h5AVg4tsp1vGkAGgZVDi2wUQHE9Ctej8BFAPQrXo3C9FEDHSzeJQeAaQMdLN4lB4BpADi2yne8nEUAj2\\u002fl+arwXQNnO91PjJRlAZDvfT40XFECsHFpkO98XQMUgsHJoERhAmpmZmZkZHkCe76fGSzcQQJ7vp8ZLNxBAEoPAyqFFFkD+1HjpJrETQESLbOf7qRRAJzEIrBxaG0B3vp8aL10dQLKd76fGSxlAke18PzVeF0A9CtejcD0YQFg5tMh2vhBAjZduEoPAGEDhehSuR+ERQFg5tMh2PhpA5\\u002fup8dLNG0BWDi2yne8YQA4tsp3vpwVAsHJoke18CUD6fmq8dBMRQBBYObTIdhdAEoPAyqFFG0CwcmiR7XwcQLbz\\u002fdR46RBAke18PzVeC0BmZmZmZuYXQCGwcmiR7RBA\\u002fKnx0k1iGUCF61G4HgUSQN0kBoGVQxdAg8DKoUW2GkBiEFg5tMgWQIcW2c730xZArkfhehQuE0B3vp8aL90UQNEi2\\u002fl+ahFAhxbZzvdTE0BvEoPAyqEUQC2yne+nRh1ABFYOLbIdHECJQWDl0CIZQNNNYhBYORJAoBov3SSGE0CgGi\\u002fdJIYTQGiR7Xw\\u002fNR1AVOOlm8SgEkA730+Nl24ZQJzEILBy6BdAd76fGi9dF0D+1HjpJjEYQPhT46WbxBlAH4XrUbgeGEAQWDm0yPYZQKRwPQrXIxdApHA9CtcjF0DHSzeJQWAaQMdLN4lB4BNAvp8aL92kGUD2KFyPwvUJQGQ730+NFxpAukkMAisHGUBGtvP91PgaQOOlm8QgsBVACKwcWmQ7GEDJdr6fGq8ZQMl2vp8aLw9Ax0s3iUFgHUA9CtejcD0cQHNoke18Pw5AgZVDi2znF0BCYOXQItsQQOOlm8QgsBFAsHJoke18EUDLoUW2830TQDvfT42X7hpA5dAi2\\u002fn+GkCLbOf7qXEaQEjhehSuxxhAIbByaJFtFkB56SYxCCwYQLByaJHtfAxAarx0kxgEDEDufD81XroKQA==\"},\"coloraxis\":\"coloraxis\",\"size\":{\"dtype\":\"f8\",\"bdata\":\"8KfGSzeJ+z+e76fGSzcVQNv5fmq8dBVAjZduEoPAGEBSuB6F69EVQO58PzVeOhxA7nw\\u002fNV46HEAfhetRuJ4bQN9PjZdukhNASgwCK4cWD0D6fmq8dJMbQDVeukkMghFAiUFg5dAiF0A1XrpJDIIXQKrx0k1iEAtASgwCK4cWGUBKDAIrhxYZQCcxCKwc2hVA\\u002ftR46SYxEkB3vp8aL10RQOXQItv5fhNAmpmZmZmZG0D8qfHSTeIRQHE9CtejcBlAMQisHFrkF0AxCKwcWuQXQEjhehSuxxZAukkMAiuHDEBSuB6F69EbQPhT46WbxBdAEoPAyqFFGECiRbbz\\u002fVQeQJhuEoPAShdAZmZmZmbmFkA3iUFg5dAPQMdLN4lB4BlAmG4Sg8DKGUAX2c73U+MOQBBYObTI9h5AVg4tsp1vGkAGgZVDi2wUQHE9Ctej8BFAPQrXo3C9FEDHSzeJQeAaQMdLN4lB4BpADi2yne8nEUAj2\\u002fl+arwXQNnO91PjJRlAZDvfT40XFECsHFpkO98XQMUgsHJoERhAmpmZmZkZHkCe76fGSzcQQJ7vp8ZLNxBAEoPAyqFFFkD+1HjpJrETQESLbOf7qRRAJzEIrBxaG0B3vp8aL10dQLKd76fGSxlAke18PzVeF0A9CtejcD0YQFg5tMh2vhBAjZduEoPAGEDhehSuR+ERQFg5tMh2PhpA5\\u002fup8dLNG0BWDi2yne8YQA4tsp3vpwVAsHJoke18CUD6fmq8dBMRQBBYObTIdhdAEoPAyqFFG0CwcmiR7XwcQLbz\\u002fdR46RBAke18PzVeC0BmZmZmZuYXQCGwcmiR7RBA\\u002fKnx0k1iGUCF61G4HgUSQN0kBoGVQxdAg8DKoUW2GkBiEFg5tMgWQIcW2c730xZArkfhehQuE0B3vp8aL90UQNEi2\\u002fl+ahFAhxbZzvdTE0BvEoPAyqEUQC2yne+nRh1ABFYOLbIdHECJQWDl0CIZQNNNYhBYORJAoBov3SSGE0CgGi\\u002fdJIYTQGiR7Xw\\u002fNR1AVOOlm8SgEkA730+Nl24ZQJzEILBy6BdAd76fGi9dF0D+1HjpJjEYQPhT46WbxBlAH4XrUbgeGEAQWDm0yPYZQKRwPQrXIxdApHA9CtcjF0DHSzeJQWAaQMdLN4lB4BNAvp8aL92kGUD2KFyPwvUJQGQ730+NFxpAukkMAisHGUBGtvP91PgaQOOlm8QgsBVACKwcWmQ7GEDJdr6fGq8ZQMl2vp8aLw9Ax0s3iUFgHUA9CtejcD0cQHNoke18Pw5AgZVDi2znF0BCYOXQItsQQOOlm8QgsBFAsHJoke18EUDLoUW2830TQDvfT42X7hpA5dAi2\\u002fn+GkCLbOf7qXEaQEjhehSuxxhAIbByaJFtFkB56SYxCCwYQLByaJHtfAxAarx0kxgEDEDufD81XroKQA==\"},\"sizemode\":\"area\",\"sizeref\":0.008601111111111111,\"symbol\":\"circle\"},\"mode\":\"markers\",\"name\":\"\",\"orientation\":\"v\",\"showlegend\":false,\"x\":{\"dtype\":\"f8\",\"bdata\":\"f2q8dJMY5D81XrpJDAL3P8l2vp8aL\\u002fU\\u002fy6FFtvP9+D+0yHa+nxr3P0SLbOf7qf0\\u002fRIts5\\u002fup\\u002fT8pXI\\u002fC9Sj+PyGwcmiR7fY\\u002fwcqhRbbz8T8X2c73U+P9P3Noke18P+0\\u002fRrbz\\u002fdR48z9xPQrXo3D3Px+F61G4Hvc\\u002f4XoUrkfh9j\\u002fhehSuR+H2P6rx0k1iEPo\\u002f\\u002ftR46SYx6D+TGARWDi3wP5MYBFYOLe4\\u002fcT0K16Nw\\u002fT+yne+nxkvjP0Jg5dAi2\\u002fk\\u002fwcqhRbbz9z\\u002fByqFFtvP3P8uhRbbz\\u002ffY\\u002feekmMQis7D9g5dAi2\\u002fn4P1yPwvUoXPs\\u002fTmIQWDm0\\u002fD+6SQwCK4f+PxKDwMqhRfg\\u002fCtejcD0K9T\\u002fsUbgehev1Pz0K16NwPfQ\\u002f1XjpJjEI\\u002fD\\u002fy0k1iEFjpPxsv3SQGgf0\\u002fSgwCK4cW\\u002fT+mm8QgsHL2PwAAAAAAAOg\\u002fRrbz\\u002fdR49z9WDi2yne\\u002f9P1YOLbKd7\\u002f0\\u002fCKwcWmQ78T+LbOf7qfH6Pylcj8L1KPQ\\u002fZDvfT42X6j\\u002fb+X5qvHTxP1pkO99Pjfs\\u002ff2q8dJMY\\u002fj8OLbKd76fyPw4tsp3vp\\u002fI\\u002fLbKd76fG9T\\u002f2KFyPwvX2P5ZDi2zn+\\u002fM\\u002f1XjpJjEIAUAMAiuHFtn8P83MzMzMzPw\\u002fexSuR+F69D\\u002f6fmq8dJP8P\\u002f7UeOkmMfQ\\u002fwcqhRbbz+T9kO99PjZfwP23n+6nx0vU\\u002fhetRuB6F\\u002fT8zMzMzMzP7P9V46SYxCPY\\u002feekmMQis6D8CK4cW2c7jP9Ei2\\u002fl+avg\\u002fqMZLN4lB\\u002fD9U46WbxCABQH9qvHSTGOQ\\u002fWDm0yHa+4z+8dJMYBFb6P4GVQ4ts5+c\\u002fCKwcWmQ7\\u002fT9zaJHtfD\\u002fxPx+F61G4Hvk\\u002fvHSTGARW+D\\u002fZzvdT46X1P4lBYOXQIvk\\u002fnMQgsHJo8z\\u002fsUbgehevhP7Kd76fGS+8\\u002fqMZLN4lB9D\\u002fhehSuR+HuP9Ei2\\u002fl+av4\\u002f9ihcj8L1\\u002fD9aZDvfT43xP7x0kxgEVuI\\u002feekmMQis8D956SYxCKzwPwisHFpkO\\u002f8\\u002ftMh2vp8a8T8IrBxaZDv7P5HtfD81XvY\\u002fVg4tsp3v9T+DwMqhRbbzPwIrhxbZzvs\\u002f2c73U+Ol+z\\u002fJdr6fGi\\u002f7PxKDwMqhRfo\\u002fEoPAyqFF+j9GtvP91Hj9P0SLbOf7qe0\\u002fz\\u002fdT46Wb+D8hsHJoke3kP4ts5\\u002fup8QBAsp3vp8ZL+z\\u002f6fmq8dJP8P9NNYhBYOfY\\u002fCtejcD0K\\u002fT+oxks3iUH8Py2yne+nxvU\\u002fPzVeukkM\\u002fj+F61G4HoX\\u002fPz0K16NwPeo\\u002fWDm0yHa+9z+oxks3iUHoP0w3iUFg5fQ\\u002fTmIQWDm06D+amZmZmZn1P+58PzVeuv8\\u002f9P3UeOkm\\u002fT\\u002fwp8ZLN4n5PzEIrBxaZPM\\u002fAAAAAAAAAACyne+nxkv1P0a28\\u002f3UeOU\\u002f+FPjpZvE7D9WDi2yne\\u002fnPw==\"},\"xaxis\":\"x\",\"y\":{\"dtype\":\"f8\",\"bdata\":\"AAAAAAAAAADFILByaJHtP3WTGARWDvM\\u002ff2q8dJMY9j8QWDm0yHbyP8dLN4lBYPc\\u002fx0s3iUFg9z\\u002fHSzeJQWD1P9V46SYxCOw\\u002frBxaZDvfzz8K16NwPQr3P\\u002fyp8dJNYsA\\u002fd76fGi\\u002fd8j9KDAIrhxb1PzVeukkMAu8\\u002f5\\u002fup8dJN9D\\u002fn+6nx0k30Pxsv3SQGgfc\\u002f7FG4HoXr5T\\u002fn+6nx0k3wPzEIrBxaZOs\\u002f8tJNYhBY9z\\u002fD9Shcj8LpP4GVQ4ts5\\u002fU\\u002fbef7qfHS8z9t5\\u002fup8dLzP0Jg5dAi2\\u002fM\\u002fy6FFtvP91D8rhxbZzvf1Px+F61G4Hvc\\u002fRrbz\\u002fdR48z9SuB6F61H4PycxCKwcWvQ\\u002f0SLb+X5q8j+sHFpkO9\\u002fvP0jhehSuR\\u002fE\\u002fO99PjZdu+D9I4XoUrkftP\\u002fT91HjpJvk\\u002fxSCwcmiR9T\\u002fP91PjpZvwPxfZzvdT4+U\\u002frkfhehSu7z89CtejcD32Pz0K16NwPfY\\u002fgZVDi2zn5z\\u002fRItv5fmr0P05iEFg5tPI\\u002fgZVDi2zn4z+PwvUoXI\\u002fwP6abxCCwcvg\\u002frBxaZDvf+T9MN4lBYOXkP0w3iUFg5eQ\\u002fi2zn+6nx8j+TGARWDi3yP6wcWmQ73+8\\u002fPQrXo3A99j9oke18PzX4P3Noke18P\\u002fU\\u002fyXa+nxov9T9Ei2zn+6n1P9v5fmq8dO8\\u002fHVpkO99P9z+kcD0K16PsPzvfT42XbvQ\\u002fbef7qfHS9T9U46WbxCD4PxBYObTIduI\\u002fCKwcWmQ76z\\u002fwp8ZLN4nlP5qZmZmZmfE\\u002f3SQGgZVD9z+uR+F6FK71P7x0kxgEVuo\\u002fPQrXo3A92j99PzVeuknyP2q8dJMYBOY\\u002ftMh2vp8a9z+PwvUoXI\\u002fmP+58PzVeuvU\\u002fQmDl0CLb8z+TGARWDi34P0oMAiuHFvU\\u002fvp8aL90k3j+oxks3iUHsPwRWDi2yne8\\u002fMQisHFpk8z+uR+F6FK7vPzEIrBxaZPc\\u002fO99PjZdu+D9oke18PzX0P0SLbOf7qeU\\u002fMzMzMzMz8T8zMzMzMzPxPxKDwMqhRfg\\u002fMzMzMzMz4z8Sg8DKoUX2P7pJDAIrh\\u002fY\\u002f4XoUrkfh8j+8dJMYBFbyP3npJjEIrPY\\u002fF9nO91Pj9T8tsp3vp8bzPwRWDi2ynfU\\u002fBFYOLbKd9T8tsp3vp8b1P9V46SYxCOg\\u002fqMZLN4lB9j\\u002fpJjEIrBziPy2yne+nxvU\\u002fpHA9Ctej+D\\u002fVeOkmMQj4P4GVQ4ts5\\u002fU\\u002fDAIrhxbZ8j\\u002fwp8ZLN4n3P3e+nxov3fI\\u002farx0kxgE+D\\u002fNzMzMzMz2P2Q730+Nl+Y\\u002fWmQ730+N9T+Nl24Sg8DiP4\\u002fC9Shcj+4\\u002f0SLb+X5q8j8K16NwPQr1Pzm0yHa+n\\u002fI\\u002fnu+nxks39T9MN4lBYOX2P+f7qfHSTfY\\u002fiUFg5dAi9T8Sg8DKoUX0P+XQItv5fvQ\\u002fF9nO91Pj6T8zMzMzMzPrPw==\"},\"yaxis\":\"y\",\"type\":\"scatter\"}],                        {\"template\":{\"data\":{\"histogram2dcontour\":[{\"type\":\"histogram2dcontour\",\"colorbar\":{\"outlinewidth\":0,\"ticks\":\"\"},\"colorscale\":[[0.0,\"#0d0887\"],[0.1111111111111111,\"#46039f\"],[0.2222222222222222,\"#7201a8\"],[0.3333333333333333,\"#9c179e\"],[0.4444444444444444,\"#bd3786\"],[0.5555555555555556,\"#d8576b\"],[0.6666666666666666,\"#ed7953\"],[0.7777777777777778,\"#fb9f3a\"],[0.8888888888888888,\"#fdca26\"],[1.0,\"#f0f921\"]]}],\"choropleth\":[{\"type\":\"choropleth\",\"colorbar\":{\"outlinewidth\":0,\"ticks\":\"\"}}],\"histogram2d\":[{\"type\":\"histogram2d\",\"colorbar\":{\"outlinewidth\":0,\"ticks\":\"\"},\"colorscale\":[[0.0,\"#0d0887\"],[0.1111111111111111,\"#46039f\"],[0.2222222222222222,\"#7201a8\"],[0.3333333333333333,\"#9c179e\"],[0.4444444444444444,\"#bd3786\"],[0.5555555555555556,\"#d8576b\"],[0.6666666666666666,\"#ed7953\"],[0.7777777777777778,\"#fb9f3a\"],[0.8888888888888888,\"#fdca26\"],[1.0,\"#f0f921\"]]}],\"heatmap\":[{\"type\":\"heatmap\",\"colorbar\":{\"outlinewidth\":0,\"ticks\":\"\"},\"colorscale\":[[0.0,\"#0d0887\"],[0.1111111111111111,\"#46039f\"],[0.2222222222222222,\"#7201a8\"],[0.3333333333333333,\"#9c179e\"],[0.4444444444444444,\"#bd3786\"],[0.5555555555555556,\"#d8576b\"],[0.6666666666666666,\"#ed7953\"],[0.7777777777777778,\"#fb9f3a\"],[0.8888888888888888,\"#fdca26\"],[1.0,\"#f0f921\"]]}],\"contourcarpet\":[{\"type\":\"contourcarpet\",\"colorbar\":{\"outlinewidth\":0,\"ticks\":\"\"}}],\"contour\":[{\"type\":\"contour\",\"colorbar\":{\"outlinewidth\":0,\"ticks\":\"\"},\"colorscale\":[[0.0,\"#0d0887\"],[0.1111111111111111,\"#46039f\"],[0.2222222222222222,\"#7201a8\"],[0.3333333333333333,\"#9c179e\"],[0.4444444444444444,\"#bd3786\"],[0.5555555555555556,\"#d8576b\"],[0.6666666666666666,\"#ed7953\"],[0.7777777777777778,\"#fb9f3a\"],[0.8888888888888888,\"#fdca26\"],[1.0,\"#f0f921\"]]}],\"surface\":[{\"type\":\"surface\",\"colorbar\":{\"outlinewidth\":0,\"ticks\":\"\"},\"colorscale\":[[0.0,\"#0d0887\"],[0.1111111111111111,\"#46039f\"],[0.2222222222222222,\"#7201a8\"],[0.3333333333333333,\"#9c179e\"],[0.4444444444444444,\"#bd3786\"],[0.5555555555555556,\"#d8576b\"],[0.6666666666666666,\"#ed7953\"],[0.7777777777777778,\"#fb9f3a\"],[0.8888888888888888,\"#fdca26\"],[1.0,\"#f0f921\"]]}],\"mesh3d\":[{\"type\":\"mesh3d\",\"colorbar\":{\"outlinewidth\":0,\"ticks\":\"\"}}],\"scatter\":[{\"fillpattern\":{\"fillmode\":\"overlay\",\"size\":10,\"solidity\":0.2},\"type\":\"scatter\"}],\"parcoords\":[{\"type\":\"parcoords\",\"line\":{\"colorbar\":{\"outlinewidth\":0,\"ticks\":\"\"}}}],\"scatterpolargl\":[{\"type\":\"scatterpolargl\",\"marker\":{\"colorbar\":{\"outlinewidth\":0,\"ticks\":\"\"}}}],\"bar\":[{\"error_x\":{\"color\":\"#2a3f5f\"},\"error_y\":{\"color\":\"#2a3f5f\"},\"marker\":{\"line\":{\"color\":\"#E5ECF6\",\"width\":0.5},\"pattern\":{\"fillmode\":\"overlay\",\"size\":10,\"solidity\":0.2}},\"type\":\"bar\"}],\"scattergeo\":[{\"type\":\"scattergeo\",\"marker\":{\"colorbar\":{\"outlinewidth\":0,\"ticks\":\"\"}}}],\"scatterpolar\":[{\"type\":\"scatterpolar\",\"marker\":{\"colorbar\":{\"outlinewidth\":0,\"ticks\":\"\"}}}],\"histogram\":[{\"marker\":{\"pattern\":{\"fillmode\":\"overlay\",\"size\":10,\"solidity\":0.2}},\"type\":\"histogram\"}],\"scattergl\":[{\"type\":\"scattergl\",\"marker\":{\"colorbar\":{\"outlinewidth\":0,\"ticks\":\"\"}}}],\"scatter3d\":[{\"type\":\"scatter3d\",\"line\":{\"colorbar\":{\"outlinewidth\":0,\"ticks\":\"\"}},\"marker\":{\"colorbar\":{\"outlinewidth\":0,\"ticks\":\"\"}}}],\"scattermap\":[{\"type\":\"scattermap\",\"marker\":{\"colorbar\":{\"outlinewidth\":0,\"ticks\":\"\"}}}],\"scattermapbox\":[{\"type\":\"scattermapbox\",\"marker\":{\"colorbar\":{\"outlinewidth\":0,\"ticks\":\"\"}}}],\"scatterternary\":[{\"type\":\"scatterternary\",\"marker\":{\"colorbar\":{\"outlinewidth\":0,\"ticks\":\"\"}}}],\"scattercarpet\":[{\"type\":\"scattercarpet\",\"marker\":{\"colorbar\":{\"outlinewidth\":0,\"ticks\":\"\"}}}],\"carpet\":[{\"aaxis\":{\"endlinecolor\":\"#2a3f5f\",\"gridcolor\":\"white\",\"linecolor\":\"white\",\"minorgridcolor\":\"white\",\"startlinecolor\":\"#2a3f5f\"},\"baxis\":{\"endlinecolor\":\"#2a3f5f\",\"gridcolor\":\"white\",\"linecolor\":\"white\",\"minorgridcolor\":\"white\",\"startlinecolor\":\"#2a3f5f\"},\"type\":\"carpet\"}],\"table\":[{\"cells\":{\"fill\":{\"color\":\"#EBF0F8\"},\"line\":{\"color\":\"white\"}},\"header\":{\"fill\":{\"color\":\"#C8D4E3\"},\"line\":{\"color\":\"white\"}},\"type\":\"table\"}],\"barpolar\":[{\"marker\":{\"line\":{\"color\":\"#E5ECF6\",\"width\":0.5},\"pattern\":{\"fillmode\":\"overlay\",\"size\":10,\"solidity\":0.2}},\"type\":\"barpolar\"}],\"pie\":[{\"automargin\":true,\"type\":\"pie\"}]},\"layout\":{\"autotypenumbers\":\"strict\",\"colorway\":[\"#636efa\",\"#EF553B\",\"#00cc96\",\"#ab63fa\",\"#FFA15A\",\"#19d3f3\",\"#FF6692\",\"#B6E880\",\"#FF97FF\",\"#FECB52\"],\"font\":{\"color\":\"#2a3f5f\"},\"hovermode\":\"closest\",\"hoverlabel\":{\"align\":\"left\"},\"paper_bgcolor\":\"white\",\"plot_bgcolor\":\"#E5ECF6\",\"polar\":{\"bgcolor\":\"#E5ECF6\",\"angularaxis\":{\"gridcolor\":\"white\",\"linecolor\":\"white\",\"ticks\":\"\"},\"radialaxis\":{\"gridcolor\":\"white\",\"linecolor\":\"white\",\"ticks\":\"\"}},\"ternary\":{\"bgcolor\":\"#E5ECF6\",\"aaxis\":{\"gridcolor\":\"white\",\"linecolor\":\"white\",\"ticks\":\"\"},\"baxis\":{\"gridcolor\":\"white\",\"linecolor\":\"white\",\"ticks\":\"\"},\"caxis\":{\"gridcolor\":\"white\",\"linecolor\":\"white\",\"ticks\":\"\"}},\"coloraxis\":{\"colorbar\":{\"outlinewidth\":0,\"ticks\":\"\"}},\"colorscale\":{\"sequential\":[[0.0,\"#0d0887\"],[0.1111111111111111,\"#46039f\"],[0.2222222222222222,\"#7201a8\"],[0.3333333333333333,\"#9c179e\"],[0.4444444444444444,\"#bd3786\"],[0.5555555555555556,\"#d8576b\"],[0.6666666666666666,\"#ed7953\"],[0.7777777777777778,\"#fb9f3a\"],[0.8888888888888888,\"#fdca26\"],[1.0,\"#f0f921\"]],\"sequentialminus\":[[0.0,\"#0d0887\"],[0.1111111111111111,\"#46039f\"],[0.2222222222222222,\"#7201a8\"],[0.3333333333333333,\"#9c179e\"],[0.4444444444444444,\"#bd3786\"],[0.5555555555555556,\"#d8576b\"],[0.6666666666666666,\"#ed7953\"],[0.7777777777777778,\"#fb9f3a\"],[0.8888888888888888,\"#fdca26\"],[1.0,\"#f0f921\"]],\"diverging\":[[0,\"#8e0152\"],[0.1,\"#c51b7d\"],[0.2,\"#de77ae\"],[0.3,\"#f1b6da\"],[0.4,\"#fde0ef\"],[0.5,\"#f7f7f7\"],[0.6,\"#e6f5d0\"],[0.7,\"#b8e186\"],[0.8,\"#7fbc41\"],[0.9,\"#4d9221\"],[1,\"#276419\"]]},\"xaxis\":{\"gridcolor\":\"white\",\"linecolor\":\"white\",\"ticks\":\"\",\"title\":{\"standoff\":15},\"zerolinecolor\":\"white\",\"automargin\":true,\"zerolinewidth\":2},\"yaxis\":{\"gridcolor\":\"white\",\"linecolor\":\"white\",\"ticks\":\"\",\"title\":{\"standoff\":15},\"zerolinecolor\":\"white\",\"automargin\":true,\"zerolinewidth\":2},\"scene\":{\"xaxis\":{\"backgroundcolor\":\"#E5ECF6\",\"gridcolor\":\"white\",\"linecolor\":\"white\",\"showbackground\":true,\"ticks\":\"\",\"zerolinecolor\":\"white\",\"gridwidth\":2},\"yaxis\":{\"backgroundcolor\":\"#E5ECF6\",\"gridcolor\":\"white\",\"linecolor\":\"white\",\"showbackground\":true,\"ticks\":\"\",\"zerolinecolor\":\"white\",\"gridwidth\":2},\"zaxis\":{\"backgroundcolor\":\"#E5ECF6\",\"gridcolor\":\"white\",\"linecolor\":\"white\",\"showbackground\":true,\"ticks\":\"\",\"zerolinecolor\":\"white\",\"gridwidth\":2}},\"shapedefaults\":{\"line\":{\"color\":\"#2a3f5f\"}},\"annotationdefaults\":{\"arrowcolor\":\"#2a3f5f\",\"arrowhead\":0,\"arrowwidth\":1},\"geo\":{\"bgcolor\":\"white\",\"landcolor\":\"#E5ECF6\",\"subunitcolor\":\"white\",\"showland\":true,\"showlakes\":true,\"lakecolor\":\"white\"},\"title\":{\"x\":0.05},\"mapbox\":{\"style\":\"light\"}}},\"xaxis\":{\"anchor\":\"y\",\"domain\":[0.0,1.0],\"title\":{\"text\":\"Log GDP per capita\"}},\"yaxis\":{\"anchor\":\"x\",\"domain\":[0.0,1.0],\"title\":{\"text\":\"Social support\"}},\"coloraxis\":{\"colorbar\":{\"title\":{\"text\":\"Happiness score\"}},\"colorscale\":[[0.0,\"#0d0887\"],[0.1111111111111111,\"#46039f\"],[0.2222222222222222,\"#7201a8\"],[0.3333333333333333,\"#9c179e\"],[0.4444444444444444,\"#bd3786\"],[0.5555555555555556,\"#d8576b\"],[0.6666666666666666,\"#ed7953\"],[0.7777777777777778,\"#fb9f3a\"],[0.8888888888888888,\"#fdca26\"],[1.0,\"#f0f921\"]]},\"legend\":{\"tracegroupgap\":0,\"itemsizing\":\"constant\"},\"title\":{\"text\":\"Log GDP per Capita vs. Happiness (bubbel = Social support)\"},\"height\":750},                        {\"responsive\": true}                    ).then(function(){\n",
       "                            \n",
       "var gd = document.getElementById('9e52f7a2-a8c2-4ea5-ad9a-f81f97bf5949');\n",
       "var x = new MutationObserver(function (mutations, observer) {{\n",
       "        var display = window.getComputedStyle(gd).display;\n",
       "        if (!display || display === 'none') {{\n",
       "            console.log([gd, 'removed!']);\n",
       "            Plotly.purge(gd);\n",
       "            observer.disconnect();\n",
       "        }}\n",
       "}});\n",
       "\n",
       "// Listen for the removal of the full notebook cells\n",
       "var notebookContainer = gd.closest('#notebook-container');\n",
       "if (notebookContainer) {{\n",
       "    x.observe(notebookContainer, {childList: true});\n",
       "}}\n",
       "\n",
       "// Listen for the clearing of the current output cell\n",
       "var outputEl = gd.closest('.output');\n",
       "if (outputEl) {{\n",
       "    x.observe(outputEl, {childList: true});\n",
       "}}\n",
       "\n",
       "                        })                };            </script>        </div>"
      ]
     },
     "metadata": {},
     "output_type": "display_data"
    }
   ],
   "source": [
    "import pandas as pd\n",
    "import plotly.express as px\n",
    "\n",
    "\n",
    "# Verwijder alle rijen waar één van deze kolommen NaN is\n",
    "df_clean = df123.dropna(subset=['Log GDP per capita', 'Ladder score', 'Social support'])\n",
    "\n",
    "# Maak de bubble plot op de schone data\n",
    "fig = px.scatter(\n",
    "    df_clean,\n",
    "    x='Log GDP per capita',\n",
    "    y='Social support',\n",
    "    size='Ladder score',\n",
    "    color='Ladder score',\n",
    "    hover_name='country',\n",
    "    size_max=30,\n",
    "    height=750,\n",
    "    title='Log GDP per Capita vs. Happiness (bubbel = Social support)',\n",
    "    labels={\n",
    "        'Log GDP per capita': 'Log GDP per capita',\n",
    "        'Ladder score': 'Happiness score',\n",
    "        'Social support': 'Social support'\n",
    "    }\n",
    ")\n",
    "\n",
    "fig.show()  # Waarom heeft Venezuela 0 gdp LMAO"
   ]
  },
  {
   "cell_type": "markdown",
   "id": "84271e8b-3cdf-4cad-b78e-f536ff980cba",
   "metadata": {},
   "source": [
    "> *Figuur X: Vivamus elementum semper nisi. Aenean vulputate eleifend tellus. Aenean leo ligula, porttitor eu, consequat vitae, eleifend ac, enim. Aliquam lorem ante, dapibus in, viverra quis, feugiat a, tellus.*"
   ]
  },
  {
   "cell_type": "markdown",
   "id": "921df77f",
   "metadata": {},
   "source": [
    "## Reflection\n",
    "\n",
    "Gewoon ff uitschrijven wat voor een feedback we hebben gekregen van elkaar en van de TAs enzo\n",
    "\n",
    "- Bij correlatie van extreme weather en ladder score waren er maar 17 landen in de dataset. Niet heel veel landen = minder betrouwbaar dus misschien is die correlatie toch wat anders als we betere data konden vinden (de enige dataset die ik verder vond was nog minder landen). Basically next time wat langer doorzoeken misschien naar een dataset die wel wat betrouwbaarder is"
   ]
  },
  {
   "cell_type": "markdown",
   "id": "8799e8f6",
   "metadata": {},
   "source": [
    "## Work Distribution\n",
    "\n",
    "Tot nu toe hebben we eigenlijk elkaar aangevuld bij ieder onderdeel.\n",
    "Aryan perspective 2   \n",
    "Mieke en lucas perspective 1   \n",
    "Reyna data en processing en helpen met code/structuur van notebook        \n",
    "Mieke github troubleshooting    "
   ]
  },
  {
   "cell_type": "markdown",
   "id": "8a61224c",
   "metadata": {},
   "source": [
    "## References (opmaak mogelijk anders)\n",
    "\n",
    "- Helliwell, J. F., Layard, R., & Sachs, J. D. (2017, March 20). World Happiness Report 2017. The World Happiness Report. https://worldhappiness.report/ed/2017/    \n",
    "- Helliwell, J. F., Layard, R., Sachs, J. D., De Neve, J.-E., Aknin, L. B., & Wang, S. (Eds.). (2024). World Happiness Report 2024. University of Oxford: Wellbeing Research Centre.       \n",
    "- Nidula Elgiriyewithana. (2025). World Weather Repository ( Daily Updating ) [Data set]. Kaggle. https://doi.org/10.34740/KAGGLE/DSV/12171408    \n",
    "- Peng, Y., Tang, J., Fu, Y., Fan, I., Hor, M., & Chan, T. (2016). Analyzing Personal Happiness from Global Survey and Weather Data: A Geospatial Approach. PLoS ONE, 11(4), e0153638. https://doi.org/10.1371/journal.pone.0153638   \n",
    "- Rehdanz, K., & Maddison, D. (2004). Climate and happiness. Ecological Economics, 52(1), 111–125. https://doi.org/10.1016/j.ecolecon.2004.06.015      \n",
    "- Shamim, A. (2025, April 24). Global Environmental Trends 2000-2024. https://www.kaggle.com/datasets/adilshamim8/temperature\n",
    "- Tsutsui, Y., 2013: Weather and Individual Happiness. Wea. Climate Soc., 5, 70–82, https://doi.org/10.1175/WCAS-D-11-00052.1.\n",
    "- World Happiness Report - Sustainable Development Solutions Network. (2025, March 20). https://www.unsdsn.org/our-work/world-happiness-report/  \n",
    "     \n",
    "\n",
    "   \n",
    "     \n",
    "    "
   ]
  },
  {
   "cell_type": "markdown",
   "id": "f377761c-1ed5-440a-8c20-eaf6ab7c67bb",
   "metadata": {},
   "source": [
    "## Appendix\n",
    "\n",
    "Generatieve AI (ChatGPT with GPT-4o) is gebruikt als hulpmiddel bij dit document, zoals te zien is in onderstaande tabel (VUL DEZE IN ALS JE CHATGPT GEBRUIKT HEBT:\n",
    "\n",
    "| Reasons of Usage | In which parts? | Which prompts were used? |\n",
    "| ------------------------ | --------------------------------- | -------------------------------------------- |\n",
    "| Brainstorm research questions and identify keywords for further search | The entire project framing | \"Give keywords about the current debate in climate change with brief explanations\" |\n",
    "| Improve writing clarity and enhance readability | All sections | \"Edit the following text to make it more clear. Do not alter the meaning.\" |\n",
    "| Enhance readability | All sections | \"Revise the paragraph to improve readability.\" |\n",
    "| Ensure grammatical accuracy |  All sections | \"Correct any grammatical errors in the text.\" |\n",
    "| Provide alternative phrasing | Descriptions of the perspectives | \"Suggest alternative phrases for better clarity.\" |\n",
    "| Optimize sentence structure | All sections | \"Restructure the sentence for better flow.\" |\n",
    "| Condense lengthy sentences | All sections | \"Simplify the following sentences without losing important information.\"|\n",
    "\n",
    "> *Figuur x: Gebruik van generatieve AI dat heeft bijgedragen aan dit document.*"
   ]
  }
 ],
 "metadata": {
  "celltoolbar": "Tags",
  "kernelspec": {
   "display_name": "Python [conda env:base] *",
   "language": "python",
   "name": "conda-base-py"
  },
  "language_info": {
   "codemirror_mode": {
    "name": "ipython",
    "version": 3
   },
   "file_extension": ".py",
   "mimetype": "text/x-python",
   "name": "python",
   "nbconvert_exporter": "python",
   "pygments_lexer": "ipython3",
   "version": "3.10.18"
  }
 },
 "nbformat": 4,
 "nbformat_minor": 5
}