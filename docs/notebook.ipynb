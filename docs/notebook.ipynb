{
 "cells": [
  {
   "cell_type": "markdown",
   "id": "3b46ee32",
   "metadata": {},
   "source": [
    "# Warmte en welzijn: De relatie tussen klimaatsfactoren, sociaal-economische factoren en geluk\n",
    "Student names: Reyna Geluk (15708845),\n",
    "Lucas Vaneman (14663937),\n",
    "Aryan Müller (15631591),\n",
    "Mieke Fraters (15778770)   \n",
    "\n",
    "Team number: C3 (#9)\n",
    "Aantal woorden:\n",
    "Aantal visualisaties: 6"
   ]
  },
  {
   "cell_type": "code",
   "execution_count": 1,
   "id": "e180382e",
   "metadata": {
    "editable": true,
    "slideshow": {
     "slide_type": ""
    },
    "tags": [
     "hide-input"
    ]
   },
   "outputs": [
    {
     "data": {
      "text/html": [
       "        <script type=\"text/javascript\">\n",
       "        window.PlotlyConfig = {MathJaxConfig: 'local'};\n",
       "        if (window.MathJax && window.MathJax.Hub && window.MathJax.Hub.Config) {window.MathJax.Hub.Config({SVG: {font: \"STIX-Web\"}});}\n",
       "        if (typeof require !== 'undefined') {\n",
       "        require.undef(\"plotly\");\n",
       "        requirejs.config({\n",
       "            paths: {\n",
       "                'plotly': ['https://cdn.plot.ly/plotly-2.35.2.min']\n",
       "            }\n",
       "        });\n",
       "        require(['plotly'], function(Plotly) {\n",
       "            window._Plotly = Plotly;\n",
       "        });\n",
       "        }\n",
       "        </script>\n",
       "        "
      ]
     },
     "metadata": {},
     "output_type": "display_data"
    }
   ],
   "source": [
    "# Alle imports\n",
    "import pandas as pd\n",
    "import plotly.express as px\n",
    "import plotly.graph_objs as go\n",
    "import seaborn as sns\n",
    "import numpy as np\n",
    "import matplotlib.pyplot as plt\n",
    "from sklearn.linear_model import LinearRegression\n",
    "from plotly.offline import init_notebook_mode\n",
    "init_notebook_mode(connected=True)"
   ]
  },
  {
   "cell_type": "markdown",
   "id": "f4810572-9b8b-4cdb-90e6-cc5243b93887",
   "metadata": {},
   "source": [
    "![happyboy](images/happyboy.jpg)\n",
    "> *Figuur 1: Bron: Happy Nature Boy Watercolor Illustration, 2020*"
   ]
  },
  {
   "cell_type": "markdown",
   "id": "7d5fce97-8e22-41ee-a19c-6c0f0fb2f08f",
   "metadata": {},
   "source": [
    "# Introductie"
   ]
  },
  {
   "cell_type": "markdown",
   "id": "7cf81853-c237-4df2-8ed4-9deae8423fb0",
   "metadata": {},
   "source": [
    "## Onderwerp\n",
    "\n",
    "Geluk wordt beïnvloed door vele factoren. Een van deze factoren is het klimaat. Klimaatfactoren kunnen namelijk de leefbaarheid van een land beïnvloeden (Peng et al., 2016; Rehdanz & Maddison, 2004; Tsutsui, 2013). Zo kan extreem weer, zoals langdurige kou, hittegolven of hoge neerslag, mogelijk leiden tot meer stress, gezondheidsproblemen of economische schade (Tsutsui, 2013; Rehdanz & Maddison, 2004). Naast klimatologische factoren hebben sociale vangnetten en instituties invloed op geluk. Landen met goede sociale structuren bieden vaak meer inkomenszekerheid, toegankelijke gezondheidszorg, goed onderwijs en sterke sociale cohesie. Deze factoren helpen burgers om beter om te gaan met tegenslagen, werkloosheid, ziekte of ouderdom, waardoor het algehele welzijn hoger blijft, zelfs bij ongunstige klimaatomstandigheden. In het World Happiness Report wordt er ook rekening gehouden met deze variabelen vanwege hun invloed op geluk (Helliwell et al., 2017). Hierdoor kunnen landen met een streng klimaat toch hoog scoren op wereldwijde gelukslijsten.\n",
    "\n",
    "In deze studie proberen we inzicht te krijgen in de relatie tussen klimaatfactoren, sociaal-economische factoren en geluk, gebaseerd op eerdere wetenschappelijke onderzoeken die suggereren dat zowel omgevingsfactoren als maatschappelijke structuren een rol spelen bij het ervaren van geluk.\n",
    "\n",
    "### Weersomstandigheden en klimaatfactoren die we onderzoeken:\n",
    "- Gemiddelde temperatuur\n",
    "- Zonuren \n",
    "- Luchtkwaliteit\n",
    "- Hoeveelheid natural disasters\n",
    "- Bewolktheid\n",
    "\n",
    "### Sociaal-economische factoren die we onderzoeken:\n",
    "- GDP per capita\n",
    "- Sociale steun\n",
    "- Gezondheidszorg\n",
    "\n",
    "## Perspectieven en argumenten\n",
    "\n",
    "### Perspectief 1: Klimaat heeft een sterke invloed op geluk\n",
    "- **Argument 1.1**: In landen met een stabiel, mild of zonnig klimaat zijn mensen gemiddeld blijer, omdat dergelijke omstandigheden bijdragen aan een prettigere leefomgeving.\n",
    "- **Argument 1.2**: Extreme weersomstandigheden zorgen voor stress en gezondheidsproblemen, wat het geluksniveau verlaagt.\n",
    "\n",
    "### Perspectief 2: Sociaal-economische factoren zijn bepalender voor geluk dan klimaat\n",
    "- **Argument 2.1**: Landen als Zweden, Noorwegen en Finland hebben lange, koude winters, maar behoren tot de gelukkigste landen dankzij sterke sociale vangnetten, gezondheidszorg en welvaart.\n",
    "- **Argument 2.2**: Economische stabiliteit, werkgelegenheid, gezondheidszorg en sociale verbondenheid dragen meer bij aan geluk dan klimaatfactoren.\n",
    "\n",
    "Met behulp van de beschikbare datasets proberen we deze perspectieven te toetsen aan de hand van concrete data en visualisaties."
   ]
  },
  {
   "cell_type": "markdown",
   "id": "d9d4c934-c639-495f-a2bc-ed078e5659c3",
   "metadata": {},
   "source": [
    "# Dataset and Preprocessing"
   ]
  },
  {
   "cell_type": "code",
   "execution_count": 2,
   "id": "63c950c8",
   "metadata": {
    "editable": true,
    "slideshow": {
     "slide_type": ""
    },
    "tags": [
     "hide-input"
    ]
   },
   "outputs": [
    {
     "data": {
      "text/html": [
       "        <script type=\"text/javascript\">\n",
       "        window.PlotlyConfig = {MathJaxConfig: 'local'};\n",
       "        if (window.MathJax && window.MathJax.Hub && window.MathJax.Hub.Config) {window.MathJax.Hub.Config({SVG: {font: \"STIX-Web\"}});}\n",
       "        if (typeof require !== 'undefined') {\n",
       "        require.undef(\"plotly\");\n",
       "        requirejs.config({\n",
       "            paths: {\n",
       "                'plotly': ['https://cdn.plot.ly/plotly-2.35.2.min']\n",
       "            }\n",
       "        });\n",
       "        require(['plotly'], function(Plotly) {\n",
       "            window._Plotly = Plotly;\n",
       "        });\n",
       "        }\n",
       "        </script>\n",
       "        "
      ]
     },
     "metadata": {},
     "output_type": "display_data"
    }
   ],
   "source": [
    "# Alle imports\n",
    "import pandas as pd\n",
    "import plotly.express as px\n",
    "import plotly.graph_objs as go\n",
    "import seaborn as sns\n",
    "import numpy as np\n",
    "from plotly.subplots import make_subplots\n",
    "from plotly.offline import init_notebook_mode\n",
    "init_notebook_mode(connected=True)\n",
    "\n",
    "# Datasets importen\n",
    "df1 = pd.read_csv('World-happiness-report-2024.csv')\n",
    "df2 = pd.read_csv('GlobalWeatherRepository.csv')     # Main weather dataset, https://www.kaggle.com/datasets/nelgiriyewithana/global-weather-repository\n",
    "df3 = pd.read_csv('update_temperature.csv')          # Deze bevat ook de variabele voor natuurrampen, https://www.kaggle.com/datasets/adilshamim8/temperature\n",
    "\n",
    "df2['last_updated'] = pd.to_datetime(df2['last_updated'])\n",
    "df22024 = df2[df2['last_updated'].dt.year == 2024]  # Zo is de tabel gefilterd op values uit 2024\n",
    "\n",
    "def mode(series):\n",
    "    return series.mode().iloc[0] if not series.mode().empty else np.nan   # Vanwege een error met de mode krijgen van series\n",
    "    \n",
    "df2w = df22024.groupby('country').agg({\n",
    "    'location_name': mode,\n",
    "    'temperature_celsius' : 'mean',\n",
    "    'feels_like_celsius' : 'mean',\n",
    "    'cloud': 'mean',\n",
    "    'wind_kph' : 'mean',\n",
    "    'sunrise': mode,                      # dit gaan we ook nog veranderen naar een column voor de hoeveelheid uren daglicht. Kijk dus niet naar \n",
    "    'sunset' : mode,                      # deze column maar naar de Sunlight hours column. Kan zijn dat r misschien problemen komen met negatieve waarden btw.\n",
    "    'air_quality_Carbon_Monoxide' : 'mean',\n",
    "    'air_quality_Ozone' : 'mean',\n",
    "    'air_quality_Nitrogen_dioxide' : 'mean',\n",
    "    'air_quality_Sulphur_dioxide' : 'mean',\n",
    "    'air_quality_PM2.5' : 'mean',\n",
    "    'air_quality_PM10' : 'mean',\n",
    "    'air_quality_gb-defra-index' : 'mean',       \n",
    "    'air_quality_us-epa-index' : 'mean'\n",
    "}).reset_index()\n",
    "\n",
    "df2w['sunrise'] = pd.to_datetime(df2w['sunrise'], format='%I:%M %p')\n",
    "df2w['sunset'] = pd.to_datetime(df2w['sunset'], format='%I:%M %p')\n",
    "df2w['Sunlight hours'] = ((df2w['sunset'] - df2w['sunrise']).dt.total_seconds() / 3600).round(2)\n",
    "\n",
    "df32024 = df3[df3['Year'] == 2024].copy()         # .copy() want anders verschijnt een warning, \n",
    "df32024.rename(columns={'Country' : 'country'}, inplace=True)\n",
    "df32024grouped = df32024.groupby('country', as_index=False).mean(numeric_only=True) # Er waren issues met duplicate instances per land\n",
    "df23 = df2w.merge(df32024[['country', 'Extreme_Weather_Events']], on='country', how='left')  # merge van df2 en df3\n",
    "\n",
    "df1filter = df1[['Country name', 'Ladder score', 'Log GDP per capita',                           # df1 filteren op wat we willen gebruiken\n",
    "                 'Social support', 'Healthy life expectancy', 'Freedom to make life choices', \n",
    "                 'Generosity', 'Perceptions of corruption', 'Dystopia + residual']].copy()\n",
    "\n",
    "df1filter.rename(columns={'Country name' : 'country'}, inplace= True)\n",
    "df123 = df23.merge(df1filter, on='country', how='left')   # De tabel! We kunnen nog ff kiezen welke waarden wel/niet nodig zijn."
   ]
  },
  {
   "cell_type": "markdown",
   "id": "850c1744-f4cc-4cc1-b0a7-9207c75837d8",
   "metadata": {},
   "source": [
    "Alle datasets zijn gevonden op Kaggle. We hebben expliciet gezocht naar datasets die gegevens uit 2024 bevatten over verschillende landen.\n",
    "\n",
    "### Dataset 1: World Happiness Report- 2024 (df1)\n",
    "\n",
    "URL: https://www.kaggle.com/datasets/jainaru/world-happiness-report-2024-yearly-updated ('World-happiness-report-2024.csv')\n",
    "\n",
    "**Uitleg over de dataset:**     \n",
    "Deze dataset bevat de gegevens van het World Happiness Report, een rapport dat jaarlijks wordt geschreven over de gelukkigheid van mensen in 143 landen, op basis van een globale survey (Helliwell et al., 2024; World Happiness Report - Sustainable Development Solutions Network, 2025).\n",
    "\n",
    "**Variabelen**\n",
    "\n",
    "De World Happiness Report dataset bevat 12 variabelen:\n",
    "\n",
    "- Nominal (discrete): `Country name`, `Regional indicator`\n",
    "- Ratio (continuous):`Ladder score`, `upperwhisker`, `lowerwhisker`, `Log GDP per capita`, `Social support`, `Healthy life expectancy`, `Freedom to make life choices`, `Generosity`, `Perceptions of corruption`, `Dystopia + residual`\n",
    "\n",
    "### Dataset 2: World Weather Repository (Daily Updating) (df2)\n",
    "\n",
    "URL: https://www.kaggle.com/datasets/nelgiriyewithana/global-weather-repository ('GlobalWeatherRepository.csv')\n",
    "\n",
    "**Uitleg over de dataset:**    \n",
    "Deze dataset bevat gegevens over het weer en klimaat van 210 verschillende landen. Voor dit onderzoek wordt er alleen gekeken naar data uit 2024 (Elgiriyewithana, 2025).\n",
    "\n",
    "**Variabelen**\n",
    "\n",
    "De World Weather Repository dataset bevat 41 variabelen:\n",
    "\n",
    "- Nominal (discrete): `country`, `location_name`, `timezone`, `condition_text`, `wind_direction`, `moon_phase`\n",
    "- Ordinal (discrete): `uv_index`, `air_quality_us-epa-index`, `air_quality_gb-defra-index`\n",
    "- Interval (discrete): `last_updated_epoch`, `last_updated`,  `sunrise`, `sunset`, `moonrise`, `moonset`\n",
    "- Interval (continuous): `temperature_celsius`, `temperature_fahrenheit`, `feels_like_celsius`, `feels_like_fahrenheit`\n",
    "- Ratio (continuous): `latitude`, `longitude`, `wind_mph`, `wind_kph`, `wind_degree`,  `pressure_mb`, `pressure_in`, `precip_mm`, `precip_in`, `humidity`, `cloud`, `visibility_km`, `visibility_miles`, `gust_mph`, `gust_kph`, `air_quality_Carbon_Monoxide`, `air_quality_Ozone`, `air_quality_Nitrogen_dioxide`, `air_quality_Sulphur_dioxide`, `air_quality_PM2.5`, `air_quality_PM10`, `moon_illumination`\n",
    "\n",
    "### Dataset 3: Global Environmental Trends 2000-2024 (df3)\n",
    "\n",
    "URL: https://www.kaggle.com/datasets/adilshamim8/temperature ('update_temperature.csv')\n",
    "\n",
    "**Uitleg over de dataset:**    \n",
    "Deze dataset bevat ook gegevens over het weer en klimaat. Voor dit onderzoek wordt alleen gekeken naar de variabele over extreme weersomstandigheden uit 2024 (Shamim, 2025).\n",
    "\n",
    "**Variabelen**\n",
    "\n",
    "De Global Environmental Trends dataset bevat 10 variabelen:\n",
    "\n",
    "- Nominal (discrete): `Country`\n",
    "- Interval (discrete): `Year`\n",
    "- Interval (continuous): `Avg_Temperature_degC`\n",
    "- Ratio (discrete):  `Population`, `Extreme_Weather_Events`\n",
    "- Ratio (continuous):  `CO2_Emission_tons_per_capita`, `Sea_level_Rise_mm`, `Rainfall_mm`, `Renewable_Energy_pct`, `Forest_Area_pct`\n",
    "\n",
    "### Terugkoppeling naar het onderzoek\n",
    "\n",
    "Om meer inzicht te krijgen in de mogelijke relatie tussen het klimaat, socio-economische factoren en geluk, moeten de factoren uit de introductie worden geanalyseerd. Per factor staat hieronder aangegeven welke variabele(n) hiervoor nodig zijn:\n",
    "\n",
    "### Weersomstandigheden en klimaatfactoren die we onderzoeken:\n",
    "- Gemiddelde temperatuur: `temperature_celsius` of `feels_like_celsius` uit dataset 2.\n",
    "- Zonuren: `sunrise` en `sunset` uit dataset 2. \n",
    "- Air quality index: `air_quality_Carbon_Monoxide`, `air_quality_Ozone`, `air_quality_Nitrogen_dioxide`, `air_quality_Sulphur_dioxide`, `air_quality_PM2.5`, `air_quality_PM10`, `air_quality_us-epa-index` en `air_quality_gb-defra-index` uit dataset 2.\n",
    "- Hoeveelheid natural disasters: `Extreme_Weather_Events` uit dataset 3.\n",
    "- Bewolktheid: `cloud` uit dataset 2.\n",
    "\n",
    "### Sociaal-economische indicatoren die we onderzoeken:\n",
    "- GDP per capita: `Log GDP per capita` uit dataset 1.\n",
    "- Sociale steun: `Social support` uit dataset 1.\n",
    "- Gezondheidszorg: `Healthy life expectancy` uit dataset 1.\n",
    "\n",
    "### Preprocessing van de data\n",
    "\n",
    "De raw data uit de drie datasets was niet direct bruikbaar. Preprocessing was nodig om de data te transformeren naar een bruikbare DataFrame.\n",
    "\n",
    "Df2 werd allereerst bewerkt. Deze is gefilterd op het jaar 2024 en geaggregeerd per land. Voor de meeste columns is het gemiddelde genomen. De variabelen `sunrise` en `sunset` zijn omgezet naar datetime, waarna het verschil berekend kon worden. Deze waarde is opgeslagen in een nieuwe variabele, `Sunlight hours`.\n"
   ]
  },
  {
   "cell_type": "code",
   "execution_count": 3,
   "id": "a6bd3423-381d-4ff2-b237-f3143fc6c985",
   "metadata": {
    "editable": true,
    "slideshow": {
     "slide_type": ""
    },
    "tags": [
     "hide-input"
    ]
   },
   "outputs": [
    {
     "data": {
      "text/html": [
       "<div>\n",
       "<style scoped>\n",
       "    .dataframe tbody tr th:only-of-type {\n",
       "        vertical-align: middle;\n",
       "    }\n",
       "\n",
       "    .dataframe tbody tr th {\n",
       "        vertical-align: top;\n",
       "    }\n",
       "\n",
       "    .dataframe thead th {\n",
       "        text-align: right;\n",
       "    }\n",
       "</style>\n",
       "<table border=\"1\" class=\"dataframe\">\n",
       "  <thead>\n",
       "    <tr style=\"text-align: right;\">\n",
       "      <th></th>\n",
       "      <th>country</th>\n",
       "      <th>location_name</th>\n",
       "      <th>temperature_celsius</th>\n",
       "      <th>feels_like_celsius</th>\n",
       "      <th>cloud</th>\n",
       "      <th>wind_kph</th>\n",
       "      <th>sunrise</th>\n",
       "      <th>sunset</th>\n",
       "      <th>air_quality_Carbon_Monoxide</th>\n",
       "      <th>air_quality_Ozone</th>\n",
       "      <th>air_quality_Nitrogen_dioxide</th>\n",
       "      <th>air_quality_Sulphur_dioxide</th>\n",
       "      <th>air_quality_PM2.5</th>\n",
       "      <th>air_quality_PM10</th>\n",
       "      <th>air_quality_gb-defra-index</th>\n",
       "      <th>air_quality_us-epa-index</th>\n",
       "      <th>Sunlight hours</th>\n",
       "    </tr>\n",
       "  </thead>\n",
       "  <tbody>\n",
       "    <tr>\n",
       "      <th>0</th>\n",
       "      <td>Afghanistan</td>\n",
       "      <td>Kabul</td>\n",
       "      <td>22.696943</td>\n",
       "      <td>21.810044</td>\n",
       "      <td>16.419214</td>\n",
       "      <td>12.113974</td>\n",
       "      <td>1900-01-01 04:40:00</td>\n",
       "      <td>1900-01-01 19:10:00</td>\n",
       "      <td>774.743013</td>\n",
       "      <td>107.629258</td>\n",
       "      <td>7.655328</td>\n",
       "      <td>7.974389</td>\n",
       "      <td>14.860000</td>\n",
       "      <td>28.745873</td>\n",
       "      <td>1.772926</td>\n",
       "      <td>1.388646</td>\n",
       "      <td>14.50</td>\n",
       "    </tr>\n",
       "    <tr>\n",
       "      <th>1</th>\n",
       "      <td>Albania</td>\n",
       "      <td>Tirana</td>\n",
       "      <td>25.022271</td>\n",
       "      <td>25.559389</td>\n",
       "      <td>26.205240</td>\n",
       "      <td>11.429694</td>\n",
       "      <td>1900-01-01 05:07:00</td>\n",
       "      <td>1900-01-01 16:11:00</td>\n",
       "      <td>257.638646</td>\n",
       "      <td>83.346288</td>\n",
       "      <td>10.230000</td>\n",
       "      <td>4.604236</td>\n",
       "      <td>13.593777</td>\n",
       "      <td>18.724323</td>\n",
       "      <td>1.672489</td>\n",
       "      <td>1.349345</td>\n",
       "      <td>11.07</td>\n",
       "    </tr>\n",
       "    <tr>\n",
       "      <th>2</th>\n",
       "      <td>Algeria</td>\n",
       "      <td>Algiers</td>\n",
       "      <td>25.154386</td>\n",
       "      <td>26.760526</td>\n",
       "      <td>28.048246</td>\n",
       "      <td>15.312719</td>\n",
       "      <td>1900-01-01 05:29:00</td>\n",
       "      <td>1900-01-01 17:32:00</td>\n",
       "      <td>307.305263</td>\n",
       "      <td>88.343860</td>\n",
       "      <td>30.107917</td>\n",
       "      <td>12.673136</td>\n",
       "      <td>18.584364</td>\n",
       "      <td>35.214364</td>\n",
       "      <td>2.122807</td>\n",
       "      <td>1.574561</td>\n",
       "      <td>12.05</td>\n",
       "    </tr>\n",
       "    <tr>\n",
       "      <th>3</th>\n",
       "      <td>Andorra</td>\n",
       "      <td>Andorra La Vella</td>\n",
       "      <td>14.105677</td>\n",
       "      <td>13.451528</td>\n",
       "      <td>44.209607</td>\n",
       "      <td>9.516594</td>\n",
       "      <td>1900-01-01 06:16:00</td>\n",
       "      <td>1900-01-01 17:21:00</td>\n",
       "      <td>177.131659</td>\n",
       "      <td>64.942358</td>\n",
       "      <td>0.616790</td>\n",
       "      <td>0.162074</td>\n",
       "      <td>3.729760</td>\n",
       "      <td>7.693100</td>\n",
       "      <td>1.048035</td>\n",
       "      <td>1.030568</td>\n",
       "      <td>11.08</td>\n",
       "    </tr>\n",
       "    <tr>\n",
       "      <th>4</th>\n",
       "      <td>Angola</td>\n",
       "      <td>Luanda</td>\n",
       "      <td>26.335808</td>\n",
       "      <td>29.028384</td>\n",
       "      <td>49.633188</td>\n",
       "      <td>13.153712</td>\n",
       "      <td>1900-01-01 06:23:00</td>\n",
       "      <td>1900-01-01 18:02:00</td>\n",
       "      <td>690.936900</td>\n",
       "      <td>117.070306</td>\n",
       "      <td>9.025524</td>\n",
       "      <td>8.001550</td>\n",
       "      <td>47.178341</td>\n",
       "      <td>82.926769</td>\n",
       "      <td>4.301310</td>\n",
       "      <td>2.484716</td>\n",
       "      <td>11.65</td>\n",
       "    </tr>\n",
       "  </tbody>\n",
       "</table>\n",
       "</div>"
      ],
      "text/plain": [
       "       country     location_name  temperature_celsius  feels_like_celsius  \\\n",
       "0  Afghanistan             Kabul            22.696943           21.810044   \n",
       "1      Albania            Tirana            25.022271           25.559389   \n",
       "2      Algeria           Algiers            25.154386           26.760526   \n",
       "3      Andorra  Andorra La Vella            14.105677           13.451528   \n",
       "4       Angola            Luanda            26.335808           29.028384   \n",
       "\n",
       "       cloud   wind_kph             sunrise              sunset  \\\n",
       "0  16.419214  12.113974 1900-01-01 04:40:00 1900-01-01 19:10:00   \n",
       "1  26.205240  11.429694 1900-01-01 05:07:00 1900-01-01 16:11:00   \n",
       "2  28.048246  15.312719 1900-01-01 05:29:00 1900-01-01 17:32:00   \n",
       "3  44.209607   9.516594 1900-01-01 06:16:00 1900-01-01 17:21:00   \n",
       "4  49.633188  13.153712 1900-01-01 06:23:00 1900-01-01 18:02:00   \n",
       "\n",
       "   air_quality_Carbon_Monoxide  air_quality_Ozone  \\\n",
       "0                   774.743013         107.629258   \n",
       "1                   257.638646          83.346288   \n",
       "2                   307.305263          88.343860   \n",
       "3                   177.131659          64.942358   \n",
       "4                   690.936900         117.070306   \n",
       "\n",
       "   air_quality_Nitrogen_dioxide  air_quality_Sulphur_dioxide  \\\n",
       "0                      7.655328                     7.974389   \n",
       "1                     10.230000                     4.604236   \n",
       "2                     30.107917                    12.673136   \n",
       "3                      0.616790                     0.162074   \n",
       "4                      9.025524                     8.001550   \n",
       "\n",
       "   air_quality_PM2.5  air_quality_PM10  air_quality_gb-defra-index  \\\n",
       "0          14.860000         28.745873                    1.772926   \n",
       "1          13.593777         18.724323                    1.672489   \n",
       "2          18.584364         35.214364                    2.122807   \n",
       "3           3.729760          7.693100                    1.048035   \n",
       "4          47.178341         82.926769                    4.301310   \n",
       "\n",
       "   air_quality_us-epa-index  Sunlight hours  \n",
       "0                  1.388646           14.50  \n",
       "1                  1.349345           11.07  \n",
       "2                  1.574561           12.05  \n",
       "3                  1.030568           11.08  \n",
       "4                  2.484716           11.65  "
      ]
     },
     "execution_count": 3,
     "metadata": {},
     "output_type": "execute_result"
    }
   ],
   "source": [
    "df2w.head(n=5)"
   ]
  },
  {
   "cell_type": "markdown",
   "id": "981260ef-eb39-4ec2-b311-4c476a087f50",
   "metadata": {},
   "source": [
    "> *Figuur 2: De eerste 5 rows van df2w: df2 gefilterd op jaar, land en belangrijke variabelen.*"
   ]
  },
  {
   "cell_type": "markdown",
   "id": "7abaeeba-b3f8-4b39-b244-27bb2d318f99",
   "metadata": {},
   "source": [
    "Vervolgens is df3 gefilterd op 2024 en is het gemiddelde per land van de column `Extreme_Weather_Events` samengevoegd met df2. Hiervoor moest de variabele `Country` hernoemd worden naar `country`.  "
   ]
  },
  {
   "cell_type": "code",
   "execution_count": 4,
   "id": "3c75f73b-1174-4b09-863f-058c0e83b377",
   "metadata": {
    "editable": true,
    "slideshow": {
     "slide_type": ""
    },
    "tags": [
     "hide-input"
    ]
   },
   "outputs": [
    {
     "data": {
      "text/html": [
       "<div>\n",
       "<style scoped>\n",
       "    .dataframe tbody tr th:only-of-type {\n",
       "        vertical-align: middle;\n",
       "    }\n",
       "\n",
       "    .dataframe tbody tr th {\n",
       "        vertical-align: top;\n",
       "    }\n",
       "\n",
       "    .dataframe thead th {\n",
       "        text-align: right;\n",
       "    }\n",
       "</style>\n",
       "<table border=\"1\" class=\"dataframe\">\n",
       "  <thead>\n",
       "    <tr style=\"text-align: right;\">\n",
       "      <th></th>\n",
       "      <th>country</th>\n",
       "      <th>Extreme_Weather_Events</th>\n",
       "    </tr>\n",
       "  </thead>\n",
       "  <tbody>\n",
       "    <tr>\n",
       "      <th>40</th>\n",
       "      <td>United States</td>\n",
       "      <td>64</td>\n",
       "    </tr>\n",
       "    <tr>\n",
       "      <th>41</th>\n",
       "      <td>China</td>\n",
       "      <td>48</td>\n",
       "    </tr>\n",
       "    <tr>\n",
       "      <th>42</th>\n",
       "      <td>Germany</td>\n",
       "      <td>25</td>\n",
       "    </tr>\n",
       "    <tr>\n",
       "      <th>43</th>\n",
       "      <td>Brazil</td>\n",
       "      <td>37</td>\n",
       "    </tr>\n",
       "    <tr>\n",
       "      <th>44</th>\n",
       "      <td>Australia</td>\n",
       "      <td>29</td>\n",
       "    </tr>\n",
       "  </tbody>\n",
       "</table>\n",
       "</div>"
      ],
      "text/plain": [
       "          country  Extreme_Weather_Events\n",
       "40  United States                      64\n",
       "41          China                      48\n",
       "42        Germany                      25\n",
       "43         Brazil                      37\n",
       "44      Australia                      29"
      ]
     },
     "execution_count": 4,
     "metadata": {},
     "output_type": "execute_result"
    }
   ],
   "source": [
    "df32024[['country','Extreme_Weather_Events']].head(n=5)"
   ]
  },
  {
   "cell_type": "markdown",
   "id": "2cb3a851-ae05-40a4-8aab-e6dd49db1ce3",
   "metadata": {},
   "source": [
    "> *Figuur 3: De eerste 5 rows van df32024, df3 gefilterd op 2024, en de variabele Extreme_Weather_Events.*"
   ]
  },
  {
   "cell_type": "code",
   "execution_count": 5,
   "id": "09e851bf-1e3d-444e-aea5-66aac8c1827d",
   "metadata": {
    "editable": true,
    "slideshow": {
     "slide_type": ""
    },
    "tags": [
     "hide-input"
    ]
   },
   "outputs": [
    {
     "data": {
      "text/html": [
       "<div>\n",
       "<style scoped>\n",
       "    .dataframe tbody tr th:only-of-type {\n",
       "        vertical-align: middle;\n",
       "    }\n",
       "\n",
       "    .dataframe tbody tr th {\n",
       "        vertical-align: top;\n",
       "    }\n",
       "\n",
       "    .dataframe thead th {\n",
       "        text-align: right;\n",
       "    }\n",
       "</style>\n",
       "<table border=\"1\" class=\"dataframe\">\n",
       "  <thead>\n",
       "    <tr style=\"text-align: right;\">\n",
       "      <th></th>\n",
       "      <th>country</th>\n",
       "      <th>location_name</th>\n",
       "      <th>temperature_celsius</th>\n",
       "      <th>feels_like_celsius</th>\n",
       "      <th>cloud</th>\n",
       "      <th>wind_kph</th>\n",
       "      <th>sunrise</th>\n",
       "      <th>sunset</th>\n",
       "      <th>air_quality_Carbon_Monoxide</th>\n",
       "      <th>air_quality_Ozone</th>\n",
       "      <th>air_quality_Nitrogen_dioxide</th>\n",
       "      <th>air_quality_Sulphur_dioxide</th>\n",
       "      <th>air_quality_PM2.5</th>\n",
       "      <th>air_quality_PM10</th>\n",
       "      <th>air_quality_gb-defra-index</th>\n",
       "      <th>air_quality_us-epa-index</th>\n",
       "      <th>Sunlight hours</th>\n",
       "      <th>Extreme_Weather_Events</th>\n",
       "    </tr>\n",
       "  </thead>\n",
       "  <tbody>\n",
       "    <tr>\n",
       "      <th>0</th>\n",
       "      <td>Afghanistan</td>\n",
       "      <td>Kabul</td>\n",
       "      <td>22.696943</td>\n",
       "      <td>21.810044</td>\n",
       "      <td>16.419214</td>\n",
       "      <td>12.113974</td>\n",
       "      <td>1900-01-01 04:40:00</td>\n",
       "      <td>1900-01-01 19:10:00</td>\n",
       "      <td>774.743013</td>\n",
       "      <td>107.629258</td>\n",
       "      <td>7.655328</td>\n",
       "      <td>7.974389</td>\n",
       "      <td>14.860000</td>\n",
       "      <td>28.745873</td>\n",
       "      <td>1.772926</td>\n",
       "      <td>1.388646</td>\n",
       "      <td>14.50</td>\n",
       "      <td>NaN</td>\n",
       "    </tr>\n",
       "    <tr>\n",
       "      <th>1</th>\n",
       "      <td>Albania</td>\n",
       "      <td>Tirana</td>\n",
       "      <td>25.022271</td>\n",
       "      <td>25.559389</td>\n",
       "      <td>26.205240</td>\n",
       "      <td>11.429694</td>\n",
       "      <td>1900-01-01 05:07:00</td>\n",
       "      <td>1900-01-01 16:11:00</td>\n",
       "      <td>257.638646</td>\n",
       "      <td>83.346288</td>\n",
       "      <td>10.230000</td>\n",
       "      <td>4.604236</td>\n",
       "      <td>13.593777</td>\n",
       "      <td>18.724323</td>\n",
       "      <td>1.672489</td>\n",
       "      <td>1.349345</td>\n",
       "      <td>11.07</td>\n",
       "      <td>NaN</td>\n",
       "    </tr>\n",
       "    <tr>\n",
       "      <th>2</th>\n",
       "      <td>Algeria</td>\n",
       "      <td>Algiers</td>\n",
       "      <td>25.154386</td>\n",
       "      <td>26.760526</td>\n",
       "      <td>28.048246</td>\n",
       "      <td>15.312719</td>\n",
       "      <td>1900-01-01 05:29:00</td>\n",
       "      <td>1900-01-01 17:32:00</td>\n",
       "      <td>307.305263</td>\n",
       "      <td>88.343860</td>\n",
       "      <td>30.107917</td>\n",
       "      <td>12.673136</td>\n",
       "      <td>18.584364</td>\n",
       "      <td>35.214364</td>\n",
       "      <td>2.122807</td>\n",
       "      <td>1.574561</td>\n",
       "      <td>12.05</td>\n",
       "      <td>NaN</td>\n",
       "    </tr>\n",
       "    <tr>\n",
       "      <th>3</th>\n",
       "      <td>Andorra</td>\n",
       "      <td>Andorra La Vella</td>\n",
       "      <td>14.105677</td>\n",
       "      <td>13.451528</td>\n",
       "      <td>44.209607</td>\n",
       "      <td>9.516594</td>\n",
       "      <td>1900-01-01 06:16:00</td>\n",
       "      <td>1900-01-01 17:21:00</td>\n",
       "      <td>177.131659</td>\n",
       "      <td>64.942358</td>\n",
       "      <td>0.616790</td>\n",
       "      <td>0.162074</td>\n",
       "      <td>3.729760</td>\n",
       "      <td>7.693100</td>\n",
       "      <td>1.048035</td>\n",
       "      <td>1.030568</td>\n",
       "      <td>11.08</td>\n",
       "      <td>NaN</td>\n",
       "    </tr>\n",
       "    <tr>\n",
       "      <th>4</th>\n",
       "      <td>Angola</td>\n",
       "      <td>Luanda</td>\n",
       "      <td>26.335808</td>\n",
       "      <td>29.028384</td>\n",
       "      <td>49.633188</td>\n",
       "      <td>13.153712</td>\n",
       "      <td>1900-01-01 06:23:00</td>\n",
       "      <td>1900-01-01 18:02:00</td>\n",
       "      <td>690.936900</td>\n",
       "      <td>117.070306</td>\n",
       "      <td>9.025524</td>\n",
       "      <td>8.001550</td>\n",
       "      <td>47.178341</td>\n",
       "      <td>82.926769</td>\n",
       "      <td>4.301310</td>\n",
       "      <td>2.484716</td>\n",
       "      <td>11.65</td>\n",
       "      <td>NaN</td>\n",
       "    </tr>\n",
       "  </tbody>\n",
       "</table>\n",
       "</div>"
      ],
      "text/plain": [
       "       country     location_name  temperature_celsius  feels_like_celsius  \\\n",
       "0  Afghanistan             Kabul            22.696943           21.810044   \n",
       "1      Albania            Tirana            25.022271           25.559389   \n",
       "2      Algeria           Algiers            25.154386           26.760526   \n",
       "3      Andorra  Andorra La Vella            14.105677           13.451528   \n",
       "4       Angola            Luanda            26.335808           29.028384   \n",
       "\n",
       "       cloud   wind_kph             sunrise              sunset  \\\n",
       "0  16.419214  12.113974 1900-01-01 04:40:00 1900-01-01 19:10:00   \n",
       "1  26.205240  11.429694 1900-01-01 05:07:00 1900-01-01 16:11:00   \n",
       "2  28.048246  15.312719 1900-01-01 05:29:00 1900-01-01 17:32:00   \n",
       "3  44.209607   9.516594 1900-01-01 06:16:00 1900-01-01 17:21:00   \n",
       "4  49.633188  13.153712 1900-01-01 06:23:00 1900-01-01 18:02:00   \n",
       "\n",
       "   air_quality_Carbon_Monoxide  air_quality_Ozone  \\\n",
       "0                   774.743013         107.629258   \n",
       "1                   257.638646          83.346288   \n",
       "2                   307.305263          88.343860   \n",
       "3                   177.131659          64.942358   \n",
       "4                   690.936900         117.070306   \n",
       "\n",
       "   air_quality_Nitrogen_dioxide  air_quality_Sulphur_dioxide  \\\n",
       "0                      7.655328                     7.974389   \n",
       "1                     10.230000                     4.604236   \n",
       "2                     30.107917                    12.673136   \n",
       "3                      0.616790                     0.162074   \n",
       "4                      9.025524                     8.001550   \n",
       "\n",
       "   air_quality_PM2.5  air_quality_PM10  air_quality_gb-defra-index  \\\n",
       "0          14.860000         28.745873                    1.772926   \n",
       "1          13.593777         18.724323                    1.672489   \n",
       "2          18.584364         35.214364                    2.122807   \n",
       "3           3.729760          7.693100                    1.048035   \n",
       "4          47.178341         82.926769                    4.301310   \n",
       "\n",
       "   air_quality_us-epa-index  Sunlight hours  Extreme_Weather_Events  \n",
       "0                  1.388646           14.50                     NaN  \n",
       "1                  1.349345           11.07                     NaN  \n",
       "2                  1.574561           12.05                     NaN  \n",
       "3                  1.030568           11.08                     NaN  \n",
       "4                  2.484716           11.65                     NaN  "
      ]
     },
     "execution_count": 5,
     "metadata": {},
     "output_type": "execute_result"
    }
   ],
   "source": [
    "df23.head(n=5)"
   ]
  },
  {
   "cell_type": "markdown",
   "id": "aa22f4c2-ab32-4d0b-8cbf-050ab1358b68",
   "metadata": {},
   "source": [
    "> *Figuur 4: De eerste 5 rows van df23, een combinatie van df2 en df3 waarbij de waarden van df3 zijn toegevoegd aan df2.*"
   ]
  },
  {
   "cell_type": "markdown",
   "id": "c0e5847e-7900-45bb-bd53-d00414a9f21c",
   "metadata": {},
   "source": [
    "Tenslotte is df1 gefilterd. `Country name` is hernoemd tot `country`. Vervolgens is df1 gecombineerd met df2 en df3, wat resulteerde in de uiteindelijke dataframe df123."
   ]
  },
  {
   "cell_type": "code",
   "execution_count": 6,
   "id": "53981567-c4b1-4c82-9466-85e51f5716f5",
   "metadata": {
    "editable": true,
    "slideshow": {
     "slide_type": ""
    },
    "tags": [
     "hide-input"
    ]
   },
   "outputs": [
    {
     "data": {
      "text/html": [
       "<div>\n",
       "<style scoped>\n",
       "    .dataframe tbody tr th:only-of-type {\n",
       "        vertical-align: middle;\n",
       "    }\n",
       "\n",
       "    .dataframe tbody tr th {\n",
       "        vertical-align: top;\n",
       "    }\n",
       "\n",
       "    .dataframe thead th {\n",
       "        text-align: right;\n",
       "    }\n",
       "</style>\n",
       "<table border=\"1\" class=\"dataframe\">\n",
       "  <thead>\n",
       "    <tr style=\"text-align: right;\">\n",
       "      <th></th>\n",
       "      <th>country</th>\n",
       "      <th>Ladder score</th>\n",
       "      <th>Log GDP per capita</th>\n",
       "      <th>Social support</th>\n",
       "      <th>Healthy life expectancy</th>\n",
       "      <th>Freedom to make life choices</th>\n",
       "      <th>Generosity</th>\n",
       "      <th>Perceptions of corruption</th>\n",
       "      <th>Dystopia + residual</th>\n",
       "    </tr>\n",
       "  </thead>\n",
       "  <tbody>\n",
       "    <tr>\n",
       "      <th>0</th>\n",
       "      <td>Finland</td>\n",
       "      <td>7.741</td>\n",
       "      <td>1.844</td>\n",
       "      <td>1.572</td>\n",
       "      <td>0.695</td>\n",
       "      <td>0.859</td>\n",
       "      <td>0.142</td>\n",
       "      <td>0.546</td>\n",
       "      <td>2.082</td>\n",
       "    </tr>\n",
       "    <tr>\n",
       "      <th>1</th>\n",
       "      <td>Denmark</td>\n",
       "      <td>7.583</td>\n",
       "      <td>1.908</td>\n",
       "      <td>1.520</td>\n",
       "      <td>0.699</td>\n",
       "      <td>0.823</td>\n",
       "      <td>0.204</td>\n",
       "      <td>0.548</td>\n",
       "      <td>1.881</td>\n",
       "    </tr>\n",
       "    <tr>\n",
       "      <th>2</th>\n",
       "      <td>Iceland</td>\n",
       "      <td>7.525</td>\n",
       "      <td>1.881</td>\n",
       "      <td>1.617</td>\n",
       "      <td>0.718</td>\n",
       "      <td>0.819</td>\n",
       "      <td>0.258</td>\n",
       "      <td>0.182</td>\n",
       "      <td>2.050</td>\n",
       "    </tr>\n",
       "    <tr>\n",
       "      <th>3</th>\n",
       "      <td>Sweden</td>\n",
       "      <td>7.344</td>\n",
       "      <td>1.878</td>\n",
       "      <td>1.501</td>\n",
       "      <td>0.724</td>\n",
       "      <td>0.838</td>\n",
       "      <td>0.221</td>\n",
       "      <td>0.524</td>\n",
       "      <td>1.658</td>\n",
       "    </tr>\n",
       "    <tr>\n",
       "      <th>4</th>\n",
       "      <td>Israel</td>\n",
       "      <td>7.341</td>\n",
       "      <td>1.803</td>\n",
       "      <td>1.513</td>\n",
       "      <td>0.740</td>\n",
       "      <td>0.641</td>\n",
       "      <td>0.153</td>\n",
       "      <td>0.193</td>\n",
       "      <td>2.298</td>\n",
       "    </tr>\n",
       "  </tbody>\n",
       "</table>\n",
       "</div>"
      ],
      "text/plain": [
       "   country  Ladder score  Log GDP per capita  Social support  \\\n",
       "0  Finland         7.741               1.844           1.572   \n",
       "1  Denmark         7.583               1.908           1.520   \n",
       "2  Iceland         7.525               1.881           1.617   \n",
       "3   Sweden         7.344               1.878           1.501   \n",
       "4   Israel         7.341               1.803           1.513   \n",
       "\n",
       "   Healthy life expectancy  Freedom to make life choices  Generosity  \\\n",
       "0                    0.695                         0.859       0.142   \n",
       "1                    0.699                         0.823       0.204   \n",
       "2                    0.718                         0.819       0.258   \n",
       "3                    0.724                         0.838       0.221   \n",
       "4                    0.740                         0.641       0.153   \n",
       "\n",
       "   Perceptions of corruption  Dystopia + residual  \n",
       "0                      0.546                2.082  \n",
       "1                      0.548                1.881  \n",
       "2                      0.182                2.050  \n",
       "3                      0.524                1.658  \n",
       "4                      0.193                2.298  "
      ]
     },
     "execution_count": 6,
     "metadata": {},
     "output_type": "execute_result"
    }
   ],
   "source": [
    "df1filter.head(n=5)"
   ]
  },
  {
   "cell_type": "markdown",
   "id": "2d73bc4e-4eff-43e3-a315-cc838f7f4205",
   "metadata": {},
   "source": [
    "> *Figuur 5: De eerste 5 rows van df1filter, de gefilterde versie van df1 die de belangrijkste variabelen bevat.*"
   ]
  },
  {
   "cell_type": "code",
   "execution_count": 7,
   "id": "dd3b2b60-f6eb-45f8-bc7f-e66dcc26ecb2",
   "metadata": {
    "editable": true,
    "slideshow": {
     "slide_type": ""
    },
    "tags": [
     "hide-input"
    ]
   },
   "outputs": [
    {
     "data": {
      "text/html": [
       "<div>\n",
       "<style scoped>\n",
       "    .dataframe tbody tr th:only-of-type {\n",
       "        vertical-align: middle;\n",
       "    }\n",
       "\n",
       "    .dataframe tbody tr th {\n",
       "        vertical-align: top;\n",
       "    }\n",
       "\n",
       "    .dataframe thead th {\n",
       "        text-align: right;\n",
       "    }\n",
       "</style>\n",
       "<table border=\"1\" class=\"dataframe\">\n",
       "  <thead>\n",
       "    <tr style=\"text-align: right;\">\n",
       "      <th></th>\n",
       "      <th>country</th>\n",
       "      <th>location_name</th>\n",
       "      <th>temperature_celsius</th>\n",
       "      <th>feels_like_celsius</th>\n",
       "      <th>cloud</th>\n",
       "      <th>wind_kph</th>\n",
       "      <th>sunrise</th>\n",
       "      <th>sunset</th>\n",
       "      <th>air_quality_Carbon_Monoxide</th>\n",
       "      <th>air_quality_Ozone</th>\n",
       "      <th>...</th>\n",
       "      <th>Sunlight hours</th>\n",
       "      <th>Extreme_Weather_Events</th>\n",
       "      <th>Ladder score</th>\n",
       "      <th>Log GDP per capita</th>\n",
       "      <th>Social support</th>\n",
       "      <th>Healthy life expectancy</th>\n",
       "      <th>Freedom to make life choices</th>\n",
       "      <th>Generosity</th>\n",
       "      <th>Perceptions of corruption</th>\n",
       "      <th>Dystopia + residual</th>\n",
       "    </tr>\n",
       "  </thead>\n",
       "  <tbody>\n",
       "    <tr>\n",
       "      <th>6</th>\n",
       "      <td>Argentina</td>\n",
       "      <td>Buenos Aires</td>\n",
       "      <td>13.177632</td>\n",
       "      <td>12.474561</td>\n",
       "      <td>26.214912</td>\n",
       "      <td>11.136842</td>\n",
       "      <td>1900-01-01 08:02:00</td>\n",
       "      <td>1900-01-01 17:51:00</td>\n",
       "      <td>517.272807</td>\n",
       "      <td>35.935965</td>\n",
       "      <td>...</td>\n",
       "      <td>9.82</td>\n",
       "      <td>NaN</td>\n",
       "      <td>6.188</td>\n",
       "      <td>1.562</td>\n",
       "      <td>1.381</td>\n",
       "      <td>0.585</td>\n",
       "      <td>0.681</td>\n",
       "      <td>0.087</td>\n",
       "      <td>0.080</td>\n",
       "      <td>1.812</td>\n",
       "    </tr>\n",
       "    <tr>\n",
       "      <th>7</th>\n",
       "      <td>Armenia</td>\n",
       "      <td>Yerevan</td>\n",
       "      <td>22.620524</td>\n",
       "      <td>22.053712</td>\n",
       "      <td>27.318777</td>\n",
       "      <td>8.651528</td>\n",
       "      <td>1900-01-01 05:32:00</td>\n",
       "      <td>1900-01-01 20:35:00</td>\n",
       "      <td>254.201747</td>\n",
       "      <td>77.655022</td>\n",
       "      <td>...</td>\n",
       "      <td>15.05</td>\n",
       "      <td>NaN</td>\n",
       "      <td>5.455</td>\n",
       "      <td>1.444</td>\n",
       "      <td>1.154</td>\n",
       "      <td>0.603</td>\n",
       "      <td>0.650</td>\n",
       "      <td>0.051</td>\n",
       "      <td>0.173</td>\n",
       "      <td>1.379</td>\n",
       "    </tr>\n",
       "    <tr>\n",
       "      <th>8</th>\n",
       "      <td>Australia</td>\n",
       "      <td>Canberra</td>\n",
       "      <td>9.911790</td>\n",
       "      <td>8.985153</td>\n",
       "      <td>31.925764</td>\n",
       "      <td>10.485590</td>\n",
       "      <td>1900-01-01 05:42:00</td>\n",
       "      <td>1900-01-01 16:57:00</td>\n",
       "      <td>219.703057</td>\n",
       "      <td>49.445852</td>\n",
       "      <td>...</td>\n",
       "      <td>11.25</td>\n",
       "      <td>29.0</td>\n",
       "      <td>7.057</td>\n",
       "      <td>1.854</td>\n",
       "      <td>1.461</td>\n",
       "      <td>0.692</td>\n",
       "      <td>0.756</td>\n",
       "      <td>0.225</td>\n",
       "      <td>0.323</td>\n",
       "      <td>1.745</td>\n",
       "    </tr>\n",
       "    <tr>\n",
       "      <th>9</th>\n",
       "      <td>Australia</td>\n",
       "      <td>Canberra</td>\n",
       "      <td>9.911790</td>\n",
       "      <td>8.985153</td>\n",
       "      <td>31.925764</td>\n",
       "      <td>10.485590</td>\n",
       "      <td>1900-01-01 05:42:00</td>\n",
       "      <td>1900-01-01 16:57:00</td>\n",
       "      <td>219.703057</td>\n",
       "      <td>49.445852</td>\n",
       "      <td>...</td>\n",
       "      <td>11.25</td>\n",
       "      <td>23.0</td>\n",
       "      <td>7.057</td>\n",
       "      <td>1.854</td>\n",
       "      <td>1.461</td>\n",
       "      <td>0.692</td>\n",
       "      <td>0.756</td>\n",
       "      <td>0.225</td>\n",
       "      <td>0.323</td>\n",
       "      <td>1.745</td>\n",
       "    </tr>\n",
       "    <tr>\n",
       "      <th>10</th>\n",
       "      <td>Austria</td>\n",
       "      <td>Vienna</td>\n",
       "      <td>18.178947</td>\n",
       "      <td>17.438596</td>\n",
       "      <td>35.429825</td>\n",
       "      <td>14.800877</td>\n",
       "      <td>1900-01-01 04:54:00</td>\n",
       "      <td>1900-01-01 20:59:00</td>\n",
       "      <td>338.641228</td>\n",
       "      <td>70.290351</td>\n",
       "      <td>...</td>\n",
       "      <td>16.08</td>\n",
       "      <td>NaN</td>\n",
       "      <td>6.905</td>\n",
       "      <td>1.885</td>\n",
       "      <td>1.336</td>\n",
       "      <td>0.696</td>\n",
       "      <td>0.703</td>\n",
       "      <td>0.214</td>\n",
       "      <td>0.305</td>\n",
       "      <td>1.766</td>\n",
       "    </tr>\n",
       "    <tr>\n",
       "      <th>11</th>\n",
       "      <td>Azerbaijan</td>\n",
       "      <td>Baku</td>\n",
       "      <td>22.427193</td>\n",
       "      <td>22.546491</td>\n",
       "      <td>30.925439</td>\n",
       "      <td>22.666228</td>\n",
       "      <td>1900-01-01 05:10:00</td>\n",
       "      <td>1900-01-01 20:14:00</td>\n",
       "      <td>284.128947</td>\n",
       "      <td>84.131140</td>\n",
       "      <td>...</td>\n",
       "      <td>15.07</td>\n",
       "      <td>NaN</td>\n",
       "      <td>4.893</td>\n",
       "      <td>1.433</td>\n",
       "      <td>0.876</td>\n",
       "      <td>0.496</td>\n",
       "      <td>0.668</td>\n",
       "      <td>0.112</td>\n",
       "      <td>0.199</td>\n",
       "      <td>1.110</td>\n",
       "    </tr>\n",
       "    <tr>\n",
       "      <th>12</th>\n",
       "      <td>Bahamas</td>\n",
       "      <td>Nassau</td>\n",
       "      <td>26.919111</td>\n",
       "      <td>30.552889</td>\n",
       "      <td>56.826667</td>\n",
       "      <td>19.556000</td>\n",
       "      <td>1900-01-01 06:19:00</td>\n",
       "      <td>1900-01-01 20:03:00</td>\n",
       "      <td>239.491778</td>\n",
       "      <td>63.716444</td>\n",
       "      <td>...</td>\n",
       "      <td>13.73</td>\n",
       "      <td>NaN</td>\n",
       "      <td>NaN</td>\n",
       "      <td>NaN</td>\n",
       "      <td>NaN</td>\n",
       "      <td>NaN</td>\n",
       "      <td>NaN</td>\n",
       "      <td>NaN</td>\n",
       "      <td>NaN</td>\n",
       "      <td>NaN</td>\n",
       "    </tr>\n",
       "    <tr>\n",
       "      <th>13</th>\n",
       "      <td>Bahrain</td>\n",
       "      <td>Manama</td>\n",
       "      <td>32.711790</td>\n",
       "      <td>36.885153</td>\n",
       "      <td>3.366812</td>\n",
       "      <td>19.667686</td>\n",
       "      <td>1900-01-01 04:45:00</td>\n",
       "      <td>1900-01-01 18:34:00</td>\n",
       "      <td>449.263319</td>\n",
       "      <td>153.274672</td>\n",
       "      <td>...</td>\n",
       "      <td>13.82</td>\n",
       "      <td>NaN</td>\n",
       "      <td>5.959</td>\n",
       "      <td>NaN</td>\n",
       "      <td>NaN</td>\n",
       "      <td>NaN</td>\n",
       "      <td>NaN</td>\n",
       "      <td>NaN</td>\n",
       "      <td>NaN</td>\n",
       "      <td>NaN</td>\n",
       "    </tr>\n",
       "  </tbody>\n",
       "</table>\n",
       "<p>8 rows × 26 columns</p>\n",
       "</div>"
      ],
      "text/plain": [
       "       country location_name  temperature_celsius  feels_like_celsius  \\\n",
       "6    Argentina  Buenos Aires            13.177632           12.474561   \n",
       "7      Armenia       Yerevan            22.620524           22.053712   \n",
       "8    Australia      Canberra             9.911790            8.985153   \n",
       "9    Australia      Canberra             9.911790            8.985153   \n",
       "10     Austria        Vienna            18.178947           17.438596   \n",
       "11  Azerbaijan          Baku            22.427193           22.546491   \n",
       "12     Bahamas        Nassau            26.919111           30.552889   \n",
       "13     Bahrain        Manama            32.711790           36.885153   \n",
       "\n",
       "        cloud   wind_kph             sunrise              sunset  \\\n",
       "6   26.214912  11.136842 1900-01-01 08:02:00 1900-01-01 17:51:00   \n",
       "7   27.318777   8.651528 1900-01-01 05:32:00 1900-01-01 20:35:00   \n",
       "8   31.925764  10.485590 1900-01-01 05:42:00 1900-01-01 16:57:00   \n",
       "9   31.925764  10.485590 1900-01-01 05:42:00 1900-01-01 16:57:00   \n",
       "10  35.429825  14.800877 1900-01-01 04:54:00 1900-01-01 20:59:00   \n",
       "11  30.925439  22.666228 1900-01-01 05:10:00 1900-01-01 20:14:00   \n",
       "12  56.826667  19.556000 1900-01-01 06:19:00 1900-01-01 20:03:00   \n",
       "13   3.366812  19.667686 1900-01-01 04:45:00 1900-01-01 18:34:00   \n",
       "\n",
       "    air_quality_Carbon_Monoxide  air_quality_Ozone  ...  Sunlight hours  \\\n",
       "6                    517.272807          35.935965  ...            9.82   \n",
       "7                    254.201747          77.655022  ...           15.05   \n",
       "8                    219.703057          49.445852  ...           11.25   \n",
       "9                    219.703057          49.445852  ...           11.25   \n",
       "10                   338.641228          70.290351  ...           16.08   \n",
       "11                   284.128947          84.131140  ...           15.07   \n",
       "12                   239.491778          63.716444  ...           13.73   \n",
       "13                   449.263319         153.274672  ...           13.82   \n",
       "\n",
       "    Extreme_Weather_Events  Ladder score  Log GDP per capita  Social support  \\\n",
       "6                      NaN         6.188               1.562           1.381   \n",
       "7                      NaN         5.455               1.444           1.154   \n",
       "8                     29.0         7.057               1.854           1.461   \n",
       "9                     23.0         7.057               1.854           1.461   \n",
       "10                     NaN         6.905               1.885           1.336   \n",
       "11                     NaN         4.893               1.433           0.876   \n",
       "12                     NaN           NaN                 NaN             NaN   \n",
       "13                     NaN         5.959                 NaN             NaN   \n",
       "\n",
       "    Healthy life expectancy  Freedom to make life choices  Generosity  \\\n",
       "6                     0.585                         0.681       0.087   \n",
       "7                     0.603                         0.650       0.051   \n",
       "8                     0.692                         0.756       0.225   \n",
       "9                     0.692                         0.756       0.225   \n",
       "10                    0.696                         0.703       0.214   \n",
       "11                    0.496                         0.668       0.112   \n",
       "12                      NaN                           NaN         NaN   \n",
       "13                      NaN                           NaN         NaN   \n",
       "\n",
       "    Perceptions of corruption  Dystopia + residual  \n",
       "6                       0.080                1.812  \n",
       "7                       0.173                1.379  \n",
       "8                       0.323                1.745  \n",
       "9                       0.323                1.745  \n",
       "10                      0.305                1.766  \n",
       "11                      0.199                1.110  \n",
       "12                        NaN                  NaN  \n",
       "13                        NaN                  NaN  \n",
       "\n",
       "[8 rows x 26 columns]"
      ]
     },
     "execution_count": 7,
     "metadata": {},
     "output_type": "execute_result"
    }
   ],
   "source": [
    "df123[6:14]  # Dit lijkt misschien op een rare selectie aan cellen, maar zo zijn er niet alleen NaN waardes voor de extreme weather events."
   ]
  },
  {
   "cell_type": "markdown",
   "id": "a7ce5703-9cf5-4c80-af9e-7eafb4ee44e5",
   "metadata": {},
   "source": [
    "> *Figuur 6: Rij 6 tot en met 14 van de uiteindelijke dataset df123. Deze rijen zijn gekozen zodat er niet alleen NaN waarden staan bij Extreme_Weather_Events*"
   ]
  },
  {
   "cell_type": "markdown",
   "id": "d5010a07-96a0-45a7-ba76-250a56053f62",
   "metadata": {},
   "source": [
    "# Perspectief 1: Klimaat heeft een sterke invloed op geluk"
   ]
  },
  {
   "cell_type": "markdown",
   "id": "1f26b1fd",
   "metadata": {},
   "source": [
    "Zoals eerder is benoemd, hebben klimaatfactoren een invloed op de leefbaarheid van een land, wat weer invloed heeft op het geluk van de inwoners (Peng et al., 2016; Rehdanz & Maddison, 2004; Tsutsui, 2013). Met een stabiel klimaat hoeven mensen zich geen zorgen te maken om problemen zoals extreme weersomstandigheden, hittegolven, ernstige stormen of overstromingen (Tsutsui, 2013). Daarom wordt in dit perspectief gekeken naar verschillende klimaatfactoren en hun relatie met geluk.\n"
   ]
  },
  {
   "cell_type": "markdown",
   "id": "a44acbb2-6dbc-4cb9-ba26-7ba3fb19af5d",
   "metadata": {},
   "source": [
    "### Argument 1.1: In landen met een stabiel, mild of zonnig klimaat zijn mensen gemiddeld blijer, omdat dergelijke omstandigheden bijdragen aan een prettigere leefomgeving.\n",
    "\n",
    "Onderzoek toont aan dat het klimaat invloed heeft op geluk (Rehdanz & Maddison, 2004; Tsutsui, 2012). Voornamelijk landen met een stabiel, zonnig en warmer klimaat zijn vaak gelukkiger (Helliwell et al., 2017; Rehdanz & Maddison, 2004; Tsutsui, 2012). Het klimaat bevordert comfort, sociale interactie en fysieke activiteit, waardoor stress wordt verminderd en het mentaal welzijn verbeterd (Peng et al., 2016; Tsutsui, 2012). Landen zoals Spanje, Costa Rica en Australië, scoren daardoor hoog op geluk (Helliwell et al., 2017). Hoewel klimaat niet de enige factor is die geluk beïnvloedt, toont de bestaande literatuur aan dat klimaatvariabelen zoals zonuren, temperatuur en luchtkwaliteit wel samenhangen met het geluksniveau in verschillende landen (Peng et al., 2016; Helliwell et al., 2017)."
   ]
  },
  {
   "cell_type": "code",
   "execution_count": 18,
   "id": "61271ba8-a878-4656-9260-4633f84e7af8",
   "metadata": {
    "editable": true,
    "slideshow": {
     "slide_type": ""
    },
    "tags": [
     "hide-input"
    ]
   },
   "outputs": [
    {
     "name": "stdout",
     "output_type": "stream",
     "text": [
      "De correlatie tussen Sunlight hours en de Happiness Ladder score is 0.11.\n",
      "De correlatie tussen cloud en de Happiness Ladder score is 0.14.\n",
      "De correlatie tussen temperature_celsius en de Happiness Ladder score is -0.51.\n",
      "De correlatie tussen feels_like_celsius en de Happiness Ladder score is -0.48.\n"
     ]
    }
   ],
   "source": [
    "# Data selecteren en middelen per land\n",
    "df_climate = df123[['country', 'Sunlight hours', 'cloud', 'temperature_celsius', 'Ladder score']].dropna()\n",
    "df_climate = df_climate.groupby('country', as_index=False).mean(numeric_only=True)\n",
    "\n",
    "# Correlaties berekenen\n",
    "corr_matrix = df_climate[['Sunlight hours', 'cloud', 'temperature_celsius', 'Ladder score']].corr()\n",
    "\n",
    "# Waarden ophalen\n",
    "corr_sun = corr_matrix.loc['Sunlight hours', 'Ladder score']\n",
    "corr_cloud = corr_matrix.loc['cloud', 'Ladder score']\n",
    "corr_temp = corr_matrix.loc['temperature_celsius', 'Ladder score']\n",
    "\n",
    "df123feelstemp = df123[['country','feels_like_celsius', 'Ladder score']].dropna()\n",
    "df123feelstemp = df123feelstemp.groupby('country', as_index=False).mean(numeric_only=True) # Er waren duplicate values in de oorspronkelijke dataset.\n",
    "correlationmatrixfeelstemp = df123feelstemp[['feels_like_celsius','Ladder score']].corr(method='pearson')\n",
    "correlationwaardefeelstemp = correlationmatrixfeelstemp.loc['feels_like_celsius', 'Ladder score']\n",
    "\n",
    "# Resultaten printen\n",
    "print(f\"De correlatie tussen Sunlight hours en de Happiness Ladder score is {corr_sun:.2f}.\")\n",
    "print(f\"De correlatie tussen cloud en de Happiness Ladder score is {corr_cloud:.2f}.\")\n",
    "print(f\"De correlatie tussen temperature_celsius en de Happiness Ladder score is {corr_temp:.2f}.\")\n",
    "print(f\"De correlatie tussen feels_like_celsius en de Happiness Ladder score is {correlationwaardefeelstemp:.2f}.\")\n",
    "\n"
   ]
  },
  {
   "cell_type": "code",
   "execution_count": 9,
   "id": "964b7e6e-aa86-47d2-b387-bf585b1298d2",
   "metadata": {
    "editable": true,
    "slideshow": {
     "slide_type": ""
    },
    "tags": [
     "hide-input"
    ]
   },
   "outputs": [
    {
     "data": {
      "application/vnd.plotly.v1+json": {
       "config": {
        "plotlyServerURL": "https://plot.ly"
       },
       "data": [
        {
         "coloraxis": "coloraxis",
         "geo": "geo",
         "hovertemplate": "country=%{location}<br>cloud=%{z}<extra></extra>",
         "locationmode": "country names",
         "locations": [
          "Afghanistan",
          "Albania",
          "Algeria",
          "Andorra",
          "Angola",
          "Antigua and Barbuda",
          "Argentina",
          "Armenia",
          "Australia",
          "Australia",
          "Austria",
          "Azerbaijan",
          "Bahamas",
          "Bahrain",
          "Bangladesh",
          "Barbados",
          "Belarus",
          "Belgium",
          "Belize",
          "Benin",
          "Bhutan",
          "Bolivia",
          "Bosnia and Herzegovina",
          "Botswana",
          "Brazil",
          "Brazil",
          "Brunei Darussalam",
          "Bulgaria",
          "Burkina Faso",
          "Burundi",
          "Bélgica",
          "Cambodia",
          "Cameroon",
          "Canada",
          "Cape Verde",
          "Central African Republic",
          "Chad",
          "Chile",
          "China",
          "China",
          "Colombia",
          "Comoros",
          "Congo",
          "Costa Rica",
          "Croatia",
          "Cuba",
          "Cyprus",
          "Czech Republic",
          "Democratic Republic of Congo",
          "Denmark",
          "Djibouti",
          "Dominica",
          "Dominican Republic",
          "Ecuador",
          "Egypt",
          "El Salvador",
          "Equatorial Guinea",
          "Eritrea",
          "Estonia",
          "Estonie",
          "Ethiopia",
          "Fiji Islands",
          "Finland",
          "France",
          "Gabon",
          "Gambia",
          "Georgia",
          "Germany",
          "Germany",
          "Ghana",
          "Greece",
          "Grenada",
          "Guatemala",
          "Guinea",
          "Guinea-Bissau",
          "Guyana",
          "Haiti",
          "Honduras",
          "Hungary",
          "Iceland",
          "Inde",
          "India",
          "India",
          "Indonesia",
          "Iran",
          "Iraq",
          "Ireland",
          "Israel",
          "Italy",
          "Jamaica",
          "Japan",
          "Jemen",
          "Jordan",
          "Kazakhstan",
          "Kenya",
          "Kiribati",
          "Komoren",
          "Kosovo",
          "Kuwait",
          "Kyrghyzstan",
          "Lao People's Democratic Republic",
          "Latvia",
          "Lebanon",
          "Lesotho",
          "Letonia",
          "Liberia",
          "Libya",
          "Liechtenstein",
          "Lithuania",
          "Luxembourg",
          "Macedonia",
          "Madagascar",
          "Malawi",
          "Malaysia",
          "Maldives",
          "Mali",
          "Malta",
          "Malásia",
          "Marrocos",
          "Marshall Islands",
          "Mauritania",
          "Mauritius",
          "Mexico",
          "Mexique",
          "Micronesia",
          "Monaco",
          "Mongolia",
          "Montenegro",
          "Morocco",
          "Mozambique",
          "Myanmar",
          "Namibia",
          "Nepal",
          "Netherlands",
          "New Zealand",
          "Nicaragua",
          "Niger",
          "Nigeria",
          "Nigeria",
          "North Korea",
          "Norway",
          "Oman",
          "Pakistan",
          "Palau",
          "Panama",
          "Papua New Guinea",
          "Paraguay",
          "Peru",
          "Philippines",
          "Poland",
          "Polônia",
          "Portugal",
          "Qatar",
          "Romania",
          "Russia",
          "Russia",
          "Rwanda",
          "Saint Kitts and Nevis",
          "Saint Lucia",
          "Saint Vincent and the Grenadines",
          "Saint-Vincent-et-les-Grenadines",
          "Samoa",
          "San Marino",
          "Saudi Arabia",
          "Saudi Arabien",
          "Senegal",
          "Serbia",
          "Seychelles Islands",
          "Sierra Leone",
          "Singapore",
          "Slovakia",
          "Slovenia",
          "Solomon Islands",
          "Somalia",
          "South Africa",
          "South Korea",
          "Spain",
          "Sri Lanka",
          "Sudan",
          "Suriname",
          "Swaziland",
          "Sweden",
          "Switzerland",
          "Syria",
          "Südkorea",
          "Tajikistan",
          "Tanzania",
          "Thailand",
          "Timor-Leste",
          "Togo",
          "Tonga",
          "Trinidad and Tobago",
          "Tunisia",
          "Turkey",
          "Turkmenistan",
          "Turkménistan",
          "Tuvalu",
          "USA United States of America",
          "Uganda",
          "Ukraine",
          "United Arab Emirates",
          "United Kingdom",
          "United States of America",
          "Uruguay",
          "Uzbekistan",
          "Vanuatu",
          "Vatican City",
          "Venezuela",
          "Vietnam",
          "Yemen",
          "Zambia",
          "Zimbabwe",
          "Гватемала",
          "Польша",
          "Турция",
          "كولومبيا",
          "火鸡"
         ],
         "name": "",
         "type": "choropleth",
         "visible": true,
         "z": [
          16.419213973799128,
          26.20524017467249,
          28.04824561403509,
          44.209606986899566,
          49.633187772925766,
          47.5353982300885,
          26.214912280701753,
          27.31877729257642,
          31.925764192139738,
          31.925764192139738,
          35.42982456140351,
          30.92543859649123,
          56.82666666666667,
          3.3668122270742358,
          42.18859649122807,
          48.083333333333336,
          45.53711790393013,
          56.558241758241756,
          74.59471365638767,
          50.89035087719298,
          65.05263157894737,
          31.29490022172949,
          39.68995633187773,
          13.030567685589519,
          37.87224669603524,
          37.87224669603524,
          70.01754385964912,
          32.265306122448976,
          27.57017543859649,
          45.61572052401747,
          75,
          55.23144104803494,
          48.47577092511013,
          57.48898678414097,
          42.35807860262009,
          45.75438596491228,
          24.646288209606986,
          30.334801762114537,
          11.135964912280702,
          11.135964912280702,
          69,
          67.91189427312776,
          48.078947368421055,
          57.57333333333333,
          29.68281938325991,
          39.629955947136565,
          30.17982456140351,
          42.99557522123894,
          48.903083700440526,
          52.574561403508774,
          21.123348017621144,
          54.87665198237885,
          51.64159292035398,
          33.220264317180614,
          14.596491228070175,
          49.10666666666667,
          64.4934497816594,
          42.082969432314414,
          49.969298245614034,
          25,
          56.08810572687225,
          63.02620087336245,
          43,
          51.76419213973799,
          54.81578947368421,
          36.98237885462555,
          28.070484581497798,
          34.92576419213974,
          34.92576419213974,
          52.03493449781659,
          23.26872246696035,
          39.008849557522126,
          63.50222222222222,
          58.97379912663755,
          41.18340611353712,
          52.76651982378855,
          37.77533039647577,
          66.79646017699115,
          32.213973799126634,
          65.8122270742358,
          75,
          33.17180616740088,
          33.17180616740088,
          51.28322440087146,
          22.013157894736842,
          9.68995633187773,
          65.60964912280701,
          14.714912280701755,
          19.95175438596491,
          32.76211453744494,
          47.60698689956332,
          84,
          13.283842794759826,
          46.219298245614034,
          64.64782608695653,
          52.25110132158591,
          55,
          85,
          6.851528384279476,
          42.6578947368421,
          98,
          42.87224669603524,
          29.17105263157895,
          18.94298245614035,
          87,
          71.4298245614035,
          0,
          50.75,
          49.81140350877193,
          48.290748898678416,
          32.99559471365639,
          26.75438596491228,
          31.99126637554585,
          35.379912663755455,
          61.18141592920354,
          30.03930131004367,
          21.074235807860262,
          59,
          0,
          84.57205240174673,
          15.043668122270743,
          53.6768558951965,
          54.06194690265487,
          32,
          81.46929824561404,
          34.28193832599119,
          37.38157894736842,
          28.092105263157894,
          32.59911894273128,
          34.80349344978166,
          66.87336244541484,
          7.118421052631579,
          58.87280701754386,
          44.73684210526316,
          50.7117903930131,
          47.216814159292035,
          17.80701754385965,
          46.698689956331876,
          46.698689956331876,
          33.82017543859649,
          48.1140350877193,
          14.20524017467249,
          16.964912280701753,
          78.00438596491227,
          61.00440528634361,
          56.85526315789474,
          28.419213973799128,
          47.56637168141593,
          66.30701754385964,
          33.56768558951965,
          32,
          27.863436123348016,
          3.307017543859649,
          20.25438596491228,
          42.8099173553719,
          42.8099173553719,
          50.578947368421055,
          41.48684210526316,
          51.780701754385966,
          57.77533039647577,
          86,
          60.097345132743364,
          28.853982300884955,
          4.762114537444934,
          0,
          30.502183406113538,
          21.855263157894736,
          48.969298245614034,
          63.52422907488987,
          63.506550218340614,
          30.719298245614034,
          51.7292576419214,
          56.213973799126634,
          48.12719298245614,
          6.104803493449782,
          27.12280701754386,
          21,
          58.30701754385965,
          17.592105263157894,
          41.26315789473684,
          26.289473684210527,
          31.912280701754387,
          51.55701754385965,
          10.912280701754385,
          0,
          25.767543859649123,
          30.353711790393014,
          41.65714285714286,
          41.691629955947135,
          85,
          55.07860262008734,
          35.4078947368421,
          29.403508771929825,
          33.53846153846154,
          37.60526315789474,
          2,
          67.23144104803494,
          34.333333333333336,
          37.74561403508772,
          42.532751091703055,
          5.406113537117904,
          52.74449339207048,
          47.20444444444445,
          37.99126637554585,
          14.174672489082969,
          61.12719298245614,
          20.08296943231441,
          27.277533039647576,
          46.693627450980394,
          32.12719298245614,
          14.807860262008735,
          12.977973568281937,
          46,
          74,
          25,
          92,
          4
         ]
        },
        {
         "coloraxis": "coloraxis",
         "geo": "geo",
         "hovertemplate": "Country name=%{location}<br>Ladder score=%{z}<extra></extra>",
         "locationmode": "country names",
         "locations": [
          "Finland",
          "Denmark",
          "Iceland",
          "Sweden",
          "Israel",
          "Netherlands",
          "Norway",
          "Luxembourg",
          "Switzerland",
          "Australia",
          "New Zealand",
          "Costa Rica",
          "Kuwait",
          "Austria",
          "Canada",
          "Belgium",
          "Ireland",
          "Czechia",
          "Lithuania",
          "United Kingdom",
          "Slovenia",
          "United Arab Emirates",
          "United States",
          "Germany",
          "Mexico",
          "Uruguay",
          "France",
          "Saudi Arabia",
          "Kosovo",
          "Singapore",
          "Taiwan Province of China",
          "Romania",
          "El Salvador",
          "Estonia",
          "Poland",
          "Spain",
          "Serbia",
          "Chile",
          "Panama",
          "Malta",
          "Italy",
          "Guatemala",
          "Nicaragua",
          "Brazil",
          "Slovakia",
          "Latvia",
          "Uzbekistan",
          "Argentina",
          "Kazakhstan",
          "Cyprus",
          "Japan",
          "South Korea",
          "Philippines",
          "Vietnam",
          "Portugal",
          "Hungary",
          "Paraguay",
          "Thailand",
          "Malaysia",
          "China",
          "Honduras",
          "Bahrain",
          "Croatia",
          "Greece",
          "Bosnia and Herzegovina",
          "Libya",
          "Jamaica",
          "Peru",
          "Dominican Republic",
          "Mauritius",
          "Moldova",
          "Russia",
          "Bolivia",
          "Ecuador",
          "Kyrgyzstan",
          "Montenegro",
          "Mongolia",
          "Colombia",
          "Venezuela",
          "Indonesia",
          "Bulgaria",
          "Armenia",
          "South Africa",
          "North Macedonia",
          "Algeria",
          "Hong Kong S.A.R. of China",
          "Albania",
          "Tajikistan",
          "Congo (Brazzaville)",
          "Mozambique",
          "Georgia",
          "Iraq",
          "Nepal",
          "Laos",
          "Gabon",
          "Ivory Coast",
          "Guinea",
          "Turkiye",
          "Senegal",
          "Iran",
          "Azerbaijan",
          "Nigeria",
          "State of Palestine",
          "Cameroon",
          "Ukraine",
          "Namibia",
          "Morocco",
          "Pakistan",
          "Niger",
          "Burkina Faso",
          "Mauritania",
          "Gambia",
          "Chad",
          "Kenya",
          "Tunisia",
          "Benin",
          "Uganda",
          "Myanmar",
          "Cambodia",
          "Ghana",
          "Liberia",
          "Mali",
          "Madagascar",
          "Togo",
          "Jordan",
          "India",
          "Egypt",
          "Sri Lanka",
          "Bangladesh",
          "Ethiopia",
          "Tanzania",
          "Comoros",
          "Yemen",
          "Zambia",
          "Eswatini",
          "Malawi",
          "Botswana",
          "Zimbabwe",
          "Congo (Kinshasa)",
          "Sierra Leone",
          "Lesotho",
          "Lebanon",
          "Afghanistan"
         ],
         "name": "",
         "type": "choropleth",
         "visible": false,
         "z": [
          7.741,
          7.583,
          7.525,
          7.344,
          7.341,
          7.319,
          7.302,
          7.122,
          7.06,
          7.057,
          7.029,
          6.955,
          6.951,
          6.905,
          6.9,
          6.894,
          6.838,
          6.822,
          6.818,
          6.749,
          6.743,
          6.733,
          6.725,
          6.719,
          6.678,
          6.611,
          6.609,
          6.594,
          6.561,
          6.523,
          6.503,
          6.491,
          6.469,
          6.448,
          6.442,
          6.421,
          6.411,
          6.36,
          6.358,
          6.346,
          6.324,
          6.287,
          6.284,
          6.272,
          6.257,
          6.234,
          6.195,
          6.188,
          6.188,
          6.068,
          6.06,
          6.058,
          6.048,
          6.043,
          6.03,
          6.017,
          5.977,
          5.976,
          5.975,
          5.973,
          5.968,
          5.959,
          5.942,
          5.934,
          5.877,
          5.866,
          5.842,
          5.841,
          5.823,
          5.816,
          5.816,
          5.785,
          5.784,
          5.725,
          5.714,
          5.707,
          5.696,
          5.695,
          5.607,
          5.568,
          5.463,
          5.455,
          5.422,
          5.369,
          5.364,
          5.316,
          5.304,
          5.281,
          5.221,
          5.216,
          5.185,
          5.166,
          5.158,
          5.139,
          5.106,
          5.08,
          5.023,
          4.975,
          4.969,
          4.923,
          4.893,
          4.881,
          4.879,
          4.874,
          4.873,
          4.832,
          4.795,
          4.657,
          4.556,
          4.548,
          4.505,
          4.485,
          4.471,
          4.47,
          4.422,
          4.377,
          4.372,
          4.354,
          4.341,
          4.289,
          4.269,
          4.232,
          4.228,
          4.214,
          4.186,
          4.054,
          3.977,
          3.898,
          3.886,
          3.861,
          3.781,
          3.566,
          3.561,
          3.502,
          3.502,
          3.421,
          3.383,
          3.341,
          3.295,
          3.245,
          3.186,
          2.707,
          1.721
         ]
        },
        {
         "coloraxis": "coloraxis",
         "geo": "geo",
         "hovertemplate": "country=%{location}<br>Sunlight hours=%{z}<extra></extra>",
         "locationmode": "country names",
         "locations": [
          "Afghanistan",
          "Albania",
          "Algeria",
          "Andorra",
          "Angola",
          "Antigua and Barbuda",
          "Argentina",
          "Armenia",
          "Australia",
          "Australia",
          "Austria",
          "Azerbaijan",
          "Bahamas",
          "Bahrain",
          "Bangladesh",
          "Barbados",
          "Belarus",
          "Belgium",
          "Belize",
          "Benin",
          "Bhutan",
          "Bolivia",
          "Bosnia and Herzegovina",
          "Botswana",
          "Brazil",
          "Brazil",
          "Brunei Darussalam",
          "Bulgaria",
          "Burkina Faso",
          "Burundi",
          "Bélgica",
          "Cambodia",
          "Cameroon",
          "Canada",
          "Cape Verde",
          "Central African Republic",
          "Chad",
          "Chile",
          "China",
          "China",
          "Colombia",
          "Comoros",
          "Congo",
          "Costa Rica",
          "Croatia",
          "Cuba",
          "Cyprus",
          "Czech Republic",
          "Democratic Republic of Congo",
          "Denmark",
          "Djibouti",
          "Dominica",
          "Dominican Republic",
          "Ecuador",
          "Egypt",
          "El Salvador",
          "Equatorial Guinea",
          "Eritrea",
          "Estonia",
          "Estonie",
          "Ethiopia",
          "Fiji Islands",
          "Finland",
          "France",
          "Gabon",
          "Gambia",
          "Georgia",
          "Germany",
          "Germany",
          "Ghana",
          "Greece",
          "Grenada",
          "Guatemala",
          "Guinea",
          "Guinea-Bissau",
          "Guyana",
          "Haiti",
          "Honduras",
          "Hungary",
          "Iceland",
          "Inde",
          "India",
          "India",
          "Indonesia",
          "Iran",
          "Iraq",
          "Ireland",
          "Israel",
          "Italy",
          "Jamaica",
          "Japan",
          "Jemen",
          "Jordan",
          "Kazakhstan",
          "Kenya",
          "Kiribati",
          "Komoren",
          "Kosovo",
          "Kuwait",
          "Kyrghyzstan",
          "Lao People's Democratic Republic",
          "Latvia",
          "Lebanon",
          "Lesotho",
          "Letonia",
          "Liberia",
          "Libya",
          "Liechtenstein",
          "Lithuania",
          "Luxembourg",
          "Macedonia",
          "Madagascar",
          "Malawi",
          "Malaysia",
          "Maldives",
          "Mali",
          "Malta",
          "Malásia",
          "Marrocos",
          "Marshall Islands",
          "Mauritania",
          "Mauritius",
          "Mexico",
          "Mexique",
          "Micronesia",
          "Monaco",
          "Mongolia",
          "Montenegro",
          "Morocco",
          "Mozambique",
          "Myanmar",
          "Namibia",
          "Nepal",
          "Netherlands",
          "New Zealand",
          "Nicaragua",
          "Niger",
          "Nigeria",
          "Nigeria",
          "North Korea",
          "Norway",
          "Oman",
          "Pakistan",
          "Palau",
          "Panama",
          "Papua New Guinea",
          "Paraguay",
          "Peru",
          "Philippines",
          "Poland",
          "Polônia",
          "Portugal",
          "Qatar",
          "Romania",
          "Russia",
          "Russia",
          "Rwanda",
          "Saint Kitts and Nevis",
          "Saint Lucia",
          "Saint Vincent and the Grenadines",
          "Saint-Vincent-et-les-Grenadines",
          "Samoa",
          "San Marino",
          "Saudi Arabia",
          "Saudi Arabien",
          "Senegal",
          "Serbia",
          "Seychelles Islands",
          "Sierra Leone",
          "Singapore",
          "Slovakia",
          "Slovenia",
          "Solomon Islands",
          "Somalia",
          "South Africa",
          "South Korea",
          "Spain",
          "Sri Lanka",
          "Sudan",
          "Suriname",
          "Swaziland",
          "Sweden",
          "Switzerland",
          "Syria",
          "Südkorea",
          "Tajikistan",
          "Tanzania",
          "Thailand",
          "Timor-Leste",
          "Togo",
          "Tonga",
          "Trinidad and Tobago",
          "Tunisia",
          "Turkey",
          "Turkmenistan",
          "Turkménistan",
          "Tuvalu",
          "USA United States of America",
          "Uganda",
          "Ukraine",
          "United Arab Emirates",
          "United Kingdom",
          "United States of America",
          "Uruguay",
          "Uzbekistan",
          "Vanuatu",
          "Vatican City",
          "Venezuela",
          "Vietnam",
          "Yemen",
          "Zambia",
          "Zimbabwe",
          "Гватемала",
          "Польша",
          "Турция",
          "كولومبيا",
          "火鸡"
         ],
         "name": "",
         "type": "choropleth",
         "visible": false,
         "z": [
          14.5,
          11.07,
          12.05,
          11.08,
          11.65,
          11.98,
          9.82,
          15.05,
          11.25,
          11.25,
          16.08,
          15.07,
          13.73,
          13.82,
          13.63,
          12.68,
          12.18,
          11.13,
          13.2,
          11.88,
          12.02,
          11.6,
          11.08,
          10.57,
          12.32,
          12.32,
          12.52,
          15.33,
          11.72,
          11.8,
          15.57,
          12.63,
          12.45,
          15.68,
          13.07,
          12.48,
          11.72,
          9.92,
          15.03,
          15.03,
          12.38,
          11.58,
          11.75,
          11.73,
          15.73,
          13.6,
          14.55,
          11.13,
          11.75,
          11.2,
          12.63,
          13.08,
          13.28,
          12.1,
          14.1,
          12.7,
          12.52,
          13.1,
          11.28,
          17.98,
          12.6,
          11,
          11.3,
          16.18,
          11.75,
          11.68,
          15.22,
          16.85,
          16.85,
          11.92,
          11.07,
          11.72,
          12.73,
          11.73,
          12.65,
          11.75,
          13.3,
          12.72,
          11.12,
          4.52,
          13.82,
          14,
          14,
          12.13,
          12.05,
          12.03,
          17,
          11.02,
          15.23,
          13.27,
          14.6,
          12.97,
          14.27,
          12.13,
          11.73,
          12.15,
          11.45,
          15.3,
          14.05,
          15.35,
          13.2,
          11.22,
          11.03,
          10.23,
          17.32,
          11.9,
          14.3,
          11.1,
          17.32,
          11.12,
          11.08,
          10.95,
          12.57,
          12.52,
          11.88,
          12.68,
          11.05,
          12.37,
          14.23,
          12.45,
          13.28,
          10.87,
          11.98,
          13.22,
          12.43,
          15.47,
          12.12,
          11.07,
          12.03,
          10.48,
          13.17,
          12.25,
          12.02,
          11.15,
          9.17,
          12.65,
          12.72,
          12.6,
          12.6,
          12.07,
          11.28,
          13.62,
          12.03,
          12.57,
          12.53,
          11.68,
          9.77,
          12.52,
          12.73,
          11.17,
          16.57,
          14.9,
          13.75,
          11.08,
          17.55,
          17.55,
          12.03,
          13.22,
          12.72,
          12.68,
          12.83,
          12.55,
          11.08,
          12,
          13.53,
          12.75,
          15.6,
          12.28,
          12.52,
          12.33,
          11.12,
          15.77,
          11.68,
          12.37,
          10.5,
          14.77,
          15.08,
          11.77,
          12.67,
          11.92,
          12.27,
          18.62,
          15.9,
          12.03,
          14.53,
          14.88,
          12.33,
          12.72,
          11.65,
          12.47,
          10.78,
          12.62,
          12.05,
          14.65,
          12.05,
          14.55,
          12.42,
          12.55,
          12.13,
          11.13,
          13.68,
          16.65,
          16.07,
          9.78,
          15.18,
          11.02,
          11.07,
          11.73,
          13.45,
          13.1,
          11.15,
          11.02,
          12.9,
          16.17,
          14.72,
          12.65,
          14.65
         ]
        }
       ],
       "layout": {
        "coloraxis": {
         "colorbar": {
          "title": {
           "text": "Bewolking"
          }
         }
        },
        "geo": {
         "center": {
          "lat": -27.40780253313873,
          "lon": -57.73709396434824
         },
         "projection": {
          "rotation": {
           "lon": -57.73709396434824
          },
          "scale": 2.994883741354259,
          "type": "natural earth"
         }
        },
        "height": 600,
        "template": {
         "data": {
          "bar": [
           {
            "error_x": {
             "color": "#2a3f5f"
            },
            "error_y": {
             "color": "#2a3f5f"
            },
            "marker": {
             "line": {
              "color": "#E5ECF6",
              "width": 0.5
             },
             "pattern": {
              "fillmode": "overlay",
              "size": 10,
              "solidity": 0.2
             }
            },
            "type": "bar"
           }
          ],
          "barpolar": [
           {
            "marker": {
             "line": {
              "color": "#E5ECF6",
              "width": 0.5
             },
             "pattern": {
              "fillmode": "overlay",
              "size": 10,
              "solidity": 0.2
             }
            },
            "type": "barpolar"
           }
          ],
          "carpet": [
           {
            "aaxis": {
             "endlinecolor": "#2a3f5f",
             "gridcolor": "white",
             "linecolor": "white",
             "minorgridcolor": "white",
             "startlinecolor": "#2a3f5f"
            },
            "baxis": {
             "endlinecolor": "#2a3f5f",
             "gridcolor": "white",
             "linecolor": "white",
             "minorgridcolor": "white",
             "startlinecolor": "#2a3f5f"
            },
            "type": "carpet"
           }
          ],
          "choropleth": [
           {
            "colorbar": {
             "outlinewidth": 0,
             "ticks": ""
            },
            "type": "choropleth"
           }
          ],
          "contour": [
           {
            "colorbar": {
             "outlinewidth": 0,
             "ticks": ""
            },
            "colorscale": [
             [
              0,
              "#0d0887"
             ],
             [
              0.1111111111111111,
              "#46039f"
             ],
             [
              0.2222222222222222,
              "#7201a8"
             ],
             [
              0.3333333333333333,
              "#9c179e"
             ],
             [
              0.4444444444444444,
              "#bd3786"
             ],
             [
              0.5555555555555556,
              "#d8576b"
             ],
             [
              0.6666666666666666,
              "#ed7953"
             ],
             [
              0.7777777777777778,
              "#fb9f3a"
             ],
             [
              0.8888888888888888,
              "#fdca26"
             ],
             [
              1,
              "#f0f921"
             ]
            ],
            "type": "contour"
           }
          ],
          "contourcarpet": [
           {
            "colorbar": {
             "outlinewidth": 0,
             "ticks": ""
            },
            "type": "contourcarpet"
           }
          ],
          "heatmap": [
           {
            "colorbar": {
             "outlinewidth": 0,
             "ticks": ""
            },
            "colorscale": [
             [
              0,
              "#0d0887"
             ],
             [
              0.1111111111111111,
              "#46039f"
             ],
             [
              0.2222222222222222,
              "#7201a8"
             ],
             [
              0.3333333333333333,
              "#9c179e"
             ],
             [
              0.4444444444444444,
              "#bd3786"
             ],
             [
              0.5555555555555556,
              "#d8576b"
             ],
             [
              0.6666666666666666,
              "#ed7953"
             ],
             [
              0.7777777777777778,
              "#fb9f3a"
             ],
             [
              0.8888888888888888,
              "#fdca26"
             ],
             [
              1,
              "#f0f921"
             ]
            ],
            "type": "heatmap"
           }
          ],
          "heatmapgl": [
           {
            "colorbar": {
             "outlinewidth": 0,
             "ticks": ""
            },
            "colorscale": [
             [
              0,
              "#0d0887"
             ],
             [
              0.1111111111111111,
              "#46039f"
             ],
             [
              0.2222222222222222,
              "#7201a8"
             ],
             [
              0.3333333333333333,
              "#9c179e"
             ],
             [
              0.4444444444444444,
              "#bd3786"
             ],
             [
              0.5555555555555556,
              "#d8576b"
             ],
             [
              0.6666666666666666,
              "#ed7953"
             ],
             [
              0.7777777777777778,
              "#fb9f3a"
             ],
             [
              0.8888888888888888,
              "#fdca26"
             ],
             [
              1,
              "#f0f921"
             ]
            ],
            "type": "heatmapgl"
           }
          ],
          "histogram": [
           {
            "marker": {
             "pattern": {
              "fillmode": "overlay",
              "size": 10,
              "solidity": 0.2
             }
            },
            "type": "histogram"
           }
          ],
          "histogram2d": [
           {
            "colorbar": {
             "outlinewidth": 0,
             "ticks": ""
            },
            "colorscale": [
             [
              0,
              "#0d0887"
             ],
             [
              0.1111111111111111,
              "#46039f"
             ],
             [
              0.2222222222222222,
              "#7201a8"
             ],
             [
              0.3333333333333333,
              "#9c179e"
             ],
             [
              0.4444444444444444,
              "#bd3786"
             ],
             [
              0.5555555555555556,
              "#d8576b"
             ],
             [
              0.6666666666666666,
              "#ed7953"
             ],
             [
              0.7777777777777778,
              "#fb9f3a"
             ],
             [
              0.8888888888888888,
              "#fdca26"
             ],
             [
              1,
              "#f0f921"
             ]
            ],
            "type": "histogram2d"
           }
          ],
          "histogram2dcontour": [
           {
            "colorbar": {
             "outlinewidth": 0,
             "ticks": ""
            },
            "colorscale": [
             [
              0,
              "#0d0887"
             ],
             [
              0.1111111111111111,
              "#46039f"
             ],
             [
              0.2222222222222222,
              "#7201a8"
             ],
             [
              0.3333333333333333,
              "#9c179e"
             ],
             [
              0.4444444444444444,
              "#bd3786"
             ],
             [
              0.5555555555555556,
              "#d8576b"
             ],
             [
              0.6666666666666666,
              "#ed7953"
             ],
             [
              0.7777777777777778,
              "#fb9f3a"
             ],
             [
              0.8888888888888888,
              "#fdca26"
             ],
             [
              1,
              "#f0f921"
             ]
            ],
            "type": "histogram2dcontour"
           }
          ],
          "mesh3d": [
           {
            "colorbar": {
             "outlinewidth": 0,
             "ticks": ""
            },
            "type": "mesh3d"
           }
          ],
          "parcoords": [
           {
            "line": {
             "colorbar": {
              "outlinewidth": 0,
              "ticks": ""
             }
            },
            "type": "parcoords"
           }
          ],
          "pie": [
           {
            "automargin": true,
            "type": "pie"
           }
          ],
          "scatter": [
           {
            "fillpattern": {
             "fillmode": "overlay",
             "size": 10,
             "solidity": 0.2
            },
            "type": "scatter"
           }
          ],
          "scatter3d": [
           {
            "line": {
             "colorbar": {
              "outlinewidth": 0,
              "ticks": ""
             }
            },
            "marker": {
             "colorbar": {
              "outlinewidth": 0,
              "ticks": ""
             }
            },
            "type": "scatter3d"
           }
          ],
          "scattercarpet": [
           {
            "marker": {
             "colorbar": {
              "outlinewidth": 0,
              "ticks": ""
             }
            },
            "type": "scattercarpet"
           }
          ],
          "scattergeo": [
           {
            "marker": {
             "colorbar": {
              "outlinewidth": 0,
              "ticks": ""
             }
            },
            "type": "scattergeo"
           }
          ],
          "scattergl": [
           {
            "marker": {
             "colorbar": {
              "outlinewidth": 0,
              "ticks": ""
             }
            },
            "type": "scattergl"
           }
          ],
          "scattermapbox": [
           {
            "marker": {
             "colorbar": {
              "outlinewidth": 0,
              "ticks": ""
             }
            },
            "type": "scattermapbox"
           }
          ],
          "scatterpolar": [
           {
            "marker": {
             "colorbar": {
              "outlinewidth": 0,
              "ticks": ""
             }
            },
            "type": "scatterpolar"
           }
          ],
          "scatterpolargl": [
           {
            "marker": {
             "colorbar": {
              "outlinewidth": 0,
              "ticks": ""
             }
            },
            "type": "scatterpolargl"
           }
          ],
          "scatterternary": [
           {
            "marker": {
             "colorbar": {
              "outlinewidth": 0,
              "ticks": ""
             }
            },
            "type": "scatterternary"
           }
          ],
          "surface": [
           {
            "colorbar": {
             "outlinewidth": 0,
             "ticks": ""
            },
            "colorscale": [
             [
              0,
              "#0d0887"
             ],
             [
              0.1111111111111111,
              "#46039f"
             ],
             [
              0.2222222222222222,
              "#7201a8"
             ],
             [
              0.3333333333333333,
              "#9c179e"
             ],
             [
              0.4444444444444444,
              "#bd3786"
             ],
             [
              0.5555555555555556,
              "#d8576b"
             ],
             [
              0.6666666666666666,
              "#ed7953"
             ],
             [
              0.7777777777777778,
              "#fb9f3a"
             ],
             [
              0.8888888888888888,
              "#fdca26"
             ],
             [
              1,
              "#f0f921"
             ]
            ],
            "type": "surface"
           }
          ],
          "table": [
           {
            "cells": {
             "fill": {
              "color": "#EBF0F8"
             },
             "line": {
              "color": "white"
             }
            },
            "header": {
             "fill": {
              "color": "#C8D4E3"
             },
             "line": {
              "color": "white"
             }
            },
            "type": "table"
           }
          ]
         },
         "layout": {
          "annotationdefaults": {
           "arrowcolor": "#2a3f5f",
           "arrowhead": 0,
           "arrowwidth": 1
          },
          "autotypenumbers": "strict",
          "coloraxis": {
           "colorbar": {
            "outlinewidth": 0,
            "ticks": ""
           }
          },
          "colorscale": {
           "diverging": [
            [
             0,
             "#8e0152"
            ],
            [
             0.1,
             "#c51b7d"
            ],
            [
             0.2,
             "#de77ae"
            ],
            [
             0.3,
             "#f1b6da"
            ],
            [
             0.4,
             "#fde0ef"
            ],
            [
             0.5,
             "#f7f7f7"
            ],
            [
             0.6,
             "#e6f5d0"
            ],
            [
             0.7,
             "#b8e186"
            ],
            [
             0.8,
             "#7fbc41"
            ],
            [
             0.9,
             "#4d9221"
            ],
            [
             1,
             "#276419"
            ]
           ],
           "sequential": [
            [
             0,
             "#0d0887"
            ],
            [
             0.1111111111111111,
             "#46039f"
            ],
            [
             0.2222222222222222,
             "#7201a8"
            ],
            [
             0.3333333333333333,
             "#9c179e"
            ],
            [
             0.4444444444444444,
             "#bd3786"
            ],
            [
             0.5555555555555556,
             "#d8576b"
            ],
            [
             0.6666666666666666,
             "#ed7953"
            ],
            [
             0.7777777777777778,
             "#fb9f3a"
            ],
            [
             0.8888888888888888,
             "#fdca26"
            ],
            [
             1,
             "#f0f921"
            ]
           ],
           "sequentialminus": [
            [
             0,
             "#0d0887"
            ],
            [
             0.1111111111111111,
             "#46039f"
            ],
            [
             0.2222222222222222,
             "#7201a8"
            ],
            [
             0.3333333333333333,
             "#9c179e"
            ],
            [
             0.4444444444444444,
             "#bd3786"
            ],
            [
             0.5555555555555556,
             "#d8576b"
            ],
            [
             0.6666666666666666,
             "#ed7953"
            ],
            [
             0.7777777777777778,
             "#fb9f3a"
            ],
            [
             0.8888888888888888,
             "#fdca26"
            ],
            [
             1,
             "#f0f921"
            ]
           ]
          },
          "colorway": [
           "#636efa",
           "#EF553B",
           "#00cc96",
           "#ab63fa",
           "#FFA15A",
           "#19d3f3",
           "#FF6692",
           "#B6E880",
           "#FF97FF",
           "#FECB52"
          ],
          "font": {
           "color": "#2a3f5f"
          },
          "geo": {
           "bgcolor": "white",
           "lakecolor": "white",
           "landcolor": "#E5ECF6",
           "showlakes": true,
           "showland": true,
           "subunitcolor": "white"
          },
          "hoverlabel": {
           "align": "left"
          },
          "hovermode": "closest",
          "mapbox": {
           "style": "light"
          },
          "paper_bgcolor": "white",
          "plot_bgcolor": "#E5ECF6",
          "polar": {
           "angularaxis": {
            "gridcolor": "white",
            "linecolor": "white",
            "ticks": ""
           },
           "bgcolor": "#E5ECF6",
           "radialaxis": {
            "gridcolor": "white",
            "linecolor": "white",
            "ticks": ""
           }
          },
          "scene": {
           "xaxis": {
            "backgroundcolor": "#E5ECF6",
            "gridcolor": "white",
            "gridwidth": 2,
            "linecolor": "white",
            "showbackground": true,
            "ticks": "",
            "zerolinecolor": "white"
           },
           "yaxis": {
            "backgroundcolor": "#E5ECF6",
            "gridcolor": "white",
            "gridwidth": 2,
            "linecolor": "white",
            "showbackground": true,
            "ticks": "",
            "zerolinecolor": "white"
           },
           "zaxis": {
            "backgroundcolor": "#E5ECF6",
            "gridcolor": "white",
            "gridwidth": 2,
            "linecolor": "white",
            "showbackground": true,
            "ticks": "",
            "zerolinecolor": "white"
           }
          },
          "shapedefaults": {
           "line": {
            "color": "#2a3f5f"
           }
          },
          "ternary": {
           "aaxis": {
            "gridcolor": "white",
            "linecolor": "white",
            "ticks": ""
           },
           "baxis": {
            "gridcolor": "white",
            "linecolor": "white",
            "ticks": ""
           },
           "bgcolor": "#E5ECF6",
           "caxis": {
            "gridcolor": "white",
            "linecolor": "white",
            "ticks": ""
           }
          },
          "title": {
           "x": 0.05
          },
          "xaxis": {
           "automargin": true,
           "gridcolor": "white",
           "linecolor": "white",
           "ticks": "",
           "title": {
            "standoff": 15
           },
           "zerolinecolor": "white",
           "zerolinewidth": 2
          },
          "yaxis": {
           "automargin": true,
           "gridcolor": "white",
           "linecolor": "white",
           "ticks": "",
           "title": {
            "standoff": 15
           },
           "zerolinecolor": "white",
           "zerolinewidth": 2
          }
         }
        },
        "updatemenus": [
         {
          "active": 0,
          "buttons": [
           {
            "args": [
             {
              "visible": [
               true,
               false,
               false
              ]
             },
             {
              "coloraxis": {
               "colorbar": {
                "title": "Bewolking"
               }
              },
              "title": "Hoeveelheid bewolking per land (in percentage)"
             }
            ],
            "label": "Cloud",
            "method": "update"
           },
           {
            "args": [
             {
              "visible": [
               false,
               true,
               false
              ]
             },
             {
              "coloraxis": {
               "colorbar": {
                "title": "Happiness score"
               }
              },
              "title": "World Happiness Score by Country"
             }
            ],
            "label": "Happiness",
            "method": "update"
           },
           {
            "args": [
             {
              "visible": [
               false,
               false,
               true
              ]
             },
             {
              "coloraxis": {
               "colorbar": {
                "title": "Hoeveelheid uren zonlicht"
               }
              },
              "title": "Hoeveelheid uren zon per land (gemiddeld)"
             }
            ],
            "label": "Sunlight hours",
            "method": "update"
           }
          ],
          "direction": "right",
          "type": "buttons",
          "x": 0.5,
          "xanchor": "center",
          "y": 1.1
         }
        ],
        "width": 1000
       }
      },
      "text/html": [
       "<div>                            <div id=\"d5349aad-ffd7-4cf2-ae03-4420efd007e8\" class=\"plotly-graph-div\" style=\"height:600px; width:1000px;\"></div>            <script type=\"text/javascript\">                require([\"plotly\"], function(Plotly) {                    window.PLOTLYENV=window.PLOTLYENV || {};                                    if (document.getElementById(\"d5349aad-ffd7-4cf2-ae03-4420efd007e8\")) {                    Plotly.newPlot(                        \"d5349aad-ffd7-4cf2-ae03-4420efd007e8\",                        [{\"coloraxis\":\"coloraxis\",\"geo\":\"geo\",\"hovertemplate\":\"country=%{location}\\u003cbr\\u003ecloud=%{z}\\u003cextra\\u003e\\u003c\\u002fextra\\u003e\",\"locationmode\":\"country names\",\"locations\":[\"Afghanistan\",\"Albania\",\"Algeria\",\"Andorra\",\"Angola\",\"Antigua and Barbuda\",\"Argentina\",\"Armenia\",\"Australia\",\"Australia\",\"Austria\",\"Azerbaijan\",\"Bahamas\",\"Bahrain\",\"Bangladesh\",\"Barbados\",\"Belarus\",\"Belgium\",\"Belize\",\"Benin\",\"Bhutan\",\"Bolivia\",\"Bosnia and Herzegovina\",\"Botswana\",\"Brazil\",\"Brazil\",\"Brunei Darussalam\",\"Bulgaria\",\"Burkina Faso\",\"Burundi\",\"B\\u00e9lgica\",\"Cambodia\",\"Cameroon\",\"Canada\",\"Cape Verde\",\"Central African Republic\",\"Chad\",\"Chile\",\"China\",\"China\",\"Colombia\",\"Comoros\",\"Congo\",\"Costa Rica\",\"Croatia\",\"Cuba\",\"Cyprus\",\"Czech Republic\",\"Democratic Republic of Congo\",\"Denmark\",\"Djibouti\",\"Dominica\",\"Dominican Republic\",\"Ecuador\",\"Egypt\",\"El Salvador\",\"Equatorial Guinea\",\"Eritrea\",\"Estonia\",\"Estonie\",\"Ethiopia\",\"Fiji Islands\",\"Finland\",\"France\",\"Gabon\",\"Gambia\",\"Georgia\",\"Germany\",\"Germany\",\"Ghana\",\"Greece\",\"Grenada\",\"Guatemala\",\"Guinea\",\"Guinea-Bissau\",\"Guyana\",\"Haiti\",\"Honduras\",\"Hungary\",\"Iceland\",\"Inde\",\"India\",\"India\",\"Indonesia\",\"Iran\",\"Iraq\",\"Ireland\",\"Israel\",\"Italy\",\"Jamaica\",\"Japan\",\"Jemen\",\"Jordan\",\"Kazakhstan\",\"Kenya\",\"Kiribati\",\"Komoren\",\"Kosovo\",\"Kuwait\",\"Kyrghyzstan\",\"Lao People's Democratic Republic\",\"Latvia\",\"Lebanon\",\"Lesotho\",\"Letonia\",\"Liberia\",\"Libya\",\"Liechtenstein\",\"Lithuania\",\"Luxembourg\",\"Macedonia\",\"Madagascar\",\"Malawi\",\"Malaysia\",\"Maldives\",\"Mali\",\"Malta\",\"Mal\\u00e1sia\",\"Marrocos\",\"Marshall Islands\",\"Mauritania\",\"Mauritius\",\"Mexico\",\"Mexique\",\"Micronesia\",\"Monaco\",\"Mongolia\",\"Montenegro\",\"Morocco\",\"Mozambique\",\"Myanmar\",\"Namibia\",\"Nepal\",\"Netherlands\",\"New Zealand\",\"Nicaragua\",\"Niger\",\"Nigeria\",\"Nigeria\",\"North Korea\",\"Norway\",\"Oman\",\"Pakistan\",\"Palau\",\"Panama\",\"Papua New Guinea\",\"Paraguay\",\"Peru\",\"Philippines\",\"Poland\",\"Pol\\u00f4nia\",\"Portugal\",\"Qatar\",\"Romania\",\"Russia\",\"Russia\",\"Rwanda\",\"Saint Kitts and Nevis\",\"Saint Lucia\",\"Saint Vincent and the Grenadines\",\"Saint-Vincent-et-les-Grenadines\",\"Samoa\",\"San Marino\",\"Saudi Arabia\",\"Saudi Arabien\",\"Senegal\",\"Serbia\",\"Seychelles Islands\",\"Sierra Leone\",\"Singapore\",\"Slovakia\",\"Slovenia\",\"Solomon Islands\",\"Somalia\",\"South Africa\",\"South Korea\",\"Spain\",\"Sri Lanka\",\"Sudan\",\"Suriname\",\"Swaziland\",\"Sweden\",\"Switzerland\",\"Syria\",\"S\\u00fcdkorea\",\"Tajikistan\",\"Tanzania\",\"Thailand\",\"Timor-Leste\",\"Togo\",\"Tonga\",\"Trinidad and Tobago\",\"Tunisia\",\"Turkey\",\"Turkmenistan\",\"Turkm\\u00e9nistan\",\"Tuvalu\",\"USA United States of America\",\"Uganda\",\"Ukraine\",\"United Arab Emirates\",\"United Kingdom\",\"United States of America\",\"Uruguay\",\"Uzbekistan\",\"Vanuatu\",\"Vatican City\",\"Venezuela\",\"Vietnam\",\"Yemen\",\"Zambia\",\"Zimbabwe\",\"\\u0413\\u0432\\u0430\\u0442\\u0435\\u043c\\u0430\\u043b\\u0430\",\"\\u041f\\u043e\\u043b\\u044c\\u0448\\u0430\",\"\\u0422\\u0443\\u0440\\u0446\\u0438\\u044f\",\"\\u0643\\u0648\\u0644\\u0648\\u0645\\u0628\\u064a\\u0627\",\"\\u706b\\u9e21\"],\"name\":\"\",\"visible\":true,\"z\":[16.419213973799128,26.20524017467249,28.04824561403509,44.209606986899566,49.633187772925766,47.5353982300885,26.214912280701753,27.31877729257642,31.925764192139738,31.925764192139738,35.42982456140351,30.92543859649123,56.82666666666667,3.3668122270742358,42.18859649122807,48.083333333333336,45.53711790393013,56.558241758241756,74.59471365638767,50.89035087719298,65.05263157894737,31.29490022172949,39.68995633187773,13.030567685589519,37.87224669603524,37.87224669603524,70.01754385964912,32.265306122448976,27.57017543859649,45.61572052401747,75.0,55.23144104803494,48.47577092511013,57.48898678414097,42.35807860262009,45.75438596491228,24.646288209606986,30.334801762114537,11.135964912280702,11.135964912280702,69.0,67.91189427312776,48.078947368421055,57.57333333333333,29.68281938325991,39.629955947136565,30.17982456140351,42.99557522123894,48.903083700440526,52.574561403508774,21.123348017621144,54.87665198237885,51.64159292035398,33.220264317180614,14.596491228070175,49.10666666666667,64.4934497816594,42.082969432314414,49.969298245614034,25.0,56.08810572687225,63.02620087336245,43.0,51.76419213973799,54.81578947368421,36.98237885462555,28.070484581497798,34.92576419213974,34.92576419213974,52.03493449781659,23.26872246696035,39.008849557522126,63.50222222222222,58.97379912663755,41.18340611353712,52.76651982378855,37.77533039647577,66.79646017699115,32.213973799126634,65.8122270742358,75.0,33.17180616740088,33.17180616740088,51.28322440087146,22.013157894736842,9.68995633187773,65.60964912280701,14.714912280701755,19.95175438596491,32.76211453744494,47.60698689956332,84.0,13.283842794759826,46.219298245614034,64.64782608695653,52.25110132158591,55.0,85.0,6.851528384279476,42.6578947368421,98.0,42.87224669603524,29.17105263157895,18.94298245614035,87.0,71.4298245614035,0.0,50.75,49.81140350877193,48.290748898678416,32.99559471365639,26.75438596491228,31.99126637554585,35.379912663755455,61.18141592920354,30.03930131004367,21.074235807860262,59.0,0.0,84.57205240174673,15.043668122270743,53.6768558951965,54.06194690265487,32.0,81.46929824561404,34.28193832599119,37.38157894736842,28.092105263157894,32.59911894273128,34.80349344978166,66.87336244541484,7.118421052631579,58.87280701754386,44.73684210526316,50.7117903930131,47.216814159292035,17.80701754385965,46.698689956331876,46.698689956331876,33.82017543859649,48.1140350877193,14.20524017467249,16.964912280701753,78.00438596491227,61.00440528634361,56.85526315789474,28.419213973799128,47.56637168141593,66.30701754385964,33.56768558951965,32.0,27.863436123348016,3.307017543859649,20.25438596491228,42.8099173553719,42.8099173553719,50.578947368421055,41.48684210526316,51.780701754385966,57.77533039647577,86.0,60.097345132743364,28.853982300884955,4.762114537444934,0.0,30.502183406113538,21.855263157894736,48.969298245614034,63.52422907488987,63.506550218340614,30.719298245614034,51.7292576419214,56.213973799126634,48.12719298245614,6.104803493449782,27.12280701754386,21.0,58.30701754385965,17.592105263157894,41.26315789473684,26.289473684210527,31.912280701754387,51.55701754385965,10.912280701754385,0.0,25.767543859649123,30.353711790393014,41.65714285714286,41.691629955947135,85.0,55.07860262008734,35.4078947368421,29.403508771929825,33.53846153846154,37.60526315789474,2.0,67.23144104803494,34.333333333333336,37.74561403508772,42.532751091703055,5.406113537117904,52.74449339207048,47.20444444444445,37.99126637554585,14.174672489082969,61.12719298245614,20.08296943231441,27.277533039647576,46.693627450980394,32.12719298245614,14.807860262008735,12.977973568281937,46.0,74.0,25.0,92.0,4.0],\"type\":\"choropleth\"},{\"coloraxis\":\"coloraxis\",\"geo\":\"geo\",\"hovertemplate\":\"Country name=%{location}\\u003cbr\\u003eLadder score=%{z}\\u003cextra\\u003e\\u003c\\u002fextra\\u003e\",\"locationmode\":\"country names\",\"locations\":[\"Finland\",\"Denmark\",\"Iceland\",\"Sweden\",\"Israel\",\"Netherlands\",\"Norway\",\"Luxembourg\",\"Switzerland\",\"Australia\",\"New Zealand\",\"Costa Rica\",\"Kuwait\",\"Austria\",\"Canada\",\"Belgium\",\"Ireland\",\"Czechia\",\"Lithuania\",\"United Kingdom\",\"Slovenia\",\"United Arab Emirates\",\"United States\",\"Germany\",\"Mexico\",\"Uruguay\",\"France\",\"Saudi Arabia\",\"Kosovo\",\"Singapore\",\"Taiwan Province of China\",\"Romania\",\"El Salvador\",\"Estonia\",\"Poland\",\"Spain\",\"Serbia\",\"Chile\",\"Panama\",\"Malta\",\"Italy\",\"Guatemala\",\"Nicaragua\",\"Brazil\",\"Slovakia\",\"Latvia\",\"Uzbekistan\",\"Argentina\",\"Kazakhstan\",\"Cyprus\",\"Japan\",\"South Korea\",\"Philippines\",\"Vietnam\",\"Portugal\",\"Hungary\",\"Paraguay\",\"Thailand\",\"Malaysia\",\"China\",\"Honduras\",\"Bahrain\",\"Croatia\",\"Greece\",\"Bosnia and Herzegovina\",\"Libya\",\"Jamaica\",\"Peru\",\"Dominican Republic\",\"Mauritius\",\"Moldova\",\"Russia\",\"Bolivia\",\"Ecuador\",\"Kyrgyzstan\",\"Montenegro\",\"Mongolia\",\"Colombia\",\"Venezuela\",\"Indonesia\",\"Bulgaria\",\"Armenia\",\"South Africa\",\"North Macedonia\",\"Algeria\",\"Hong Kong S.A.R. of China\",\"Albania\",\"Tajikistan\",\"Congo (Brazzaville)\",\"Mozambique\",\"Georgia\",\"Iraq\",\"Nepal\",\"Laos\",\"Gabon\",\"Ivory Coast\",\"Guinea\",\"Turkiye\",\"Senegal\",\"Iran\",\"Azerbaijan\",\"Nigeria\",\"State of Palestine\",\"Cameroon\",\"Ukraine\",\"Namibia\",\"Morocco\",\"Pakistan\",\"Niger\",\"Burkina Faso\",\"Mauritania\",\"Gambia\",\"Chad\",\"Kenya\",\"Tunisia\",\"Benin\",\"Uganda\",\"Myanmar\",\"Cambodia\",\"Ghana\",\"Liberia\",\"Mali\",\"Madagascar\",\"Togo\",\"Jordan\",\"India\",\"Egypt\",\"Sri Lanka\",\"Bangladesh\",\"Ethiopia\",\"Tanzania\",\"Comoros\",\"Yemen\",\"Zambia\",\"Eswatini\",\"Malawi\",\"Botswana\",\"Zimbabwe\",\"Congo (Kinshasa)\",\"Sierra Leone\",\"Lesotho\",\"Lebanon\",\"Afghanistan\"],\"name\":\"\",\"visible\":false,\"z\":[7.741,7.583,7.525,7.344,7.341,7.319,7.302,7.122,7.06,7.057,7.029,6.955,6.951,6.905,6.9,6.894,6.838,6.822,6.818,6.749,6.743,6.733,6.725,6.719,6.678,6.611,6.609,6.594,6.561,6.523,6.503,6.491,6.469,6.448,6.442,6.421,6.411,6.36,6.358,6.346,6.324,6.287,6.284,6.272,6.257,6.234,6.195,6.188,6.188,6.068,6.06,6.058,6.048,6.043,6.03,6.017,5.977,5.976,5.975,5.973,5.968,5.959,5.942,5.934,5.877,5.866,5.842,5.841,5.823,5.816,5.816,5.785,5.784,5.725,5.714,5.707,5.696,5.695,5.607,5.568,5.463,5.455,5.422,5.369,5.364,5.316,5.304,5.281,5.221,5.216,5.185,5.166,5.158,5.139,5.106,5.08,5.023,4.975,4.969,4.923,4.893,4.881,4.879,4.874,4.873,4.832,4.795,4.657,4.556,4.548,4.505,4.485,4.471,4.47,4.422,4.377,4.372,4.354,4.341,4.289,4.269,4.232,4.228,4.214,4.186,4.054,3.977,3.898,3.886,3.861,3.781,3.566,3.561,3.502,3.502,3.421,3.383,3.341,3.295,3.245,3.186,2.707,1.721],\"type\":\"choropleth\"},{\"coloraxis\":\"coloraxis\",\"geo\":\"geo\",\"hovertemplate\":\"country=%{location}\\u003cbr\\u003eSunlight hours=%{z}\\u003cextra\\u003e\\u003c\\u002fextra\\u003e\",\"locationmode\":\"country names\",\"locations\":[\"Afghanistan\",\"Albania\",\"Algeria\",\"Andorra\",\"Angola\",\"Antigua and Barbuda\",\"Argentina\",\"Armenia\",\"Australia\",\"Australia\",\"Austria\",\"Azerbaijan\",\"Bahamas\",\"Bahrain\",\"Bangladesh\",\"Barbados\",\"Belarus\",\"Belgium\",\"Belize\",\"Benin\",\"Bhutan\",\"Bolivia\",\"Bosnia and Herzegovina\",\"Botswana\",\"Brazil\",\"Brazil\",\"Brunei Darussalam\",\"Bulgaria\",\"Burkina Faso\",\"Burundi\",\"B\\u00e9lgica\",\"Cambodia\",\"Cameroon\",\"Canada\",\"Cape Verde\",\"Central African Republic\",\"Chad\",\"Chile\",\"China\",\"China\",\"Colombia\",\"Comoros\",\"Congo\",\"Costa Rica\",\"Croatia\",\"Cuba\",\"Cyprus\",\"Czech Republic\",\"Democratic Republic of Congo\",\"Denmark\",\"Djibouti\",\"Dominica\",\"Dominican Republic\",\"Ecuador\",\"Egypt\",\"El Salvador\",\"Equatorial Guinea\",\"Eritrea\",\"Estonia\",\"Estonie\",\"Ethiopia\",\"Fiji Islands\",\"Finland\",\"France\",\"Gabon\",\"Gambia\",\"Georgia\",\"Germany\",\"Germany\",\"Ghana\",\"Greece\",\"Grenada\",\"Guatemala\",\"Guinea\",\"Guinea-Bissau\",\"Guyana\",\"Haiti\",\"Honduras\",\"Hungary\",\"Iceland\",\"Inde\",\"India\",\"India\",\"Indonesia\",\"Iran\",\"Iraq\",\"Ireland\",\"Israel\",\"Italy\",\"Jamaica\",\"Japan\",\"Jemen\",\"Jordan\",\"Kazakhstan\",\"Kenya\",\"Kiribati\",\"Komoren\",\"Kosovo\",\"Kuwait\",\"Kyrghyzstan\",\"Lao People's Democratic Republic\",\"Latvia\",\"Lebanon\",\"Lesotho\",\"Letonia\",\"Liberia\",\"Libya\",\"Liechtenstein\",\"Lithuania\",\"Luxembourg\",\"Macedonia\",\"Madagascar\",\"Malawi\",\"Malaysia\",\"Maldives\",\"Mali\",\"Malta\",\"Mal\\u00e1sia\",\"Marrocos\",\"Marshall Islands\",\"Mauritania\",\"Mauritius\",\"Mexico\",\"Mexique\",\"Micronesia\",\"Monaco\",\"Mongolia\",\"Montenegro\",\"Morocco\",\"Mozambique\",\"Myanmar\",\"Namibia\",\"Nepal\",\"Netherlands\",\"New Zealand\",\"Nicaragua\",\"Niger\",\"Nigeria\",\"Nigeria\",\"North Korea\",\"Norway\",\"Oman\",\"Pakistan\",\"Palau\",\"Panama\",\"Papua New Guinea\",\"Paraguay\",\"Peru\",\"Philippines\",\"Poland\",\"Pol\\u00f4nia\",\"Portugal\",\"Qatar\",\"Romania\",\"Russia\",\"Russia\",\"Rwanda\",\"Saint Kitts and Nevis\",\"Saint Lucia\",\"Saint Vincent and the Grenadines\",\"Saint-Vincent-et-les-Grenadines\",\"Samoa\",\"San Marino\",\"Saudi Arabia\",\"Saudi Arabien\",\"Senegal\",\"Serbia\",\"Seychelles Islands\",\"Sierra Leone\",\"Singapore\",\"Slovakia\",\"Slovenia\",\"Solomon Islands\",\"Somalia\",\"South Africa\",\"South Korea\",\"Spain\",\"Sri Lanka\",\"Sudan\",\"Suriname\",\"Swaziland\",\"Sweden\",\"Switzerland\",\"Syria\",\"S\\u00fcdkorea\",\"Tajikistan\",\"Tanzania\",\"Thailand\",\"Timor-Leste\",\"Togo\",\"Tonga\",\"Trinidad and Tobago\",\"Tunisia\",\"Turkey\",\"Turkmenistan\",\"Turkm\\u00e9nistan\",\"Tuvalu\",\"USA United States of America\",\"Uganda\",\"Ukraine\",\"United Arab Emirates\",\"United Kingdom\",\"United States of America\",\"Uruguay\",\"Uzbekistan\",\"Vanuatu\",\"Vatican City\",\"Venezuela\",\"Vietnam\",\"Yemen\",\"Zambia\",\"Zimbabwe\",\"\\u0413\\u0432\\u0430\\u0442\\u0435\\u043c\\u0430\\u043b\\u0430\",\"\\u041f\\u043e\\u043b\\u044c\\u0448\\u0430\",\"\\u0422\\u0443\\u0440\\u0446\\u0438\\u044f\",\"\\u0643\\u0648\\u0644\\u0648\\u0645\\u0628\\u064a\\u0627\",\"\\u706b\\u9e21\"],\"name\":\"\",\"visible\":false,\"z\":[14.5,11.07,12.05,11.08,11.65,11.98,9.82,15.05,11.25,11.25,16.08,15.07,13.73,13.82,13.63,12.68,12.18,11.13,13.2,11.88,12.02,11.6,11.08,10.57,12.32,12.32,12.52,15.33,11.72,11.8,15.57,12.63,12.45,15.68,13.07,12.48,11.72,9.92,15.03,15.03,12.38,11.58,11.75,11.73,15.73,13.6,14.55,11.13,11.75,11.2,12.63,13.08,13.28,12.1,14.1,12.7,12.52,13.1,11.28,17.98,12.6,11.0,11.3,16.18,11.75,11.68,15.22,16.85,16.85,11.92,11.07,11.72,12.73,11.73,12.65,11.75,13.3,12.72,11.12,4.52,13.82,14.0,14.0,12.13,12.05,12.03,17.0,11.02,15.23,13.27,14.6,12.97,14.27,12.13,11.73,12.15,11.45,15.3,14.05,15.35,13.2,11.22,11.03,10.23,17.32,11.9,14.3,11.1,17.32,11.12,11.08,10.95,12.57,12.52,11.88,12.68,11.05,12.37,14.23,12.45,13.28,10.87,11.98,13.22,12.43,15.47,12.12,11.07,12.03,10.48,13.17,12.25,12.02,11.15,9.17,12.65,12.72,12.6,12.6,12.07,11.28,13.62,12.03,12.57,12.53,11.68,9.77,12.52,12.73,11.17,16.57,14.9,13.75,11.08,17.55,17.55,12.03,13.22,12.72,12.68,12.83,12.55,11.08,12.0,13.53,12.75,15.6,12.28,12.52,12.33,11.12,15.77,11.68,12.37,10.5,14.77,15.08,11.77,12.67,11.92,12.27,18.62,15.9,12.03,14.53,14.88,12.33,12.72,11.65,12.47,10.78,12.62,12.05,14.65,12.05,14.55,12.42,12.55,12.13,11.13,13.68,16.65,16.07,9.78,15.18,11.02,11.07,11.73,13.45,13.1,11.15,11.02,12.9,16.17,14.72,12.65,14.65],\"type\":\"choropleth\"}],                        {\"template\":{\"data\":{\"histogram2dcontour\":[{\"type\":\"histogram2dcontour\",\"colorbar\":{\"outlinewidth\":0,\"ticks\":\"\"},\"colorscale\":[[0.0,\"#0d0887\"],[0.1111111111111111,\"#46039f\"],[0.2222222222222222,\"#7201a8\"],[0.3333333333333333,\"#9c179e\"],[0.4444444444444444,\"#bd3786\"],[0.5555555555555556,\"#d8576b\"],[0.6666666666666666,\"#ed7953\"],[0.7777777777777778,\"#fb9f3a\"],[0.8888888888888888,\"#fdca26\"],[1.0,\"#f0f921\"]]}],\"choropleth\":[{\"type\":\"choropleth\",\"colorbar\":{\"outlinewidth\":0,\"ticks\":\"\"}}],\"histogram2d\":[{\"type\":\"histogram2d\",\"colorbar\":{\"outlinewidth\":0,\"ticks\":\"\"},\"colorscale\":[[0.0,\"#0d0887\"],[0.1111111111111111,\"#46039f\"],[0.2222222222222222,\"#7201a8\"],[0.3333333333333333,\"#9c179e\"],[0.4444444444444444,\"#bd3786\"],[0.5555555555555556,\"#d8576b\"],[0.6666666666666666,\"#ed7953\"],[0.7777777777777778,\"#fb9f3a\"],[0.8888888888888888,\"#fdca26\"],[1.0,\"#f0f921\"]]}],\"heatmap\":[{\"type\":\"heatmap\",\"colorbar\":{\"outlinewidth\":0,\"ticks\":\"\"},\"colorscale\":[[0.0,\"#0d0887\"],[0.1111111111111111,\"#46039f\"],[0.2222222222222222,\"#7201a8\"],[0.3333333333333333,\"#9c179e\"],[0.4444444444444444,\"#bd3786\"],[0.5555555555555556,\"#d8576b\"],[0.6666666666666666,\"#ed7953\"],[0.7777777777777778,\"#fb9f3a\"],[0.8888888888888888,\"#fdca26\"],[1.0,\"#f0f921\"]]}],\"heatmapgl\":[{\"type\":\"heatmapgl\",\"colorbar\":{\"outlinewidth\":0,\"ticks\":\"\"},\"colorscale\":[[0.0,\"#0d0887\"],[0.1111111111111111,\"#46039f\"],[0.2222222222222222,\"#7201a8\"],[0.3333333333333333,\"#9c179e\"],[0.4444444444444444,\"#bd3786\"],[0.5555555555555556,\"#d8576b\"],[0.6666666666666666,\"#ed7953\"],[0.7777777777777778,\"#fb9f3a\"],[0.8888888888888888,\"#fdca26\"],[1.0,\"#f0f921\"]]}],\"contourcarpet\":[{\"type\":\"contourcarpet\",\"colorbar\":{\"outlinewidth\":0,\"ticks\":\"\"}}],\"contour\":[{\"type\":\"contour\",\"colorbar\":{\"outlinewidth\":0,\"ticks\":\"\"},\"colorscale\":[[0.0,\"#0d0887\"],[0.1111111111111111,\"#46039f\"],[0.2222222222222222,\"#7201a8\"],[0.3333333333333333,\"#9c179e\"],[0.4444444444444444,\"#bd3786\"],[0.5555555555555556,\"#d8576b\"],[0.6666666666666666,\"#ed7953\"],[0.7777777777777778,\"#fb9f3a\"],[0.8888888888888888,\"#fdca26\"],[1.0,\"#f0f921\"]]}],\"surface\":[{\"type\":\"surface\",\"colorbar\":{\"outlinewidth\":0,\"ticks\":\"\"},\"colorscale\":[[0.0,\"#0d0887\"],[0.1111111111111111,\"#46039f\"],[0.2222222222222222,\"#7201a8\"],[0.3333333333333333,\"#9c179e\"],[0.4444444444444444,\"#bd3786\"],[0.5555555555555556,\"#d8576b\"],[0.6666666666666666,\"#ed7953\"],[0.7777777777777778,\"#fb9f3a\"],[0.8888888888888888,\"#fdca26\"],[1.0,\"#f0f921\"]]}],\"mesh3d\":[{\"type\":\"mesh3d\",\"colorbar\":{\"outlinewidth\":0,\"ticks\":\"\"}}],\"scatter\":[{\"fillpattern\":{\"fillmode\":\"overlay\",\"size\":10,\"solidity\":0.2},\"type\":\"scatter\"}],\"parcoords\":[{\"type\":\"parcoords\",\"line\":{\"colorbar\":{\"outlinewidth\":0,\"ticks\":\"\"}}}],\"scatterpolargl\":[{\"type\":\"scatterpolargl\",\"marker\":{\"colorbar\":{\"outlinewidth\":0,\"ticks\":\"\"}}}],\"bar\":[{\"error_x\":{\"color\":\"#2a3f5f\"},\"error_y\":{\"color\":\"#2a3f5f\"},\"marker\":{\"line\":{\"color\":\"#E5ECF6\",\"width\":0.5},\"pattern\":{\"fillmode\":\"overlay\",\"size\":10,\"solidity\":0.2}},\"type\":\"bar\"}],\"scattergeo\":[{\"type\":\"scattergeo\",\"marker\":{\"colorbar\":{\"outlinewidth\":0,\"ticks\":\"\"}}}],\"scatterpolar\":[{\"type\":\"scatterpolar\",\"marker\":{\"colorbar\":{\"outlinewidth\":0,\"ticks\":\"\"}}}],\"histogram\":[{\"marker\":{\"pattern\":{\"fillmode\":\"overlay\",\"size\":10,\"solidity\":0.2}},\"type\":\"histogram\"}],\"scattergl\":[{\"type\":\"scattergl\",\"marker\":{\"colorbar\":{\"outlinewidth\":0,\"ticks\":\"\"}}}],\"scatter3d\":[{\"type\":\"scatter3d\",\"line\":{\"colorbar\":{\"outlinewidth\":0,\"ticks\":\"\"}},\"marker\":{\"colorbar\":{\"outlinewidth\":0,\"ticks\":\"\"}}}],\"scattermapbox\":[{\"type\":\"scattermapbox\",\"marker\":{\"colorbar\":{\"outlinewidth\":0,\"ticks\":\"\"}}}],\"scatterternary\":[{\"type\":\"scatterternary\",\"marker\":{\"colorbar\":{\"outlinewidth\":0,\"ticks\":\"\"}}}],\"scattercarpet\":[{\"type\":\"scattercarpet\",\"marker\":{\"colorbar\":{\"outlinewidth\":0,\"ticks\":\"\"}}}],\"carpet\":[{\"aaxis\":{\"endlinecolor\":\"#2a3f5f\",\"gridcolor\":\"white\",\"linecolor\":\"white\",\"minorgridcolor\":\"white\",\"startlinecolor\":\"#2a3f5f\"},\"baxis\":{\"endlinecolor\":\"#2a3f5f\",\"gridcolor\":\"white\",\"linecolor\":\"white\",\"minorgridcolor\":\"white\",\"startlinecolor\":\"#2a3f5f\"},\"type\":\"carpet\"}],\"table\":[{\"cells\":{\"fill\":{\"color\":\"#EBF0F8\"},\"line\":{\"color\":\"white\"}},\"header\":{\"fill\":{\"color\":\"#C8D4E3\"},\"line\":{\"color\":\"white\"}},\"type\":\"table\"}],\"barpolar\":[{\"marker\":{\"line\":{\"color\":\"#E5ECF6\",\"width\":0.5},\"pattern\":{\"fillmode\":\"overlay\",\"size\":10,\"solidity\":0.2}},\"type\":\"barpolar\"}],\"pie\":[{\"automargin\":true,\"type\":\"pie\"}]},\"layout\":{\"autotypenumbers\":\"strict\",\"colorway\":[\"#636efa\",\"#EF553B\",\"#00cc96\",\"#ab63fa\",\"#FFA15A\",\"#19d3f3\",\"#FF6692\",\"#B6E880\",\"#FF97FF\",\"#FECB52\"],\"font\":{\"color\":\"#2a3f5f\"},\"hovermode\":\"closest\",\"hoverlabel\":{\"align\":\"left\"},\"paper_bgcolor\":\"white\",\"plot_bgcolor\":\"#E5ECF6\",\"polar\":{\"bgcolor\":\"#E5ECF6\",\"angularaxis\":{\"gridcolor\":\"white\",\"linecolor\":\"white\",\"ticks\":\"\"},\"radialaxis\":{\"gridcolor\":\"white\",\"linecolor\":\"white\",\"ticks\":\"\"}},\"ternary\":{\"bgcolor\":\"#E5ECF6\",\"aaxis\":{\"gridcolor\":\"white\",\"linecolor\":\"white\",\"ticks\":\"\"},\"baxis\":{\"gridcolor\":\"white\",\"linecolor\":\"white\",\"ticks\":\"\"},\"caxis\":{\"gridcolor\":\"white\",\"linecolor\":\"white\",\"ticks\":\"\"}},\"coloraxis\":{\"colorbar\":{\"outlinewidth\":0,\"ticks\":\"\"}},\"colorscale\":{\"sequential\":[[0.0,\"#0d0887\"],[0.1111111111111111,\"#46039f\"],[0.2222222222222222,\"#7201a8\"],[0.3333333333333333,\"#9c179e\"],[0.4444444444444444,\"#bd3786\"],[0.5555555555555556,\"#d8576b\"],[0.6666666666666666,\"#ed7953\"],[0.7777777777777778,\"#fb9f3a\"],[0.8888888888888888,\"#fdca26\"],[1.0,\"#f0f921\"]],\"sequentialminus\":[[0.0,\"#0d0887\"],[0.1111111111111111,\"#46039f\"],[0.2222222222222222,\"#7201a8\"],[0.3333333333333333,\"#9c179e\"],[0.4444444444444444,\"#bd3786\"],[0.5555555555555556,\"#d8576b\"],[0.6666666666666666,\"#ed7953\"],[0.7777777777777778,\"#fb9f3a\"],[0.8888888888888888,\"#fdca26\"],[1.0,\"#f0f921\"]],\"diverging\":[[0,\"#8e0152\"],[0.1,\"#c51b7d\"],[0.2,\"#de77ae\"],[0.3,\"#f1b6da\"],[0.4,\"#fde0ef\"],[0.5,\"#f7f7f7\"],[0.6,\"#e6f5d0\"],[0.7,\"#b8e186\"],[0.8,\"#7fbc41\"],[0.9,\"#4d9221\"],[1,\"#276419\"]]},\"xaxis\":{\"gridcolor\":\"white\",\"linecolor\":\"white\",\"ticks\":\"\",\"title\":{\"standoff\":15},\"zerolinecolor\":\"white\",\"automargin\":true,\"zerolinewidth\":2},\"yaxis\":{\"gridcolor\":\"white\",\"linecolor\":\"white\",\"ticks\":\"\",\"title\":{\"standoff\":15},\"zerolinecolor\":\"white\",\"automargin\":true,\"zerolinewidth\":2},\"scene\":{\"xaxis\":{\"backgroundcolor\":\"#E5ECF6\",\"gridcolor\":\"white\",\"linecolor\":\"white\",\"showbackground\":true,\"ticks\":\"\",\"zerolinecolor\":\"white\",\"gridwidth\":2},\"yaxis\":{\"backgroundcolor\":\"#E5ECF6\",\"gridcolor\":\"white\",\"linecolor\":\"white\",\"showbackground\":true,\"ticks\":\"\",\"zerolinecolor\":\"white\",\"gridwidth\":2},\"zaxis\":{\"backgroundcolor\":\"#E5ECF6\",\"gridcolor\":\"white\",\"linecolor\":\"white\",\"showbackground\":true,\"ticks\":\"\",\"zerolinecolor\":\"white\",\"gridwidth\":2}},\"shapedefaults\":{\"line\":{\"color\":\"#2a3f5f\"}},\"annotationdefaults\":{\"arrowcolor\":\"#2a3f5f\",\"arrowhead\":0,\"arrowwidth\":1},\"geo\":{\"bgcolor\":\"white\",\"landcolor\":\"#E5ECF6\",\"subunitcolor\":\"white\",\"showland\":true,\"showlakes\":true,\"lakecolor\":\"white\"},\"title\":{\"x\":0.05},\"mapbox\":{\"style\":\"light\"}}},\"coloraxis\":{\"colorbar\":{\"title\":{\"text\":\"Bewolking\"}}},\"updatemenus\":[{\"active\":0,\"buttons\":[{\"args\":[{\"visible\":[true,false,false]},{\"title\":\"Hoeveelheid bewolking per land (in percentage)\",\"coloraxis\":{\"colorbar\":{\"title\":\"Bewolking\"}}}],\"label\":\"Cloud\",\"method\":\"update\"},{\"args\":[{\"visible\":[false,true,false]},{\"title\":\"World Happiness Score by Country\",\"coloraxis\":{\"colorbar\":{\"title\":\"Happiness score\"}}}],\"label\":\"Happiness\",\"method\":\"update\"},{\"args\":[{\"visible\":[false,false,true]},{\"title\":\"Hoeveelheid uren zon per land (gemiddeld)\",\"coloraxis\":{\"colorbar\":{\"title\":\"Hoeveelheid uren zonlicht\"}}}],\"label\":\"Sunlight hours\",\"method\":\"update\"}],\"direction\":\"right\",\"type\":\"buttons\",\"x\":0.5,\"xanchor\":\"center\",\"y\":1.1}],\"width\":1000,\"height\":600,\"geo\":{\"projection\":{\"type\":\"natural earth\"}}},                        {\"responsive\": true}                    ).then(function(){\n",
       "                            \n",
       "var gd = document.getElementById('d5349aad-ffd7-4cf2-ae03-4420efd007e8');\n",
       "var x = new MutationObserver(function (mutations, observer) {{\n",
       "        var display = window.getComputedStyle(gd).display;\n",
       "        if (!display || display === 'none') {{\n",
       "            console.log([gd, 'removed!']);\n",
       "            Plotly.purge(gd);\n",
       "            observer.disconnect();\n",
       "        }}\n",
       "}});\n",
       "\n",
       "// Listen for the removal of the full notebook cells\n",
       "var notebookContainer = gd.closest('#notebook-container');\n",
       "if (notebookContainer) {{\n",
       "    x.observe(notebookContainer, {childList: true});\n",
       "}}\n",
       "\n",
       "// Listen for the clearing of the current output cell\n",
       "var outputEl = gd.closest('.output');\n",
       "if (outputEl) {{\n",
       "    x.observe(outputEl, {childList: true});\n",
       "}}\n",
       "\n",
       "                        })                };                });            </script>        </div>"
      ]
     },
     "metadata": {},
     "output_type": "display_data"
    }
   ],
   "source": [
    "fighappy = px.choropleth(\n",
    "    df1,\n",
    "    locations='Country name',\n",
    "    locationmode='country names',\n",
    "    color='Ladder score',\n",
    "    color_continuous_scale='Sunset',\n",
    "    title='World Happiness Score by Country'\n",
    ")\n",
    "\n",
    "# Adjust size\n",
    "fighappy.update_layout(width=1000, height=600)\n",
    "\n",
    "# Adjust projection & zoom\n",
    "fighappy.update_geos(projection_type='natural earth') # Figuur voor happiness score per land\n",
    "\n",
    "sunhoursfig = px.choropleth(\n",
    "    df123,\n",
    "    locations='country',\n",
    "    locationmode='country names',\n",
    "    color='Sunlight hours',\n",
    "    color_continuous_scale='Sunset',\n",
    "    title='Hoeveelheid uren zon per land (gemiddeld)'\n",
    ")\n",
    "# Adjust size\n",
    "sunhoursfig.update_layout(width=1000, height=600)\n",
    "\n",
    "# Adjust projection & zoom\n",
    "sunhoursfig.update_geos(projection_type='natural earth') # Figuur voor aantal uren zonlicht per land\n",
    "# Dit is data die is genomen van de mode, dus het gemiddelde van de meest voorkomende waarden. denk ik.\n",
    "\n",
    "cloudfig = px.choropleth(\n",
    "    df123,\n",
    "    locations='country',\n",
    "    locationmode='country names',\n",
    "    color='cloud',\n",
    "    color_continuous_scale='Sunset',\n",
    "    title='Hoeveelheid bewolking per land (in percentage)'\n",
    ")\n",
    "\n",
    "# Adjust size\n",
    "cloudfig.update_layout(width=1000, height=600)\n",
    "\n",
    "# Adjust projection & zoom\n",
    "cloudfig.update_geos(projection_type='natural earth')   # Figuur van cloudiness in % per land\n",
    "\n",
    "# traces maken van fig data\n",
    "cloud_trace = cloudfig.data[0]\n",
    "happiness_trace = fighappy.data[0]\n",
    "sunhours_trace = sunhoursfig.data[0]\n",
    "\n",
    "# Zo is de eerste zichtbaar als eerst\n",
    "cloud_trace.visible = True\n",
    "happiness_trace.visible = False\n",
    "sunhours_trace.visible = False\n",
    "\n",
    "# Issue met de kleur legenda ding fixen\n",
    "cloud_trace.coloraxis = \"coloraxis\"\n",
    "happiness_trace.coloraxis = \"coloraxis\"\n",
    "sunhours_trace.coloraxis = \"coloraxis\"\n",
    "\n",
    "figcombi = go.Figure(data=[cloud_trace, happiness_trace, sunhours_trace])\n",
    "\n",
    "figcombi.update_layout(\n",
    "    coloraxis = dict(colorbar=dict(title=\"Bewolking\")),  # Het moment dat je kiest voor een andere, verdwijnt de tekst boven de color legenda...\n",
    "    updatemenus=[\n",
    "        dict(\n",
    "            type=\"buttons\",\n",
    "            direction=\"right\",\n",
    "            active=0,\n",
    "            x=0.5,\n",
    "            y=1.1,\n",
    "            xanchor=\"center\",\n",
    "            buttons=[\n",
    "                dict(label=\"Cloud\",\n",
    "                     method=\"update\",\n",
    "                     args=[{\"visible\": [True, False, False]},\n",
    "                           {\"title\": cloudfig.layout.title.text,\n",
    "                            \"coloraxis\": dict(colorbar=dict(title=\"Bewolking\")) # Werkt niet, maar hoe wel? iig beter dan verkeerde legenda ig\n",
    "                           }]),\n",
    "                dict(label=\"Happiness\",\n",
    "                     method=\"update\",\n",
    "                     args=[{\"visible\": [False, True, False]},\n",
    "                           {\"title\": fighappy.layout.title.text,\n",
    "                           \"coloraxis\": dict(colorbar=dict(title=\"Happiness score\"))\n",
    "                           }]),\n",
    "                dict(label=\"Sunlight hours\",\n",
    "                     method=\"update\",\n",
    "                     args=[{\"visible\": [False, False, True]},\n",
    "                           {\"title\": sunhoursfig.layout.title.text,\n",
    "                            \"coloraxis\": dict(colorbar=dict(title=\"Hoeveelheid uren zonlicht\"))\n",
    "                           }]),\n",
    "            ])])\n",
    "figcombi.update_layout(width=1000, height=600)\n",
    "figcombi.update_geos(projection_type='natural earth')\n",
    "figcombi.show()  # Combi van de 3"
   ]
  },
  {
   "cell_type": "markdown",
   "id": "3d9aa93f-01e9-45ff-bb36-1290e8976ab5",
   "metadata": {},
   "source": [
    "> *Figuur 7: Drie interactieve wereldkaarten gecombineerd. Door te klikken op de tabs, kan er gefilterd worden op een variabele. Landen zonder gegevens zijn grijswit gekleurd.*"
   ]
  },
  {
   "cell_type": "code",
   "execution_count": 10,
   "id": "adb426dd-8faf-4f42-bdd3-1f81f2ca9203",
   "metadata": {
    "editable": true,
    "slideshow": {
     "slide_type": ""
    },
    "tags": [
     "hide-input"
    ]
   },
   "outputs": [
    {
     "data": {
      "application/vnd.plotly.v1+json": {
       "config": {
        "plotlyServerURL": "https://plot.ly"
       },
       "data": [
        {
         "marker": {
          "color": [
           22.69694323144105,
           25.02227074235808,
           25.15438596491228,
           14.105676855895195,
           26.33580786026201,
           27.93185840707965,
           13.177631578947368,
           22.62052401746725,
           9.911790393013101,
           9.911790393013101,
           18.178947368421053,
           22.427192982456138,
           26.91911111111111,
           32.7117903930131,
           29.846491228070175,
           28.227192982456142,
           15.893013100436681,
           15.645934065934066,
           24.026872246696037,
           29.106578947368423,
           12.683333333333334,
           18.28580931263858,
           19.579912663755458,
           27.055458515283842,
           26.856828193832598,
           26.856828193832598,
           28.01359649122807,
           21.499795918367347,
           30.583771929824564,
           27.496943231441048,
           17.4,
           29.799126637554586,
           24.986784140969164,
           11.045374449339208,
           26.71004366812227,
           30.84780701754386,
           31.689956331877728,
           9.398678414096917,
           19.4390350877193,
           19.4390350877193,
           13.5,
           25.76035242290749,
           29.773684210526316,
           18.223555555555556,
           20.00088105726872,
           25.40352422907489,
           28.92105263157895,
           16.326106194690265,
           29.662114537444936,
           14.864473684210527,
           33.71674008810572,
           27.931277533039648,
           25.70486725663717,
           11.094273127753304,
           30.751315789473686,
           22.07466666666667,
           27.134497816593885,
           21.824890829694322,
           14.368421052631579,
           23.3,
           20.505286343612333,
           23.397816593886464,
           14.239737991266376,
           16.955458515283844,
           27.61798245614035,
           28.163876651982378,
           21.36079295154185,
           17.211353711790395,
           17.211353711790395,
           28.25720524017467,
           26.6784140969163,
           28.207964601769913,
           17.41111111111111,
           26.956768558951968,
           28.360698689956333,
           26.024229074889867,
           24.97180616740088,
           18.90929203539823,
           19.74235807860262,
           6.769432314410481,
           31.2,
           32.13348017621146,
           32.13348017621146,
           26.808496732026146,
           23.588815789473685,
           35.33580786026201,
           13.483771929824563,
           25.742105263157892,
           24.035087719298247,
           28.027753303964758,
           22.009606986899563,
           26.1,
           26.631004366812228,
           12.075877192982457,
           23.30086956521739,
           28.37224669603524,
           25.2,
           29.3,
           35.68296943231441,
           18.375877192982454,
           25,
           15.704405286343613,
           25.969736842105263,
           21.133333333333333,
           20.6,
           27.108771929824563,
           27,
           13.82719298245614,
           15.525877192982456,
           14.411013215859032,
           23.333920704845816,
           27.181140350877193,
           27.13231441048035,
           28.33711790393013,
           28.081858407079647,
           29.43580786026201,
           25.733624454148472,
           24.3,
           40.3,
           28.33231441048035,
           26.358515283842795,
           25.01528384279476,
           14.369911504424778,
           27.4,
           27.435087719298245,
           21.047577092511013,
           5.561842105263158,
           23.79605263157895,
           22.718502202643172,
           26.868995633187772,
           28.606550218340608,
           25.891666666666666,
           22.147368421052633,
           15.667543859649122,
           12.035807860262008,
           24.383185840707966,
           31.850438596491227,
           29.04934497816594,
           29.04934497816594,
           16.15657894736842,
           10.679385964912282,
           32.57510917030567,
           30.546491228070177,
           27.63421052631579,
           25.83832599118943,
           25.90921052631579,
           21.127947598253275,
           16.539823008849556,
           29.045614035087716,
           17.57117903930131,
           27.7,
           20.751541850220267,
           35.14035087719298,
           21.954385964912284,
           15.618181818181817,
           15.618181818181817,
           26.521491228070175,
           28.28377192982456,
           28.046491228070177,
           28.69647577092511,
           27.8,
           25.509734513274335,
           20.953982300884956,
           36.25550660792952,
           45,
           27.32532751091703,
           21.262719298245614,
           27.90921052631579,
           26.97973568281938,
           28.80655021834061,
           18.553947368421053,
           18.26375545851528,
           26.078602620087338,
           28.678947368421053,
           23.500873362445414,
           18.56315789473684,
           21.760087719298248,
           29.078070175438597,
           32.60087719298246,
           25.850438596491227,
           23.769298245614035,
           14.560964912280703,
           15.997368421052633,
           28.618859649122808,
           26.1,
           24.714473684210525,
           28.039737991266378,
           29.27098901098901,
           25.670484581497796,
           27.9,
           22.747598253275108,
           26.825438596491228,
           27.042543859649122,
           23.3632967032967,
           26.25482456140351,
           37.8,
           28.666812227074235,
           24.53333333333333,
           26.473684210526315,
           18.504366812227076,
           33.93973799126638,
           15.58590308370044,
           9.506222222222222,
           13.151528384279475,
           24.602183406113536,
           23.385964912280702,
           24.024454148471616,
           23.02863436123348,
           26.532107843137254,
           23.580701754385963,
           28.12227074235808,
           26.427312775330396,
           15.9,
           24.2,
           34,
           23.1,
           29.7
          ],
          "colorbar": {
           "title": {
            "text": "Temp (°C)"
           }
          },
          "colorscale": [
           [
            0,
            "rgb(3, 35, 51)"
           ],
           [
            0.09090909090909091,
            "rgb(13, 48, 100)"
           ],
           [
            0.18181818181818182,
            "rgb(53, 50, 155)"
           ],
           [
            0.2727272727272727,
            "rgb(93, 62, 153)"
           ],
           [
            0.36363636363636365,
            "rgb(126, 77, 143)"
           ],
           [
            0.45454545454545453,
            "rgb(158, 89, 135)"
           ],
           [
            0.5454545454545454,
            "rgb(193, 100, 121)"
           ],
           [
            0.6363636363636364,
            "rgb(225, 113, 97)"
           ],
           [
            0.7272727272727273,
            "rgb(246, 139, 69)"
           ],
           [
            0.8181818181818182,
            "rgb(251, 173, 60)"
           ],
           [
            0.9090909090909091,
            "rgb(246, 211, 70)"
           ],
           [
            1,
            "rgb(231, 250, 90)"
           ]
          ],
          "showscale": true
         },
         "mode": "markers",
         "name": "Gemiddelde temperatuur",
         "text": [
          "Afghanistan",
          "Albania",
          "Algeria",
          "Andorra",
          "Angola",
          "Antigua and Barbuda",
          "Argentina",
          "Armenia",
          "Australia",
          "Australia",
          "Austria",
          "Azerbaijan",
          "Bahamas",
          "Bahrain",
          "Bangladesh",
          "Barbados",
          "Belarus",
          "Belgium",
          "Belize",
          "Benin",
          "Bhutan",
          "Bolivia",
          "Bosnia and Herzegovina",
          "Botswana",
          "Brazil",
          "Brazil",
          "Brunei Darussalam",
          "Bulgaria",
          "Burkina Faso",
          "Burundi",
          "Bélgica",
          "Cambodia",
          "Cameroon",
          "Canada",
          "Cape Verde",
          "Central African Republic",
          "Chad",
          "Chile",
          "China",
          "China",
          "Colombia",
          "Comoros",
          "Congo",
          "Costa Rica",
          "Croatia",
          "Cuba",
          "Cyprus",
          "Czech Republic",
          "Democratic Republic of Congo",
          "Denmark",
          "Djibouti",
          "Dominica",
          "Dominican Republic",
          "Ecuador",
          "Egypt",
          "El Salvador",
          "Equatorial Guinea",
          "Eritrea",
          "Estonia",
          "Estonie",
          "Ethiopia",
          "Fiji Islands",
          "Finland",
          "France",
          "Gabon",
          "Gambia",
          "Georgia",
          "Germany",
          "Germany",
          "Ghana",
          "Greece",
          "Grenada",
          "Guatemala",
          "Guinea",
          "Guinea-Bissau",
          "Guyana",
          "Haiti",
          "Honduras",
          "Hungary",
          "Iceland",
          "Inde",
          "India",
          "India",
          "Indonesia",
          "Iran",
          "Iraq",
          "Ireland",
          "Israel",
          "Italy",
          "Jamaica",
          "Japan",
          "Jemen",
          "Jordan",
          "Kazakhstan",
          "Kenya",
          "Kiribati",
          "Komoren",
          "Kosovo",
          "Kuwait",
          "Kyrghyzstan",
          "Lao People's Democratic Republic",
          "Latvia",
          "Lebanon",
          "Lesotho",
          "Letonia",
          "Liberia",
          "Libya",
          "Liechtenstein",
          "Lithuania",
          "Luxembourg",
          "Macedonia",
          "Madagascar",
          "Malawi",
          "Malaysia",
          "Maldives",
          "Mali",
          "Malta",
          "Malásia",
          "Marrocos",
          "Marshall Islands",
          "Mauritania",
          "Mauritius",
          "Mexico",
          "Mexique",
          "Micronesia",
          "Monaco",
          "Mongolia",
          "Montenegro",
          "Morocco",
          "Mozambique",
          "Myanmar",
          "Namibia",
          "Nepal",
          "Netherlands",
          "New Zealand",
          "Nicaragua",
          "Niger",
          "Nigeria",
          "Nigeria",
          "North Korea",
          "Norway",
          "Oman",
          "Pakistan",
          "Palau",
          "Panama",
          "Papua New Guinea",
          "Paraguay",
          "Peru",
          "Philippines",
          "Poland",
          "Polônia",
          "Portugal",
          "Qatar",
          "Romania",
          "Russia",
          "Russia",
          "Rwanda",
          "Saint Kitts and Nevis",
          "Saint Lucia",
          "Saint Vincent and the Grenadines",
          "Saint-Vincent-et-les-Grenadines",
          "Samoa",
          "San Marino",
          "Saudi Arabia",
          "Saudi Arabien",
          "Senegal",
          "Serbia",
          "Seychelles Islands",
          "Sierra Leone",
          "Singapore",
          "Slovakia",
          "Slovenia",
          "Solomon Islands",
          "Somalia",
          "South Africa",
          "South Korea",
          "Spain",
          "Sri Lanka",
          "Sudan",
          "Suriname",
          "Swaziland",
          "Sweden",
          "Switzerland",
          "Syria",
          "Südkorea",
          "Tajikistan",
          "Tanzania",
          "Thailand",
          "Timor-Leste",
          "Togo",
          "Tonga",
          "Trinidad and Tobago",
          "Tunisia",
          "Turkey",
          "Turkmenistan",
          "Turkménistan",
          "Tuvalu",
          "USA United States of America",
          "Uganda",
          "Ukraine",
          "United Arab Emirates",
          "United Kingdom",
          "United States of America",
          "Uruguay",
          "Uzbekistan",
          "Vanuatu",
          "Vatican City",
          "Venezuela",
          "Vietnam",
          "Yemen",
          "Zambia",
          "Zimbabwe",
          "Гватемала",
          "Польша",
          "Турция",
          "كولومبيا",
          "火鸡"
         ],
         "type": "scatter",
         "x": [
          22.69694323144105,
          25.02227074235808,
          25.15438596491228,
          14.105676855895195,
          26.33580786026201,
          27.93185840707965,
          13.177631578947368,
          22.62052401746725,
          9.911790393013101,
          9.911790393013101,
          18.178947368421053,
          22.427192982456138,
          26.91911111111111,
          32.7117903930131,
          29.846491228070175,
          28.227192982456142,
          15.893013100436681,
          15.645934065934066,
          24.026872246696037,
          29.106578947368423,
          12.683333333333334,
          18.28580931263858,
          19.579912663755458,
          27.055458515283842,
          26.856828193832598,
          26.856828193832598,
          28.01359649122807,
          21.499795918367347,
          30.583771929824564,
          27.496943231441048,
          17.4,
          29.799126637554586,
          24.986784140969164,
          11.045374449339208,
          26.71004366812227,
          30.84780701754386,
          31.689956331877728,
          9.398678414096917,
          19.4390350877193,
          19.4390350877193,
          13.5,
          25.76035242290749,
          29.773684210526316,
          18.223555555555556,
          20.00088105726872,
          25.40352422907489,
          28.92105263157895,
          16.326106194690265,
          29.662114537444936,
          14.864473684210527,
          33.71674008810572,
          27.931277533039648,
          25.70486725663717,
          11.094273127753304,
          30.751315789473686,
          22.07466666666667,
          27.134497816593885,
          21.824890829694322,
          14.368421052631579,
          23.3,
          20.505286343612333,
          23.397816593886464,
          14.239737991266376,
          16.955458515283844,
          27.61798245614035,
          28.163876651982378,
          21.36079295154185,
          17.211353711790395,
          17.211353711790395,
          28.25720524017467,
          26.6784140969163,
          28.207964601769913,
          17.41111111111111,
          26.956768558951968,
          28.360698689956333,
          26.024229074889867,
          24.97180616740088,
          18.90929203539823,
          19.74235807860262,
          6.769432314410481,
          31.2,
          32.13348017621146,
          32.13348017621146,
          26.808496732026146,
          23.588815789473685,
          35.33580786026201,
          13.483771929824563,
          25.742105263157892,
          24.035087719298247,
          28.027753303964758,
          22.009606986899563,
          26.1,
          26.631004366812228,
          12.075877192982457,
          23.30086956521739,
          28.37224669603524,
          25.2,
          29.3,
          35.68296943231441,
          18.375877192982454,
          25,
          15.704405286343613,
          25.969736842105263,
          21.133333333333333,
          20.6,
          27.108771929824563,
          27,
          13.82719298245614,
          15.525877192982456,
          14.411013215859032,
          23.333920704845816,
          27.181140350877193,
          27.13231441048035,
          28.33711790393013,
          28.081858407079647,
          29.43580786026201,
          25.733624454148472,
          24.3,
          40.3,
          28.33231441048035,
          26.358515283842795,
          25.01528384279476,
          14.369911504424778,
          27.4,
          27.435087719298245,
          21.047577092511013,
          5.561842105263158,
          23.79605263157895,
          22.718502202643172,
          26.868995633187772,
          28.606550218340608,
          25.891666666666666,
          22.147368421052633,
          15.667543859649122,
          12.035807860262008,
          24.383185840707966,
          31.850438596491227,
          29.04934497816594,
          29.04934497816594,
          16.15657894736842,
          10.679385964912282,
          32.57510917030567,
          30.546491228070177,
          27.63421052631579,
          25.83832599118943,
          25.90921052631579,
          21.127947598253275,
          16.539823008849556,
          29.045614035087716,
          17.57117903930131,
          27.7,
          20.751541850220267,
          35.14035087719298,
          21.954385964912284,
          15.618181818181817,
          15.618181818181817,
          26.521491228070175,
          28.28377192982456,
          28.046491228070177,
          28.69647577092511,
          27.8,
          25.509734513274335,
          20.953982300884956,
          36.25550660792952,
          45,
          27.32532751091703,
          21.262719298245614,
          27.90921052631579,
          26.97973568281938,
          28.80655021834061,
          18.553947368421053,
          18.26375545851528,
          26.078602620087338,
          28.678947368421053,
          23.500873362445414,
          18.56315789473684,
          21.760087719298248,
          29.078070175438597,
          32.60087719298246,
          25.850438596491227,
          23.769298245614035,
          14.560964912280703,
          15.997368421052633,
          28.618859649122808,
          26.1,
          24.714473684210525,
          28.039737991266378,
          29.27098901098901,
          25.670484581497796,
          27.9,
          22.747598253275108,
          26.825438596491228,
          27.042543859649122,
          23.3632967032967,
          26.25482456140351,
          37.8,
          28.666812227074235,
          24.53333333333333,
          26.473684210526315,
          18.504366812227076,
          33.93973799126638,
          15.58590308370044,
          9.506222222222222,
          13.151528384279475,
          24.602183406113536,
          23.385964912280702,
          24.024454148471616,
          23.02863436123348,
          26.532107843137254,
          23.580701754385963,
          28.12227074235808,
          26.427312775330396,
          15.9,
          24.2,
          34,
          23.1,
          29.7
         ],
         "y": [
          1.721,
          5.304,
          5.364,
          null,
          null,
          null,
          6.188,
          5.455,
          7.057,
          7.057,
          6.905,
          4.893,
          null,
          5.959,
          3.886,
          null,
          null,
          6.894,
          null,
          4.377,
          null,
          5.784,
          5.877,
          3.383,
          6.272,
          6.272,
          null,
          5.463,
          4.548,
          null,
          null,
          4.341,
          4.874,
          6.9,
          null,
          null,
          4.471,
          6.36,
          5.973,
          5.973,
          5.695,
          3.566,
          null,
          6.955,
          5.942,
          null,
          6.068,
          null,
          null,
          7.583,
          null,
          null,
          5.823,
          5.725,
          3.977,
          6.469,
          null,
          null,
          6.448,
          null,
          3.861,
          null,
          7.741,
          6.609,
          5.106,
          4.485,
          5.185,
          6.719,
          6.719,
          4.289,
          5.934,
          null,
          6.287,
          5.023,
          null,
          null,
          null,
          5.968,
          6.017,
          7.525,
          null,
          4.054,
          4.054,
          5.568,
          4.923,
          5.166,
          6.838,
          7.341,
          6.324,
          5.842,
          6.06,
          null,
          4.186,
          6.188,
          4.47,
          null,
          null,
          6.561,
          6.951,
          null,
          null,
          6.234,
          2.707,
          3.186,
          null,
          4.269,
          5.866,
          null,
          6.818,
          7.122,
          null,
          4.228,
          3.421,
          5.975,
          null,
          4.232,
          6.346,
          null,
          null,
          null,
          4.505,
          5.816,
          6.678,
          null,
          null,
          null,
          5.696,
          5.707,
          4.795,
          5.216,
          4.354,
          4.832,
          5.158,
          7.319,
          7.029,
          6.284,
          4.556,
          4.881,
          4.881,
          null,
          7.302,
          null,
          4.657,
          null,
          6.358,
          null,
          5.977,
          5.841,
          6.048,
          6.442,
          null,
          6.03,
          null,
          6.491,
          5.785,
          5.785,
          null,
          null,
          null,
          null,
          null,
          null,
          null,
          6.594,
          null,
          4.969,
          6.411,
          null,
          3.245,
          6.523,
          6.257,
          6.743,
          null,
          null,
          5.422,
          6.058,
          6.421,
          3.898,
          null,
          null,
          null,
          7.344,
          7.06,
          null,
          null,
          5.281,
          3.781,
          5.976,
          null,
          4.214,
          null,
          null,
          4.422,
          null,
          null,
          null,
          null,
          null,
          4.372,
          4.873,
          6.733,
          6.749,
          null,
          6.611,
          6.195,
          null,
          null,
          5.607,
          6.043,
          3.561,
          3.502,
          3.341,
          null,
          null,
          null,
          null,
          null
         ]
        },
        {
         "marker": {
          "color": [
           21.810043668122272,
           25.559388646288212,
           26.760526315789473,
           13.451528384279476,
           29.028384279475983,
           31.911504424778762,
           12.47456140350877,
           22.053711790393013,
           8.985152838427947,
           8.985152838427947,
           17.43859649122807,
           22.546491228070177,
           30.552888888888887,
           36.88515283842795,
           33.6640350877193,
           32.410964912280704,
           14.9353711790393,
           14.904395604395605,
           26.908810572687226,
           32.23201754385965,
           12.439035087719297,
           18.72749445676275,
           19.572489082969433,
           26.120960698689956,
           28.963436123348018,
           28.963436123348018,
           33.37543859649123,
           20.93857142857143,
           31.821052631578947,
           28.830567685589518,
           17.4,
           34.007860262008734,
           25.992070484581497,
           9.96387665198238,
           29.625764192139737,
           33.27105263157895,
           32.61310043668122,
           9.225991189427313,
           19.712280701754384,
           19.712280701754384,
           13.8,
           27.905286343612335,
           30.923684210526318,
           18.66622222222222,
           19.671365638766517,
           28.047136563876652,
           30.257456140350875,
           15.619911504424778,
           30.804405286343613,
           13.77938596491228,
           38.33480176211454,
           32.194273127753306,
           28.95530973451327,
           10.858590308370044,
           30.225,
           23.267111111111113,
           31.13493449781659,
           22.131004366812228,
           13.10482456140351,
           25.1,
           20.716299559471366,
           25.458515283842793,
           13.121834061135372,
           16.540174672489083,
           30.935087719298245,
           32.44185022026432,
           20.893392070484584,
           16.46637554585153,
           16.46637554585153,
           31.79694323144105,
           26.680176211453745,
           32.762831858407075,
           17.52711111111111,
           30.639301310043667,
           32.224017467248906,
           29.496035242290752,
           26.904405286343614,
           19.18362831858407,
           19.069868995633186,
           2.7262008733624454,
           30.8,
           33.255947136563876,
           33.255947136563876,
           29.301960784313728,
           22.347368421052632,
           35.943231441048034,
           12.389473684210527,
           25.44517543859649,
           24.321491228070176,
           32.80881057268723,
           23.3528384279476,
           25.7,
           25.87336244541485,
           10.056140350877193,
           24.132608695652173,
           32.074008810572685,
           26.8,
           29.4,
           37.045414847161574,
           17.712719298245613,
           28.3,
           14.866960352422907,
           28.335964912280705,
           20.525438596491227,
           20.6,
           30.672807017543857,
           29.7,
           13.498684210526315,
           14.718859649122807,
           13.690748898678414,
           23.244493392070485,
           26.737061403508772,
           26.44235807860262,
           34.19432314410481,
           32.075221238938056,
           30.863755458515286,
           28.85589519650655,
           26.9,
           40.4,
           32.63886462882096,
           27.627510917030566,
           26.73668122270742,
           14.404424778761062,
           30.1,
           30.82763157894737,
           22.218502202643172,
           4.2438596491228076,
           24.573684210526316,
           23.88546255506608,
           27.95371179039301,
           33.2825327510917,
           24.647368421052633,
           23.592543859649126,
           15.019298245614035,
           10.090829694323144,
           26.93274336283186,
           32.828508771929826,
           30.987336244541485,
           30.987336244541485,
           16.378947368421052,
           9.829824561403507,
           37.41091703056769,
           31.399561403508773,
           31.28640350877193,
           29.44625550660793,
           29.396929824561404,
           21.353711790393014,
           16.52433628318584,
           34.4140350877193,
           16.605676855895197,
           28.6,
           20.856387665198238,
           37.86052631578948,
           20.88377192982456,
           14.485537190082646,
           14.485537190082646,
           26.721052631578946,
           32.646929824561404,
           32.24956140350877,
           33.39030837004405,
           32,
           27.946902654867255,
           21.52787610619469,
           36.5726872246696,
           48,
           30.900873362445417,
           20.485087719298246,
           32.28333333333333,
           30.04273127753304,
           33.416157205240175,
           17.71842105263158,
           18.533187772925764,
           29.464628820960698,
           32.575438596491225,
           22.903493449781656,
           19.36052631578947,
           20.850438596491227,
           35.334649122807015,
           32.82587719298246,
           28.94912280701754,
           23.364035087719298,
           13.645614035087718,
           16.005701754385967,
           27.687280701754386,
           28.7,
           24.100438596491227,
           27.358078602620086,
           34.167912087912086,
           28.098678414096916,
           31.2,
           24.36288209606987,
           30.371929824561406,
           27.489035087719298,
           22.62989010989011,
           25.3219298245614,
           36.8,
           33.134934497816595,
           26.96666666666667,
           27.03815789473684,
           17.219650655021834,
           37.94366812227074,
           15.068281938325992,
           8.815111111111111,
           11.948471615720523,
           23.559388646288212,
           25.319298245614036,
           24.287336244541486,
           24.787224669603525,
           30.05049019607843,
           23.21798245614035,
           27.044541484716156,
           25.451982378854627,
           15.9,
           25.5,
           34.2,
           25.5,
           27.9
          ],
          "colorbar": {
           "title": {
            "text": "Voelt als (°C)"
           }
          },
          "colorscale": [
           [
            0,
            "rgb(3, 35, 51)"
           ],
           [
            0.09090909090909091,
            "rgb(13, 48, 100)"
           ],
           [
            0.18181818181818182,
            "rgb(53, 50, 155)"
           ],
           [
            0.2727272727272727,
            "rgb(93, 62, 153)"
           ],
           [
            0.36363636363636365,
            "rgb(126, 77, 143)"
           ],
           [
            0.45454545454545453,
            "rgb(158, 89, 135)"
           ],
           [
            0.5454545454545454,
            "rgb(193, 100, 121)"
           ],
           [
            0.6363636363636364,
            "rgb(225, 113, 97)"
           ],
           [
            0.7272727272727273,
            "rgb(246, 139, 69)"
           ],
           [
            0.8181818181818182,
            "rgb(251, 173, 60)"
           ],
           [
            0.9090909090909091,
            "rgb(246, 211, 70)"
           ],
           [
            1,
            "rgb(231, 250, 90)"
           ]
          ],
          "showscale": true
         },
         "mode": "markers",
         "name": "Gemiddelde gevoelstemperatuur",
         "text": [
          "Afghanistan",
          "Albania",
          "Algeria",
          "Andorra",
          "Angola",
          "Antigua and Barbuda",
          "Argentina",
          "Armenia",
          "Australia",
          "Australia",
          "Austria",
          "Azerbaijan",
          "Bahamas",
          "Bahrain",
          "Bangladesh",
          "Barbados",
          "Belarus",
          "Belgium",
          "Belize",
          "Benin",
          "Bhutan",
          "Bolivia",
          "Bosnia and Herzegovina",
          "Botswana",
          "Brazil",
          "Brazil",
          "Brunei Darussalam",
          "Bulgaria",
          "Burkina Faso",
          "Burundi",
          "Bélgica",
          "Cambodia",
          "Cameroon",
          "Canada",
          "Cape Verde",
          "Central African Republic",
          "Chad",
          "Chile",
          "China",
          "China",
          "Colombia",
          "Comoros",
          "Congo",
          "Costa Rica",
          "Croatia",
          "Cuba",
          "Cyprus",
          "Czech Republic",
          "Democratic Republic of Congo",
          "Denmark",
          "Djibouti",
          "Dominica",
          "Dominican Republic",
          "Ecuador",
          "Egypt",
          "El Salvador",
          "Equatorial Guinea",
          "Eritrea",
          "Estonia",
          "Estonie",
          "Ethiopia",
          "Fiji Islands",
          "Finland",
          "France",
          "Gabon",
          "Gambia",
          "Georgia",
          "Germany",
          "Germany",
          "Ghana",
          "Greece",
          "Grenada",
          "Guatemala",
          "Guinea",
          "Guinea-Bissau",
          "Guyana",
          "Haiti",
          "Honduras",
          "Hungary",
          "Iceland",
          "Inde",
          "India",
          "India",
          "Indonesia",
          "Iran",
          "Iraq",
          "Ireland",
          "Israel",
          "Italy",
          "Jamaica",
          "Japan",
          "Jemen",
          "Jordan",
          "Kazakhstan",
          "Kenya",
          "Kiribati",
          "Komoren",
          "Kosovo",
          "Kuwait",
          "Kyrghyzstan",
          "Lao People's Democratic Republic",
          "Latvia",
          "Lebanon",
          "Lesotho",
          "Letonia",
          "Liberia",
          "Libya",
          "Liechtenstein",
          "Lithuania",
          "Luxembourg",
          "Macedonia",
          "Madagascar",
          "Malawi",
          "Malaysia",
          "Maldives",
          "Mali",
          "Malta",
          "Malásia",
          "Marrocos",
          "Marshall Islands",
          "Mauritania",
          "Mauritius",
          "Mexico",
          "Mexique",
          "Micronesia",
          "Monaco",
          "Mongolia",
          "Montenegro",
          "Morocco",
          "Mozambique",
          "Myanmar",
          "Namibia",
          "Nepal",
          "Netherlands",
          "New Zealand",
          "Nicaragua",
          "Niger",
          "Nigeria",
          "Nigeria",
          "North Korea",
          "Norway",
          "Oman",
          "Pakistan",
          "Palau",
          "Panama",
          "Papua New Guinea",
          "Paraguay",
          "Peru",
          "Philippines",
          "Poland",
          "Polônia",
          "Portugal",
          "Qatar",
          "Romania",
          "Russia",
          "Russia",
          "Rwanda",
          "Saint Kitts and Nevis",
          "Saint Lucia",
          "Saint Vincent and the Grenadines",
          "Saint-Vincent-et-les-Grenadines",
          "Samoa",
          "San Marino",
          "Saudi Arabia",
          "Saudi Arabien",
          "Senegal",
          "Serbia",
          "Seychelles Islands",
          "Sierra Leone",
          "Singapore",
          "Slovakia",
          "Slovenia",
          "Solomon Islands",
          "Somalia",
          "South Africa",
          "South Korea",
          "Spain",
          "Sri Lanka",
          "Sudan",
          "Suriname",
          "Swaziland",
          "Sweden",
          "Switzerland",
          "Syria",
          "Südkorea",
          "Tajikistan",
          "Tanzania",
          "Thailand",
          "Timor-Leste",
          "Togo",
          "Tonga",
          "Trinidad and Tobago",
          "Tunisia",
          "Turkey",
          "Turkmenistan",
          "Turkménistan",
          "Tuvalu",
          "USA United States of America",
          "Uganda",
          "Ukraine",
          "United Arab Emirates",
          "United Kingdom",
          "United States of America",
          "Uruguay",
          "Uzbekistan",
          "Vanuatu",
          "Vatican City",
          "Venezuela",
          "Vietnam",
          "Yemen",
          "Zambia",
          "Zimbabwe",
          "Гватемала",
          "Польша",
          "Турция",
          "كولومبيا",
          "火鸡"
         ],
         "type": "scatter",
         "visible": false,
         "x": [
          21.810043668122272,
          25.559388646288212,
          26.760526315789473,
          13.451528384279476,
          29.028384279475983,
          31.911504424778762,
          12.47456140350877,
          22.053711790393013,
          8.985152838427947,
          8.985152838427947,
          17.43859649122807,
          22.546491228070177,
          30.552888888888887,
          36.88515283842795,
          33.6640350877193,
          32.410964912280704,
          14.9353711790393,
          14.904395604395605,
          26.908810572687226,
          32.23201754385965,
          12.439035087719297,
          18.72749445676275,
          19.572489082969433,
          26.120960698689956,
          28.963436123348018,
          28.963436123348018,
          33.37543859649123,
          20.93857142857143,
          31.821052631578947,
          28.830567685589518,
          17.4,
          34.007860262008734,
          25.992070484581497,
          9.96387665198238,
          29.625764192139737,
          33.27105263157895,
          32.61310043668122,
          9.225991189427313,
          19.712280701754384,
          19.712280701754384,
          13.8,
          27.905286343612335,
          30.923684210526318,
          18.66622222222222,
          19.671365638766517,
          28.047136563876652,
          30.257456140350875,
          15.619911504424778,
          30.804405286343613,
          13.77938596491228,
          38.33480176211454,
          32.194273127753306,
          28.95530973451327,
          10.858590308370044,
          30.225,
          23.267111111111113,
          31.13493449781659,
          22.131004366812228,
          13.10482456140351,
          25.1,
          20.716299559471366,
          25.458515283842793,
          13.121834061135372,
          16.540174672489083,
          30.935087719298245,
          32.44185022026432,
          20.893392070484584,
          16.46637554585153,
          16.46637554585153,
          31.79694323144105,
          26.680176211453745,
          32.762831858407075,
          17.52711111111111,
          30.639301310043667,
          32.224017467248906,
          29.496035242290752,
          26.904405286343614,
          19.18362831858407,
          19.069868995633186,
          2.7262008733624454,
          30.8,
          33.255947136563876,
          33.255947136563876,
          29.301960784313728,
          22.347368421052632,
          35.943231441048034,
          12.389473684210527,
          25.44517543859649,
          24.321491228070176,
          32.80881057268723,
          23.3528384279476,
          25.7,
          25.87336244541485,
          10.056140350877193,
          24.132608695652173,
          32.074008810572685,
          26.8,
          29.4,
          37.045414847161574,
          17.712719298245613,
          28.3,
          14.866960352422907,
          28.335964912280705,
          20.525438596491227,
          20.6,
          30.672807017543857,
          29.7,
          13.498684210526315,
          14.718859649122807,
          13.690748898678414,
          23.244493392070485,
          26.737061403508772,
          26.44235807860262,
          34.19432314410481,
          32.075221238938056,
          30.863755458515286,
          28.85589519650655,
          26.9,
          40.4,
          32.63886462882096,
          27.627510917030566,
          26.73668122270742,
          14.404424778761062,
          30.1,
          30.82763157894737,
          22.218502202643172,
          4.2438596491228076,
          24.573684210526316,
          23.88546255506608,
          27.95371179039301,
          33.2825327510917,
          24.647368421052633,
          23.592543859649126,
          15.019298245614035,
          10.090829694323144,
          26.93274336283186,
          32.828508771929826,
          30.987336244541485,
          30.987336244541485,
          16.378947368421052,
          9.829824561403507,
          37.41091703056769,
          31.399561403508773,
          31.28640350877193,
          29.44625550660793,
          29.396929824561404,
          21.353711790393014,
          16.52433628318584,
          34.4140350877193,
          16.605676855895197,
          28.6,
          20.856387665198238,
          37.86052631578948,
          20.88377192982456,
          14.485537190082646,
          14.485537190082646,
          26.721052631578946,
          32.646929824561404,
          32.24956140350877,
          33.39030837004405,
          32,
          27.946902654867255,
          21.52787610619469,
          36.5726872246696,
          48,
          30.900873362445417,
          20.485087719298246,
          32.28333333333333,
          30.04273127753304,
          33.416157205240175,
          17.71842105263158,
          18.533187772925764,
          29.464628820960698,
          32.575438596491225,
          22.903493449781656,
          19.36052631578947,
          20.850438596491227,
          35.334649122807015,
          32.82587719298246,
          28.94912280701754,
          23.364035087719298,
          13.645614035087718,
          16.005701754385967,
          27.687280701754386,
          28.7,
          24.100438596491227,
          27.358078602620086,
          34.167912087912086,
          28.098678414096916,
          31.2,
          24.36288209606987,
          30.371929824561406,
          27.489035087719298,
          22.62989010989011,
          25.3219298245614,
          36.8,
          33.134934497816595,
          26.96666666666667,
          27.03815789473684,
          17.219650655021834,
          37.94366812227074,
          15.068281938325992,
          8.815111111111111,
          11.948471615720523,
          23.559388646288212,
          25.319298245614036,
          24.287336244541486,
          24.787224669603525,
          30.05049019607843,
          23.21798245614035,
          27.044541484716156,
          25.451982378854627,
          15.9,
          25.5,
          34.2,
          25.5,
          27.9
         ],
         "y": [
          1.721,
          5.304,
          5.364,
          null,
          null,
          null,
          6.188,
          5.455,
          7.057,
          7.057,
          6.905,
          4.893,
          null,
          5.959,
          3.886,
          null,
          null,
          6.894,
          null,
          4.377,
          null,
          5.784,
          5.877,
          3.383,
          6.272,
          6.272,
          null,
          5.463,
          4.548,
          null,
          null,
          4.341,
          4.874,
          6.9,
          null,
          null,
          4.471,
          6.36,
          5.973,
          5.973,
          5.695,
          3.566,
          null,
          6.955,
          5.942,
          null,
          6.068,
          null,
          null,
          7.583,
          null,
          null,
          5.823,
          5.725,
          3.977,
          6.469,
          null,
          null,
          6.448,
          null,
          3.861,
          null,
          7.741,
          6.609,
          5.106,
          4.485,
          5.185,
          6.719,
          6.719,
          4.289,
          5.934,
          null,
          6.287,
          5.023,
          null,
          null,
          null,
          5.968,
          6.017,
          7.525,
          null,
          4.054,
          4.054,
          5.568,
          4.923,
          5.166,
          6.838,
          7.341,
          6.324,
          5.842,
          6.06,
          null,
          4.186,
          6.188,
          4.47,
          null,
          null,
          6.561,
          6.951,
          null,
          null,
          6.234,
          2.707,
          3.186,
          null,
          4.269,
          5.866,
          null,
          6.818,
          7.122,
          null,
          4.228,
          3.421,
          5.975,
          null,
          4.232,
          6.346,
          null,
          null,
          null,
          4.505,
          5.816,
          6.678,
          null,
          null,
          null,
          5.696,
          5.707,
          4.795,
          5.216,
          4.354,
          4.832,
          5.158,
          7.319,
          7.029,
          6.284,
          4.556,
          4.881,
          4.881,
          null,
          7.302,
          null,
          4.657,
          null,
          6.358,
          null,
          5.977,
          5.841,
          6.048,
          6.442,
          null,
          6.03,
          null,
          6.491,
          5.785,
          5.785,
          null,
          null,
          null,
          null,
          null,
          null,
          null,
          6.594,
          null,
          4.969,
          6.411,
          null,
          3.245,
          6.523,
          6.257,
          6.743,
          null,
          null,
          5.422,
          6.058,
          6.421,
          3.898,
          null,
          null,
          null,
          7.344,
          7.06,
          null,
          null,
          5.281,
          3.781,
          5.976,
          null,
          4.214,
          null,
          null,
          4.422,
          null,
          null,
          null,
          null,
          null,
          4.372,
          4.873,
          6.733,
          6.749,
          null,
          6.611,
          6.195,
          null,
          null,
          5.607,
          6.043,
          3.561,
          3.502,
          3.341,
          null,
          null,
          null,
          null,
          null
         ]
        }
       ],
       "layout": {
        "height": 600,
        "template": {
         "data": {
          "bar": [
           {
            "error_x": {
             "color": "#2a3f5f"
            },
            "error_y": {
             "color": "#2a3f5f"
            },
            "marker": {
             "line": {
              "color": "#E5ECF6",
              "width": 0.5
             },
             "pattern": {
              "fillmode": "overlay",
              "size": 10,
              "solidity": 0.2
             }
            },
            "type": "bar"
           }
          ],
          "barpolar": [
           {
            "marker": {
             "line": {
              "color": "#E5ECF6",
              "width": 0.5
             },
             "pattern": {
              "fillmode": "overlay",
              "size": 10,
              "solidity": 0.2
             }
            },
            "type": "barpolar"
           }
          ],
          "carpet": [
           {
            "aaxis": {
             "endlinecolor": "#2a3f5f",
             "gridcolor": "white",
             "linecolor": "white",
             "minorgridcolor": "white",
             "startlinecolor": "#2a3f5f"
            },
            "baxis": {
             "endlinecolor": "#2a3f5f",
             "gridcolor": "white",
             "linecolor": "white",
             "minorgridcolor": "white",
             "startlinecolor": "#2a3f5f"
            },
            "type": "carpet"
           }
          ],
          "choropleth": [
           {
            "colorbar": {
             "outlinewidth": 0,
             "ticks": ""
            },
            "type": "choropleth"
           }
          ],
          "contour": [
           {
            "colorbar": {
             "outlinewidth": 0,
             "ticks": ""
            },
            "colorscale": [
             [
              0,
              "#0d0887"
             ],
             [
              0.1111111111111111,
              "#46039f"
             ],
             [
              0.2222222222222222,
              "#7201a8"
             ],
             [
              0.3333333333333333,
              "#9c179e"
             ],
             [
              0.4444444444444444,
              "#bd3786"
             ],
             [
              0.5555555555555556,
              "#d8576b"
             ],
             [
              0.6666666666666666,
              "#ed7953"
             ],
             [
              0.7777777777777778,
              "#fb9f3a"
             ],
             [
              0.8888888888888888,
              "#fdca26"
             ],
             [
              1,
              "#f0f921"
             ]
            ],
            "type": "contour"
           }
          ],
          "contourcarpet": [
           {
            "colorbar": {
             "outlinewidth": 0,
             "ticks": ""
            },
            "type": "contourcarpet"
           }
          ],
          "heatmap": [
           {
            "colorbar": {
             "outlinewidth": 0,
             "ticks": ""
            },
            "colorscale": [
             [
              0,
              "#0d0887"
             ],
             [
              0.1111111111111111,
              "#46039f"
             ],
             [
              0.2222222222222222,
              "#7201a8"
             ],
             [
              0.3333333333333333,
              "#9c179e"
             ],
             [
              0.4444444444444444,
              "#bd3786"
             ],
             [
              0.5555555555555556,
              "#d8576b"
             ],
             [
              0.6666666666666666,
              "#ed7953"
             ],
             [
              0.7777777777777778,
              "#fb9f3a"
             ],
             [
              0.8888888888888888,
              "#fdca26"
             ],
             [
              1,
              "#f0f921"
             ]
            ],
            "type": "heatmap"
           }
          ],
          "heatmapgl": [
           {
            "colorbar": {
             "outlinewidth": 0,
             "ticks": ""
            },
            "colorscale": [
             [
              0,
              "#0d0887"
             ],
             [
              0.1111111111111111,
              "#46039f"
             ],
             [
              0.2222222222222222,
              "#7201a8"
             ],
             [
              0.3333333333333333,
              "#9c179e"
             ],
             [
              0.4444444444444444,
              "#bd3786"
             ],
             [
              0.5555555555555556,
              "#d8576b"
             ],
             [
              0.6666666666666666,
              "#ed7953"
             ],
             [
              0.7777777777777778,
              "#fb9f3a"
             ],
             [
              0.8888888888888888,
              "#fdca26"
             ],
             [
              1,
              "#f0f921"
             ]
            ],
            "type": "heatmapgl"
           }
          ],
          "histogram": [
           {
            "marker": {
             "pattern": {
              "fillmode": "overlay",
              "size": 10,
              "solidity": 0.2
             }
            },
            "type": "histogram"
           }
          ],
          "histogram2d": [
           {
            "colorbar": {
             "outlinewidth": 0,
             "ticks": ""
            },
            "colorscale": [
             [
              0,
              "#0d0887"
             ],
             [
              0.1111111111111111,
              "#46039f"
             ],
             [
              0.2222222222222222,
              "#7201a8"
             ],
             [
              0.3333333333333333,
              "#9c179e"
             ],
             [
              0.4444444444444444,
              "#bd3786"
             ],
             [
              0.5555555555555556,
              "#d8576b"
             ],
             [
              0.6666666666666666,
              "#ed7953"
             ],
             [
              0.7777777777777778,
              "#fb9f3a"
             ],
             [
              0.8888888888888888,
              "#fdca26"
             ],
             [
              1,
              "#f0f921"
             ]
            ],
            "type": "histogram2d"
           }
          ],
          "histogram2dcontour": [
           {
            "colorbar": {
             "outlinewidth": 0,
             "ticks": ""
            },
            "colorscale": [
             [
              0,
              "#0d0887"
             ],
             [
              0.1111111111111111,
              "#46039f"
             ],
             [
              0.2222222222222222,
              "#7201a8"
             ],
             [
              0.3333333333333333,
              "#9c179e"
             ],
             [
              0.4444444444444444,
              "#bd3786"
             ],
             [
              0.5555555555555556,
              "#d8576b"
             ],
             [
              0.6666666666666666,
              "#ed7953"
             ],
             [
              0.7777777777777778,
              "#fb9f3a"
             ],
             [
              0.8888888888888888,
              "#fdca26"
             ],
             [
              1,
              "#f0f921"
             ]
            ],
            "type": "histogram2dcontour"
           }
          ],
          "mesh3d": [
           {
            "colorbar": {
             "outlinewidth": 0,
             "ticks": ""
            },
            "type": "mesh3d"
           }
          ],
          "parcoords": [
           {
            "line": {
             "colorbar": {
              "outlinewidth": 0,
              "ticks": ""
             }
            },
            "type": "parcoords"
           }
          ],
          "pie": [
           {
            "automargin": true,
            "type": "pie"
           }
          ],
          "scatter": [
           {
            "fillpattern": {
             "fillmode": "overlay",
             "size": 10,
             "solidity": 0.2
            },
            "type": "scatter"
           }
          ],
          "scatter3d": [
           {
            "line": {
             "colorbar": {
              "outlinewidth": 0,
              "ticks": ""
             }
            },
            "marker": {
             "colorbar": {
              "outlinewidth": 0,
              "ticks": ""
             }
            },
            "type": "scatter3d"
           }
          ],
          "scattercarpet": [
           {
            "marker": {
             "colorbar": {
              "outlinewidth": 0,
              "ticks": ""
             }
            },
            "type": "scattercarpet"
           }
          ],
          "scattergeo": [
           {
            "marker": {
             "colorbar": {
              "outlinewidth": 0,
              "ticks": ""
             }
            },
            "type": "scattergeo"
           }
          ],
          "scattergl": [
           {
            "marker": {
             "colorbar": {
              "outlinewidth": 0,
              "ticks": ""
             }
            },
            "type": "scattergl"
           }
          ],
          "scattermapbox": [
           {
            "marker": {
             "colorbar": {
              "outlinewidth": 0,
              "ticks": ""
             }
            },
            "type": "scattermapbox"
           }
          ],
          "scatterpolar": [
           {
            "marker": {
             "colorbar": {
              "outlinewidth": 0,
              "ticks": ""
             }
            },
            "type": "scatterpolar"
           }
          ],
          "scatterpolargl": [
           {
            "marker": {
             "colorbar": {
              "outlinewidth": 0,
              "ticks": ""
             }
            },
            "type": "scatterpolargl"
           }
          ],
          "scatterternary": [
           {
            "marker": {
             "colorbar": {
              "outlinewidth": 0,
              "ticks": ""
             }
            },
            "type": "scatterternary"
           }
          ],
          "surface": [
           {
            "colorbar": {
             "outlinewidth": 0,
             "ticks": ""
            },
            "colorscale": [
             [
              0,
              "#0d0887"
             ],
             [
              0.1111111111111111,
              "#46039f"
             ],
             [
              0.2222222222222222,
              "#7201a8"
             ],
             [
              0.3333333333333333,
              "#9c179e"
             ],
             [
              0.4444444444444444,
              "#bd3786"
             ],
             [
              0.5555555555555556,
              "#d8576b"
             ],
             [
              0.6666666666666666,
              "#ed7953"
             ],
             [
              0.7777777777777778,
              "#fb9f3a"
             ],
             [
              0.8888888888888888,
              "#fdca26"
             ],
             [
              1,
              "#f0f921"
             ]
            ],
            "type": "surface"
           }
          ],
          "table": [
           {
            "cells": {
             "fill": {
              "color": "#EBF0F8"
             },
             "line": {
              "color": "white"
             }
            },
            "header": {
             "fill": {
              "color": "#C8D4E3"
             },
             "line": {
              "color": "white"
             }
            },
            "type": "table"
           }
          ]
         },
         "layout": {
          "annotationdefaults": {
           "arrowcolor": "#2a3f5f",
           "arrowhead": 0,
           "arrowwidth": 1
          },
          "autotypenumbers": "strict",
          "coloraxis": {
           "colorbar": {
            "outlinewidth": 0,
            "ticks": ""
           }
          },
          "colorscale": {
           "diverging": [
            [
             0,
             "#8e0152"
            ],
            [
             0.1,
             "#c51b7d"
            ],
            [
             0.2,
             "#de77ae"
            ],
            [
             0.3,
             "#f1b6da"
            ],
            [
             0.4,
             "#fde0ef"
            ],
            [
             0.5,
             "#f7f7f7"
            ],
            [
             0.6,
             "#e6f5d0"
            ],
            [
             0.7,
             "#b8e186"
            ],
            [
             0.8,
             "#7fbc41"
            ],
            [
             0.9,
             "#4d9221"
            ],
            [
             1,
             "#276419"
            ]
           ],
           "sequential": [
            [
             0,
             "#0d0887"
            ],
            [
             0.1111111111111111,
             "#46039f"
            ],
            [
             0.2222222222222222,
             "#7201a8"
            ],
            [
             0.3333333333333333,
             "#9c179e"
            ],
            [
             0.4444444444444444,
             "#bd3786"
            ],
            [
             0.5555555555555556,
             "#d8576b"
            ],
            [
             0.6666666666666666,
             "#ed7953"
            ],
            [
             0.7777777777777778,
             "#fb9f3a"
            ],
            [
             0.8888888888888888,
             "#fdca26"
            ],
            [
             1,
             "#f0f921"
            ]
           ],
           "sequentialminus": [
            [
             0,
             "#0d0887"
            ],
            [
             0.1111111111111111,
             "#46039f"
            ],
            [
             0.2222222222222222,
             "#7201a8"
            ],
            [
             0.3333333333333333,
             "#9c179e"
            ],
            [
             0.4444444444444444,
             "#bd3786"
            ],
            [
             0.5555555555555556,
             "#d8576b"
            ],
            [
             0.6666666666666666,
             "#ed7953"
            ],
            [
             0.7777777777777778,
             "#fb9f3a"
            ],
            [
             0.8888888888888888,
             "#fdca26"
            ],
            [
             1,
             "#f0f921"
            ]
           ]
          },
          "colorway": [
           "#636efa",
           "#EF553B",
           "#00cc96",
           "#ab63fa",
           "#FFA15A",
           "#19d3f3",
           "#FF6692",
           "#B6E880",
           "#FF97FF",
           "#FECB52"
          ],
          "font": {
           "color": "#2a3f5f"
          },
          "geo": {
           "bgcolor": "white",
           "lakecolor": "white",
           "landcolor": "#E5ECF6",
           "showlakes": true,
           "showland": true,
           "subunitcolor": "white"
          },
          "hoverlabel": {
           "align": "left"
          },
          "hovermode": "closest",
          "mapbox": {
           "style": "light"
          },
          "paper_bgcolor": "white",
          "plot_bgcolor": "#E5ECF6",
          "polar": {
           "angularaxis": {
            "gridcolor": "white",
            "linecolor": "white",
            "ticks": ""
           },
           "bgcolor": "#E5ECF6",
           "radialaxis": {
            "gridcolor": "white",
            "linecolor": "white",
            "ticks": ""
           }
          },
          "scene": {
           "xaxis": {
            "backgroundcolor": "#E5ECF6",
            "gridcolor": "white",
            "gridwidth": 2,
            "linecolor": "white",
            "showbackground": true,
            "ticks": "",
            "zerolinecolor": "white"
           },
           "yaxis": {
            "backgroundcolor": "#E5ECF6",
            "gridcolor": "white",
            "gridwidth": 2,
            "linecolor": "white",
            "showbackground": true,
            "ticks": "",
            "zerolinecolor": "white"
           },
           "zaxis": {
            "backgroundcolor": "#E5ECF6",
            "gridcolor": "white",
            "gridwidth": 2,
            "linecolor": "white",
            "showbackground": true,
            "ticks": "",
            "zerolinecolor": "white"
           }
          },
          "shapedefaults": {
           "line": {
            "color": "#2a3f5f"
           }
          },
          "ternary": {
           "aaxis": {
            "gridcolor": "white",
            "linecolor": "white",
            "ticks": ""
           },
           "baxis": {
            "gridcolor": "white",
            "linecolor": "white",
            "ticks": ""
           },
           "bgcolor": "#E5ECF6",
           "caxis": {
            "gridcolor": "white",
            "linecolor": "white",
            "ticks": ""
           }
          },
          "title": {
           "x": 0.05
          },
          "xaxis": {
           "automargin": true,
           "gridcolor": "white",
           "linecolor": "white",
           "ticks": "",
           "title": {
            "standoff": 15
           },
           "zerolinecolor": "white",
           "zerolinewidth": 2
          },
          "yaxis": {
           "automargin": true,
           "gridcolor": "white",
           "linecolor": "white",
           "ticks": "",
           "title": {
            "standoff": 15
           },
           "zerolinecolor": "white",
           "zerolinewidth": 2
          }
         }
        },
        "title": {
         "text": "Relatie tussen gemiddelde temperatuur en Ladder score per land"
        },
        "updatemenus": [
         {
          "buttons": [
           {
            "args": [
             {
              "visible": [
               true,
               false
              ]
             },
             {
              "title": "Relatie tussen gemiddelde temperatuur en Ladder score per land",
              "xaxis": {
               "range": [
                0,
                40
               ],
               "title": "Gemiddelde temperatuur (°C)"
              },
              "yaxis": {
               "title": "Ladder score"
              }
             }
            ],
            "label": "Gemiddelde temperatuur",
            "method": "update"
           },
           {
            "args": [
             {
              "visible": [
               false,
               true
              ]
             },
             {
              "title": "Relatie tussen gemiddelde gevoelstemperatuur en Ladder score per land",
              "xaxis": {
               "range": [
                0,
                40
               ],
               "title": "Gemiddelde gevoelstemperatuur (°C)"
              },
              "yaxis": {
               "title": "Ladder score"
              }
             }
            ],
            "label": "Gevoelstemperatuur",
            "method": "update"
           }
          ],
          "direction": "down",
          "showactive": true,
          "type": "dropdown",
          "x": 1.5,
          "xanchor": "right",
          "y": 1.15,
          "yanchor": "top"
         }
        ],
        "width": 900,
        "xaxis": {
         "autorange": true,
         "range": [
          3.0267678854800315,
          47.53507421978313
         ],
         "title": {
          "text": "Gemiddelde temperatuur (°C)"
         },
         "type": "linear"
        },
        "yaxis": {
         "autorange": true,
         "range": [
          1.3188542510121457,
          8.143145748987854
         ],
         "title": {
          "text": "Ladder score"
         },
         "type": "linear"
        }
       }
      },
      "text/html": [
       "<div>                            <div id=\"e4b15e29-fbb0-47a0-9d75-61c11376cace\" class=\"plotly-graph-div\" style=\"height:600px; width:900px;\"></div>            <script type=\"text/javascript\">                require([\"plotly\"], function(Plotly) {                    window.PLOTLYENV=window.PLOTLYENV || {};                                    if (document.getElementById(\"e4b15e29-fbb0-47a0-9d75-61c11376cace\")) {                    Plotly.newPlot(                        \"e4b15e29-fbb0-47a0-9d75-61c11376cace\",                        [{\"marker\":{\"color\":[22.69694323144105,25.02227074235808,25.15438596491228,14.105676855895195,26.33580786026201,27.93185840707965,13.177631578947368,22.62052401746725,9.911790393013101,9.911790393013101,18.178947368421053,22.427192982456138,26.91911111111111,32.7117903930131,29.846491228070175,28.227192982456142,15.893013100436681,15.645934065934066,24.026872246696037,29.106578947368423,12.683333333333334,18.28580931263858,19.579912663755458,27.055458515283842,26.856828193832598,26.856828193832598,28.01359649122807,21.499795918367347,30.583771929824564,27.496943231441048,17.4,29.799126637554586,24.986784140969164,11.045374449339208,26.71004366812227,30.84780701754386,31.689956331877728,9.398678414096917,19.4390350877193,19.4390350877193,13.5,25.76035242290749,29.773684210526316,18.223555555555556,20.00088105726872,25.40352422907489,28.92105263157895,16.326106194690265,29.662114537444936,14.864473684210527,33.71674008810572,27.931277533039648,25.70486725663717,11.094273127753304,30.751315789473686,22.07466666666667,27.134497816593885,21.824890829694322,14.368421052631579,23.3,20.505286343612333,23.397816593886464,14.239737991266376,16.955458515283844,27.61798245614035,28.163876651982378,21.36079295154185,17.211353711790395,17.211353711790395,28.25720524017467,26.6784140969163,28.207964601769913,17.41111111111111,26.956768558951968,28.360698689956333,26.024229074889867,24.97180616740088,18.90929203539823,19.74235807860262,6.769432314410481,31.2,32.13348017621146,32.13348017621146,26.808496732026146,23.588815789473685,35.33580786026201,13.483771929824563,25.742105263157892,24.035087719298247,28.027753303964758,22.009606986899563,26.1,26.631004366812228,12.075877192982457,23.30086956521739,28.37224669603524,25.2,29.3,35.68296943231441,18.375877192982454,25.0,15.704405286343613,25.969736842105263,21.133333333333333,20.6,27.108771929824563,27.0,13.82719298245614,15.525877192982456,14.411013215859032,23.333920704845816,27.181140350877193,27.13231441048035,28.33711790393013,28.081858407079647,29.43580786026201,25.733624454148472,24.3,40.3,28.33231441048035,26.358515283842795,25.01528384279476,14.369911504424778,27.4,27.435087719298245,21.047577092511013,5.561842105263158,23.79605263157895,22.718502202643172,26.868995633187772,28.606550218340608,25.891666666666666,22.147368421052633,15.667543859649122,12.035807860262008,24.383185840707966,31.850438596491227,29.04934497816594,29.04934497816594,16.15657894736842,10.679385964912282,32.57510917030567,30.546491228070177,27.63421052631579,25.83832599118943,25.90921052631579,21.127947598253275,16.539823008849556,29.045614035087716,17.57117903930131,27.7,20.751541850220267,35.14035087719298,21.954385964912284,15.618181818181817,15.618181818181817,26.521491228070175,28.28377192982456,28.046491228070177,28.69647577092511,27.8,25.509734513274335,20.953982300884956,36.25550660792952,45.0,27.32532751091703,21.262719298245614,27.90921052631579,26.97973568281938,28.80655021834061,18.553947368421053,18.26375545851528,26.078602620087338,28.678947368421053,23.500873362445414,18.56315789473684,21.760087719298248,29.078070175438597,32.60087719298246,25.850438596491227,23.769298245614035,14.560964912280703,15.997368421052633,28.618859649122808,26.1,24.714473684210525,28.039737991266378,29.27098901098901,25.670484581497796,27.9,22.747598253275108,26.825438596491228,27.042543859649122,23.3632967032967,26.25482456140351,37.8,28.666812227074235,24.53333333333333,26.473684210526315,18.504366812227076,33.93973799126638,15.58590308370044,9.506222222222222,13.151528384279475,24.602183406113536,23.385964912280702,24.024454148471616,23.02863436123348,26.532107843137254,23.580701754385963,28.12227074235808,26.427312775330396,15.9,24.2,34.0,23.1,29.7],\"colorbar\":{\"title\":{\"text\":\"Temp (\\u00b0C)\"}},\"colorscale\":[[0.0,\"rgb(3, 35, 51)\"],[0.09090909090909091,\"rgb(13, 48, 100)\"],[0.18181818181818182,\"rgb(53, 50, 155)\"],[0.2727272727272727,\"rgb(93, 62, 153)\"],[0.36363636363636365,\"rgb(126, 77, 143)\"],[0.45454545454545453,\"rgb(158, 89, 135)\"],[0.5454545454545454,\"rgb(193, 100, 121)\"],[0.6363636363636364,\"rgb(225, 113, 97)\"],[0.7272727272727273,\"rgb(246, 139, 69)\"],[0.8181818181818182,\"rgb(251, 173, 60)\"],[0.9090909090909091,\"rgb(246, 211, 70)\"],[1.0,\"rgb(231, 250, 90)\"]],\"showscale\":true},\"mode\":\"markers\",\"name\":\"Gemiddelde temperatuur\",\"text\":[\"Afghanistan\",\"Albania\",\"Algeria\",\"Andorra\",\"Angola\",\"Antigua and Barbuda\",\"Argentina\",\"Armenia\",\"Australia\",\"Australia\",\"Austria\",\"Azerbaijan\",\"Bahamas\",\"Bahrain\",\"Bangladesh\",\"Barbados\",\"Belarus\",\"Belgium\",\"Belize\",\"Benin\",\"Bhutan\",\"Bolivia\",\"Bosnia and Herzegovina\",\"Botswana\",\"Brazil\",\"Brazil\",\"Brunei Darussalam\",\"Bulgaria\",\"Burkina Faso\",\"Burundi\",\"B\\u00e9lgica\",\"Cambodia\",\"Cameroon\",\"Canada\",\"Cape Verde\",\"Central African Republic\",\"Chad\",\"Chile\",\"China\",\"China\",\"Colombia\",\"Comoros\",\"Congo\",\"Costa Rica\",\"Croatia\",\"Cuba\",\"Cyprus\",\"Czech Republic\",\"Democratic Republic of Congo\",\"Denmark\",\"Djibouti\",\"Dominica\",\"Dominican Republic\",\"Ecuador\",\"Egypt\",\"El Salvador\",\"Equatorial Guinea\",\"Eritrea\",\"Estonia\",\"Estonie\",\"Ethiopia\",\"Fiji Islands\",\"Finland\",\"France\",\"Gabon\",\"Gambia\",\"Georgia\",\"Germany\",\"Germany\",\"Ghana\",\"Greece\",\"Grenada\",\"Guatemala\",\"Guinea\",\"Guinea-Bissau\",\"Guyana\",\"Haiti\",\"Honduras\",\"Hungary\",\"Iceland\",\"Inde\",\"India\",\"India\",\"Indonesia\",\"Iran\",\"Iraq\",\"Ireland\",\"Israel\",\"Italy\",\"Jamaica\",\"Japan\",\"Jemen\",\"Jordan\",\"Kazakhstan\",\"Kenya\",\"Kiribati\",\"Komoren\",\"Kosovo\",\"Kuwait\",\"Kyrghyzstan\",\"Lao People's Democratic Republic\",\"Latvia\",\"Lebanon\",\"Lesotho\",\"Letonia\",\"Liberia\",\"Libya\",\"Liechtenstein\",\"Lithuania\",\"Luxembourg\",\"Macedonia\",\"Madagascar\",\"Malawi\",\"Malaysia\",\"Maldives\",\"Mali\",\"Malta\",\"Mal\\u00e1sia\",\"Marrocos\",\"Marshall Islands\",\"Mauritania\",\"Mauritius\",\"Mexico\",\"Mexique\",\"Micronesia\",\"Monaco\",\"Mongolia\",\"Montenegro\",\"Morocco\",\"Mozambique\",\"Myanmar\",\"Namibia\",\"Nepal\",\"Netherlands\",\"New Zealand\",\"Nicaragua\",\"Niger\",\"Nigeria\",\"Nigeria\",\"North Korea\",\"Norway\",\"Oman\",\"Pakistan\",\"Palau\",\"Panama\",\"Papua New Guinea\",\"Paraguay\",\"Peru\",\"Philippines\",\"Poland\",\"Pol\\u00f4nia\",\"Portugal\",\"Qatar\",\"Romania\",\"Russia\",\"Russia\",\"Rwanda\",\"Saint Kitts and Nevis\",\"Saint Lucia\",\"Saint Vincent and the Grenadines\",\"Saint-Vincent-et-les-Grenadines\",\"Samoa\",\"San Marino\",\"Saudi Arabia\",\"Saudi Arabien\",\"Senegal\",\"Serbia\",\"Seychelles Islands\",\"Sierra Leone\",\"Singapore\",\"Slovakia\",\"Slovenia\",\"Solomon Islands\",\"Somalia\",\"South Africa\",\"South Korea\",\"Spain\",\"Sri Lanka\",\"Sudan\",\"Suriname\",\"Swaziland\",\"Sweden\",\"Switzerland\",\"Syria\",\"S\\u00fcdkorea\",\"Tajikistan\",\"Tanzania\",\"Thailand\",\"Timor-Leste\",\"Togo\",\"Tonga\",\"Trinidad and Tobago\",\"Tunisia\",\"Turkey\",\"Turkmenistan\",\"Turkm\\u00e9nistan\",\"Tuvalu\",\"USA United States of America\",\"Uganda\",\"Ukraine\",\"United Arab Emirates\",\"United Kingdom\",\"United States of America\",\"Uruguay\",\"Uzbekistan\",\"Vanuatu\",\"Vatican City\",\"Venezuela\",\"Vietnam\",\"Yemen\",\"Zambia\",\"Zimbabwe\",\"\\u0413\\u0432\\u0430\\u0442\\u0435\\u043c\\u0430\\u043b\\u0430\",\"\\u041f\\u043e\\u043b\\u044c\\u0448\\u0430\",\"\\u0422\\u0443\\u0440\\u0446\\u0438\\u044f\",\"\\u0643\\u0648\\u0644\\u0648\\u0645\\u0628\\u064a\\u0627\",\"\\u706b\\u9e21\"],\"x\":[22.69694323144105,25.02227074235808,25.15438596491228,14.105676855895195,26.33580786026201,27.93185840707965,13.177631578947368,22.62052401746725,9.911790393013101,9.911790393013101,18.178947368421053,22.427192982456138,26.91911111111111,32.7117903930131,29.846491228070175,28.227192982456142,15.893013100436681,15.645934065934066,24.026872246696037,29.106578947368423,12.683333333333334,18.28580931263858,19.579912663755458,27.055458515283842,26.856828193832598,26.856828193832598,28.01359649122807,21.499795918367347,30.583771929824564,27.496943231441048,17.4,29.799126637554586,24.986784140969164,11.045374449339208,26.71004366812227,30.84780701754386,31.689956331877728,9.398678414096917,19.4390350877193,19.4390350877193,13.5,25.76035242290749,29.773684210526316,18.223555555555556,20.00088105726872,25.40352422907489,28.92105263157895,16.326106194690265,29.662114537444936,14.864473684210527,33.71674008810572,27.931277533039648,25.70486725663717,11.094273127753304,30.751315789473686,22.07466666666667,27.134497816593885,21.824890829694322,14.368421052631579,23.3,20.505286343612333,23.397816593886464,14.239737991266376,16.955458515283844,27.61798245614035,28.163876651982378,21.36079295154185,17.211353711790395,17.211353711790395,28.25720524017467,26.6784140969163,28.207964601769913,17.41111111111111,26.956768558951968,28.360698689956333,26.024229074889867,24.97180616740088,18.90929203539823,19.74235807860262,6.769432314410481,31.2,32.13348017621146,32.13348017621146,26.808496732026146,23.588815789473685,35.33580786026201,13.483771929824563,25.742105263157892,24.035087719298247,28.027753303964758,22.009606986899563,26.1,26.631004366812228,12.075877192982457,23.30086956521739,28.37224669603524,25.2,29.3,35.68296943231441,18.375877192982454,25.0,15.704405286343613,25.969736842105263,21.133333333333333,20.6,27.108771929824563,27.0,13.82719298245614,15.525877192982456,14.411013215859032,23.333920704845816,27.181140350877193,27.13231441048035,28.33711790393013,28.081858407079647,29.43580786026201,25.733624454148472,24.3,40.3,28.33231441048035,26.358515283842795,25.01528384279476,14.369911504424778,27.4,27.435087719298245,21.047577092511013,5.561842105263158,23.79605263157895,22.718502202643172,26.868995633187772,28.606550218340608,25.891666666666666,22.147368421052633,15.667543859649122,12.035807860262008,24.383185840707966,31.850438596491227,29.04934497816594,29.04934497816594,16.15657894736842,10.679385964912282,32.57510917030567,30.546491228070177,27.63421052631579,25.83832599118943,25.90921052631579,21.127947598253275,16.539823008849556,29.045614035087716,17.57117903930131,27.7,20.751541850220267,35.14035087719298,21.954385964912284,15.618181818181817,15.618181818181817,26.521491228070175,28.28377192982456,28.046491228070177,28.69647577092511,27.8,25.509734513274335,20.953982300884956,36.25550660792952,45.0,27.32532751091703,21.262719298245614,27.90921052631579,26.97973568281938,28.80655021834061,18.553947368421053,18.26375545851528,26.078602620087338,28.678947368421053,23.500873362445414,18.56315789473684,21.760087719298248,29.078070175438597,32.60087719298246,25.850438596491227,23.769298245614035,14.560964912280703,15.997368421052633,28.618859649122808,26.1,24.714473684210525,28.039737991266378,29.27098901098901,25.670484581497796,27.9,22.747598253275108,26.825438596491228,27.042543859649122,23.3632967032967,26.25482456140351,37.8,28.666812227074235,24.53333333333333,26.473684210526315,18.504366812227076,33.93973799126638,15.58590308370044,9.506222222222222,13.151528384279475,24.602183406113536,23.385964912280702,24.024454148471616,23.02863436123348,26.532107843137254,23.580701754385963,28.12227074235808,26.427312775330396,15.9,24.2,34.0,23.1,29.7],\"y\":[1.721,5.304,5.364,null,null,null,6.188,5.455,7.057,7.057,6.905,4.893,null,5.959,3.886,null,null,6.894,null,4.377,null,5.784,5.877,3.383,6.272,6.272,null,5.463,4.548,null,null,4.341,4.874,6.9,null,null,4.471,6.36,5.973,5.973,5.695,3.566,null,6.955,5.942,null,6.068,null,null,7.583,null,null,5.823,5.725,3.977,6.469,null,null,6.448,null,3.861,null,7.741,6.609,5.106,4.485,5.185,6.719,6.719,4.289,5.934,null,6.287,5.023,null,null,null,5.968,6.017,7.525,null,4.054,4.054,5.568,4.923,5.166,6.838,7.341,6.324,5.842,6.06,null,4.186,6.188,4.47,null,null,6.561,6.951,null,null,6.234,2.707,3.186,null,4.269,5.866,null,6.818,7.122,null,4.228,3.421,5.975,null,4.232,6.346,null,null,null,4.505,5.816,6.678,null,null,null,5.696,5.707,4.795,5.216,4.354,4.832,5.158,7.319,7.029,6.284,4.556,4.881,4.881,null,7.302,null,4.657,null,6.358,null,5.977,5.841,6.048,6.442,null,6.03,null,6.491,5.785,5.785,null,null,null,null,null,null,null,6.594,null,4.969,6.411,null,3.245,6.523,6.257,6.743,null,null,5.422,6.058,6.421,3.898,null,null,null,7.344,7.06,null,null,5.281,3.781,5.976,null,4.214,null,null,4.422,null,null,null,null,null,4.372,4.873,6.733,6.749,null,6.611,6.195,null,null,5.607,6.043,3.561,3.502,3.341,null,null,null,null,null],\"type\":\"scatter\"},{\"marker\":{\"color\":[21.810043668122272,25.559388646288212,26.760526315789473,13.451528384279476,29.028384279475983,31.911504424778762,12.47456140350877,22.053711790393013,8.985152838427947,8.985152838427947,17.43859649122807,22.546491228070177,30.552888888888887,36.88515283842795,33.6640350877193,32.410964912280704,14.9353711790393,14.904395604395605,26.908810572687226,32.23201754385965,12.439035087719297,18.72749445676275,19.572489082969433,26.120960698689956,28.963436123348018,28.963436123348018,33.37543859649123,20.93857142857143,31.821052631578947,28.830567685589518,17.4,34.007860262008734,25.992070484581497,9.96387665198238,29.625764192139737,33.27105263157895,32.61310043668122,9.225991189427313,19.712280701754384,19.712280701754384,13.8,27.905286343612335,30.923684210526318,18.66622222222222,19.671365638766517,28.047136563876652,30.257456140350875,15.619911504424778,30.804405286343613,13.77938596491228,38.33480176211454,32.194273127753306,28.95530973451327,10.858590308370044,30.225,23.267111111111113,31.13493449781659,22.131004366812228,13.10482456140351,25.1,20.716299559471366,25.458515283842793,13.121834061135372,16.540174672489083,30.935087719298245,32.44185022026432,20.893392070484584,16.46637554585153,16.46637554585153,31.79694323144105,26.680176211453745,32.762831858407075,17.52711111111111,30.639301310043667,32.224017467248906,29.496035242290752,26.904405286343614,19.18362831858407,19.069868995633186,2.7262008733624454,30.8,33.255947136563876,33.255947136563876,29.301960784313728,22.347368421052632,35.943231441048034,12.389473684210527,25.44517543859649,24.321491228070176,32.80881057268723,23.3528384279476,25.7,25.87336244541485,10.056140350877193,24.132608695652173,32.074008810572685,26.8,29.4,37.045414847161574,17.712719298245613,28.3,14.866960352422907,28.335964912280705,20.525438596491227,20.6,30.672807017543857,29.7,13.498684210526315,14.718859649122807,13.690748898678414,23.244493392070485,26.737061403508772,26.44235807860262,34.19432314410481,32.075221238938056,30.863755458515286,28.85589519650655,26.9,40.4,32.63886462882096,27.627510917030566,26.73668122270742,14.404424778761062,30.1,30.82763157894737,22.218502202643172,4.2438596491228076,24.573684210526316,23.88546255506608,27.95371179039301,33.2825327510917,24.647368421052633,23.592543859649126,15.019298245614035,10.090829694323144,26.93274336283186,32.828508771929826,30.987336244541485,30.987336244541485,16.378947368421052,9.829824561403507,37.41091703056769,31.399561403508773,31.28640350877193,29.44625550660793,29.396929824561404,21.353711790393014,16.52433628318584,34.4140350877193,16.605676855895197,28.6,20.856387665198238,37.86052631578948,20.88377192982456,14.485537190082646,14.485537190082646,26.721052631578946,32.646929824561404,32.24956140350877,33.39030837004405,32.0,27.946902654867255,21.52787610619469,36.5726872246696,48.0,30.900873362445417,20.485087719298246,32.28333333333333,30.04273127753304,33.416157205240175,17.71842105263158,18.533187772925764,29.464628820960698,32.575438596491225,22.903493449781656,19.36052631578947,20.850438596491227,35.334649122807015,32.82587719298246,28.94912280701754,23.364035087719298,13.645614035087718,16.005701754385967,27.687280701754386,28.7,24.100438596491227,27.358078602620086,34.167912087912086,28.098678414096916,31.2,24.36288209606987,30.371929824561406,27.489035087719298,22.62989010989011,25.3219298245614,36.8,33.134934497816595,26.96666666666667,27.03815789473684,17.219650655021834,37.94366812227074,15.068281938325992,8.815111111111111,11.948471615720523,23.559388646288212,25.319298245614036,24.287336244541486,24.787224669603525,30.05049019607843,23.21798245614035,27.044541484716156,25.451982378854627,15.9,25.5,34.2,25.5,27.9],\"colorbar\":{\"title\":{\"text\":\"Voelt als (\\u00b0C)\"}},\"colorscale\":[[0.0,\"rgb(3, 35, 51)\"],[0.09090909090909091,\"rgb(13, 48, 100)\"],[0.18181818181818182,\"rgb(53, 50, 155)\"],[0.2727272727272727,\"rgb(93, 62, 153)\"],[0.36363636363636365,\"rgb(126, 77, 143)\"],[0.45454545454545453,\"rgb(158, 89, 135)\"],[0.5454545454545454,\"rgb(193, 100, 121)\"],[0.6363636363636364,\"rgb(225, 113, 97)\"],[0.7272727272727273,\"rgb(246, 139, 69)\"],[0.8181818181818182,\"rgb(251, 173, 60)\"],[0.9090909090909091,\"rgb(246, 211, 70)\"],[1.0,\"rgb(231, 250, 90)\"]],\"showscale\":true},\"mode\":\"markers\",\"name\":\"Gemiddelde gevoelstemperatuur\",\"text\":[\"Afghanistan\",\"Albania\",\"Algeria\",\"Andorra\",\"Angola\",\"Antigua and Barbuda\",\"Argentina\",\"Armenia\",\"Australia\",\"Australia\",\"Austria\",\"Azerbaijan\",\"Bahamas\",\"Bahrain\",\"Bangladesh\",\"Barbados\",\"Belarus\",\"Belgium\",\"Belize\",\"Benin\",\"Bhutan\",\"Bolivia\",\"Bosnia and Herzegovina\",\"Botswana\",\"Brazil\",\"Brazil\",\"Brunei Darussalam\",\"Bulgaria\",\"Burkina Faso\",\"Burundi\",\"B\\u00e9lgica\",\"Cambodia\",\"Cameroon\",\"Canada\",\"Cape Verde\",\"Central African Republic\",\"Chad\",\"Chile\",\"China\",\"China\",\"Colombia\",\"Comoros\",\"Congo\",\"Costa Rica\",\"Croatia\",\"Cuba\",\"Cyprus\",\"Czech Republic\",\"Democratic Republic of Congo\",\"Denmark\",\"Djibouti\",\"Dominica\",\"Dominican Republic\",\"Ecuador\",\"Egypt\",\"El Salvador\",\"Equatorial Guinea\",\"Eritrea\",\"Estonia\",\"Estonie\",\"Ethiopia\",\"Fiji Islands\",\"Finland\",\"France\",\"Gabon\",\"Gambia\",\"Georgia\",\"Germany\",\"Germany\",\"Ghana\",\"Greece\",\"Grenada\",\"Guatemala\",\"Guinea\",\"Guinea-Bissau\",\"Guyana\",\"Haiti\",\"Honduras\",\"Hungary\",\"Iceland\",\"Inde\",\"India\",\"India\",\"Indonesia\",\"Iran\",\"Iraq\",\"Ireland\",\"Israel\",\"Italy\",\"Jamaica\",\"Japan\",\"Jemen\",\"Jordan\",\"Kazakhstan\",\"Kenya\",\"Kiribati\",\"Komoren\",\"Kosovo\",\"Kuwait\",\"Kyrghyzstan\",\"Lao People's Democratic Republic\",\"Latvia\",\"Lebanon\",\"Lesotho\",\"Letonia\",\"Liberia\",\"Libya\",\"Liechtenstein\",\"Lithuania\",\"Luxembourg\",\"Macedonia\",\"Madagascar\",\"Malawi\",\"Malaysia\",\"Maldives\",\"Mali\",\"Malta\",\"Mal\\u00e1sia\",\"Marrocos\",\"Marshall Islands\",\"Mauritania\",\"Mauritius\",\"Mexico\",\"Mexique\",\"Micronesia\",\"Monaco\",\"Mongolia\",\"Montenegro\",\"Morocco\",\"Mozambique\",\"Myanmar\",\"Namibia\",\"Nepal\",\"Netherlands\",\"New Zealand\",\"Nicaragua\",\"Niger\",\"Nigeria\",\"Nigeria\",\"North Korea\",\"Norway\",\"Oman\",\"Pakistan\",\"Palau\",\"Panama\",\"Papua New Guinea\",\"Paraguay\",\"Peru\",\"Philippines\",\"Poland\",\"Pol\\u00f4nia\",\"Portugal\",\"Qatar\",\"Romania\",\"Russia\",\"Russia\",\"Rwanda\",\"Saint Kitts and Nevis\",\"Saint Lucia\",\"Saint Vincent and the Grenadines\",\"Saint-Vincent-et-les-Grenadines\",\"Samoa\",\"San Marino\",\"Saudi Arabia\",\"Saudi Arabien\",\"Senegal\",\"Serbia\",\"Seychelles Islands\",\"Sierra Leone\",\"Singapore\",\"Slovakia\",\"Slovenia\",\"Solomon Islands\",\"Somalia\",\"South Africa\",\"South Korea\",\"Spain\",\"Sri Lanka\",\"Sudan\",\"Suriname\",\"Swaziland\",\"Sweden\",\"Switzerland\",\"Syria\",\"S\\u00fcdkorea\",\"Tajikistan\",\"Tanzania\",\"Thailand\",\"Timor-Leste\",\"Togo\",\"Tonga\",\"Trinidad and Tobago\",\"Tunisia\",\"Turkey\",\"Turkmenistan\",\"Turkm\\u00e9nistan\",\"Tuvalu\",\"USA United States of America\",\"Uganda\",\"Ukraine\",\"United Arab Emirates\",\"United Kingdom\",\"United States of America\",\"Uruguay\",\"Uzbekistan\",\"Vanuatu\",\"Vatican City\",\"Venezuela\",\"Vietnam\",\"Yemen\",\"Zambia\",\"Zimbabwe\",\"\\u0413\\u0432\\u0430\\u0442\\u0435\\u043c\\u0430\\u043b\\u0430\",\"\\u041f\\u043e\\u043b\\u044c\\u0448\\u0430\",\"\\u0422\\u0443\\u0440\\u0446\\u0438\\u044f\",\"\\u0643\\u0648\\u0644\\u0648\\u0645\\u0628\\u064a\\u0627\",\"\\u706b\\u9e21\"],\"visible\":false,\"x\":[21.810043668122272,25.559388646288212,26.760526315789473,13.451528384279476,29.028384279475983,31.911504424778762,12.47456140350877,22.053711790393013,8.985152838427947,8.985152838427947,17.43859649122807,22.546491228070177,30.552888888888887,36.88515283842795,33.6640350877193,32.410964912280704,14.9353711790393,14.904395604395605,26.908810572687226,32.23201754385965,12.439035087719297,18.72749445676275,19.572489082969433,26.120960698689956,28.963436123348018,28.963436123348018,33.37543859649123,20.93857142857143,31.821052631578947,28.830567685589518,17.4,34.007860262008734,25.992070484581497,9.96387665198238,29.625764192139737,33.27105263157895,32.61310043668122,9.225991189427313,19.712280701754384,19.712280701754384,13.8,27.905286343612335,30.923684210526318,18.66622222222222,19.671365638766517,28.047136563876652,30.257456140350875,15.619911504424778,30.804405286343613,13.77938596491228,38.33480176211454,32.194273127753306,28.95530973451327,10.858590308370044,30.225,23.267111111111113,31.13493449781659,22.131004366812228,13.10482456140351,25.1,20.716299559471366,25.458515283842793,13.121834061135372,16.540174672489083,30.935087719298245,32.44185022026432,20.893392070484584,16.46637554585153,16.46637554585153,31.79694323144105,26.680176211453745,32.762831858407075,17.52711111111111,30.639301310043667,32.224017467248906,29.496035242290752,26.904405286343614,19.18362831858407,19.069868995633186,2.7262008733624454,30.8,33.255947136563876,33.255947136563876,29.301960784313728,22.347368421052632,35.943231441048034,12.389473684210527,25.44517543859649,24.321491228070176,32.80881057268723,23.3528384279476,25.7,25.87336244541485,10.056140350877193,24.132608695652173,32.074008810572685,26.8,29.4,37.045414847161574,17.712719298245613,28.3,14.866960352422907,28.335964912280705,20.525438596491227,20.6,30.672807017543857,29.7,13.498684210526315,14.718859649122807,13.690748898678414,23.244493392070485,26.737061403508772,26.44235807860262,34.19432314410481,32.075221238938056,30.863755458515286,28.85589519650655,26.9,40.4,32.63886462882096,27.627510917030566,26.73668122270742,14.404424778761062,30.1,30.82763157894737,22.218502202643172,4.2438596491228076,24.573684210526316,23.88546255506608,27.95371179039301,33.2825327510917,24.647368421052633,23.592543859649126,15.019298245614035,10.090829694323144,26.93274336283186,32.828508771929826,30.987336244541485,30.987336244541485,16.378947368421052,9.829824561403507,37.41091703056769,31.399561403508773,31.28640350877193,29.44625550660793,29.396929824561404,21.353711790393014,16.52433628318584,34.4140350877193,16.605676855895197,28.6,20.856387665198238,37.86052631578948,20.88377192982456,14.485537190082646,14.485537190082646,26.721052631578946,32.646929824561404,32.24956140350877,33.39030837004405,32.0,27.946902654867255,21.52787610619469,36.5726872246696,48.0,30.900873362445417,20.485087719298246,32.28333333333333,30.04273127753304,33.416157205240175,17.71842105263158,18.533187772925764,29.464628820960698,32.575438596491225,22.903493449781656,19.36052631578947,20.850438596491227,35.334649122807015,32.82587719298246,28.94912280701754,23.364035087719298,13.645614035087718,16.005701754385967,27.687280701754386,28.7,24.100438596491227,27.358078602620086,34.167912087912086,28.098678414096916,31.2,24.36288209606987,30.371929824561406,27.489035087719298,22.62989010989011,25.3219298245614,36.8,33.134934497816595,26.96666666666667,27.03815789473684,17.219650655021834,37.94366812227074,15.068281938325992,8.815111111111111,11.948471615720523,23.559388646288212,25.319298245614036,24.287336244541486,24.787224669603525,30.05049019607843,23.21798245614035,27.044541484716156,25.451982378854627,15.9,25.5,34.2,25.5,27.9],\"y\":[1.721,5.304,5.364,null,null,null,6.188,5.455,7.057,7.057,6.905,4.893,null,5.959,3.886,null,null,6.894,null,4.377,null,5.784,5.877,3.383,6.272,6.272,null,5.463,4.548,null,null,4.341,4.874,6.9,null,null,4.471,6.36,5.973,5.973,5.695,3.566,null,6.955,5.942,null,6.068,null,null,7.583,null,null,5.823,5.725,3.977,6.469,null,null,6.448,null,3.861,null,7.741,6.609,5.106,4.485,5.185,6.719,6.719,4.289,5.934,null,6.287,5.023,null,null,null,5.968,6.017,7.525,null,4.054,4.054,5.568,4.923,5.166,6.838,7.341,6.324,5.842,6.06,null,4.186,6.188,4.47,null,null,6.561,6.951,null,null,6.234,2.707,3.186,null,4.269,5.866,null,6.818,7.122,null,4.228,3.421,5.975,null,4.232,6.346,null,null,null,4.505,5.816,6.678,null,null,null,5.696,5.707,4.795,5.216,4.354,4.832,5.158,7.319,7.029,6.284,4.556,4.881,4.881,null,7.302,null,4.657,null,6.358,null,5.977,5.841,6.048,6.442,null,6.03,null,6.491,5.785,5.785,null,null,null,null,null,null,null,6.594,null,4.969,6.411,null,3.245,6.523,6.257,6.743,null,null,5.422,6.058,6.421,3.898,null,null,null,7.344,7.06,null,null,5.281,3.781,5.976,null,4.214,null,null,4.422,null,null,null,null,null,4.372,4.873,6.733,6.749,null,6.611,6.195,null,null,5.607,6.043,3.561,3.502,3.341,null,null,null,null,null],\"type\":\"scatter\"}],                        {\"template\":{\"data\":{\"histogram2dcontour\":[{\"type\":\"histogram2dcontour\",\"colorbar\":{\"outlinewidth\":0,\"ticks\":\"\"},\"colorscale\":[[0.0,\"#0d0887\"],[0.1111111111111111,\"#46039f\"],[0.2222222222222222,\"#7201a8\"],[0.3333333333333333,\"#9c179e\"],[0.4444444444444444,\"#bd3786\"],[0.5555555555555556,\"#d8576b\"],[0.6666666666666666,\"#ed7953\"],[0.7777777777777778,\"#fb9f3a\"],[0.8888888888888888,\"#fdca26\"],[1.0,\"#f0f921\"]]}],\"choropleth\":[{\"type\":\"choropleth\",\"colorbar\":{\"outlinewidth\":0,\"ticks\":\"\"}}],\"histogram2d\":[{\"type\":\"histogram2d\",\"colorbar\":{\"outlinewidth\":0,\"ticks\":\"\"},\"colorscale\":[[0.0,\"#0d0887\"],[0.1111111111111111,\"#46039f\"],[0.2222222222222222,\"#7201a8\"],[0.3333333333333333,\"#9c179e\"],[0.4444444444444444,\"#bd3786\"],[0.5555555555555556,\"#d8576b\"],[0.6666666666666666,\"#ed7953\"],[0.7777777777777778,\"#fb9f3a\"],[0.8888888888888888,\"#fdca26\"],[1.0,\"#f0f921\"]]}],\"heatmap\":[{\"type\":\"heatmap\",\"colorbar\":{\"outlinewidth\":0,\"ticks\":\"\"},\"colorscale\":[[0.0,\"#0d0887\"],[0.1111111111111111,\"#46039f\"],[0.2222222222222222,\"#7201a8\"],[0.3333333333333333,\"#9c179e\"],[0.4444444444444444,\"#bd3786\"],[0.5555555555555556,\"#d8576b\"],[0.6666666666666666,\"#ed7953\"],[0.7777777777777778,\"#fb9f3a\"],[0.8888888888888888,\"#fdca26\"],[1.0,\"#f0f921\"]]}],\"heatmapgl\":[{\"type\":\"heatmapgl\",\"colorbar\":{\"outlinewidth\":0,\"ticks\":\"\"},\"colorscale\":[[0.0,\"#0d0887\"],[0.1111111111111111,\"#46039f\"],[0.2222222222222222,\"#7201a8\"],[0.3333333333333333,\"#9c179e\"],[0.4444444444444444,\"#bd3786\"],[0.5555555555555556,\"#d8576b\"],[0.6666666666666666,\"#ed7953\"],[0.7777777777777778,\"#fb9f3a\"],[0.8888888888888888,\"#fdca26\"],[1.0,\"#f0f921\"]]}],\"contourcarpet\":[{\"type\":\"contourcarpet\",\"colorbar\":{\"outlinewidth\":0,\"ticks\":\"\"}}],\"contour\":[{\"type\":\"contour\",\"colorbar\":{\"outlinewidth\":0,\"ticks\":\"\"},\"colorscale\":[[0.0,\"#0d0887\"],[0.1111111111111111,\"#46039f\"],[0.2222222222222222,\"#7201a8\"],[0.3333333333333333,\"#9c179e\"],[0.4444444444444444,\"#bd3786\"],[0.5555555555555556,\"#d8576b\"],[0.6666666666666666,\"#ed7953\"],[0.7777777777777778,\"#fb9f3a\"],[0.8888888888888888,\"#fdca26\"],[1.0,\"#f0f921\"]]}],\"surface\":[{\"type\":\"surface\",\"colorbar\":{\"outlinewidth\":0,\"ticks\":\"\"},\"colorscale\":[[0.0,\"#0d0887\"],[0.1111111111111111,\"#46039f\"],[0.2222222222222222,\"#7201a8\"],[0.3333333333333333,\"#9c179e\"],[0.4444444444444444,\"#bd3786\"],[0.5555555555555556,\"#d8576b\"],[0.6666666666666666,\"#ed7953\"],[0.7777777777777778,\"#fb9f3a\"],[0.8888888888888888,\"#fdca26\"],[1.0,\"#f0f921\"]]}],\"mesh3d\":[{\"type\":\"mesh3d\",\"colorbar\":{\"outlinewidth\":0,\"ticks\":\"\"}}],\"scatter\":[{\"fillpattern\":{\"fillmode\":\"overlay\",\"size\":10,\"solidity\":0.2},\"type\":\"scatter\"}],\"parcoords\":[{\"type\":\"parcoords\",\"line\":{\"colorbar\":{\"outlinewidth\":0,\"ticks\":\"\"}}}],\"scatterpolargl\":[{\"type\":\"scatterpolargl\",\"marker\":{\"colorbar\":{\"outlinewidth\":0,\"ticks\":\"\"}}}],\"bar\":[{\"error_x\":{\"color\":\"#2a3f5f\"},\"error_y\":{\"color\":\"#2a3f5f\"},\"marker\":{\"line\":{\"color\":\"#E5ECF6\",\"width\":0.5},\"pattern\":{\"fillmode\":\"overlay\",\"size\":10,\"solidity\":0.2}},\"type\":\"bar\"}],\"scattergeo\":[{\"type\":\"scattergeo\",\"marker\":{\"colorbar\":{\"outlinewidth\":0,\"ticks\":\"\"}}}],\"scatterpolar\":[{\"type\":\"scatterpolar\",\"marker\":{\"colorbar\":{\"outlinewidth\":0,\"ticks\":\"\"}}}],\"histogram\":[{\"marker\":{\"pattern\":{\"fillmode\":\"overlay\",\"size\":10,\"solidity\":0.2}},\"type\":\"histogram\"}],\"scattergl\":[{\"type\":\"scattergl\",\"marker\":{\"colorbar\":{\"outlinewidth\":0,\"ticks\":\"\"}}}],\"scatter3d\":[{\"type\":\"scatter3d\",\"line\":{\"colorbar\":{\"outlinewidth\":0,\"ticks\":\"\"}},\"marker\":{\"colorbar\":{\"outlinewidth\":0,\"ticks\":\"\"}}}],\"scattermapbox\":[{\"type\":\"scattermapbox\",\"marker\":{\"colorbar\":{\"outlinewidth\":0,\"ticks\":\"\"}}}],\"scatterternary\":[{\"type\":\"scatterternary\",\"marker\":{\"colorbar\":{\"outlinewidth\":0,\"ticks\":\"\"}}}],\"scattercarpet\":[{\"type\":\"scattercarpet\",\"marker\":{\"colorbar\":{\"outlinewidth\":0,\"ticks\":\"\"}}}],\"carpet\":[{\"aaxis\":{\"endlinecolor\":\"#2a3f5f\",\"gridcolor\":\"white\",\"linecolor\":\"white\",\"minorgridcolor\":\"white\",\"startlinecolor\":\"#2a3f5f\"},\"baxis\":{\"endlinecolor\":\"#2a3f5f\",\"gridcolor\":\"white\",\"linecolor\":\"white\",\"minorgridcolor\":\"white\",\"startlinecolor\":\"#2a3f5f\"},\"type\":\"carpet\"}],\"table\":[{\"cells\":{\"fill\":{\"color\":\"#EBF0F8\"},\"line\":{\"color\":\"white\"}},\"header\":{\"fill\":{\"color\":\"#C8D4E3\"},\"line\":{\"color\":\"white\"}},\"type\":\"table\"}],\"barpolar\":[{\"marker\":{\"line\":{\"color\":\"#E5ECF6\",\"width\":0.5},\"pattern\":{\"fillmode\":\"overlay\",\"size\":10,\"solidity\":0.2}},\"type\":\"barpolar\"}],\"pie\":[{\"automargin\":true,\"type\":\"pie\"}]},\"layout\":{\"autotypenumbers\":\"strict\",\"colorway\":[\"#636efa\",\"#EF553B\",\"#00cc96\",\"#ab63fa\",\"#FFA15A\",\"#19d3f3\",\"#FF6692\",\"#B6E880\",\"#FF97FF\",\"#FECB52\"],\"font\":{\"color\":\"#2a3f5f\"},\"hovermode\":\"closest\",\"hoverlabel\":{\"align\":\"left\"},\"paper_bgcolor\":\"white\",\"plot_bgcolor\":\"#E5ECF6\",\"polar\":{\"bgcolor\":\"#E5ECF6\",\"angularaxis\":{\"gridcolor\":\"white\",\"linecolor\":\"white\",\"ticks\":\"\"},\"radialaxis\":{\"gridcolor\":\"white\",\"linecolor\":\"white\",\"ticks\":\"\"}},\"ternary\":{\"bgcolor\":\"#E5ECF6\",\"aaxis\":{\"gridcolor\":\"white\",\"linecolor\":\"white\",\"ticks\":\"\"},\"baxis\":{\"gridcolor\":\"white\",\"linecolor\":\"white\",\"ticks\":\"\"},\"caxis\":{\"gridcolor\":\"white\",\"linecolor\":\"white\",\"ticks\":\"\"}},\"coloraxis\":{\"colorbar\":{\"outlinewidth\":0,\"ticks\":\"\"}},\"colorscale\":{\"sequential\":[[0.0,\"#0d0887\"],[0.1111111111111111,\"#46039f\"],[0.2222222222222222,\"#7201a8\"],[0.3333333333333333,\"#9c179e\"],[0.4444444444444444,\"#bd3786\"],[0.5555555555555556,\"#d8576b\"],[0.6666666666666666,\"#ed7953\"],[0.7777777777777778,\"#fb9f3a\"],[0.8888888888888888,\"#fdca26\"],[1.0,\"#f0f921\"]],\"sequentialminus\":[[0.0,\"#0d0887\"],[0.1111111111111111,\"#46039f\"],[0.2222222222222222,\"#7201a8\"],[0.3333333333333333,\"#9c179e\"],[0.4444444444444444,\"#bd3786\"],[0.5555555555555556,\"#d8576b\"],[0.6666666666666666,\"#ed7953\"],[0.7777777777777778,\"#fb9f3a\"],[0.8888888888888888,\"#fdca26\"],[1.0,\"#f0f921\"]],\"diverging\":[[0,\"#8e0152\"],[0.1,\"#c51b7d\"],[0.2,\"#de77ae\"],[0.3,\"#f1b6da\"],[0.4,\"#fde0ef\"],[0.5,\"#f7f7f7\"],[0.6,\"#e6f5d0\"],[0.7,\"#b8e186\"],[0.8,\"#7fbc41\"],[0.9,\"#4d9221\"],[1,\"#276419\"]]},\"xaxis\":{\"gridcolor\":\"white\",\"linecolor\":\"white\",\"ticks\":\"\",\"title\":{\"standoff\":15},\"zerolinecolor\":\"white\",\"automargin\":true,\"zerolinewidth\":2},\"yaxis\":{\"gridcolor\":\"white\",\"linecolor\":\"white\",\"ticks\":\"\",\"title\":{\"standoff\":15},\"zerolinecolor\":\"white\",\"automargin\":true,\"zerolinewidth\":2},\"scene\":{\"xaxis\":{\"backgroundcolor\":\"#E5ECF6\",\"gridcolor\":\"white\",\"linecolor\":\"white\",\"showbackground\":true,\"ticks\":\"\",\"zerolinecolor\":\"white\",\"gridwidth\":2},\"yaxis\":{\"backgroundcolor\":\"#E5ECF6\",\"gridcolor\":\"white\",\"linecolor\":\"white\",\"showbackground\":true,\"ticks\":\"\",\"zerolinecolor\":\"white\",\"gridwidth\":2},\"zaxis\":{\"backgroundcolor\":\"#E5ECF6\",\"gridcolor\":\"white\",\"linecolor\":\"white\",\"showbackground\":true,\"ticks\":\"\",\"zerolinecolor\":\"white\",\"gridwidth\":2}},\"shapedefaults\":{\"line\":{\"color\":\"#2a3f5f\"}},\"annotationdefaults\":{\"arrowcolor\":\"#2a3f5f\",\"arrowhead\":0,\"arrowwidth\":1},\"geo\":{\"bgcolor\":\"white\",\"landcolor\":\"#E5ECF6\",\"subunitcolor\":\"white\",\"showland\":true,\"showlakes\":true,\"lakecolor\":\"white\"},\"title\":{\"x\":0.05},\"mapbox\":{\"style\":\"light\"}}},\"updatemenus\":[{\"buttons\":[{\"args\":[{\"visible\":[true,false]},{\"title\":\"Relatie tussen gemiddelde temperatuur en Ladder score per land\",\"xaxis\":{\"title\":\"Gemiddelde temperatuur (\\u00b0C)\",\"range\":[0,40]},\"yaxis\":{\"title\":\"Ladder score\"}}],\"label\":\"Gemiddelde temperatuur\",\"method\":\"update\"},{\"args\":[{\"visible\":[false,true]},{\"title\":\"Relatie tussen gemiddelde gevoelstemperatuur en Ladder score per land\",\"xaxis\":{\"title\":\"Gemiddelde gevoelstemperatuur (\\u00b0C)\",\"range\":[0,40]},\"yaxis\":{\"title\":\"Ladder score\"}}],\"label\":\"Gevoelstemperatuur\",\"method\":\"update\"}],\"direction\":\"down\",\"showactive\":true,\"type\":\"dropdown\",\"x\":1.5,\"xanchor\":\"right\",\"y\":1.15,\"yanchor\":\"top\"}],\"width\":900,\"height\":600,\"title\":{\"text\":\"Relatie tussen gemiddelde temperatuur en Ladder score per land\"},\"xaxis\":{\"title\":{\"text\":\"Gemiddelde temperatuur (\\u00b0C)\"}},\"yaxis\":{\"title\":{\"text\":\"Ladder score\"}}},                        {\"responsive\": true}                    ).then(function(){\n",
       "                            \n",
       "var gd = document.getElementById('e4b15e29-fbb0-47a0-9d75-61c11376cace');\n",
       "var x = new MutationObserver(function (mutations, observer) {{\n",
       "        var display = window.getComputedStyle(gd).display;\n",
       "        if (!display || display === 'none') {{\n",
       "            console.log([gd, 'removed!']);\n",
       "            Plotly.purge(gd);\n",
       "            observer.disconnect();\n",
       "        }}\n",
       "}});\n",
       "\n",
       "// Listen for the removal of the full notebook cells\n",
       "var notebookContainer = gd.closest('#notebook-container');\n",
       "if (notebookContainer) {{\n",
       "    x.observe(notebookContainer, {childList: true});\n",
       "}}\n",
       "\n",
       "// Listen for the clearing of the current output cell\n",
       "var outputEl = gd.closest('.output');\n",
       "if (outputEl) {{\n",
       "    x.observe(outputEl, {childList: true});\n",
       "}}\n",
       "\n",
       "                        })                };                });            </script>        </div>"
      ]
     },
     "metadata": {},
     "output_type": "display_data"
    }
   ],
   "source": [
    "trace_temp = go.Scatter(\n",
    "    x=df123[\"temperature_celsius\"],\n",
    "    y=df123[\"Ladder score\"],\n",
    "    mode=\"markers\",\n",
    "    marker=dict(\n",
    "        color=df123[\"temperature_celsius\"],\n",
    "        colorscale=\"thermal\",\n",
    "        showscale=True,\n",
    "        colorbar=dict(title=\"Temp (°C)\")\n",
    "    ),\n",
    "    text=df123[\"country\"],\n",
    "    name=\"Gemiddelde temperatuur\"\n",
    ")\n",
    "\n",
    "trace_feels_like = go.Scatter(\n",
    "    x=df123[\"feels_like_celsius\"],\n",
    "    y=df123[\"Ladder score\"],\n",
    "    mode=\"markers\",\n",
    "    marker=dict(\n",
    "        color=df123[\"feels_like_celsius\"],\n",
    "        colorscale=\"thermal\",\n",
    "        showscale=True,\n",
    "        colorbar=dict(title=\"Voelt als (°C)\")\n",
    "    ),\n",
    "    text=df123[\"country\"],\n",
    "    name=\"Gemiddelde gevoelstemperatuur\",\n",
    "    visible=False \n",
    ")\n",
    "\n",
    "figtempsscatter = go.Figure(data=[trace_temp, trace_feels_like])\n",
    "figtempsscatter.update_layout(\n",
    "    updatemenus=[\n",
    "        dict(\n",
    "            type=\"dropdown\",\n",
    "            direction=\"down\",\n",
    "            showactive=True,\n",
    "            buttons=list([\n",
    "                dict(label=\"Gemiddelde temperatuur\",\n",
    "                     method=\"update\",\n",
    "                     args=[{\"visible\": [True, False]},\n",
    "                           {\"title\": \"Relatie tussen gemiddelde temperatuur en Ladder score per land\",\n",
    "                            \"xaxis\": {\"title\": \"Gemiddelde temperatuur (°C)\", \"range\" : [0,40]},\n",
    "                            \"yaxis\": {\"title\": \"Ladder score\"}}]),\n",
    "\n",
    "                dict(label=\"Gevoelstemperatuur\",\n",
    "                     method=\"update\",\n",
    "                     args=[{\"visible\": [False, True]},\n",
    "                           {\"title\": \"Relatie tussen gemiddelde gevoelstemperatuur en Ladder score per land\",\n",
    "                            \"xaxis\": {\"title\": \"Gemiddelde gevoelstemperatuur (°C)\", \"range\" : [0,40]},\n",
    "                            \"yaxis\": {\"title\": \"Ladder score\"}}])\n",
    "            ]),\n",
    "            x=1.5,\n",
    "            xanchor=\"right\",\n",
    "            y=1.15,\n",
    "            yanchor=\"top\"\n",
    "        )\n",
    "    ],\n",
    "    width=900,\n",
    "    height=600,\n",
    "    title=\"Relatie tussen gemiddelde temperatuur en Ladder score per land\",\n",
    "    xaxis_title=\"Gemiddelde temperatuur (°C)\",\n",
    "    yaxis_title=\"Ladder score\"\n",
    ")\n",
    "\n",
    "figtempsscatter.show()\n"
   ]
  },
  {
   "cell_type": "markdown",
   "id": "f07d4a62-ad4f-4fd3-84ad-3540363a03fb",
   "metadata": {},
   "source": [
    "> *Figuur 8: Een scatter plot waarmee de relatie tussen de happiness Ladder score en de gemiddelde temperatuur per land wordt aangetoond. Koudere landen, aan de linker kant, lijken een hogere ladder score te hebben dan de warmere landen aan de rechter kant.*"
   ]
  },
  {
   "cell_type": "markdown",
   "id": "6865abad-58d1-4b5b-90f7-bc7dc8dd1cd1",
   "metadata": {},
   "source": [
    "De analyse van zonuren, bewolking en temperatuur, toont gemengde resultaten (zie Figuur 7). Zowel het aantal zonuren (r = 0.11) als de hoeveelheid bewolking (r = 0.14) hebben een zwakke positieve correlatie met geluk. Deze verbanden zijn erg zwak, wat wijst op beperkte invloed op geluk.    \n",
    "\n",
    "Opvallend daarentegen is de matige negatieve correlatie tussen temperatuur en geluk (r = –0.51), wat suggereert dat warmere landen gemiddeld minder gelukkig zijn. Ook gevoelstemperatuur heeft een vergelijkbare score (r = -0.48). Deze bevinding wijkt af van de verwachting dat warmere klimaten prettiger zijn om in te leven, en sluit aan bij eerder onderzoek dat laat zien dat warmere klimaten mogelijk komen met gezondheidsklachten, productiviteitsverlies en psychologisch ongemak (Berry et al., 2010; Rehdanz & Maddison, 2005)."
   ]
  },
  {
   "cell_type": "markdown",
   "id": "2d4ae37a-ef74-44fc-9938-d550a8137196",
   "metadata": {},
   "source": [
    "### Conclusie 1.1\r\n",
    "De resultaten tonen aan dat niet alle klimatologische leefomstandigheden sterk samenhangen met geluk. Hoewel zonlicht en bewolking weinig invloed lijken te hebben, blijkt een hogere gemiddelde temperatuur negatief geassocieerd met welzijn. Dit ondersteunt het idee dat bepaalde klimaatomstandigheden, met name warmte, kunnen bijdragen aan een lager geluksniveau, mogelijk via stress, vermoeidheid of verminderde leefbaarheid.\r\n"
   ]
  },
  {
   "cell_type": "markdown",
   "id": "bb01e374",
   "metadata": {},
   "source": [
    "### Argument 1.2: Extreme weersomstandigheden zorgen voor stress en gezondheidsproblemen, wat het geluksniveau verlaagt.\n",
    "\n",
    "Df3 definieert extreme weersomstandigheden als gebeurtenissen zoals hittegolven, hevige neerslag, overstromingen en orkanen (Shamim, 2025). Deze weersomstandigheden hebben negatieve effecten op gezondheid en welzijn (Berry et al., 2010). Hierdoor kan het welzijn en dus geluk verminderen (Berry et al., 2010; Peng et al., 2016). Onderzoeken tonen aan dat mensen ongelukkiger zijn in gebieden met veel extreme weersomstandigheden (Peng et al., 2016; Rehdanz & Maddison, 2005). Ook tonen ze aan dat de impact van het weer op geluk sterker wordt naarmate de omstandigheden extremer worden."
   ]
  },
  {
   "cell_type": "code",
   "execution_count": 11,
   "id": "f37eabe8-5f45-4a7e-9290-8d50c65bce10",
   "metadata": {
    "editable": true,
    "slideshow": {
     "slide_type": ""
    },
    "tags": [
     "hide-input"
    ]
   },
   "outputs": [
    {
     "name": "stdout",
     "output_type": "stream",
     "text": [
      "De correlatie tussen extreme weersomstandigheden en de Happiness Ladder score is -0.62.\n"
     ]
    }
   ],
   "source": [
    "df123ExtremeLadder = df123[['country','Extreme_Weather_Events', 'Ladder score']].dropna()\n",
    "df123ExtremeLadder = df123ExtremeLadder.groupby('country', as_index=False).mean(numeric_only=True) # Er waren duplicate values in de oorspronkelijke dataset.\n",
    "correlationmatrix = df123ExtremeLadder[['Extreme_Weather_Events','Ladder score']].corr(method='pearson')\n",
    "correlationwaarde = correlationmatrix.loc['Extreme_Weather_Events', 'Ladder score']\n",
    "print(f\"De correlatie tussen extreme weersomstandigheden en de Happiness Ladder score is {correlationwaarde:.2f}.\")"
   ]
  },
  {
   "cell_type": "code",
   "execution_count": 12,
   "id": "9670f668-eb26-466b-9758-c6dae6eafac4",
   "metadata": {
    "editable": true,
    "slideshow": {
     "slide_type": ""
    },
    "tags": [
     "hide-input"
    ]
   },
   "outputs": [
    {
     "data": {
      "image/png": "[encoded data removed]",
      "text/plain": [
       "<Figure size 640x480 with 1 Axes>"
      ]
     },
     "metadata": {},
     "output_type": "display_data"
    },
    {
     "data": {
      "text/plain": [
       "<Figure size 800x600 with 0 Axes>"
      ]
     },
     "metadata": {},
     "output_type": "display_data"
    }
   ],
   "source": [
    "sns.regplot(\n",
    "    data=df123ExtremeLadder,\n",
    "    x='Extreme_Weather_Events',\n",
    "    y='Ladder score',\n",
    "    scatter_kws={'alpha':0.7},\n",
    "    line_kws={\"color\":\"red\"}\n",
    ")\n",
    "plt.title('Correlation between Extreme Weather Events and Happiness (Ladder score)')\n",
    "plt.xlabel('Extreme Weather Events per year')\n",
    "plt.ylabel('Ladder score (Happiness)')\n",
    "plt.grid(True)\n",
    "plt.figure(figsize=(8,6))\n",
    "plt.show()\n"
   ]
  },
  {
   "cell_type": "markdown",
   "id": "dbf82375-b2e8-4a22-b5a9-2c45b960d08a",
   "metadata": {},
   "source": [
    "> *Figuur 9: Een scatterplot met een regressielijn die een negatieve correlatie aantoont tussen extreme weersomstandigheden en de Ladder score.*"
   ]
  },
  {
   "cell_type": "markdown",
   "id": "4898699c-f544-4556-850a-dc9d552cc6ac",
   "metadata": {},
   "source": [
    "Volgens Tian et al. (2022) kan luchtkwaliteit ook het geluk van mensen verminderen: als de luchtkwaliteit verslechtert, verslechtert het welzijn ook. Ook lijkt luchtvervuiling depressieve klachten te verergeren (Zhang et al., 2017). In Figuur 10 zijn de resultaten afgebeeld van de correlaties tussen de Ladder score en de variabelen voor luchtkwaliteit."
   ]
  },
  {
   "cell_type": "code",
   "execution_count": 13,
   "id": "ec205fa1-aaf1-4179-93f6-a6cfc25a26b6",
   "metadata": {
    "editable": true,
    "slideshow": {
     "slide_type": ""
    },
    "tags": [
     "hide-input"
    ]
   },
   "outputs": [
    {
     "name": "stdout",
     "output_type": "stream",
     "text": [
      "De correlatie tussen air_quality_Carbon_Monoxide en de Happiness Ladder score is -0.01.\n",
      "De correlatie tussen air_quality_Ozone en de Happiness Ladder score is -0.16.\n",
      "De correlatie tussen air_quality_Nitrogen_dioxide en de Happiness Ladder score is 0.23.\n",
      "De correlatie tussen air_quality_Sulphur_dioxide en de Happiness Ladder score is 0.04.\n",
      "De correlatie tussen air_quality_PM2.5 en de Happiness Ladder score is 0.01.\n",
      "De correlatie tussen air_quality_PM10 en de Happiness Ladder score is -0.00.\n",
      "De correlatie tussen air_quality_us-epa-index en de Happiness Ladder score is -0.04.\n",
      "De correlatie tussen air_quality_gb-defra-index en de Happiness Ladder score is -0.03.\n"
     ]
    },
    {
     "data": {
      "application/vnd.plotly.v1+json": {
       "config": {
        "plotlyServerURL": "https://plot.ly"
       },
       "data": [
        {
         "alignmentgroup": "True",
         "hovertemplate": "Correlatie met Happiness=%{text}<br>Variable=%{y}<extra></extra>",
         "legendgroup": "",
         "marker": {
          "color": "#636efa",
          "pattern": {
           "shape": ""
          }
         },
         "name": "",
         "offsetgroup": "",
         "orientation": "h",
         "showlegend": false,
         "text": [
          0.23,
          0.04,
          0.01,
          0,
          -0.01,
          -0.03,
          -0.04,
          -0.16
         ],
         "textposition": "outside",
         "texttemplate": "%{text:.2f}",
         "type": "bar",
         "x": [
          0.23,
          0.04,
          0.01,
          0,
          -0.01,
          -0.03,
          -0.04,
          -0.16
         ],
         "xaxis": "x",
         "y": [
          "Nitrogen Dioxide",
          "Sulphur Dioxide",
          "PM2.5",
          "PM10",
          "Carbon Monoxide",
          "GB DEFRA Index",
          "US EPA Index",
          "Ozone"
         ],
         "yaxis": "y"
        }
       ],
       "layout": {
        "barmode": "relative",
        "height": 400,
        "legend": {
         "tracegroupgap": 0
        },
        "showlegend": false,
        "template": {
         "data": {
          "bar": [
           {
            "error_x": {
             "color": "#2a3f5f"
            },
            "error_y": {
             "color": "#2a3f5f"
            },
            "marker": {
             "line": {
              "color": "#E5ECF6",
              "width": 0.5
             },
             "pattern": {
              "fillmode": "overlay",
              "size": 10,
              "solidity": 0.2
             }
            },
            "type": "bar"
           }
          ],
          "barpolar": [
           {
            "marker": {
             "line": {
              "color": "#E5ECF6",
              "width": 0.5
             },
             "pattern": {
              "fillmode": "overlay",
              "size": 10,
              "solidity": 0.2
             }
            },
            "type": "barpolar"
           }
          ],
          "carpet": [
           {
            "aaxis": {
             "endlinecolor": "#2a3f5f",
             "gridcolor": "white",
             "linecolor": "white",
             "minorgridcolor": "white",
             "startlinecolor": "#2a3f5f"
            },
            "baxis": {
             "endlinecolor": "#2a3f5f",
             "gridcolor": "white",
             "linecolor": "white",
             "minorgridcolor": "white",
             "startlinecolor": "#2a3f5f"
            },
            "type": "carpet"
           }
          ],
          "choropleth": [
           {
            "colorbar": {
             "outlinewidth": 0,
             "ticks": ""
            },
            "type": "choropleth"
           }
          ],
          "contour": [
           {
            "colorbar": {
             "outlinewidth": 0,
             "ticks": ""
            },
            "colorscale": [
             [
              0,
              "#0d0887"
             ],
             [
              0.1111111111111111,
              "#46039f"
             ],
             [
              0.2222222222222222,
              "#7201a8"
             ],
             [
              0.3333333333333333,
              "#9c179e"
             ],
             [
              0.4444444444444444,
              "#bd3786"
             ],
             [
              0.5555555555555556,
              "#d8576b"
             ],
             [
              0.6666666666666666,
              "#ed7953"
             ],
             [
              0.7777777777777778,
              "#fb9f3a"
             ],
             [
              0.8888888888888888,
              "#fdca26"
             ],
             [
              1,
              "#f0f921"
             ]
            ],
            "type": "contour"
           }
          ],
          "contourcarpet": [
           {
            "colorbar": {
             "outlinewidth": 0,
             "ticks": ""
            },
            "type": "contourcarpet"
           }
          ],
          "heatmap": [
           {
            "colorbar": {
             "outlinewidth": 0,
             "ticks": ""
            },
            "colorscale": [
             [
              0,
              "#0d0887"
             ],
             [
              0.1111111111111111,
              "#46039f"
             ],
             [
              0.2222222222222222,
              "#7201a8"
             ],
             [
              0.3333333333333333,
              "#9c179e"
             ],
             [
              0.4444444444444444,
              "#bd3786"
             ],
             [
              0.5555555555555556,
              "#d8576b"
             ],
             [
              0.6666666666666666,
              "#ed7953"
             ],
             [
              0.7777777777777778,
              "#fb9f3a"
             ],
             [
              0.8888888888888888,
              "#fdca26"
             ],
             [
              1,
              "#f0f921"
             ]
            ],
            "type": "heatmap"
           }
          ],
          "heatmapgl": [
           {
            "colorbar": {
             "outlinewidth": 0,
             "ticks": ""
            },
            "colorscale": [
             [
              0,
              "#0d0887"
             ],
             [
              0.1111111111111111,
              "#46039f"
             ],
             [
              0.2222222222222222,
              "#7201a8"
             ],
             [
              0.3333333333333333,
              "#9c179e"
             ],
             [
              0.4444444444444444,
              "#bd3786"
             ],
             [
              0.5555555555555556,
              "#d8576b"
             ],
             [
              0.6666666666666666,
              "#ed7953"
             ],
             [
              0.7777777777777778,
              "#fb9f3a"
             ],
             [
              0.8888888888888888,
              "#fdca26"
             ],
             [
              1,
              "#f0f921"
             ]
            ],
            "type": "heatmapgl"
           }
          ],
          "histogram": [
           {
            "marker": {
             "pattern": {
              "fillmode": "overlay",
              "size": 10,
              "solidity": 0.2
             }
            },
            "type": "histogram"
           }
          ],
          "histogram2d": [
           {
            "colorbar": {
             "outlinewidth": 0,
             "ticks": ""
            },
            "colorscale": [
             [
              0,
              "#0d0887"
             ],
             [
              0.1111111111111111,
              "#46039f"
             ],
             [
              0.2222222222222222,
              "#7201a8"
             ],
             [
              0.3333333333333333,
              "#9c179e"
             ],
             [
              0.4444444444444444,
              "#bd3786"
             ],
             [
              0.5555555555555556,
              "#d8576b"
             ],
             [
              0.6666666666666666,
              "#ed7953"
             ],
             [
              0.7777777777777778,
              "#fb9f3a"
             ],
             [
              0.8888888888888888,
              "#fdca26"
             ],
             [
              1,
              "#f0f921"
             ]
            ],
            "type": "histogram2d"
           }
          ],
          "histogram2dcontour": [
           {
            "colorbar": {
             "outlinewidth": 0,
             "ticks": ""
            },
            "colorscale": [
             [
              0,
              "#0d0887"
             ],
             [
              0.1111111111111111,
              "#46039f"
             ],
             [
              0.2222222222222222,
              "#7201a8"
             ],
             [
              0.3333333333333333,
              "#9c179e"
             ],
             [
              0.4444444444444444,
              "#bd3786"
             ],
             [
              0.5555555555555556,
              "#d8576b"
             ],
             [
              0.6666666666666666,
              "#ed7953"
             ],
             [
              0.7777777777777778,
              "#fb9f3a"
             ],
             [
              0.8888888888888888,
              "#fdca26"
             ],
             [
              1,
              "#f0f921"
             ]
            ],
            "type": "histogram2dcontour"
           }
          ],
          "mesh3d": [
           {
            "colorbar": {
             "outlinewidth": 0,
             "ticks": ""
            },
            "type": "mesh3d"
           }
          ],
          "parcoords": [
           {
            "line": {
             "colorbar": {
              "outlinewidth": 0,
              "ticks": ""
             }
            },
            "type": "parcoords"
           }
          ],
          "pie": [
           {
            "automargin": true,
            "type": "pie"
           }
          ],
          "scatter": [
           {
            "fillpattern": {
             "fillmode": "overlay",
             "size": 10,
             "solidity": 0.2
            },
            "type": "scatter"
           }
          ],
          "scatter3d": [
           {
            "line": {
             "colorbar": {
              "outlinewidth": 0,
              "ticks": ""
             }
            },
            "marker": {
             "colorbar": {
              "outlinewidth": 0,
              "ticks": ""
             }
            },
            "type": "scatter3d"
           }
          ],
          "scattercarpet": [
           {
            "marker": {
             "colorbar": {
              "outlinewidth": 0,
              "ticks": ""
             }
            },
            "type": "scattercarpet"
           }
          ],
          "scattergeo": [
           {
            "marker": {
             "colorbar": {
              "outlinewidth": 0,
              "ticks": ""
             }
            },
            "type": "scattergeo"
           }
          ],
          "scattergl": [
           {
            "marker": {
             "colorbar": {
              "outlinewidth": 0,
              "ticks": ""
             }
            },
            "type": "scattergl"
           }
          ],
          "scattermapbox": [
           {
            "marker": {
             "colorbar": {
              "outlinewidth": 0,
              "ticks": ""
             }
            },
            "type": "scattermapbox"
           }
          ],
          "scatterpolar": [
           {
            "marker": {
             "colorbar": {
              "outlinewidth": 0,
              "ticks": ""
             }
            },
            "type": "scatterpolar"
           }
          ],
          "scatterpolargl": [
           {
            "marker": {
             "colorbar": {
              "outlinewidth": 0,
              "ticks": ""
             }
            },
            "type": "scatterpolargl"
           }
          ],
          "scatterternary": [
           {
            "marker": {
             "colorbar": {
              "outlinewidth": 0,
              "ticks": ""
             }
            },
            "type": "scatterternary"
           }
          ],
          "surface": [
           {
            "colorbar": {
             "outlinewidth": 0,
             "ticks": ""
            },
            "colorscale": [
             [
              0,
              "#0d0887"
             ],
             [
              0.1111111111111111,
              "#46039f"
             ],
             [
              0.2222222222222222,
              "#7201a8"
             ],
             [
              0.3333333333333333,
              "#9c179e"
             ],
             [
              0.4444444444444444,
              "#bd3786"
             ],
             [
              0.5555555555555556,
              "#d8576b"
             ],
             [
              0.6666666666666666,
              "#ed7953"
             ],
             [
              0.7777777777777778,
              "#fb9f3a"
             ],
             [
              0.8888888888888888,
              "#fdca26"
             ],
             [
              1,
              "#f0f921"
             ]
            ],
            "type": "surface"
           }
          ],
          "table": [
           {
            "cells": {
             "fill": {
              "color": "#EBF0F8"
             },
             "line": {
              "color": "white"
             }
            },
            "header": {
             "fill": {
              "color": "#C8D4E3"
             },
             "line": {
              "color": "white"
             }
            },
            "type": "table"
           }
          ]
         },
         "layout": {
          "annotationdefaults": {
           "arrowcolor": "#2a3f5f",
           "arrowhead": 0,
           "arrowwidth": 1
          },
          "autotypenumbers": "strict",
          "coloraxis": {
           "colorbar": {
            "outlinewidth": 0,
            "ticks": ""
           }
          },
          "colorscale": {
           "diverging": [
            [
             0,
             "#8e0152"
            ],
            [
             0.1,
             "#c51b7d"
            ],
            [
             0.2,
             "#de77ae"
            ],
            [
             0.3,
             "#f1b6da"
            ],
            [
             0.4,
             "#fde0ef"
            ],
            [
             0.5,
             "#f7f7f7"
            ],
            [
             0.6,
             "#e6f5d0"
            ],
            [
             0.7,
             "#b8e186"
            ],
            [
             0.8,
             "#7fbc41"
            ],
            [
             0.9,
             "#4d9221"
            ],
            [
             1,
             "#276419"
            ]
           ],
           "sequential": [
            [
             0,
             "#0d0887"
            ],
            [
             0.1111111111111111,
             "#46039f"
            ],
            [
             0.2222222222222222,
             "#7201a8"
            ],
            [
             0.3333333333333333,
             "#9c179e"
            ],
            [
             0.4444444444444444,
             "#bd3786"
            ],
            [
             0.5555555555555556,
             "#d8576b"
            ],
            [
             0.6666666666666666,
             "#ed7953"
            ],
            [
             0.7777777777777778,
             "#fb9f3a"
            ],
            [
             0.8888888888888888,
             "#fdca26"
            ],
            [
             1,
             "#f0f921"
            ]
           ],
           "sequentialminus": [
            [
             0,
             "#0d0887"
            ],
            [
             0.1111111111111111,
             "#46039f"
            ],
            [
             0.2222222222222222,
             "#7201a8"
            ],
            [
             0.3333333333333333,
             "#9c179e"
            ],
            [
             0.4444444444444444,
             "#bd3786"
            ],
            [
             0.5555555555555556,
             "#d8576b"
            ],
            [
             0.6666666666666666,
             "#ed7953"
            ],
            [
             0.7777777777777778,
             "#fb9f3a"
            ],
            [
             0.8888888888888888,
             "#fdca26"
            ],
            [
             1,
             "#f0f921"
            ]
           ]
          },
          "colorway": [
           "#636efa",
           "#EF553B",
           "#00cc96",
           "#ab63fa",
           "#FFA15A",
           "#19d3f3",
           "#FF6692",
           "#B6E880",
           "#FF97FF",
           "#FECB52"
          ],
          "font": {
           "color": "#2a3f5f"
          },
          "geo": {
           "bgcolor": "white",
           "lakecolor": "white",
           "landcolor": "#E5ECF6",
           "showlakes": true,
           "showland": true,
           "subunitcolor": "white"
          },
          "hoverlabel": {
           "align": "left"
          },
          "hovermode": "closest",
          "mapbox": {
           "style": "light"
          },
          "paper_bgcolor": "white",
          "plot_bgcolor": "#E5ECF6",
          "polar": {
           "angularaxis": {
            "gridcolor": "white",
            "linecolor": "white",
            "ticks": ""
           },
           "bgcolor": "#E5ECF6",
           "radialaxis": {
            "gridcolor": "white",
            "linecolor": "white",
            "ticks": ""
           }
          },
          "scene": {
           "xaxis": {
            "backgroundcolor": "#E5ECF6",
            "gridcolor": "white",
            "gridwidth": 2,
            "linecolor": "white",
            "showbackground": true,
            "ticks": "",
            "zerolinecolor": "white"
           },
           "yaxis": {
            "backgroundcolor": "#E5ECF6",
            "gridcolor": "white",
            "gridwidth": 2,
            "linecolor": "white",
            "showbackground": true,
            "ticks": "",
            "zerolinecolor": "white"
           },
           "zaxis": {
            "backgroundcolor": "#E5ECF6",
            "gridcolor": "white",
            "gridwidth": 2,
            "linecolor": "white",
            "showbackground": true,
            "ticks": "",
            "zerolinecolor": "white"
           }
          },
          "shapedefaults": {
           "line": {
            "color": "#2a3f5f"
           }
          },
          "ternary": {
           "aaxis": {
            "gridcolor": "white",
            "linecolor": "white",
            "ticks": ""
           },
           "baxis": {
            "gridcolor": "white",
            "linecolor": "white",
            "ticks": ""
           },
           "bgcolor": "#E5ECF6",
           "caxis": {
            "gridcolor": "white",
            "linecolor": "white",
            "ticks": ""
           }
          },
          "title": {
           "x": 0.05
          },
          "xaxis": {
           "automargin": true,
           "gridcolor": "white",
           "linecolor": "white",
           "ticks": "",
           "title": {
            "standoff": 15
           },
           "zerolinecolor": "white",
           "zerolinewidth": 2
          },
          "yaxis": {
           "automargin": true,
           "gridcolor": "white",
           "linecolor": "white",
           "ticks": "",
           "title": {
            "standoff": 15
           },
           "zerolinecolor": "white",
           "zerolinewidth": 2
          }
         }
        },
        "title": {
         "text": "Correlatie tussen Air Quality Variables en Happiness (Ladder score)"
        },
        "width": 800,
        "xaxis": {
         "anchor": "y",
         "domain": [
          0,
          1
         ],
         "range": [
          -0.2,
          0.3
         ],
         "title": {
          "text": "Correlatie met Happiness"
         },
         "type": "linear"
        },
        "yaxis": {
         "anchor": "x",
         "autorange": true,
         "domain": [
          0,
          1
         ],
         "range": [
          -0.5,
          7.5
         ],
         "title": {
          "text": "Variable"
         },
         "type": "category"
        }
       }
      },
      "text/html": [
       "<div>                            <div id=\"50ce2ecb-b011-47ec-ab6f-c9cac779a8bd\" class=\"plotly-graph-div\" style=\"height:400px; width:800px;\"></div>            <script type=\"text/javascript\">                require([\"plotly\"], function(Plotly) {                    window.PLOTLYENV=window.PLOTLYENV || {};                                    if (document.getElementById(\"50ce2ecb-b011-47ec-ab6f-c9cac779a8bd\")) {                    Plotly.newPlot(                        \"50ce2ecb-b011-47ec-ab6f-c9cac779a8bd\",                        [{\"alignmentgroup\":\"True\",\"hovertemplate\":\"Correlatie met Happiness=%{text}\\u003cbr\\u003eVariable=%{y}\\u003cextra\\u003e\\u003c\\u002fextra\\u003e\",\"legendgroup\":\"\",\"marker\":{\"color\":\"#636efa\",\"pattern\":{\"shape\":\"\"}},\"name\":\"\",\"offsetgroup\":\"\",\"orientation\":\"h\",\"showlegend\":false,\"text\":[0.23,0.04,0.01,-0.0,-0.01,-0.03,-0.04,-0.16],\"textposition\":\"outside\",\"x\":[0.23,0.04,0.01,-0.0,-0.01,-0.03,-0.04,-0.16],\"xaxis\":\"x\",\"y\":[\"Nitrogen Dioxide\",\"Sulphur Dioxide\",\"PM2.5\",\"PM10\",\"Carbon Monoxide\",\"GB DEFRA Index\",\"US EPA Index\",\"Ozone\"],\"yaxis\":\"y\",\"type\":\"bar\",\"texttemplate\":\"%{text:.2f}\"}],                        {\"template\":{\"data\":{\"histogram2dcontour\":[{\"type\":\"histogram2dcontour\",\"colorbar\":{\"outlinewidth\":0,\"ticks\":\"\"},\"colorscale\":[[0.0,\"#0d0887\"],[0.1111111111111111,\"#46039f\"],[0.2222222222222222,\"#7201a8\"],[0.3333333333333333,\"#9c179e\"],[0.4444444444444444,\"#bd3786\"],[0.5555555555555556,\"#d8576b\"],[0.6666666666666666,\"#ed7953\"],[0.7777777777777778,\"#fb9f3a\"],[0.8888888888888888,\"#fdca26\"],[1.0,\"#f0f921\"]]}],\"choropleth\":[{\"type\":\"choropleth\",\"colorbar\":{\"outlinewidth\":0,\"ticks\":\"\"}}],\"histogram2d\":[{\"type\":\"histogram2d\",\"colorbar\":{\"outlinewidth\":0,\"ticks\":\"\"},\"colorscale\":[[0.0,\"#0d0887\"],[0.1111111111111111,\"#46039f\"],[0.2222222222222222,\"#7201a8\"],[0.3333333333333333,\"#9c179e\"],[0.4444444444444444,\"#bd3786\"],[0.5555555555555556,\"#d8576b\"],[0.6666666666666666,\"#ed7953\"],[0.7777777777777778,\"#fb9f3a\"],[0.8888888888888888,\"#fdca26\"],[1.0,\"#f0f921\"]]}],\"heatmap\":[{\"type\":\"heatmap\",\"colorbar\":{\"outlinewidth\":0,\"ticks\":\"\"},\"colorscale\":[[0.0,\"#0d0887\"],[0.1111111111111111,\"#46039f\"],[0.2222222222222222,\"#7201a8\"],[0.3333333333333333,\"#9c179e\"],[0.4444444444444444,\"#bd3786\"],[0.5555555555555556,\"#d8576b\"],[0.6666666666666666,\"#ed7953\"],[0.7777777777777778,\"#fb9f3a\"],[0.8888888888888888,\"#fdca26\"],[1.0,\"#f0f921\"]]}],\"heatmapgl\":[{\"type\":\"heatmapgl\",\"colorbar\":{\"outlinewidth\":0,\"ticks\":\"\"},\"colorscale\":[[0.0,\"#0d0887\"],[0.1111111111111111,\"#46039f\"],[0.2222222222222222,\"#7201a8\"],[0.3333333333333333,\"#9c179e\"],[0.4444444444444444,\"#bd3786\"],[0.5555555555555556,\"#d8576b\"],[0.6666666666666666,\"#ed7953\"],[0.7777777777777778,\"#fb9f3a\"],[0.8888888888888888,\"#fdca26\"],[1.0,\"#f0f921\"]]}],\"contourcarpet\":[{\"type\":\"contourcarpet\",\"colorbar\":{\"outlinewidth\":0,\"ticks\":\"\"}}],\"contour\":[{\"type\":\"contour\",\"colorbar\":{\"outlinewidth\":0,\"ticks\":\"\"},\"colorscale\":[[0.0,\"#0d0887\"],[0.1111111111111111,\"#46039f\"],[0.2222222222222222,\"#7201a8\"],[0.3333333333333333,\"#9c179e\"],[0.4444444444444444,\"#bd3786\"],[0.5555555555555556,\"#d8576b\"],[0.6666666666666666,\"#ed7953\"],[0.7777777777777778,\"#fb9f3a\"],[0.8888888888888888,\"#fdca26\"],[1.0,\"#f0f921\"]]}],\"surface\":[{\"type\":\"surface\",\"colorbar\":{\"outlinewidth\":0,\"ticks\":\"\"},\"colorscale\":[[0.0,\"#0d0887\"],[0.1111111111111111,\"#46039f\"],[0.2222222222222222,\"#7201a8\"],[0.3333333333333333,\"#9c179e\"],[0.4444444444444444,\"#bd3786\"],[0.5555555555555556,\"#d8576b\"],[0.6666666666666666,\"#ed7953\"],[0.7777777777777778,\"#fb9f3a\"],[0.8888888888888888,\"#fdca26\"],[1.0,\"#f0f921\"]]}],\"mesh3d\":[{\"type\":\"mesh3d\",\"colorbar\":{\"outlinewidth\":0,\"ticks\":\"\"}}],\"scatter\":[{\"fillpattern\":{\"fillmode\":\"overlay\",\"size\":10,\"solidity\":0.2},\"type\":\"scatter\"}],\"parcoords\":[{\"type\":\"parcoords\",\"line\":{\"colorbar\":{\"outlinewidth\":0,\"ticks\":\"\"}}}],\"scatterpolargl\":[{\"type\":\"scatterpolargl\",\"marker\":{\"colorbar\":{\"outlinewidth\":0,\"ticks\":\"\"}}}],\"bar\":[{\"error_x\":{\"color\":\"#2a3f5f\"},\"error_y\":{\"color\":\"#2a3f5f\"},\"marker\":{\"line\":{\"color\":\"#E5ECF6\",\"width\":0.5},\"pattern\":{\"fillmode\":\"overlay\",\"size\":10,\"solidity\":0.2}},\"type\":\"bar\"}],\"scattergeo\":[{\"type\":\"scattergeo\",\"marker\":{\"colorbar\":{\"outlinewidth\":0,\"ticks\":\"\"}}}],\"scatterpolar\":[{\"type\":\"scatterpolar\",\"marker\":{\"colorbar\":{\"outlinewidth\":0,\"ticks\":\"\"}}}],\"histogram\":[{\"marker\":{\"pattern\":{\"fillmode\":\"overlay\",\"size\":10,\"solidity\":0.2}},\"type\":\"histogram\"}],\"scattergl\":[{\"type\":\"scattergl\",\"marker\":{\"colorbar\":{\"outlinewidth\":0,\"ticks\":\"\"}}}],\"scatter3d\":[{\"type\":\"scatter3d\",\"line\":{\"colorbar\":{\"outlinewidth\":0,\"ticks\":\"\"}},\"marker\":{\"colorbar\":{\"outlinewidth\":0,\"ticks\":\"\"}}}],\"scattermapbox\":[{\"type\":\"scattermapbox\",\"marker\":{\"colorbar\":{\"outlinewidth\":0,\"ticks\":\"\"}}}],\"scatterternary\":[{\"type\":\"scatterternary\",\"marker\":{\"colorbar\":{\"outlinewidth\":0,\"ticks\":\"\"}}}],\"scattercarpet\":[{\"type\":\"scattercarpet\",\"marker\":{\"colorbar\":{\"outlinewidth\":0,\"ticks\":\"\"}}}],\"carpet\":[{\"aaxis\":{\"endlinecolor\":\"#2a3f5f\",\"gridcolor\":\"white\",\"linecolor\":\"white\",\"minorgridcolor\":\"white\",\"startlinecolor\":\"#2a3f5f\"},\"baxis\":{\"endlinecolor\":\"#2a3f5f\",\"gridcolor\":\"white\",\"linecolor\":\"white\",\"minorgridcolor\":\"white\",\"startlinecolor\":\"#2a3f5f\"},\"type\":\"carpet\"}],\"table\":[{\"cells\":{\"fill\":{\"color\":\"#EBF0F8\"},\"line\":{\"color\":\"white\"}},\"header\":{\"fill\":{\"color\":\"#C8D4E3\"},\"line\":{\"color\":\"white\"}},\"type\":\"table\"}],\"barpolar\":[{\"marker\":{\"line\":{\"color\":\"#E5ECF6\",\"width\":0.5},\"pattern\":{\"fillmode\":\"overlay\",\"size\":10,\"solidity\":0.2}},\"type\":\"barpolar\"}],\"pie\":[{\"automargin\":true,\"type\":\"pie\"}]},\"layout\":{\"autotypenumbers\":\"strict\",\"colorway\":[\"#636efa\",\"#EF553B\",\"#00cc96\",\"#ab63fa\",\"#FFA15A\",\"#19d3f3\",\"#FF6692\",\"#B6E880\",\"#FF97FF\",\"#FECB52\"],\"font\":{\"color\":\"#2a3f5f\"},\"hovermode\":\"closest\",\"hoverlabel\":{\"align\":\"left\"},\"paper_bgcolor\":\"white\",\"plot_bgcolor\":\"#E5ECF6\",\"polar\":{\"bgcolor\":\"#E5ECF6\",\"angularaxis\":{\"gridcolor\":\"white\",\"linecolor\":\"white\",\"ticks\":\"\"},\"radialaxis\":{\"gridcolor\":\"white\",\"linecolor\":\"white\",\"ticks\":\"\"}},\"ternary\":{\"bgcolor\":\"#E5ECF6\",\"aaxis\":{\"gridcolor\":\"white\",\"linecolor\":\"white\",\"ticks\":\"\"},\"baxis\":{\"gridcolor\":\"white\",\"linecolor\":\"white\",\"ticks\":\"\"},\"caxis\":{\"gridcolor\":\"white\",\"linecolor\":\"white\",\"ticks\":\"\"}},\"coloraxis\":{\"colorbar\":{\"outlinewidth\":0,\"ticks\":\"\"}},\"colorscale\":{\"sequential\":[[0.0,\"#0d0887\"],[0.1111111111111111,\"#46039f\"],[0.2222222222222222,\"#7201a8\"],[0.3333333333333333,\"#9c179e\"],[0.4444444444444444,\"#bd3786\"],[0.5555555555555556,\"#d8576b\"],[0.6666666666666666,\"#ed7953\"],[0.7777777777777778,\"#fb9f3a\"],[0.8888888888888888,\"#fdca26\"],[1.0,\"#f0f921\"]],\"sequentialminus\":[[0.0,\"#0d0887\"],[0.1111111111111111,\"#46039f\"],[0.2222222222222222,\"#7201a8\"],[0.3333333333333333,\"#9c179e\"],[0.4444444444444444,\"#bd3786\"],[0.5555555555555556,\"#d8576b\"],[0.6666666666666666,\"#ed7953\"],[0.7777777777777778,\"#fb9f3a\"],[0.8888888888888888,\"#fdca26\"],[1.0,\"#f0f921\"]],\"diverging\":[[0,\"#8e0152\"],[0.1,\"#c51b7d\"],[0.2,\"#de77ae\"],[0.3,\"#f1b6da\"],[0.4,\"#fde0ef\"],[0.5,\"#f7f7f7\"],[0.6,\"#e6f5d0\"],[0.7,\"#b8e186\"],[0.8,\"#7fbc41\"],[0.9,\"#4d9221\"],[1,\"#276419\"]]},\"xaxis\":{\"gridcolor\":\"white\",\"linecolor\":\"white\",\"ticks\":\"\",\"title\":{\"standoff\":15},\"zerolinecolor\":\"white\",\"automargin\":true,\"zerolinewidth\":2},\"yaxis\":{\"gridcolor\":\"white\",\"linecolor\":\"white\",\"ticks\":\"\",\"title\":{\"standoff\":15},\"zerolinecolor\":\"white\",\"automargin\":true,\"zerolinewidth\":2},\"scene\":{\"xaxis\":{\"backgroundcolor\":\"#E5ECF6\",\"gridcolor\":\"white\",\"linecolor\":\"white\",\"showbackground\":true,\"ticks\":\"\",\"zerolinecolor\":\"white\",\"gridwidth\":2},\"yaxis\":{\"backgroundcolor\":\"#E5ECF6\",\"gridcolor\":\"white\",\"linecolor\":\"white\",\"showbackground\":true,\"ticks\":\"\",\"zerolinecolor\":\"white\",\"gridwidth\":2},\"zaxis\":{\"backgroundcolor\":\"#E5ECF6\",\"gridcolor\":\"white\",\"linecolor\":\"white\",\"showbackground\":true,\"ticks\":\"\",\"zerolinecolor\":\"white\",\"gridwidth\":2}},\"shapedefaults\":{\"line\":{\"color\":\"#2a3f5f\"}},\"annotationdefaults\":{\"arrowcolor\":\"#2a3f5f\",\"arrowhead\":0,\"arrowwidth\":1},\"geo\":{\"bgcolor\":\"white\",\"landcolor\":\"#E5ECF6\",\"subunitcolor\":\"white\",\"showland\":true,\"showlakes\":true,\"lakecolor\":\"white\"},\"title\":{\"x\":0.05},\"mapbox\":{\"style\":\"light\"}}},\"xaxis\":{\"anchor\":\"y\",\"domain\":[0.0,1.0],\"title\":{\"text\":\"Correlatie met Happiness\"},\"range\":[-0.2,0.3]},\"yaxis\":{\"anchor\":\"x\",\"domain\":[0.0,1.0],\"title\":{\"text\":\"Variable\"}},\"legend\":{\"tracegroupgap\":0},\"title\":{\"text\":\"Correlatie tussen Air Quality Variables en Happiness (Ladder score)\"},\"barmode\":\"relative\",\"width\":800,\"height\":400,\"showlegend\":false},                        {\"responsive\": true}                    ).then(function(){\n",
       "                            \n",
       "var gd = document.getElementById('50ce2ecb-b011-47ec-ab6f-c9cac779a8bd');\n",
       "var x = new MutationObserver(function (mutations, observer) {{\n",
       "        var display = window.getComputedStyle(gd).display;\n",
       "        if (!display || display === 'none') {{\n",
       "            console.log([gd, 'removed!']);\n",
       "            Plotly.purge(gd);\n",
       "            observer.disconnect();\n",
       "        }}\n",
       "}});\n",
       "\n",
       "// Listen for the removal of the full notebook cells\n",
       "var notebookContainer = gd.closest('#notebook-container');\n",
       "if (notebookContainer) {{\n",
       "    x.observe(notebookContainer, {childList: true});\n",
       "}}\n",
       "\n",
       "// Listen for the clearing of the current output cell\n",
       "var outputEl = gd.closest('.output');\n",
       "if (outputEl) {{\n",
       "    x.observe(outputEl, {childList: true});\n",
       "}}\n",
       "\n",
       "                        })                };                });            </script>        </div>"
      ]
     },
     "metadata": {},
     "output_type": "display_data"
    }
   ],
   "source": [
    "# Alle air quality variables\n",
    "air_quality_vars = [\n",
    "    'air_quality_Carbon_Monoxide',\n",
    "    'air_quality_Ozone',\n",
    "    'air_quality_Nitrogen_dioxide',\n",
    "    'air_quality_Sulphur_dioxide',\n",
    "    'air_quality_PM2.5',\n",
    "    'air_quality_PM10',\n",
    "    'air_quality_us-epa-index',\n",
    "    'air_quality_gb-defra-index'\n",
    "]\n",
    "# Loop om elke te checken\n",
    "for var in air_quality_vars:\n",
    "    dfcorrAir = df123[['country', var, 'Ladder score']].dropna()\n",
    "    dfcorrAir = dfcorrAir.groupby('country', as_index=False).mean(numeric_only=True)\n",
    "    Aircorr_matrix = dfcorrAir[[var, 'Ladder score']].corr(method='pearson')\n",
    "    Aircorr_value = Aircorr_matrix.loc[var, 'Ladder score']\n",
    "    print(f\"De correlatie tussen {var} en de Happiness Ladder score is {Aircorr_value:.2f}.\")\n",
    "\n",
    "# Dit visualiseren, idk of het mogelijk is om dit sneller te doen dus doe ik het maar even handmatig.\n",
    "data = {\n",
    "    'Variable': [\n",
    "        'Carbon Monoxide',\n",
    "        'Ozone',\n",
    "        'Nitrogen Dioxide',\n",
    "        'Sulphur Dioxide',\n",
    "        'PM2.5',\n",
    "        'PM10',\n",
    "        'US EPA Index',\n",
    "        'GB DEFRA Index'\n",
    "    ],\n",
    "    'Correlatie met Happiness': [\n",
    "        -0.01,\n",
    "        -0.16,\n",
    "        0.23,\n",
    "        0.04,\n",
    "        0.01,\n",
    "        -0.00,\n",
    "        -0.04,\n",
    "        -0.03\n",
    "    ]}\n",
    "\n",
    "dfAirQualityHappy = pd.DataFrame(data).sort_values('Correlatie met Happiness', ascending=False)\n",
    "figAirHappy = px.bar(\n",
    "    dfAirQualityHappy,\n",
    "    x='Correlatie met Happiness',\n",
    "    y='Variable',\n",
    "    orientation='h',\n",
    "    title='Correlatie tussen Air Quality Variables en Happiness (Ladder score)',\n",
    "    text='Correlatie met Happiness')\n",
    "figAirHappy.update_traces(texttemplate='%{text:.2f}', textposition='outside')\n",
    "figAirHappy.update_layout(xaxis=dict(range=[-0.2, 0.3]), width=800, height=400,showlegend=False)\n",
    "figAirHappy.show()"
   ]
  },
  {
   "cell_type": "markdown",
   "id": "02b64f69-22d3-4f18-9648-5bc8ae7d9b09",
   "metadata": {},
   "source": [
    "> *Figuur 10: Een bar plot waarmee de resultaten van de correlaties tussen luchtkwaliteitvariabelen en de Ladder score worden afgebeeld.*"
   ]
  },
  {
   "cell_type": "markdown",
   "id": "936039ca-8f01-4585-9507-48e828a3b9c9",
   "metadata": {},
   "source": [
    "De correlatieanalyse in Figuur 10 toont aan dat luchtkwaliteit weinig invloed heeft op geluk. De sterkste correlaties zijn bij stikstofdioxide (r = 0.23) en ozon (r = -0.16). Deze correlaties zijn erg zwak en gelden niet als overtuigend bewijs. Voor alle andere luchtkwaliteitsvariabelen, zoals koostoflmonoxide (r = –0.01), zwaveldioxide (r = 0.04), fijnstof PM2.5 (r = 0.01), fijnstof PM10 (r = –0.00) en de luchtkwaliteitsindexen (r = –0.04 en r = –0.03), is er praktisch gezien geen correlatie met geluk. Daarentegen is het aantal natuurrampen sterk gecorreleerd met geluk (r = -0.62, zie Figuur 9), deze bevinding toont aan dat de impact van extreme weersomstandigheden veel groter is dan de impact van luchtvervuiling op geluk..\r\n"
   ]
  },
  {
   "cell_type": "markdown",
   "id": "9e712119-07a9-4e9e-ba0c-90990b937f04",
   "metadata": {},
   "source": [
    "### Conclusie 1.2\n",
    "Op basis van de resultaten in deze analyse kan worden geconcludeerd dat luchtkwaliteit nauwelijks invloed heeft op geluk. De correlaties met stikstofdioxide en ozon zijn zo zwak dat ze geen overtuigend bewijs vormen voor een direct effect van luchtvervuiling op geluk. Daarentegen tonen extreme weersomstandigheden een sterke negatieve correlatie met geluk. Dit betekent dat natuurrampen een veel grotere en directere impact hebben op geluk en welzijn dan luchtvervuiling."
   ]
  },
  {
   "cell_type": "markdown",
   "id": "ba13386e-b7cc-406d-bddc-49e254b780ae",
   "metadata": {},
   "source": [
    "### Conclusie perspectief 1\n",
    "\n",
    "Op basis van de analyse blijkt dat klimatologische omstandigheden, zoals temperatuur en extreme weersituaties, een meetbare invloed kunnen hebben op het geluksniveau van mensen in verschillende landen. Extreem weer kan leiden tot verhoogde stress, gezondheidsproblemen en economische schade, wat het algemeen welzijn negatief beïnvloedt. Toch toont de data ook aan dat er geen eenduidig verband bestaat: landen met een minder aangenaam klimaat kunnen nog steeds een hoog geluksniveau rapporteren. Dit suggereert dat klimaat weliswaar een rol speelt in het welzijn van mensen, maar dat het geen op zichzelf staande bepalende factor is. Het effect van klimaat op geluk is dus genuanceerd en mogelijk afhankelijk van andere factoren van de samenleving."
   ]
  },
  {
   "cell_type": "markdown",
   "id": "005e94a9",
   "metadata": {},
   "source": [
    "# Perspectief 2: Sociaal-economische factoren zijn bepalender voor geluk dan klimaat\n",
    "Geluk wordt niet alleen beïnvloed door klimaat, maar ook door factoren als sociale voorzieningen, gezondheid en welvaart (Peng et al., 2016; Rehdanz & Maddison, 2004; Veenhoven & Timmermans, 1998). Uit het World Happiness Report (2024) blijkt Social support de sterkste voorspeller van geluk, gevolgd door Log GDP per capita (Zong, 2024)."
   ]
  },
  {
   "cell_type": "code",
   "execution_count": 14,
   "id": "5e27e7b0-f149-44f8-9d7e-bb4590a6417f",
   "metadata": {
    "editable": true,
    "slideshow": {
     "slide_type": ""
    },
    "tags": [
     "hide-input"
    ]
   },
   "outputs": [
    {
     "name": "stdout",
     "output_type": "stream",
     "text": [
      "Correlatie tussen Social support en Happiness score is: 0.8275461289313173\n",
      "Correlatie tussen Log GDP per capita en Happiness score is: 0.7816132154678879\n",
      "Correlatie tussen Healthy life expectancy en Happiness score is: 0.7754295171349715\n",
      "Correlatie tussen Freedom to make life choices en Happiness score is: 0.639536189579996\n",
      "Correlatie tussen Generosity en Happiness score is: 0.12446075990192029\n",
      "Correlatie tussen Perceptions of corruption en Happiness score is: 0.4874154199219817\n"
     ]
    }
   ],
   "source": [
    "print(\"Correlatie tussen Social support en Happiness score is:\", df123['Social support'].corr(df123['Ladder score']))\n",
    "print(\"Correlatie tussen Log GDP per capita en Happiness score is:\", df123['Log GDP per capita'].corr(df123['Ladder score']))\n",
    "print(\"Correlatie tussen Healthy life expectancy en Happiness score is:\", df123['Healthy life expectancy'].corr(df123['Ladder score']))\n",
    "print(\"Correlatie tussen Freedom to make life choices en Happiness score is:\", df123['Freedom to make life choices'].corr(df123['Ladder score']))\n",
    "print(\"Correlatie tussen Generosity en Happiness score is:\", df123['Generosity'].corr(df123['Ladder score']))\n",
    "print(\"Correlatie tussen Perceptions of corruption en Happiness score is:\", df123['Perceptions of corruption'].corr(df123['Ladder score']))"
   ]
  },
  {
   "cell_type": "markdown",
   "id": "9766e0d1-5aa6-4d12-8795-71cf5c481ff0",
   "metadata": {},
   "source": [
    "De correlaties in het rapport tonen aan dat Social support, Healthy life expectancy en Log GDP per capita nauw samenhangen met geluk. Dat is logisch: goede voorzieningen, economische zekerheid en gezondheid versterken het welzijn en vertrouwen binnen een samenleving (Calvo et al., 2012; Proto & Rustichini, 2013). Daarom onderzoekt dit perspectief of sociaal-economische factoren belangrijker zijn dan klimaat."
   ]
  },
  {
   "cell_type": "markdown",
   "id": "4a3eacb4-4812-474a-9900-71e2ac33cb5f",
   "metadata": {},
   "source": [
    "## Argument 2.1: Scandinavische landen hebben lange, koude winters, maar behoren tot de gelukkigste landen dankzij sterke sociale vangnetten, gezondheidszorg en welvaart."
   ]
  },
  {
   "cell_type": "markdown",
   "id": "62b3848e-5c37-482c-a584-c7c2a02a1e95",
   "metadata": {},
   "source": [
    "In het World Happiness Report (2025) dataset scoren Scandinavische landen (Noorwegen, Zweden, Finland, Denemarken, IJsland) hoog op geluk ondanks hun strenge winters. In Figuren 11.1 en 11.2 is te zien dat Social support en Healthy life expectancy sterk samenhangen met de Ladder score."
   ]
  },
  {
   "cell_type": "code",
   "execution_count": 15,
   "id": "982ff45f",
   "metadata": {
    "editable": true,
    "slideshow": {
     "slide_type": ""
    },
    "tags": [
     "hide-input"
    ]
   },
   "outputs": [
    {
     "data": {
      "application/vnd.plotly.v1+json": {
       "config": {
        "plotlyServerURL": "https://plot.ly"
       },
       "data": [
        {
         "hovertemplate": "<b>%{hovertext}</b><br><br>Social support=%{x}<br>Ladder score=%{marker.color}<extra></extra>",
         "hovertext": [
          "Afghanistan",
          "Albania",
          "Algeria",
          "Andorra",
          "Angola",
          "Antigua and Barbuda",
          "Argentina",
          "Armenia",
          "Australia",
          "Australia",
          "Austria",
          "Azerbaijan",
          "Bahamas",
          "Bahrain",
          "Bangladesh",
          "Barbados",
          "Belarus",
          "Belgium",
          "Belize",
          "Benin",
          "Bhutan",
          "Bolivia",
          "Bosnia and Herzegovina",
          "Botswana",
          "Brazil",
          "Brazil",
          "Brunei Darussalam",
          "Bulgaria",
          "Burkina Faso",
          "Burundi",
          "Bélgica",
          "Cambodia",
          "Cameroon",
          "Canada",
          "Cape Verde",
          "Central African Republic",
          "Chad",
          "Chile",
          "China",
          "China",
          "Colombia",
          "Comoros",
          "Congo",
          "Costa Rica",
          "Croatia",
          "Cuba",
          "Cyprus",
          "Czech Republic",
          "Democratic Republic of Congo",
          "Denmark",
          "Djibouti",
          "Dominica",
          "Dominican Republic",
          "Ecuador",
          "Egypt",
          "El Salvador",
          "Equatorial Guinea",
          "Eritrea",
          "Estonia",
          "Estonie",
          "Ethiopia",
          "Fiji Islands",
          "Finland",
          "France",
          "Gabon",
          "Gambia",
          "Georgia",
          "Germany",
          "Germany",
          "Ghana",
          "Greece",
          "Grenada",
          "Guatemala",
          "Guinea",
          "Guinea-Bissau",
          "Guyana",
          "Haiti",
          "Honduras",
          "Hungary",
          "Iceland",
          "Inde",
          "India",
          "India",
          "Indonesia",
          "Iran",
          "Iraq",
          "Ireland",
          "Israel",
          "Italy",
          "Jamaica",
          "Japan",
          "Jemen",
          "Jordan",
          "Kazakhstan",
          "Kenya",
          "Kiribati",
          "Komoren",
          "Kosovo",
          "Kuwait",
          "Kyrghyzstan",
          "Lao People's Democratic Republic",
          "Latvia",
          "Lebanon",
          "Lesotho",
          "Letonia",
          "Liberia",
          "Libya",
          "Liechtenstein",
          "Lithuania",
          "Luxembourg",
          "Macedonia",
          "Madagascar",
          "Malawi",
          "Malaysia",
          "Maldives",
          "Mali",
          "Malta",
          "Malásia",
          "Marrocos",
          "Marshall Islands",
          "Mauritania",
          "Mauritius",
          "Mexico",
          "Mexique",
          "Micronesia",
          "Monaco",
          "Mongolia",
          "Montenegro",
          "Morocco",
          "Mozambique",
          "Myanmar",
          "Namibia",
          "Nepal",
          "Netherlands",
          "New Zealand",
          "Nicaragua",
          "Niger",
          "Nigeria",
          "Nigeria",
          "North Korea",
          "Norway",
          "Oman",
          "Pakistan",
          "Palau",
          "Panama",
          "Papua New Guinea",
          "Paraguay",
          "Peru",
          "Philippines",
          "Poland",
          "Polônia",
          "Portugal",
          "Qatar",
          "Romania",
          "Russia",
          "Russia",
          "Rwanda",
          "Saint Kitts and Nevis",
          "Saint Lucia",
          "Saint Vincent and the Grenadines",
          "Saint-Vincent-et-les-Grenadines",
          "Samoa",
          "San Marino",
          "Saudi Arabia",
          "Saudi Arabien",
          "Senegal",
          "Serbia",
          "Seychelles Islands",
          "Sierra Leone",
          "Singapore",
          "Slovakia",
          "Slovenia",
          "Solomon Islands",
          "Somalia",
          "South Africa",
          "South Korea",
          "Spain",
          "Sri Lanka",
          "Sudan",
          "Suriname",
          "Swaziland",
          "Sweden",
          "Switzerland",
          "Syria",
          "Südkorea",
          "Tajikistan",
          "Tanzania",
          "Thailand",
          "Timor-Leste",
          "Togo",
          "Tonga",
          "Trinidad and Tobago",
          "Tunisia",
          "Turkey",
          "Turkmenistan",
          "Turkménistan",
          "Tuvalu",
          "USA United States of America",
          "Uganda",
          "Ukraine",
          "United Arab Emirates",
          "United Kingdom",
          "United States of America",
          "Uruguay",
          "Uzbekistan",
          "Vanuatu",
          "Vatican City",
          "Venezuela",
          "Vietnam",
          "Yemen",
          "Zambia",
          "Zimbabwe",
          "Гватемала",
          "Польша",
          "Турция",
          "كولومبيا",
          "火鸡"
         ],
         "legendgroup": "",
         "marker": {
          "color": [
           1.721,
           5.304,
           5.364,
           null,
           null,
           null,
           6.188,
           5.455,
           7.057,
           7.057,
           6.905,
           4.893,
           null,
           5.959,
           3.886,
           null,
           null,
           6.894,
           null,
           4.377,
           null,
           5.784,
           5.877,
           3.383,
           6.272,
           6.272,
           null,
           5.463,
           4.548,
           null,
           null,
           4.341,
           4.874,
           6.9,
           null,
           null,
           4.471,
           6.36,
           5.973,
           5.973,
           5.695,
           3.566,
           null,
           6.955,
           5.942,
           null,
           6.068,
           null,
           null,
           7.583,
           null,
           null,
           5.823,
           5.725,
           3.977,
           6.469,
           null,
           null,
           6.448,
           null,
           3.861,
           null,
           7.741,
           6.609,
           5.106,
           4.485,
           5.185,
           6.719,
           6.719,
           4.289,
           5.934,
           null,
           6.287,
           5.023,
           null,
           null,
           null,
           5.968,
           6.017,
           7.525,
           null,
           4.054,
           4.054,
           5.568,
           4.923,
           5.166,
           6.838,
           7.341,
           6.324,
           5.842,
           6.06,
           null,
           4.186,
           6.188,
           4.47,
           null,
           null,
           6.561,
           6.951,
           null,
           null,
           6.234,
           2.707,
           3.186,
           null,
           4.269,
           5.866,
           null,
           6.818,
           7.122,
           null,
           4.228,
           3.421,
           5.975,
           null,
           4.232,
           6.346,
           null,
           null,
           null,
           4.505,
           5.816,
           6.678,
           null,
           null,
           null,
           5.696,
           5.707,
           4.795,
           5.216,
           4.354,
           4.832,
           5.158,
           7.319,
           7.029,
           6.284,
           4.556,
           4.881,
           4.881,
           null,
           7.302,
           null,
           4.657,
           null,
           6.358,
           null,
           5.977,
           5.841,
           6.048,
           6.442,
           null,
           6.03,
           null,
           6.491,
           5.785,
           5.785,
           null,
           null,
           null,
           null,
           null,
           null,
           null,
           6.594,
           null,
           4.969,
           6.411,
           null,
           3.245,
           6.523,
           6.257,
           6.743,
           null,
           null,
           5.422,
           6.058,
           6.421,
           3.898,
           null,
           null,
           null,
           7.344,
           7.06,
           null,
           null,
           5.281,
           3.781,
           5.976,
           null,
           4.214,
           null,
           null,
           4.422,
           null,
           null,
           null,
           null,
           null,
           4.372,
           4.873,
           6.733,
           6.749,
           null,
           6.611,
           6.195,
           null,
           null,
           5.607,
           6.043,
           3.561,
           3.502,
           3.341,
           null,
           null,
           null,
           null,
           null
          ],
          "coloraxis": "coloraxis",
          "opacity": 0.7,
          "size": 8,
          "symbol": "circle"
         },
         "mode": "markers",
         "name": "",
         "orientation": "v",
         "showlegend": false,
         "textposition": "top center",
         "type": "scatter",
         "x": [
          0,
          0.924,
          1.191,
          null,
          null,
          null,
          1.381,
          1.154,
          1.461,
          1.461,
          1.336,
          0.876,
          null,
          null,
          0.249,
          null,
          null,
          1.44,
          null,
          0.128,
          null,
          1.179,
          1.318,
          0.969,
          1.269,
          1.269,
          null,
          1.469,
          0.685,
          null,
          null,
          1.019,
          0.856,
          1.459,
          null,
          null,
          0.805,
          1.369,
          1.239,
          1.239,
          1.241,
          0.328,
          null,
          1.373,
          1.445,
          null,
          1.217,
          null,
          null,
          1.52,
          null,
          null,
          1.272,
          1.151,
          0.996,
          1.08,
          null,
          null,
          1.527,
          null,
          0.915,
          null,
          1.572,
          1.348,
          1.038,
          0.684,
          0.99,
          1.39,
          1.39,
          0.747,
          1.276,
          null,
          1.169,
          0.622,
          null,
          null,
          null,
          1.035,
          1.528,
          1.617,
          null,
          0.653,
          0.653,
          1.184,
          1.136,
          0.996,
          1.39,
          1.513,
          1.328,
          1.324,
          1.354,
          null,
          0.983,
          1.457,
          0.895,
          null,
          null,
          1.277,
          1.364,
          null,
          null,
          1.508,
          0.577,
          0.851,
          null,
          0.673,
          1.1,
          null,
          1.454,
          1.355,
          null,
          0.823,
          0.41,
          1.143,
          null,
          0.688,
          1.444,
          null,
          null,
          null,
          0.705,
          1.358,
          1.241,
          null,
          null,
          null,
          1.511,
          1.318,
          0.471,
          0.883,
          0.988,
          1.212,
          0.99,
          1.462,
          1.527,
          1.263,
          0.677,
          1.075,
          1.075,
          null,
          1.517,
          null,
          0.6,
          null,
          1.392,
          null,
          1.408,
          1.18,
          1.146,
          1.417,
          null,
          1.368,
          null,
          1.236,
          1.351,
          1.351,
          null,
          null,
          null,
          null,
          null,
          null,
          null,
          1.361,
          null,
          0.751,
          1.391,
          null,
          0.566,
          1.361,
          1.54,
          1.502,
          null,
          null,
          1.369,
          1.178,
          1.471,
          1.179,
          null,
          null,
          null,
          1.501,
          1.425,
          null,
          null,
          null,
          0.706,
          1.347,
          null,
          0.586,
          null,
          null,
          0.955,
          null,
          null,
          null,
          null,
          null,
          1.151,
          1.315,
          1.164,
          1.326,
          null,
          1.431,
          1.394,
          null,
          null,
          1.321,
          1.267,
          1.281,
          0.809,
          0.85,
          null,
          null,
          null,
          null,
          null
         ],
         "xaxis": "x",
         "y": [
          1.721,
          5.304,
          5.364,
          null,
          null,
          null,
          6.188,
          5.455,
          7.057,
          7.057,
          6.905,
          4.893,
          null,
          5.959,
          3.886,
          null,
          null,
          6.894,
          null,
          4.377,
          null,
          5.784,
          5.877,
          3.383,
          6.272,
          6.272,
          null,
          5.463,
          4.548,
          null,
          null,
          4.341,
          4.874,
          6.9,
          null,
          null,
          4.471,
          6.36,
          5.973,
          5.973,
          5.695,
          3.566,
          null,
          6.955,
          5.942,
          null,
          6.068,
          null,
          null,
          7.583,
          null,
          null,
          5.823,
          5.725,
          3.977,
          6.469,
          null,
          null,
          6.448,
          null,
          3.861,
          null,
          7.741,
          6.609,
          5.106,
          4.485,
          5.185,
          6.719,
          6.719,
          4.289,
          5.934,
          null,
          6.287,
          5.023,
          null,
          null,
          null,
          5.968,
          6.017,
          7.525,
          null,
          4.054,
          4.054,
          5.568,
          4.923,
          5.166,
          6.838,
          7.341,
          6.324,
          5.842,
          6.06,
          null,
          4.186,
          6.188,
          4.47,
          null,
          null,
          6.561,
          6.951,
          null,
          null,
          6.234,
          2.707,
          3.186,
          null,
          4.269,
          5.866,
          null,
          6.818,
          7.122,
          null,
          4.228,
          3.421,
          5.975,
          null,
          4.232,
          6.346,
          null,
          null,
          null,
          4.505,
          5.816,
          6.678,
          null,
          null,
          null,
          5.696,
          5.707,
          4.795,
          5.216,
          4.354,
          4.832,
          5.158,
          7.319,
          7.029,
          6.284,
          4.556,
          4.881,
          4.881,
          null,
          7.302,
          null,
          4.657,
          null,
          6.358,
          null,
          5.977,
          5.841,
          6.048,
          6.442,
          null,
          6.03,
          null,
          6.491,
          5.785,
          5.785,
          null,
          null,
          null,
          null,
          null,
          null,
          null,
          6.594,
          null,
          4.969,
          6.411,
          null,
          3.245,
          6.523,
          6.257,
          6.743,
          null,
          null,
          5.422,
          6.058,
          6.421,
          3.898,
          null,
          null,
          null,
          7.344,
          7.06,
          null,
          null,
          5.281,
          3.781,
          5.976,
          null,
          4.214,
          null,
          null,
          4.422,
          null,
          null,
          null,
          null,
          null,
          4.372,
          4.873,
          6.733,
          6.749,
          null,
          6.611,
          6.195,
          null,
          null,
          5.607,
          6.043,
          3.561,
          3.502,
          3.341,
          null,
          null,
          null,
          null,
          null
         ],
         "yaxis": "y"
        },
        {
         "hovertemplate": "<b>OLS trendline</b><br>Ladder score = 2.96208 * Social support + 2.18271<br>R<sup>2</sup>=0.684833<br><br>Social support=%{x}<br>Ladder score=%{y} <b>(trend)</b><extra></extra>",
         "legendgroup": "",
         "marker": {
          "opacity": 0.7,
          "size": 8,
          "symbol": "circle"
         },
         "mode": "lines",
         "name": "",
         "showlegend": false,
         "textposition": "top center",
         "type": "scatter",
         "x": [
          0,
          0.128,
          0.249,
          0.328,
          0.41,
          0.471,
          0.566,
          0.577,
          0.586,
          0.6,
          0.622,
          0.653,
          0.653,
          0.673,
          0.677,
          0.684,
          0.685,
          0.688,
          0.705,
          0.706,
          0.747,
          0.751,
          0.805,
          0.809,
          0.823,
          0.85,
          0.851,
          0.856,
          0.876,
          0.883,
          0.895,
          0.915,
          0.924,
          0.955,
          0.969,
          0.983,
          0.988,
          0.99,
          0.99,
          0.996,
          0.996,
          1.019,
          1.035,
          1.038,
          1.075,
          1.075,
          1.08,
          1.1,
          1.136,
          1.143,
          1.146,
          1.151,
          1.151,
          1.154,
          1.164,
          1.169,
          1.178,
          1.179,
          1.179,
          1.18,
          1.184,
          1.191,
          1.212,
          1.217,
          1.236,
          1.239,
          1.239,
          1.241,
          1.241,
          1.263,
          1.267,
          1.269,
          1.269,
          1.272,
          1.276,
          1.277,
          1.281,
          1.315,
          1.318,
          1.318,
          1.321,
          1.324,
          1.326,
          1.328,
          1.336,
          1.347,
          1.348,
          1.351,
          1.351,
          1.354,
          1.355,
          1.358,
          1.361,
          1.361,
          1.364,
          1.368,
          1.369,
          1.369,
          1.373,
          1.381,
          1.39,
          1.39,
          1.39,
          1.391,
          1.392,
          1.394,
          1.408,
          1.417,
          1.425,
          1.431,
          1.44,
          1.444,
          1.445,
          1.454,
          1.457,
          1.459,
          1.461,
          1.461,
          1.462,
          1.469,
          1.471,
          1.501,
          1.502,
          1.508,
          1.511,
          1.513,
          1.517,
          1.52,
          1.527,
          1.527,
          1.528,
          1.54,
          1.572,
          1.617
         ],
         "xaxis": "x",
         "y": [
          2.1827065548248883,
          2.561852716280108,
          2.9202643220307456,
          3.1542685935538888,
          3.397159103236139,
          3.5778459458046425,
          3.859243487509688,
          3.891826360759746,
          3.9184850752370664,
          3.9599541866462307,
          4.025119933146347,
          4.116944394123783,
          4.116944394123783,
          4.176185981851161,
          4.188034299396637,
          4.208768855101219,
          4.211730934487588,
          4.220617172646694,
          4.270972522214966,
          4.273934601601335,
          4.39537985644246,
          4.407228173987935,
          4.567180460851857,
          4.579028778397332,
          4.620497889806497,
          4.700474033238457,
          4.703436112624826,
          4.71824650955667,
          4.777488097284049,
          4.798222652988631,
          4.833767605625058,
          4.893009193352436,
          4.919667907829757,
          5.0114923688071915,
          5.052961480216357,
          5.094430591625521,
          5.1092409885573655,
          5.115165147330104,
          5.115165147330104,
          5.132937623648317,
          5.132937623648317,
          5.201065449534802,
          5.248458719716704,
          5.257344957875811,
          5.366941895171461,
          5.366941895171461,
          5.381752292103306,
          5.440993879830684,
          5.547628737739963,
          5.568363293444547,
          5.577249531603653,
          5.592059928535498,
          5.592059928535498,
          5.600946166694603,
          5.630566960558292,
          5.645377357490138,
          5.672036071967458,
          5.674998151353827,
          5.674998151353827,
          5.6779602307401955,
          5.689808548285671,
          5.710543103990254,
          5.772746771104,
          5.787557168035845,
          5.8438366763768546,
          5.852722914535962,
          5.852722914535962,
          5.858647073308699,
          5.858647073308699,
          5.9238128198088145,
          5.93566113735429,
          5.941585296127028,
          5.941585296127028,
          5.950471534286135,
          5.9623198518316105,
          5.965281931217979,
          5.977130248763455,
          6.077840947899998,
          6.086727186059105,
          6.086727186059105,
          6.095613424218211,
          6.104499662377318,
          6.1104238211500554,
          6.116347979922794,
          6.140044615013744,
          6.172627488263803,
          6.175589567650172,
          6.184475805809278,
          6.184475805809278,
          6.193362043968385,
          6.196324123354755,
          6.205210361513862,
          6.214096599672967,
          6.214096599672967,
          6.222982837832074,
          6.234831155377551,
          6.2377932347639184,
          6.2377932347639184,
          6.249641552309395,
          6.273338187400345,
          6.299996901877666,
          6.299996901877666,
          6.299996901877666,
          6.302958981264034,
          6.3059210606504035,
          6.311845219423141,
          6.353314330832305,
          6.379973045309626,
          6.4036696804005775,
          6.421442156718792,
          6.448100871196111,
          6.459949188741586,
          6.4629112681279555,
          6.489569982605275,
          6.498456220764382,
          6.504380379537121,
          6.510304538309859,
          6.510304538309859,
          6.513266617696226,
          6.53400117340081,
          6.5399253321735475,
          6.6287877137646145,
          6.631749793150982,
          6.6495222694691964,
          6.6584085076283035,
          6.664332666401041,
          6.676180983946516,
          6.685067222105623,
          6.705801777810205,
          6.705801777810205,
          6.708763857196574,
          6.744308809833001,
          6.839095350196807,
          6.9723889225834075
         ],
         "yaxis": "y"
        },
        {
         "hovertemplate": "<b>%{hovertext}</b><br><br>Healthy life expectancy=%{x}<br>Ladder score=%{marker.color}<extra></extra>",
         "hovertext": [
          "Afghanistan",
          "Albania",
          "Algeria",
          "Andorra",
          "Angola",
          "Antigua and Barbuda",
          "Argentina",
          "Armenia",
          "Australia",
          "Australia",
          "Austria",
          "Azerbaijan",
          "Bahamas",
          "Bahrain",
          "Bangladesh",
          "Barbados",
          "Belarus",
          "Belgium",
          "Belize",
          "Benin",
          "Bhutan",
          "Bolivia",
          "Bosnia and Herzegovina",
          "Botswana",
          "Brazil",
          "Brazil",
          "Brunei Darussalam",
          "Bulgaria",
          "Burkina Faso",
          "Burundi",
          "Bélgica",
          "Cambodia",
          "Cameroon",
          "Canada",
          "Cape Verde",
          "Central African Republic",
          "Chad",
          "Chile",
          "China",
          "China",
          "Colombia",
          "Comoros",
          "Congo",
          "Costa Rica",
          "Croatia",
          "Cuba",
          "Cyprus",
          "Czech Republic",
          "Democratic Republic of Congo",
          "Denmark",
          "Djibouti",
          "Dominica",
          "Dominican Republic",
          "Ecuador",
          "Egypt",
          "El Salvador",
          "Equatorial Guinea",
          "Eritrea",
          "Estonia",
          "Estonie",
          "Ethiopia",
          "Fiji Islands",
          "Finland",
          "France",
          "Gabon",
          "Gambia",
          "Georgia",
          "Germany",
          "Germany",
          "Ghana",
          "Greece",
          "Grenada",
          "Guatemala",
          "Guinea",
          "Guinea-Bissau",
          "Guyana",
          "Haiti",
          "Honduras",
          "Hungary",
          "Iceland",
          "Inde",
          "India",
          "India",
          "Indonesia",
          "Iran",
          "Iraq",
          "Ireland",
          "Israel",
          "Italy",
          "Jamaica",
          "Japan",
          "Jemen",
          "Jordan",
          "Kazakhstan",
          "Kenya",
          "Kiribati",
          "Komoren",
          "Kosovo",
          "Kuwait",
          "Kyrghyzstan",
          "Lao People's Democratic Republic",
          "Latvia",
          "Lebanon",
          "Lesotho",
          "Letonia",
          "Liberia",
          "Libya",
          "Liechtenstein",
          "Lithuania",
          "Luxembourg",
          "Macedonia",
          "Madagascar",
          "Malawi",
          "Malaysia",
          "Maldives",
          "Mali",
          "Malta",
          "Malásia",
          "Marrocos",
          "Marshall Islands",
          "Mauritania",
          "Mauritius",
          "Mexico",
          "Mexique",
          "Micronesia",
          "Monaco",
          "Mongolia",
          "Montenegro",
          "Morocco",
          "Mozambique",
          "Myanmar",
          "Namibia",
          "Nepal",
          "Netherlands",
          "New Zealand",
          "Nicaragua",
          "Niger",
          "Nigeria",
          "Nigeria",
          "North Korea",
          "Norway",
          "Oman",
          "Pakistan",
          "Palau",
          "Panama",
          "Papua New Guinea",
          "Paraguay",
          "Peru",
          "Philippines",
          "Poland",
          "Polônia",
          "Portugal",
          "Qatar",
          "Romania",
          "Russia",
          "Russia",
          "Rwanda",
          "Saint Kitts and Nevis",
          "Saint Lucia",
          "Saint Vincent and the Grenadines",
          "Saint-Vincent-et-les-Grenadines",
          "Samoa",
          "San Marino",
          "Saudi Arabia",
          "Saudi Arabien",
          "Senegal",
          "Serbia",
          "Seychelles Islands",
          "Sierra Leone",
          "Singapore",
          "Slovakia",
          "Slovenia",
          "Solomon Islands",
          "Somalia",
          "South Africa",
          "South Korea",
          "Spain",
          "Sri Lanka",
          "Sudan",
          "Suriname",
          "Swaziland",
          "Sweden",
          "Switzerland",
          "Syria",
          "Südkorea",
          "Tajikistan",
          "Tanzania",
          "Thailand",
          "Timor-Leste",
          "Togo",
          "Tonga",
          "Trinidad and Tobago",
          "Tunisia",
          "Turkey",
          "Turkmenistan",
          "Turkménistan",
          "Tuvalu",
          "USA United States of America",
          "Uganda",
          "Ukraine",
          "United Arab Emirates",
          "United Kingdom",
          "United States of America",
          "Uruguay",
          "Uzbekistan",
          "Vanuatu",
          "Vatican City",
          "Venezuela",
          "Vietnam",
          "Yemen",
          "Zambia",
          "Zimbabwe",
          "Гватемала",
          "Польша",
          "Турция",
          "كولومبيا",
          "火鸡"
         ],
         "legendgroup": "",
         "marker": {
          "color": [
           1.721,
           5.304,
           5.364,
           null,
           null,
           null,
           6.188,
           5.455,
           7.057,
           7.057,
           6.905,
           4.893,
           null,
           5.959,
           3.886,
           null,
           null,
           6.894,
           null,
           4.377,
           null,
           5.784,
           5.877,
           3.383,
           6.272,
           6.272,
           null,
           5.463,
           4.548,
           null,
           null,
           4.341,
           4.874,
           6.9,
           null,
           null,
           4.471,
           6.36,
           5.973,
           5.973,
           5.695,
           3.566,
           null,
           6.955,
           5.942,
           null,
           6.068,
           null,
           null,
           7.583,
           null,
           null,
           5.823,
           5.725,
           3.977,
           6.469,
           null,
           null,
           6.448,
           null,
           3.861,
           null,
           7.741,
           6.609,
           5.106,
           4.485,
           5.185,
           6.719,
           6.719,
           4.289,
           5.934,
           null,
           6.287,
           5.023,
           null,
           null,
           null,
           5.968,
           6.017,
           7.525,
           null,
           4.054,
           4.054,
           5.568,
           4.923,
           5.166,
           6.838,
           7.341,
           6.324,
           5.842,
           6.06,
           null,
           4.186,
           6.188,
           4.47,
           null,
           null,
           6.561,
           6.951,
           null,
           null,
           6.234,
           2.707,
           3.186,
           null,
           4.269,
           5.866,
           null,
           6.818,
           7.122,
           null,
           4.228,
           3.421,
           5.975,
           null,
           4.232,
           6.346,
           null,
           null,
           null,
           4.505,
           5.816,
           6.678,
           null,
           null,
           null,
           5.696,
           5.707,
           4.795,
           5.216,
           4.354,
           4.832,
           5.158,
           7.319,
           7.029,
           6.284,
           4.556,
           4.881,
           4.881,
           null,
           7.302,
           null,
           4.657,
           null,
           6.358,
           null,
           5.977,
           5.841,
           6.048,
           6.442,
           null,
           6.03,
           null,
           6.491,
           5.785,
           5.785,
           null,
           null,
           null,
           null,
           null,
           null,
           null,
           6.594,
           null,
           4.969,
           6.411,
           null,
           3.245,
           6.523,
           6.257,
           6.743,
           null,
           null,
           5.422,
           6.058,
           6.421,
           3.898,
           null,
           null,
           null,
           7.344,
           7.06,
           null,
           null,
           5.281,
           3.781,
           5.976,
           null,
           4.214,
           null,
           null,
           4.422,
           null,
           null,
           null,
           null,
           null,
           4.372,
           4.873,
           6.733,
           6.749,
           null,
           6.611,
           6.195,
           null,
           null,
           5.607,
           6.043,
           3.561,
           3.502,
           3.341,
           null,
           null,
           null,
           null,
           null
          ],
          "coloraxis": "coloraxis",
          "opacity": 0.7,
          "size": 8,
          "symbol": "circle"
         },
         "mode": "markers",
         "name": "",
         "orientation": "v",
         "showlegend": false,
         "textposition": "top center",
         "type": "scatter",
         "x": [
          0.242,
          0.638,
          0.568,
          null,
          null,
          null,
          0.585,
          0.603,
          0.692,
          0.692,
          0.696,
          0.496,
          null,
          null,
          0.513,
          null,
          null,
          0.69,
          null,
          0.284,
          null,
          0.488,
          0.587,
          0.241,
          0.548,
          0.548,
          null,
          0.567,
          0.274,
          null,
          null,
          0.442,
          0.288,
          0.701,
          null,
          null,
          0.199,
          0.673,
          0.629,
          0.629,
          0.648,
          0.37,
          null,
          0.661,
          0.637,
          null,
          0.744,
          null,
          null,
          0.699,
          null,
          null,
          0.511,
          0.64,
          0.488,
          0.549,
          null,
          null,
          0.657,
          null,
          0.42,
          null,
          0.695,
          0.727,
          0.344,
          0.33,
          0.524,
          0.702,
          0.702,
          0.36,
          0.696,
          null,
          0.467,
          0.236,
          null,
          null,
          null,
          0.502,
          0.596,
          0.718,
          null,
          0.417,
          0.417,
          0.472,
          0.571,
          0.498,
          0.7,
          0.74,
          0.72,
          0.567,
          0.785,
          null,
          0.594,
          0.556,
          0.353,
          null,
          null,
          0.599,
          0.661,
          null,
          null,
          0.564,
          0.556,
          0,
          null,
          0.301,
          0.55,
          null,
          0.598,
          0.708,
          null,
          0.333,
          0.349,
          0.54,
          null,
          0.267,
          0.707,
          null,
          null,
          null,
          0.4,
          0.49,
          0.544,
          null,
          null,
          null,
          0.4,
          0.587,
          0.495,
          0.156,
          0.436,
          0.307,
          0.443,
          0.706,
          0.673,
          0.542,
          0.293,
          0.256,
          0.256,
          null,
          0.704,
          null,
          0.321,
          null,
          0.633,
          null,
          0.549,
          0.662,
          0.441,
          0.639,
          null,
          0.699,
          null,
          0.583,
          0.531,
          0.531,
          null,
          null,
          null,
          null,
          null,
          null,
          null,
          0.511,
          null,
          0.392,
          0.585,
          null,
          0.253,
          0.769,
          0.638,
          0.695,
          null,
          null,
          0.322,
          0.77,
          0.729,
          0.586,
          null,
          null,
          null,
          0.724,
          0.747,
          null,
          null,
          null,
          0.38,
          0.62,
          null,
          0.32,
          null,
          null,
          0.579,
          null,
          null,
          null,
          null,
          null,
          0.373,
          0.513,
          0.563,
          0.672,
          null,
          0.592,
          0.539,
          null,
          null,
          0.491,
          0.539,
          0.293,
          0.264,
          0.232,
          null,
          null,
          null,
          null,
          null
         ],
         "xaxis": "x2",
         "y": [
          1.721,
          5.304,
          5.364,
          null,
          null,
          null,
          6.188,
          5.455,
          7.057,
          7.057,
          6.905,
          4.893,
          null,
          5.959,
          3.886,
          null,
          null,
          6.894,
          null,
          4.377,
          null,
          5.784,
          5.877,
          3.383,
          6.272,
          6.272,
          null,
          5.463,
          4.548,
          null,
          null,
          4.341,
          4.874,
          6.9,
          null,
          null,
          4.471,
          6.36,
          5.973,
          5.973,
          5.695,
          3.566,
          null,
          6.955,
          5.942,
          null,
          6.068,
          null,
          null,
          7.583,
          null,
          null,
          5.823,
          5.725,
          3.977,
          6.469,
          null,
          null,
          6.448,
          null,
          3.861,
          null,
          7.741,
          6.609,
          5.106,
          4.485,
          5.185,
          6.719,
          6.719,
          4.289,
          5.934,
          null,
          6.287,
          5.023,
          null,
          null,
          null,
          5.968,
          6.017,
          7.525,
          null,
          4.054,
          4.054,
          5.568,
          4.923,
          5.166,
          6.838,
          7.341,
          6.324,
          5.842,
          6.06,
          null,
          4.186,
          6.188,
          4.47,
          null,
          null,
          6.561,
          6.951,
          null,
          null,
          6.234,
          2.707,
          3.186,
          null,
          4.269,
          5.866,
          null,
          6.818,
          7.122,
          null,
          4.228,
          3.421,
          5.975,
          null,
          4.232,
          6.346,
          null,
          null,
          null,
          4.505,
          5.816,
          6.678,
          null,
          null,
          null,
          5.696,
          5.707,
          4.795,
          5.216,
          4.354,
          4.832,
          5.158,
          7.319,
          7.029,
          6.284,
          4.556,
          4.881,
          4.881,
          null,
          7.302,
          null,
          4.657,
          null,
          6.358,
          null,
          5.977,
          5.841,
          6.048,
          6.442,
          null,
          6.03,
          null,
          6.491,
          5.785,
          5.785,
          null,
          null,
          null,
          null,
          null,
          null,
          null,
          6.594,
          null,
          4.969,
          6.411,
          null,
          3.245,
          6.523,
          6.257,
          6.743,
          null,
          null,
          5.422,
          6.058,
          6.421,
          3.898,
          null,
          null,
          null,
          7.344,
          7.06,
          null,
          null,
          5.281,
          3.781,
          5.976,
          null,
          4.214,
          null,
          null,
          4.422,
          null,
          null,
          null,
          null,
          null,
          4.372,
          4.873,
          6.733,
          6.749,
          null,
          6.611,
          6.195,
          null,
          null,
          5.607,
          6.043,
          3.561,
          3.502,
          3.341,
          null,
          null,
          null,
          null,
          null
         ],
         "yaxis": "y2"
        },
        {
         "hovertemplate": "<b>OLS trendline</b><br>Ladder score = 5.68553 * Healthy life expectancy + 2.58441<br>R<sup>2</sup>=0.601291<br><br>Healthy life expectancy=%{x}<br>Ladder score=%{y} <b>(trend)</b><extra></extra>",
         "legendgroup": "",
         "marker": {
          "opacity": 0.7,
          "size": 8,
          "symbol": "circle"
         },
         "mode": "lines",
         "name": "",
         "showlegend": false,
         "textposition": "top center",
         "type": "scatter",
         "x": [
          0,
          0.156,
          0.199,
          0.232,
          0.236,
          0.241,
          0.242,
          0.253,
          0.256,
          0.256,
          0.264,
          0.267,
          0.274,
          0.284,
          0.288,
          0.293,
          0.293,
          0.301,
          0.307,
          0.32,
          0.321,
          0.322,
          0.33,
          0.333,
          0.344,
          0.349,
          0.353,
          0.36,
          0.37,
          0.373,
          0.38,
          0.392,
          0.4,
          0.4,
          0.417,
          0.417,
          0.42,
          0.436,
          0.441,
          0.442,
          0.443,
          0.467,
          0.472,
          0.488,
          0.488,
          0.49,
          0.491,
          0.495,
          0.496,
          0.498,
          0.502,
          0.511,
          0.511,
          0.513,
          0.513,
          0.524,
          0.531,
          0.531,
          0.539,
          0.539,
          0.54,
          0.542,
          0.544,
          0.548,
          0.548,
          0.549,
          0.549,
          0.55,
          0.556,
          0.556,
          0.563,
          0.564,
          0.567,
          0.567,
          0.568,
          0.571,
          0.579,
          0.583,
          0.585,
          0.585,
          0.586,
          0.587,
          0.587,
          0.592,
          0.594,
          0.596,
          0.598,
          0.599,
          0.603,
          0.62,
          0.629,
          0.629,
          0.633,
          0.637,
          0.638,
          0.638,
          0.639,
          0.64,
          0.648,
          0.657,
          0.661,
          0.661,
          0.662,
          0.672,
          0.673,
          0.673,
          0.69,
          0.692,
          0.692,
          0.695,
          0.695,
          0.696,
          0.696,
          0.699,
          0.699,
          0.7,
          0.701,
          0.702,
          0.702,
          0.704,
          0.706,
          0.707,
          0.708,
          0.718,
          0.72,
          0.724,
          0.727,
          0.729,
          0.74,
          0.744,
          0.747,
          0.769,
          0.77,
          0.785
         ],
         "xaxis": "x2",
         "y": [
          2.5844138905402825,
          3.4713561781525377,
          3.7158338599943774,
          3.9034562669892776,
          3.9261983769280535,
          3.954626014351523,
          3.9603115418362167,
          4.02285234416785,
          4.039908926621932,
          4.039908926621932,
          4.0853931464994835,
          4.102449728953566,
          4.142248421346423,
          4.1991036961933625,
          4.221845806132138,
          4.250273443555608,
          4.250273443555608,
          4.295757663433159,
          4.329870828341323,
          4.403782685642344,
          4.409468213127038,
          4.415153740611732,
          4.460637960489284,
          4.477694542943366,
          4.540235345274999,
          4.568662982698469,
          4.5914050926372445,
          4.631203785030102,
          4.688059059877042,
          4.705115642331124,
          4.7449143347239815,
          4.813140664540309,
          4.858624884417861,
          4.858624884417861,
          4.955278851657657,
          4.955278851657657,
          4.972335434111739,
          5.063303873866841,
          5.091731511290312,
          5.097417038775006,
          5.1031025662597,
          5.239555225892355,
          5.267982863315824,
          5.358951303070928,
          5.358951303070928,
          5.370322358040315,
          5.376007885525009,
          5.398749995463785,
          5.404435522948479,
          5.415806577917866,
          5.438548687856642,
          5.489718435218888,
          5.489718435218888,
          5.501089490188276,
          5.501089490188276,
          5.5636302925199095,
          5.603428984912767,
          5.603428984912767,
          5.648913204790318,
          5.648913204790318,
          5.654598732275012,
          5.6659697872444,
          5.677340842213788,
          5.700082952152564,
          5.700082952152564,
          5.705768479637258,
          5.705768479637258,
          5.711454007121953,
          5.745567172030116,
          5.745567172030116,
          5.785365864422973,
          5.791051391907667,
          5.808107974361748,
          5.808107974361748,
          5.813793501846442,
          5.830850084300524,
          5.8763343041780765,
          5.899076414116852,
          5.91044746908624,
          5.91044746908624,
          5.9161329965709335,
          5.921818524055627,
          5.921818524055627,
          5.950246161479097,
          5.961617216448485,
          5.972988271417873,
          5.984359326387261,
          5.9900448538719555,
          6.012786963810731,
          6.109440931050528,
          6.160610678412773,
          6.160610678412773,
          6.183352788351549,
          6.206094898290325,
          6.211780425775019,
          6.211780425775019,
          6.217465953259713,
          6.223151480744407,
          6.268635700621958,
          6.319805447984204,
          6.3425475579229795,
          6.3425475579229795,
          6.348233085407674,
          6.405088360254613,
          6.410773887739307,
          6.410773887739307,
          6.507427854979104,
          6.518798909948492,
          6.518798909948492,
          6.535855492402574,
          6.535855492402574,
          6.541541019887267,
          6.541541019887267,
          6.558597602341349,
          6.558597602341349,
          6.564283129826043,
          6.569968657310737,
          6.575654184795431,
          6.575654184795431,
          6.587025239764818,
          6.598396294734206,
          6.6040818222189,
          6.609767349703594,
          6.666622624550534,
          6.677993679519922,
          6.700735789458697,
          6.717792371912779,
          6.729163426882167,
          6.791704229213801,
          6.8144463391525765,
          6.831502921606658,
          6.956584526269925,
          6.962270053754619,
          7.0475529660250285
         ],
         "yaxis": "y2"
        },
        {
         "hovertemplate": "<b>%{hovertext}</b><br><br>Highlight=Mild Climate<br>Social support=%{x}<br>Ladder score=%{y}<br>country=%{text}<extra></extra>",
         "hovertext": [
          "Afghanistan",
          "Armenia",
          "Austria",
          "Azerbaijan",
          "Bolivia",
          "Bosnia and Herzegovina",
          "Bulgaria",
          "Bélgica",
          "China",
          "China",
          "Costa Rica",
          "Croatia",
          "Czech Republic",
          "El Salvador",
          "Eritrea",
          "Ethiopia",
          "France",
          "Georgia",
          "Germany",
          "Germany",
          "Guatemala",
          "Honduras",
          "Hungary",
          "Japan",
          "Kyrghyzstan",
          "Lesotho",
          "Letonia",
          "Monaco",
          "Morocco",
          "Nepal",
          "North Korea",
          "Paraguay",
          "Peru",
          "Poland",
          "Portugal",
          "Romania",
          "San Marino",
          "Serbia",
          "Slovakia",
          "Slovenia",
          "South Korea",
          "Spain",
          "Tonga",
          "Ukraine"
         ],
         "legendgroup": "Mild Climate",
         "marker": {
          "color": "#636efa",
          "opacity": 0.9,
          "size": 10,
          "symbol": "circle"
         },
         "mode": "markers+text",
         "name": "Mild Climate",
         "orientation": "v",
         "showlegend": true,
         "text": [
          "Afghanistan",
          "Armenia",
          "Austria",
          "Azerbaijan",
          "Bolivia",
          "Bosnia and Herzegovina",
          "Bulgaria",
          "Bélgica",
          "China",
          "China",
          "Costa Rica",
          "Croatia",
          "Czech Republic",
          "El Salvador",
          "Eritrea",
          "Ethiopia",
          "France",
          "Georgia",
          "Germany",
          "Germany",
          "Guatemala",
          "Honduras",
          "Hungary",
          "Japan",
          "Kyrghyzstan",
          "Lesotho",
          "Letonia",
          "Monaco",
          "Morocco",
          "Nepal",
          "North Korea",
          "Paraguay",
          "Peru",
          "Poland",
          "Portugal",
          "Romania",
          "San Marino",
          "Serbia",
          "Slovakia",
          "Slovenia",
          "South Korea",
          "Spain",
          "Tonga",
          "Ukraine"
         ],
         "textposition": "top center",
         "type": "scatter",
         "x": [
          0,
          1.154,
          1.336,
          0.876,
          1.179,
          1.318,
          1.469,
          null,
          1.239,
          1.239,
          1.373,
          1.445,
          null,
          1.08,
          null,
          0.915,
          1.348,
          0.99,
          1.39,
          1.39,
          1.169,
          1.035,
          1.528,
          1.354,
          null,
          0.851,
          null,
          null,
          0.471,
          0.99,
          null,
          1.408,
          1.18,
          1.417,
          1.368,
          1.236,
          null,
          1.391,
          1.54,
          1.502,
          1.178,
          1.471,
          null,
          1.315
         ],
         "xaxis": "x3",
         "y": [
          1.721,
          5.455,
          6.905,
          4.893,
          5.784,
          5.877,
          5.463,
          null,
          5.973,
          5.973,
          6.955,
          5.942,
          null,
          6.469,
          null,
          3.861,
          6.609,
          5.185,
          6.719,
          6.719,
          6.287,
          5.968,
          6.017,
          6.06,
          null,
          3.186,
          null,
          null,
          4.795,
          5.158,
          null,
          5.977,
          5.841,
          6.442,
          6.03,
          6.491,
          null,
          6.411,
          6.257,
          6.743,
          6.058,
          6.421,
          null,
          4.873
         ],
         "yaxis": "y3"
        },
        {
         "hovertemplate": "<b>OLS trendline</b><br>Ladder score = 2.82955 * Social support + 2.35047<br>R<sup>2</sup>=0.664467<br><br>Highlight=Mild Climate<br>Social support=%{x}<br>Ladder score=%{y} <b>(trend)</b><extra></extra>",
         "legendgroup": "Mild Climate",
         "marker": {
          "color": "#636efa",
          "opacity": 0.9,
          "size": 10,
          "symbol": "circle"
         },
         "mode": "lines",
         "name": "Mild Climate",
         "showlegend": false,
         "textposition": "top center",
         "type": "scatter",
         "x": [
          0,
          0.471,
          0.851,
          0.876,
          0.915,
          0.99,
          0.99,
          1.035,
          1.08,
          1.154,
          1.169,
          1.178,
          1.179,
          1.18,
          1.236,
          1.239,
          1.239,
          1.315,
          1.318,
          1.336,
          1.348,
          1.354,
          1.368,
          1.373,
          1.39,
          1.39,
          1.391,
          1.408,
          1.417,
          1.445,
          1.469,
          1.471,
          1.502,
          1.528,
          1.54
         ],
         "xaxis": "x3",
         "y": [
          2.3504731753738266,
          3.6831918301125253,
          4.758421318012113,
          4.829160100110769,
          4.939512600184674,
          5.151728946480645,
          5.151728946480645,
          5.279058754258228,
          5.406388562035811,
          5.615775357047836,
          5.658218626307031,
          5.683684587862547,
          5.686514139146493,
          5.689343690430439,
          5.847798562331431,
          5.85628721618327,
          5.85628721618327,
          6.071333113763187,
          6.079821767615027,
          6.13075369072606,
          6.164708306133415,
          6.181685613837093,
          6.221299331812341,
          6.235447088232071,
          6.283549460059158,
          6.283549460059158,
          6.286379011343104,
          6.334481383170191,
          6.359947344725708,
          6.439174780676204,
          6.507084011490915,
          6.512743114058807,
          6.600459203861142,
          6.674027537243745,
          6.707982152651101
         ],
         "yaxis": "y3"
        },
        {
         "hovertemplate": "<b>%{hovertext}</b><br><br>Highlight=Nordic<br>Social support=%{x}<br>Ladder score=%{y}<br>country=%{text}<extra></extra>",
         "hovertext": [
          "Denmark",
          "Finland",
          "Iceland",
          "Norway",
          "Sweden"
         ],
         "legendgroup": "Nordic",
         "marker": {
          "color": "#EF553B",
          "opacity": 0.9,
          "size": 10,
          "symbol": "circle"
         },
         "mode": "markers+text",
         "name": "Nordic",
         "orientation": "v",
         "showlegend": true,
         "text": [
          "Denmark",
          "Finland",
          "Iceland",
          "Norway",
          "Sweden"
         ],
         "textposition": "top center",
         "type": "scatter",
         "x": [
          1.52,
          1.572,
          1.617,
          1.517,
          1.501
         ],
         "xaxis": "x3",
         "y": [
          7.583,
          7.741,
          7.525,
          7.302,
          7.344
         ],
         "yaxis": "y3"
        },
        {
         "hovertemplate": "<b>OLS trendline</b><br>Ladder score = 2.01378 * Social support + 4.3869<br>R<sup>2</sup>=0.290722<br><br>Highlight=Nordic<br>Social support=%{x}<br>Ladder score=%{y} <b>(trend)</b><extra></extra>",
         "legendgroup": "Nordic",
         "marker": {
          "color": "#EF553B",
          "opacity": 0.9,
          "size": 10,
          "symbol": "circle"
         },
         "mode": "lines",
         "name": "Nordic",
         "showlegend": false,
         "textposition": "top center",
         "type": "scatter",
         "x": [
          1.501,
          1.517,
          1.52,
          1.572,
          1.617
         ],
         "xaxis": "x3",
         "y": [
          7.40958799637039,
          7.441808538218898,
          7.447849889815493,
          7.5525666508231435,
          7.6431869247720705
         ],
         "yaxis": "y3"
        }
       ],
       "layout": {
        "annotations": [
         {
          "font": {
           "size": 12
          },
          "showarrow": false,
          "text": "Figuur 11.1: Social Support en Happiness",
          "x": 0.225,
          "xanchor": "center",
          "xref": "paper",
          "y": 1,
          "yanchor": "bottom",
          "yref": "paper"
         },
         {
          "font": {
           "size": 12
          },
          "showarrow": false,
          "text": "Figuur 11.2: Healthy Life Expectancy en Happiness",
          "x": 0.775,
          "xanchor": "center",
          "xref": "paper",
          "y": 1,
          "yanchor": "bottom",
          "yref": "paper"
         },
         {
          "font": {
           "size": 12
          },
          "showarrow": false,
          "text": "Figuur 11.3: Nordic vs Mild Climate, Social Support en Happiness",
          "x": 0.5,
          "xanchor": "center",
          "xref": "paper",
          "y": 0.375,
          "yanchor": "bottom",
          "yref": "paper"
         }
        ],
        "height": 1000,
        "showlegend": false,
        "template": {
         "data": {
          "bar": [
           {
            "error_x": {
             "color": "#2a3f5f"
            },
            "error_y": {
             "color": "#2a3f5f"
            },
            "marker": {
             "line": {
              "color": "#E5ECF6",
              "width": 0.5
             },
             "pattern": {
              "fillmode": "overlay",
              "size": 10,
              "solidity": 0.2
             }
            },
            "type": "bar"
           }
          ],
          "barpolar": [
           {
            "marker": {
             "line": {
              "color": "#E5ECF6",
              "width": 0.5
             },
             "pattern": {
              "fillmode": "overlay",
              "size": 10,
              "solidity": 0.2
             }
            },
            "type": "barpolar"
           }
          ],
          "carpet": [
           {
            "aaxis": {
             "endlinecolor": "#2a3f5f",
             "gridcolor": "white",
             "linecolor": "white",
             "minorgridcolor": "white",
             "startlinecolor": "#2a3f5f"
            },
            "baxis": {
             "endlinecolor": "#2a3f5f",
             "gridcolor": "white",
             "linecolor": "white",
             "minorgridcolor": "white",
             "startlinecolor": "#2a3f5f"
            },
            "type": "carpet"
           }
          ],
          "choropleth": [
           {
            "colorbar": {
             "outlinewidth": 0,
             "ticks": ""
            },
            "type": "choropleth"
           }
          ],
          "contour": [
           {
            "colorbar": {
             "outlinewidth": 0,
             "ticks": ""
            },
            "colorscale": [
             [
              0,
              "#0d0887"
             ],
             [
              0.1111111111111111,
              "#46039f"
             ],
             [
              0.2222222222222222,
              "#7201a8"
             ],
             [
              0.3333333333333333,
              "#9c179e"
             ],
             [
              0.4444444444444444,
              "#bd3786"
             ],
             [
              0.5555555555555556,
              "#d8576b"
             ],
             [
              0.6666666666666666,
              "#ed7953"
             ],
             [
              0.7777777777777778,
              "#fb9f3a"
             ],
             [
              0.8888888888888888,
              "#fdca26"
             ],
             [
              1,
              "#f0f921"
             ]
            ],
            "type": "contour"
           }
          ],
          "contourcarpet": [
           {
            "colorbar": {
             "outlinewidth": 0,
             "ticks": ""
            },
            "type": "contourcarpet"
           }
          ],
          "heatmap": [
           {
            "colorbar": {
             "outlinewidth": 0,
             "ticks": ""
            },
            "colorscale": [
             [
              0,
              "#0d0887"
             ],
             [
              0.1111111111111111,
              "#46039f"
             ],
             [
              0.2222222222222222,
              "#7201a8"
             ],
             [
              0.3333333333333333,
              "#9c179e"
             ],
             [
              0.4444444444444444,
              "#bd3786"
             ],
             [
              0.5555555555555556,
              "#d8576b"
             ],
             [
              0.6666666666666666,
              "#ed7953"
             ],
             [
              0.7777777777777778,
              "#fb9f3a"
             ],
             [
              0.8888888888888888,
              "#fdca26"
             ],
             [
              1,
              "#f0f921"
             ]
            ],
            "type": "heatmap"
           }
          ],
          "heatmapgl": [
           {
            "colorbar": {
             "outlinewidth": 0,
             "ticks": ""
            },
            "colorscale": [
             [
              0,
              "#0d0887"
             ],
             [
              0.1111111111111111,
              "#46039f"
             ],
             [
              0.2222222222222222,
              "#7201a8"
             ],
             [
              0.3333333333333333,
              "#9c179e"
             ],
             [
              0.4444444444444444,
              "#bd3786"
             ],
             [
              0.5555555555555556,
              "#d8576b"
             ],
             [
              0.6666666666666666,
              "#ed7953"
             ],
             [
              0.7777777777777778,
              "#fb9f3a"
             ],
             [
              0.8888888888888888,
              "#fdca26"
             ],
             [
              1,
              "#f0f921"
             ]
            ],
            "type": "heatmapgl"
           }
          ],
          "histogram": [
           {
            "marker": {
             "pattern": {
              "fillmode": "overlay",
              "size": 10,
              "solidity": 0.2
             }
            },
            "type": "histogram"
           }
          ],
          "histogram2d": [
           {
            "colorbar": {
             "outlinewidth": 0,
             "ticks": ""
            },
            "colorscale": [
             [
              0,
              "#0d0887"
             ],
             [
              0.1111111111111111,
              "#46039f"
             ],
             [
              0.2222222222222222,
              "#7201a8"
             ],
             [
              0.3333333333333333,
              "#9c179e"
             ],
             [
              0.4444444444444444,
              "#bd3786"
             ],
             [
              0.5555555555555556,
              "#d8576b"
             ],
             [
              0.6666666666666666,
              "#ed7953"
             ],
             [
              0.7777777777777778,
              "#fb9f3a"
             ],
             [
              0.8888888888888888,
              "#fdca26"
             ],
             [
              1,
              "#f0f921"
             ]
            ],
            "type": "histogram2d"
           }
          ],
          "histogram2dcontour": [
           {
            "colorbar": {
             "outlinewidth": 0,
             "ticks": ""
            },
            "colorscale": [
             [
              0,
              "#0d0887"
             ],
             [
              0.1111111111111111,
              "#46039f"
             ],
             [
              0.2222222222222222,
              "#7201a8"
             ],
             [
              0.3333333333333333,
              "#9c179e"
             ],
             [
              0.4444444444444444,
              "#bd3786"
             ],
             [
              0.5555555555555556,
              "#d8576b"
             ],
             [
              0.6666666666666666,
              "#ed7953"
             ],
             [
              0.7777777777777778,
              "#fb9f3a"
             ],
             [
              0.8888888888888888,
              "#fdca26"
             ],
             [
              1,
              "#f0f921"
             ]
            ],
            "type": "histogram2dcontour"
           }
          ],
          "mesh3d": [
           {
            "colorbar": {
             "outlinewidth": 0,
             "ticks": ""
            },
            "type": "mesh3d"
           }
          ],
          "parcoords": [
           {
            "line": {
             "colorbar": {
              "outlinewidth": 0,
              "ticks": ""
             }
            },
            "type": "parcoords"
           }
          ],
          "pie": [
           {
            "automargin": true,
            "type": "pie"
           }
          ],
          "scatter": [
           {
            "fillpattern": {
             "fillmode": "overlay",
             "size": 10,
             "solidity": 0.2
            },
            "type": "scatter"
           }
          ],
          "scatter3d": [
           {
            "line": {
             "colorbar": {
              "outlinewidth": 0,
              "ticks": ""
             }
            },
            "marker": {
             "colorbar": {
              "outlinewidth": 0,
              "ticks": ""
             }
            },
            "type": "scatter3d"
           }
          ],
          "scattercarpet": [
           {
            "marker": {
             "colorbar": {
              "outlinewidth": 0,
              "ticks": ""
             }
            },
            "type": "scattercarpet"
           }
          ],
          "scattergeo": [
           {
            "marker": {
             "colorbar": {
              "outlinewidth": 0,
              "ticks": ""
             }
            },
            "type": "scattergeo"
           }
          ],
          "scattergl": [
           {
            "marker": {
             "colorbar": {
              "outlinewidth": 0,
              "ticks": ""
             }
            },
            "type": "scattergl"
           }
          ],
          "scattermapbox": [
           {
            "marker": {
             "colorbar": {
              "outlinewidth": 0,
              "ticks": ""
             }
            },
            "type": "scattermapbox"
           }
          ],
          "scatterpolar": [
           {
            "marker": {
             "colorbar": {
              "outlinewidth": 0,
              "ticks": ""
             }
            },
            "type": "scatterpolar"
           }
          ],
          "scatterpolargl": [
           {
            "marker": {
             "colorbar": {
              "outlinewidth": 0,
              "ticks": ""
             }
            },
            "type": "scatterpolargl"
           }
          ],
          "scatterternary": [
           {
            "marker": {
             "colorbar": {
              "outlinewidth": 0,
              "ticks": ""
             }
            },
            "type": "scatterternary"
           }
          ],
          "surface": [
           {
            "colorbar": {
             "outlinewidth": 0,
             "ticks": ""
            },
            "colorscale": [
             [
              0,
              "#0d0887"
             ],
             [
              0.1111111111111111,
              "#46039f"
             ],
             [
              0.2222222222222222,
              "#7201a8"
             ],
             [
              0.3333333333333333,
              "#9c179e"
             ],
             [
              0.4444444444444444,
              "#bd3786"
             ],
             [
              0.5555555555555556,
              "#d8576b"
             ],
             [
              0.6666666666666666,
              "#ed7953"
             ],
             [
              0.7777777777777778,
              "#fb9f3a"
             ],
             [
              0.8888888888888888,
              "#fdca26"
             ],
             [
              1,
              "#f0f921"
             ]
            ],
            "type": "surface"
           }
          ],
          "table": [
           {
            "cells": {
             "fill": {
              "color": "#EBF0F8"
             },
             "line": {
              "color": "white"
             }
            },
            "header": {
             "fill": {
              "color": "#C8D4E3"
             },
             "line": {
              "color": "white"
             }
            },
            "type": "table"
           }
          ]
         },
         "layout": {
          "annotationdefaults": {
           "arrowcolor": "#2a3f5f",
           "arrowhead": 0,
           "arrowwidth": 1
          },
          "autotypenumbers": "strict",
          "coloraxis": {
           "colorbar": {
            "outlinewidth": 0,
            "ticks": ""
           }
          },
          "colorscale": {
           "diverging": [
            [
             0,
             "#8e0152"
            ],
            [
             0.1,
             "#c51b7d"
            ],
            [
             0.2,
             "#de77ae"
            ],
            [
             0.3,
             "#f1b6da"
            ],
            [
             0.4,
             "#fde0ef"
            ],
            [
             0.5,
             "#f7f7f7"
            ],
            [
             0.6,
             "#e6f5d0"
            ],
            [
             0.7,
             "#b8e186"
            ],
            [
             0.8,
             "#7fbc41"
            ],
            [
             0.9,
             "#4d9221"
            ],
            [
             1,
             "#276419"
            ]
           ],
           "sequential": [
            [
             0,
             "#0d0887"
            ],
            [
             0.1111111111111111,
             "#46039f"
            ],
            [
             0.2222222222222222,
             "#7201a8"
            ],
            [
             0.3333333333333333,
             "#9c179e"
            ],
            [
             0.4444444444444444,
             "#bd3786"
            ],
            [
             0.5555555555555556,
             "#d8576b"
            ],
            [
             0.6666666666666666,
             "#ed7953"
            ],
            [
             0.7777777777777778,
             "#fb9f3a"
            ],
            [
             0.8888888888888888,
             "#fdca26"
            ],
            [
             1,
             "#f0f921"
            ]
           ],
           "sequentialminus": [
            [
             0,
             "#0d0887"
            ],
            [
             0.1111111111111111,
             "#46039f"
            ],
            [
             0.2222222222222222,
             "#7201a8"
            ],
            [
             0.3333333333333333,
             "#9c179e"
            ],
            [
             0.4444444444444444,
             "#bd3786"
            ],
            [
             0.5555555555555556,
             "#d8576b"
            ],
            [
             0.6666666666666666,
             "#ed7953"
            ],
            [
             0.7777777777777778,
             "#fb9f3a"
            ],
            [
             0.8888888888888888,
             "#fdca26"
            ],
            [
             1,
             "#f0f921"
            ]
           ]
          },
          "colorway": [
           "#636efa",
           "#EF553B",
           "#00cc96",
           "#ab63fa",
           "#FFA15A",
           "#19d3f3",
           "#FF6692",
           "#B6E880",
           "#FF97FF",
           "#FECB52"
          ],
          "font": {
           "color": "#2a3f5f"
          },
          "geo": {
           "bgcolor": "white",
           "lakecolor": "white",
           "landcolor": "#E5ECF6",
           "showlakes": true,
           "showland": true,
           "subunitcolor": "white"
          },
          "hoverlabel": {
           "align": "left"
          },
          "hovermode": "closest",
          "mapbox": {
           "style": "light"
          },
          "paper_bgcolor": "white",
          "plot_bgcolor": "#E5ECF6",
          "polar": {
           "angularaxis": {
            "gridcolor": "white",
            "linecolor": "white",
            "ticks": ""
           },
           "bgcolor": "#E5ECF6",
           "radialaxis": {
            "gridcolor": "white",
            "linecolor": "white",
            "ticks": ""
           }
          },
          "scene": {
           "xaxis": {
            "backgroundcolor": "#E5ECF6",
            "gridcolor": "white",
            "gridwidth": 2,
            "linecolor": "white",
            "showbackground": true,
            "ticks": "",
            "zerolinecolor": "white"
           },
           "yaxis": {
            "backgroundcolor": "#E5ECF6",
            "gridcolor": "white",
            "gridwidth": 2,
            "linecolor": "white",
            "showbackground": true,
            "ticks": "",
            "zerolinecolor": "white"
           },
           "zaxis": {
            "backgroundcolor": "#E5ECF6",
            "gridcolor": "white",
            "gridwidth": 2,
            "linecolor": "white",
            "showbackground": true,
            "ticks": "",
            "zerolinecolor": "white"
           }
          },
          "shapedefaults": {
           "line": {
            "color": "#2a3f5f"
           }
          },
          "ternary": {
           "aaxis": {
            "gridcolor": "white",
            "linecolor": "white",
            "ticks": ""
           },
           "baxis": {
            "gridcolor": "white",
            "linecolor": "white",
            "ticks": ""
           },
           "bgcolor": "#E5ECF6",
           "caxis": {
            "gridcolor": "white",
            "linecolor": "white",
            "ticks": ""
           }
          },
          "title": {
           "x": 0.05
          },
          "xaxis": {
           "automargin": true,
           "gridcolor": "white",
           "linecolor": "white",
           "ticks": "",
           "title": {
            "standoff": 15
           },
           "zerolinecolor": "white",
           "zerolinewidth": 2
          },
          "yaxis": {
           "automargin": true,
           "gridcolor": "white",
           "linecolor": "white",
           "ticks": "",
           "title": {
            "standoff": 15
           },
           "zerolinecolor": "white",
           "zerolinewidth": 2
          }
         }
        },
        "title": {
         "text": "Vergelijking: Klimaat en Geluk"
        },
        "width": 1000,
        "xaxis": {
         "anchor": "y",
         "autorange": true,
         "domain": [
          0,
          0.45
         ],
         "range": [
          -0.11727467047485224,
          1.7342746704748522
         ],
         "title": {
          "text": "Social support"
         },
         "type": "linear"
        },
        "xaxis2": {
         "anchor": "y2",
         "autorange": true,
         "domain": [
          0.55,
          1
         ],
         "range": [
          -0.056932972370290054,
          0.8419329723702901
         ],
         "title": {
          "text": "Healthy life expectancy"
         },
         "type": "linear"
        },
        "xaxis3": {
         "anchor": "y3",
         "autorange": true,
         "domain": [
          0,
          1
         ],
         "range": [
          -0.10506551817688552,
          1.7220655181768856
         ],
         "title": {
          "text": "Social support"
         },
         "type": "linear"
        },
        "yaxis": {
         "anchor": "x",
         "autorange": true,
         "domain": [
          0.625,
          1
         ],
         "range": [
          1.2611780693533272,
          8.200821930646672
         ],
         "title": {
          "text": "Happiness score"
         },
         "type": "linear"
        },
        "yaxis2": {
         "anchor": "x2",
         "autorange": true,
         "domain": [
          0.625,
          1
         ],
         "range": [
          1.2611780693533272,
          8.200821930646672
         ],
         "title": {
          "text": "Happiness score"
         },
         "type": "linear"
        },
        "yaxis3": {
         "anchor": "x3",
         "autorange": true,
         "domain": [
          0,
          0.375
         ],
         "range": [
          1.2283509933774837,
          8.233649006622516
         ],
         "title": {
          "text": "Happiness score"
         },
         "type": "linear"
        }
       }
      },
      "text/html": [
       "<div>                            <div id=\"5c949a03-78a5-4524-97ea-c54314ff8c95\" class=\"plotly-graph-div\" style=\"height:1000px; width:1000px;\"></div>            <script type=\"text/javascript\">                require([\"plotly\"], function(Plotly) {                    window.PLOTLYENV=window.PLOTLYENV || {};                                    if (document.getElementById(\"5c949a03-78a5-4524-97ea-c54314ff8c95\")) {                    Plotly.newPlot(                        \"5c949a03-78a5-4524-97ea-c54314ff8c95\",                        [{\"hovertemplate\":\"\\u003cb\\u003e%{hovertext}\\u003c\\u002fb\\u003e\\u003cbr\\u003e\\u003cbr\\u003eSocial support=%{x}\\u003cbr\\u003eLadder score=%{marker.color}\\u003cextra\\u003e\\u003c\\u002fextra\\u003e\",\"hovertext\":[\"Afghanistan\",\"Albania\",\"Algeria\",\"Andorra\",\"Angola\",\"Antigua and Barbuda\",\"Argentina\",\"Armenia\",\"Australia\",\"Australia\",\"Austria\",\"Azerbaijan\",\"Bahamas\",\"Bahrain\",\"Bangladesh\",\"Barbados\",\"Belarus\",\"Belgium\",\"Belize\",\"Benin\",\"Bhutan\",\"Bolivia\",\"Bosnia and Herzegovina\",\"Botswana\",\"Brazil\",\"Brazil\",\"Brunei Darussalam\",\"Bulgaria\",\"Burkina Faso\",\"Burundi\",\"B\\u00e9lgica\",\"Cambodia\",\"Cameroon\",\"Canada\",\"Cape Verde\",\"Central African Republic\",\"Chad\",\"Chile\",\"China\",\"China\",\"Colombia\",\"Comoros\",\"Congo\",\"Costa Rica\",\"Croatia\",\"Cuba\",\"Cyprus\",\"Czech Republic\",\"Democratic Republic of Congo\",\"Denmark\",\"Djibouti\",\"Dominica\",\"Dominican Republic\",\"Ecuador\",\"Egypt\",\"El Salvador\",\"Equatorial Guinea\",\"Eritrea\",\"Estonia\",\"Estonie\",\"Ethiopia\",\"Fiji Islands\",\"Finland\",\"France\",\"Gabon\",\"Gambia\",\"Georgia\",\"Germany\",\"Germany\",\"Ghana\",\"Greece\",\"Grenada\",\"Guatemala\",\"Guinea\",\"Guinea-Bissau\",\"Guyana\",\"Haiti\",\"Honduras\",\"Hungary\",\"Iceland\",\"Inde\",\"India\",\"India\",\"Indonesia\",\"Iran\",\"Iraq\",\"Ireland\",\"Israel\",\"Italy\",\"Jamaica\",\"Japan\",\"Jemen\",\"Jordan\",\"Kazakhstan\",\"Kenya\",\"Kiribati\",\"Komoren\",\"Kosovo\",\"Kuwait\",\"Kyrghyzstan\",\"Lao People's Democratic Republic\",\"Latvia\",\"Lebanon\",\"Lesotho\",\"Letonia\",\"Liberia\",\"Libya\",\"Liechtenstein\",\"Lithuania\",\"Luxembourg\",\"Macedonia\",\"Madagascar\",\"Malawi\",\"Malaysia\",\"Maldives\",\"Mali\",\"Malta\",\"Mal\\u00e1sia\",\"Marrocos\",\"Marshall Islands\",\"Mauritania\",\"Mauritius\",\"Mexico\",\"Mexique\",\"Micronesia\",\"Monaco\",\"Mongolia\",\"Montenegro\",\"Morocco\",\"Mozambique\",\"Myanmar\",\"Namibia\",\"Nepal\",\"Netherlands\",\"New Zealand\",\"Nicaragua\",\"Niger\",\"Nigeria\",\"Nigeria\",\"North Korea\",\"Norway\",\"Oman\",\"Pakistan\",\"Palau\",\"Panama\",\"Papua New Guinea\",\"Paraguay\",\"Peru\",\"Philippines\",\"Poland\",\"Pol\\u00f4nia\",\"Portugal\",\"Qatar\",\"Romania\",\"Russia\",\"Russia\",\"Rwanda\",\"Saint Kitts and Nevis\",\"Saint Lucia\",\"Saint Vincent and the Grenadines\",\"Saint-Vincent-et-les-Grenadines\",\"Samoa\",\"San Marino\",\"Saudi Arabia\",\"Saudi Arabien\",\"Senegal\",\"Serbia\",\"Seychelles Islands\",\"Sierra Leone\",\"Singapore\",\"Slovakia\",\"Slovenia\",\"Solomon Islands\",\"Somalia\",\"South Africa\",\"South Korea\",\"Spain\",\"Sri Lanka\",\"Sudan\",\"Suriname\",\"Swaziland\",\"Sweden\",\"Switzerland\",\"Syria\",\"S\\u00fcdkorea\",\"Tajikistan\",\"Tanzania\",\"Thailand\",\"Timor-Leste\",\"Togo\",\"Tonga\",\"Trinidad and Tobago\",\"Tunisia\",\"Turkey\",\"Turkmenistan\",\"Turkm\\u00e9nistan\",\"Tuvalu\",\"USA United States of America\",\"Uganda\",\"Ukraine\",\"United Arab Emirates\",\"United Kingdom\",\"United States of America\",\"Uruguay\",\"Uzbekistan\",\"Vanuatu\",\"Vatican City\",\"Venezuela\",\"Vietnam\",\"Yemen\",\"Zambia\",\"Zimbabwe\",\"\\u0413\\u0432\\u0430\\u0442\\u0435\\u043c\\u0430\\u043b\\u0430\",\"\\u041f\\u043e\\u043b\\u044c\\u0448\\u0430\",\"\\u0422\\u0443\\u0440\\u0446\\u0438\\u044f\",\"\\u0643\\u0648\\u0644\\u0648\\u0645\\u0628\\u064a\\u0627\",\"\\u706b\\u9e21\"],\"legendgroup\":\"\",\"marker\":{\"color\":[1.721,5.304,5.364,null,null,null,6.188,5.455,7.057,7.057,6.905,4.893,null,5.959,3.886,null,null,6.894,null,4.377,null,5.784,5.877,3.383,6.272,6.272,null,5.463,4.548,null,null,4.341,4.874,6.9,null,null,4.471,6.36,5.973,5.973,5.695,3.566,null,6.955,5.942,null,6.068,null,null,7.583,null,null,5.823,5.725,3.977,6.469,null,null,6.448,null,3.861,null,7.741,6.609,5.106,4.485,5.185,6.719,6.719,4.289,5.934,null,6.287,5.023,null,null,null,5.968,6.017,7.525,null,4.054,4.054,5.568,4.923,5.166,6.838,7.341,6.324,5.842,6.06,null,4.186,6.188,4.47,null,null,6.561,6.951,null,null,6.234,2.707,3.186,null,4.269,5.866,null,6.818,7.122,null,4.228,3.421,5.975,null,4.232,6.346,null,null,null,4.505,5.816,6.678,null,null,null,5.696,5.707,4.795,5.216,4.354,4.832,5.158,7.319,7.029,6.284,4.556,4.881,4.881,null,7.302,null,4.657,null,6.358,null,5.977,5.841,6.048,6.442,null,6.03,null,6.491,5.785,5.785,null,null,null,null,null,null,null,6.594,null,4.969,6.411,null,3.245,6.523,6.257,6.743,null,null,5.422,6.058,6.421,3.898,null,null,null,7.344,7.06,null,null,5.281,3.781,5.976,null,4.214,null,null,4.422,null,null,null,null,null,4.372,4.873,6.733,6.749,null,6.611,6.195,null,null,5.607,6.043,3.561,3.502,3.341,null,null,null,null,null],\"coloraxis\":\"coloraxis\",\"opacity\":0.7,\"size\":8,\"symbol\":\"circle\"},\"mode\":\"markers\",\"name\":\"\",\"orientation\":\"v\",\"showlegend\":false,\"textposition\":\"top center\",\"x\":[0.0,0.924,1.191,null,null,null,1.381,1.154,1.461,1.461,1.336,0.876,null,null,0.249,null,null,1.44,null,0.128,null,1.179,1.318,0.969,1.269,1.269,null,1.469,0.685,null,null,1.019,0.856,1.459,null,null,0.805,1.369,1.239,1.239,1.241,0.328,null,1.373,1.445,null,1.217,null,null,1.52,null,null,1.272,1.151,0.996,1.08,null,null,1.527,null,0.915,null,1.572,1.348,1.038,0.684,0.99,1.39,1.39,0.747,1.276,null,1.169,0.622,null,null,null,1.035,1.528,1.617,null,0.653,0.653,1.184,1.136,0.996,1.39,1.513,1.328,1.324,1.354,null,0.983,1.457,0.895,null,null,1.277,1.364,null,null,1.508,0.577,0.851,null,0.673,1.1,null,1.454,1.355,null,0.823,0.41,1.143,null,0.688,1.444,null,null,null,0.705,1.358,1.241,null,null,null,1.511,1.318,0.471,0.883,0.988,1.212,0.99,1.462,1.527,1.263,0.677,1.075,1.075,null,1.517,null,0.6,null,1.392,null,1.408,1.18,1.146,1.417,null,1.368,null,1.236,1.351,1.351,null,null,null,null,null,null,null,1.361,null,0.751,1.391,null,0.566,1.361,1.54,1.502,null,null,1.369,1.178,1.471,1.179,null,null,null,1.501,1.425,null,null,null,0.706,1.347,null,0.586,null,null,0.955,null,null,null,null,null,1.151,1.315,1.164,1.326,null,1.431,1.394,null,null,1.321,1.267,1.281,0.809,0.85,null,null,null,null,null],\"xaxis\":\"x\",\"y\":[1.721,5.304,5.364,null,null,null,6.188,5.455,7.057,7.057,6.905,4.893,null,5.959,3.886,null,null,6.894,null,4.377,null,5.784,5.877,3.383,6.272,6.272,null,5.463,4.548,null,null,4.341,4.874,6.9,null,null,4.471,6.36,5.973,5.973,5.695,3.566,null,6.955,5.942,null,6.068,null,null,7.583,null,null,5.823,5.725,3.977,6.469,null,null,6.448,null,3.861,null,7.741,6.609,5.106,4.485,5.185,6.719,6.719,4.289,5.934,null,6.287,5.023,null,null,null,5.968,6.017,7.525,null,4.054,4.054,5.568,4.923,5.166,6.838,7.341,6.324,5.842,6.06,null,4.186,6.188,4.47,null,null,6.561,6.951,null,null,6.234,2.707,3.186,null,4.269,5.866,null,6.818,7.122,null,4.228,3.421,5.975,null,4.232,6.346,null,null,null,4.505,5.816,6.678,null,null,null,5.696,5.707,4.795,5.216,4.354,4.832,5.158,7.319,7.029,6.284,4.556,4.881,4.881,null,7.302,null,4.657,null,6.358,null,5.977,5.841,6.048,6.442,null,6.03,null,6.491,5.785,5.785,null,null,null,null,null,null,null,6.594,null,4.969,6.411,null,3.245,6.523,6.257,6.743,null,null,5.422,6.058,6.421,3.898,null,null,null,7.344,7.06,null,null,5.281,3.781,5.976,null,4.214,null,null,4.422,null,null,null,null,null,4.372,4.873,6.733,6.749,null,6.611,6.195,null,null,5.607,6.043,3.561,3.502,3.341,null,null,null,null,null],\"yaxis\":\"y\",\"type\":\"scatter\"},{\"hovertemplate\":\"\\u003cb\\u003eOLS trendline\\u003c\\u002fb\\u003e\\u003cbr\\u003eLadder score = 2.96208 * Social support + 2.18271\\u003cbr\\u003eR\\u003csup\\u003e2\\u003c\\u002fsup\\u003e=0.684833\\u003cbr\\u003e\\u003cbr\\u003eSocial support=%{x}\\u003cbr\\u003eLadder score=%{y} \\u003cb\\u003e(trend)\\u003c\\u002fb\\u003e\\u003cextra\\u003e\\u003c\\u002fextra\\u003e\",\"legendgroup\":\"\",\"marker\":{\"opacity\":0.7,\"size\":8,\"symbol\":\"circle\"},\"mode\":\"lines\",\"name\":\"\",\"showlegend\":false,\"textposition\":\"top center\",\"x\":[0.0,0.128,0.249,0.328,0.41,0.471,0.566,0.577,0.586,0.6,0.622,0.653,0.653,0.673,0.677,0.684,0.685,0.688,0.705,0.706,0.747,0.751,0.805,0.809,0.823,0.85,0.851,0.856,0.876,0.883,0.895,0.915,0.924,0.955,0.969,0.983,0.988,0.99,0.99,0.996,0.996,1.019,1.035,1.038,1.075,1.075,1.08,1.1,1.136,1.143,1.146,1.151,1.151,1.154,1.164,1.169,1.178,1.179,1.179,1.18,1.184,1.191,1.212,1.217,1.236,1.239,1.239,1.241,1.241,1.263,1.267,1.269,1.269,1.272,1.276,1.277,1.281,1.315,1.318,1.318,1.321,1.324,1.326,1.328,1.336,1.347,1.348,1.351,1.351,1.354,1.355,1.358,1.361,1.361,1.364,1.368,1.369,1.369,1.373,1.381,1.39,1.39,1.39,1.391,1.392,1.394,1.408,1.417,1.425,1.431,1.44,1.444,1.445,1.454,1.457,1.459,1.461,1.461,1.462,1.469,1.471,1.501,1.502,1.508,1.511,1.513,1.517,1.52,1.527,1.527,1.528,1.54,1.572,1.617],\"xaxis\":\"x\",\"y\":[2.1827065548248883,2.561852716280108,2.9202643220307456,3.1542685935538888,3.397159103236139,3.5778459458046425,3.859243487509688,3.891826360759746,3.9184850752370664,3.9599541866462307,4.025119933146347,4.116944394123783,4.116944394123783,4.176185981851161,4.188034299396637,4.208768855101219,4.211730934487588,4.220617172646694,4.270972522214966,4.273934601601335,4.39537985644246,4.407228173987935,4.567180460851857,4.579028778397332,4.620497889806497,4.700474033238457,4.703436112624826,4.71824650955667,4.777488097284049,4.798222652988631,4.833767605625058,4.893009193352436,4.919667907829757,5.0114923688071915,5.052961480216357,5.094430591625521,5.1092409885573655,5.115165147330104,5.115165147330104,5.132937623648317,5.132937623648317,5.201065449534802,5.248458719716704,5.257344957875811,5.366941895171461,5.366941895171461,5.381752292103306,5.440993879830684,5.547628737739963,5.568363293444547,5.577249531603653,5.592059928535498,5.592059928535498,5.600946166694603,5.630566960558292,5.645377357490138,5.672036071967458,5.674998151353827,5.674998151353827,5.6779602307401955,5.689808548285671,5.710543103990254,5.772746771104,5.787557168035845,5.8438366763768546,5.852722914535962,5.852722914535962,5.858647073308699,5.858647073308699,5.9238128198088145,5.93566113735429,5.941585296127028,5.941585296127028,5.950471534286135,5.9623198518316105,5.965281931217979,5.977130248763455,6.077840947899998,6.086727186059105,6.086727186059105,6.095613424218211,6.104499662377318,6.1104238211500554,6.116347979922794,6.140044615013744,6.172627488263803,6.175589567650172,6.184475805809278,6.184475805809278,6.193362043968385,6.196324123354755,6.205210361513862,6.214096599672967,6.214096599672967,6.222982837832074,6.234831155377551,6.2377932347639184,6.2377932347639184,6.249641552309395,6.273338187400345,6.299996901877666,6.299996901877666,6.299996901877666,6.302958981264034,6.3059210606504035,6.311845219423141,6.353314330832305,6.379973045309626,6.4036696804005775,6.421442156718792,6.448100871196111,6.459949188741586,6.4629112681279555,6.489569982605275,6.498456220764382,6.504380379537121,6.510304538309859,6.510304538309859,6.513266617696226,6.53400117340081,6.5399253321735475,6.6287877137646145,6.631749793150982,6.6495222694691964,6.6584085076283035,6.664332666401041,6.676180983946516,6.685067222105623,6.705801777810205,6.705801777810205,6.708763857196574,6.744308809833001,6.839095350196807,6.9723889225834075],\"yaxis\":\"y\",\"type\":\"scatter\"},{\"hovertemplate\":\"\\u003cb\\u003e%{hovertext}\\u003c\\u002fb\\u003e\\u003cbr\\u003e\\u003cbr\\u003eHealthy life expectancy=%{x}\\u003cbr\\u003eLadder score=%{marker.color}\\u003cextra\\u003e\\u003c\\u002fextra\\u003e\",\"hovertext\":[\"Afghanistan\",\"Albania\",\"Algeria\",\"Andorra\",\"Angola\",\"Antigua and Barbuda\",\"Argentina\",\"Armenia\",\"Australia\",\"Australia\",\"Austria\",\"Azerbaijan\",\"Bahamas\",\"Bahrain\",\"Bangladesh\",\"Barbados\",\"Belarus\",\"Belgium\",\"Belize\",\"Benin\",\"Bhutan\",\"Bolivia\",\"Bosnia and Herzegovina\",\"Botswana\",\"Brazil\",\"Brazil\",\"Brunei Darussalam\",\"Bulgaria\",\"Burkina Faso\",\"Burundi\",\"B\\u00e9lgica\",\"Cambodia\",\"Cameroon\",\"Canada\",\"Cape Verde\",\"Central African Republic\",\"Chad\",\"Chile\",\"China\",\"China\",\"Colombia\",\"Comoros\",\"Congo\",\"Costa Rica\",\"Croatia\",\"Cuba\",\"Cyprus\",\"Czech Republic\",\"Democratic Republic of Congo\",\"Denmark\",\"Djibouti\",\"Dominica\",\"Dominican Republic\",\"Ecuador\",\"Egypt\",\"El Salvador\",\"Equatorial Guinea\",\"Eritrea\",\"Estonia\",\"Estonie\",\"Ethiopia\",\"Fiji Islands\",\"Finland\",\"France\",\"Gabon\",\"Gambia\",\"Georgia\",\"Germany\",\"Germany\",\"Ghana\",\"Greece\",\"Grenada\",\"Guatemala\",\"Guinea\",\"Guinea-Bissau\",\"Guyana\",\"Haiti\",\"Honduras\",\"Hungary\",\"Iceland\",\"Inde\",\"India\",\"India\",\"Indonesia\",\"Iran\",\"Iraq\",\"Ireland\",\"Israel\",\"Italy\",\"Jamaica\",\"Japan\",\"Jemen\",\"Jordan\",\"Kazakhstan\",\"Kenya\",\"Kiribati\",\"Komoren\",\"Kosovo\",\"Kuwait\",\"Kyrghyzstan\",\"Lao People's Democratic Republic\",\"Latvia\",\"Lebanon\",\"Lesotho\",\"Letonia\",\"Liberia\",\"Libya\",\"Liechtenstein\",\"Lithuania\",\"Luxembourg\",\"Macedonia\",\"Madagascar\",\"Malawi\",\"Malaysia\",\"Maldives\",\"Mali\",\"Malta\",\"Mal\\u00e1sia\",\"Marrocos\",\"Marshall Islands\",\"Mauritania\",\"Mauritius\",\"Mexico\",\"Mexique\",\"Micronesia\",\"Monaco\",\"Mongolia\",\"Montenegro\",\"Morocco\",\"Mozambique\",\"Myanmar\",\"Namibia\",\"Nepal\",\"Netherlands\",\"New Zealand\",\"Nicaragua\",\"Niger\",\"Nigeria\",\"Nigeria\",\"North Korea\",\"Norway\",\"Oman\",\"Pakistan\",\"Palau\",\"Panama\",\"Papua New Guinea\",\"Paraguay\",\"Peru\",\"Philippines\",\"Poland\",\"Pol\\u00f4nia\",\"Portugal\",\"Qatar\",\"Romania\",\"Russia\",\"Russia\",\"Rwanda\",\"Saint Kitts and Nevis\",\"Saint Lucia\",\"Saint Vincent and the Grenadines\",\"Saint-Vincent-et-les-Grenadines\",\"Samoa\",\"San Marino\",\"Saudi Arabia\",\"Saudi Arabien\",\"Senegal\",\"Serbia\",\"Seychelles Islands\",\"Sierra Leone\",\"Singapore\",\"Slovakia\",\"Slovenia\",\"Solomon Islands\",\"Somalia\",\"South Africa\",\"South Korea\",\"Spain\",\"Sri Lanka\",\"Sudan\",\"Suriname\",\"Swaziland\",\"Sweden\",\"Switzerland\",\"Syria\",\"S\\u00fcdkorea\",\"Tajikistan\",\"Tanzania\",\"Thailand\",\"Timor-Leste\",\"Togo\",\"Tonga\",\"Trinidad and Tobago\",\"Tunisia\",\"Turkey\",\"Turkmenistan\",\"Turkm\\u00e9nistan\",\"Tuvalu\",\"USA United States of America\",\"Uganda\",\"Ukraine\",\"United Arab Emirates\",\"United Kingdom\",\"United States of America\",\"Uruguay\",\"Uzbekistan\",\"Vanuatu\",\"Vatican City\",\"Venezuela\",\"Vietnam\",\"Yemen\",\"Zambia\",\"Zimbabwe\",\"\\u0413\\u0432\\u0430\\u0442\\u0435\\u043c\\u0430\\u043b\\u0430\",\"\\u041f\\u043e\\u043b\\u044c\\u0448\\u0430\",\"\\u0422\\u0443\\u0440\\u0446\\u0438\\u044f\",\"\\u0643\\u0648\\u0644\\u0648\\u0645\\u0628\\u064a\\u0627\",\"\\u706b\\u9e21\"],\"legendgroup\":\"\",\"marker\":{\"color\":[1.721,5.304,5.364,null,null,null,6.188,5.455,7.057,7.057,6.905,4.893,null,5.959,3.886,null,null,6.894,null,4.377,null,5.784,5.877,3.383,6.272,6.272,null,5.463,4.548,null,null,4.341,4.874,6.9,null,null,4.471,6.36,5.973,5.973,5.695,3.566,null,6.955,5.942,null,6.068,null,null,7.583,null,null,5.823,5.725,3.977,6.469,null,null,6.448,null,3.861,null,7.741,6.609,5.106,4.485,5.185,6.719,6.719,4.289,5.934,null,6.287,5.023,null,null,null,5.968,6.017,7.525,null,4.054,4.054,5.568,4.923,5.166,6.838,7.341,6.324,5.842,6.06,null,4.186,6.188,4.47,null,null,6.561,6.951,null,null,6.234,2.707,3.186,null,4.269,5.866,null,6.818,7.122,null,4.228,3.421,5.975,null,4.232,6.346,null,null,null,4.505,5.816,6.678,null,null,null,5.696,5.707,4.795,5.216,4.354,4.832,5.158,7.319,7.029,6.284,4.556,4.881,4.881,null,7.302,null,4.657,null,6.358,null,5.977,5.841,6.048,6.442,null,6.03,null,6.491,5.785,5.785,null,null,null,null,null,null,null,6.594,null,4.969,6.411,null,3.245,6.523,6.257,6.743,null,null,5.422,6.058,6.421,3.898,null,null,null,7.344,7.06,null,null,5.281,3.781,5.976,null,4.214,null,null,4.422,null,null,null,null,null,4.372,4.873,6.733,6.749,null,6.611,6.195,null,null,5.607,6.043,3.561,3.502,3.341,null,null,null,null,null],\"coloraxis\":\"coloraxis\",\"opacity\":0.7,\"size\":8,\"symbol\":\"circle\"},\"mode\":\"markers\",\"name\":\"\",\"orientation\":\"v\",\"showlegend\":false,\"textposition\":\"top center\",\"x\":[0.242,0.638,0.568,null,null,null,0.585,0.603,0.692,0.692,0.696,0.496,null,null,0.513,null,null,0.69,null,0.284,null,0.488,0.587,0.241,0.548,0.548,null,0.567,0.274,null,null,0.442,0.288,0.701,null,null,0.199,0.673,0.629,0.629,0.648,0.37,null,0.661,0.637,null,0.744,null,null,0.699,null,null,0.511,0.64,0.488,0.549,null,null,0.657,null,0.42,null,0.695,0.727,0.344,0.33,0.524,0.702,0.702,0.36,0.696,null,0.467,0.236,null,null,null,0.502,0.596,0.718,null,0.417,0.417,0.472,0.571,0.498,0.7,0.74,0.72,0.567,0.785,null,0.594,0.556,0.353,null,null,0.599,0.661,null,null,0.564,0.556,0.0,null,0.301,0.55,null,0.598,0.708,null,0.333,0.349,0.54,null,0.267,0.707,null,null,null,0.4,0.49,0.544,null,null,null,0.4,0.587,0.495,0.156,0.436,0.307,0.443,0.706,0.673,0.542,0.293,0.256,0.256,null,0.704,null,0.321,null,0.633,null,0.549,0.662,0.441,0.639,null,0.699,null,0.583,0.531,0.531,null,null,null,null,null,null,null,0.511,null,0.392,0.585,null,0.253,0.769,0.638,0.695,null,null,0.322,0.77,0.729,0.586,null,null,null,0.724,0.747,null,null,null,0.38,0.62,null,0.32,null,null,0.579,null,null,null,null,null,0.373,0.513,0.563,0.672,null,0.592,0.539,null,null,0.491,0.539,0.293,0.264,0.232,null,null,null,null,null],\"xaxis\":\"x2\",\"y\":[1.721,5.304,5.364,null,null,null,6.188,5.455,7.057,7.057,6.905,4.893,null,5.959,3.886,null,null,6.894,null,4.377,null,5.784,5.877,3.383,6.272,6.272,null,5.463,4.548,null,null,4.341,4.874,6.9,null,null,4.471,6.36,5.973,5.973,5.695,3.566,null,6.955,5.942,null,6.068,null,null,7.583,null,null,5.823,5.725,3.977,6.469,null,null,6.448,null,3.861,null,7.741,6.609,5.106,4.485,5.185,6.719,6.719,4.289,5.934,null,6.287,5.023,null,null,null,5.968,6.017,7.525,null,4.054,4.054,5.568,4.923,5.166,6.838,7.341,6.324,5.842,6.06,null,4.186,6.188,4.47,null,null,6.561,6.951,null,null,6.234,2.707,3.186,null,4.269,5.866,null,6.818,7.122,null,4.228,3.421,5.975,null,4.232,6.346,null,null,null,4.505,5.816,6.678,null,null,null,5.696,5.707,4.795,5.216,4.354,4.832,5.158,7.319,7.029,6.284,4.556,4.881,4.881,null,7.302,null,4.657,null,6.358,null,5.977,5.841,6.048,6.442,null,6.03,null,6.491,5.785,5.785,null,null,null,null,null,null,null,6.594,null,4.969,6.411,null,3.245,6.523,6.257,6.743,null,null,5.422,6.058,6.421,3.898,null,null,null,7.344,7.06,null,null,5.281,3.781,5.976,null,4.214,null,null,4.422,null,null,null,null,null,4.372,4.873,6.733,6.749,null,6.611,6.195,null,null,5.607,6.043,3.561,3.502,3.341,null,null,null,null,null],\"yaxis\":\"y2\",\"type\":\"scatter\"},{\"hovertemplate\":\"\\u003cb\\u003eOLS trendline\\u003c\\u002fb\\u003e\\u003cbr\\u003eLadder score = 5.68553 * Healthy life expectancy + 2.58441\\u003cbr\\u003eR\\u003csup\\u003e2\\u003c\\u002fsup\\u003e=0.601291\\u003cbr\\u003e\\u003cbr\\u003eHealthy life expectancy=%{x}\\u003cbr\\u003eLadder score=%{y} \\u003cb\\u003e(trend)\\u003c\\u002fb\\u003e\\u003cextra\\u003e\\u003c\\u002fextra\\u003e\",\"legendgroup\":\"\",\"marker\":{\"opacity\":0.7,\"size\":8,\"symbol\":\"circle\"},\"mode\":\"lines\",\"name\":\"\",\"showlegend\":false,\"textposition\":\"top center\",\"x\":[0.0,0.156,0.199,0.232,0.236,0.241,0.242,0.253,0.256,0.256,0.264,0.267,0.274,0.284,0.288,0.293,0.293,0.301,0.307,0.32,0.321,0.322,0.33,0.333,0.344,0.349,0.353,0.36,0.37,0.373,0.38,0.392,0.4,0.4,0.417,0.417,0.42,0.436,0.441,0.442,0.443,0.467,0.472,0.488,0.488,0.49,0.491,0.495,0.496,0.498,0.502,0.511,0.511,0.513,0.513,0.524,0.531,0.531,0.539,0.539,0.54,0.542,0.544,0.548,0.548,0.549,0.549,0.55,0.556,0.556,0.563,0.564,0.567,0.567,0.568,0.571,0.579,0.583,0.585,0.585,0.586,0.587,0.587,0.592,0.594,0.596,0.598,0.599,0.603,0.62,0.629,0.629,0.633,0.637,0.638,0.638,0.639,0.64,0.648,0.657,0.661,0.661,0.662,0.672,0.673,0.673,0.69,0.692,0.692,0.695,0.695,0.696,0.696,0.699,0.699,0.7,0.701,0.702,0.702,0.704,0.706,0.707,0.708,0.718,0.72,0.724,0.727,0.729,0.74,0.744,0.747,0.769,0.77,0.785],\"xaxis\":\"x2\",\"y\":[2.5844138905402825,3.4713561781525377,3.7158338599943774,3.9034562669892776,3.9261983769280535,3.954626014351523,3.9603115418362167,4.02285234416785,4.039908926621932,4.039908926621932,4.0853931464994835,4.102449728953566,4.142248421346423,4.1991036961933625,4.221845806132138,4.250273443555608,4.250273443555608,4.295757663433159,4.329870828341323,4.403782685642344,4.409468213127038,4.415153740611732,4.460637960489284,4.477694542943366,4.540235345274999,4.568662982698469,4.5914050926372445,4.631203785030102,4.688059059877042,4.705115642331124,4.7449143347239815,4.813140664540309,4.858624884417861,4.858624884417861,4.955278851657657,4.955278851657657,4.972335434111739,5.063303873866841,5.091731511290312,5.097417038775006,5.1031025662597,5.239555225892355,5.267982863315824,5.358951303070928,5.358951303070928,5.370322358040315,5.376007885525009,5.398749995463785,5.404435522948479,5.415806577917866,5.438548687856642,5.489718435218888,5.489718435218888,5.501089490188276,5.501089490188276,5.5636302925199095,5.603428984912767,5.603428984912767,5.648913204790318,5.648913204790318,5.654598732275012,5.6659697872444,5.677340842213788,5.700082952152564,5.700082952152564,5.705768479637258,5.705768479637258,5.711454007121953,5.745567172030116,5.745567172030116,5.785365864422973,5.791051391907667,5.808107974361748,5.808107974361748,5.813793501846442,5.830850084300524,5.8763343041780765,5.899076414116852,5.91044746908624,5.91044746908624,5.9161329965709335,5.921818524055627,5.921818524055627,5.950246161479097,5.961617216448485,5.972988271417873,5.984359326387261,5.9900448538719555,6.012786963810731,6.109440931050528,6.160610678412773,6.160610678412773,6.183352788351549,6.206094898290325,6.211780425775019,6.211780425775019,6.217465953259713,6.223151480744407,6.268635700621958,6.319805447984204,6.3425475579229795,6.3425475579229795,6.348233085407674,6.405088360254613,6.410773887739307,6.410773887739307,6.507427854979104,6.518798909948492,6.518798909948492,6.535855492402574,6.535855492402574,6.541541019887267,6.541541019887267,6.558597602341349,6.558597602341349,6.564283129826043,6.569968657310737,6.575654184795431,6.575654184795431,6.587025239764818,6.598396294734206,6.6040818222189,6.609767349703594,6.666622624550534,6.677993679519922,6.700735789458697,6.717792371912779,6.729163426882167,6.791704229213801,6.8144463391525765,6.831502921606658,6.956584526269925,6.962270053754619,7.0475529660250285],\"yaxis\":\"y2\",\"type\":\"scatter\"},{\"hovertemplate\":\"\\u003cb\\u003e%{hovertext}\\u003c\\u002fb\\u003e\\u003cbr\\u003e\\u003cbr\\u003eHighlight=Mild Climate\\u003cbr\\u003eSocial support=%{x}\\u003cbr\\u003eLadder score=%{y}\\u003cbr\\u003ecountry=%{text}\\u003cextra\\u003e\\u003c\\u002fextra\\u003e\",\"hovertext\":[\"Afghanistan\",\"Armenia\",\"Austria\",\"Azerbaijan\",\"Bolivia\",\"Bosnia and Herzegovina\",\"Bulgaria\",\"B\\u00e9lgica\",\"China\",\"China\",\"Costa Rica\",\"Croatia\",\"Czech Republic\",\"El Salvador\",\"Eritrea\",\"Ethiopia\",\"France\",\"Georgia\",\"Germany\",\"Germany\",\"Guatemala\",\"Honduras\",\"Hungary\",\"Japan\",\"Kyrghyzstan\",\"Lesotho\",\"Letonia\",\"Monaco\",\"Morocco\",\"Nepal\",\"North Korea\",\"Paraguay\",\"Peru\",\"Poland\",\"Portugal\",\"Romania\",\"San Marino\",\"Serbia\",\"Slovakia\",\"Slovenia\",\"South Korea\",\"Spain\",\"Tonga\",\"Ukraine\"],\"legendgroup\":\"Mild Climate\",\"marker\":{\"color\":\"#636efa\",\"opacity\":0.9,\"size\":10,\"symbol\":\"circle\"},\"mode\":\"markers+text\",\"name\":\"Mild Climate\",\"orientation\":\"v\",\"showlegend\":true,\"text\":[\"Afghanistan\",\"Armenia\",\"Austria\",\"Azerbaijan\",\"Bolivia\",\"Bosnia and Herzegovina\",\"Bulgaria\",\"B\\u00e9lgica\",\"China\",\"China\",\"Costa Rica\",\"Croatia\",\"Czech Republic\",\"El Salvador\",\"Eritrea\",\"Ethiopia\",\"France\",\"Georgia\",\"Germany\",\"Germany\",\"Guatemala\",\"Honduras\",\"Hungary\",\"Japan\",\"Kyrghyzstan\",\"Lesotho\",\"Letonia\",\"Monaco\",\"Morocco\",\"Nepal\",\"North Korea\",\"Paraguay\",\"Peru\",\"Poland\",\"Portugal\",\"Romania\",\"San Marino\",\"Serbia\",\"Slovakia\",\"Slovenia\",\"South Korea\",\"Spain\",\"Tonga\",\"Ukraine\"],\"textposition\":\"top center\",\"x\":[0.0,1.154,1.336,0.876,1.179,1.318,1.469,null,1.239,1.239,1.373,1.445,null,1.08,null,0.915,1.348,0.99,1.39,1.39,1.169,1.035,1.528,1.354,null,0.851,null,null,0.471,0.99,null,1.408,1.18,1.417,1.368,1.236,null,1.391,1.54,1.502,1.178,1.471,null,1.315],\"xaxis\":\"x3\",\"y\":[1.721,5.455,6.905,4.893,5.784,5.877,5.463,null,5.973,5.973,6.955,5.942,null,6.469,null,3.861,6.609,5.185,6.719,6.719,6.287,5.968,6.017,6.06,null,3.186,null,null,4.795,5.158,null,5.977,5.841,6.442,6.03,6.491,null,6.411,6.257,6.743,6.058,6.421,null,4.873],\"yaxis\":\"y3\",\"type\":\"scatter\"},{\"hovertemplate\":\"\\u003cb\\u003eOLS trendline\\u003c\\u002fb\\u003e\\u003cbr\\u003eLadder score = 2.82955 * Social support + 2.35047\\u003cbr\\u003eR\\u003csup\\u003e2\\u003c\\u002fsup\\u003e=0.664467\\u003cbr\\u003e\\u003cbr\\u003eHighlight=Mild Climate\\u003cbr\\u003eSocial support=%{x}\\u003cbr\\u003eLadder score=%{y} \\u003cb\\u003e(trend)\\u003c\\u002fb\\u003e\\u003cextra\\u003e\\u003c\\u002fextra\\u003e\",\"legendgroup\":\"Mild Climate\",\"marker\":{\"color\":\"#636efa\",\"opacity\":0.9,\"size\":10,\"symbol\":\"circle\"},\"mode\":\"lines\",\"name\":\"Mild Climate\",\"showlegend\":false,\"textposition\":\"top center\",\"x\":[0.0,0.471,0.851,0.876,0.915,0.99,0.99,1.035,1.08,1.154,1.169,1.178,1.179,1.18,1.236,1.239,1.239,1.315,1.318,1.336,1.348,1.354,1.368,1.373,1.39,1.39,1.391,1.408,1.417,1.445,1.469,1.471,1.502,1.528,1.54],\"xaxis\":\"x3\",\"y\":[2.3504731753738266,3.6831918301125253,4.758421318012113,4.829160100110769,4.939512600184674,5.151728946480645,5.151728946480645,5.279058754258228,5.406388562035811,5.615775357047836,5.658218626307031,5.683684587862547,5.686514139146493,5.689343690430439,5.847798562331431,5.85628721618327,5.85628721618327,6.071333113763187,6.079821767615027,6.13075369072606,6.164708306133415,6.181685613837093,6.221299331812341,6.235447088232071,6.283549460059158,6.283549460059158,6.286379011343104,6.334481383170191,6.359947344725708,6.439174780676204,6.507084011490915,6.512743114058807,6.600459203861142,6.674027537243745,6.707982152651101],\"yaxis\":\"y3\",\"type\":\"scatter\"},{\"hovertemplate\":\"\\u003cb\\u003e%{hovertext}\\u003c\\u002fb\\u003e\\u003cbr\\u003e\\u003cbr\\u003eHighlight=Nordic\\u003cbr\\u003eSocial support=%{x}\\u003cbr\\u003eLadder score=%{y}\\u003cbr\\u003ecountry=%{text}\\u003cextra\\u003e\\u003c\\u002fextra\\u003e\",\"hovertext\":[\"Denmark\",\"Finland\",\"Iceland\",\"Norway\",\"Sweden\"],\"legendgroup\":\"Nordic\",\"marker\":{\"color\":\"#EF553B\",\"opacity\":0.9,\"size\":10,\"symbol\":\"circle\"},\"mode\":\"markers+text\",\"name\":\"Nordic\",\"orientation\":\"v\",\"showlegend\":true,\"text\":[\"Denmark\",\"Finland\",\"Iceland\",\"Norway\",\"Sweden\"],\"textposition\":\"top center\",\"x\":[1.52,1.572,1.617,1.517,1.501],\"xaxis\":\"x3\",\"y\":[7.583,7.741,7.525,7.302,7.344],\"yaxis\":\"y3\",\"type\":\"scatter\"},{\"hovertemplate\":\"\\u003cb\\u003eOLS trendline\\u003c\\u002fb\\u003e\\u003cbr\\u003eLadder score = 2.01378 * Social support + 4.3869\\u003cbr\\u003eR\\u003csup\\u003e2\\u003c\\u002fsup\\u003e=0.290722\\u003cbr\\u003e\\u003cbr\\u003eHighlight=Nordic\\u003cbr\\u003eSocial support=%{x}\\u003cbr\\u003eLadder score=%{y} \\u003cb\\u003e(trend)\\u003c\\u002fb\\u003e\\u003cextra\\u003e\\u003c\\u002fextra\\u003e\",\"legendgroup\":\"Nordic\",\"marker\":{\"color\":\"#EF553B\",\"opacity\":0.9,\"size\":10,\"symbol\":\"circle\"},\"mode\":\"lines\",\"name\":\"Nordic\",\"showlegend\":false,\"textposition\":\"top center\",\"x\":[1.501,1.517,1.52,1.572,1.617],\"xaxis\":\"x3\",\"y\":[7.40958799637039,7.441808538218898,7.447849889815493,7.5525666508231435,7.6431869247720705],\"yaxis\":\"y3\",\"type\":\"scatter\"}],                        {\"template\":{\"data\":{\"histogram2dcontour\":[{\"type\":\"histogram2dcontour\",\"colorbar\":{\"outlinewidth\":0,\"ticks\":\"\"},\"colorscale\":[[0.0,\"#0d0887\"],[0.1111111111111111,\"#46039f\"],[0.2222222222222222,\"#7201a8\"],[0.3333333333333333,\"#9c179e\"],[0.4444444444444444,\"#bd3786\"],[0.5555555555555556,\"#d8576b\"],[0.6666666666666666,\"#ed7953\"],[0.7777777777777778,\"#fb9f3a\"],[0.8888888888888888,\"#fdca26\"],[1.0,\"#f0f921\"]]}],\"choropleth\":[{\"type\":\"choropleth\",\"colorbar\":{\"outlinewidth\":0,\"ticks\":\"\"}}],\"histogram2d\":[{\"type\":\"histogram2d\",\"colorbar\":{\"outlinewidth\":0,\"ticks\":\"\"},\"colorscale\":[[0.0,\"#0d0887\"],[0.1111111111111111,\"#46039f\"],[0.2222222222222222,\"#7201a8\"],[0.3333333333333333,\"#9c179e\"],[0.4444444444444444,\"#bd3786\"],[0.5555555555555556,\"#d8576b\"],[0.6666666666666666,\"#ed7953\"],[0.7777777777777778,\"#fb9f3a\"],[0.8888888888888888,\"#fdca26\"],[1.0,\"#f0f921\"]]}],\"heatmap\":[{\"type\":\"heatmap\",\"colorbar\":{\"outlinewidth\":0,\"ticks\":\"\"},\"colorscale\":[[0.0,\"#0d0887\"],[0.1111111111111111,\"#46039f\"],[0.2222222222222222,\"#7201a8\"],[0.3333333333333333,\"#9c179e\"],[0.4444444444444444,\"#bd3786\"],[0.5555555555555556,\"#d8576b\"],[0.6666666666666666,\"#ed7953\"],[0.7777777777777778,\"#fb9f3a\"],[0.8888888888888888,\"#fdca26\"],[1.0,\"#f0f921\"]]}],\"heatmapgl\":[{\"type\":\"heatmapgl\",\"colorbar\":{\"outlinewidth\":0,\"ticks\":\"\"},\"colorscale\":[[0.0,\"#0d0887\"],[0.1111111111111111,\"#46039f\"],[0.2222222222222222,\"#7201a8\"],[0.3333333333333333,\"#9c179e\"],[0.4444444444444444,\"#bd3786\"],[0.5555555555555556,\"#d8576b\"],[0.6666666666666666,\"#ed7953\"],[0.7777777777777778,\"#fb9f3a\"],[0.8888888888888888,\"#fdca26\"],[1.0,\"#f0f921\"]]}],\"contourcarpet\":[{\"type\":\"contourcarpet\",\"colorbar\":{\"outlinewidth\":0,\"ticks\":\"\"}}],\"contour\":[{\"type\":\"contour\",\"colorbar\":{\"outlinewidth\":0,\"ticks\":\"\"},\"colorscale\":[[0.0,\"#0d0887\"],[0.1111111111111111,\"#46039f\"],[0.2222222222222222,\"#7201a8\"],[0.3333333333333333,\"#9c179e\"],[0.4444444444444444,\"#bd3786\"],[0.5555555555555556,\"#d8576b\"],[0.6666666666666666,\"#ed7953\"],[0.7777777777777778,\"#fb9f3a\"],[0.8888888888888888,\"#fdca26\"],[1.0,\"#f0f921\"]]}],\"surface\":[{\"type\":\"surface\",\"colorbar\":{\"outlinewidth\":0,\"ticks\":\"\"},\"colorscale\":[[0.0,\"#0d0887\"],[0.1111111111111111,\"#46039f\"],[0.2222222222222222,\"#7201a8\"],[0.3333333333333333,\"#9c179e\"],[0.4444444444444444,\"#bd3786\"],[0.5555555555555556,\"#d8576b\"],[0.6666666666666666,\"#ed7953\"],[0.7777777777777778,\"#fb9f3a\"],[0.8888888888888888,\"#fdca26\"],[1.0,\"#f0f921\"]]}],\"mesh3d\":[{\"type\":\"mesh3d\",\"colorbar\":{\"outlinewidth\":0,\"ticks\":\"\"}}],\"scatter\":[{\"fillpattern\":{\"fillmode\":\"overlay\",\"size\":10,\"solidity\":0.2},\"type\":\"scatter\"}],\"parcoords\":[{\"type\":\"parcoords\",\"line\":{\"colorbar\":{\"outlinewidth\":0,\"ticks\":\"\"}}}],\"scatterpolargl\":[{\"type\":\"scatterpolargl\",\"marker\":{\"colorbar\":{\"outlinewidth\":0,\"ticks\":\"\"}}}],\"bar\":[{\"error_x\":{\"color\":\"#2a3f5f\"},\"error_y\":{\"color\":\"#2a3f5f\"},\"marker\":{\"line\":{\"color\":\"#E5ECF6\",\"width\":0.5},\"pattern\":{\"fillmode\":\"overlay\",\"size\":10,\"solidity\":0.2}},\"type\":\"bar\"}],\"scattergeo\":[{\"type\":\"scattergeo\",\"marker\":{\"colorbar\":{\"outlinewidth\":0,\"ticks\":\"\"}}}],\"scatterpolar\":[{\"type\":\"scatterpolar\",\"marker\":{\"colorbar\":{\"outlinewidth\":0,\"ticks\":\"\"}}}],\"histogram\":[{\"marker\":{\"pattern\":{\"fillmode\":\"overlay\",\"size\":10,\"solidity\":0.2}},\"type\":\"histogram\"}],\"scattergl\":[{\"type\":\"scattergl\",\"marker\":{\"colorbar\":{\"outlinewidth\":0,\"ticks\":\"\"}}}],\"scatter3d\":[{\"type\":\"scatter3d\",\"line\":{\"colorbar\":{\"outlinewidth\":0,\"ticks\":\"\"}},\"marker\":{\"colorbar\":{\"outlinewidth\":0,\"ticks\":\"\"}}}],\"scattermapbox\":[{\"type\":\"scattermapbox\",\"marker\":{\"colorbar\":{\"outlinewidth\":0,\"ticks\":\"\"}}}],\"scatterternary\":[{\"type\":\"scatterternary\",\"marker\":{\"colorbar\":{\"outlinewidth\":0,\"ticks\":\"\"}}}],\"scattercarpet\":[{\"type\":\"scattercarpet\",\"marker\":{\"colorbar\":{\"outlinewidth\":0,\"ticks\":\"\"}}}],\"carpet\":[{\"aaxis\":{\"endlinecolor\":\"#2a3f5f\",\"gridcolor\":\"white\",\"linecolor\":\"white\",\"minorgridcolor\":\"white\",\"startlinecolor\":\"#2a3f5f\"},\"baxis\":{\"endlinecolor\":\"#2a3f5f\",\"gridcolor\":\"white\",\"linecolor\":\"white\",\"minorgridcolor\":\"white\",\"startlinecolor\":\"#2a3f5f\"},\"type\":\"carpet\"}],\"table\":[{\"cells\":{\"fill\":{\"color\":\"#EBF0F8\"},\"line\":{\"color\":\"white\"}},\"header\":{\"fill\":{\"color\":\"#C8D4E3\"},\"line\":{\"color\":\"white\"}},\"type\":\"table\"}],\"barpolar\":[{\"marker\":{\"line\":{\"color\":\"#E5ECF6\",\"width\":0.5},\"pattern\":{\"fillmode\":\"overlay\",\"size\":10,\"solidity\":0.2}},\"type\":\"barpolar\"}],\"pie\":[{\"automargin\":true,\"type\":\"pie\"}]},\"layout\":{\"autotypenumbers\":\"strict\",\"colorway\":[\"#636efa\",\"#EF553B\",\"#00cc96\",\"#ab63fa\",\"#FFA15A\",\"#19d3f3\",\"#FF6692\",\"#B6E880\",\"#FF97FF\",\"#FECB52\"],\"font\":{\"color\":\"#2a3f5f\"},\"hovermode\":\"closest\",\"hoverlabel\":{\"align\":\"left\"},\"paper_bgcolor\":\"white\",\"plot_bgcolor\":\"#E5ECF6\",\"polar\":{\"bgcolor\":\"#E5ECF6\",\"angularaxis\":{\"gridcolor\":\"white\",\"linecolor\":\"white\",\"ticks\":\"\"},\"radialaxis\":{\"gridcolor\":\"white\",\"linecolor\":\"white\",\"ticks\":\"\"}},\"ternary\":{\"bgcolor\":\"#E5ECF6\",\"aaxis\":{\"gridcolor\":\"white\",\"linecolor\":\"white\",\"ticks\":\"\"},\"baxis\":{\"gridcolor\":\"white\",\"linecolor\":\"white\",\"ticks\":\"\"},\"caxis\":{\"gridcolor\":\"white\",\"linecolor\":\"white\",\"ticks\":\"\"}},\"coloraxis\":{\"colorbar\":{\"outlinewidth\":0,\"ticks\":\"\"}},\"colorscale\":{\"sequential\":[[0.0,\"#0d0887\"],[0.1111111111111111,\"#46039f\"],[0.2222222222222222,\"#7201a8\"],[0.3333333333333333,\"#9c179e\"],[0.4444444444444444,\"#bd3786\"],[0.5555555555555556,\"#d8576b\"],[0.6666666666666666,\"#ed7953\"],[0.7777777777777778,\"#fb9f3a\"],[0.8888888888888888,\"#fdca26\"],[1.0,\"#f0f921\"]],\"sequentialminus\":[[0.0,\"#0d0887\"],[0.1111111111111111,\"#46039f\"],[0.2222222222222222,\"#7201a8\"],[0.3333333333333333,\"#9c179e\"],[0.4444444444444444,\"#bd3786\"],[0.5555555555555556,\"#d8576b\"],[0.6666666666666666,\"#ed7953\"],[0.7777777777777778,\"#fb9f3a\"],[0.8888888888888888,\"#fdca26\"],[1.0,\"#f0f921\"]],\"diverging\":[[0,\"#8e0152\"],[0.1,\"#c51b7d\"],[0.2,\"#de77ae\"],[0.3,\"#f1b6da\"],[0.4,\"#fde0ef\"],[0.5,\"#f7f7f7\"],[0.6,\"#e6f5d0\"],[0.7,\"#b8e186\"],[0.8,\"#7fbc41\"],[0.9,\"#4d9221\"],[1,\"#276419\"]]},\"xaxis\":{\"gridcolor\":\"white\",\"linecolor\":\"white\",\"ticks\":\"\",\"title\":{\"standoff\":15},\"zerolinecolor\":\"white\",\"automargin\":true,\"zerolinewidth\":2},\"yaxis\":{\"gridcolor\":\"white\",\"linecolor\":\"white\",\"ticks\":\"\",\"title\":{\"standoff\":15},\"zerolinecolor\":\"white\",\"automargin\":true,\"zerolinewidth\":2},\"scene\":{\"xaxis\":{\"backgroundcolor\":\"#E5ECF6\",\"gridcolor\":\"white\",\"linecolor\":\"white\",\"showbackground\":true,\"ticks\":\"\",\"zerolinecolor\":\"white\",\"gridwidth\":2},\"yaxis\":{\"backgroundcolor\":\"#E5ECF6\",\"gridcolor\":\"white\",\"linecolor\":\"white\",\"showbackground\":true,\"ticks\":\"\",\"zerolinecolor\":\"white\",\"gridwidth\":2},\"zaxis\":{\"backgroundcolor\":\"#E5ECF6\",\"gridcolor\":\"white\",\"linecolor\":\"white\",\"showbackground\":true,\"ticks\":\"\",\"zerolinecolor\":\"white\",\"gridwidth\":2}},\"shapedefaults\":{\"line\":{\"color\":\"#2a3f5f\"}},\"annotationdefaults\":{\"arrowcolor\":\"#2a3f5f\",\"arrowhead\":0,\"arrowwidth\":1},\"geo\":{\"bgcolor\":\"white\",\"landcolor\":\"#E5ECF6\",\"subunitcolor\":\"white\",\"showland\":true,\"showlakes\":true,\"lakecolor\":\"white\"},\"title\":{\"x\":0.05},\"mapbox\":{\"style\":\"light\"}}},\"xaxis\":{\"anchor\":\"y\",\"domain\":[0.0,0.45],\"title\":{\"text\":\"Social support\"}},\"yaxis\":{\"anchor\":\"x\",\"domain\":[0.625,1.0],\"title\":{\"text\":\"Happiness score\"}},\"xaxis2\":{\"anchor\":\"y2\",\"domain\":[0.55,1.0],\"title\":{\"text\":\"Healthy life expectancy\"}},\"yaxis2\":{\"anchor\":\"x2\",\"domain\":[0.625,1.0],\"title\":{\"text\":\"Happiness score\"}},\"xaxis3\":{\"anchor\":\"y3\",\"domain\":[0.0,1.0],\"title\":{\"text\":\"Social support\"}},\"yaxis3\":{\"anchor\":\"x3\",\"domain\":[0.0,0.375],\"title\":{\"text\":\"Happiness score\"}},\"annotations\":[{\"font\":{\"size\":12},\"showarrow\":false,\"text\":\"Figuur 11.1: Social Support en Happiness\",\"x\":0.225,\"xanchor\":\"center\",\"xref\":\"paper\",\"y\":1.0,\"yanchor\":\"bottom\",\"yref\":\"paper\"},{\"font\":{\"size\":12},\"showarrow\":false,\"text\":\"Figuur 11.2: Healthy Life Expectancy en Happiness\",\"x\":0.775,\"xanchor\":\"center\",\"xref\":\"paper\",\"y\":1.0,\"yanchor\":\"bottom\",\"yref\":\"paper\"},{\"font\":{\"size\":12},\"showarrow\":false,\"text\":\"Figuur 11.3: Nordic vs Mild Climate, Social Support en Happiness\",\"x\":0.5,\"xanchor\":\"center\",\"xref\":\"paper\",\"y\":0.375,\"yanchor\":\"bottom\",\"yref\":\"paper\"}],\"title\":{\"text\":\"Vergelijking: Klimaat en Geluk\"},\"height\":1000,\"width\":1000,\"showlegend\":false},                        {\"responsive\": true}                    ).then(function(){\n",
       "                            \n",
       "var gd = document.getElementById('5c949a03-78a5-4524-97ea-c54314ff8c95');\n",
       "var x = new MutationObserver(function (mutations, observer) {{\n",
       "        var display = window.getComputedStyle(gd).display;\n",
       "        if (!display || display === 'none') {{\n",
       "            console.log([gd, 'removed!']);\n",
       "            Plotly.purge(gd);\n",
       "            observer.disconnect();\n",
       "        }}\n",
       "}});\n",
       "\n",
       "// Listen for the removal of the full notebook cells\n",
       "var notebookContainer = gd.closest('#notebook-container');\n",
       "if (notebookContainer) {{\n",
       "    x.observe(notebookContainer, {childList: true});\n",
       "}}\n",
       "\n",
       "// Listen for the clearing of the current output cell\n",
       "var outputEl = gd.closest('.output');\n",
       "if (outputEl) {{\n",
       "    x.observe(outputEl, {childList: true});\n",
       "}}\n",
       "\n",
       "                        })                };                });            </script>        </div>"
      ]
     },
     "metadata": {},
     "output_type": "display_data"
    }
   ],
   "source": [
    "# Definieer Nordic en gemiddeld warme landen\n",
    "nordics = ['Sweden', 'Norway', 'Finland', 'Denmark', 'Iceland']\n",
    "avg_temp_df = df123[(df123['temperature_celsius'] >= 16) & (df123['temperature_celsius'] <= 23)]\n",
    "avg_temp_countries = avg_temp_df['country'].unique()\n",
    "\n",
    "# Voeg Highlight-kolom toe voor categorisering\n",
    "def climate_category(row):\n",
    "    if row['country'] in nordics:\n",
    "        return 'Nordic'\n",
    "    elif row['country'] in avg_temp_countries:\n",
    "        return 'Mild Climate'\n",
    "    else:\n",
    "        return 'Other'\n",
    "\n",
    "df123['Highlight'] = df123.apply(climate_category, axis=1)\n",
    "\n",
    "# Eerste plot: alle landen, viridis kleuren op basis van social support\n",
    "scatter_all = px.scatter(\n",
    "    df123,\n",
    "    x='Social support',\n",
    "    y='Ladder score',\n",
    "    color='Ladder score',                  # Viridis op happiness\n",
    "    color_continuous_scale='viridis',\n",
    "    trendline='ols',                        \n",
    "    title='Correlatie: Social Support vs Happiness (alle landen)',\n",
    "    hover_name='country'\n",
    ")\n",
    "\n",
    "scatter_all.update_traces(marker=dict(size=8, opacity=0.7), textposition='top center')\n",
    "\n",
    "# Tweede plot: alle landen, viridis kleuren op basis van Healthy life expectancy\n",
    "scatter_health = px.scatter(\n",
    "    df123,\n",
    "    x='Healthy life expectancy',\n",
    "    y='Ladder score',\n",
    "    color='Ladder score',\n",
    "    color_continuous_scale='viridis',\n",
    "    trendline='ols',\n",
    "    title='Healthy Life Expectancy vs Happiness',\n",
    "    hover_name='country'\n",
    ")\n",
    "scatter_health.update_traces(marker=dict(size=8, opacity=0.7), textposition='top center')\n",
    "\n",
    "# Derde plot: enkel Nordic vs Mild Climate landen\n",
    "scan_vs_mild = px.scatter(\n",
    "    df123[df123['Highlight'].isin(['Nordic', 'Mild Climate'])],\n",
    "    x='Social support',\n",
    "    y='Ladder score',\n",
    "    color='Highlight',\n",
    "    color_continuous_scale='viridis',\n",
    "    trendline='ols',\n",
    "    text='country',\n",
    "    title='Nordic vs Mild Climate landen: Social Support vs Happiness',\n",
    "    hover_name='country'\n",
    ")\n",
    "\n",
    "scan_vs_mild.update_traces(marker=dict(size=10, opacity=0.9), textposition='top center')\n",
    "\n",
    "# Combineer in subplots\n",
    "final_fig = make_subplots(\n",
    "    rows=2,\n",
    "    cols=2,\n",
    "    column_widths=[0.5, 0.5],\n",
    "    row_heights=[0.5, 0.5],\n",
    "    specs=[\n",
    "        [{}, {}],                      # hier zijn twee afzonderlijke plots\n",
    "        [{\"colspan\": 2}, None]        # zodat rij 2 een brede plot over twee kolommen\n",
    "    ],\n",
    "    subplot_titles=(\n",
    "        \"Figuur 11.1: Social Support en Happiness\",\n",
    "        \"Figuur 11.2: Healthy Life Expectancy en Happiness\",\n",
    "        \"Figuur 11.3: Nordic vs Mild Climate, Social Support en Happiness\"\n",
    "    )\n",
    ")\n",
    "\n",
    "# Voeg data toe\n",
    "for trace in scatter_all.data:\n",
    "    final_fig.add_trace(trace, row=1, col=1)\n",
    "for trace in scatter_health.data:\n",
    "    final_fig.add_trace(trace, row=1, col=2)\n",
    "for trace in scan_vs_mild.data:\n",
    "    final_fig.add_trace(trace, row=2, col=1)\n",
    "\n",
    "# Layout, font en labels\n",
    "final_fig.update_layout(\n",
    "    height=1000,\n",
    "    width=1000,\n",
    "    title_text=\"Vergelijking: Klimaat en Geluk\",\n",
    "    showlegend=False\n",
    ")\n",
    "\n",
    "for annotation in final_fig['layout']['annotations']:\n",
    "    annotation['font'] = dict(size=12)\n",
    "\n",
    "final_fig.update_xaxes(title_text=\"Social support\", row=1, col=1)\n",
    "final_fig.update_xaxes(title_text=\"Social support\", row=2, col=1)\n",
    "final_fig.update_xaxes(title_text=\"Healthy life expectancy\", row=1, col=2)\n",
    "final_fig.update_yaxes(title_text=\"Happiness score\", row=1, col=2)\n",
    "final_fig.update_yaxes(title_text=\"Happiness score\", row=1, col=1)\n",
    "final_fig.update_yaxes(title_text=\"Happiness score\", row=2, col=1)\n",
    "\n",
    "# Toon figuur\n",
    "final_fig.show()"
   ]
  },
  {
   "cell_type": "markdown",
   "id": "c3857f81-dcad-489c-a608-3f7f86e6a58e",
   "metadata": {},
   "source": [
    "> *Figuur 11.1: Deze scatterplot toont dat landen met meer sociale steun gemiddeld ook gelukkiger zijn.*\n",
    "> \n",
    "> *Figuur 11.2: Landen met een hogere gezonde levensverwachting scoren doorgaans hoger op geluk.*\n",
    "> \n",
    "> *Figuur 11.3: Scandinavische landen zijn gelukkiger dan warmere landen met minder sociale steun, wat het belang van sociale factoren benadrukt.*"
   ]
  },
  {
   "cell_type": "markdown",
   "id": "7096e284-a497-4d3f-84af-6d228186fddb",
   "metadata": {},
   "source": [
    "Figuur 11.1 toont een duidelijke positieve relatie tussen Social support en geluk. Dat komt ook omdat mensen zich gelukkiger voelen als ze kunnen rekenen op hulp (Calvo et al., 2012). Ook Figuur 11.2 laat zien dat een hogere levensverwachting samengaat met meer geluk. Gezonde jaren geven minder zorgen en vergroten het welzijn. \n",
    "Om aan te tonen dat klimaat niet van grote invloed is, vergelijkt Figuur 11.3 Scandinavische landen met landen in mildere klimaten (16–23 °C). Ondanks gunstiger temperaturen scoren die gemiddeld lager op geluk, vooral bij minder sociale steun. Dit benadrukt het belang van sterke sociale voorzieningen."
   ]
  },
  {
   "cell_type": "markdown",
   "id": "bf522e30-74ba-4774-a6a0-a94f3d827123",
   "metadata": {},
   "source": [
    "## Argument 2.2: Economische stabiliteit, werkgelegenheid, gezondheidszorg en sociale verbondenheid dragen meer bij aan geluk dan klimaatfactoren."
   ]
  },
  {
   "cell_type": "markdown",
   "id": "51f7128d-2dd5-42ff-a178-bd7d6457d749",
   "metadata": {},
   "source": [
    "Ook (Log) GDP per capita speelt een rol. Mensen met een redelijk inkomen zijn vaak gelukkiger (Proto & Rustichini, 2013). Figuur 12.1 laat zien dat landen met meer sociale steun én hoger inkomen over het algemeen ook hogere geluksscores hebben. Deze landen beschikken vaker over betere zorg, banen en economische stabiliteit (Berg, 2007).\n",
    "\n",
    "Figuur 12.2 maakt onderscheid tussen landen met een laag en hoog (Log) GDP per capita (mediaan = 1.435). In lage-inkomenslanden varieert geluk sterk, terwijl hoge-inkomenslanden consistenter scoren. Lagere inkomenslanden hebben ook vaak minder sociale steun. "
   ]
  },
  {
   "cell_type": "code",
   "execution_count": 16,
   "id": "f0cacf98-3646-409e-b4bf-c153d8cc1b71",
   "metadata": {
    "editable": true,
    "slideshow": {
     "slide_type": ""
    },
    "tags": [
     "hide-input"
    ]
   },
   "outputs": [
    {
     "name": "stdout",
     "output_type": "stream",
     "text": [
      "De mediaan van Log GDP per capita is: 1.4340000000000002\n"
     ]
    }
   ],
   "source": [
    "print(\"De mediaan van Log GDP per capita is:\", df123['Log GDP per capita'].median())"
   ]
  },
  {
   "cell_type": "code",
   "execution_count": 17,
   "id": "e6372635",
   "metadata": {
    "editable": true,
    "slideshow": {
     "slide_type": ""
    },
    "tags": [
     "hide-input"
    ]
   },
   "outputs": [
    {
     "data": {
      "application/vnd.plotly.v1+json": {
       "config": {
        "plotlyServerURL": "https://plot.ly"
       },
       "data": [
        {
         "hovertemplate": "<b>%{hovertext}</b><br><br>Log GDP per capita=%{x}<br>Social support=%{y}<br>Happiness score=%{marker.color}<extra></extra>",
         "hovertext": [
          "Afghanistan",
          "Albania",
          "Algeria",
          "Argentina",
          "Armenia",
          "Australia",
          "Australia",
          "Austria",
          "Azerbaijan",
          "Bangladesh",
          "Belgium",
          "Benin",
          "Bolivia",
          "Bosnia and Herzegovina",
          "Botswana",
          "Brazil",
          "Brazil",
          "Bulgaria",
          "Burkina Faso",
          "Cambodia",
          "Cameroon",
          "Canada",
          "Chad",
          "Chile",
          "China",
          "China",
          "Colombia",
          "Comoros",
          "Costa Rica",
          "Croatia",
          "Cyprus",
          "Denmark",
          "Dominican Republic",
          "Ecuador",
          "Egypt",
          "El Salvador",
          "Estonia",
          "Ethiopia",
          "Finland",
          "France",
          "Gabon",
          "Gambia",
          "Georgia",
          "Germany",
          "Germany",
          "Ghana",
          "Greece",
          "Guatemala",
          "Guinea",
          "Honduras",
          "Hungary",
          "Iceland",
          "India",
          "India",
          "Indonesia",
          "Iran",
          "Iraq",
          "Ireland",
          "Israel",
          "Italy",
          "Jamaica",
          "Japan",
          "Jordan",
          "Kazakhstan",
          "Kenya",
          "Kosovo",
          "Kuwait",
          "Latvia",
          "Lebanon",
          "Lesotho",
          "Liberia",
          "Libya",
          "Lithuania",
          "Luxembourg",
          "Madagascar",
          "Malawi",
          "Malaysia",
          "Mali",
          "Malta",
          "Mauritania",
          "Mauritius",
          "Mexico",
          "Mongolia",
          "Montenegro",
          "Morocco",
          "Mozambique",
          "Myanmar",
          "Namibia",
          "Nepal",
          "Netherlands",
          "New Zealand",
          "Nicaragua",
          "Niger",
          "Nigeria",
          "Nigeria",
          "Norway",
          "Pakistan",
          "Panama",
          "Paraguay",
          "Peru",
          "Philippines",
          "Poland",
          "Portugal",
          "Romania",
          "Russia",
          "Russia",
          "Saudi Arabia",
          "Senegal",
          "Serbia",
          "Sierra Leone",
          "Singapore",
          "Slovakia",
          "Slovenia",
          "South Africa",
          "South Korea",
          "Spain",
          "Sri Lanka",
          "Sweden",
          "Switzerland",
          "Tanzania",
          "Thailand",
          "Togo",
          "Tunisia",
          "Uganda",
          "Ukraine",
          "United Arab Emirates",
          "United Kingdom",
          "Uruguay",
          "Uzbekistan",
          "Vietnam",
          "Yemen",
          "Zambia",
          "Zimbabwe"
         ],
         "legendgroup": "",
         "marker": {
          "color": [
           1.721,
           5.304,
           5.364,
           6.188,
           5.455,
           7.057,
           7.057,
           6.905,
           4.893,
           3.886,
           6.894,
           4.377,
           5.784,
           5.877,
           3.383,
           6.272,
           6.272,
           5.463,
           4.548,
           4.341,
           4.874,
           6.9,
           4.471,
           6.36,
           5.973,
           5.973,
           5.695,
           3.566,
           6.955,
           5.942,
           6.068,
           7.583,
           5.823,
           5.725,
           3.977,
           6.469,
           6.448,
           3.861,
           7.741,
           6.609,
           5.106,
           4.485,
           5.185,
           6.719,
           6.719,
           4.289,
           5.934,
           6.287,
           5.023,
           5.968,
           6.017,
           7.525,
           4.054,
           4.054,
           5.568,
           4.923,
           5.166,
           6.838,
           7.341,
           6.324,
           5.842,
           6.06,
           4.186,
           6.188,
           4.47,
           6.561,
           6.951,
           6.234,
           2.707,
           3.186,
           4.269,
           5.866,
           6.818,
           7.122,
           4.228,
           3.421,
           5.975,
           4.232,
           6.346,
           4.505,
           5.816,
           6.678,
           5.696,
           5.707,
           4.795,
           5.216,
           4.354,
           4.832,
           5.158,
           7.319,
           7.029,
           6.284,
           4.556,
           4.881,
           4.881,
           7.302,
           4.657,
           6.358,
           5.977,
           5.841,
           6.048,
           6.442,
           6.03,
           6.491,
           5.785,
           5.785,
           6.594,
           4.969,
           6.411,
           3.245,
           6.523,
           6.257,
           6.743,
           5.422,
           6.058,
           6.421,
           3.898,
           7.344,
           7.06,
           3.781,
           5.976,
           4.214,
           4.422,
           4.372,
           4.873,
           6.733,
           6.749,
           6.611,
           6.195,
           6.043,
           3.561,
           3.502,
           3.341
          ],
          "coloraxis": "coloraxis",
          "size": [
           1.721,
           5.304,
           5.364,
           6.188,
           5.455,
           7.057,
           7.057,
           6.905,
           4.893,
           3.886,
           6.894,
           4.377,
           5.784,
           5.877,
           3.383,
           6.272,
           6.272,
           5.463,
           4.548,
           4.341,
           4.874,
           6.9,
           4.471,
           6.36,
           5.973,
           5.973,
           5.695,
           3.566,
           6.955,
           5.942,
           6.068,
           7.583,
           5.823,
           5.725,
           3.977,
           6.469,
           6.448,
           3.861,
           7.741,
           6.609,
           5.106,
           4.485,
           5.185,
           6.719,
           6.719,
           4.289,
           5.934,
           6.287,
           5.023,
           5.968,
           6.017,
           7.525,
           4.054,
           4.054,
           5.568,
           4.923,
           5.166,
           6.838,
           7.341,
           6.324,
           5.842,
           6.06,
           4.186,
           6.188,
           4.47,
           6.561,
           6.951,
           6.234,
           2.707,
           3.186,
           4.269,
           5.866,
           6.818,
           7.122,
           4.228,
           3.421,
           5.975,
           4.232,
           6.346,
           4.505,
           5.816,
           6.678,
           5.696,
           5.707,
           4.795,
           5.216,
           4.354,
           4.832,
           5.158,
           7.319,
           7.029,
           6.284,
           4.556,
           4.881,
           4.881,
           7.302,
           4.657,
           6.358,
           5.977,
           5.841,
           6.048,
           6.442,
           6.03,
           6.491,
           5.785,
           5.785,
           6.594,
           4.969,
           6.411,
           3.245,
           6.523,
           6.257,
           6.743,
           5.422,
           6.058,
           6.421,
           3.898,
           7.344,
           7.06,
           3.781,
           5.976,
           4.214,
           4.422,
           4.372,
           4.873,
           6.733,
           6.749,
           6.611,
           6.195,
           6.043,
           3.561,
           3.502,
           3.341
          ],
          "sizemode": "area",
          "sizeref": 0.008601111111111111,
          "symbol": "circle"
         },
         "mode": "markers",
         "name": "",
         "orientation": "v",
         "showlegend": false,
         "type": "scatter",
         "x": [
          0.628,
          1.438,
          1.324,
          1.562,
          1.444,
          1.854,
          1.854,
          1.885,
          1.433,
          1.122,
          1.868,
          0.914,
          1.217,
          1.465,
          1.445,
          1.43,
          1.43,
          1.629,
          0.756,
          1.011,
          0.943,
          1.84,
          0.603,
          1.616,
          1.497,
          1.497,
          1.437,
          0.896,
          1.561,
          1.71,
          1.794,
          1.908,
          1.517,
          1.315,
          1.37,
          1.265,
          1.752,
          0.792,
          1.844,
          1.818,
          1.403,
          0.75,
          1.467,
          1.871,
          1.871,
          1.077,
          1.684,
          1.26,
          0.831,
          1.091,
          1.722,
          1.881,
          1.166,
          1.166,
          1.361,
          1.435,
          1.249,
          2.129,
          1.803,
          1.8,
          1.28,
          1.786,
          1.262,
          1.622,
          1.037,
          1.364,
          1.845,
          1.7,
          1.377,
          0.771,
          0.619,
          1.526,
          1.766,
          2.141,
          0.628,
          0.617,
          1.646,
          0.747,
          1.827,
          1.078,
          1.57,
          1.521,
          1.353,
          1.571,
          1.213,
          0.56,
          0.978,
          1.266,
          0.965,
          1.901,
          1.81,
          1.097,
          0.573,
          1.042,
          1.042,
          1.952,
          1.069,
          1.702,
          1.398,
          1.371,
          1.232,
          1.738,
          1.728,
          1.699,
          1.642,
          1.642,
          1.842,
          0.927,
          1.538,
          0.654,
          2.118,
          1.706,
          1.786,
          1.389,
          1.815,
          1.766,
          1.361,
          1.878,
          1.97,
          0.82,
          1.484,
          0.758,
          1.306,
          0.772,
          1.35,
          1.983,
          1.822,
          1.596,
          1.212,
          1.331,
          0.671,
          0.899,
          0.748
         ],
         "xaxis": "x",
         "y": [
          0,
          0.924,
          1.191,
          1.381,
          1.154,
          1.461,
          1.461,
          1.336,
          0.876,
          0.249,
          1.44,
          0.128,
          1.179,
          1.318,
          0.969,
          1.269,
          1.269,
          1.469,
          0.685,
          1.019,
          0.856,
          1.459,
          0.805,
          1.369,
          1.239,
          1.239,
          1.241,
          0.328,
          1.373,
          1.445,
          1.217,
          1.52,
          1.272,
          1.151,
          0.996,
          1.08,
          1.527,
          0.915,
          1.572,
          1.348,
          1.038,
          0.684,
          0.99,
          1.39,
          1.39,
          0.747,
          1.276,
          1.169,
          0.622,
          1.035,
          1.528,
          1.617,
          0.653,
          0.653,
          1.184,
          1.136,
          0.996,
          1.39,
          1.513,
          1.328,
          1.324,
          1.354,
          0.983,
          1.457,
          0.895,
          1.277,
          1.364,
          1.508,
          0.577,
          0.851,
          0.673,
          1.1,
          1.454,
          1.355,
          0.823,
          0.41,
          1.143,
          0.688,
          1.444,
          0.705,
          1.358,
          1.241,
          1.511,
          1.318,
          0.471,
          0.883,
          0.988,
          1.212,
          0.99,
          1.462,
          1.527,
          1.263,
          0.677,
          1.075,
          1.075,
          1.517,
          0.6,
          1.392,
          1.408,
          1.18,
          1.146,
          1.417,
          1.368,
          1.236,
          1.351,
          1.351,
          1.361,
          0.751,
          1.391,
          0.566,
          1.361,
          1.54,
          1.502,
          1.369,
          1.178,
          1.471,
          1.179,
          1.501,
          1.425,
          0.706,
          1.347,
          0.586,
          0.955,
          1.151,
          1.315,
          1.164,
          1.326,
          1.431,
          1.394,
          1.267,
          1.281,
          0.809,
          0.85
         ],
         "yaxis": "y"
        }
       ],
       "layout": {
        "autosize": true,
        "coloraxis": {
         "colorbar": {
          "title": {
           "text": "Happiness score"
          }
         },
         "colorscale": [
          [
           0,
           "#0d0887"
          ],
          [
           0.1111111111111111,
           "#46039f"
          ],
          [
           0.2222222222222222,
           "#7201a8"
          ],
          [
           0.3333333333333333,
           "#9c179e"
          ],
          [
           0.4444444444444444,
           "#bd3786"
          ],
          [
           0.5555555555555556,
           "#d8576b"
          ],
          [
           0.6666666666666666,
           "#ed7953"
          ],
          [
           0.7777777777777778,
           "#fb9f3a"
          ],
          [
           0.8888888888888888,
           "#fdca26"
          ],
          [
           1,
           "#f0f921"
          ]
         ]
        },
        "legend": {
         "itemsizing": "constant",
         "tracegroupgap": 0
        },
        "template": {
         "data": {
          "bar": [
           {
            "error_x": {
             "color": "#2a3f5f"
            },
            "error_y": {
             "color": "#2a3f5f"
            },
            "marker": {
             "line": {
              "color": "#E5ECF6",
              "width": 0.5
             },
             "pattern": {
              "fillmode": "overlay",
              "size": 10,
              "solidity": 0.2
             }
            },
            "type": "bar"
           }
          ],
          "barpolar": [
           {
            "marker": {
             "line": {
              "color": "#E5ECF6",
              "width": 0.5
             },
             "pattern": {
              "fillmode": "overlay",
              "size": 10,
              "solidity": 0.2
             }
            },
            "type": "barpolar"
           }
          ],
          "carpet": [
           {
            "aaxis": {
             "endlinecolor": "#2a3f5f",
             "gridcolor": "white",
             "linecolor": "white",
             "minorgridcolor": "white",
             "startlinecolor": "#2a3f5f"
            },
            "baxis": {
             "endlinecolor": "#2a3f5f",
             "gridcolor": "white",
             "linecolor": "white",
             "minorgridcolor": "white",
             "startlinecolor": "#2a3f5f"
            },
            "type": "carpet"
           }
          ],
          "choropleth": [
           {
            "colorbar": {
             "outlinewidth": 0,
             "ticks": ""
            },
            "type": "choropleth"
           }
          ],
          "contour": [
           {
            "colorbar": {
             "outlinewidth": 0,
             "ticks": ""
            },
            "colorscale": [
             [
              0,
              "#0d0887"
             ],
             [
              0.1111111111111111,
              "#46039f"
             ],
             [
              0.2222222222222222,
              "#7201a8"
             ],
             [
              0.3333333333333333,
              "#9c179e"
             ],
             [
              0.4444444444444444,
              "#bd3786"
             ],
             [
              0.5555555555555556,
              "#d8576b"
             ],
             [
              0.6666666666666666,
              "#ed7953"
             ],
             [
              0.7777777777777778,
              "#fb9f3a"
             ],
             [
              0.8888888888888888,
              "#fdca26"
             ],
             [
              1,
              "#f0f921"
             ]
            ],
            "type": "contour"
           }
          ],
          "contourcarpet": [
           {
            "colorbar": {
             "outlinewidth": 0,
             "ticks": ""
            },
            "type": "contourcarpet"
           }
          ],
          "heatmap": [
           {
            "colorbar": {
             "outlinewidth": 0,
             "ticks": ""
            },
            "colorscale": [
             [
              0,
              "#0d0887"
             ],
             [
              0.1111111111111111,
              "#46039f"
             ],
             [
              0.2222222222222222,
              "#7201a8"
             ],
             [
              0.3333333333333333,
              "#9c179e"
             ],
             [
              0.4444444444444444,
              "#bd3786"
             ],
             [
              0.5555555555555556,
              "#d8576b"
             ],
             [
              0.6666666666666666,
              "#ed7953"
             ],
             [
              0.7777777777777778,
              "#fb9f3a"
             ],
             [
              0.8888888888888888,
              "#fdca26"
             ],
             [
              1,
              "#f0f921"
             ]
            ],
            "type": "heatmap"
           }
          ],
          "heatmapgl": [
           {
            "colorbar": {
             "outlinewidth": 0,
             "ticks": ""
            },
            "colorscale": [
             [
              0,
              "#0d0887"
             ],
             [
              0.1111111111111111,
              "#46039f"
             ],
             [
              0.2222222222222222,
              "#7201a8"
             ],
             [
              0.3333333333333333,
              "#9c179e"
             ],
             [
              0.4444444444444444,
              "#bd3786"
             ],
             [
              0.5555555555555556,
              "#d8576b"
             ],
             [
              0.6666666666666666,
              "#ed7953"
             ],
             [
              0.7777777777777778,
              "#fb9f3a"
             ],
             [
              0.8888888888888888,
              "#fdca26"
             ],
             [
              1,
              "#f0f921"
             ]
            ],
            "type": "heatmapgl"
           }
          ],
          "histogram": [
           {
            "marker": {
             "pattern": {
              "fillmode": "overlay",
              "size": 10,
              "solidity": 0.2
             }
            },
            "type": "histogram"
           }
          ],
          "histogram2d": [
           {
            "colorbar": {
             "outlinewidth": 0,
             "ticks": ""
            },
            "colorscale": [
             [
              0,
              "#0d0887"
             ],
             [
              0.1111111111111111,
              "#46039f"
             ],
             [
              0.2222222222222222,
              "#7201a8"
             ],
             [
              0.3333333333333333,
              "#9c179e"
             ],
             [
              0.4444444444444444,
              "#bd3786"
             ],
             [
              0.5555555555555556,
              "#d8576b"
             ],
             [
              0.6666666666666666,
              "#ed7953"
             ],
             [
              0.7777777777777778,
              "#fb9f3a"
             ],
             [
              0.8888888888888888,
              "#fdca26"
             ],
             [
              1,
              "#f0f921"
             ]
            ],
            "type": "histogram2d"
           }
          ],
          "histogram2dcontour": [
           {
            "colorbar": {
             "outlinewidth": 0,
             "ticks": ""
            },
            "colorscale": [
             [
              0,
              "#0d0887"
             ],
             [
              0.1111111111111111,
              "#46039f"
             ],
             [
              0.2222222222222222,
              "#7201a8"
             ],
             [
              0.3333333333333333,
              "#9c179e"
             ],
             [
              0.4444444444444444,
              "#bd3786"
             ],
             [
              0.5555555555555556,
              "#d8576b"
             ],
             [
              0.6666666666666666,
              "#ed7953"
             ],
             [
              0.7777777777777778,
              "#fb9f3a"
             ],
             [
              0.8888888888888888,
              "#fdca26"
             ],
             [
              1,
              "#f0f921"
             ]
            ],
            "type": "histogram2dcontour"
           }
          ],
          "mesh3d": [
           {
            "colorbar": {
             "outlinewidth": 0,
             "ticks": ""
            },
            "type": "mesh3d"
           }
          ],
          "parcoords": [
           {
            "line": {
             "colorbar": {
              "outlinewidth": 0,
              "ticks": ""
             }
            },
            "type": "parcoords"
           }
          ],
          "pie": [
           {
            "automargin": true,
            "type": "pie"
           }
          ],
          "scatter": [
           {
            "fillpattern": {
             "fillmode": "overlay",
             "size": 10,
             "solidity": 0.2
            },
            "type": "scatter"
           }
          ],
          "scatter3d": [
           {
            "line": {
             "colorbar": {
              "outlinewidth": 0,
              "ticks": ""
             }
            },
            "marker": {
             "colorbar": {
              "outlinewidth": 0,
              "ticks": ""
             }
            },
            "type": "scatter3d"
           }
          ],
          "scattercarpet": [
           {
            "marker": {
             "colorbar": {
              "outlinewidth": 0,
              "ticks": ""
             }
            },
            "type": "scattercarpet"
           }
          ],
          "scattergeo": [
           {
            "marker": {
             "colorbar": {
              "outlinewidth": 0,
              "ticks": ""
             }
            },
            "type": "scattergeo"
           }
          ],
          "scattergl": [
           {
            "marker": {
             "colorbar": {
              "outlinewidth": 0,
              "ticks": ""
             }
            },
            "type": "scattergl"
           }
          ],
          "scattermapbox": [
           {
            "marker": {
             "colorbar": {
              "outlinewidth": 0,
              "ticks": ""
             }
            },
            "type": "scattermapbox"
           }
          ],
          "scatterpolar": [
           {
            "marker": {
             "colorbar": {
              "outlinewidth": 0,
              "ticks": ""
             }
            },
            "type": "scatterpolar"
           }
          ],
          "scatterpolargl": [
           {
            "marker": {
             "colorbar": {
              "outlinewidth": 0,
              "ticks": ""
             }
            },
            "type": "scatterpolargl"
           }
          ],
          "scatterternary": [
           {
            "marker": {
             "colorbar": {
              "outlinewidth": 0,
              "ticks": ""
             }
            },
            "type": "scatterternary"
           }
          ],
          "surface": [
           {
            "colorbar": {
             "outlinewidth": 0,
             "ticks": ""
            },
            "colorscale": [
             [
              0,
              "#0d0887"
             ],
             [
              0.1111111111111111,
              "#46039f"
             ],
             [
              0.2222222222222222,
              "#7201a8"
             ],
             [
              0.3333333333333333,
              "#9c179e"
             ],
             [
              0.4444444444444444,
              "#bd3786"
             ],
             [
              0.5555555555555556,
              "#d8576b"
             ],
             [
              0.6666666666666666,
              "#ed7953"
             ],
             [
              0.7777777777777778,
              "#fb9f3a"
             ],
             [
              0.8888888888888888,
              "#fdca26"
             ],
             [
              1,
              "#f0f921"
             ]
            ],
            "type": "surface"
           }
          ],
          "table": [
           {
            "cells": {
             "fill": {
              "color": "#EBF0F8"
             },
             "line": {
              "color": "white"
             }
            },
            "header": {
             "fill": {
              "color": "#C8D4E3"
             },
             "line": {
              "color": "white"
             }
            },
            "type": "table"
           }
          ]
         },
         "layout": {
          "annotationdefaults": {
           "arrowcolor": "#2a3f5f",
           "arrowhead": 0,
           "arrowwidth": 1
          },
          "autotypenumbers": "strict",
          "coloraxis": {
           "colorbar": {
            "outlinewidth": 0,
            "ticks": ""
           }
          },
          "colorscale": {
           "diverging": [
            [
             0,
             "#8e0152"
            ],
            [
             0.1,
             "#c51b7d"
            ],
            [
             0.2,
             "#de77ae"
            ],
            [
             0.3,
             "#f1b6da"
            ],
            [
             0.4,
             "#fde0ef"
            ],
            [
             0.5,
             "#f7f7f7"
            ],
            [
             0.6,
             "#e6f5d0"
            ],
            [
             0.7,
             "#b8e186"
            ],
            [
             0.8,
             "#7fbc41"
            ],
            [
             0.9,
             "#4d9221"
            ],
            [
             1,
             "#276419"
            ]
           ],
           "sequential": [
            [
             0,
             "#0d0887"
            ],
            [
             0.1111111111111111,
             "#46039f"
            ],
            [
             0.2222222222222222,
             "#7201a8"
            ],
            [
             0.3333333333333333,
             "#9c179e"
            ],
            [
             0.4444444444444444,
             "#bd3786"
            ],
            [
             0.5555555555555556,
             "#d8576b"
            ],
            [
             0.6666666666666666,
             "#ed7953"
            ],
            [
             0.7777777777777778,
             "#fb9f3a"
            ],
            [
             0.8888888888888888,
             "#fdca26"
            ],
            [
             1,
             "#f0f921"
            ]
           ],
           "sequentialminus": [
            [
             0,
             "#0d0887"
            ],
            [
             0.1111111111111111,
             "#46039f"
            ],
            [
             0.2222222222222222,
             "#7201a8"
            ],
            [
             0.3333333333333333,
             "#9c179e"
            ],
            [
             0.4444444444444444,
             "#bd3786"
            ],
            [
             0.5555555555555556,
             "#d8576b"
            ],
            [
             0.6666666666666666,
             "#ed7953"
            ],
            [
             0.7777777777777778,
             "#fb9f3a"
            ],
            [
             0.8888888888888888,
             "#fdca26"
            ],
            [
             1,
             "#f0f921"
            ]
           ]
          },
          "colorway": [
           "#636efa",
           "#EF553B",
           "#00cc96",
           "#ab63fa",
           "#FFA15A",
           "#19d3f3",
           "#FF6692",
           "#B6E880",
           "#FF97FF",
           "#FECB52"
          ],
          "font": {
           "color": "#2a3f5f"
          },
          "geo": {
           "bgcolor": "white",
           "lakecolor": "white",
           "landcolor": "#E5ECF6",
           "showlakes": true,
           "showland": true,
           "subunitcolor": "white"
          },
          "hoverlabel": {
           "align": "left"
          },
          "hovermode": "closest",
          "mapbox": {
           "style": "light"
          },
          "paper_bgcolor": "white",
          "plot_bgcolor": "#E5ECF6",
          "polar": {
           "angularaxis": {
            "gridcolor": "white",
            "linecolor": "white",
            "ticks": ""
           },
           "bgcolor": "#E5ECF6",
           "radialaxis": {
            "gridcolor": "white",
            "linecolor": "white",
            "ticks": ""
           }
          },
          "scene": {
           "xaxis": {
            "backgroundcolor": "#E5ECF6",
            "gridcolor": "white",
            "gridwidth": 2,
            "linecolor": "white",
            "showbackground": true,
            "ticks": "",
            "zerolinecolor": "white"
           },
           "yaxis": {
            "backgroundcolor": "#E5ECF6",
            "gridcolor": "white",
            "gridwidth": 2,
            "linecolor": "white",
            "showbackground": true,
            "ticks": "",
            "zerolinecolor": "white"
           },
           "zaxis": {
            "backgroundcolor": "#E5ECF6",
            "gridcolor": "white",
            "gridwidth": 2,
            "linecolor": "white",
            "showbackground": true,
            "ticks": "",
            "zerolinecolor": "white"
           }
          },
          "shapedefaults": {
           "line": {
            "color": "#2a3f5f"
           }
          },
          "ternary": {
           "aaxis": {
            "gridcolor": "white",
            "linecolor": "white",
            "ticks": ""
           },
           "baxis": {
            "gridcolor": "white",
            "linecolor": "white",
            "ticks": ""
           },
           "bgcolor": "#E5ECF6",
           "caxis": {
            "gridcolor": "white",
            "linecolor": "white",
            "ticks": ""
           }
          },
          "title": {
           "x": 0.05
          },
          "xaxis": {
           "automargin": true,
           "gridcolor": "white",
           "linecolor": "white",
           "ticks": "",
           "title": {
            "standoff": 15
           },
           "zerolinecolor": "white",
           "zerolinewidth": 2
          },
          "yaxis": {
           "automargin": true,
           "gridcolor": "white",
           "linecolor": "white",
           "ticks": "",
           "title": {
            "standoff": 15
           },
           "zerolinecolor": "white",
           "zerolinewidth": 2
          }
         }
        },
        "title": {
         "text": "Figuur 12.1: grote van de Happiness score gebaseerd op Log GDP per capita en Social support van landen"
        },
        "xaxis": {
         "anchor": "y",
         "autorange": true,
         "domain": [
          0,
          1
         ],
         "range": [
          0.3802930740898838,
          2.334523915077017
         ],
         "title": {
          "text": "Log GDP per capita"
         },
         "type": "linear"
        },
        "yaxis": {
         "anchor": "x",
         "autorange": true,
         "domain": [
          0,
          1
         ],
         "range": [
          -0.13411942311703662,
          1.7923560738874944
         ],
         "title": {
          "text": "Social support"
         },
         "type": "linear"
        }
       }
      },
      "text/html": [
       "<div>                            <div id=\"f5f094d8-a60d-4794-85b6-5a9b306b0957\" class=\"plotly-graph-div\" style=\"height:750px; width:100%;\"></div>            <script type=\"text/javascript\">                require([\"plotly\"], function(Plotly) {                    window.PLOTLYENV=window.PLOTLYENV || {};                                    if (document.getElementById(\"f5f094d8-a60d-4794-85b6-5a9b306b0957\")) {                    Plotly.newPlot(                        \"f5f094d8-a60d-4794-85b6-5a9b306b0957\",                        [{\"hovertemplate\":\"\\u003cb\\u003e%{hovertext}\\u003c\\u002fb\\u003e\\u003cbr\\u003e\\u003cbr\\u003eLog GDP per capita=%{x}\\u003cbr\\u003eSocial support=%{y}\\u003cbr\\u003eHappiness score=%{marker.color}\\u003cextra\\u003e\\u003c\\u002fextra\\u003e\",\"hovertext\":[\"Afghanistan\",\"Albania\",\"Algeria\",\"Argentina\",\"Armenia\",\"Australia\",\"Australia\",\"Austria\",\"Azerbaijan\",\"Bangladesh\",\"Belgium\",\"Benin\",\"Bolivia\",\"Bosnia and Herzegovina\",\"Botswana\",\"Brazil\",\"Brazil\",\"Bulgaria\",\"Burkina Faso\",\"Cambodia\",\"Cameroon\",\"Canada\",\"Chad\",\"Chile\",\"China\",\"China\",\"Colombia\",\"Comoros\",\"Costa Rica\",\"Croatia\",\"Cyprus\",\"Denmark\",\"Dominican Republic\",\"Ecuador\",\"Egypt\",\"El Salvador\",\"Estonia\",\"Ethiopia\",\"Finland\",\"France\",\"Gabon\",\"Gambia\",\"Georgia\",\"Germany\",\"Germany\",\"Ghana\",\"Greece\",\"Guatemala\",\"Guinea\",\"Honduras\",\"Hungary\",\"Iceland\",\"India\",\"India\",\"Indonesia\",\"Iran\",\"Iraq\",\"Ireland\",\"Israel\",\"Italy\",\"Jamaica\",\"Japan\",\"Jordan\",\"Kazakhstan\",\"Kenya\",\"Kosovo\",\"Kuwait\",\"Latvia\",\"Lebanon\",\"Lesotho\",\"Liberia\",\"Libya\",\"Lithuania\",\"Luxembourg\",\"Madagascar\",\"Malawi\",\"Malaysia\",\"Mali\",\"Malta\",\"Mauritania\",\"Mauritius\",\"Mexico\",\"Mongolia\",\"Montenegro\",\"Morocco\",\"Mozambique\",\"Myanmar\",\"Namibia\",\"Nepal\",\"Netherlands\",\"New Zealand\",\"Nicaragua\",\"Niger\",\"Nigeria\",\"Nigeria\",\"Norway\",\"Pakistan\",\"Panama\",\"Paraguay\",\"Peru\",\"Philippines\",\"Poland\",\"Portugal\",\"Romania\",\"Russia\",\"Russia\",\"Saudi Arabia\",\"Senegal\",\"Serbia\",\"Sierra Leone\",\"Singapore\",\"Slovakia\",\"Slovenia\",\"South Africa\",\"South Korea\",\"Spain\",\"Sri Lanka\",\"Sweden\",\"Switzerland\",\"Tanzania\",\"Thailand\",\"Togo\",\"Tunisia\",\"Uganda\",\"Ukraine\",\"United Arab Emirates\",\"United Kingdom\",\"Uruguay\",\"Uzbekistan\",\"Vietnam\",\"Yemen\",\"Zambia\",\"Zimbabwe\"],\"legendgroup\":\"\",\"marker\":{\"color\":[1.721,5.304,5.364,6.188,5.455,7.057,7.057,6.905,4.893,3.886,6.894,4.377,5.784,5.877,3.383,6.272,6.272,5.463,4.548,4.341,4.874,6.9,4.471,6.36,5.973,5.973,5.695,3.566,6.955,5.942,6.068,7.583,5.823,5.725,3.977,6.469,6.448,3.861,7.741,6.609,5.106,4.485,5.185,6.719,6.719,4.289,5.934,6.287,5.023,5.968,6.017,7.525,4.054,4.054,5.568,4.923,5.166,6.838,7.341,6.324,5.842,6.06,4.186,6.188,4.47,6.561,6.951,6.234,2.707,3.186,4.269,5.866,6.818,7.122,4.228,3.421,5.975,4.232,6.346,4.505,5.816,6.678,5.696,5.707,4.795,5.216,4.354,4.832,5.158,7.319,7.029,6.284,4.556,4.881,4.881,7.302,4.657,6.358,5.977,5.841,6.048,6.442,6.03,6.491,5.785,5.785,6.594,4.969,6.411,3.245,6.523,6.257,6.743,5.422,6.058,6.421,3.898,7.344,7.06,3.781,5.976,4.214,4.422,4.372,4.873,6.733,6.749,6.611,6.195,6.043,3.561,3.502,3.341],\"coloraxis\":\"coloraxis\",\"size\":[1.721,5.304,5.364,6.188,5.455,7.057,7.057,6.905,4.893,3.886,6.894,4.377,5.784,5.877,3.383,6.272,6.272,5.463,4.548,4.341,4.874,6.9,4.471,6.36,5.973,5.973,5.695,3.566,6.955,5.942,6.068,7.583,5.823,5.725,3.977,6.469,6.448,3.861,7.741,6.609,5.106,4.485,5.185,6.719,6.719,4.289,5.934,6.287,5.023,5.968,6.017,7.525,4.054,4.054,5.568,4.923,5.166,6.838,7.341,6.324,5.842,6.06,4.186,6.188,4.47,6.561,6.951,6.234,2.707,3.186,4.269,5.866,6.818,7.122,4.228,3.421,5.975,4.232,6.346,4.505,5.816,6.678,5.696,5.707,4.795,5.216,4.354,4.832,5.158,7.319,7.029,6.284,4.556,4.881,4.881,7.302,4.657,6.358,5.977,5.841,6.048,6.442,6.03,6.491,5.785,5.785,6.594,4.969,6.411,3.245,6.523,6.257,6.743,5.422,6.058,6.421,3.898,7.344,7.06,3.781,5.976,4.214,4.422,4.372,4.873,6.733,6.749,6.611,6.195,6.043,3.561,3.502,3.341],\"sizemode\":\"area\",\"sizeref\":0.008601111111111111,\"symbol\":\"circle\"},\"mode\":\"markers\",\"name\":\"\",\"orientation\":\"v\",\"showlegend\":false,\"x\":[0.628,1.438,1.324,1.562,1.444,1.854,1.854,1.885,1.433,1.122,1.868,0.914,1.217,1.465,1.445,1.43,1.43,1.629,0.756,1.011,0.943,1.84,0.603,1.616,1.497,1.497,1.437,0.896,1.561,1.71,1.794,1.908,1.517,1.315,1.37,1.265,1.752,0.792,1.844,1.818,1.403,0.75,1.467,1.871,1.871,1.077,1.684,1.26,0.831,1.091,1.722,1.881,1.166,1.166,1.361,1.435,1.249,2.129,1.803,1.8,1.28,1.786,1.262,1.622,1.037,1.364,1.845,1.7,1.377,0.771,0.619,1.526,1.766,2.141,0.628,0.617,1.646,0.747,1.827,1.078,1.57,1.521,1.353,1.571,1.213,0.56,0.978,1.266,0.965,1.901,1.81,1.097,0.573,1.042,1.042,1.952,1.069,1.702,1.398,1.371,1.232,1.738,1.728,1.699,1.642,1.642,1.842,0.927,1.538,0.654,2.118,1.706,1.786,1.389,1.815,1.766,1.361,1.878,1.97,0.82,1.484,0.758,1.306,0.772,1.35,1.983,1.822,1.596,1.212,1.331,0.671,0.899,0.748],\"xaxis\":\"x\",\"y\":[0.0,0.924,1.191,1.381,1.154,1.461,1.461,1.336,0.876,0.249,1.44,0.128,1.179,1.318,0.969,1.269,1.269,1.469,0.685,1.019,0.856,1.459,0.805,1.369,1.239,1.239,1.241,0.328,1.373,1.445,1.217,1.52,1.272,1.151,0.996,1.08,1.527,0.915,1.572,1.348,1.038,0.684,0.99,1.39,1.39,0.747,1.276,1.169,0.622,1.035,1.528,1.617,0.653,0.653,1.184,1.136,0.996,1.39,1.513,1.328,1.324,1.354,0.983,1.457,0.895,1.277,1.364,1.508,0.577,0.851,0.673,1.1,1.454,1.355,0.823,0.41,1.143,0.688,1.444,0.705,1.358,1.241,1.511,1.318,0.471,0.883,0.988,1.212,0.99,1.462,1.527,1.263,0.677,1.075,1.075,1.517,0.6,1.392,1.408,1.18,1.146,1.417,1.368,1.236,1.351,1.351,1.361,0.751,1.391,0.566,1.361,1.54,1.502,1.369,1.178,1.471,1.179,1.501,1.425,0.706,1.347,0.586,0.955,1.151,1.315,1.164,1.326,1.431,1.394,1.267,1.281,0.809,0.85],\"yaxis\":\"y\",\"type\":\"scatter\"}],                        {\"template\":{\"data\":{\"histogram2dcontour\":[{\"type\":\"histogram2dcontour\",\"colorbar\":{\"outlinewidth\":0,\"ticks\":\"\"},\"colorscale\":[[0.0,\"#0d0887\"],[0.1111111111111111,\"#46039f\"],[0.2222222222222222,\"#7201a8\"],[0.3333333333333333,\"#9c179e\"],[0.4444444444444444,\"#bd3786\"],[0.5555555555555556,\"#d8576b\"],[0.6666666666666666,\"#ed7953\"],[0.7777777777777778,\"#fb9f3a\"],[0.8888888888888888,\"#fdca26\"],[1.0,\"#f0f921\"]]}],\"choropleth\":[{\"type\":\"choropleth\",\"colorbar\":{\"outlinewidth\":0,\"ticks\":\"\"}}],\"histogram2d\":[{\"type\":\"histogram2d\",\"colorbar\":{\"outlinewidth\":0,\"ticks\":\"\"},\"colorscale\":[[0.0,\"#0d0887\"],[0.1111111111111111,\"#46039f\"],[0.2222222222222222,\"#7201a8\"],[0.3333333333333333,\"#9c179e\"],[0.4444444444444444,\"#bd3786\"],[0.5555555555555556,\"#d8576b\"],[0.6666666666666666,\"#ed7953\"],[0.7777777777777778,\"#fb9f3a\"],[0.8888888888888888,\"#fdca26\"],[1.0,\"#f0f921\"]]}],\"heatmap\":[{\"type\":\"heatmap\",\"colorbar\":{\"outlinewidth\":0,\"ticks\":\"\"},\"colorscale\":[[0.0,\"#0d0887\"],[0.1111111111111111,\"#46039f\"],[0.2222222222222222,\"#7201a8\"],[0.3333333333333333,\"#9c179e\"],[0.4444444444444444,\"#bd3786\"],[0.5555555555555556,\"#d8576b\"],[0.6666666666666666,\"#ed7953\"],[0.7777777777777778,\"#fb9f3a\"],[0.8888888888888888,\"#fdca26\"],[1.0,\"#f0f921\"]]}],\"heatmapgl\":[{\"type\":\"heatmapgl\",\"colorbar\":{\"outlinewidth\":0,\"ticks\":\"\"},\"colorscale\":[[0.0,\"#0d0887\"],[0.1111111111111111,\"#46039f\"],[0.2222222222222222,\"#7201a8\"],[0.3333333333333333,\"#9c179e\"],[0.4444444444444444,\"#bd3786\"],[0.5555555555555556,\"#d8576b\"],[0.6666666666666666,\"#ed7953\"],[0.7777777777777778,\"#fb9f3a\"],[0.8888888888888888,\"#fdca26\"],[1.0,\"#f0f921\"]]}],\"contourcarpet\":[{\"type\":\"contourcarpet\",\"colorbar\":{\"outlinewidth\":0,\"ticks\":\"\"}}],\"contour\":[{\"type\":\"contour\",\"colorbar\":{\"outlinewidth\":0,\"ticks\":\"\"},\"colorscale\":[[0.0,\"#0d0887\"],[0.1111111111111111,\"#46039f\"],[0.2222222222222222,\"#7201a8\"],[0.3333333333333333,\"#9c179e\"],[0.4444444444444444,\"#bd3786\"],[0.5555555555555556,\"#d8576b\"],[0.6666666666666666,\"#ed7953\"],[0.7777777777777778,\"#fb9f3a\"],[0.8888888888888888,\"#fdca26\"],[1.0,\"#f0f921\"]]}],\"surface\":[{\"type\":\"surface\",\"colorbar\":{\"outlinewidth\":0,\"ticks\":\"\"},\"colorscale\":[[0.0,\"#0d0887\"],[0.1111111111111111,\"#46039f\"],[0.2222222222222222,\"#7201a8\"],[0.3333333333333333,\"#9c179e\"],[0.4444444444444444,\"#bd3786\"],[0.5555555555555556,\"#d8576b\"],[0.6666666666666666,\"#ed7953\"],[0.7777777777777778,\"#fb9f3a\"],[0.8888888888888888,\"#fdca26\"],[1.0,\"#f0f921\"]]}],\"mesh3d\":[{\"type\":\"mesh3d\",\"colorbar\":{\"outlinewidth\":0,\"ticks\":\"\"}}],\"scatter\":[{\"fillpattern\":{\"fillmode\":\"overlay\",\"size\":10,\"solidity\":0.2},\"type\":\"scatter\"}],\"parcoords\":[{\"type\":\"parcoords\",\"line\":{\"colorbar\":{\"outlinewidth\":0,\"ticks\":\"\"}}}],\"scatterpolargl\":[{\"type\":\"scatterpolargl\",\"marker\":{\"colorbar\":{\"outlinewidth\":0,\"ticks\":\"\"}}}],\"bar\":[{\"error_x\":{\"color\":\"#2a3f5f\"},\"error_y\":{\"color\":\"#2a3f5f\"},\"marker\":{\"line\":{\"color\":\"#E5ECF6\",\"width\":0.5},\"pattern\":{\"fillmode\":\"overlay\",\"size\":10,\"solidity\":0.2}},\"type\":\"bar\"}],\"scattergeo\":[{\"type\":\"scattergeo\",\"marker\":{\"colorbar\":{\"outlinewidth\":0,\"ticks\":\"\"}}}],\"scatterpolar\":[{\"type\":\"scatterpolar\",\"marker\":{\"colorbar\":{\"outlinewidth\":0,\"ticks\":\"\"}}}],\"histogram\":[{\"marker\":{\"pattern\":{\"fillmode\":\"overlay\",\"size\":10,\"solidity\":0.2}},\"type\":\"histogram\"}],\"scattergl\":[{\"type\":\"scattergl\",\"marker\":{\"colorbar\":{\"outlinewidth\":0,\"ticks\":\"\"}}}],\"scatter3d\":[{\"type\":\"scatter3d\",\"line\":{\"colorbar\":{\"outlinewidth\":0,\"ticks\":\"\"}},\"marker\":{\"colorbar\":{\"outlinewidth\":0,\"ticks\":\"\"}}}],\"scattermapbox\":[{\"type\":\"scattermapbox\",\"marker\":{\"colorbar\":{\"outlinewidth\":0,\"ticks\":\"\"}}}],\"scatterternary\":[{\"type\":\"scatterternary\",\"marker\":{\"colorbar\":{\"outlinewidth\":0,\"ticks\":\"\"}}}],\"scattercarpet\":[{\"type\":\"scattercarpet\",\"marker\":{\"colorbar\":{\"outlinewidth\":0,\"ticks\":\"\"}}}],\"carpet\":[{\"aaxis\":{\"endlinecolor\":\"#2a3f5f\",\"gridcolor\":\"white\",\"linecolor\":\"white\",\"minorgridcolor\":\"white\",\"startlinecolor\":\"#2a3f5f\"},\"baxis\":{\"endlinecolor\":\"#2a3f5f\",\"gridcolor\":\"white\",\"linecolor\":\"white\",\"minorgridcolor\":\"white\",\"startlinecolor\":\"#2a3f5f\"},\"type\":\"carpet\"}],\"table\":[{\"cells\":{\"fill\":{\"color\":\"#EBF0F8\"},\"line\":{\"color\":\"white\"}},\"header\":{\"fill\":{\"color\":\"#C8D4E3\"},\"line\":{\"color\":\"white\"}},\"type\":\"table\"}],\"barpolar\":[{\"marker\":{\"line\":{\"color\":\"#E5ECF6\",\"width\":0.5},\"pattern\":{\"fillmode\":\"overlay\",\"size\":10,\"solidity\":0.2}},\"type\":\"barpolar\"}],\"pie\":[{\"automargin\":true,\"type\":\"pie\"}]},\"layout\":{\"autotypenumbers\":\"strict\",\"colorway\":[\"#636efa\",\"#EF553B\",\"#00cc96\",\"#ab63fa\",\"#FFA15A\",\"#19d3f3\",\"#FF6692\",\"#B6E880\",\"#FF97FF\",\"#FECB52\"],\"font\":{\"color\":\"#2a3f5f\"},\"hovermode\":\"closest\",\"hoverlabel\":{\"align\":\"left\"},\"paper_bgcolor\":\"white\",\"plot_bgcolor\":\"#E5ECF6\",\"polar\":{\"bgcolor\":\"#E5ECF6\",\"angularaxis\":{\"gridcolor\":\"white\",\"linecolor\":\"white\",\"ticks\":\"\"},\"radialaxis\":{\"gridcolor\":\"white\",\"linecolor\":\"white\",\"ticks\":\"\"}},\"ternary\":{\"bgcolor\":\"#E5ECF6\",\"aaxis\":{\"gridcolor\":\"white\",\"linecolor\":\"white\",\"ticks\":\"\"},\"baxis\":{\"gridcolor\":\"white\",\"linecolor\":\"white\",\"ticks\":\"\"},\"caxis\":{\"gridcolor\":\"white\",\"linecolor\":\"white\",\"ticks\":\"\"}},\"coloraxis\":{\"colorbar\":{\"outlinewidth\":0,\"ticks\":\"\"}},\"colorscale\":{\"sequential\":[[0.0,\"#0d0887\"],[0.1111111111111111,\"#46039f\"],[0.2222222222222222,\"#7201a8\"],[0.3333333333333333,\"#9c179e\"],[0.4444444444444444,\"#bd3786\"],[0.5555555555555556,\"#d8576b\"],[0.6666666666666666,\"#ed7953\"],[0.7777777777777778,\"#fb9f3a\"],[0.8888888888888888,\"#fdca26\"],[1.0,\"#f0f921\"]],\"sequentialminus\":[[0.0,\"#0d0887\"],[0.1111111111111111,\"#46039f\"],[0.2222222222222222,\"#7201a8\"],[0.3333333333333333,\"#9c179e\"],[0.4444444444444444,\"#bd3786\"],[0.5555555555555556,\"#d8576b\"],[0.6666666666666666,\"#ed7953\"],[0.7777777777777778,\"#fb9f3a\"],[0.8888888888888888,\"#fdca26\"],[1.0,\"#f0f921\"]],\"diverging\":[[0,\"#8e0152\"],[0.1,\"#c51b7d\"],[0.2,\"#de77ae\"],[0.3,\"#f1b6da\"],[0.4,\"#fde0ef\"],[0.5,\"#f7f7f7\"],[0.6,\"#e6f5d0\"],[0.7,\"#b8e186\"],[0.8,\"#7fbc41\"],[0.9,\"#4d9221\"],[1,\"#276419\"]]},\"xaxis\":{\"gridcolor\":\"white\",\"linecolor\":\"white\",\"ticks\":\"\",\"title\":{\"standoff\":15},\"zerolinecolor\":\"white\",\"automargin\":true,\"zerolinewidth\":2},\"yaxis\":{\"gridcolor\":\"white\",\"linecolor\":\"white\",\"ticks\":\"\",\"title\":{\"standoff\":15},\"zerolinecolor\":\"white\",\"automargin\":true,\"zerolinewidth\":2},\"scene\":{\"xaxis\":{\"backgroundcolor\":\"#E5ECF6\",\"gridcolor\":\"white\",\"linecolor\":\"white\",\"showbackground\":true,\"ticks\":\"\",\"zerolinecolor\":\"white\",\"gridwidth\":2},\"yaxis\":{\"backgroundcolor\":\"#E5ECF6\",\"gridcolor\":\"white\",\"linecolor\":\"white\",\"showbackground\":true,\"ticks\":\"\",\"zerolinecolor\":\"white\",\"gridwidth\":2},\"zaxis\":{\"backgroundcolor\":\"#E5ECF6\",\"gridcolor\":\"white\",\"linecolor\":\"white\",\"showbackground\":true,\"ticks\":\"\",\"zerolinecolor\":\"white\",\"gridwidth\":2}},\"shapedefaults\":{\"line\":{\"color\":\"#2a3f5f\"}},\"annotationdefaults\":{\"arrowcolor\":\"#2a3f5f\",\"arrowhead\":0,\"arrowwidth\":1},\"geo\":{\"bgcolor\":\"white\",\"landcolor\":\"#E5ECF6\",\"subunitcolor\":\"white\",\"showland\":true,\"showlakes\":true,\"lakecolor\":\"white\"},\"title\":{\"x\":0.05},\"mapbox\":{\"style\":\"light\"}}},\"xaxis\":{\"anchor\":\"y\",\"domain\":[0.0,1.0],\"title\":{\"text\":\"Log GDP per capita\"}},\"yaxis\":{\"anchor\":\"x\",\"domain\":[0.0,1.0],\"title\":{\"text\":\"Social support\"}},\"coloraxis\":{\"colorbar\":{\"title\":{\"text\":\"Happiness score\"}},\"colorscale\":[[0.0,\"#0d0887\"],[0.1111111111111111,\"#46039f\"],[0.2222222222222222,\"#7201a8\"],[0.3333333333333333,\"#9c179e\"],[0.4444444444444444,\"#bd3786\"],[0.5555555555555556,\"#d8576b\"],[0.6666666666666666,\"#ed7953\"],[0.7777777777777778,\"#fb9f3a\"],[0.8888888888888888,\"#fdca26\"],[1.0,\"#f0f921\"]]},\"legend\":{\"tracegroupgap\":0,\"itemsizing\":\"constant\"},\"title\":{\"text\":\"Figuur 12.1: grote van de Happiness score gebaseerd op Log GDP per capita en Social support van landen\"},\"height\":750},                        {\"responsive\": true}                    ).then(function(){\n",
       "                            \n",
       "var gd = document.getElementById('f5f094d8-a60d-4794-85b6-5a9b306b0957');\n",
       "var x = new MutationObserver(function (mutations, observer) {{\n",
       "        var display = window.getComputedStyle(gd).display;\n",
       "        if (!display || display === 'none') {{\n",
       "            console.log([gd, 'removed!']);\n",
       "            Plotly.purge(gd);\n",
       "            observer.disconnect();\n",
       "        }}\n",
       "}});\n",
       "\n",
       "// Listen for the removal of the full notebook cells\n",
       "var notebookContainer = gd.closest('#notebook-container');\n",
       "if (notebookContainer) {{\n",
       "    x.observe(notebookContainer, {childList: true});\n",
       "}}\n",
       "\n",
       "// Listen for the clearing of the current output cell\n",
       "var outputEl = gd.closest('.output');\n",
       "if (outputEl) {{\n",
       "    x.observe(outputEl, {childList: true});\n",
       "}}\n",
       "\n",
       "                        })                };                });            </script>        </div>"
      ]
     },
     "metadata": {},
     "output_type": "display_data"
    },
    {
     "data": {
      "application/vnd.plotly.v1+json": {
       "config": {
        "plotlyServerURL": "https://plot.ly"
       },
       "data": [
        {
         "customdata": [
          [
           0
          ],
          [
           1.191
          ],
          [
           0.876
          ],
          [
           0.249
          ],
          [
           0.128
          ],
          [
           1.179
          ],
          [
           1.269
          ],
          [
           1.269
          ],
          [
           0.685
          ],
          [
           1.019
          ],
          [
           0.856
          ],
          [
           0.805
          ],
          [
           0.328
          ],
          [
           1.151
          ],
          [
           0.996
          ],
          [
           1.08
          ],
          [
           0.915
          ],
          [
           1.038
          ],
          [
           0.684
          ],
          [
           0.747
          ],
          [
           1.169
          ],
          [
           0.622
          ],
          [
           1.035
          ],
          [
           0.653
          ],
          [
           0.653
          ],
          [
           1.184
          ],
          [
           0.996
          ],
          [
           1.324
          ],
          [
           0.983
          ],
          [
           0.895
          ],
          [
           1.277
          ],
          [
           0.577
          ],
          [
           0.851
          ],
          [
           0.673
          ],
          [
           0.823
          ],
          [
           0.41
          ],
          [
           0.688
          ],
          [
           0.705
          ],
          [
           1.511
          ],
          [
           0.471
          ],
          [
           0.883
          ],
          [
           0.988
          ],
          [
           1.212
          ],
          [
           0.99
          ],
          [
           1.263
          ],
          [
           0.677
          ],
          [
           1.075
          ],
          [
           1.075
          ],
          [
           0.6
          ],
          [
           1.408
          ],
          [
           1.18
          ],
          [
           1.146
          ],
          [
           0.751
          ],
          [
           0.566
          ],
          [
           1.369
          ],
          [
           1.179
          ],
          [
           0.706
          ],
          [
           0.586
          ],
          [
           0.955
          ],
          [
           1.151
          ],
          [
           1.315
          ],
          [
           1.394
          ],
          [
           1.267
          ],
          [
           1.281
          ],
          [
           0.809
          ],
          [
           0.85
          ]
         ],
         "hovertemplate": "<b>%{text}</b><br>GDP: %{x:.2f}<br>Social Support: %{customdata[0]:.2f}<br>Happiness: %{y:.2f}<extra></extra>",
         "marker": {
          "color": [
           1.721,
           5.364,
           4.893,
           3.886,
           4.377,
           5.784,
           6.272,
           6.272,
           4.548,
           4.341,
           4.874,
           4.471,
           3.566,
           5.725,
           3.977,
           6.469,
           3.861,
           5.106,
           4.485,
           4.289,
           6.287,
           5.023,
           5.968,
           4.054,
           4.054,
           5.568,
           5.166,
           5.842,
           4.186,
           4.47,
           6.561,
           2.707,
           3.186,
           4.269,
           4.228,
           3.421,
           4.232,
           4.505,
           5.696,
           4.795,
           5.216,
           4.354,
           4.832,
           5.158,
           6.284,
           4.556,
           4.881,
           4.881,
           4.657,
           5.977,
           5.841,
           6.048,
           4.969,
           3.245,
           5.422,
           3.898,
           3.781,
           4.214,
           4.422,
           4.372,
           4.873,
           6.195,
           6.043,
           3.561,
           3.502,
           3.341
          ],
          "colorbar": {
           "title": {
            "text": "Happiness"
           }
          },
          "colorscale": [
           [
            0,
            "#440154"
           ],
           [
            0.1111111111111111,
            "#482878"
           ],
           [
            0.2222222222222222,
            "#3e4989"
           ],
           [
            0.3333333333333333,
            "#31688e"
           ],
           [
            0.4444444444444444,
            "#26828e"
           ],
           [
            0.5555555555555556,
            "#1f9e89"
           ],
           [
            0.6666666666666666,
            "#35b779"
           ],
           [
            0.7777777777777778,
            "#6ece58"
           ],
           [
            0.8888888888888888,
            "#b5de2b"
           ],
           [
            1,
            "#fde725"
           ]
          ],
          "opacity": 0.7,
          "showscale": true,
          "size": [
           5.163,
           16.092,
           14.678999999999998,
           11.658000000000001,
           13.131,
           17.352,
           18.816000000000003,
           18.816000000000003,
           13.644,
           13.023,
           14.622,
           13.413,
           10.698,
           17.174999999999997,
           11.931,
           19.407,
           11.583,
           15.318,
           13.455000000000002,
           12.866999999999999,
           18.861,
           15.068999999999999,
           17.904,
           12.162,
           12.162,
           16.704,
           15.498000000000001,
           17.526,
           12.558,
           13.41,
           19.683,
           8.120999999999999,
           9.558,
           12.807,
           12.684,
           10.263,
           12.696000000000002,
           13.515,
           17.088,
           14.385,
           15.648,
           13.062000000000001,
           14.495999999999999,
           15.474,
           18.852,
           13.668,
           14.643,
           14.643,
           13.971,
           17.931,
           17.523,
           18.144,
           14.907,
           9.735,
           16.266,
           11.694,
           11.343,
           12.642000000000001,
           13.265999999999998,
           13.116,
           14.619,
           18.585,
           18.129,
           10.683,
           10.506,
           10.023
          ]
         },
         "mode": "markers",
         "text": [
          "Afghanistan",
          "Algeria",
          "Azerbaijan",
          "Bangladesh",
          "Benin",
          "Bolivia",
          "Brazil",
          "Brazil",
          "Burkina Faso",
          "Cambodia",
          "Cameroon",
          "Chad",
          "Comoros",
          "Ecuador",
          "Egypt",
          "El Salvador",
          "Ethiopia",
          "Gabon",
          "Gambia",
          "Ghana",
          "Guatemala",
          "Guinea",
          "Honduras",
          "India",
          "India",
          "Indonesia",
          "Iraq",
          "Jamaica",
          "Jordan",
          "Kenya",
          "Kosovo",
          "Lebanon",
          "Lesotho",
          "Liberia",
          "Madagascar",
          "Malawi",
          "Mali",
          "Mauritania",
          "Mongolia",
          "Morocco",
          "Mozambique",
          "Myanmar",
          "Namibia",
          "Nepal",
          "Nicaragua",
          "Niger",
          "Nigeria",
          "Nigeria",
          "Pakistan",
          "Paraguay",
          "Peru",
          "Philippines",
          "Senegal",
          "Sierra Leone",
          "South Africa",
          "Sri Lanka",
          "Tanzania",
          "Togo",
          "Tunisia",
          "Uganda",
          "Ukraine",
          "Uzbekistan",
          "Vietnam",
          "Yemen",
          "Zambia",
          "Zimbabwe"
         ],
         "type": "scatter",
         "x": [
          0.628,
          1.324,
          1.433,
          1.122,
          0.914,
          1.217,
          1.43,
          1.43,
          0.756,
          1.011,
          0.943,
          0.603,
          0.896,
          1.315,
          1.37,
          1.265,
          0.792,
          1.403,
          0.75,
          1.077,
          1.26,
          0.831,
          1.091,
          1.166,
          1.166,
          1.361,
          1.249,
          1.28,
          1.262,
          1.037,
          1.364,
          1.377,
          0.771,
          0.619,
          0.628,
          0.617,
          0.747,
          1.078,
          1.353,
          1.213,
          0.56,
          0.978,
          1.266,
          0.965,
          1.097,
          0.573,
          1.042,
          1.042,
          1.069,
          1.398,
          1.371,
          1.232,
          0.927,
          0.654,
          1.389,
          1.361,
          0.82,
          0.758,
          1.306,
          0.772,
          1.35,
          1.212,
          1.331,
          0.671,
          0.899,
          0.748
         ],
         "xaxis": "x",
         "y": [
          1.721,
          5.364,
          4.893,
          3.886,
          4.377,
          5.784,
          6.272,
          6.272,
          4.548,
          4.341,
          4.874,
          4.471,
          3.566,
          5.725,
          3.977,
          6.469,
          3.861,
          5.106,
          4.485,
          4.289,
          6.287,
          5.023,
          5.968,
          4.054,
          4.054,
          5.568,
          5.166,
          5.842,
          4.186,
          4.47,
          6.561,
          2.707,
          3.186,
          4.269,
          4.228,
          3.421,
          4.232,
          4.505,
          5.696,
          4.795,
          5.216,
          4.354,
          4.832,
          5.158,
          6.284,
          4.556,
          4.881,
          4.881,
          4.657,
          5.977,
          5.841,
          6.048,
          4.969,
          3.245,
          5.422,
          3.898,
          3.781,
          4.214,
          4.422,
          4.372,
          4.873,
          6.195,
          6.043,
          3.561,
          3.502,
          3.341
         ],
         "yaxis": "y"
        },
        {
         "customdata": [
          [
           0.924
          ],
          [
           1.381
          ],
          [
           1.154
          ],
          [
           1.461
          ],
          [
           1.461
          ],
          [
           1.336
          ],
          [
           1.44
          ],
          [
           1.318
          ],
          [
           0.969
          ],
          [
           1.469
          ],
          [
           1.459
          ],
          [
           1.369
          ],
          [
           1.239
          ],
          [
           1.239
          ],
          [
           1.241
          ],
          [
           1.373
          ],
          [
           1.445
          ],
          [
           1.217
          ],
          [
           1.52
          ],
          [
           1.272
          ],
          [
           1.527
          ],
          [
           1.572
          ],
          [
           1.348
          ],
          [
           0.99
          ],
          [
           1.39
          ],
          [
           1.39
          ],
          [
           1.276
          ],
          [
           1.528
          ],
          [
           1.617
          ],
          [
           1.136
          ],
          [
           1.39
          ],
          [
           1.513
          ],
          [
           1.328
          ],
          [
           1.354
          ],
          [
           1.457
          ],
          [
           1.364
          ],
          [
           1.508
          ],
          [
           1.1
          ],
          [
           1.454
          ],
          [
           1.355
          ],
          [
           1.143
          ],
          [
           1.444
          ],
          [
           1.358
          ],
          [
           1.241
          ],
          [
           1.318
          ],
          [
           1.462
          ],
          [
           1.527
          ],
          [
           1.517
          ],
          [
           1.392
          ],
          [
           1.417
          ],
          [
           1.368
          ],
          [
           1.236
          ],
          [
           1.351
          ],
          [
           1.351
          ],
          [
           1.361
          ],
          [
           1.391
          ],
          [
           1.361
          ],
          [
           1.54
          ],
          [
           1.502
          ],
          [
           1.178
          ],
          [
           1.471
          ],
          [
           1.501
          ],
          [
           1.425
          ],
          [
           1.347
          ],
          [
           1.164
          ],
          [
           1.326
          ],
          [
           1.431
          ]
         ],
         "hovertemplate": "<b>%{text}</b><br>GDP: %{x:.2f}<br>Social Support: %{customdata[0]:.2f}<br>Happiness: %{y:.2f}<extra></extra>",
         "marker": {
          "color": [
           5.304,
           6.188,
           5.455,
           7.057,
           7.057,
           6.905,
           6.894,
           5.877,
           3.383,
           5.463,
           6.9,
           6.36,
           5.973,
           5.973,
           5.695,
           6.955,
           5.942,
           6.068,
           7.583,
           5.823,
           6.448,
           7.741,
           6.609,
           5.185,
           6.719,
           6.719,
           5.934,
           6.017,
           7.525,
           4.923,
           6.838,
           7.341,
           6.324,
           6.06,
           6.188,
           6.951,
           6.234,
           5.866,
           6.818,
           7.122,
           5.975,
           6.346,
           5.816,
           6.678,
           5.707,
           7.319,
           7.029,
           7.302,
           6.358,
           6.442,
           6.03,
           6.491,
           5.785,
           5.785,
           6.594,
           6.411,
           6.523,
           6.257,
           6.743,
           6.058,
           6.421,
           7.344,
           7.06,
           5.976,
           6.733,
           6.749,
           6.611
          ],
          "colorscale": [
           [
            0,
            "#440154"
           ],
           [
            0.1111111111111111,
            "#482878"
           ],
           [
            0.2222222222222222,
            "#3e4989"
           ],
           [
            0.3333333333333333,
            "#31688e"
           ],
           [
            0.4444444444444444,
            "#26828e"
           ],
           [
            0.5555555555555556,
            "#1f9e89"
           ],
           [
            0.6666666666666666,
            "#35b779"
           ],
           [
            0.7777777777777778,
            "#6ece58"
           ],
           [
            0.8888888888888888,
            "#b5de2b"
           ],
           [
            1,
            "#fde725"
           ]
          ],
          "opacity": 0.7,
          "showscale": false,
          "size": [
           15.912,
           18.564,
           16.365000000000002,
           21.171,
           21.171,
           20.715,
           20.682000000000002,
           17.631,
           10.149000000000001,
           16.389,
           20.700000000000003,
           19.080000000000002,
           17.919,
           17.919,
           17.085,
           20.865000000000002,
           17.826,
           18.204,
           22.749000000000002,
           17.469,
           19.344,
           23.223,
           19.826999999999998,
           15.555,
           20.157,
           20.157,
           17.802,
           18.051000000000002,
           22.575000000000003,
           14.769,
           20.514,
           22.023,
           18.972,
           18.18,
           18.564,
           20.852999999999998,
           18.701999999999998,
           17.598,
           20.454,
           21.366,
           17.924999999999997,
           19.038,
           17.448,
           20.034,
           17.121,
           21.957,
           21.087,
           21.906,
           19.073999999999998,
           19.326,
           18.09,
           19.473,
           17.355,
           17.355,
           19.782,
           19.232999999999997,
           19.569,
           18.771,
           20.229,
           18.174,
           19.263,
           22.032,
           21.18,
           17.928,
           20.198999999999998,
           20.247,
           19.833
          ]
         },
         "mode": "markers",
         "text": [
          "Albania",
          "Argentina",
          "Armenia",
          "Australia",
          "Australia",
          "Austria",
          "Belgium",
          "Bosnia and Herzegovina",
          "Botswana",
          "Bulgaria",
          "Canada",
          "Chile",
          "China",
          "China",
          "Colombia",
          "Costa Rica",
          "Croatia",
          "Cyprus",
          "Denmark",
          "Dominican Republic",
          "Estonia",
          "Finland",
          "France",
          "Georgia",
          "Germany",
          "Germany",
          "Greece",
          "Hungary",
          "Iceland",
          "Iran",
          "Ireland",
          "Israel",
          "Italy",
          "Japan",
          "Kazakhstan",
          "Kuwait",
          "Latvia",
          "Libya",
          "Lithuania",
          "Luxembourg",
          "Malaysia",
          "Malta",
          "Mauritius",
          "Mexico",
          "Montenegro",
          "Netherlands",
          "New Zealand",
          "Norway",
          "Panama",
          "Poland",
          "Portugal",
          "Romania",
          "Russia",
          "Russia",
          "Saudi Arabia",
          "Serbia",
          "Singapore",
          "Slovakia",
          "Slovenia",
          "South Korea",
          "Spain",
          "Sweden",
          "Switzerland",
          "Thailand",
          "United Arab Emirates",
          "United Kingdom",
          "Uruguay"
         ],
         "type": "scatter",
         "x": [
          1.438,
          1.562,
          1.444,
          1.854,
          1.854,
          1.885,
          1.868,
          1.465,
          1.445,
          1.629,
          1.84,
          1.616,
          1.497,
          1.497,
          1.437,
          1.561,
          1.71,
          1.794,
          1.908,
          1.517,
          1.752,
          1.844,
          1.818,
          1.467,
          1.871,
          1.871,
          1.684,
          1.722,
          1.881,
          1.435,
          2.129,
          1.803,
          1.8,
          1.786,
          1.622,
          1.845,
          1.7,
          1.526,
          1.766,
          2.141,
          1.646,
          1.827,
          1.57,
          1.521,
          1.571,
          1.901,
          1.81,
          1.952,
          1.702,
          1.738,
          1.728,
          1.699,
          1.642,
          1.642,
          1.842,
          1.538,
          2.118,
          1.706,
          1.786,
          1.815,
          1.766,
          1.878,
          1.97,
          1.484,
          1.983,
          1.822,
          1.596
         ],
         "xaxis": "x2",
         "y": [
          5.304,
          6.188,
          5.455,
          7.057,
          7.057,
          6.905,
          6.894,
          5.877,
          3.383,
          5.463,
          6.9,
          6.36,
          5.973,
          5.973,
          5.695,
          6.955,
          5.942,
          6.068,
          7.583,
          5.823,
          6.448,
          7.741,
          6.609,
          5.185,
          6.719,
          6.719,
          5.934,
          6.017,
          7.525,
          4.923,
          6.838,
          7.341,
          6.324,
          6.06,
          6.188,
          6.951,
          6.234,
          5.866,
          6.818,
          7.122,
          5.975,
          6.346,
          5.816,
          6.678,
          5.707,
          7.319,
          7.029,
          7.302,
          6.358,
          6.442,
          6.03,
          6.491,
          5.785,
          5.785,
          6.594,
          6.411,
          6.523,
          6.257,
          6.743,
          6.058,
          6.421,
          7.344,
          7.06,
          5.976,
          6.733,
          6.749,
          6.611
         ],
         "yaxis": "y2"
        }
       ],
       "layout": {
        "annotations": [
         {
          "font": {
           "size": 16
          },
          "showarrow": false,
          "text": "Low GDP Countries",
          "x": 0.2375,
          "xanchor": "center",
          "xref": "paper",
          "y": 1,
          "yanchor": "bottom",
          "yref": "paper"
         },
         {
          "font": {
           "size": 16
          },
          "showarrow": false,
          "text": "High GDP Countries",
          "x": 0.7625,
          "xanchor": "center",
          "xref": "paper",
          "y": 1,
          "yanchor": "bottom",
          "yref": "paper"
         }
        ],
        "height": 600,
        "hoverlabel": {
         "bgcolor": "white",
         "font": {
          "family": "Arial",
          "size": 12
         }
        },
        "showlegend": false,
        "template": {
         "data": {
          "bar": [
           {
            "error_x": {
             "color": "#2a3f5f"
            },
            "error_y": {
             "color": "#2a3f5f"
            },
            "marker": {
             "line": {
              "color": "#E5ECF6",
              "width": 0.5
             },
             "pattern": {
              "fillmode": "overlay",
              "size": 10,
              "solidity": 0.2
             }
            },
            "type": "bar"
           }
          ],
          "barpolar": [
           {
            "marker": {
             "line": {
              "color": "#E5ECF6",
              "width": 0.5
             },
             "pattern": {
              "fillmode": "overlay",
              "size": 10,
              "solidity": 0.2
             }
            },
            "type": "barpolar"
           }
          ],
          "carpet": [
           {
            "aaxis": {
             "endlinecolor": "#2a3f5f",
             "gridcolor": "white",
             "linecolor": "white",
             "minorgridcolor": "white",
             "startlinecolor": "#2a3f5f"
            },
            "baxis": {
             "endlinecolor": "#2a3f5f",
             "gridcolor": "white",
             "linecolor": "white",
             "minorgridcolor": "white",
             "startlinecolor": "#2a3f5f"
            },
            "type": "carpet"
           }
          ],
          "choropleth": [
           {
            "colorbar": {
             "outlinewidth": 0,
             "ticks": ""
            },
            "type": "choropleth"
           }
          ],
          "contour": [
           {
            "colorbar": {
             "outlinewidth": 0,
             "ticks": ""
            },
            "colorscale": [
             [
              0,
              "#0d0887"
             ],
             [
              0.1111111111111111,
              "#46039f"
             ],
             [
              0.2222222222222222,
              "#7201a8"
             ],
             [
              0.3333333333333333,
              "#9c179e"
             ],
             [
              0.4444444444444444,
              "#bd3786"
             ],
             [
              0.5555555555555556,
              "#d8576b"
             ],
             [
              0.6666666666666666,
              "#ed7953"
             ],
             [
              0.7777777777777778,
              "#fb9f3a"
             ],
             [
              0.8888888888888888,
              "#fdca26"
             ],
             [
              1,
              "#f0f921"
             ]
            ],
            "type": "contour"
           }
          ],
          "contourcarpet": [
           {
            "colorbar": {
             "outlinewidth": 0,
             "ticks": ""
            },
            "type": "contourcarpet"
           }
          ],
          "heatmap": [
           {
            "colorbar": {
             "outlinewidth": 0,
             "ticks": ""
            },
            "colorscale": [
             [
              0,
              "#0d0887"
             ],
             [
              0.1111111111111111,
              "#46039f"
             ],
             [
              0.2222222222222222,
              "#7201a8"
             ],
             [
              0.3333333333333333,
              "#9c179e"
             ],
             [
              0.4444444444444444,
              "#bd3786"
             ],
             [
              0.5555555555555556,
              "#d8576b"
             ],
             [
              0.6666666666666666,
              "#ed7953"
             ],
             [
              0.7777777777777778,
              "#fb9f3a"
             ],
             [
              0.8888888888888888,
              "#fdca26"
             ],
             [
              1,
              "#f0f921"
             ]
            ],
            "type": "heatmap"
           }
          ],
          "heatmapgl": [
           {
            "colorbar": {
             "outlinewidth": 0,
             "ticks": ""
            },
            "colorscale": [
             [
              0,
              "#0d0887"
             ],
             [
              0.1111111111111111,
              "#46039f"
             ],
             [
              0.2222222222222222,
              "#7201a8"
             ],
             [
              0.3333333333333333,
              "#9c179e"
             ],
             [
              0.4444444444444444,
              "#bd3786"
             ],
             [
              0.5555555555555556,
              "#d8576b"
             ],
             [
              0.6666666666666666,
              "#ed7953"
             ],
             [
              0.7777777777777778,
              "#fb9f3a"
             ],
             [
              0.8888888888888888,
              "#fdca26"
             ],
             [
              1,
              "#f0f921"
             ]
            ],
            "type": "heatmapgl"
           }
          ],
          "histogram": [
           {
            "marker": {
             "pattern": {
              "fillmode": "overlay",
              "size": 10,
              "solidity": 0.2
             }
            },
            "type": "histogram"
           }
          ],
          "histogram2d": [
           {
            "colorbar": {
             "outlinewidth": 0,
             "ticks": ""
            },
            "colorscale": [
             [
              0,
              "#0d0887"
             ],
             [
              0.1111111111111111,
              "#46039f"
             ],
             [
              0.2222222222222222,
              "#7201a8"
             ],
             [
              0.3333333333333333,
              "#9c179e"
             ],
             [
              0.4444444444444444,
              "#bd3786"
             ],
             [
              0.5555555555555556,
              "#d8576b"
             ],
             [
              0.6666666666666666,
              "#ed7953"
             ],
             [
              0.7777777777777778,
              "#fb9f3a"
             ],
             [
              0.8888888888888888,
              "#fdca26"
             ],
             [
              1,
              "#f0f921"
             ]
            ],
            "type": "histogram2d"
           }
          ],
          "histogram2dcontour": [
           {
            "colorbar": {
             "outlinewidth": 0,
             "ticks": ""
            },
            "colorscale": [
             [
              0,
              "#0d0887"
             ],
             [
              0.1111111111111111,
              "#46039f"
             ],
             [
              0.2222222222222222,
              "#7201a8"
             ],
             [
              0.3333333333333333,
              "#9c179e"
             ],
             [
              0.4444444444444444,
              "#bd3786"
             ],
             [
              0.5555555555555556,
              "#d8576b"
             ],
             [
              0.6666666666666666,
              "#ed7953"
             ],
             [
              0.7777777777777778,
              "#fb9f3a"
             ],
             [
              0.8888888888888888,
              "#fdca26"
             ],
             [
              1,
              "#f0f921"
             ]
            ],
            "type": "histogram2dcontour"
           }
          ],
          "mesh3d": [
           {
            "colorbar": {
             "outlinewidth": 0,
             "ticks": ""
            },
            "type": "mesh3d"
           }
          ],
          "parcoords": [
           {
            "line": {
             "colorbar": {
              "outlinewidth": 0,
              "ticks": ""
             }
            },
            "type": "parcoords"
           }
          ],
          "pie": [
           {
            "automargin": true,
            "type": "pie"
           }
          ],
          "scatter": [
           {
            "fillpattern": {
             "fillmode": "overlay",
             "size": 10,
             "solidity": 0.2
            },
            "type": "scatter"
           }
          ],
          "scatter3d": [
           {
            "line": {
             "colorbar": {
              "outlinewidth": 0,
              "ticks": ""
             }
            },
            "marker": {
             "colorbar": {
              "outlinewidth": 0,
              "ticks": ""
             }
            },
            "type": "scatter3d"
           }
          ],
          "scattercarpet": [
           {
            "marker": {
             "colorbar": {
              "outlinewidth": 0,
              "ticks": ""
             }
            },
            "type": "scattercarpet"
           }
          ],
          "scattergeo": [
           {
            "marker": {
             "colorbar": {
              "outlinewidth": 0,
              "ticks": ""
             }
            },
            "type": "scattergeo"
           }
          ],
          "scattergl": [
           {
            "marker": {
             "colorbar": {
              "outlinewidth": 0,
              "ticks": ""
             }
            },
            "type": "scattergl"
           }
          ],
          "scattermapbox": [
           {
            "marker": {
             "colorbar": {
              "outlinewidth": 0,
              "ticks": ""
             }
            },
            "type": "scattermapbox"
           }
          ],
          "scatterpolar": [
           {
            "marker": {
             "colorbar": {
              "outlinewidth": 0,
              "ticks": ""
             }
            },
            "type": "scatterpolar"
           }
          ],
          "scatterpolargl": [
           {
            "marker": {
             "colorbar": {
              "outlinewidth": 0,
              "ticks": ""
             }
            },
            "type": "scatterpolargl"
           }
          ],
          "scatterternary": [
           {
            "marker": {
             "colorbar": {
              "outlinewidth": 0,
              "ticks": ""
             }
            },
            "type": "scatterternary"
           }
          ],
          "surface": [
           {
            "colorbar": {
             "outlinewidth": 0,
             "ticks": ""
            },
            "colorscale": [
             [
              0,
              "#0d0887"
             ],
             [
              0.1111111111111111,
              "#46039f"
             ],
             [
              0.2222222222222222,
              "#7201a8"
             ],
             [
              0.3333333333333333,
              "#9c179e"
             ],
             [
              0.4444444444444444,
              "#bd3786"
             ],
             [
              0.5555555555555556,
              "#d8576b"
             ],
             [
              0.6666666666666666,
              "#ed7953"
             ],
             [
              0.7777777777777778,
              "#fb9f3a"
             ],
             [
              0.8888888888888888,
              "#fdca26"
             ],
             [
              1,
              "#f0f921"
             ]
            ],
            "type": "surface"
           }
          ],
          "table": [
           {
            "cells": {
             "fill": {
              "color": "#EBF0F8"
             },
             "line": {
              "color": "white"
             }
            },
            "header": {
             "fill": {
              "color": "#C8D4E3"
             },
             "line": {
              "color": "white"
             }
            },
            "type": "table"
           }
          ]
         },
         "layout": {
          "annotationdefaults": {
           "arrowcolor": "#2a3f5f",
           "arrowhead": 0,
           "arrowwidth": 1
          },
          "autotypenumbers": "strict",
          "coloraxis": {
           "colorbar": {
            "outlinewidth": 0,
            "ticks": ""
           }
          },
          "colorscale": {
           "diverging": [
            [
             0,
             "#8e0152"
            ],
            [
             0.1,
             "#c51b7d"
            ],
            [
             0.2,
             "#de77ae"
            ],
            [
             0.3,
             "#f1b6da"
            ],
            [
             0.4,
             "#fde0ef"
            ],
            [
             0.5,
             "#f7f7f7"
            ],
            [
             0.6,
             "#e6f5d0"
            ],
            [
             0.7,
             "#b8e186"
            ],
            [
             0.8,
             "#7fbc41"
            ],
            [
             0.9,
             "#4d9221"
            ],
            [
             1,
             "#276419"
            ]
           ],
           "sequential": [
            [
             0,
             "#0d0887"
            ],
            [
             0.1111111111111111,
             "#46039f"
            ],
            [
             0.2222222222222222,
             "#7201a8"
            ],
            [
             0.3333333333333333,
             "#9c179e"
            ],
            [
             0.4444444444444444,
             "#bd3786"
            ],
            [
             0.5555555555555556,
             "#d8576b"
            ],
            [
             0.6666666666666666,
             "#ed7953"
            ],
            [
             0.7777777777777778,
             "#fb9f3a"
            ],
            [
             0.8888888888888888,
             "#fdca26"
            ],
            [
             1,
             "#f0f921"
            ]
           ],
           "sequentialminus": [
            [
             0,
             "#0d0887"
            ],
            [
             0.1111111111111111,
             "#46039f"
            ],
            [
             0.2222222222222222,
             "#7201a8"
            ],
            [
             0.3333333333333333,
             "#9c179e"
            ],
            [
             0.4444444444444444,
             "#bd3786"
            ],
            [
             0.5555555555555556,
             "#d8576b"
            ],
            [
             0.6666666666666666,
             "#ed7953"
            ],
            [
             0.7777777777777778,
             "#fb9f3a"
            ],
            [
             0.8888888888888888,
             "#fdca26"
            ],
            [
             1,
             "#f0f921"
            ]
           ]
          },
          "colorway": [
           "#636efa",
           "#EF553B",
           "#00cc96",
           "#ab63fa",
           "#FFA15A",
           "#19d3f3",
           "#FF6692",
           "#B6E880",
           "#FF97FF",
           "#FECB52"
          ],
          "font": {
           "color": "#2a3f5f"
          },
          "geo": {
           "bgcolor": "white",
           "lakecolor": "white",
           "landcolor": "#E5ECF6",
           "showlakes": true,
           "showland": true,
           "subunitcolor": "white"
          },
          "hoverlabel": {
           "align": "left"
          },
          "hovermode": "closest",
          "mapbox": {
           "style": "light"
          },
          "paper_bgcolor": "white",
          "plot_bgcolor": "#E5ECF6",
          "polar": {
           "angularaxis": {
            "gridcolor": "white",
            "linecolor": "white",
            "ticks": ""
           },
           "bgcolor": "#E5ECF6",
           "radialaxis": {
            "gridcolor": "white",
            "linecolor": "white",
            "ticks": ""
           }
          },
          "scene": {
           "xaxis": {
            "backgroundcolor": "#E5ECF6",
            "gridcolor": "white",
            "gridwidth": 2,
            "linecolor": "white",
            "showbackground": true,
            "ticks": "",
            "zerolinecolor": "white"
           },
           "yaxis": {
            "backgroundcolor": "#E5ECF6",
            "gridcolor": "white",
            "gridwidth": 2,
            "linecolor": "white",
            "showbackground": true,
            "ticks": "",
            "zerolinecolor": "white"
           },
           "zaxis": {
            "backgroundcolor": "#E5ECF6",
            "gridcolor": "white",
            "gridwidth": 2,
            "linecolor": "white",
            "showbackground": true,
            "ticks": "",
            "zerolinecolor": "white"
           }
          },
          "shapedefaults": {
           "line": {
            "color": "#2a3f5f"
           }
          },
          "ternary": {
           "aaxis": {
            "gridcolor": "white",
            "linecolor": "white",
            "ticks": ""
           },
           "baxis": {
            "gridcolor": "white",
            "linecolor": "white",
            "ticks": ""
           },
           "bgcolor": "#E5ECF6",
           "caxis": {
            "gridcolor": "white",
            "linecolor": "white",
            "ticks": ""
           }
          },
          "title": {
           "x": 0.05
          },
          "xaxis": {
           "automargin": true,
           "gridcolor": "white",
           "linecolor": "white",
           "ticks": "",
           "title": {
            "standoff": 15
           },
           "zerolinecolor": "white",
           "zerolinewidth": 2
          },
          "yaxis": {
           "automargin": true,
           "gridcolor": "white",
           "linecolor": "white",
           "ticks": "",
           "title": {
            "standoff": 15
           },
           "zerolinecolor": "white",
           "zerolinewidth": 2
          }
         }
        },
        "title": {
         "text": "Figuur 12.2: Laag Log GDP per capita vergeleken met Hoog Log GDP per capita",
         "x": 0.5
        },
        "width": 1000,
        "xaxis": {
         "anchor": "y",
         "autorange": true,
         "domain": [
          0,
          0.475
         ],
         "range": [
          0.48182688476951563,
          1.5135556935623726
         ],
         "title": {
          "text": "Log GDP per Capita"
         },
         "type": "linear"
        },
        "xaxis2": {
         "anchor": "y2",
         "autorange": true,
         "domain": [
          0.525,
          1
         ],
         "range": [
          1.3712550894078515,
          2.212676875990277
         ],
         "title": {
          "text": "Log GDP per Capita"
         },
         "type": "linear"
        },
        "yaxis": {
         "anchor": "x",
         "autorange": true,
         "domain": [
          0,
          1
         ],
         "range": [
          1.3161637885269963,
          8.334452726686028
         ],
         "title": {
          "text": "Happiness score"
         },
         "type": "linear"
        },
        "yaxis2": {
         "anchor": "x2",
         "autorange": true,
         "domain": [
          0,
          1
         ],
         "matches": "y",
         "range": [
          1.3161637885269963,
          8.334452726686028
         ],
         "showticklabels": false,
         "type": "linear"
        }
       }
      },
      "text/html": [
       "<div>                            <div id=\"a24c682c-898d-42e2-8b20-f7368a2bf08f\" class=\"plotly-graph-div\" style=\"height:600px; width:1000px;\"></div>            <script type=\"text/javascript\">                require([\"plotly\"], function(Plotly) {                    window.PLOTLYENV=window.PLOTLYENV || {};                                    if (document.getElementById(\"a24c682c-898d-42e2-8b20-f7368a2bf08f\")) {                    Plotly.newPlot(                        \"a24c682c-898d-42e2-8b20-f7368a2bf08f\",                        [{\"customdata\":[[0.0],[1.191],[0.876],[0.249],[0.128],[1.179],[1.269],[1.269],[0.685],[1.019],[0.856],[0.805],[0.328],[1.151],[0.996],[1.08],[0.915],[1.038],[0.684],[0.747],[1.169],[0.622],[1.035],[0.653],[0.653],[1.184],[0.996],[1.324],[0.983],[0.895],[1.277],[0.577],[0.851],[0.673],[0.823],[0.41],[0.688],[0.705],[1.511],[0.471],[0.883],[0.988],[1.212],[0.99],[1.263],[0.677],[1.075],[1.075],[0.6],[1.408],[1.18],[1.146],[0.751],[0.566],[1.369],[1.179],[0.706],[0.586],[0.955],[1.151],[1.315],[1.394],[1.267],[1.281],[0.809],[0.85]],\"hovertemplate\":\"\\u003cb\\u003e%{text}\\u003c\\u002fb\\u003e\\u003cbr\\u003eGDP: %{x:.2f}\\u003cbr\\u003eSocial Support: %{customdata[0]:.2f}\\u003cbr\\u003eHappiness: %{y:.2f}\\u003cextra\\u003e\\u003c\\u002fextra\\u003e\",\"marker\":{\"color\":[1.721,5.364,4.893,3.886,4.377,5.784,6.272,6.272,4.548,4.341,4.874,4.471,3.566,5.725,3.977,6.469,3.861,5.106,4.485,4.289,6.287,5.023,5.968,4.054,4.054,5.568,5.166,5.842,4.186,4.47,6.561,2.707,3.186,4.269,4.228,3.421,4.232,4.505,5.696,4.795,5.216,4.354,4.832,5.158,6.284,4.556,4.881,4.881,4.657,5.977,5.841,6.048,4.969,3.245,5.422,3.898,3.781,4.214,4.422,4.372,4.873,6.195,6.043,3.561,3.502,3.341],\"colorbar\":{\"title\":{\"text\":\"Happiness\"}},\"colorscale\":[[0.0,\"#440154\"],[0.1111111111111111,\"#482878\"],[0.2222222222222222,\"#3e4989\"],[0.3333333333333333,\"#31688e\"],[0.4444444444444444,\"#26828e\"],[0.5555555555555556,\"#1f9e89\"],[0.6666666666666666,\"#35b779\"],[0.7777777777777778,\"#6ece58\"],[0.8888888888888888,\"#b5de2b\"],[1.0,\"#fde725\"]],\"opacity\":0.7,\"showscale\":true,\"size\":[5.163,16.092,14.678999999999998,11.658000000000001,13.131,17.352,18.816000000000003,18.816000000000003,13.644,13.023,14.622,13.413,10.698,17.174999999999997,11.931,19.407,11.583,15.318,13.455000000000002,12.866999999999999,18.861,15.068999999999999,17.904,12.162,12.162,16.704,15.498000000000001,17.526,12.558,13.41,19.683,8.120999999999999,9.558,12.807,12.684,10.263,12.696000000000002,13.515,17.088,14.385,15.648,13.062000000000001,14.495999999999999,15.474,18.852,13.668,14.643,14.643,13.971,17.931,17.523,18.144,14.907,9.735,16.266,11.694,11.343,12.642000000000001,13.265999999999998,13.116,14.619,18.585,18.129,10.683,10.506,10.023]},\"mode\":\"markers\",\"text\":[\"Afghanistan\",\"Algeria\",\"Azerbaijan\",\"Bangladesh\",\"Benin\",\"Bolivia\",\"Brazil\",\"Brazil\",\"Burkina Faso\",\"Cambodia\",\"Cameroon\",\"Chad\",\"Comoros\",\"Ecuador\",\"Egypt\",\"El Salvador\",\"Ethiopia\",\"Gabon\",\"Gambia\",\"Ghana\",\"Guatemala\",\"Guinea\",\"Honduras\",\"India\",\"India\",\"Indonesia\",\"Iraq\",\"Jamaica\",\"Jordan\",\"Kenya\",\"Kosovo\",\"Lebanon\",\"Lesotho\",\"Liberia\",\"Madagascar\",\"Malawi\",\"Mali\",\"Mauritania\",\"Mongolia\",\"Morocco\",\"Mozambique\",\"Myanmar\",\"Namibia\",\"Nepal\",\"Nicaragua\",\"Niger\",\"Nigeria\",\"Nigeria\",\"Pakistan\",\"Paraguay\",\"Peru\",\"Philippines\",\"Senegal\",\"Sierra Leone\",\"South Africa\",\"Sri Lanka\",\"Tanzania\",\"Togo\",\"Tunisia\",\"Uganda\",\"Ukraine\",\"Uzbekistan\",\"Vietnam\",\"Yemen\",\"Zambia\",\"Zimbabwe\"],\"x\":[0.628,1.324,1.433,1.122,0.914,1.217,1.43,1.43,0.756,1.011,0.943,0.603,0.896,1.315,1.37,1.265,0.792,1.403,0.75,1.077,1.26,0.831,1.091,1.166,1.166,1.361,1.249,1.28,1.262,1.037,1.364,1.377,0.771,0.619,0.628,0.617,0.747,1.078,1.353,1.213,0.56,0.978,1.266,0.965,1.097,0.573,1.042,1.042,1.069,1.398,1.371,1.232,0.927,0.654,1.389,1.361,0.82,0.758,1.306,0.772,1.35,1.212,1.331,0.671,0.899,0.748],\"y\":[1.721,5.364,4.893,3.886,4.377,5.784,6.272,6.272,4.548,4.341,4.874,4.471,3.566,5.725,3.977,6.469,3.861,5.106,4.485,4.289,6.287,5.023,5.968,4.054,4.054,5.568,5.166,5.842,4.186,4.47,6.561,2.707,3.186,4.269,4.228,3.421,4.232,4.505,5.696,4.795,5.216,4.354,4.832,5.158,6.284,4.556,4.881,4.881,4.657,5.977,5.841,6.048,4.969,3.245,5.422,3.898,3.781,4.214,4.422,4.372,4.873,6.195,6.043,3.561,3.502,3.341],\"type\":\"scatter\",\"xaxis\":\"x\",\"yaxis\":\"y\"},{\"customdata\":[[0.924],[1.381],[1.154],[1.461],[1.461],[1.336],[1.44],[1.318],[0.969],[1.469],[1.459],[1.369],[1.239],[1.239],[1.241],[1.373],[1.445],[1.217],[1.52],[1.272],[1.527],[1.572],[1.348],[0.99],[1.39],[1.39],[1.276],[1.528],[1.617],[1.136],[1.39],[1.513],[1.328],[1.354],[1.457],[1.364],[1.508],[1.1],[1.454],[1.355],[1.143],[1.444],[1.358],[1.241],[1.318],[1.462],[1.527],[1.517],[1.392],[1.417],[1.368],[1.236],[1.351],[1.351],[1.361],[1.391],[1.361],[1.54],[1.502],[1.178],[1.471],[1.501],[1.425],[1.347],[1.164],[1.326],[1.431]],\"hovertemplate\":\"\\u003cb\\u003e%{text}\\u003c\\u002fb\\u003e\\u003cbr\\u003eGDP: %{x:.2f}\\u003cbr\\u003eSocial Support: %{customdata[0]:.2f}\\u003cbr\\u003eHappiness: %{y:.2f}\\u003cextra\\u003e\\u003c\\u002fextra\\u003e\",\"marker\":{\"color\":[5.304,6.188,5.455,7.057,7.057,6.905,6.894,5.877,3.383,5.463,6.9,6.36,5.973,5.973,5.695,6.955,5.942,6.068,7.583,5.823,6.448,7.741,6.609,5.185,6.719,6.719,5.934,6.017,7.525,4.923,6.838,7.341,6.324,6.06,6.188,6.951,6.234,5.866,6.818,7.122,5.975,6.346,5.816,6.678,5.707,7.319,7.029,7.302,6.358,6.442,6.03,6.491,5.785,5.785,6.594,6.411,6.523,6.257,6.743,6.058,6.421,7.344,7.06,5.976,6.733,6.749,6.611],\"colorscale\":[[0.0,\"#440154\"],[0.1111111111111111,\"#482878\"],[0.2222222222222222,\"#3e4989\"],[0.3333333333333333,\"#31688e\"],[0.4444444444444444,\"#26828e\"],[0.5555555555555556,\"#1f9e89\"],[0.6666666666666666,\"#35b779\"],[0.7777777777777778,\"#6ece58\"],[0.8888888888888888,\"#b5de2b\"],[1.0,\"#fde725\"]],\"opacity\":0.7,\"showscale\":false,\"size\":[15.912,18.564,16.365000000000002,21.171,21.171,20.715,20.682000000000002,17.631,10.149000000000001,16.389,20.700000000000003,19.080000000000002,17.919,17.919,17.085,20.865000000000002,17.826,18.204,22.749000000000002,17.469,19.344,23.223,19.826999999999998,15.555,20.157,20.157,17.802,18.051000000000002,22.575000000000003,14.769,20.514,22.023,18.972,18.18,18.564,20.852999999999998,18.701999999999998,17.598,20.454,21.366,17.924999999999997,19.038,17.448,20.034,17.121,21.957,21.087,21.906,19.073999999999998,19.326,18.09,19.473,17.355,17.355,19.782,19.232999999999997,19.569,18.771,20.229,18.174,19.263,22.032,21.18,17.928,20.198999999999998,20.247,19.833]},\"mode\":\"markers\",\"text\":[\"Albania\",\"Argentina\",\"Armenia\",\"Australia\",\"Australia\",\"Austria\",\"Belgium\",\"Bosnia and Herzegovina\",\"Botswana\",\"Bulgaria\",\"Canada\",\"Chile\",\"China\",\"China\",\"Colombia\",\"Costa Rica\",\"Croatia\",\"Cyprus\",\"Denmark\",\"Dominican Republic\",\"Estonia\",\"Finland\",\"France\",\"Georgia\",\"Germany\",\"Germany\",\"Greece\",\"Hungary\",\"Iceland\",\"Iran\",\"Ireland\",\"Israel\",\"Italy\",\"Japan\",\"Kazakhstan\",\"Kuwait\",\"Latvia\",\"Libya\",\"Lithuania\",\"Luxembourg\",\"Malaysia\",\"Malta\",\"Mauritius\",\"Mexico\",\"Montenegro\",\"Netherlands\",\"New Zealand\",\"Norway\",\"Panama\",\"Poland\",\"Portugal\",\"Romania\",\"Russia\",\"Russia\",\"Saudi Arabia\",\"Serbia\",\"Singapore\",\"Slovakia\",\"Slovenia\",\"South Korea\",\"Spain\",\"Sweden\",\"Switzerland\",\"Thailand\",\"United Arab Emirates\",\"United Kingdom\",\"Uruguay\"],\"x\":[1.438,1.562,1.444,1.854,1.854,1.885,1.868,1.465,1.445,1.629,1.84,1.616,1.497,1.497,1.437,1.561,1.71,1.794,1.908,1.517,1.752,1.844,1.818,1.467,1.871,1.871,1.684,1.722,1.881,1.435,2.129,1.803,1.8,1.786,1.622,1.845,1.7,1.526,1.766,2.141,1.646,1.827,1.57,1.521,1.571,1.901,1.81,1.952,1.702,1.738,1.728,1.699,1.642,1.642,1.842,1.538,2.118,1.706,1.786,1.815,1.766,1.878,1.97,1.484,1.983,1.822,1.596],\"y\":[5.304,6.188,5.455,7.057,7.057,6.905,6.894,5.877,3.383,5.463,6.9,6.36,5.973,5.973,5.695,6.955,5.942,6.068,7.583,5.823,6.448,7.741,6.609,5.185,6.719,6.719,5.934,6.017,7.525,4.923,6.838,7.341,6.324,6.06,6.188,6.951,6.234,5.866,6.818,7.122,5.975,6.346,5.816,6.678,5.707,7.319,7.029,7.302,6.358,6.442,6.03,6.491,5.785,5.785,6.594,6.411,6.523,6.257,6.743,6.058,6.421,7.344,7.06,5.976,6.733,6.749,6.611],\"type\":\"scatter\",\"xaxis\":\"x2\",\"yaxis\":\"y2\"}],                        {\"template\":{\"data\":{\"histogram2dcontour\":[{\"type\":\"histogram2dcontour\",\"colorbar\":{\"outlinewidth\":0,\"ticks\":\"\"},\"colorscale\":[[0.0,\"#0d0887\"],[0.1111111111111111,\"#46039f\"],[0.2222222222222222,\"#7201a8\"],[0.3333333333333333,\"#9c179e\"],[0.4444444444444444,\"#bd3786\"],[0.5555555555555556,\"#d8576b\"],[0.6666666666666666,\"#ed7953\"],[0.7777777777777778,\"#fb9f3a\"],[0.8888888888888888,\"#fdca26\"],[1.0,\"#f0f921\"]]}],\"choropleth\":[{\"type\":\"choropleth\",\"colorbar\":{\"outlinewidth\":0,\"ticks\":\"\"}}],\"histogram2d\":[{\"type\":\"histogram2d\",\"colorbar\":{\"outlinewidth\":0,\"ticks\":\"\"},\"colorscale\":[[0.0,\"#0d0887\"],[0.1111111111111111,\"#46039f\"],[0.2222222222222222,\"#7201a8\"],[0.3333333333333333,\"#9c179e\"],[0.4444444444444444,\"#bd3786\"],[0.5555555555555556,\"#d8576b\"],[0.6666666666666666,\"#ed7953\"],[0.7777777777777778,\"#fb9f3a\"],[0.8888888888888888,\"#fdca26\"],[1.0,\"#f0f921\"]]}],\"heatmap\":[{\"type\":\"heatmap\",\"colorbar\":{\"outlinewidth\":0,\"ticks\":\"\"},\"colorscale\":[[0.0,\"#0d0887\"],[0.1111111111111111,\"#46039f\"],[0.2222222222222222,\"#7201a8\"],[0.3333333333333333,\"#9c179e\"],[0.4444444444444444,\"#bd3786\"],[0.5555555555555556,\"#d8576b\"],[0.6666666666666666,\"#ed7953\"],[0.7777777777777778,\"#fb9f3a\"],[0.8888888888888888,\"#fdca26\"],[1.0,\"#f0f921\"]]}],\"heatmapgl\":[{\"type\":\"heatmapgl\",\"colorbar\":{\"outlinewidth\":0,\"ticks\":\"\"},\"colorscale\":[[0.0,\"#0d0887\"],[0.1111111111111111,\"#46039f\"],[0.2222222222222222,\"#7201a8\"],[0.3333333333333333,\"#9c179e\"],[0.4444444444444444,\"#bd3786\"],[0.5555555555555556,\"#d8576b\"],[0.6666666666666666,\"#ed7953\"],[0.7777777777777778,\"#fb9f3a\"],[0.8888888888888888,\"#fdca26\"],[1.0,\"#f0f921\"]]}],\"contourcarpet\":[{\"type\":\"contourcarpet\",\"colorbar\":{\"outlinewidth\":0,\"ticks\":\"\"}}],\"contour\":[{\"type\":\"contour\",\"colorbar\":{\"outlinewidth\":0,\"ticks\":\"\"},\"colorscale\":[[0.0,\"#0d0887\"],[0.1111111111111111,\"#46039f\"],[0.2222222222222222,\"#7201a8\"],[0.3333333333333333,\"#9c179e\"],[0.4444444444444444,\"#bd3786\"],[0.5555555555555556,\"#d8576b\"],[0.6666666666666666,\"#ed7953\"],[0.7777777777777778,\"#fb9f3a\"],[0.8888888888888888,\"#fdca26\"],[1.0,\"#f0f921\"]]}],\"surface\":[{\"type\":\"surface\",\"colorbar\":{\"outlinewidth\":0,\"ticks\":\"\"},\"colorscale\":[[0.0,\"#0d0887\"],[0.1111111111111111,\"#46039f\"],[0.2222222222222222,\"#7201a8\"],[0.3333333333333333,\"#9c179e\"],[0.4444444444444444,\"#bd3786\"],[0.5555555555555556,\"#d8576b\"],[0.6666666666666666,\"#ed7953\"],[0.7777777777777778,\"#fb9f3a\"],[0.8888888888888888,\"#fdca26\"],[1.0,\"#f0f921\"]]}],\"mesh3d\":[{\"type\":\"mesh3d\",\"colorbar\":{\"outlinewidth\":0,\"ticks\":\"\"}}],\"scatter\":[{\"fillpattern\":{\"fillmode\":\"overlay\",\"size\":10,\"solidity\":0.2},\"type\":\"scatter\"}],\"parcoords\":[{\"type\":\"parcoords\",\"line\":{\"colorbar\":{\"outlinewidth\":0,\"ticks\":\"\"}}}],\"scatterpolargl\":[{\"type\":\"scatterpolargl\",\"marker\":{\"colorbar\":{\"outlinewidth\":0,\"ticks\":\"\"}}}],\"bar\":[{\"error_x\":{\"color\":\"#2a3f5f\"},\"error_y\":{\"color\":\"#2a3f5f\"},\"marker\":{\"line\":{\"color\":\"#E5ECF6\",\"width\":0.5},\"pattern\":{\"fillmode\":\"overlay\",\"size\":10,\"solidity\":0.2}},\"type\":\"bar\"}],\"scattergeo\":[{\"type\":\"scattergeo\",\"marker\":{\"colorbar\":{\"outlinewidth\":0,\"ticks\":\"\"}}}],\"scatterpolar\":[{\"type\":\"scatterpolar\",\"marker\":{\"colorbar\":{\"outlinewidth\":0,\"ticks\":\"\"}}}],\"histogram\":[{\"marker\":{\"pattern\":{\"fillmode\":\"overlay\",\"size\":10,\"solidity\":0.2}},\"type\":\"histogram\"}],\"scattergl\":[{\"type\":\"scattergl\",\"marker\":{\"colorbar\":{\"outlinewidth\":0,\"ticks\":\"\"}}}],\"scatter3d\":[{\"type\":\"scatter3d\",\"line\":{\"colorbar\":{\"outlinewidth\":0,\"ticks\":\"\"}},\"marker\":{\"colorbar\":{\"outlinewidth\":0,\"ticks\":\"\"}}}],\"scattermapbox\":[{\"type\":\"scattermapbox\",\"marker\":{\"colorbar\":{\"outlinewidth\":0,\"ticks\":\"\"}}}],\"scatterternary\":[{\"type\":\"scatterternary\",\"marker\":{\"colorbar\":{\"outlinewidth\":0,\"ticks\":\"\"}}}],\"scattercarpet\":[{\"type\":\"scattercarpet\",\"marker\":{\"colorbar\":{\"outlinewidth\":0,\"ticks\":\"\"}}}],\"carpet\":[{\"aaxis\":{\"endlinecolor\":\"#2a3f5f\",\"gridcolor\":\"white\",\"linecolor\":\"white\",\"minorgridcolor\":\"white\",\"startlinecolor\":\"#2a3f5f\"},\"baxis\":{\"endlinecolor\":\"#2a3f5f\",\"gridcolor\":\"white\",\"linecolor\":\"white\",\"minorgridcolor\":\"white\",\"startlinecolor\":\"#2a3f5f\"},\"type\":\"carpet\"}],\"table\":[{\"cells\":{\"fill\":{\"color\":\"#EBF0F8\"},\"line\":{\"color\":\"white\"}},\"header\":{\"fill\":{\"color\":\"#C8D4E3\"},\"line\":{\"color\":\"white\"}},\"type\":\"table\"}],\"barpolar\":[{\"marker\":{\"line\":{\"color\":\"#E5ECF6\",\"width\":0.5},\"pattern\":{\"fillmode\":\"overlay\",\"size\":10,\"solidity\":0.2}},\"type\":\"barpolar\"}],\"pie\":[{\"automargin\":true,\"type\":\"pie\"}]},\"layout\":{\"autotypenumbers\":\"strict\",\"colorway\":[\"#636efa\",\"#EF553B\",\"#00cc96\",\"#ab63fa\",\"#FFA15A\",\"#19d3f3\",\"#FF6692\",\"#B6E880\",\"#FF97FF\",\"#FECB52\"],\"font\":{\"color\":\"#2a3f5f\"},\"hovermode\":\"closest\",\"hoverlabel\":{\"align\":\"left\"},\"paper_bgcolor\":\"white\",\"plot_bgcolor\":\"#E5ECF6\",\"polar\":{\"bgcolor\":\"#E5ECF6\",\"angularaxis\":{\"gridcolor\":\"white\",\"linecolor\":\"white\",\"ticks\":\"\"},\"radialaxis\":{\"gridcolor\":\"white\",\"linecolor\":\"white\",\"ticks\":\"\"}},\"ternary\":{\"bgcolor\":\"#E5ECF6\",\"aaxis\":{\"gridcolor\":\"white\",\"linecolor\":\"white\",\"ticks\":\"\"},\"baxis\":{\"gridcolor\":\"white\",\"linecolor\":\"white\",\"ticks\":\"\"},\"caxis\":{\"gridcolor\":\"white\",\"linecolor\":\"white\",\"ticks\":\"\"}},\"coloraxis\":{\"colorbar\":{\"outlinewidth\":0,\"ticks\":\"\"}},\"colorscale\":{\"sequential\":[[0.0,\"#0d0887\"],[0.1111111111111111,\"#46039f\"],[0.2222222222222222,\"#7201a8\"],[0.3333333333333333,\"#9c179e\"],[0.4444444444444444,\"#bd3786\"],[0.5555555555555556,\"#d8576b\"],[0.6666666666666666,\"#ed7953\"],[0.7777777777777778,\"#fb9f3a\"],[0.8888888888888888,\"#fdca26\"],[1.0,\"#f0f921\"]],\"sequentialminus\":[[0.0,\"#0d0887\"],[0.1111111111111111,\"#46039f\"],[0.2222222222222222,\"#7201a8\"],[0.3333333333333333,\"#9c179e\"],[0.4444444444444444,\"#bd3786\"],[0.5555555555555556,\"#d8576b\"],[0.6666666666666666,\"#ed7953\"],[0.7777777777777778,\"#fb9f3a\"],[0.8888888888888888,\"#fdca26\"],[1.0,\"#f0f921\"]],\"diverging\":[[0,\"#8e0152\"],[0.1,\"#c51b7d\"],[0.2,\"#de77ae\"],[0.3,\"#f1b6da\"],[0.4,\"#fde0ef\"],[0.5,\"#f7f7f7\"],[0.6,\"#e6f5d0\"],[0.7,\"#b8e186\"],[0.8,\"#7fbc41\"],[0.9,\"#4d9221\"],[1,\"#276419\"]]},\"xaxis\":{\"gridcolor\":\"white\",\"linecolor\":\"white\",\"ticks\":\"\",\"title\":{\"standoff\":15},\"zerolinecolor\":\"white\",\"automargin\":true,\"zerolinewidth\":2},\"yaxis\":{\"gridcolor\":\"white\",\"linecolor\":\"white\",\"ticks\":\"\",\"title\":{\"standoff\":15},\"zerolinecolor\":\"white\",\"automargin\":true,\"zerolinewidth\":2},\"scene\":{\"xaxis\":{\"backgroundcolor\":\"#E5ECF6\",\"gridcolor\":\"white\",\"linecolor\":\"white\",\"showbackground\":true,\"ticks\":\"\",\"zerolinecolor\":\"white\",\"gridwidth\":2},\"yaxis\":{\"backgroundcolor\":\"#E5ECF6\",\"gridcolor\":\"white\",\"linecolor\":\"white\",\"showbackground\":true,\"ticks\":\"\",\"zerolinecolor\":\"white\",\"gridwidth\":2},\"zaxis\":{\"backgroundcolor\":\"#E5ECF6\",\"gridcolor\":\"white\",\"linecolor\":\"white\",\"showbackground\":true,\"ticks\":\"\",\"zerolinecolor\":\"white\",\"gridwidth\":2}},\"shapedefaults\":{\"line\":{\"color\":\"#2a3f5f\"}},\"annotationdefaults\":{\"arrowcolor\":\"#2a3f5f\",\"arrowhead\":0,\"arrowwidth\":1},\"geo\":{\"bgcolor\":\"white\",\"landcolor\":\"#E5ECF6\",\"subunitcolor\":\"white\",\"showland\":true,\"showlakes\":true,\"lakecolor\":\"white\"},\"title\":{\"x\":0.05},\"mapbox\":{\"style\":\"light\"}}},\"xaxis\":{\"anchor\":\"y\",\"domain\":[0.0,0.475],\"title\":{\"text\":\"Log GDP per Capita\"}},\"yaxis\":{\"anchor\":\"x\",\"domain\":[0.0,1.0],\"title\":{\"text\":\"Happiness score\"}},\"xaxis2\":{\"anchor\":\"y2\",\"domain\":[0.525,1.0],\"title\":{\"text\":\"Log GDP per Capita\"}},\"yaxis2\":{\"anchor\":\"x2\",\"domain\":[0.0,1.0],\"matches\":\"y\",\"showticklabels\":false},\"annotations\":[{\"font\":{\"size\":16},\"showarrow\":false,\"text\":\"Low GDP Countries\",\"x\":0.2375,\"xanchor\":\"center\",\"xref\":\"paper\",\"y\":1.0,\"yanchor\":\"bottom\",\"yref\":\"paper\"},{\"font\":{\"size\":16},\"showarrow\":false,\"text\":\"High GDP Countries\",\"x\":0.7625,\"xanchor\":\"center\",\"xref\":\"paper\",\"y\":1.0,\"yanchor\":\"bottom\",\"yref\":\"paper\"}],\"title\":{\"text\":\"Figuur 12.2: Laag Log GDP per capita vergeleken met Hoog Log GDP per capita\",\"x\":0.5},\"hoverlabel\":{\"font\":{\"size\":12,\"family\":\"Arial\"},\"bgcolor\":\"white\"},\"height\":600,\"width\":1000,\"showlegend\":false},                        {\"responsive\": true}                    ).then(function(){\n",
       "                            \n",
       "var gd = document.getElementById('a24c682c-898d-42e2-8b20-f7368a2bf08f');\n",
       "var x = new MutationObserver(function (mutations, observer) {{\n",
       "        var display = window.getComputedStyle(gd).display;\n",
       "        if (!display || display === 'none') {{\n",
       "            console.log([gd, 'removed!']);\n",
       "            Plotly.purge(gd);\n",
       "            observer.disconnect();\n",
       "        }}\n",
       "}});\n",
       "\n",
       "// Listen for the removal of the full notebook cells\n",
       "var notebookContainer = gd.closest('#notebook-container');\n",
       "if (notebookContainer) {{\n",
       "    x.observe(notebookContainer, {childList: true});\n",
       "}}\n",
       "\n",
       "// Listen for the clearing of the current output cell\n",
       "var outputEl = gd.closest('.output');\n",
       "if (outputEl) {{\n",
       "    x.observe(outputEl, {childList: true});\n",
       "}}\n",
       "\n",
       "                        })                };                });            </script>        </div>"
      ]
     },
     "metadata": {},
     "output_type": "display_data"
    }
   ],
   "source": [
    "# Verwijder alle rijen waar één van deze kolommen NaN is\n",
    "df_clean = df123.dropna(subset=['Log GDP per capita', 'Ladder score', 'Social support'])\n",
    "# Venezuela heeft 0 GDP, dus die wordt ook gedropt. \n",
    "if 'Venezuela' in df_clean['country'].values:\n",
    "    # Drop Venezuela van de DataFrame\n",
    "    df_clean = df_clean[df_clean['country'] != 'Venezuela']\n",
    "# Maak de bubble plot op de schone data\n",
    "figbub = px.scatter(\n",
    "    df_clean,\n",
    "    x='Log GDP per capita',\n",
    "    y='Social support',\n",
    "    size='Ladder score',\n",
    "    color='Ladder score',\n",
    "    hover_name='country',\n",
    "    size_max=30,\n",
    "    height=750,\n",
    "    title='Figuur 12.1: grote van de Happiness score gebaseerd op Log GDP per capita en Social support van landen',\n",
    "    labels={\n",
    "        'Log GDP per capita': 'Log GDP per capita',\n",
    "        'Ladder score': 'Happiness score',\n",
    "        'Social support': 'Social support'\n",
    "    }\n",
    ")\n",
    "# Toon figuur bubbleplot\n",
    "figbub.show()\n",
    "\n",
    "# Defineeer GDP threshold (median or another logical cutoff)\n",
    "gdp_threshold = df_clean['Log GDP per capita'].median()\n",
    "\n",
    "# masks voor low en high GDP landen\n",
    "low_gdp = df_clean[df_clean['Log GDP per capita'] < gdp_threshold]\n",
    "high_gdp = df_clean[df_clean['Log GDP per capita'] >= gdp_threshold]\n",
    "\n",
    "# subplot met 2 kolommen om naast elkaar te staan\n",
    "lowhighfig = make_subplots(\n",
    "    rows=1, cols=2,\n",
    "    subplot_titles=(\"Low GDP Countries\", \"High GDP Countries\"),\n",
    "    shared_yaxes=True,\n",
    "    horizontal_spacing=0.05\n",
    ")\n",
    "\n",
    "# Low GDP countries scatterplot\n",
    "lowhighfig.add_trace(\n",
    "    go.Scatter(\n",
    "        x=low_gdp['Log GDP per capita'],\n",
    "        y=low_gdp['Ladder score'],\n",
    "        mode='markers',\n",
    "        marker=dict(\n",
    "            size=low_gdp['Ladder score'] * 3, # Multiplier voor bubble grote\n",
    "            color=low_gdp['Ladder score'],\n",
    "            colorscale='viridis',  \n",
    "            colorbar=dict(title='Happiness'),\n",
    "            opacity=0.7,\n",
    "            showscale=True\n",
    "        ),\n",
    "        text=low_gdp['country'], \n",
    "        customdata=np.stack((low_gdp['Social support'],), axis=-1),\n",
    "        hovertemplate='<b>%{text}</b><br>GDP: %{x:.2f}<br>Social Support: %{customdata[0]:.2f}<br>Happiness: %{y:.2f}<extra></extra>',\n",
    "    ),\n",
    "    row=1, col=1\n",
    ")\n",
    "\n",
    "# High GDP countries scatterplot\n",
    "lowhighfig.add_trace(\n",
    "    go.Scatter(\n",
    "        x=high_gdp['Log GDP per capita'],\n",
    "        y=high_gdp['Ladder score'],\n",
    "        mode='markers',\n",
    "        marker=dict(\n",
    "            size=high_gdp['Ladder score'] * 3, # Multiplier voor bubble grote\n",
    "            color=high_gdp['Ladder score'],\n",
    "            colorscale='viridis',  \n",
    "            showscale=False,\n",
    "            opacity=0.7\n",
    "        ),\n",
    "        text=high_gdp['country'], \n",
    "        customdata=np.stack((high_gdp['Social support'],), axis=-1),\n",
    "        hovertemplate='<b>%{text}</b><br>GDP: %{x:.2f}<br>Social Support: %{customdata[0]:.2f}<br>Happiness: %{y:.2f}<extra></extra>',\n",
    "    ),\n",
    "    row=1, col=2\n",
    ")\n",
    "\n",
    "# Update layout\n",
    "lowhighfig.update_layout(\n",
    "    title_text='Figuur 12.2: Laag Log GDP per capita vergeleken met Hoog Log GDP per capita',\n",
    "    title_x=0.5,\n",
    "    height=600,\n",
    "    width=1000,\n",
    "    showlegend=False,\n",
    "    hoverlabel=dict(\n",
    "        bgcolor=\"white\",\n",
    "        font_size=12,\n",
    "        font_family=\"Arial\"\n",
    "    )\n",
    ")\n",
    "\n",
    "# Update x en y labels\n",
    "lowhighfig.update_xaxes(title_text='Log GDP per Capita', row=1, col=1)\n",
    "lowhighfig.update_xaxes(title_text='Log GDP per Capita', row=1, col=2)\n",
    "lowhighfig.update_yaxes(title_text='Happiness score', row=1, col=1)\n",
    "\n",
    "# Toon figuur bubblescatterplot\n",
    "lowhighfig.show()\n",
    "\n"
   ]
  },
  {
   "cell_type": "markdown",
   "id": "84271e8b-3cdf-4cad-b78e-f536ff980cba",
   "metadata": {},
   "source": [
    "> *Figuur 12.1: Deze bubbelplot laat zien dat landen met meer inkomen én sociale steun gemiddeld het gelukkigst zijn.*\n",
    ">\n",
    "> *Figuur 12.2: Landen met een hoog GDP per capita tonen een stabieler en hoger geluksniveau en meer sociale steun dan lage-inkomenslanden.*"
   ]
  },
  {
   "cell_type": "markdown",
   "id": "d926f50f-b4e4-4b1e-88c2-50d3fe00b770",
   "metadata": {},
   "source": [
    "In hoge-inkomenslanden is het basisniveau van geluk stabieler en hoger. Deze landen bieden meer economische zekerheid, betere werkgelegenheid en meer mogelijkheden voor onderlinge steun, wat de geluksscore positief beïnvloedt. \n"
   ]
  },
  {
   "cell_type": "markdown",
   "id": "9fb8d0be-6ec1-425f-a721-61d8919f1de2",
   "metadata": {},
   "source": [
    "### Conclusie perspectief 2\n",
    "\n",
    "Klimaat verklaart slechts beperkt het geluk van een land. Scandinavische landen, ondanks hun koude klimaat, behoren tot de gelukkigste ter wereld dankzij sterke sociale vangnetten, goede zorg en economische stabiliteit. De visualisaties tonen dat structurele factoren zoals sociale steun, gezondheid en inkomen beter voorspellen hoe gelukkig een bevolking is dan het klimaat."
   ]
  },
  {
   "cell_type": "markdown",
   "id": "d4a2b7d0-a163-4781-99a5-112956bc1326",
   "metadata": {},
   "source": [
    "# Conclusie\n",
    "\n",
    "Uit ons onderzoek blijkt dat klimaat enige invloed heeft op geluk, vooral bij extreme weersomstandigheden. Toch blijken sociaal-economische factoren zoals inkomen, sociale steun en gezondheidszorg veel belangrijker. Landen met sterke sociale structuren blijven gelukkig, zelfs bij ongunstig klimaat. Kortom, geluk wordt vooral bepaald door sociale en economische stabiliteit, met klimaat als bijkomende factor.\n"
   ]
  },
  {
   "cell_type": "markdown",
   "id": "921df77f",
   "metadata": {},
   "source": [
    "## Reflection\n",
    "\n",
    "Een aantal zaken is ons opgevallen tijdens het project.\n",
    "- Df3 bevatte maar zeventien bruikbare rows, veel minder dan de andere datasets. De correlaties en conclusies die met df3 zijn berekend, zijn dus niet heel betrouwbaar vanwege een tekort aan data. We konden helaas geen betere dataset vinden met de gegevens die we zochten. Ook was de variabele `Extreme_Weather_Events` onduidelijk gedefinieerd in de datasetomschrijving. Er is een mail verzonden naar de dataset-owner, die de definitie voor ons heeft verhelderd. \n",
    "- Tijdens het presenteren van de draft werd ons aangeraden om visualisaties te combineren tot 1 door middel van een knop waarmee er van visualisatie gewisseld kan worden.\n",
    "- Via Canvas hadden we feedback gekregen over het uitschrijven van het verhaal, aangezien we op dat punt voornamelijk losse onderzoeken en visualisaties hadden. Dit hebben we uitgewerkt tot een samenhangend verhaal.\n",
    "\n",
    "Verder is iedere keuze voor het project goed besproken met de groepsleden onderling en verliep de samenwerking erg vlot."
   ]
  },
  {
   "cell_type": "markdown",
   "id": "8799e8f6",
   "metadata": {},
   "source": [
    "## Work Distribution\n",
    "Bij dit onderzoek heeft ieder lid ongeveer evenveel werk verricht. Ook was iedereen betrokken bij het uitzoeken van passende datasets. Wel heeft ieder lid zich iets meer op bepaalde delen van het project gericht:\n",
    "- Mieke: Perspectief 1.1, GitHub troubleshooting en website publiceren.\n",
    "- Aryan: Grote focus op perspectief 2.\n",
    "- Lucas: Perspectief 1.2 en correlaties.\n",
    "- Reyna: Structuur van notebook, dataset preprocessing, visualisaties en conclusies.     \n",
    "     \n",
    "Iedereen heeft elkaar geholpen als er ergens iets vastliep; zo heeft ieder lid de anderen aangevuld."
   ]
  },
  {
   "cell_type": "markdown",
   "id": "8a61224c",
   "metadata": {},
   "source": [
    "## References (opmaak mogelijk anders)\n",
    "\n",
    "- Berg, M. (2007). Inkomensongelijkheid en geluk in landen. Mens en Maatschappij: tijdschrift voor sociale wetenschappen.\n",
    "- Berry, H. L., Bowen, K., & Kjellstrom, T. (2010). Climate change and mental health: a causal pathways framework. International journal of public health, 55(2), 123–132. https://doi.org/10.1007/s00038-009-0112-0\n",
    "-  Calvo, R., Zheng, Y., Kumar, S., Olgiati, A., & Berkman, L. (2012). Well-being and social capital on planet earth: cross-national evidence from 142 countries. PloS one, 7(8), e42793. https://doi.org/10.1371/journal.pone.0042793\n",
    "-  Happy Nature Boy Watercolor illustration. (2020, January 29). TPT. https://www.teacherspayteachers.com/Product/Happy-Nature-Boy-Watercolor-Illustration-3342137\n",
    "- Helliwell, J. F., Layard, R., & Sachs, J. D. (2017, March 20). World Happiness Report 2017. The World Happiness Report. https://worldhappiness.report/ed/2017/    \n",
    "- Helliwell, J. F., Layard, R., Sachs, J. D., De Neve, J.-E., Aknin, L. B., & Wang, S. (Eds.). (2024). World Happiness Report 2024. University of Oxford: Wellbeing Research Centre.       \n",
    "- Nidula Elgiriyewithana. (2025). World Weather Repository ( Daily Updating ) [Data set]. Kaggle. https://doi.org/10.34740/KAGGLE/DSV/12171408    \n",
    "- Peng, Y., Tang, J., Fu, Y., Fan, I., Hor, M., & Chan, T. (2016). Analyzing Personal Happiness from Global Survey and Weather Data: A Geospatial Approach. PLoS ONE, 11(4), e0153638. https://doi.org/10.1371/journal.pone.0153638   \n",
    "- Rehdanz, K., & Maddison, D. (2004). Climate and happiness. Ecological Economics, 52(1), 111–125. https://doi.org/10.1016/j.ecolecon.2004.06.015\n",
    "- Proto, E., & Rustichini, A. (2013). A reassessment of the relationship between GDP and life satisfaction. PloS one, 8(11), e79358. https://doi.org/10.1371/journal.pone.0079358    \n",
    "- Shamim, A. (2025, April 24). Global Environmental Trends 2000-2024. https://www.kaggle.com/datasets/adilshamim8/temperature\n",
    "- Tian X, Zhang C, Xu B. The Impact of Air Pollution on Residents' Happiness: A Study on the Moderating Effect Based on Pollution Sensitivity. Int J Environ Res Public Health. 2022 Jun 20;19(12):7536. doi: 10.3390/ijerph19127536. PMID: 35742783; PMCID: PMC9224219.\n",
    "- Tsutsui, Y., 2013: Weather and Individual Happiness. Wea. Climate Soc., 5, 70–82, https://doi.org/10.1175/WCAS-D-11-00052.1.\n",
    "- World Happiness Report - Sustainable Development Solutions Network. (2025, March 20). https://www.unsdsn.org/our-work/world-happiness-report/\n",
    "- Veenhoven, R., & Timmermans, D. (1998). Welvaart en geluk. Economisch-Statistische Berichten, 628–631. Retrieved from http://hdl.handle.net/1765/16329\n",
    "- Zhang, X., Zhang, X., & Chen, X. (2017). Happiness in the air: How does a dirty sky affect mental health and subjective well-being? Journal of Environmental Economics and Management, 85, 81–94. https://doi.org/10.1016/j.jeem.2017.04.001\n",
    "- Zong,Y. (2024). The research on the factors affecting the World Happiness index. Theoretical and Natural Science,41,104-111. https://www.ewadirect.com/proceedings/tns/article/view/16411?utm_source=chatgpt.com#\n",
    "   \n",
    "     \n",
    "    "
   ]
  },
  {
   "cell_type": "markdown",
   "id": "f377761c-1ed5-440a-8c20-eaf6ab7c67bb",
   "metadata": {},
   "source": [
    "## Appendix\n",
    "\n",
    "Generatieve AI (ChatGPT met GPT-4o) is gebruikt als hulpmiddel bij dit document, zoals te zien is in onderstaande tabel\n",
    "\n",
    "| Reden voor gebruik | Onderdeel | Gebruikte prompt |\n",
    "| ------------------------ | --------------------------------- | -------------------------------------------- |\n",
    "| Errors oplossen in de code | Dataset preprocessing | \"I get this error in a notebook: A value is trying to be set on a copy of a slice from a DataFrame\" |\n",
    "| Omzetten van waardes voor berekening | Dataset preprocessing | \"How to change a column in python jupyter notebook that has  a time like ...:.. AM to hours/seconds/minutes etc?\" |\n",
    "\n",
    "> *Figuur x: Gebruik van generatieve AI dat heeft bijgedragen aan dit document.*"
   ]
  }
 ],
 "metadata": {
  "celltoolbar": "Tags",
  "kernelspec": {
   "display_name": "Python 3 (ipykernel)",
   "language": "python",
   "name": "python3"
  },
  "language_info": {
   "codemirror_mode": {
    "name": "ipython",
    "version": 3
   },
   "file_extension": ".py",
   "mimetype": "text/x-python",
   "name": "python",
   "nbconvert_exporter": "python",
   "pygments_lexer": "ipython3",
   "version": "3.12.7"
  }
 },
 "nbformat": 4,
 "nbformat_minor": 5
}
