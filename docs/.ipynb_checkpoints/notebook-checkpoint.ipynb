{
 "cells": [
  {
   "cell_type": "markdown",
   "id": "3b46ee32",
   "metadata": {},
   "source": [
    "# Your Data Story Title\n",
    "\n",
    "Student names: Reyna Geluk (15708845),\n",
    "Lucas Vaneman (14663937),\n",
    "Aryan Müller (15631591),\n",
    "Mieke Fraters (15778770)   \n",
    "\n",
    "Team number: C3 (#9)"
   ]
  },
  {
   "cell_type": "code",
   "execution_count": 1,
   "id": "e180382e",
   "metadata": {
    "editable": true,
    "slideshow": {
     "slide_type": ""
    },
    "tags": [
     "hide-input"
    ]
   },
   "outputs": [
    {
     "data": {
      "text/html": [
       "        <script type=\"text/javascript\">\n",
       "        window.PlotlyConfig = {MathJaxConfig: 'local'};\n",
       "        if (window.MathJax && window.MathJax.Hub && window.MathJax.Hub.Config) {window.MathJax.Hub.Config({SVG: {font: \"STIX-Web\"}});}\n",
       "        if (typeof require !== 'undefined') {\n",
       "        require.undef(\"plotly\");\n",
       "        requirejs.config({\n",
       "            paths: {\n",
       "                'plotly': ['https://cdn.plot.ly/plotly-2.35.2.min']\n",
       "            }\n",
       "        });\n",
       "        require(['plotly'], function(Plotly) {\n",
       "            window._Plotly = Plotly;\n",
       "        });\n",
       "        }\n",
       "        </script>\n",
       "        "
      ]
     },
     "metadata": {},
     "output_type": "display_data"
    },
    {
     "data": {
      "application/vnd.plotly.v1+json": {
       "config": {
        "plotlyServerURL": "https://plot.ly"
       },
       "data": [
        {
         "coloraxis": "coloraxis",
         "geo": "geo",
         "hovertemplate": "Country name=%{location}<br>Ladder score=%{z}<extra></extra>",
         "locationmode": "country names",
         "locations": [
          "Finland",
          "Denmark",
          "Iceland",
          "Sweden",
          "Israel",
          "Netherlands",
          "Norway",
          "Luxembourg",
          "Switzerland",
          "Australia",
          "New Zealand",
          "Costa Rica",
          "Kuwait",
          "Austria",
          "Canada",
          "Belgium",
          "Ireland",
          "Czechia",
          "Lithuania",
          "United Kingdom",
          "Slovenia",
          "United Arab Emirates",
          "United States",
          "Germany",
          "Mexico",
          "Uruguay",
          "France",
          "Saudi Arabia",
          "Kosovo",
          "Singapore",
          "Taiwan Province of China",
          "Romania",
          "El Salvador",
          "Estonia",
          "Poland",
          "Spain",
          "Serbia",
          "Chile",
          "Panama",
          "Malta",
          "Italy",
          "Guatemala",
          "Nicaragua",
          "Brazil",
          "Slovakia",
          "Latvia",
          "Uzbekistan",
          "Argentina",
          "Kazakhstan",
          "Cyprus",
          "Japan",
          "South Korea",
          "Philippines",
          "Vietnam",
          "Portugal",
          "Hungary",
          "Paraguay",
          "Thailand",
          "Malaysia",
          "China",
          "Honduras",
          "Bahrain",
          "Croatia",
          "Greece",
          "Bosnia and Herzegovina",
          "Libya",
          "Jamaica",
          "Peru",
          "Dominican Republic",
          "Mauritius",
          "Moldova",
          "Russia",
          "Bolivia",
          "Ecuador",
          "Kyrgyzstan",
          "Montenegro",
          "Mongolia",
          "Colombia",
          "Venezuela",
          "Indonesia",
          "Bulgaria",
          "Armenia",
          "South Africa",
          "North Macedonia",
          "Algeria",
          "Hong Kong S.A.R. of China",
          "Albania",
          "Tajikistan",
          "Congo (Brazzaville)",
          "Mozambique",
          "Georgia",
          "Iraq",
          "Nepal",
          "Laos",
          "Gabon",
          "Ivory Coast",
          "Guinea",
          "Turkiye",
          "Senegal",
          "Iran",
          "Azerbaijan",
          "Nigeria",
          "State of Palestine",
          "Cameroon",
          "Ukraine",
          "Namibia",
          "Morocco",
          "Pakistan",
          "Niger",
          "Burkina Faso",
          "Mauritania",
          "Gambia",
          "Chad",
          "Kenya",
          "Tunisia",
          "Benin",
          "Uganda",
          "Myanmar",
          "Cambodia",
          "Ghana",
          "Liberia",
          "Mali",
          "Madagascar",
          "Togo",
          "Jordan",
          "India",
          "Egypt",
          "Sri Lanka",
          "Bangladesh",
          "Ethiopia",
          "Tanzania",
          "Comoros",
          "Yemen",
          "Zambia",
          "Eswatini",
          "Malawi",
          "Botswana",
          "Zimbabwe",
          "Congo (Kinshasa)",
          "Sierra Leone",
          "Lesotho",
          "Lebanon",
          "Afghanistan"
         ],
         "name": "",
         "type": "choropleth",
         "z": [
          7.741,
          7.583,
          7.525,
          7.344,
          7.341,
          7.319,
          7.302,
          7.122,
          7.06,
          7.057,
          7.029,
          6.955,
          6.951,
          6.905,
          6.9,
          6.894,
          6.838,
          6.822,
          6.818,
          6.749,
          6.743,
          6.733,
          6.725,
          6.719,
          6.678,
          6.611,
          6.609,
          6.594,
          6.561,
          6.523,
          6.503,
          6.491,
          6.469,
          6.448,
          6.442,
          6.421,
          6.411,
          6.36,
          6.358,
          6.346,
          6.324,
          6.287,
          6.284,
          6.272,
          6.257,
          6.234,
          6.195,
          6.188,
          6.188,
          6.068,
          6.06,
          6.058,
          6.048,
          6.043,
          6.03,
          6.017,
          5.977,
          5.976,
          5.975,
          5.973,
          5.968,
          5.959,
          5.942,
          5.934,
          5.877,
          5.866,
          5.842,
          5.841,
          5.823,
          5.816,
          5.816,
          5.785,
          5.784,
          5.725,
          5.714,
          5.707,
          5.696,
          5.695,
          5.607,
          5.568,
          5.463,
          5.455,
          5.422,
          5.369,
          5.364,
          5.316,
          5.304,
          5.281,
          5.221,
          5.216,
          5.185,
          5.166,
          5.158,
          5.139,
          5.106,
          5.08,
          5.023,
          4.975,
          4.969,
          4.923,
          4.893,
          4.881,
          4.879,
          4.874,
          4.873,
          4.832,
          4.795,
          4.657,
          4.556,
          4.548,
          4.505,
          4.485,
          4.471,
          4.47,
          4.422,
          4.377,
          4.372,
          4.354,
          4.341,
          4.289,
          4.269,
          4.232,
          4.228,
          4.214,
          4.186,
          4.054,
          3.977,
          3.898,
          3.886,
          3.861,
          3.781,
          3.566,
          3.561,
          3.502,
          3.502,
          3.421,
          3.383,
          3.341,
          3.295,
          3.245,
          3.186,
          2.707,
          1.721
         ]
        }
       ],
       "layout": {
        "coloraxis": {
         "colorbar": {
          "title": {
           "text": "Ladder score"
          }
         },
         "colorscale": [
          [
           0,
           "#440154"
          ],
          [
           0.1111111111111111,
           "#482878"
          ],
          [
           0.2222222222222222,
           "#3e4989"
          ],
          [
           0.3333333333333333,
           "#31688e"
          ],
          [
           0.4444444444444444,
           "#26828e"
          ],
          [
           0.5555555555555556,
           "#1f9e89"
          ],
          [
           0.6666666666666666,
           "#35b779"
          ],
          [
           0.7777777777777778,
           "#6ece58"
          ],
          [
           0.8888888888888888,
           "#b5de2b"
          ],
          [
           1,
           "#fde725"
          ]
         ]
        },
        "geo": {
         "center": {
          "lat": -0.31437380985731717,
          "lon": 1.663872445469977
         },
         "domain": {
          "x": [
           0,
           1
          ],
          "y": [
           0,
           1
          ]
         },
         "projection": {
          "rotation": {
           "lon": 1.663872445469977
          },
          "scale": 1.0628956743585538,
          "type": "natural earth"
         }
        },
        "height": 600,
        "legend": {
         "tracegroupgap": 0
        },
        "template": {
         "data": {
          "bar": [
           {
            "error_x": {
             "color": "#2a3f5f"
            },
            "error_y": {
             "color": "#2a3f5f"
            },
            "marker": {
             "line": {
              "color": "#E5ECF6",
              "width": 0.5
             },
             "pattern": {
              "fillmode": "overlay",
              "size": 10,
              "solidity": 0.2
             }
            },
            "type": "bar"
           }
          ],
          "barpolar": [
           {
            "marker": {
             "line": {
              "color": "#E5ECF6",
              "width": 0.5
             },
             "pattern": {
              "fillmode": "overlay",
              "size": 10,
              "solidity": 0.2
             }
            },
            "type": "barpolar"
           }
          ],
          "carpet": [
           {
            "aaxis": {
             "endlinecolor": "#2a3f5f",
             "gridcolor": "white",
             "linecolor": "white",
             "minorgridcolor": "white",
             "startlinecolor": "#2a3f5f"
            },
            "baxis": {
             "endlinecolor": "#2a3f5f",
             "gridcolor": "white",
             "linecolor": "white",
             "minorgridcolor": "white",
             "startlinecolor": "#2a3f5f"
            },
            "type": "carpet"
           }
          ],
          "choropleth": [
           {
            "colorbar": {
             "outlinewidth": 0,
             "ticks": ""
            },
            "type": "choropleth"
           }
          ],
          "contour": [
           {
            "colorbar": {
             "outlinewidth": 0,
             "ticks": ""
            },
            "colorscale": [
             [
              0,
              "#0d0887"
             ],
             [
              0.1111111111111111,
              "#46039f"
             ],
             [
              0.2222222222222222,
              "#7201a8"
             ],
             [
              0.3333333333333333,
              "#9c179e"
             ],
             [
              0.4444444444444444,
              "#bd3786"
             ],
             [
              0.5555555555555556,
              "#d8576b"
             ],
             [
              0.6666666666666666,
              "#ed7953"
             ],
             [
              0.7777777777777778,
              "#fb9f3a"
             ],
             [
              0.8888888888888888,
              "#fdca26"
             ],
             [
              1,
              "#f0f921"
             ]
            ],
            "type": "contour"
           }
          ],
          "contourcarpet": [
           {
            "colorbar": {
             "outlinewidth": 0,
             "ticks": ""
            },
            "type": "contourcarpet"
           }
          ],
          "heatmap": [
           {
            "colorbar": {
             "outlinewidth": 0,
             "ticks": ""
            },
            "colorscale": [
             [
              0,
              "#0d0887"
             ],
             [
              0.1111111111111111,
              "#46039f"
             ],
             [
              0.2222222222222222,
              "#7201a8"
             ],
             [
              0.3333333333333333,
              "#9c179e"
             ],
             [
              0.4444444444444444,
              "#bd3786"
             ],
             [
              0.5555555555555556,
              "#d8576b"
             ],
             [
              0.6666666666666666,
              "#ed7953"
             ],
             [
              0.7777777777777778,
              "#fb9f3a"
             ],
             [
              0.8888888888888888,
              "#fdca26"
             ],
             [
              1,
              "#f0f921"
             ]
            ],
            "type": "heatmap"
           }
          ],
          "heatmapgl": [
           {
            "colorbar": {
             "outlinewidth": 0,
             "ticks": ""
            },
            "colorscale": [
             [
              0,
              "#0d0887"
             ],
             [
              0.1111111111111111,
              "#46039f"
             ],
             [
              0.2222222222222222,
              "#7201a8"
             ],
             [
              0.3333333333333333,
              "#9c179e"
             ],
             [
              0.4444444444444444,
              "#bd3786"
             ],
             [
              0.5555555555555556,
              "#d8576b"
             ],
             [
              0.6666666666666666,
              "#ed7953"
             ],
             [
              0.7777777777777778,
              "#fb9f3a"
             ],
             [
              0.8888888888888888,
              "#fdca26"
             ],
             [
              1,
              "#f0f921"
             ]
            ],
            "type": "heatmapgl"
           }
          ],
          "histogram": [
           {
            "marker": {
             "pattern": {
              "fillmode": "overlay",
              "size": 10,
              "solidity": 0.2
             }
            },
            "type": "histogram"
           }
          ],
          "histogram2d": [
           {
            "colorbar": {
             "outlinewidth": 0,
             "ticks": ""
            },
            "colorscale": [
             [
              0,
              "#0d0887"
             ],
             [
              0.1111111111111111,
              "#46039f"
             ],
             [
              0.2222222222222222,
              "#7201a8"
             ],
             [
              0.3333333333333333,
              "#9c179e"
             ],
             [
              0.4444444444444444,
              "#bd3786"
             ],
             [
              0.5555555555555556,
              "#d8576b"
             ],
             [
              0.6666666666666666,
              "#ed7953"
             ],
             [
              0.7777777777777778,
              "#fb9f3a"
             ],
             [
              0.8888888888888888,
              "#fdca26"
             ],
             [
              1,
              "#f0f921"
             ]
            ],
            "type": "histogram2d"
           }
          ],
          "histogram2dcontour": [
           {
            "colorbar": {
             "outlinewidth": 0,
             "ticks": ""
            },
            "colorscale": [
             [
              0,
              "#0d0887"
             ],
             [
              0.1111111111111111,
              "#46039f"
             ],
             [
              0.2222222222222222,
              "#7201a8"
             ],
             [
              0.3333333333333333,
              "#9c179e"
             ],
             [
              0.4444444444444444,
              "#bd3786"
             ],
             [
              0.5555555555555556,
              "#d8576b"
             ],
             [
              0.6666666666666666,
              "#ed7953"
             ],
             [
              0.7777777777777778,
              "#fb9f3a"
             ],
             [
              0.8888888888888888,
              "#fdca26"
             ],
             [
              1,
              "#f0f921"
             ]
            ],
            "type": "histogram2dcontour"
           }
          ],
          "mesh3d": [
           {
            "colorbar": {
             "outlinewidth": 0,
             "ticks": ""
            },
            "type": "mesh3d"
           }
          ],
          "parcoords": [
           {
            "line": {
             "colorbar": {
              "outlinewidth": 0,
              "ticks": ""
             }
            },
            "type": "parcoords"
           }
          ],
          "pie": [
           {
            "automargin": true,
            "type": "pie"
           }
          ],
          "scatter": [
           {
            "fillpattern": {
             "fillmode": "overlay",
             "size": 10,
             "solidity": 0.2
            },
            "type": "scatter"
           }
          ],
          "scatter3d": [
           {
            "line": {
             "colorbar": {
              "outlinewidth": 0,
              "ticks": ""
             }
            },
            "marker": {
             "colorbar": {
              "outlinewidth": 0,
              "ticks": ""
             }
            },
            "type": "scatter3d"
           }
          ],
          "scattercarpet": [
           {
            "marker": {
             "colorbar": {
              "outlinewidth": 0,
              "ticks": ""
             }
            },
            "type": "scattercarpet"
           }
          ],
          "scattergeo": [
           {
            "marker": {
             "colorbar": {
              "outlinewidth": 0,
              "ticks": ""
             }
            },
            "type": "scattergeo"
           }
          ],
          "scattergl": [
           {
            "marker": {
             "colorbar": {
              "outlinewidth": 0,
              "ticks": ""
             }
            },
            "type": "scattergl"
           }
          ],
          "scattermapbox": [
           {
            "marker": {
             "colorbar": {
              "outlinewidth": 0,
              "ticks": ""
             }
            },
            "type": "scattermapbox"
           }
          ],
          "scatterpolar": [
           {
            "marker": {
             "colorbar": {
              "outlinewidth": 0,
              "ticks": ""
             }
            },
            "type": "scatterpolar"
           }
          ],
          "scatterpolargl": [
           {
            "marker": {
             "colorbar": {
              "outlinewidth": 0,
              "ticks": ""
             }
            },
            "type": "scatterpolargl"
           }
          ],
          "scatterternary": [
           {
            "marker": {
             "colorbar": {
              "outlinewidth": 0,
              "ticks": ""
             }
            },
            "type": "scatterternary"
           }
          ],
          "surface": [
           {
            "colorbar": {
             "outlinewidth": 0,
             "ticks": ""
            },
            "colorscale": [
             [
              0,
              "#0d0887"
             ],
             [
              0.1111111111111111,
              "#46039f"
             ],
             [
              0.2222222222222222,
              "#7201a8"
             ],
             [
              0.3333333333333333,
              "#9c179e"
             ],
             [
              0.4444444444444444,
              "#bd3786"
             ],
             [
              0.5555555555555556,
              "#d8576b"
             ],
             [
              0.6666666666666666,
              "#ed7953"
             ],
             [
              0.7777777777777778,
              "#fb9f3a"
             ],
             [
              0.8888888888888888,
              "#fdca26"
             ],
             [
              1,
              "#f0f921"
             ]
            ],
            "type": "surface"
           }
          ],
          "table": [
           {
            "cells": {
             "fill": {
              "color": "#EBF0F8"
             },
             "line": {
              "color": "white"
             }
            },
            "header": {
             "fill": {
              "color": "#C8D4E3"
             },
             "line": {
              "color": "white"
             }
            },
            "type": "table"
           }
          ]
         },
         "layout": {
          "annotationdefaults": {
           "arrowcolor": "#2a3f5f",
           "arrowhead": 0,
           "arrowwidth": 1
          },
          "autotypenumbers": "strict",
          "coloraxis": {
           "colorbar": {
            "outlinewidth": 0,
            "ticks": ""
           }
          },
          "colorscale": {
           "diverging": [
            [
             0,
             "#8e0152"
            ],
            [
             0.1,
             "#c51b7d"
            ],
            [
             0.2,
             "#de77ae"
            ],
            [
             0.3,
             "#f1b6da"
            ],
            [
             0.4,
             "#fde0ef"
            ],
            [
             0.5,
             "#f7f7f7"
            ],
            [
             0.6,
             "#e6f5d0"
            ],
            [
             0.7,
             "#b8e186"
            ],
            [
             0.8,
             "#7fbc41"
            ],
            [
             0.9,
             "#4d9221"
            ],
            [
             1,
             "#276419"
            ]
           ],
           "sequential": [
            [
             0,
             "#0d0887"
            ],
            [
             0.1111111111111111,
             "#46039f"
            ],
            [
             0.2222222222222222,
             "#7201a8"
            ],
            [
             0.3333333333333333,
             "#9c179e"
            ],
            [
             0.4444444444444444,
             "#bd3786"
            ],
            [
             0.5555555555555556,
             "#d8576b"
            ],
            [
             0.6666666666666666,
             "#ed7953"
            ],
            [
             0.7777777777777778,
             "#fb9f3a"
            ],
            [
             0.8888888888888888,
             "#fdca26"
            ],
            [
             1,
             "#f0f921"
            ]
           ],
           "sequentialminus": [
            [
             0,
             "#0d0887"
            ],
            [
             0.1111111111111111,
             "#46039f"
            ],
            [
             0.2222222222222222,
             "#7201a8"
            ],
            [
             0.3333333333333333,
             "#9c179e"
            ],
            [
             0.4444444444444444,
             "#bd3786"
            ],
            [
             0.5555555555555556,
             "#d8576b"
            ],
            [
             0.6666666666666666,
             "#ed7953"
            ],
            [
             0.7777777777777778,
             "#fb9f3a"
            ],
            [
             0.8888888888888888,
             "#fdca26"
            ],
            [
             1,
             "#f0f921"
            ]
           ]
          },
          "colorway": [
           "#636efa",
           "#EF553B",
           "#00cc96",
           "#ab63fa",
           "#FFA15A",
           "#19d3f3",
           "#FF6692",
           "#B6E880",
           "#FF97FF",
           "#FECB52"
          ],
          "font": {
           "color": "#2a3f5f"
          },
          "geo": {
           "bgcolor": "white",
           "lakecolor": "white",
           "landcolor": "#E5ECF6",
           "showlakes": true,
           "showland": true,
           "subunitcolor": "white"
          },
          "hoverlabel": {
           "align": "left"
          },
          "hovermode": "closest",
          "mapbox": {
           "style": "light"
          },
          "paper_bgcolor": "white",
          "plot_bgcolor": "#E5ECF6",
          "polar": {
           "angularaxis": {
            "gridcolor": "white",
            "linecolor": "white",
            "ticks": ""
           },
           "bgcolor": "#E5ECF6",
           "radialaxis": {
            "gridcolor": "white",
            "linecolor": "white",
            "ticks": ""
           }
          },
          "scene": {
           "xaxis": {
            "backgroundcolor": "#E5ECF6",
            "gridcolor": "white",
            "gridwidth": 2,
            "linecolor": "white",
            "showbackground": true,
            "ticks": "",
            "zerolinecolor": "white"
           },
           "yaxis": {
            "backgroundcolor": "#E5ECF6",
            "gridcolor": "white",
            "gridwidth": 2,
            "linecolor": "white",
            "showbackground": true,
            "ticks": "",
            "zerolinecolor": "white"
           },
           "zaxis": {
            "backgroundcolor": "#E5ECF6",
            "gridcolor": "white",
            "gridwidth": 2,
            "linecolor": "white",
            "showbackground": true,
            "ticks": "",
            "zerolinecolor": "white"
           }
          },
          "shapedefaults": {
           "line": {
            "color": "#2a3f5f"
           }
          },
          "ternary": {
           "aaxis": {
            "gridcolor": "white",
            "linecolor": "white",
            "ticks": ""
           },
           "baxis": {
            "gridcolor": "white",
            "linecolor": "white",
            "ticks": ""
           },
           "bgcolor": "#E5ECF6",
           "caxis": {
            "gridcolor": "white",
            "linecolor": "white",
            "ticks": ""
           }
          },
          "title": {
           "x": 0.05
          },
          "xaxis": {
           "automargin": true,
           "gridcolor": "white",
           "linecolor": "white",
           "ticks": "",
           "title": {
            "standoff": 15
           },
           "zerolinecolor": "white",
           "zerolinewidth": 2
          },
          "yaxis": {
           "automargin": true,
           "gridcolor": "white",
           "linecolor": "white",
           "ticks": "",
           "title": {
            "standoff": 15
           },
           "zerolinecolor": "white",
           "zerolinewidth": 2
          }
         }
        },
        "title": {
         "text": "World Happiness Score by Country"
        },
        "width": 1000
       }
      },
      "text/html": [
       "<div>                            <div id=\"2ac15c3c-985f-4bfe-8d44-c97eb13116bf\" class=\"plotly-graph-div\" style=\"height:600px; width:1000px;\"></div>            <script type=\"text/javascript\">                require([\"plotly\"], function(Plotly) {                    window.PLOTLYENV=window.PLOTLYENV || {};                                    if (document.getElementById(\"2ac15c3c-985f-4bfe-8d44-c97eb13116bf\")) {                    Plotly.newPlot(                        \"2ac15c3c-985f-4bfe-8d44-c97eb13116bf\",                        [{\"coloraxis\":\"coloraxis\",\"geo\":\"geo\",\"hovertemplate\":\"Country name=%{location}\\u003cbr\\u003eLadder score=%{z}\\u003cextra\\u003e\\u003c\\u002fextra\\u003e\",\"locationmode\":\"country names\",\"locations\":[\"Finland\",\"Denmark\",\"Iceland\",\"Sweden\",\"Israel\",\"Netherlands\",\"Norway\",\"Luxembourg\",\"Switzerland\",\"Australia\",\"New Zealand\",\"Costa Rica\",\"Kuwait\",\"Austria\",\"Canada\",\"Belgium\",\"Ireland\",\"Czechia\",\"Lithuania\",\"United Kingdom\",\"Slovenia\",\"United Arab Emirates\",\"United States\",\"Germany\",\"Mexico\",\"Uruguay\",\"France\",\"Saudi Arabia\",\"Kosovo\",\"Singapore\",\"Taiwan Province of China\",\"Romania\",\"El Salvador\",\"Estonia\",\"Poland\",\"Spain\",\"Serbia\",\"Chile\",\"Panama\",\"Malta\",\"Italy\",\"Guatemala\",\"Nicaragua\",\"Brazil\",\"Slovakia\",\"Latvia\",\"Uzbekistan\",\"Argentina\",\"Kazakhstan\",\"Cyprus\",\"Japan\",\"South Korea\",\"Philippines\",\"Vietnam\",\"Portugal\",\"Hungary\",\"Paraguay\",\"Thailand\",\"Malaysia\",\"China\",\"Honduras\",\"Bahrain\",\"Croatia\",\"Greece\",\"Bosnia and Herzegovina\",\"Libya\",\"Jamaica\",\"Peru\",\"Dominican Republic\",\"Mauritius\",\"Moldova\",\"Russia\",\"Bolivia\",\"Ecuador\",\"Kyrgyzstan\",\"Montenegro\",\"Mongolia\",\"Colombia\",\"Venezuela\",\"Indonesia\",\"Bulgaria\",\"Armenia\",\"South Africa\",\"North Macedonia\",\"Algeria\",\"Hong Kong S.A.R. of China\",\"Albania\",\"Tajikistan\",\"Congo (Brazzaville)\",\"Mozambique\",\"Georgia\",\"Iraq\",\"Nepal\",\"Laos\",\"Gabon\",\"Ivory Coast\",\"Guinea\",\"Turkiye\",\"Senegal\",\"Iran\",\"Azerbaijan\",\"Nigeria\",\"State of Palestine\",\"Cameroon\",\"Ukraine\",\"Namibia\",\"Morocco\",\"Pakistan\",\"Niger\",\"Burkina Faso\",\"Mauritania\",\"Gambia\",\"Chad\",\"Kenya\",\"Tunisia\",\"Benin\",\"Uganda\",\"Myanmar\",\"Cambodia\",\"Ghana\",\"Liberia\",\"Mali\",\"Madagascar\",\"Togo\",\"Jordan\",\"India\",\"Egypt\",\"Sri Lanka\",\"Bangladesh\",\"Ethiopia\",\"Tanzania\",\"Comoros\",\"Yemen\",\"Zambia\",\"Eswatini\",\"Malawi\",\"Botswana\",\"Zimbabwe\",\"Congo (Kinshasa)\",\"Sierra Leone\",\"Lesotho\",\"Lebanon\",\"Afghanistan\"],\"name\":\"\",\"z\":[7.741,7.583,7.525,7.344,7.341,7.319,7.302,7.122,7.06,7.057,7.029,6.955,6.951,6.905,6.9,6.894,6.838,6.822,6.818,6.749,6.743,6.733,6.725,6.719,6.678,6.611,6.609,6.594,6.561,6.523,6.503,6.491,6.469,6.448,6.442,6.421,6.411,6.36,6.358,6.346,6.324,6.287,6.284,6.272,6.257,6.234,6.195,6.188,6.188,6.068,6.06,6.058,6.048,6.043,6.03,6.017,5.977,5.976,5.975,5.973,5.968,5.959,5.942,5.934,5.877,5.866,5.842,5.841,5.823,5.816,5.816,5.785,5.784,5.725,5.714,5.707,5.696,5.695,5.607,5.568,5.463,5.455,5.422,5.369,5.364,5.316,5.304,5.281,5.221,5.216,5.185,5.166,5.158,5.139,5.106,5.08,5.023,4.975,4.969,4.923,4.893,4.881,4.879,4.874,4.873,4.832,4.795,4.657,4.556,4.548,4.505,4.485,4.471,4.47,4.422,4.377,4.372,4.354,4.341,4.289,4.269,4.232,4.228,4.214,4.186,4.054,3.977,3.898,3.886,3.861,3.781,3.566,3.561,3.502,3.502,3.421,3.383,3.341,3.295,3.245,3.186,2.707,1.721],\"type\":\"choropleth\"}],                        {\"template\":{\"data\":{\"histogram2dcontour\":[{\"type\":\"histogram2dcontour\",\"colorbar\":{\"outlinewidth\":0,\"ticks\":\"\"},\"colorscale\":[[0.0,\"#0d0887\"],[0.1111111111111111,\"#46039f\"],[0.2222222222222222,\"#7201a8\"],[0.3333333333333333,\"#9c179e\"],[0.4444444444444444,\"#bd3786\"],[0.5555555555555556,\"#d8576b\"],[0.6666666666666666,\"#ed7953\"],[0.7777777777777778,\"#fb9f3a\"],[0.8888888888888888,\"#fdca26\"],[1.0,\"#f0f921\"]]}],\"choropleth\":[{\"type\":\"choropleth\",\"colorbar\":{\"outlinewidth\":0,\"ticks\":\"\"}}],\"histogram2d\":[{\"type\":\"histogram2d\",\"colorbar\":{\"outlinewidth\":0,\"ticks\":\"\"},\"colorscale\":[[0.0,\"#0d0887\"],[0.1111111111111111,\"#46039f\"],[0.2222222222222222,\"#7201a8\"],[0.3333333333333333,\"#9c179e\"],[0.4444444444444444,\"#bd3786\"],[0.5555555555555556,\"#d8576b\"],[0.6666666666666666,\"#ed7953\"],[0.7777777777777778,\"#fb9f3a\"],[0.8888888888888888,\"#fdca26\"],[1.0,\"#f0f921\"]]}],\"heatmap\":[{\"type\":\"heatmap\",\"colorbar\":{\"outlinewidth\":0,\"ticks\":\"\"},\"colorscale\":[[0.0,\"#0d0887\"],[0.1111111111111111,\"#46039f\"],[0.2222222222222222,\"#7201a8\"],[0.3333333333333333,\"#9c179e\"],[0.4444444444444444,\"#bd3786\"],[0.5555555555555556,\"#d8576b\"],[0.6666666666666666,\"#ed7953\"],[0.7777777777777778,\"#fb9f3a\"],[0.8888888888888888,\"#fdca26\"],[1.0,\"#f0f921\"]]}],\"heatmapgl\":[{\"type\":\"heatmapgl\",\"colorbar\":{\"outlinewidth\":0,\"ticks\":\"\"},\"colorscale\":[[0.0,\"#0d0887\"],[0.1111111111111111,\"#46039f\"],[0.2222222222222222,\"#7201a8\"],[0.3333333333333333,\"#9c179e\"],[0.4444444444444444,\"#bd3786\"],[0.5555555555555556,\"#d8576b\"],[0.6666666666666666,\"#ed7953\"],[0.7777777777777778,\"#fb9f3a\"],[0.8888888888888888,\"#fdca26\"],[1.0,\"#f0f921\"]]}],\"contourcarpet\":[{\"type\":\"contourcarpet\",\"colorbar\":{\"outlinewidth\":0,\"ticks\":\"\"}}],\"contour\":[{\"type\":\"contour\",\"colorbar\":{\"outlinewidth\":0,\"ticks\":\"\"},\"colorscale\":[[0.0,\"#0d0887\"],[0.1111111111111111,\"#46039f\"],[0.2222222222222222,\"#7201a8\"],[0.3333333333333333,\"#9c179e\"],[0.4444444444444444,\"#bd3786\"],[0.5555555555555556,\"#d8576b\"],[0.6666666666666666,\"#ed7953\"],[0.7777777777777778,\"#fb9f3a\"],[0.8888888888888888,\"#fdca26\"],[1.0,\"#f0f921\"]]}],\"surface\":[{\"type\":\"surface\",\"colorbar\":{\"outlinewidth\":0,\"ticks\":\"\"},\"colorscale\":[[0.0,\"#0d0887\"],[0.1111111111111111,\"#46039f\"],[0.2222222222222222,\"#7201a8\"],[0.3333333333333333,\"#9c179e\"],[0.4444444444444444,\"#bd3786\"],[0.5555555555555556,\"#d8576b\"],[0.6666666666666666,\"#ed7953\"],[0.7777777777777778,\"#fb9f3a\"],[0.8888888888888888,\"#fdca26\"],[1.0,\"#f0f921\"]]}],\"mesh3d\":[{\"type\":\"mesh3d\",\"colorbar\":{\"outlinewidth\":0,\"ticks\":\"\"}}],\"scatter\":[{\"fillpattern\":{\"fillmode\":\"overlay\",\"size\":10,\"solidity\":0.2},\"type\":\"scatter\"}],\"parcoords\":[{\"type\":\"parcoords\",\"line\":{\"colorbar\":{\"outlinewidth\":0,\"ticks\":\"\"}}}],\"scatterpolargl\":[{\"type\":\"scatterpolargl\",\"marker\":{\"colorbar\":{\"outlinewidth\":0,\"ticks\":\"\"}}}],\"bar\":[{\"error_x\":{\"color\":\"#2a3f5f\"},\"error_y\":{\"color\":\"#2a3f5f\"},\"marker\":{\"line\":{\"color\":\"#E5ECF6\",\"width\":0.5},\"pattern\":{\"fillmode\":\"overlay\",\"size\":10,\"solidity\":0.2}},\"type\":\"bar\"}],\"scattergeo\":[{\"type\":\"scattergeo\",\"marker\":{\"colorbar\":{\"outlinewidth\":0,\"ticks\":\"\"}}}],\"scatterpolar\":[{\"type\":\"scatterpolar\",\"marker\":{\"colorbar\":{\"outlinewidth\":0,\"ticks\":\"\"}}}],\"histogram\":[{\"marker\":{\"pattern\":{\"fillmode\":\"overlay\",\"size\":10,\"solidity\":0.2}},\"type\":\"histogram\"}],\"scattergl\":[{\"type\":\"scattergl\",\"marker\":{\"colorbar\":{\"outlinewidth\":0,\"ticks\":\"\"}}}],\"scatter3d\":[{\"type\":\"scatter3d\",\"line\":{\"colorbar\":{\"outlinewidth\":0,\"ticks\":\"\"}},\"marker\":{\"colorbar\":{\"outlinewidth\":0,\"ticks\":\"\"}}}],\"scattermapbox\":[{\"type\":\"scattermapbox\",\"marker\":{\"colorbar\":{\"outlinewidth\":0,\"ticks\":\"\"}}}],\"scatterternary\":[{\"type\":\"scatterternary\",\"marker\":{\"colorbar\":{\"outlinewidth\":0,\"ticks\":\"\"}}}],\"scattercarpet\":[{\"type\":\"scattercarpet\",\"marker\":{\"colorbar\":{\"outlinewidth\":0,\"ticks\":\"\"}}}],\"carpet\":[{\"aaxis\":{\"endlinecolor\":\"#2a3f5f\",\"gridcolor\":\"white\",\"linecolor\":\"white\",\"minorgridcolor\":\"white\",\"startlinecolor\":\"#2a3f5f\"},\"baxis\":{\"endlinecolor\":\"#2a3f5f\",\"gridcolor\":\"white\",\"linecolor\":\"white\",\"minorgridcolor\":\"white\",\"startlinecolor\":\"#2a3f5f\"},\"type\":\"carpet\"}],\"table\":[{\"cells\":{\"fill\":{\"color\":\"#EBF0F8\"},\"line\":{\"color\":\"white\"}},\"header\":{\"fill\":{\"color\":\"#C8D4E3\"},\"line\":{\"color\":\"white\"}},\"type\":\"table\"}],\"barpolar\":[{\"marker\":{\"line\":{\"color\":\"#E5ECF6\",\"width\":0.5},\"pattern\":{\"fillmode\":\"overlay\",\"size\":10,\"solidity\":0.2}},\"type\":\"barpolar\"}],\"pie\":[{\"automargin\":true,\"type\":\"pie\"}]},\"layout\":{\"autotypenumbers\":\"strict\",\"colorway\":[\"#636efa\",\"#EF553B\",\"#00cc96\",\"#ab63fa\",\"#FFA15A\",\"#19d3f3\",\"#FF6692\",\"#B6E880\",\"#FF97FF\",\"#FECB52\"],\"font\":{\"color\":\"#2a3f5f\"},\"hovermode\":\"closest\",\"hoverlabel\":{\"align\":\"left\"},\"paper_bgcolor\":\"white\",\"plot_bgcolor\":\"#E5ECF6\",\"polar\":{\"bgcolor\":\"#E5ECF6\",\"angularaxis\":{\"gridcolor\":\"white\",\"linecolor\":\"white\",\"ticks\":\"\"},\"radialaxis\":{\"gridcolor\":\"white\",\"linecolor\":\"white\",\"ticks\":\"\"}},\"ternary\":{\"bgcolor\":\"#E5ECF6\",\"aaxis\":{\"gridcolor\":\"white\",\"linecolor\":\"white\",\"ticks\":\"\"},\"baxis\":{\"gridcolor\":\"white\",\"linecolor\":\"white\",\"ticks\":\"\"},\"caxis\":{\"gridcolor\":\"white\",\"linecolor\":\"white\",\"ticks\":\"\"}},\"coloraxis\":{\"colorbar\":{\"outlinewidth\":0,\"ticks\":\"\"}},\"colorscale\":{\"sequential\":[[0.0,\"#0d0887\"],[0.1111111111111111,\"#46039f\"],[0.2222222222222222,\"#7201a8\"],[0.3333333333333333,\"#9c179e\"],[0.4444444444444444,\"#bd3786\"],[0.5555555555555556,\"#d8576b\"],[0.6666666666666666,\"#ed7953\"],[0.7777777777777778,\"#fb9f3a\"],[0.8888888888888888,\"#fdca26\"],[1.0,\"#f0f921\"]],\"sequentialminus\":[[0.0,\"#0d0887\"],[0.1111111111111111,\"#46039f\"],[0.2222222222222222,\"#7201a8\"],[0.3333333333333333,\"#9c179e\"],[0.4444444444444444,\"#bd3786\"],[0.5555555555555556,\"#d8576b\"],[0.6666666666666666,\"#ed7953\"],[0.7777777777777778,\"#fb9f3a\"],[0.8888888888888888,\"#fdca26\"],[1.0,\"#f0f921\"]],\"diverging\":[[0,\"#8e0152\"],[0.1,\"#c51b7d\"],[0.2,\"#de77ae\"],[0.3,\"#f1b6da\"],[0.4,\"#fde0ef\"],[0.5,\"#f7f7f7\"],[0.6,\"#e6f5d0\"],[0.7,\"#b8e186\"],[0.8,\"#7fbc41\"],[0.9,\"#4d9221\"],[1,\"#276419\"]]},\"xaxis\":{\"gridcolor\":\"white\",\"linecolor\":\"white\",\"ticks\":\"\",\"title\":{\"standoff\":15},\"zerolinecolor\":\"white\",\"automargin\":true,\"zerolinewidth\":2},\"yaxis\":{\"gridcolor\":\"white\",\"linecolor\":\"white\",\"ticks\":\"\",\"title\":{\"standoff\":15},\"zerolinecolor\":\"white\",\"automargin\":true,\"zerolinewidth\":2},\"scene\":{\"xaxis\":{\"backgroundcolor\":\"#E5ECF6\",\"gridcolor\":\"white\",\"linecolor\":\"white\",\"showbackground\":true,\"ticks\":\"\",\"zerolinecolor\":\"white\",\"gridwidth\":2},\"yaxis\":{\"backgroundcolor\":\"#E5ECF6\",\"gridcolor\":\"white\",\"linecolor\":\"white\",\"showbackground\":true,\"ticks\":\"\",\"zerolinecolor\":\"white\",\"gridwidth\":2},\"zaxis\":{\"backgroundcolor\":\"#E5ECF6\",\"gridcolor\":\"white\",\"linecolor\":\"white\",\"showbackground\":true,\"ticks\":\"\",\"zerolinecolor\":\"white\",\"gridwidth\":2}},\"shapedefaults\":{\"line\":{\"color\":\"#2a3f5f\"}},\"annotationdefaults\":{\"arrowcolor\":\"#2a3f5f\",\"arrowhead\":0,\"arrowwidth\":1},\"geo\":{\"bgcolor\":\"white\",\"landcolor\":\"#E5ECF6\",\"subunitcolor\":\"white\",\"showland\":true,\"showlakes\":true,\"lakecolor\":\"white\"},\"title\":{\"x\":0.05},\"mapbox\":{\"style\":\"light\"}}},\"geo\":{\"domain\":{\"x\":[0.0,1.0],\"y\":[0.0,1.0]},\"center\":{},\"projection\":{\"type\":\"natural earth\"}},\"coloraxis\":{\"colorbar\":{\"title\":{\"text\":\"Ladder score\"}},\"colorscale\":[[0.0,\"#440154\"],[0.1111111111111111,\"#482878\"],[0.2222222222222222,\"#3e4989\"],[0.3333333333333333,\"#31688e\"],[0.4444444444444444,\"#26828e\"],[0.5555555555555556,\"#1f9e89\"],[0.6666666666666666,\"#35b779\"],[0.7777777777777778,\"#6ece58\"],[0.8888888888888888,\"#b5de2b\"],[1.0,\"#fde725\"]]},\"legend\":{\"tracegroupgap\":0},\"title\":{\"text\":\"World Happiness Score by Country\"},\"width\":1000,\"height\":600},                        {\"responsive\": true}                    ).then(function(){\n",
       "                            \n",
       "var gd = document.getElementById('2ac15c3c-985f-4bfe-8d44-c97eb13116bf');\n",
       "var x = new MutationObserver(function (mutations, observer) {{\n",
       "        var display = window.getComputedStyle(gd).display;\n",
       "        if (!display || display === 'none') {{\n",
       "            console.log([gd, 'removed!']);\n",
       "            Plotly.purge(gd);\n",
       "            observer.disconnect();\n",
       "        }}\n",
       "}});\n",
       "\n",
       "// Listen for the removal of the full notebook cells\n",
       "var notebookContainer = gd.closest('#notebook-container');\n",
       "if (notebookContainer) {{\n",
       "    x.observe(notebookContainer, {childList: true});\n",
       "}}\n",
       "\n",
       "// Listen for the clearing of the current output cell\n",
       "var outputEl = gd.closest('.output');\n",
       "if (outputEl) {{\n",
       "    x.observe(outputEl, {childList: true});\n",
       "}}\n",
       "\n",
       "                        })                };                });            </script>        </div>"
      ]
     },
     "metadata": {},
     "output_type": "display_data"
    }
   ],
   "source": [
    "# Alle imports\n",
    "import pandas as pd\n",
    "import plotly.express as px\n",
    "import plotly.graph_objs as go\n",
    "import seaborn as sns\n",
    "import numpy as np\n",
    "import matplotlib.pyplot as plt\n",
    "from plotly.offline import init_notebook_mode\n",
    "init_notebook_mode(connected=True)\n",
    "\n",
    "df1 = pd.read_csv('World-happiness-report-2024.csv')\n",
    "fig = px.choropleth(\n",
    "    df1,\n",
    "    locations='Country name',\n",
    "    locationmode='country names',\n",
    "    color='Ladder score',\n",
    "    color_continuous_scale='Viridis',\n",
    "    title='World Happiness Score by Country'\n",
    ")\n",
    "\n",
    "# Adjust size\n",
    "fig.update_layout(width=1000, height=600)\n",
    "\n",
    "# Adjust projection & zoom\n",
    "fig.update_geos(projection_type='natural earth')\n",
    "\n",
    "fig.show()"
   ]
  },
  {
   "cell_type": "markdown",
   "id": "7d5fce97-8e22-41ee-a19c-6c0f0fb2f08f",
   "metadata": {},
   "source": [
    "## Introductie"
   ]
  },
  {
   "cell_type": "markdown",
   "id": "7cf81853-c237-4df2-8ed4-9deae8423fb0",
   "metadata": {},
   "source": [
    "## Onderwerp\n",
    "\n",
    "Het geluksniveau van mensen wordt beïnvloed door een combinatie van vele factoren. In deze data-analyse onderzoeken we of en hoe weersomstandigheden en klimaatfactoren samenhangen met het gemiddelde geluk van mensen in verschillende landen. \n",
    "\n",
    "Klimaatfactoren kunnen de leefbaarheid van een land beïnvloeden (Peng et al., 2016; Rehdanz & Maddison, 2004; Tsutsui, 2013). Zo kan extreem weer, zoals langdurige kou, hittegolven of hoge neerslag, mogelijk leiden tot meer stress, gezondheidsproblemen of economische schade (Tsutsui, 2013; Rehdanz & Maddison, 2004). Anderzijds zijn er ook landen met minder aangename klimaten waar het geluksniveau toch hoog blijft, vaak dankzij sterke sociale vangnetten en economische stabiliteit.\n",
    "\n",
    "Naast klimatologische factoren spelen ook sociale vangnetten en instituties een belangrijke rol in het verklaren van het geluksniveau in een land. Landen met goed ontwikkelde sociale structuren bieden vaak meer inkomenszekerheid, toegankelijke gezondheidszorg, goed onderwijs en sterke sociale cohesie. Deze factoren helpen burgers om beter om te gaan met tegenslagen, werkloosheid, ziekte of ouderdom, waardoor het algehele welzijn hoger blijft, zelfs bij ongunstige klimaatomstandigheden.\n",
    "\n",
    "Het World Happiness Report benadrukt dat aspecten zoals sociale steun, vrijheid van keuzes, lage corruptieniveaus en sterke instituties sterk bijdragen aan het gemiddelde geluk in landen (Helliwell et al., 2017). Hierdoor kunnen landen met een relatief streng klimaat, zoals Scandinavië, toch hoog scoren op de wereldwijde gelukslijsten.\n",
    "\n",
    "In deze studie proberen we inzicht te krijgen in de relatie tussen klimaat, sociaal-economische factoren en geluk. We baseren ons hierbij onder andere op eerder wetenschappelijk onderzoek dat suggereert dat zowel omgevingsfactoren als maatschappelijke structuren een rol spelen bij het ervaren van geluk.\n",
    "\n",
    "### Weersomstandigheden en klimaatfactoren die we onderzoeken:\n",
    "- Gemiddelde temperatuur\n",
    "- Zonuren \n",
    "- Air quality index\n",
    "- Hoeveelheid natural disasters\n",
    "- Bewolktheid\n",
    "\n",
    "\n",
    "### Sociaal-economische indicatoren die we onderzoeken:\n",
    "- GDP per capita\n",
    "- Sociale steun\n",
    "- Vrijheid\n",
    "- Corruptieperceptie\n",
    "- Gezondheidszorg\n",
    "\n",
    "## Perspectieven en argumenten\n",
    "\n",
    "### Perspectief 1: Klimaat heeft een significante invloed op geluk\n",
    "- **Argument 1.1**: In landen met een stabiel, mild of zonnig klimaat zijn mensen gemiddeld blijer, omdat dergelijke omstandigheden bijdragen aan een prettigere leefomgeving.\n",
    "- **Argument 1.2**: Extreme weersomstandigheden (hittegolven, kou, neerslag) zorgen voor stress en gezondheidsproblemen, wat het geluksniveau verlaagt.\n",
    "\n",
    "### Perspectief 2: Sociaal-economische factoren zijn bepalender voor geluk dan klimaat\n",
    "- **Argument 2.1**: Landen als Zweden, Noorwegen en Finland hebben lange, koude winters, maar behoren tot de gelukkigste landen dankzij sterke sociale vangnetten, gezondheidszorg en welvaart.\n",
    "- **Argument 2.2**: Economische stabiliteit, werkgelegenheid, gezondheidszorg en sociale verbondenheid dragen meer bij aan geluk dan klimaatfactoren.\n",
    "\n",
    "Met behulp van de beschikbare datasets proberen we deze perspectieven te toetsen aan de hand van concrete data en visualisaties."
   ]
  },
  {
   "cell_type": "markdown",
   "id": "d9d4c934-c639-495f-a2bc-ed078e5659c3",
   "metadata": {},
   "source": [
    "## Dataset and Preprocessing"
   ]
  },
  {
   "cell_type": "code",
   "execution_count": 2,
   "id": "63c950c8",
   "metadata": {
    "editable": true,
    "slideshow": {
     "slide_type": ""
    },
    "tags": [
     "hide-input"
    ]
   },
   "outputs": [
    {
     "data": {
      "text/html": [
       "        <script type=\"text/javascript\">\n",
       "        window.PlotlyConfig = {MathJaxConfig: 'local'};\n",
       "        if (window.MathJax && window.MathJax.Hub && window.MathJax.Hub.Config) {window.MathJax.Hub.Config({SVG: {font: \"STIX-Web\"}});}\n",
       "        if (typeof require !== 'undefined') {\n",
       "        require.undef(\"plotly\");\n",
       "        requirejs.config({\n",
       "            paths: {\n",
       "                'plotly': ['https://cdn.plot.ly/plotly-2.35.2.min']\n",
       "            }\n",
       "        });\n",
       "        require(['plotly'], function(Plotly) {\n",
       "            window._Plotly = Plotly;\n",
       "        });\n",
       "        }\n",
       "        </script>\n",
       "        "
      ]
     },
     "metadata": {},
     "output_type": "display_data"
    }
   ],
   "source": [
    "# Alle imports\n",
    "import pandas as pd\n",
    "import plotly.express as px\n",
    "import plotly.graph_objs as go\n",
    "import seaborn as sns\n",
    "import numpy as np\n",
    "from plotly.offline import init_notebook_mode\n",
    "init_notebook_mode(connected=True)\n",
    "\n",
    "# Datasets importen\n",
    "# df1 is al geimporteerd.\n",
    "df2 = pd.read_csv('GlobalWeatherRepository.csv')     # Main weather dataset, https://www.kaggle.com/datasets/nelgiriyewithana/global-weather-repository\n",
    "df3 = pd.read_csv('update_temperature.csv')          # Deze bevat ook de variabele voor natuurrampen, https://www.kaggle.com/datasets/adilshamim8/temperature\n",
    "\n",
    "df2['last_updated'] = pd.to_datetime(df2['last_updated'])\n",
    "df22024 = df2[df2['last_updated'].dt.year == 2024]  # Zo is de tabel gefilterd op values uit 2024\n",
    "\n",
    "def mode(series):\n",
    "    return series.mode().iloc[0] if not series.mode().empty else np.nan   # Vanwege een error met de mode krijgen van series\n",
    "    \n",
    "df2w = df22024.groupby('country').agg({\n",
    "    'location_name': mode,\n",
    "    'temperature_celsius' : 'mean',\n",
    "    'feels_like_celsius' : 'mean',\n",
    "    'cloud': 'mean',\n",
    "    'wind_kph' : 'mean',\n",
    "    'sunrise': mode,                      # dit gaan we ook nog veranderen naar een column voor de hoeveelheid uren daglicht. Kijk dus niet naar \n",
    "    'sunset' : mode,                      # deze column maar naar de Sunlight hours column. Kan zijn dat r misschien problemen komen met negatieve waarden btw.\n",
    "    'air_quality_Carbon_Monoxide' : 'mean',\n",
    "    'air_quality_Ozone' : 'mean',\n",
    "    'air_quality_Nitrogen_dioxide' : 'mean',\n",
    "    'air_quality_Sulphur_dioxide' : 'mean',\n",
    "    'air_quality_PM2.5' : 'mean',\n",
    "    'air_quality_PM10' : 'mean',\n",
    "    'air_quality_gb-defra-index' : 'mean',         # Nog niet finalized, we gebruiken waarschijnlijk andere variabelen voor air quality, ff kijken wekle\n",
    "    'air_quality_us-epa-index' : 'mean'\n",
    "}).reset_index()\n",
    "\n",
    "df2w['sunrise'] = pd.to_datetime(df2w['sunrise'], format='%I:%M %p')\n",
    "df2w['sunset'] = pd.to_datetime(df2w['sunset'], format='%I:%M %p')\n",
    "df2w['Sunlight hours'] = ((df2w['sunset'] - df2w['sunrise']).dt.total_seconds() / 3600).round(2)\n",
    "\n",
    "df32024 = df3[df3['Year'] == 2024].copy()         # .copy() want anders verschijnt een warning, \n",
    "df32024.rename(columns={'Country' : 'country'}, inplace=True)\n",
    "df32024grouped = df32024.groupby('country', as_index=False).mean(numeric_only=True) # Er waren issues met duplicate instances per land\n",
    "df23 = df2w.merge(df32024[['country', 'Extreme_Weather_Events']], on='country', how='left')  # merge van df2 en df3\n",
    "\n",
    "df1filter = df1[['Country name', 'Ladder score', 'Log GDP per capita',                           # df1 filteren op wat we willen gebruiken\n",
    "                 'Social support', 'Healthy life expectancy', 'Freedom to make life choices', \n",
    "                 'Generosity', 'Perceptions of corruption', 'Dystopia + residual']].copy()\n",
    "\n",
    "df1filter.rename(columns={'Country name' : 'country'}, inplace= True)\n",
    "df123 = df23.merge(df1filter, on='country', how='left')   # De tabel! We kunnen nog ff kiezen welke waarden wel/niet nodig zijn."
   ]
  },
  {
   "cell_type": "markdown",
   "id": "850c1744-f4cc-4cc1-b0a7-9207c75837d8",
   "metadata": {},
   "source": [
    "Het bedenken van een concreet onderwerp en het vinden van bruikbare datasets had wat overlap bij ons. Op Kaggle hadden we een dataset gevonden over het geluk van mensen wereldwijd. Deze dataset was goed bruikbaar en zowel gefilterd op land als op jaar, waardoor andere datasets die we konden gebruiken dus ook aan die eisen moesten voldoen. Na nog langer zoeken op Kaggle, vonden we twee andere datasets die ook gefilterd konden worden op land en jaartal. Deze datasets hadden allebei te maken met het klimaat en weersomstandigheden, een van de onderwerpen die we overwogen om als datastory onderwerp te nemen.\n",
    "\n",
    "### Dataset 1: World Happiness Report- 2024\n",
    "\n",
    "URL: https://www.kaggle.com/datasets/jainaru/world-happiness-report-2024-yearly-updated ('World-happiness-report-2024.csv')\n",
    "\n",
    "**Uitleg over de dataset:**     \n",
    "Het World Happiness Report is een jaarlijks rapport dat gegevens bevat over de gemiddelde gelukkigheid van mensen in, in het geval van het jaar 2024, 143 verschillende landen (Helliwell et al., 2024). Het rapport wordt opgesteld op basis van de gegevens uit een globale survey en wordt gepubliceerd in samenwerking met de University of Oxford's Wellbeing Research Centre, het Sustainable Development Solutions Network en Gallup (World Happiness Report - Sustainable Development Solutions Network, 2025)\n",
    "\n",
    "**Variabelen**\n",
    "\n",
    "De World Happiness Report dataset bevat 12 variabelen:\n",
    "\n",
    "- Nominal (discrete): `Country name`, `Regional indicator`\n",
    "- Ratio (continuous):`Ladder score`, `upperwhisker`, `lowerwhisker`, `Log GDP per capita`, `Social support`, `Healthy life expectancy`, `Freedom to make life choices`, `Generosity`, `Perceptions of corruption`, `Dystopia + residual`\n",
    "\n",
    "### Dataset 2: World Weather Repository (Daily Updating)\n",
    "\n",
    "URL: https://www.kaggle.com/datasets/nelgiriyewithana/global-weather-repository ('GlobalWeatherRepository.csv')\n",
    "\n",
    "**Uitleg over de dataset:**    \n",
    "De World Weather Repository dataset is een dataset met gegevens over het dagelijkse weer en het klimaat in de hoofdsteden van 210 verschillende landen (Elgiriyewithana, 2025). De dataset is gecreëerd op 29-8-2023 en er worden dagelijks nieuwe gegevens aan toegevoegd (5). Voor dit onderzoek wordt er alleen gekeken naar de gegevens uit 2024.\n",
    "\n",
    "**Variabelen**\n",
    "\n",
    "De World Weather Repository dataset bevat 41 variabelen:\n",
    "\n",
    "- Nominal (discrete): `country`, `location_name`, `timezone`, `condition_text`, `wind_direction`, `moon_phase`\n",
    "- Ordinal (discrete): `uv_index`, `air_quality_us-epa-index`, `air_quality_gb-defra-index`\n",
    "- Interval (discrete): `last_updated_epoch`, `last_updated`,  `sunrise`, `sunset`, `moonrise`, `moonset`\n",
    "- Interval (continuous): `temperature_celsius`, `temperature_fahrenheit`, `feels_like_celsius`, `feels_like_fahrenheit`\n",
    "- Ratio (continuous): `latitude`, `longitude`, `wind_mph`, `wind_kph`, `wind_degree`,  `pressure_mb`, `pressure_in`, `precip_mm`, `precip_in`, `humidity`, `cloud`, `visibility_km`, `visibility_miles`, `gust_mph`, `gust_kph`, `air_quality_Carbon_Monoxide`, `air_quality_Ozone`, `air_quality_Nitrogen_dioxide`, `air_quality_Sulphur_dioxide`, `air_quality_PM2.5`, `air_quality_PM10`, `moon_illumination`\n",
    "\n",
    "### Dataset 3: Global Environmental Trends 2000-2024\n",
    "\n",
    "URL: https://www.kaggle.com/datasets/adilshamim8/temperature ('update_temperature.csv')\n",
    "\n",
    "**Uitleg over de dataset:**    \n",
    "De Global Environmental Trends dataset bevat ook gegevens over het weer en het klimaat in verschillende landen (Shamim, 2025). Deze dataset bevat minder variabelen en landen dan de World Weather Repository dataset, maar bevat wel een variabele die mogelijk nuttig is voor dit onderzoek, namelijk extreme weersomstandigheden (Elgiriyewithana, 2025; Shamim, 2025).\n",
    "\n",
    "**Variabelen**\n",
    "\n",
    "De Global Environmental Trends dataset bevat 10 variabelen:\n",
    "\n",
    "- Nominal (discrete): `Country`\n",
    "- Interval (discrete): `Year`\n",
    "- Interval (continuous): `Avg_Temperature_degC`\n",
    "- Ratio (discrete):  `Population`, `Extreme_Weather_Events`\n",
    "- Ratio (continuous):  `CO2_Emission_tons_per_capita`, `Sea_level_Rise_mm`, `Rainfall_mm`, `Renewable_Energy_pct`, `Forest_Area_pct`\n",
    "\n",
    "### Terugkoppeling naar het onderzoek\n",
    "\n",
    "Om meer inzicht te krijgen in de mogelijke relatie tussen het klimaat, socio-economische factoren en geluk, moeten de factoren en indicatoren die genoemd zijn in de introductie worden geanalyseerd. Per factor staat hieronder aangegeven welke variabele(n) hiervoor nodig zijn:\n",
    "\n",
    "### Weersomstandigheden en klimaatfactoren die we onderzoeken:\n",
    "- Gemiddelde temperatuur: `temperature_celsius` of `feels_like_celsius` uit dataset 2.\n",
    "- Zonuren: `sunrise` en `sunset` uit dataset 2. \n",
    "- Air quality index: `nog ff kijken welke van de air qualities we willen` uit dataset 2.\n",
    "- Hoeveelheid natural disasters: `Extreme_Weather_Events` uit dataset 3.\n",
    "- Bewolktheid: `cloud` uit dataset 2.\n",
    "\n",
    "### Sociaal-economische indicatoren die we onderzoeken:\n",
    "- GDP per capita: `Log GDP per capita` uit dataset 1.\n",
    "- Sociale steun: `Social support` uit dataset 1.\n",
    "- Vrijheid: `Freedom to make life choices` uit dataset 1.\n",
    "- Corruptieperceptie: `Perceptions of corruption` uit dataset 1.\n",
    "- Gezondheidszorg: `Healthy life expectancy` uit dataset 1.\n",
    "\n",
    "### Preprocessing van de data\n",
    "\n",
    "De raw data uit de drie datasets was niet gelijk bruikbaar voor de visualisaties en correlaties die met dit onderzoek aangetoond moeten worden. Daardoor moest er wat preprocessing plaatsvinden, om de raw data te transformeren naar een bruikbare DataFrame in Pandas.  \n",
    "\n",
    "Allereerst is de World Weather Repository (df2) dataset gepreprocessed. Deze dataset bevat namelijk het grootste aantal gegevens die nodig zijn voor de visualisaties. Dataset df2 is allereerst gefilterd op het jaar 2024, aangezien dit onderzoek gefocust is op gegevens uit 2024. Vervolgens is de dataset geaggregeerd zodat het de variabelen bevat die nodig zijn voor het onderzoek, aangezien er erg veel instances zijn. De dataset bevat namelijk veel verschillende momentopnames per land, dus de instances moesten allemaal gecombineerd en gecategoriseerd worden per land. Bij de meeste columns kon het gemiddelde van de column worden gebruikt om de waardes te berekenen. Ook konden de columns ‘sunrise’ en ‘sunset’ gecombineerd worden tot een column met de hoeveelheid uren aan zonlicht. Deze twee variabelen zijn allereerst aangepast met een `pd.to_datetime` zodat er met de waardes kon worden gerekend. Vervolgens is de waarde van `sunrise` afgetrokken van `sunset` en is de uitkomst omgezet in uren, afgerond op minuten.\n"
   ]
  },
  {
   "cell_type": "code",
   "execution_count": 3,
   "id": "a6bd3423-381d-4ff2-b237-f3143fc6c985",
   "metadata": {
    "editable": true,
    "slideshow": {
     "slide_type": ""
    },
    "tags": [
     "hide-input"
    ]
   },
   "outputs": [
    {
     "data": {
      "text/html": [
       "<div>\n",
       "<style scoped>\n",
       "    .dataframe tbody tr th:only-of-type {\n",
       "        vertical-align: middle;\n",
       "    }\n",
       "\n",
       "    .dataframe tbody tr th {\n",
       "        vertical-align: top;\n",
       "    }\n",
       "\n",
       "    .dataframe thead th {\n",
       "        text-align: right;\n",
       "    }\n",
       "</style>\n",
       "<table border=\"1\" class=\"dataframe\">\n",
       "  <thead>\n",
       "    <tr style=\"text-align: right;\">\n",
       "      <th></th>\n",
       "      <th>country</th>\n",
       "      <th>location_name</th>\n",
       "      <th>temperature_celsius</th>\n",
       "      <th>feels_like_celsius</th>\n",
       "      <th>cloud</th>\n",
       "      <th>wind_kph</th>\n",
       "      <th>sunrise</th>\n",
       "      <th>sunset</th>\n",
       "      <th>air_quality_Carbon_Monoxide</th>\n",
       "      <th>air_quality_Ozone</th>\n",
       "      <th>air_quality_Nitrogen_dioxide</th>\n",
       "      <th>air_quality_Sulphur_dioxide</th>\n",
       "      <th>air_quality_PM2.5</th>\n",
       "      <th>air_quality_PM10</th>\n",
       "      <th>air_quality_gb-defra-index</th>\n",
       "      <th>air_quality_us-epa-index</th>\n",
       "      <th>Sunlight hours</th>\n",
       "    </tr>\n",
       "  </thead>\n",
       "  <tbody>\n",
       "    <tr>\n",
       "      <th>0</th>\n",
       "      <td>Afghanistan</td>\n",
       "      <td>Kabul</td>\n",
       "      <td>22.696943</td>\n",
       "      <td>21.810044</td>\n",
       "      <td>16.419214</td>\n",
       "      <td>12.113974</td>\n",
       "      <td>1900-01-01 04:40:00</td>\n",
       "      <td>1900-01-01 19:10:00</td>\n",
       "      <td>774.743013</td>\n",
       "      <td>107.629258</td>\n",
       "      <td>7.655328</td>\n",
       "      <td>7.974389</td>\n",
       "      <td>14.860000</td>\n",
       "      <td>28.745873</td>\n",
       "      <td>1.772926</td>\n",
       "      <td>1.388646</td>\n",
       "      <td>14.50</td>\n",
       "    </tr>\n",
       "    <tr>\n",
       "      <th>1</th>\n",
       "      <td>Albania</td>\n",
       "      <td>Tirana</td>\n",
       "      <td>25.022271</td>\n",
       "      <td>25.559389</td>\n",
       "      <td>26.205240</td>\n",
       "      <td>11.429694</td>\n",
       "      <td>1900-01-01 05:07:00</td>\n",
       "      <td>1900-01-01 16:11:00</td>\n",
       "      <td>257.638646</td>\n",
       "      <td>83.346288</td>\n",
       "      <td>10.230000</td>\n",
       "      <td>4.604236</td>\n",
       "      <td>13.593777</td>\n",
       "      <td>18.724323</td>\n",
       "      <td>1.672489</td>\n",
       "      <td>1.349345</td>\n",
       "      <td>11.07</td>\n",
       "    </tr>\n",
       "    <tr>\n",
       "      <th>2</th>\n",
       "      <td>Algeria</td>\n",
       "      <td>Algiers</td>\n",
       "      <td>25.154386</td>\n",
       "      <td>26.760526</td>\n",
       "      <td>28.048246</td>\n",
       "      <td>15.312719</td>\n",
       "      <td>1900-01-01 05:29:00</td>\n",
       "      <td>1900-01-01 17:32:00</td>\n",
       "      <td>307.305263</td>\n",
       "      <td>88.343860</td>\n",
       "      <td>30.107917</td>\n",
       "      <td>12.673136</td>\n",
       "      <td>18.584364</td>\n",
       "      <td>35.214364</td>\n",
       "      <td>2.122807</td>\n",
       "      <td>1.574561</td>\n",
       "      <td>12.05</td>\n",
       "    </tr>\n",
       "    <tr>\n",
       "      <th>3</th>\n",
       "      <td>Andorra</td>\n",
       "      <td>Andorra La Vella</td>\n",
       "      <td>14.105677</td>\n",
       "      <td>13.451528</td>\n",
       "      <td>44.209607</td>\n",
       "      <td>9.516594</td>\n",
       "      <td>1900-01-01 06:16:00</td>\n",
       "      <td>1900-01-01 17:21:00</td>\n",
       "      <td>177.131659</td>\n",
       "      <td>64.942358</td>\n",
       "      <td>0.616790</td>\n",
       "      <td>0.162074</td>\n",
       "      <td>3.729760</td>\n",
       "      <td>7.693100</td>\n",
       "      <td>1.048035</td>\n",
       "      <td>1.030568</td>\n",
       "      <td>11.08</td>\n",
       "    </tr>\n",
       "    <tr>\n",
       "      <th>4</th>\n",
       "      <td>Angola</td>\n",
       "      <td>Luanda</td>\n",
       "      <td>26.335808</td>\n",
       "      <td>29.028384</td>\n",
       "      <td>49.633188</td>\n",
       "      <td>13.153712</td>\n",
       "      <td>1900-01-01 06:23:00</td>\n",
       "      <td>1900-01-01 18:02:00</td>\n",
       "      <td>690.936900</td>\n",
       "      <td>117.070306</td>\n",
       "      <td>9.025524</td>\n",
       "      <td>8.001550</td>\n",
       "      <td>47.178341</td>\n",
       "      <td>82.926769</td>\n",
       "      <td>4.301310</td>\n",
       "      <td>2.484716</td>\n",
       "      <td>11.65</td>\n",
       "    </tr>\n",
       "  </tbody>\n",
       "</table>\n",
       "</div>"
      ],
      "text/plain": [
       "       country     location_name  temperature_celsius  feels_like_celsius  \\\n",
       "0  Afghanistan             Kabul            22.696943           21.810044   \n",
       "1      Albania            Tirana            25.022271           25.559389   \n",
       "2      Algeria           Algiers            25.154386           26.760526   \n",
       "3      Andorra  Andorra La Vella            14.105677           13.451528   \n",
       "4       Angola            Luanda            26.335808           29.028384   \n",
       "\n",
       "       cloud   wind_kph             sunrise              sunset  \\\n",
       "0  16.419214  12.113974 1900-01-01 04:40:00 1900-01-01 19:10:00   \n",
       "1  26.205240  11.429694 1900-01-01 05:07:00 1900-01-01 16:11:00   \n",
       "2  28.048246  15.312719 1900-01-01 05:29:00 1900-01-01 17:32:00   \n",
       "3  44.209607   9.516594 1900-01-01 06:16:00 1900-01-01 17:21:00   \n",
       "4  49.633188  13.153712 1900-01-01 06:23:00 1900-01-01 18:02:00   \n",
       "\n",
       "   air_quality_Carbon_Monoxide  air_quality_Ozone  \\\n",
       "0                   774.743013         107.629258   \n",
       "1                   257.638646          83.346288   \n",
       "2                   307.305263          88.343860   \n",
       "3                   177.131659          64.942358   \n",
       "4                   690.936900         117.070306   \n",
       "\n",
       "   air_quality_Nitrogen_dioxide  air_quality_Sulphur_dioxide  \\\n",
       "0                      7.655328                     7.974389   \n",
       "1                     10.230000                     4.604236   \n",
       "2                     30.107917                    12.673136   \n",
       "3                      0.616790                     0.162074   \n",
       "4                      9.025524                     8.001550   \n",
       "\n",
       "   air_quality_PM2.5  air_quality_PM10  air_quality_gb-defra-index  \\\n",
       "0          14.860000         28.745873                    1.772926   \n",
       "1          13.593777         18.724323                    1.672489   \n",
       "2          18.584364         35.214364                    2.122807   \n",
       "3           3.729760          7.693100                    1.048035   \n",
       "4          47.178341         82.926769                    4.301310   \n",
       "\n",
       "   air_quality_us-epa-index  Sunlight hours  \n",
       "0                  1.388646           14.50  \n",
       "1                  1.349345           11.07  \n",
       "2                  1.574561           12.05  \n",
       "3                  1.030568           11.08  \n",
       "4                  2.484716           11.65  "
      ]
     },
     "execution_count": 3,
     "metadata": {},
     "output_type": "execute_result"
    }
   ],
   "source": [
    "df2w.head(n=5)"
   ]
  },
  {
   "cell_type": "markdown",
   "id": "981260ef-eb39-4ec2-b311-4c476a087f50",
   "metadata": {},
   "source": [
    "> *Figuur x: De eerste 5 rows van df2w: df2 gefilterd op jaar, land en belangrijke variabelen.*"
   ]
  },
  {
   "cell_type": "markdown",
   "id": "7abaeeba-b3f8-4b39-b244-27bb2d318f99",
   "metadata": {},
   "source": [
    "Vervolgens is de Global Environment Trends (df3) dataset gefilterd. Deze dataset was al gefilterd op land, dus moest het alleen nog gefilterd worden op gegevens uit 2024. Ook moest de columns ‘Country’ renamed worden naar ‘country’, zodat een aggregatie plaats kon vinden met df2. Dataset df3 bevat namelijk een column met extreme weersomstandigheden die goed zou passen bij dit onderzoek. Vanwege een probleem met meerdere waarden per country, is het gemiddelde genomen van alle numerieke waarden in df3. Dataset df3 is vervolgens toegevoegd aan dataset df2, waardoor dataset df23 ontstond."
   ]
  },
  {
   "cell_type": "code",
   "execution_count": 4,
   "id": "3c75f73b-1174-4b09-863f-058c0e83b377",
   "metadata": {
    "editable": true,
    "slideshow": {
     "slide_type": ""
    },
    "tags": [
     "hide-input"
    ]
   },
   "outputs": [
    {
     "data": {
      "text/html": [
       "<div>\n",
       "<style scoped>\n",
       "    .dataframe tbody tr th:only-of-type {\n",
       "        vertical-align: middle;\n",
       "    }\n",
       "\n",
       "    .dataframe tbody tr th {\n",
       "        vertical-align: top;\n",
       "    }\n",
       "\n",
       "    .dataframe thead th {\n",
       "        text-align: right;\n",
       "    }\n",
       "</style>\n",
       "<table border=\"1\" class=\"dataframe\">\n",
       "  <thead>\n",
       "    <tr style=\"text-align: right;\">\n",
       "      <th></th>\n",
       "      <th>country</th>\n",
       "      <th>Extreme_Weather_Events</th>\n",
       "    </tr>\n",
       "  </thead>\n",
       "  <tbody>\n",
       "    <tr>\n",
       "      <th>40</th>\n",
       "      <td>United States</td>\n",
       "      <td>64</td>\n",
       "    </tr>\n",
       "    <tr>\n",
       "      <th>41</th>\n",
       "      <td>China</td>\n",
       "      <td>48</td>\n",
       "    </tr>\n",
       "    <tr>\n",
       "      <th>42</th>\n",
       "      <td>Germany</td>\n",
       "      <td>25</td>\n",
       "    </tr>\n",
       "    <tr>\n",
       "      <th>43</th>\n",
       "      <td>Brazil</td>\n",
       "      <td>37</td>\n",
       "    </tr>\n",
       "    <tr>\n",
       "      <th>44</th>\n",
       "      <td>Australia</td>\n",
       "      <td>29</td>\n",
       "    </tr>\n",
       "  </tbody>\n",
       "</table>\n",
       "</div>"
      ],
      "text/plain": [
       "          country  Extreme_Weather_Events\n",
       "40  United States                      64\n",
       "41          China                      48\n",
       "42        Germany                      25\n",
       "43         Brazil                      37\n",
       "44      Australia                      29"
      ]
     },
     "execution_count": 4,
     "metadata": {},
     "output_type": "execute_result"
    }
   ],
   "source": [
    "df32024[['country','Extreme_Weather_Events']].head(n=5)"
   ]
  },
  {
   "cell_type": "markdown",
   "id": "2cb3a851-ae05-40a4-8aab-e6dd49db1ce3",
   "metadata": {},
   "source": [
    "> *Figuur x: De eerste 5 rows van df32024, df3 gefilterd op 2024, en de variabele Extreme_Weather_Events.*"
   ]
  },
  {
   "cell_type": "code",
   "execution_count": 5,
   "id": "09e851bf-1e3d-444e-aea5-66aac8c1827d",
   "metadata": {},
   "outputs": [
    {
     "data": {
      "text/html": [
       "<div>\n",
       "<style scoped>\n",
       "    .dataframe tbody tr th:only-of-type {\n",
       "        vertical-align: middle;\n",
       "    }\n",
       "\n",
       "    .dataframe tbody tr th {\n",
       "        vertical-align: top;\n",
       "    }\n",
       "\n",
       "    .dataframe thead th {\n",
       "        text-align: right;\n",
       "    }\n",
       "</style>\n",
       "<table border=\"1\" class=\"dataframe\">\n",
       "  <thead>\n",
       "    <tr style=\"text-align: right;\">\n",
       "      <th></th>\n",
       "      <th>country</th>\n",
       "      <th>location_name</th>\n",
       "      <th>temperature_celsius</th>\n",
       "      <th>feels_like_celsius</th>\n",
       "      <th>cloud</th>\n",
       "      <th>wind_kph</th>\n",
       "      <th>sunrise</th>\n",
       "      <th>sunset</th>\n",
       "      <th>air_quality_Carbon_Monoxide</th>\n",
       "      <th>air_quality_Ozone</th>\n",
       "      <th>air_quality_Nitrogen_dioxide</th>\n",
       "      <th>air_quality_Sulphur_dioxide</th>\n",
       "      <th>air_quality_PM2.5</th>\n",
       "      <th>air_quality_PM10</th>\n",
       "      <th>air_quality_gb-defra-index</th>\n",
       "      <th>air_quality_us-epa-index</th>\n",
       "      <th>Sunlight hours</th>\n",
       "      <th>Extreme_Weather_Events</th>\n",
       "    </tr>\n",
       "  </thead>\n",
       "  <tbody>\n",
       "    <tr>\n",
       "      <th>0</th>\n",
       "      <td>Afghanistan</td>\n",
       "      <td>Kabul</td>\n",
       "      <td>22.696943</td>\n",
       "      <td>21.810044</td>\n",
       "      <td>16.419214</td>\n",
       "      <td>12.113974</td>\n",
       "      <td>1900-01-01 04:40:00</td>\n",
       "      <td>1900-01-01 19:10:00</td>\n",
       "      <td>774.743013</td>\n",
       "      <td>107.629258</td>\n",
       "      <td>7.655328</td>\n",
       "      <td>7.974389</td>\n",
       "      <td>14.860000</td>\n",
       "      <td>28.745873</td>\n",
       "      <td>1.772926</td>\n",
       "      <td>1.388646</td>\n",
       "      <td>14.50</td>\n",
       "      <td>NaN</td>\n",
       "    </tr>\n",
       "    <tr>\n",
       "      <th>1</th>\n",
       "      <td>Albania</td>\n",
       "      <td>Tirana</td>\n",
       "      <td>25.022271</td>\n",
       "      <td>25.559389</td>\n",
       "      <td>26.205240</td>\n",
       "      <td>11.429694</td>\n",
       "      <td>1900-01-01 05:07:00</td>\n",
       "      <td>1900-01-01 16:11:00</td>\n",
       "      <td>257.638646</td>\n",
       "      <td>83.346288</td>\n",
       "      <td>10.230000</td>\n",
       "      <td>4.604236</td>\n",
       "      <td>13.593777</td>\n",
       "      <td>18.724323</td>\n",
       "      <td>1.672489</td>\n",
       "      <td>1.349345</td>\n",
       "      <td>11.07</td>\n",
       "      <td>NaN</td>\n",
       "    </tr>\n",
       "    <tr>\n",
       "      <th>2</th>\n",
       "      <td>Algeria</td>\n",
       "      <td>Algiers</td>\n",
       "      <td>25.154386</td>\n",
       "      <td>26.760526</td>\n",
       "      <td>28.048246</td>\n",
       "      <td>15.312719</td>\n",
       "      <td>1900-01-01 05:29:00</td>\n",
       "      <td>1900-01-01 17:32:00</td>\n",
       "      <td>307.305263</td>\n",
       "      <td>88.343860</td>\n",
       "      <td>30.107917</td>\n",
       "      <td>12.673136</td>\n",
       "      <td>18.584364</td>\n",
       "      <td>35.214364</td>\n",
       "      <td>2.122807</td>\n",
       "      <td>1.574561</td>\n",
       "      <td>12.05</td>\n",
       "      <td>NaN</td>\n",
       "    </tr>\n",
       "    <tr>\n",
       "      <th>3</th>\n",
       "      <td>Andorra</td>\n",
       "      <td>Andorra La Vella</td>\n",
       "      <td>14.105677</td>\n",
       "      <td>13.451528</td>\n",
       "      <td>44.209607</td>\n",
       "      <td>9.516594</td>\n",
       "      <td>1900-01-01 06:16:00</td>\n",
       "      <td>1900-01-01 17:21:00</td>\n",
       "      <td>177.131659</td>\n",
       "      <td>64.942358</td>\n",
       "      <td>0.616790</td>\n",
       "      <td>0.162074</td>\n",
       "      <td>3.729760</td>\n",
       "      <td>7.693100</td>\n",
       "      <td>1.048035</td>\n",
       "      <td>1.030568</td>\n",
       "      <td>11.08</td>\n",
       "      <td>NaN</td>\n",
       "    </tr>\n",
       "    <tr>\n",
       "      <th>4</th>\n",
       "      <td>Angola</td>\n",
       "      <td>Luanda</td>\n",
       "      <td>26.335808</td>\n",
       "      <td>29.028384</td>\n",
       "      <td>49.633188</td>\n",
       "      <td>13.153712</td>\n",
       "      <td>1900-01-01 06:23:00</td>\n",
       "      <td>1900-01-01 18:02:00</td>\n",
       "      <td>690.936900</td>\n",
       "      <td>117.070306</td>\n",
       "      <td>9.025524</td>\n",
       "      <td>8.001550</td>\n",
       "      <td>47.178341</td>\n",
       "      <td>82.926769</td>\n",
       "      <td>4.301310</td>\n",
       "      <td>2.484716</td>\n",
       "      <td>11.65</td>\n",
       "      <td>NaN</td>\n",
       "    </tr>\n",
       "  </tbody>\n",
       "</table>\n",
       "</div>"
      ],
      "text/plain": [
       "       country     location_name  temperature_celsius  feels_like_celsius  \\\n",
       "0  Afghanistan             Kabul            22.696943           21.810044   \n",
       "1      Albania            Tirana            25.022271           25.559389   \n",
       "2      Algeria           Algiers            25.154386           26.760526   \n",
       "3      Andorra  Andorra La Vella            14.105677           13.451528   \n",
       "4       Angola            Luanda            26.335808           29.028384   \n",
       "\n",
       "       cloud   wind_kph             sunrise              sunset  \\\n",
       "0  16.419214  12.113974 1900-01-01 04:40:00 1900-01-01 19:10:00   \n",
       "1  26.205240  11.429694 1900-01-01 05:07:00 1900-01-01 16:11:00   \n",
       "2  28.048246  15.312719 1900-01-01 05:29:00 1900-01-01 17:32:00   \n",
       "3  44.209607   9.516594 1900-01-01 06:16:00 1900-01-01 17:21:00   \n",
       "4  49.633188  13.153712 1900-01-01 06:23:00 1900-01-01 18:02:00   \n",
       "\n",
       "   air_quality_Carbon_Monoxide  air_quality_Ozone  \\\n",
       "0                   774.743013         107.629258   \n",
       "1                   257.638646          83.346288   \n",
       "2                   307.305263          88.343860   \n",
       "3                   177.131659          64.942358   \n",
       "4                   690.936900         117.070306   \n",
       "\n",
       "   air_quality_Nitrogen_dioxide  air_quality_Sulphur_dioxide  \\\n",
       "0                      7.655328                     7.974389   \n",
       "1                     10.230000                     4.604236   \n",
       "2                     30.107917                    12.673136   \n",
       "3                      0.616790                     0.162074   \n",
       "4                      9.025524                     8.001550   \n",
       "\n",
       "   air_quality_PM2.5  air_quality_PM10  air_quality_gb-defra-index  \\\n",
       "0          14.860000         28.745873                    1.772926   \n",
       "1          13.593777         18.724323                    1.672489   \n",
       "2          18.584364         35.214364                    2.122807   \n",
       "3           3.729760          7.693100                    1.048035   \n",
       "4          47.178341         82.926769                    4.301310   \n",
       "\n",
       "   air_quality_us-epa-index  Sunlight hours  Extreme_Weather_Events  \n",
       "0                  1.388646           14.50                     NaN  \n",
       "1                  1.349345           11.07                     NaN  \n",
       "2                  1.574561           12.05                     NaN  \n",
       "3                  1.030568           11.08                     NaN  \n",
       "4                  2.484716           11.65                     NaN  "
      ]
     },
     "execution_count": 5,
     "metadata": {},
     "output_type": "execute_result"
    }
   ],
   "source": [
    "df23.head(n=5)"
   ]
  },
  {
   "cell_type": "markdown",
   "id": "aa22f4c2-ab32-4d0b-8cbf-050ab1358b68",
   "metadata": {},
   "source": [
    "> *Figuur x: De eerste 5 rows van df23, een combinatie van df2 en df3 waarbij de waarden van df3 zijn toegevoegd aan df2.*"
   ]
  },
  {
   "cell_type": "markdown",
   "id": "c0e5847e-7900-45bb-bd53-d00414a9f21c",
   "metadata": {},
   "source": [
    "Tenslotte moest de World Happiness Report (df1) dataset nog gecombineerd worden met df23. Dataset df1 was al georganiseerd op land en daardoor vrij makkelijk te gebruiken. Eerst is df1 gefilterd op mogelijk nuttige variabelen. Vervolgens is de column ‘Country name’ hernoemt naar ‘country’, waardoor df1 gecombineerd kon worden met df23, wat resulteerde in de uiteindelijke dataframe df123."
   ]
  },
  {
   "cell_type": "code",
   "execution_count": 6,
   "id": "53981567-c4b1-4c82-9466-85e51f5716f5",
   "metadata": {
    "editable": true,
    "slideshow": {
     "slide_type": ""
    },
    "tags": [
     "hide-input"
    ]
   },
   "outputs": [
    {
     "data": {
      "text/html": [
       "<div>\n",
       "<style scoped>\n",
       "    .dataframe tbody tr th:only-of-type {\n",
       "        vertical-align: middle;\n",
       "    }\n",
       "\n",
       "    .dataframe tbody tr th {\n",
       "        vertical-align: top;\n",
       "    }\n",
       "\n",
       "    .dataframe thead th {\n",
       "        text-align: right;\n",
       "    }\n",
       "</style>\n",
       "<table border=\"1\" class=\"dataframe\">\n",
       "  <thead>\n",
       "    <tr style=\"text-align: right;\">\n",
       "      <th></th>\n",
       "      <th>country</th>\n",
       "      <th>Ladder score</th>\n",
       "      <th>Log GDP per capita</th>\n",
       "      <th>Social support</th>\n",
       "      <th>Healthy life expectancy</th>\n",
       "      <th>Freedom to make life choices</th>\n",
       "      <th>Generosity</th>\n",
       "      <th>Perceptions of corruption</th>\n",
       "      <th>Dystopia + residual</th>\n",
       "    </tr>\n",
       "  </thead>\n",
       "  <tbody>\n",
       "    <tr>\n",
       "      <th>0</th>\n",
       "      <td>Finland</td>\n",
       "      <td>7.741</td>\n",
       "      <td>1.844</td>\n",
       "      <td>1.572</td>\n",
       "      <td>0.695</td>\n",
       "      <td>0.859</td>\n",
       "      <td>0.142</td>\n",
       "      <td>0.546</td>\n",
       "      <td>2.082</td>\n",
       "    </tr>\n",
       "    <tr>\n",
       "      <th>1</th>\n",
       "      <td>Denmark</td>\n",
       "      <td>7.583</td>\n",
       "      <td>1.908</td>\n",
       "      <td>1.520</td>\n",
       "      <td>0.699</td>\n",
       "      <td>0.823</td>\n",
       "      <td>0.204</td>\n",
       "      <td>0.548</td>\n",
       "      <td>1.881</td>\n",
       "    </tr>\n",
       "    <tr>\n",
       "      <th>2</th>\n",
       "      <td>Iceland</td>\n",
       "      <td>7.525</td>\n",
       "      <td>1.881</td>\n",
       "      <td>1.617</td>\n",
       "      <td>0.718</td>\n",
       "      <td>0.819</td>\n",
       "      <td>0.258</td>\n",
       "      <td>0.182</td>\n",
       "      <td>2.050</td>\n",
       "    </tr>\n",
       "    <tr>\n",
       "      <th>3</th>\n",
       "      <td>Sweden</td>\n",
       "      <td>7.344</td>\n",
       "      <td>1.878</td>\n",
       "      <td>1.501</td>\n",
       "      <td>0.724</td>\n",
       "      <td>0.838</td>\n",
       "      <td>0.221</td>\n",
       "      <td>0.524</td>\n",
       "      <td>1.658</td>\n",
       "    </tr>\n",
       "    <tr>\n",
       "      <th>4</th>\n",
       "      <td>Israel</td>\n",
       "      <td>7.341</td>\n",
       "      <td>1.803</td>\n",
       "      <td>1.513</td>\n",
       "      <td>0.740</td>\n",
       "      <td>0.641</td>\n",
       "      <td>0.153</td>\n",
       "      <td>0.193</td>\n",
       "      <td>2.298</td>\n",
       "    </tr>\n",
       "  </tbody>\n",
       "</table>\n",
       "</div>"
      ],
      "text/plain": [
       "   country  Ladder score  Log GDP per capita  Social support  \\\n",
       "0  Finland         7.741               1.844           1.572   \n",
       "1  Denmark         7.583               1.908           1.520   \n",
       "2  Iceland         7.525               1.881           1.617   \n",
       "3   Sweden         7.344               1.878           1.501   \n",
       "4   Israel         7.341               1.803           1.513   \n",
       "\n",
       "   Healthy life expectancy  Freedom to make life choices  Generosity  \\\n",
       "0                    0.695                         0.859       0.142   \n",
       "1                    0.699                         0.823       0.204   \n",
       "2                    0.718                         0.819       0.258   \n",
       "3                    0.724                         0.838       0.221   \n",
       "4                    0.740                         0.641       0.153   \n",
       "\n",
       "   Perceptions of corruption  Dystopia + residual  \n",
       "0                      0.546                2.082  \n",
       "1                      0.548                1.881  \n",
       "2                      0.182                2.050  \n",
       "3                      0.524                1.658  \n",
       "4                      0.193                2.298  "
      ]
     },
     "execution_count": 6,
     "metadata": {},
     "output_type": "execute_result"
    }
   ],
   "source": [
    "df1filter.head(n=5)"
   ]
  },
  {
   "cell_type": "markdown",
   "id": "2d73bc4e-4eff-43e3-a315-cc838f7f4205",
   "metadata": {},
   "source": [
    "> *Figuur x: De eerste 5 rows van df1filter, de gefilterde versie van df1 die de belangrijkste variabelen bevat.*"
   ]
  },
  {
   "cell_type": "code",
   "execution_count": 7,
   "id": "dd3b2b60-f6eb-45f8-bc7f-e66dcc26ecb2",
   "metadata": {},
   "outputs": [
    {
     "data": {
      "text/html": [
       "<div>\n",
       "<style scoped>\n",
       "    .dataframe tbody tr th:only-of-type {\n",
       "        vertical-align: middle;\n",
       "    }\n",
       "\n",
       "    .dataframe tbody tr th {\n",
       "        vertical-align: top;\n",
       "    }\n",
       "\n",
       "    .dataframe thead th {\n",
       "        text-align: right;\n",
       "    }\n",
       "</style>\n",
       "<table border=\"1\" class=\"dataframe\">\n",
       "  <thead>\n",
       "    <tr style=\"text-align: right;\">\n",
       "      <th></th>\n",
       "      <th>country</th>\n",
       "      <th>location_name</th>\n",
       "      <th>temperature_celsius</th>\n",
       "      <th>feels_like_celsius</th>\n",
       "      <th>cloud</th>\n",
       "      <th>wind_kph</th>\n",
       "      <th>sunrise</th>\n",
       "      <th>sunset</th>\n",
       "      <th>air_quality_Carbon_Monoxide</th>\n",
       "      <th>air_quality_Ozone</th>\n",
       "      <th>...</th>\n",
       "      <th>Sunlight hours</th>\n",
       "      <th>Extreme_Weather_Events</th>\n",
       "      <th>Ladder score</th>\n",
       "      <th>Log GDP per capita</th>\n",
       "      <th>Social support</th>\n",
       "      <th>Healthy life expectancy</th>\n",
       "      <th>Freedom to make life choices</th>\n",
       "      <th>Generosity</th>\n",
       "      <th>Perceptions of corruption</th>\n",
       "      <th>Dystopia + residual</th>\n",
       "    </tr>\n",
       "  </thead>\n",
       "  <tbody>\n",
       "    <tr>\n",
       "      <th>6</th>\n",
       "      <td>Argentina</td>\n",
       "      <td>Buenos Aires</td>\n",
       "      <td>13.177632</td>\n",
       "      <td>12.474561</td>\n",
       "      <td>26.214912</td>\n",
       "      <td>11.136842</td>\n",
       "      <td>1900-01-01 08:02:00</td>\n",
       "      <td>1900-01-01 17:51:00</td>\n",
       "      <td>517.272807</td>\n",
       "      <td>35.935965</td>\n",
       "      <td>...</td>\n",
       "      <td>9.82</td>\n",
       "      <td>NaN</td>\n",
       "      <td>6.188</td>\n",
       "      <td>1.562</td>\n",
       "      <td>1.381</td>\n",
       "      <td>0.585</td>\n",
       "      <td>0.681</td>\n",
       "      <td>0.087</td>\n",
       "      <td>0.080</td>\n",
       "      <td>1.812</td>\n",
       "    </tr>\n",
       "    <tr>\n",
       "      <th>7</th>\n",
       "      <td>Armenia</td>\n",
       "      <td>Yerevan</td>\n",
       "      <td>22.620524</td>\n",
       "      <td>22.053712</td>\n",
       "      <td>27.318777</td>\n",
       "      <td>8.651528</td>\n",
       "      <td>1900-01-01 05:32:00</td>\n",
       "      <td>1900-01-01 20:35:00</td>\n",
       "      <td>254.201747</td>\n",
       "      <td>77.655022</td>\n",
       "      <td>...</td>\n",
       "      <td>15.05</td>\n",
       "      <td>NaN</td>\n",
       "      <td>5.455</td>\n",
       "      <td>1.444</td>\n",
       "      <td>1.154</td>\n",
       "      <td>0.603</td>\n",
       "      <td>0.650</td>\n",
       "      <td>0.051</td>\n",
       "      <td>0.173</td>\n",
       "      <td>1.379</td>\n",
       "    </tr>\n",
       "    <tr>\n",
       "      <th>8</th>\n",
       "      <td>Australia</td>\n",
       "      <td>Canberra</td>\n",
       "      <td>9.911790</td>\n",
       "      <td>8.985153</td>\n",
       "      <td>31.925764</td>\n",
       "      <td>10.485590</td>\n",
       "      <td>1900-01-01 05:42:00</td>\n",
       "      <td>1900-01-01 16:57:00</td>\n",
       "      <td>219.703057</td>\n",
       "      <td>49.445852</td>\n",
       "      <td>...</td>\n",
       "      <td>11.25</td>\n",
       "      <td>29.0</td>\n",
       "      <td>7.057</td>\n",
       "      <td>1.854</td>\n",
       "      <td>1.461</td>\n",
       "      <td>0.692</td>\n",
       "      <td>0.756</td>\n",
       "      <td>0.225</td>\n",
       "      <td>0.323</td>\n",
       "      <td>1.745</td>\n",
       "    </tr>\n",
       "    <tr>\n",
       "      <th>9</th>\n",
       "      <td>Australia</td>\n",
       "      <td>Canberra</td>\n",
       "      <td>9.911790</td>\n",
       "      <td>8.985153</td>\n",
       "      <td>31.925764</td>\n",
       "      <td>10.485590</td>\n",
       "      <td>1900-01-01 05:42:00</td>\n",
       "      <td>1900-01-01 16:57:00</td>\n",
       "      <td>219.703057</td>\n",
       "      <td>49.445852</td>\n",
       "      <td>...</td>\n",
       "      <td>11.25</td>\n",
       "      <td>23.0</td>\n",
       "      <td>7.057</td>\n",
       "      <td>1.854</td>\n",
       "      <td>1.461</td>\n",
       "      <td>0.692</td>\n",
       "      <td>0.756</td>\n",
       "      <td>0.225</td>\n",
       "      <td>0.323</td>\n",
       "      <td>1.745</td>\n",
       "    </tr>\n",
       "    <tr>\n",
       "      <th>10</th>\n",
       "      <td>Austria</td>\n",
       "      <td>Vienna</td>\n",
       "      <td>18.178947</td>\n",
       "      <td>17.438596</td>\n",
       "      <td>35.429825</td>\n",
       "      <td>14.800877</td>\n",
       "      <td>1900-01-01 04:54:00</td>\n",
       "      <td>1900-01-01 20:59:00</td>\n",
       "      <td>338.641228</td>\n",
       "      <td>70.290351</td>\n",
       "      <td>...</td>\n",
       "      <td>16.08</td>\n",
       "      <td>NaN</td>\n",
       "      <td>6.905</td>\n",
       "      <td>1.885</td>\n",
       "      <td>1.336</td>\n",
       "      <td>0.696</td>\n",
       "      <td>0.703</td>\n",
       "      <td>0.214</td>\n",
       "      <td>0.305</td>\n",
       "      <td>1.766</td>\n",
       "    </tr>\n",
       "    <tr>\n",
       "      <th>11</th>\n",
       "      <td>Azerbaijan</td>\n",
       "      <td>Baku</td>\n",
       "      <td>22.427193</td>\n",
       "      <td>22.546491</td>\n",
       "      <td>30.925439</td>\n",
       "      <td>22.666228</td>\n",
       "      <td>1900-01-01 05:10:00</td>\n",
       "      <td>1900-01-01 20:14:00</td>\n",
       "      <td>284.128947</td>\n",
       "      <td>84.131140</td>\n",
       "      <td>...</td>\n",
       "      <td>15.07</td>\n",
       "      <td>NaN</td>\n",
       "      <td>4.893</td>\n",
       "      <td>1.433</td>\n",
       "      <td>0.876</td>\n",
       "      <td>0.496</td>\n",
       "      <td>0.668</td>\n",
       "      <td>0.112</td>\n",
       "      <td>0.199</td>\n",
       "      <td>1.110</td>\n",
       "    </tr>\n",
       "    <tr>\n",
       "      <th>12</th>\n",
       "      <td>Bahamas</td>\n",
       "      <td>Nassau</td>\n",
       "      <td>26.919111</td>\n",
       "      <td>30.552889</td>\n",
       "      <td>56.826667</td>\n",
       "      <td>19.556000</td>\n",
       "      <td>1900-01-01 06:19:00</td>\n",
       "      <td>1900-01-01 20:03:00</td>\n",
       "      <td>239.491778</td>\n",
       "      <td>63.716444</td>\n",
       "      <td>...</td>\n",
       "      <td>13.73</td>\n",
       "      <td>NaN</td>\n",
       "      <td>NaN</td>\n",
       "      <td>NaN</td>\n",
       "      <td>NaN</td>\n",
       "      <td>NaN</td>\n",
       "      <td>NaN</td>\n",
       "      <td>NaN</td>\n",
       "      <td>NaN</td>\n",
       "      <td>NaN</td>\n",
       "    </tr>\n",
       "    <tr>\n",
       "      <th>13</th>\n",
       "      <td>Bahrain</td>\n",
       "      <td>Manama</td>\n",
       "      <td>32.711790</td>\n",
       "      <td>36.885153</td>\n",
       "      <td>3.366812</td>\n",
       "      <td>19.667686</td>\n",
       "      <td>1900-01-01 04:45:00</td>\n",
       "      <td>1900-01-01 18:34:00</td>\n",
       "      <td>449.263319</td>\n",
       "      <td>153.274672</td>\n",
       "      <td>...</td>\n",
       "      <td>13.82</td>\n",
       "      <td>NaN</td>\n",
       "      <td>5.959</td>\n",
       "      <td>NaN</td>\n",
       "      <td>NaN</td>\n",
       "      <td>NaN</td>\n",
       "      <td>NaN</td>\n",
       "      <td>NaN</td>\n",
       "      <td>NaN</td>\n",
       "      <td>NaN</td>\n",
       "    </tr>\n",
       "  </tbody>\n",
       "</table>\n",
       "<p>8 rows × 26 columns</p>\n",
       "</div>"
      ],
      "text/plain": [
       "       country location_name  temperature_celsius  feels_like_celsius  \\\n",
       "6    Argentina  Buenos Aires            13.177632           12.474561   \n",
       "7      Armenia       Yerevan            22.620524           22.053712   \n",
       "8    Australia      Canberra             9.911790            8.985153   \n",
       "9    Australia      Canberra             9.911790            8.985153   \n",
       "10     Austria        Vienna            18.178947           17.438596   \n",
       "11  Azerbaijan          Baku            22.427193           22.546491   \n",
       "12     Bahamas        Nassau            26.919111           30.552889   \n",
       "13     Bahrain        Manama            32.711790           36.885153   \n",
       "\n",
       "        cloud   wind_kph             sunrise              sunset  \\\n",
       "6   26.214912  11.136842 1900-01-01 08:02:00 1900-01-01 17:51:00   \n",
       "7   27.318777   8.651528 1900-01-01 05:32:00 1900-01-01 20:35:00   \n",
       "8   31.925764  10.485590 1900-01-01 05:42:00 1900-01-01 16:57:00   \n",
       "9   31.925764  10.485590 1900-01-01 05:42:00 1900-01-01 16:57:00   \n",
       "10  35.429825  14.800877 1900-01-01 04:54:00 1900-01-01 20:59:00   \n",
       "11  30.925439  22.666228 1900-01-01 05:10:00 1900-01-01 20:14:00   \n",
       "12  56.826667  19.556000 1900-01-01 06:19:00 1900-01-01 20:03:00   \n",
       "13   3.366812  19.667686 1900-01-01 04:45:00 1900-01-01 18:34:00   \n",
       "\n",
       "    air_quality_Carbon_Monoxide  air_quality_Ozone  ...  Sunlight hours  \\\n",
       "6                    517.272807          35.935965  ...            9.82   \n",
       "7                    254.201747          77.655022  ...           15.05   \n",
       "8                    219.703057          49.445852  ...           11.25   \n",
       "9                    219.703057          49.445852  ...           11.25   \n",
       "10                   338.641228          70.290351  ...           16.08   \n",
       "11                   284.128947          84.131140  ...           15.07   \n",
       "12                   239.491778          63.716444  ...           13.73   \n",
       "13                   449.263319         153.274672  ...           13.82   \n",
       "\n",
       "    Extreme_Weather_Events  Ladder score  Log GDP per capita  Social support  \\\n",
       "6                      NaN         6.188               1.562           1.381   \n",
       "7                      NaN         5.455               1.444           1.154   \n",
       "8                     29.0         7.057               1.854           1.461   \n",
       "9                     23.0         7.057               1.854           1.461   \n",
       "10                     NaN         6.905               1.885           1.336   \n",
       "11                     NaN         4.893               1.433           0.876   \n",
       "12                     NaN           NaN                 NaN             NaN   \n",
       "13                     NaN         5.959                 NaN             NaN   \n",
       "\n",
       "    Healthy life expectancy  Freedom to make life choices  Generosity  \\\n",
       "6                     0.585                         0.681       0.087   \n",
       "7                     0.603                         0.650       0.051   \n",
       "8                     0.692                         0.756       0.225   \n",
       "9                     0.692                         0.756       0.225   \n",
       "10                    0.696                         0.703       0.214   \n",
       "11                    0.496                         0.668       0.112   \n",
       "12                      NaN                           NaN         NaN   \n",
       "13                      NaN                           NaN         NaN   \n",
       "\n",
       "    Perceptions of corruption  Dystopia + residual  \n",
       "6                       0.080                1.812  \n",
       "7                       0.173                1.379  \n",
       "8                       0.323                1.745  \n",
       "9                       0.323                1.745  \n",
       "10                      0.305                1.766  \n",
       "11                      0.199                1.110  \n",
       "12                        NaN                  NaN  \n",
       "13                        NaN                  NaN  \n",
       "\n",
       "[8 rows x 26 columns]"
      ]
     },
     "execution_count": 7,
     "metadata": {},
     "output_type": "execute_result"
    }
   ],
   "source": [
    "df123[6:14]  # Dit lijkt misschien op een rare selectie aan cellen, maar zo zijn er niet alleen NaN waardes voor de extreme weather events."
   ]
  },
  {
   "cell_type": "markdown",
   "id": "a7ce5703-9cf5-4c80-af9e-7eafb4ee44e5",
   "metadata": {},
   "source": [
    "> *Figuur X: Rij 6 tot en met 14 van de uiteindelijke dataset df123. Deze rijen zijn gekozen zodat er niet alleen NaN waarden staan bij Extreme_Weather_Events*"
   ]
  },
  {
   "cell_type": "markdown",
   "id": "d5010a07-96a0-45a7-ba76-250a56053f62",
   "metadata": {},
   "source": [
    "## Perspectief 1: Klimaat heeft een significante invloed op geluk"
   ]
  },
  {
   "cell_type": "markdown",
   "id": "1f26b1fd",
   "metadata": {},
   "source": [
    "De structuur van deze teksten moet nog aangepast worden, iig voor de final versie"
   ]
  },
  {
   "cell_type": "markdown",
   "id": "a43c3ae1-48d8-4663-8525-7d92fae83483",
   "metadata": {},
   "source": [
    "### Argument 1.1: In landen met een stabiel, mild of zonnig klimaat zijn mensen gemiddeld blijer, omdat dergelijke omstandigheden bijdragen aan een prettigere leefomgeving.\n"
   ]
  },
  {
   "cell_type": "markdown",
   "id": "a44acbb2-6dbc-4cb9-ba26-7ba3fb19af5d",
   "metadata": {},
   "source": [
    "In landen met een stabiel, mild of zonnig klimaat zijn mensen gemiddeld blijer, omdat dergelijke omstandigheden bijdragen aan een prettigere leefomgeving (Rehdanz & Maddison, 2004; Tsutsui, 2012).\n",
    "\n",
    "Uit bestaand onderzoek blijkt dat het klimaat waarin mensen leven invloed heeft op hun welzijn en geluksbeleving. Zo zijn er aanwijzingen dat gemiddelde temperaturen en zonlicht samenhangen met een verhoogd comfort en stemming (Rehdanz & Maddison, 2004; Tsutsui, 2012). In warmere en zonnigere klimaten brengen mensen doorgaans meer tijd buiten door, wat sociale interactie en lichamelijke activiteit stimuleert – beide factoren die bijdragen aan mentaal welzijn (Tsutsui, 2012).\n",
    "\n",
    "Dit wordt ook weerspiegeld in data uit het World Happiness Report (Helliwell et al., 2017): landen zoals Spanje, Costa Rica en Australië, die bekendstaan om hun aangename klimaat, scoren consequent bovengemiddeld op geluksscores.\n",
    "\n",
    "Daarnaast kan een voorspelbaar klimaat bijdragen aan minder stress in het dagelijks leven. Wanneer mensen zich minder zorgen hoeven te maken over extreem weer of bijkomende gevolgen zoals energiekosten of beperkte mobiliteit, ervaren zij een hogere mate van gemak en stabiliteit (Rehdanz & Maddison, 2004; Peng et al., 2016).\n",
    "\n",
    "Hoewel klimaat uiteraard niet de enige factor is die geluk beïnvloedt, toont onze analyse aan dat klimaatvariabelen zoals zonuren, temperatuur en luchtkwaliteit samenhangen met het gerapporteerde geluksniveau in verschillende landen (Peng et al., 2016; Helliwell et al., 2017)."
   ]
  },
  {
   "cell_type": "code",
   "execution_count": 14,
   "id": "62bfd307",
   "metadata": {
    "tags": [
     "hide-input"
    ]
   },
   "outputs": [
    {
     "data": {
      "application/vnd.plotly.v1+json": {
       "config": {
        "plotlyServerURL": "https://plot.ly"
       },
       "data": [
        {
         "coloraxis": "coloraxis",
         "geo": "geo",
         "hovertemplate": "country=%{location}<br>cloud=%{z}<extra></extra>",
         "locationmode": "country names",
         "locations": [
          "Afghanistan",
          "Albania",
          "Algeria",
          "Andorra",
          "Angola",
          "Antigua and Barbuda",
          "Argentina",
          "Armenia",
          "Australia",
          "Australia",
          "Austria",
          "Azerbaijan",
          "Bahamas",
          "Bahrain",
          "Bangladesh",
          "Barbados",
          "Belarus",
          "Belgium",
          "Belize",
          "Benin",
          "Bhutan",
          "Bolivia",
          "Bosnia and Herzegovina",
          "Botswana",
          "Brazil",
          "Brazil",
          "Brunei Darussalam",
          "Bulgaria",
          "Burkina Faso",
          "Burundi",
          "Bélgica",
          "Cambodia",
          "Cameroon",
          "Canada",
          "Cape Verde",
          "Central African Republic",
          "Chad",
          "Chile",
          "China",
          "China",
          "Colombia",
          "Comoros",
          "Congo",
          "Costa Rica",
          "Croatia",
          "Cuba",
          "Cyprus",
          "Czech Republic",
          "Democratic Republic of Congo",
          "Denmark",
          "Djibouti",
          "Dominica",
          "Dominican Republic",
          "Ecuador",
          "Egypt",
          "El Salvador",
          "Equatorial Guinea",
          "Eritrea",
          "Estonia",
          "Estonie",
          "Ethiopia",
          "Fiji Islands",
          "Finland",
          "France",
          "Gabon",
          "Gambia",
          "Georgia",
          "Germany",
          "Germany",
          "Ghana",
          "Greece",
          "Grenada",
          "Guatemala",
          "Guinea",
          "Guinea-Bissau",
          "Guyana",
          "Haiti",
          "Honduras",
          "Hungary",
          "Iceland",
          "Inde",
          "India",
          "India",
          "Indonesia",
          "Iran",
          "Iraq",
          "Ireland",
          "Israel",
          "Italy",
          "Jamaica",
          "Japan",
          "Jemen",
          "Jordan",
          "Kazakhstan",
          "Kenya",
          "Kiribati",
          "Komoren",
          "Kosovo",
          "Kuwait",
          "Kyrghyzstan",
          "Lao People's Democratic Republic",
          "Latvia",
          "Lebanon",
          "Lesotho",
          "Letonia",
          "Liberia",
          "Libya",
          "Liechtenstein",
          "Lithuania",
          "Luxembourg",
          "Macedonia",
          "Madagascar",
          "Malawi",
          "Malaysia",
          "Maldives",
          "Mali",
          "Malta",
          "Malásia",
          "Marrocos",
          "Marshall Islands",
          "Mauritania",
          "Mauritius",
          "Mexico",
          "Mexique",
          "Micronesia",
          "Monaco",
          "Mongolia",
          "Montenegro",
          "Morocco",
          "Mozambique",
          "Myanmar",
          "Namibia",
          "Nepal",
          "Netherlands",
          "New Zealand",
          "Nicaragua",
          "Niger",
          "Nigeria",
          "Nigeria",
          "North Korea",
          "Norway",
          "Oman",
          "Pakistan",
          "Palau",
          "Panama",
          "Papua New Guinea",
          "Paraguay",
          "Peru",
          "Philippines",
          "Poland",
          "Polônia",
          "Portugal",
          "Qatar",
          "Romania",
          "Russia",
          "Russia",
          "Rwanda",
          "Saint Kitts and Nevis",
          "Saint Lucia",
          "Saint Vincent and the Grenadines",
          "Saint-Vincent-et-les-Grenadines",
          "Samoa",
          "San Marino",
          "Saudi Arabia",
          "Saudi Arabien",
          "Senegal",
          "Serbia",
          "Seychelles Islands",
          "Sierra Leone",
          "Singapore",
          "Slovakia",
          "Slovenia",
          "Solomon Islands",
          "Somalia",
          "South Africa",
          "South Korea",
          "Spain",
          "Sri Lanka",
          "Sudan",
          "Suriname",
          "Swaziland",
          "Sweden",
          "Switzerland",
          "Syria",
          "Südkorea",
          "Tajikistan",
          "Tanzania",
          "Thailand",
          "Timor-Leste",
          "Togo",
          "Tonga",
          "Trinidad and Tobago",
          "Tunisia",
          "Turkey",
          "Turkmenistan",
          "Turkménistan",
          "Tuvalu",
          "USA United States of America",
          "Uganda",
          "Ukraine",
          "United Arab Emirates",
          "United Kingdom",
          "United States of America",
          "Uruguay",
          "Uzbekistan",
          "Vanuatu",
          "Vatican City",
          "Venezuela",
          "Vietnam",
          "Yemen",
          "Zambia",
          "Zimbabwe",
          "Гватемала",
          "Польша",
          "Турция",
          "كولومبيا",
          "火鸡"
         ],
         "name": "",
         "type": "choropleth",
         "z": [
          16.419213973799128,
          26.20524017467249,
          28.04824561403509,
          44.209606986899566,
          49.633187772925766,
          47.5353982300885,
          26.214912280701753,
          27.31877729257642,
          31.925764192139738,
          31.925764192139738,
          35.42982456140351,
          30.92543859649123,
          56.82666666666667,
          3.3668122270742358,
          42.18859649122807,
          48.083333333333336,
          45.53711790393013,
          56.558241758241756,
          74.59471365638767,
          50.89035087719298,
          65.05263157894737,
          31.29490022172949,
          39.68995633187773,
          13.030567685589519,
          37.87224669603524,
          37.87224669603524,
          70.01754385964912,
          32.265306122448976,
          27.57017543859649,
          45.61572052401747,
          75,
          55.23144104803494,
          48.47577092511013,
          57.48898678414097,
          42.35807860262009,
          45.75438596491228,
          24.646288209606986,
          30.334801762114537,
          11.135964912280702,
          11.135964912280702,
          69,
          67.91189427312776,
          48.078947368421055,
          57.57333333333333,
          29.68281938325991,
          39.629955947136565,
          30.17982456140351,
          42.99557522123894,
          48.903083700440526,
          52.574561403508774,
          21.123348017621144,
          54.87665198237885,
          51.64159292035398,
          33.220264317180614,
          14.596491228070175,
          49.10666666666667,
          64.4934497816594,
          42.082969432314414,
          49.969298245614034,
          25,
          56.08810572687225,
          63.02620087336245,
          43,
          51.76419213973799,
          54.81578947368421,
          36.98237885462555,
          28.070484581497798,
          34.92576419213974,
          34.92576419213974,
          52.03493449781659,
          23.26872246696035,
          39.008849557522126,
          63.50222222222222,
          58.97379912663755,
          41.18340611353712,
          52.76651982378855,
          37.77533039647577,
          66.79646017699115,
          32.213973799126634,
          65.8122270742358,
          75,
          33.17180616740088,
          33.17180616740088,
          51.28322440087146,
          22.013157894736842,
          9.68995633187773,
          65.60964912280701,
          14.714912280701755,
          19.95175438596491,
          32.76211453744494,
          47.60698689956332,
          84,
          13.283842794759826,
          46.219298245614034,
          64.64782608695653,
          52.25110132158591,
          55,
          85,
          6.851528384279476,
          42.6578947368421,
          98,
          42.87224669603524,
          29.17105263157895,
          18.94298245614035,
          87,
          71.4298245614035,
          0,
          50.75,
          49.81140350877193,
          48.290748898678416,
          32.99559471365639,
          26.75438596491228,
          31.99126637554585,
          35.379912663755455,
          61.18141592920354,
          30.03930131004367,
          21.074235807860262,
          59,
          0,
          84.57205240174673,
          15.043668122270743,
          53.6768558951965,
          54.06194690265487,
          32,
          81.46929824561404,
          34.28193832599119,
          37.38157894736842,
          28.092105263157894,
          32.59911894273128,
          34.80349344978166,
          66.87336244541484,
          7.118421052631579,
          58.87280701754386,
          44.73684210526316,
          50.7117903930131,
          47.216814159292035,
          17.80701754385965,
          46.698689956331876,
          46.698689956331876,
          33.82017543859649,
          48.1140350877193,
          14.20524017467249,
          16.964912280701753,
          78.00438596491227,
          61.00440528634361,
          56.85526315789474,
          28.419213973799128,
          47.56637168141593,
          66.30701754385964,
          33.56768558951965,
          32,
          27.863436123348016,
          3.307017543859649,
          20.25438596491228,
          42.8099173553719,
          42.8099173553719,
          50.578947368421055,
          41.48684210526316,
          51.780701754385966,
          57.77533039647577,
          86,
          60.097345132743364,
          28.853982300884955,
          4.762114537444934,
          0,
          30.502183406113538,
          21.855263157894736,
          48.969298245614034,
          63.52422907488987,
          63.506550218340614,
          30.719298245614034,
          51.7292576419214,
          56.213973799126634,
          48.12719298245614,
          6.104803493449782,
          27.12280701754386,
          21,
          58.30701754385965,
          17.592105263157894,
          41.26315789473684,
          26.289473684210527,
          31.912280701754387,
          51.55701754385965,
          10.912280701754385,
          0,
          25.767543859649123,
          30.353711790393014,
          41.65714285714286,
          41.691629955947135,
          85,
          55.07860262008734,
          35.4078947368421,
          29.403508771929825,
          33.53846153846154,
          37.60526315789474,
          2,
          67.23144104803494,
          34.333333333333336,
          37.74561403508772,
          42.532751091703055,
          5.406113537117904,
          52.74449339207048,
          47.20444444444445,
          37.99126637554585,
          14.174672489082969,
          61.12719298245614,
          20.08296943231441,
          27.277533039647576,
          46.693627450980394,
          32.12719298245614,
          14.807860262008735,
          12.977973568281937,
          46,
          74,
          25,
          92,
          4
         ]
        }
       ],
       "layout": {
        "coloraxis": {
         "colorbar": {
          "title": {
           "text": "cloud"
          }
         },
         "colorscale": [
          [
           0,
           "#fee838"
          ],
          [
           0.1111111111111111,
           "#e1cc55"
          ],
          [
           0.2222222222222222,
           "#c3b369"
          ],
          [
           0.3333333333333333,
           "#a59c74"
          ],
          [
           0.4444444444444444,
           "#8a8678"
          ],
          [
           0.5555555555555556,
           "#707173"
          ],
          [
           0.6666666666666666,
           "#575d6d"
          ],
          [
           0.7777777777777778,
           "#3b496c"
          ],
          [
           0.8888888888888888,
           "#123570"
          ],
          [
           1,
           "#00224e"
          ]
         ]
        },
        "geo": {
         "center": {},
         "domain": {
          "x": [
           0,
           1
          ],
          "y": [
           0,
           1
          ]
         },
         "projection": {
          "type": "natural earth"
         }
        },
        "height": 600,
        "legend": {
         "tracegroupgap": 0
        },
        "template": {
         "data": {
          "bar": [
           {
            "error_x": {
             "color": "#2a3f5f"
            },
            "error_y": {
             "color": "#2a3f5f"
            },
            "marker": {
             "line": {
              "color": "#E5ECF6",
              "width": 0.5
             },
             "pattern": {
              "fillmode": "overlay",
              "size": 10,
              "solidity": 0.2
             }
            },
            "type": "bar"
           }
          ],
          "barpolar": [
           {
            "marker": {
             "line": {
              "color": "#E5ECF6",
              "width": 0.5
             },
             "pattern": {
              "fillmode": "overlay",
              "size": 10,
              "solidity": 0.2
             }
            },
            "type": "barpolar"
           }
          ],
          "carpet": [
           {
            "aaxis": {
             "endlinecolor": "#2a3f5f",
             "gridcolor": "white",
             "linecolor": "white",
             "minorgridcolor": "white",
             "startlinecolor": "#2a3f5f"
            },
            "baxis": {
             "endlinecolor": "#2a3f5f",
             "gridcolor": "white",
             "linecolor": "white",
             "minorgridcolor": "white",
             "startlinecolor": "#2a3f5f"
            },
            "type": "carpet"
           }
          ],
          "choropleth": [
           {
            "colorbar": {
             "outlinewidth": 0,
             "ticks": ""
            },
            "type": "choropleth"
           }
          ],
          "contour": [
           {
            "colorbar": {
             "outlinewidth": 0,
             "ticks": ""
            },
            "colorscale": [
             [
              0,
              "#0d0887"
             ],
             [
              0.1111111111111111,
              "#46039f"
             ],
             [
              0.2222222222222222,
              "#7201a8"
             ],
             [
              0.3333333333333333,
              "#9c179e"
             ],
             [
              0.4444444444444444,
              "#bd3786"
             ],
             [
              0.5555555555555556,
              "#d8576b"
             ],
             [
              0.6666666666666666,
              "#ed7953"
             ],
             [
              0.7777777777777778,
              "#fb9f3a"
             ],
             [
              0.8888888888888888,
              "#fdca26"
             ],
             [
              1,
              "#f0f921"
             ]
            ],
            "type": "contour"
           }
          ],
          "contourcarpet": [
           {
            "colorbar": {
             "outlinewidth": 0,
             "ticks": ""
            },
            "type": "contourcarpet"
           }
          ],
          "heatmap": [
           {
            "colorbar": {
             "outlinewidth": 0,
             "ticks": ""
            },
            "colorscale": [
             [
              0,
              "#0d0887"
             ],
             [
              0.1111111111111111,
              "#46039f"
             ],
             [
              0.2222222222222222,
              "#7201a8"
             ],
             [
              0.3333333333333333,
              "#9c179e"
             ],
             [
              0.4444444444444444,
              "#bd3786"
             ],
             [
              0.5555555555555556,
              "#d8576b"
             ],
             [
              0.6666666666666666,
              "#ed7953"
             ],
             [
              0.7777777777777778,
              "#fb9f3a"
             ],
             [
              0.8888888888888888,
              "#fdca26"
             ],
             [
              1,
              "#f0f921"
             ]
            ],
            "type": "heatmap"
           }
          ],
          "heatmapgl": [
           {
            "colorbar": {
             "outlinewidth": 0,
             "ticks": ""
            },
            "colorscale": [
             [
              0,
              "#0d0887"
             ],
             [
              0.1111111111111111,
              "#46039f"
             ],
             [
              0.2222222222222222,
              "#7201a8"
             ],
             [
              0.3333333333333333,
              "#9c179e"
             ],
             [
              0.4444444444444444,
              "#bd3786"
             ],
             [
              0.5555555555555556,
              "#d8576b"
             ],
             [
              0.6666666666666666,
              "#ed7953"
             ],
             [
              0.7777777777777778,
              "#fb9f3a"
             ],
             [
              0.8888888888888888,
              "#fdca26"
             ],
             [
              1,
              "#f0f921"
             ]
            ],
            "type": "heatmapgl"
           }
          ],
          "histogram": [
           {
            "marker": {
             "pattern": {
              "fillmode": "overlay",
              "size": 10,
              "solidity": 0.2
             }
            },
            "type": "histogram"
           }
          ],
          "histogram2d": [
           {
            "colorbar": {
             "outlinewidth": 0,
             "ticks": ""
            },
            "colorscale": [
             [
              0,
              "#0d0887"
             ],
             [
              0.1111111111111111,
              "#46039f"
             ],
             [
              0.2222222222222222,
              "#7201a8"
             ],
             [
              0.3333333333333333,
              "#9c179e"
             ],
             [
              0.4444444444444444,
              "#bd3786"
             ],
             [
              0.5555555555555556,
              "#d8576b"
             ],
             [
              0.6666666666666666,
              "#ed7953"
             ],
             [
              0.7777777777777778,
              "#fb9f3a"
             ],
             [
              0.8888888888888888,
              "#fdca26"
             ],
             [
              1,
              "#f0f921"
             ]
            ],
            "type": "histogram2d"
           }
          ],
          "histogram2dcontour": [
           {
            "colorbar": {
             "outlinewidth": 0,
             "ticks": ""
            },
            "colorscale": [
             [
              0,
              "#0d0887"
             ],
             [
              0.1111111111111111,
              "#46039f"
             ],
             [
              0.2222222222222222,
              "#7201a8"
             ],
             [
              0.3333333333333333,
              "#9c179e"
             ],
             [
              0.4444444444444444,
              "#bd3786"
             ],
             [
              0.5555555555555556,
              "#d8576b"
             ],
             [
              0.6666666666666666,
              "#ed7953"
             ],
             [
              0.7777777777777778,
              "#fb9f3a"
             ],
             [
              0.8888888888888888,
              "#fdca26"
             ],
             [
              1,
              "#f0f921"
             ]
            ],
            "type": "histogram2dcontour"
           }
          ],
          "mesh3d": [
           {
            "colorbar": {
             "outlinewidth": 0,
             "ticks": ""
            },
            "type": "mesh3d"
           }
          ],
          "parcoords": [
           {
            "line": {
             "colorbar": {
              "outlinewidth": 0,
              "ticks": ""
             }
            },
            "type": "parcoords"
           }
          ],
          "pie": [
           {
            "automargin": true,
            "type": "pie"
           }
          ],
          "scatter": [
           {
            "fillpattern": {
             "fillmode": "overlay",
             "size": 10,
             "solidity": 0.2
            },
            "type": "scatter"
           }
          ],
          "scatter3d": [
           {
            "line": {
             "colorbar": {
              "outlinewidth": 0,
              "ticks": ""
             }
            },
            "marker": {
             "colorbar": {
              "outlinewidth": 0,
              "ticks": ""
             }
            },
            "type": "scatter3d"
           }
          ],
          "scattercarpet": [
           {
            "marker": {
             "colorbar": {
              "outlinewidth": 0,
              "ticks": ""
             }
            },
            "type": "scattercarpet"
           }
          ],
          "scattergeo": [
           {
            "marker": {
             "colorbar": {
              "outlinewidth": 0,
              "ticks": ""
             }
            },
            "type": "scattergeo"
           }
          ],
          "scattergl": [
           {
            "marker": {
             "colorbar": {
              "outlinewidth": 0,
              "ticks": ""
             }
            },
            "type": "scattergl"
           }
          ],
          "scattermapbox": [
           {
            "marker": {
             "colorbar": {
              "outlinewidth": 0,
              "ticks": ""
             }
            },
            "type": "scattermapbox"
           }
          ],
          "scatterpolar": [
           {
            "marker": {
             "colorbar": {
              "outlinewidth": 0,
              "ticks": ""
             }
            },
            "type": "scatterpolar"
           }
          ],
          "scatterpolargl": [
           {
            "marker": {
             "colorbar": {
              "outlinewidth": 0,
              "ticks": ""
             }
            },
            "type": "scatterpolargl"
           }
          ],
          "scatterternary": [
           {
            "marker": {
             "colorbar": {
              "outlinewidth": 0,
              "ticks": ""
             }
            },
            "type": "scatterternary"
           }
          ],
          "surface": [
           {
            "colorbar": {
             "outlinewidth": 0,
             "ticks": ""
            },
            "colorscale": [
             [
              0,
              "#0d0887"
             ],
             [
              0.1111111111111111,
              "#46039f"
             ],
             [
              0.2222222222222222,
              "#7201a8"
             ],
             [
              0.3333333333333333,
              "#9c179e"
             ],
             [
              0.4444444444444444,
              "#bd3786"
             ],
             [
              0.5555555555555556,
              "#d8576b"
             ],
             [
              0.6666666666666666,
              "#ed7953"
             ],
             [
              0.7777777777777778,
              "#fb9f3a"
             ],
             [
              0.8888888888888888,
              "#fdca26"
             ],
             [
              1,
              "#f0f921"
             ]
            ],
            "type": "surface"
           }
          ],
          "table": [
           {
            "cells": {
             "fill": {
              "color": "#EBF0F8"
             },
             "line": {
              "color": "white"
             }
            },
            "header": {
             "fill": {
              "color": "#C8D4E3"
             },
             "line": {
              "color": "white"
             }
            },
            "type": "table"
           }
          ]
         },
         "layout": {
          "annotationdefaults": {
           "arrowcolor": "#2a3f5f",
           "arrowhead": 0,
           "arrowwidth": 1
          },
          "autotypenumbers": "strict",
          "coloraxis": {
           "colorbar": {
            "outlinewidth": 0,
            "ticks": ""
           }
          },
          "colorscale": {
           "diverging": [
            [
             0,
             "#8e0152"
            ],
            [
             0.1,
             "#c51b7d"
            ],
            [
             0.2,
             "#de77ae"
            ],
            [
             0.3,
             "#f1b6da"
            ],
            [
             0.4,
             "#fde0ef"
            ],
            [
             0.5,
             "#f7f7f7"
            ],
            [
             0.6,
             "#e6f5d0"
            ],
            [
             0.7,
             "#b8e186"
            ],
            [
             0.8,
             "#7fbc41"
            ],
            [
             0.9,
             "#4d9221"
            ],
            [
             1,
             "#276419"
            ]
           ],
           "sequential": [
            [
             0,
             "#0d0887"
            ],
            [
             0.1111111111111111,
             "#46039f"
            ],
            [
             0.2222222222222222,
             "#7201a8"
            ],
            [
             0.3333333333333333,
             "#9c179e"
            ],
            [
             0.4444444444444444,
             "#bd3786"
            ],
            [
             0.5555555555555556,
             "#d8576b"
            ],
            [
             0.6666666666666666,
             "#ed7953"
            ],
            [
             0.7777777777777778,
             "#fb9f3a"
            ],
            [
             0.8888888888888888,
             "#fdca26"
            ],
            [
             1,
             "#f0f921"
            ]
           ],
           "sequentialminus": [
            [
             0,
             "#0d0887"
            ],
            [
             0.1111111111111111,
             "#46039f"
            ],
            [
             0.2222222222222222,
             "#7201a8"
            ],
            [
             0.3333333333333333,
             "#9c179e"
            ],
            [
             0.4444444444444444,
             "#bd3786"
            ],
            [
             0.5555555555555556,
             "#d8576b"
            ],
            [
             0.6666666666666666,
             "#ed7953"
            ],
            [
             0.7777777777777778,
             "#fb9f3a"
            ],
            [
             0.8888888888888888,
             "#fdca26"
            ],
            [
             1,
             "#f0f921"
            ]
           ]
          },
          "colorway": [
           "#636efa",
           "#EF553B",
           "#00cc96",
           "#ab63fa",
           "#FFA15A",
           "#19d3f3",
           "#FF6692",
           "#B6E880",
           "#FF97FF",
           "#FECB52"
          ],
          "font": {
           "color": "#2a3f5f"
          },
          "geo": {
           "bgcolor": "white",
           "lakecolor": "white",
           "landcolor": "#E5ECF6",
           "showlakes": true,
           "showland": true,
           "subunitcolor": "white"
          },
          "hoverlabel": {
           "align": "left"
          },
          "hovermode": "closest",
          "mapbox": {
           "style": "light"
          },
          "paper_bgcolor": "white",
          "plot_bgcolor": "#E5ECF6",
          "polar": {
           "angularaxis": {
            "gridcolor": "white",
            "linecolor": "white",
            "ticks": ""
           },
           "bgcolor": "#E5ECF6",
           "radialaxis": {
            "gridcolor": "white",
            "linecolor": "white",
            "ticks": ""
           }
          },
          "scene": {
           "xaxis": {
            "backgroundcolor": "#E5ECF6",
            "gridcolor": "white",
            "gridwidth": 2,
            "linecolor": "white",
            "showbackground": true,
            "ticks": "",
            "zerolinecolor": "white"
           },
           "yaxis": {
            "backgroundcolor": "#E5ECF6",
            "gridcolor": "white",
            "gridwidth": 2,
            "linecolor": "white",
            "showbackground": true,
            "ticks": "",
            "zerolinecolor": "white"
           },
           "zaxis": {
            "backgroundcolor": "#E5ECF6",
            "gridcolor": "white",
            "gridwidth": 2,
            "linecolor": "white",
            "showbackground": true,
            "ticks": "",
            "zerolinecolor": "white"
           }
          },
          "shapedefaults": {
           "line": {
            "color": "#2a3f5f"
           }
          },
          "ternary": {
           "aaxis": {
            "gridcolor": "white",
            "linecolor": "white",
            "ticks": ""
           },
           "baxis": {
            "gridcolor": "white",
            "linecolor": "white",
            "ticks": ""
           },
           "bgcolor": "#E5ECF6",
           "caxis": {
            "gridcolor": "white",
            "linecolor": "white",
            "ticks": ""
           }
          },
          "title": {
           "x": 0.05
          },
          "xaxis": {
           "automargin": true,
           "gridcolor": "white",
           "linecolor": "white",
           "ticks": "",
           "title": {
            "standoff": 15
           },
           "zerolinecolor": "white",
           "zerolinewidth": 2
          },
          "yaxis": {
           "automargin": true,
           "gridcolor": "white",
           "linecolor": "white",
           "ticks": "",
           "title": {
            "standoff": 15
           },
           "zerolinecolor": "white",
           "zerolinewidth": 2
          }
         }
        },
        "title": {
         "text": "Hoeveelheid bewolking per land (in percentage)"
        },
        "width": 1000
       }
      },
      "image/png": "[encoded data removed]",
      "text/html": [
       "<div>                            <div id=\"e7867cf6-60b6-43f5-b3a7-d157f2ddb6d4\" class=\"plotly-graph-div\" style=\"height:600px; width:1000px;\"></div>            <script type=\"text/javascript\">                require([\"plotly\"], function(Plotly) {                    window.PLOTLYENV=window.PLOTLYENV || {};                                    if (document.getElementById(\"e7867cf6-60b6-43f5-b3a7-d157f2ddb6d4\")) {                    Plotly.newPlot(                        \"e7867cf6-60b6-43f5-b3a7-d157f2ddb6d4\",                        [{\"coloraxis\":\"coloraxis\",\"geo\":\"geo\",\"hovertemplate\":\"country=%{location}\\u003cbr\\u003ecloud=%{z}\\u003cextra\\u003e\\u003c\\u002fextra\\u003e\",\"locationmode\":\"country names\",\"locations\":[\"Afghanistan\",\"Albania\",\"Algeria\",\"Andorra\",\"Angola\",\"Antigua and Barbuda\",\"Argentina\",\"Armenia\",\"Australia\",\"Australia\",\"Austria\",\"Azerbaijan\",\"Bahamas\",\"Bahrain\",\"Bangladesh\",\"Barbados\",\"Belarus\",\"Belgium\",\"Belize\",\"Benin\",\"Bhutan\",\"Bolivia\",\"Bosnia and Herzegovina\",\"Botswana\",\"Brazil\",\"Brazil\",\"Brunei Darussalam\",\"Bulgaria\",\"Burkina Faso\",\"Burundi\",\"B\\u00e9lgica\",\"Cambodia\",\"Cameroon\",\"Canada\",\"Cape Verde\",\"Central African Republic\",\"Chad\",\"Chile\",\"China\",\"China\",\"Colombia\",\"Comoros\",\"Congo\",\"Costa Rica\",\"Croatia\",\"Cuba\",\"Cyprus\",\"Czech Republic\",\"Democratic Republic of Congo\",\"Denmark\",\"Djibouti\",\"Dominica\",\"Dominican Republic\",\"Ecuador\",\"Egypt\",\"El Salvador\",\"Equatorial Guinea\",\"Eritrea\",\"Estonia\",\"Estonie\",\"Ethiopia\",\"Fiji Islands\",\"Finland\",\"France\",\"Gabon\",\"Gambia\",\"Georgia\",\"Germany\",\"Germany\",\"Ghana\",\"Greece\",\"Grenada\",\"Guatemala\",\"Guinea\",\"Guinea-Bissau\",\"Guyana\",\"Haiti\",\"Honduras\",\"Hungary\",\"Iceland\",\"Inde\",\"India\",\"India\",\"Indonesia\",\"Iran\",\"Iraq\",\"Ireland\",\"Israel\",\"Italy\",\"Jamaica\",\"Japan\",\"Jemen\",\"Jordan\",\"Kazakhstan\",\"Kenya\",\"Kiribati\",\"Komoren\",\"Kosovo\",\"Kuwait\",\"Kyrghyzstan\",\"Lao People's Democratic Republic\",\"Latvia\",\"Lebanon\",\"Lesotho\",\"Letonia\",\"Liberia\",\"Libya\",\"Liechtenstein\",\"Lithuania\",\"Luxembourg\",\"Macedonia\",\"Madagascar\",\"Malawi\",\"Malaysia\",\"Maldives\",\"Mali\",\"Malta\",\"Mal\\u00e1sia\",\"Marrocos\",\"Marshall Islands\",\"Mauritania\",\"Mauritius\",\"Mexico\",\"Mexique\",\"Micronesia\",\"Monaco\",\"Mongolia\",\"Montenegro\",\"Morocco\",\"Mozambique\",\"Myanmar\",\"Namibia\",\"Nepal\",\"Netherlands\",\"New Zealand\",\"Nicaragua\",\"Niger\",\"Nigeria\",\"Nigeria\",\"North Korea\",\"Norway\",\"Oman\",\"Pakistan\",\"Palau\",\"Panama\",\"Papua New Guinea\",\"Paraguay\",\"Peru\",\"Philippines\",\"Poland\",\"Pol\\u00f4nia\",\"Portugal\",\"Qatar\",\"Romania\",\"Russia\",\"Russia\",\"Rwanda\",\"Saint Kitts and Nevis\",\"Saint Lucia\",\"Saint Vincent and the Grenadines\",\"Saint-Vincent-et-les-Grenadines\",\"Samoa\",\"San Marino\",\"Saudi Arabia\",\"Saudi Arabien\",\"Senegal\",\"Serbia\",\"Seychelles Islands\",\"Sierra Leone\",\"Singapore\",\"Slovakia\",\"Slovenia\",\"Solomon Islands\",\"Somalia\",\"South Africa\",\"South Korea\",\"Spain\",\"Sri Lanka\",\"Sudan\",\"Suriname\",\"Swaziland\",\"Sweden\",\"Switzerland\",\"Syria\",\"S\\u00fcdkorea\",\"Tajikistan\",\"Tanzania\",\"Thailand\",\"Timor-Leste\",\"Togo\",\"Tonga\",\"Trinidad and Tobago\",\"Tunisia\",\"Turkey\",\"Turkmenistan\",\"Turkm\\u00e9nistan\",\"Tuvalu\",\"USA United States of America\",\"Uganda\",\"Ukraine\",\"United Arab Emirates\",\"United Kingdom\",\"United States of America\",\"Uruguay\",\"Uzbekistan\",\"Vanuatu\",\"Vatican City\",\"Venezuela\",\"Vietnam\",\"Yemen\",\"Zambia\",\"Zimbabwe\",\"\\u0413\\u0432\\u0430\\u0442\\u0435\\u043c\\u0430\\u043b\\u0430\",\"\\u041f\\u043e\\u043b\\u044c\\u0448\\u0430\",\"\\u0422\\u0443\\u0440\\u0446\\u0438\\u044f\",\"\\u0643\\u0648\\u0644\\u0648\\u0645\\u0628\\u064a\\u0627\",\"\\u706b\\u9e21\"],\"name\":\"\",\"z\":[16.419213973799128,26.20524017467249,28.04824561403509,44.209606986899566,49.633187772925766,47.5353982300885,26.214912280701753,27.31877729257642,31.925764192139738,31.925764192139738,35.42982456140351,30.92543859649123,56.82666666666667,3.3668122270742358,42.18859649122807,48.083333333333336,45.53711790393013,56.558241758241756,74.59471365638767,50.89035087719298,65.05263157894737,31.29490022172949,39.68995633187773,13.030567685589519,37.87224669603524,37.87224669603524,70.01754385964912,32.265306122448976,27.57017543859649,45.61572052401747,75.0,55.23144104803494,48.47577092511013,57.48898678414097,42.35807860262009,45.75438596491228,24.646288209606986,30.334801762114537,11.135964912280702,11.135964912280702,69.0,67.91189427312776,48.078947368421055,57.57333333333333,29.68281938325991,39.629955947136565,30.17982456140351,42.99557522123894,48.903083700440526,52.574561403508774,21.123348017621144,54.87665198237885,51.64159292035398,33.220264317180614,14.596491228070175,49.10666666666667,64.4934497816594,42.082969432314414,49.969298245614034,25.0,56.08810572687225,63.02620087336245,43.0,51.76419213973799,54.81578947368421,36.98237885462555,28.070484581497798,34.92576419213974,34.92576419213974,52.03493449781659,23.26872246696035,39.008849557522126,63.50222222222222,58.97379912663755,41.18340611353712,52.76651982378855,37.77533039647577,66.79646017699115,32.213973799126634,65.8122270742358,75.0,33.17180616740088,33.17180616740088,51.28322440087146,22.013157894736842,9.68995633187773,65.60964912280701,14.714912280701755,19.95175438596491,32.76211453744494,47.60698689956332,84.0,13.283842794759826,46.219298245614034,64.64782608695653,52.25110132158591,55.0,85.0,6.851528384279476,42.6578947368421,98.0,42.87224669603524,29.17105263157895,18.94298245614035,87.0,71.4298245614035,0.0,50.75,49.81140350877193,48.290748898678416,32.99559471365639,26.75438596491228,31.99126637554585,35.379912663755455,61.18141592920354,30.03930131004367,21.074235807860262,59.0,0.0,84.57205240174673,15.043668122270743,53.6768558951965,54.06194690265487,32.0,81.46929824561404,34.28193832599119,37.38157894736842,28.092105263157894,32.59911894273128,34.80349344978166,66.87336244541484,7.118421052631579,58.87280701754386,44.73684210526316,50.7117903930131,47.216814159292035,17.80701754385965,46.698689956331876,46.698689956331876,33.82017543859649,48.1140350877193,14.20524017467249,16.964912280701753,78.00438596491227,61.00440528634361,56.85526315789474,28.419213973799128,47.56637168141593,66.30701754385964,33.56768558951965,32.0,27.863436123348016,3.307017543859649,20.25438596491228,42.8099173553719,42.8099173553719,50.578947368421055,41.48684210526316,51.780701754385966,57.77533039647577,86.0,60.097345132743364,28.853982300884955,4.762114537444934,0.0,30.502183406113538,21.855263157894736,48.969298245614034,63.52422907488987,63.506550218340614,30.719298245614034,51.7292576419214,56.213973799126634,48.12719298245614,6.104803493449782,27.12280701754386,21.0,58.30701754385965,17.592105263157894,41.26315789473684,26.289473684210527,31.912280701754387,51.55701754385965,10.912280701754385,0.0,25.767543859649123,30.353711790393014,41.65714285714286,41.691629955947135,85.0,55.07860262008734,35.4078947368421,29.403508771929825,33.53846153846154,37.60526315789474,2.0,67.23144104803494,34.333333333333336,37.74561403508772,42.532751091703055,5.406113537117904,52.74449339207048,47.20444444444445,37.99126637554585,14.174672489082969,61.12719298245614,20.08296943231441,27.277533039647576,46.693627450980394,32.12719298245614,14.807860262008735,12.977973568281937,46.0,74.0,25.0,92.0,4.0],\"type\":\"choropleth\"}],                        {\"template\":{\"data\":{\"histogram2dcontour\":[{\"type\":\"histogram2dcontour\",\"colorbar\":{\"outlinewidth\":0,\"ticks\":\"\"},\"colorscale\":[[0.0,\"#0d0887\"],[0.1111111111111111,\"#46039f\"],[0.2222222222222222,\"#7201a8\"],[0.3333333333333333,\"#9c179e\"],[0.4444444444444444,\"#bd3786\"],[0.5555555555555556,\"#d8576b\"],[0.6666666666666666,\"#ed7953\"],[0.7777777777777778,\"#fb9f3a\"],[0.8888888888888888,\"#fdca26\"],[1.0,\"#f0f921\"]]}],\"choropleth\":[{\"type\":\"choropleth\",\"colorbar\":{\"outlinewidth\":0,\"ticks\":\"\"}}],\"histogram2d\":[{\"type\":\"histogram2d\",\"colorbar\":{\"outlinewidth\":0,\"ticks\":\"\"},\"colorscale\":[[0.0,\"#0d0887\"],[0.1111111111111111,\"#46039f\"],[0.2222222222222222,\"#7201a8\"],[0.3333333333333333,\"#9c179e\"],[0.4444444444444444,\"#bd3786\"],[0.5555555555555556,\"#d8576b\"],[0.6666666666666666,\"#ed7953\"],[0.7777777777777778,\"#fb9f3a\"],[0.8888888888888888,\"#fdca26\"],[1.0,\"#f0f921\"]]}],\"heatmap\":[{\"type\":\"heatmap\",\"colorbar\":{\"outlinewidth\":0,\"ticks\":\"\"},\"colorscale\":[[0.0,\"#0d0887\"],[0.1111111111111111,\"#46039f\"],[0.2222222222222222,\"#7201a8\"],[0.3333333333333333,\"#9c179e\"],[0.4444444444444444,\"#bd3786\"],[0.5555555555555556,\"#d8576b\"],[0.6666666666666666,\"#ed7953\"],[0.7777777777777778,\"#fb9f3a\"],[0.8888888888888888,\"#fdca26\"],[1.0,\"#f0f921\"]]}],\"heatmapgl\":[{\"type\":\"heatmapgl\",\"colorbar\":{\"outlinewidth\":0,\"ticks\":\"\"},\"colorscale\":[[0.0,\"#0d0887\"],[0.1111111111111111,\"#46039f\"],[0.2222222222222222,\"#7201a8\"],[0.3333333333333333,\"#9c179e\"],[0.4444444444444444,\"#bd3786\"],[0.5555555555555556,\"#d8576b\"],[0.6666666666666666,\"#ed7953\"],[0.7777777777777778,\"#fb9f3a\"],[0.8888888888888888,\"#fdca26\"],[1.0,\"#f0f921\"]]}],\"contourcarpet\":[{\"type\":\"contourcarpet\",\"colorbar\":{\"outlinewidth\":0,\"ticks\":\"\"}}],\"contour\":[{\"type\":\"contour\",\"colorbar\":{\"outlinewidth\":0,\"ticks\":\"\"},\"colorscale\":[[0.0,\"#0d0887\"],[0.1111111111111111,\"#46039f\"],[0.2222222222222222,\"#7201a8\"],[0.3333333333333333,\"#9c179e\"],[0.4444444444444444,\"#bd3786\"],[0.5555555555555556,\"#d8576b\"],[0.6666666666666666,\"#ed7953\"],[0.7777777777777778,\"#fb9f3a\"],[0.8888888888888888,\"#fdca26\"],[1.0,\"#f0f921\"]]}],\"surface\":[{\"type\":\"surface\",\"colorbar\":{\"outlinewidth\":0,\"ticks\":\"\"},\"colorscale\":[[0.0,\"#0d0887\"],[0.1111111111111111,\"#46039f\"],[0.2222222222222222,\"#7201a8\"],[0.3333333333333333,\"#9c179e\"],[0.4444444444444444,\"#bd3786\"],[0.5555555555555556,\"#d8576b\"],[0.6666666666666666,\"#ed7953\"],[0.7777777777777778,\"#fb9f3a\"],[0.8888888888888888,\"#fdca26\"],[1.0,\"#f0f921\"]]}],\"mesh3d\":[{\"type\":\"mesh3d\",\"colorbar\":{\"outlinewidth\":0,\"ticks\":\"\"}}],\"scatter\":[{\"fillpattern\":{\"fillmode\":\"overlay\",\"size\":10,\"solidity\":0.2},\"type\":\"scatter\"}],\"parcoords\":[{\"type\":\"parcoords\",\"line\":{\"colorbar\":{\"outlinewidth\":0,\"ticks\":\"\"}}}],\"scatterpolargl\":[{\"type\":\"scatterpolargl\",\"marker\":{\"colorbar\":{\"outlinewidth\":0,\"ticks\":\"\"}}}],\"bar\":[{\"error_x\":{\"color\":\"#2a3f5f\"},\"error_y\":{\"color\":\"#2a3f5f\"},\"marker\":{\"line\":{\"color\":\"#E5ECF6\",\"width\":0.5},\"pattern\":{\"fillmode\":\"overlay\",\"size\":10,\"solidity\":0.2}},\"type\":\"bar\"}],\"scattergeo\":[{\"type\":\"scattergeo\",\"marker\":{\"colorbar\":{\"outlinewidth\":0,\"ticks\":\"\"}}}],\"scatterpolar\":[{\"type\":\"scatterpolar\",\"marker\":{\"colorbar\":{\"outlinewidth\":0,\"ticks\":\"\"}}}],\"histogram\":[{\"marker\":{\"pattern\":{\"fillmode\":\"overlay\",\"size\":10,\"solidity\":0.2}},\"type\":\"histogram\"}],\"scattergl\":[{\"type\":\"scattergl\",\"marker\":{\"colorbar\":{\"outlinewidth\":0,\"ticks\":\"\"}}}],\"scatter3d\":[{\"type\":\"scatter3d\",\"line\":{\"colorbar\":{\"outlinewidth\":0,\"ticks\":\"\"}},\"marker\":{\"colorbar\":{\"outlinewidth\":0,\"ticks\":\"\"}}}],\"scattermapbox\":[{\"type\":\"scattermapbox\",\"marker\":{\"colorbar\":{\"outlinewidth\":0,\"ticks\":\"\"}}}],\"scatterternary\":[{\"type\":\"scatterternary\",\"marker\":{\"colorbar\":{\"outlinewidth\":0,\"ticks\":\"\"}}}],\"scattercarpet\":[{\"type\":\"scattercarpet\",\"marker\":{\"colorbar\":{\"outlinewidth\":0,\"ticks\":\"\"}}}],\"carpet\":[{\"aaxis\":{\"endlinecolor\":\"#2a3f5f\",\"gridcolor\":\"white\",\"linecolor\":\"white\",\"minorgridcolor\":\"white\",\"startlinecolor\":\"#2a3f5f\"},\"baxis\":{\"endlinecolor\":\"#2a3f5f\",\"gridcolor\":\"white\",\"linecolor\":\"white\",\"minorgridcolor\":\"white\",\"startlinecolor\":\"#2a3f5f\"},\"type\":\"carpet\"}],\"table\":[{\"cells\":{\"fill\":{\"color\":\"#EBF0F8\"},\"line\":{\"color\":\"white\"}},\"header\":{\"fill\":{\"color\":\"#C8D4E3\"},\"line\":{\"color\":\"white\"}},\"type\":\"table\"}],\"barpolar\":[{\"marker\":{\"line\":{\"color\":\"#E5ECF6\",\"width\":0.5},\"pattern\":{\"fillmode\":\"overlay\",\"size\":10,\"solidity\":0.2}},\"type\":\"barpolar\"}],\"pie\":[{\"automargin\":true,\"type\":\"pie\"}]},\"layout\":{\"autotypenumbers\":\"strict\",\"colorway\":[\"#636efa\",\"#EF553B\",\"#00cc96\",\"#ab63fa\",\"#FFA15A\",\"#19d3f3\",\"#FF6692\",\"#B6E880\",\"#FF97FF\",\"#FECB52\"],\"font\":{\"color\":\"#2a3f5f\"},\"hovermode\":\"closest\",\"hoverlabel\":{\"align\":\"left\"},\"paper_bgcolor\":\"white\",\"plot_bgcolor\":\"#E5ECF6\",\"polar\":{\"bgcolor\":\"#E5ECF6\",\"angularaxis\":{\"gridcolor\":\"white\",\"linecolor\":\"white\",\"ticks\":\"\"},\"radialaxis\":{\"gridcolor\":\"white\",\"linecolor\":\"white\",\"ticks\":\"\"}},\"ternary\":{\"bgcolor\":\"#E5ECF6\",\"aaxis\":{\"gridcolor\":\"white\",\"linecolor\":\"white\",\"ticks\":\"\"},\"baxis\":{\"gridcolor\":\"white\",\"linecolor\":\"white\",\"ticks\":\"\"},\"caxis\":{\"gridcolor\":\"white\",\"linecolor\":\"white\",\"ticks\":\"\"}},\"coloraxis\":{\"colorbar\":{\"outlinewidth\":0,\"ticks\":\"\"}},\"colorscale\":{\"sequential\":[[0.0,\"#0d0887\"],[0.1111111111111111,\"#46039f\"],[0.2222222222222222,\"#7201a8\"],[0.3333333333333333,\"#9c179e\"],[0.4444444444444444,\"#bd3786\"],[0.5555555555555556,\"#d8576b\"],[0.6666666666666666,\"#ed7953\"],[0.7777777777777778,\"#fb9f3a\"],[0.8888888888888888,\"#fdca26\"],[1.0,\"#f0f921\"]],\"sequentialminus\":[[0.0,\"#0d0887\"],[0.1111111111111111,\"#46039f\"],[0.2222222222222222,\"#7201a8\"],[0.3333333333333333,\"#9c179e\"],[0.4444444444444444,\"#bd3786\"],[0.5555555555555556,\"#d8576b\"],[0.6666666666666666,\"#ed7953\"],[0.7777777777777778,\"#fb9f3a\"],[0.8888888888888888,\"#fdca26\"],[1.0,\"#f0f921\"]],\"diverging\":[[0,\"#8e0152\"],[0.1,\"#c51b7d\"],[0.2,\"#de77ae\"],[0.3,\"#f1b6da\"],[0.4,\"#fde0ef\"],[0.5,\"#f7f7f7\"],[0.6,\"#e6f5d0\"],[0.7,\"#b8e186\"],[0.8,\"#7fbc41\"],[0.9,\"#4d9221\"],[1,\"#276419\"]]},\"xaxis\":{\"gridcolor\":\"white\",\"linecolor\":\"white\",\"ticks\":\"\",\"title\":{\"standoff\":15},\"zerolinecolor\":\"white\",\"automargin\":true,\"zerolinewidth\":2},\"yaxis\":{\"gridcolor\":\"white\",\"linecolor\":\"white\",\"ticks\":\"\",\"title\":{\"standoff\":15},\"zerolinecolor\":\"white\",\"automargin\":true,\"zerolinewidth\":2},\"scene\":{\"xaxis\":{\"backgroundcolor\":\"#E5ECF6\",\"gridcolor\":\"white\",\"linecolor\":\"white\",\"showbackground\":true,\"ticks\":\"\",\"zerolinecolor\":\"white\",\"gridwidth\":2},\"yaxis\":{\"backgroundcolor\":\"#E5ECF6\",\"gridcolor\":\"white\",\"linecolor\":\"white\",\"showbackground\":true,\"ticks\":\"\",\"zerolinecolor\":\"white\",\"gridwidth\":2},\"zaxis\":{\"backgroundcolor\":\"#E5ECF6\",\"gridcolor\":\"white\",\"linecolor\":\"white\",\"showbackground\":true,\"ticks\":\"\",\"zerolinecolor\":\"white\",\"gridwidth\":2}},\"shapedefaults\":{\"line\":{\"color\":\"#2a3f5f\"}},\"annotationdefaults\":{\"arrowcolor\":\"#2a3f5f\",\"arrowhead\":0,\"arrowwidth\":1},\"geo\":{\"bgcolor\":\"white\",\"landcolor\":\"#E5ECF6\",\"subunitcolor\":\"white\",\"showland\":true,\"showlakes\":true,\"lakecolor\":\"white\"},\"title\":{\"x\":0.05},\"mapbox\":{\"style\":\"light\"}}},\"geo\":{\"domain\":{\"x\":[0.0,1.0],\"y\":[0.0,1.0]},\"center\":{},\"projection\":{\"type\":\"natural earth\"}},\"coloraxis\":{\"colorbar\":{\"title\":{\"text\":\"cloud\"}},\"colorscale\":[[0.0,\"#fee838\"],[0.1111111111111111,\"#e1cc55\"],[0.2222222222222222,\"#c3b369\"],[0.3333333333333333,\"#a59c74\"],[0.4444444444444444,\"#8a8678\"],[0.5555555555555556,\"#707173\"],[0.6666666666666666,\"#575d6d\"],[0.7777777777777778,\"#3b496c\"],[0.8888888888888888,\"#123570\"],[1.0,\"#00224e\"]]},\"legend\":{\"tracegroupgap\":0},\"title\":{\"text\":\"Hoeveelheid bewolking per land (in percentage)\"},\"width\":1000,\"height\":600},                        {\"responsive\": true}                    ).then(function(){\n",
       "                            \n",
       "var gd = document.getElementById('e7867cf6-60b6-43f5-b3a7-d157f2ddb6d4');\n",
       "var x = new MutationObserver(function (mutations, observer) {{\n",
       "        var display = window.getComputedStyle(gd).display;\n",
       "        if (!display || display === 'none') {{\n",
       "            console.log([gd, 'removed!']);\n",
       "            Plotly.purge(gd);\n",
       "            observer.disconnect();\n",
       "        }}\n",
       "}});\n",
       "\n",
       "// Listen for the removal of the full notebook cells\n",
       "var notebookContainer = gd.closest('#notebook-container');\n",
       "if (notebookContainer) {{\n",
       "    x.observe(notebookContainer, {childList: true});\n",
       "}}\n",
       "\n",
       "// Listen for the clearing of the current output cell\n",
       "var outputEl = gd.closest('.output');\n",
       "if (outputEl) {{\n",
       "    x.observe(outputEl, {childList: true});\n",
       "}}\n",
       "\n",
       "                        })                };                });            </script>        </div>"
      ]
     },
     "metadata": {},
     "output_type": "display_data"
    }
   ],
   "source": [
    "zonfig = px.choropleth(\n",
    "    df123,\n",
    "    locations='country',\n",
    "    locationmode='country names',\n",
    "    color='cloud',\n",
    "    color_continuous_scale='Cividis_r',\n",
    "    title='Hoeveelheid bewolking per land (in percentage)'\n",
    ")\n",
    "\n",
    "# Adjust size\n",
    "zonfig.update_layout(width=1000, height=600)\n",
    "\n",
    "# Adjust projection & zoom\n",
    "zonfig.update_geos(projection_type='natural earth')\n",
    "\n",
    "zonfig.show()\n",
    "\n",
    "# Klikken zodat je andere variabelen kan zien zodat we niet 300 wereldkaarten hebben"
   ]
  },
  {
   "cell_type": "markdown",
   "id": "f07d4a62-ad4f-4fd3-84ad-3540363a03fb",
   "metadata": {},
   "source": [
    "> *Figuur X: Vivamus elementum semper nisi. Aenean vulputate eleifend tellus. Aenean leo ligula, porttitor eu, consequat vitae, eleifend ac, enim. Aliquam lorem ante, dapibus in, viverra quis, feugiat a, tellus.*"
   ]
  },
  {
   "cell_type": "code",
   "execution_count": 9,
   "id": "9efe362b-87bf-499f-954c-691e3b3efaac",
   "metadata": {},
   "outputs": [
    {
     "data": {
      "application/vnd.plotly.v1+json": {
       "config": {
        "plotlyServerURL": "https://plot.ly"
       },
       "data": [
        {
         "hovertemplate": "<b>%{hovertext}</b><br><br>Gemiddelde temperatuur (°C)=%{marker.color}<br>Geluksscore=%{y}<extra></extra>",
         "hovertext": [
          "Afghanistan",
          "Albania",
          "Algeria",
          "Andorra",
          "Angola",
          "Antigua and Barbuda",
          "Argentina",
          "Armenia",
          "Australia",
          "Australia",
          "Austria",
          "Azerbaijan",
          "Bahamas",
          "Bahrain",
          "Bangladesh",
          "Barbados",
          "Belarus",
          "Belgium",
          "Belize",
          "Benin",
          "Bhutan",
          "Bolivia",
          "Bosnia and Herzegovina",
          "Botswana",
          "Brazil",
          "Brazil",
          "Brunei Darussalam",
          "Bulgaria",
          "Burkina Faso",
          "Burundi",
          "Bélgica",
          "Cambodia",
          "Cameroon",
          "Canada",
          "Cape Verde",
          "Central African Republic",
          "Chad",
          "Chile",
          "China",
          "China",
          "Colombia",
          "Comoros",
          "Congo",
          "Costa Rica",
          "Croatia",
          "Cuba",
          "Cyprus",
          "Czech Republic",
          "Democratic Republic of Congo",
          "Denmark",
          "Djibouti",
          "Dominica",
          "Dominican Republic",
          "Ecuador",
          "Egypt",
          "El Salvador",
          "Equatorial Guinea",
          "Eritrea",
          "Estonia",
          "Estonie",
          "Ethiopia",
          "Fiji Islands",
          "Finland",
          "France",
          "Gabon",
          "Gambia",
          "Georgia",
          "Germany",
          "Germany",
          "Ghana",
          "Greece",
          "Grenada",
          "Guatemala",
          "Guinea",
          "Guinea-Bissau",
          "Guyana",
          "Haiti",
          "Honduras",
          "Hungary",
          "Iceland",
          "Inde",
          "India",
          "India",
          "Indonesia",
          "Iran",
          "Iraq",
          "Ireland",
          "Israel",
          "Italy",
          "Jamaica",
          "Japan",
          "Jemen",
          "Jordan",
          "Kazakhstan",
          "Kenya",
          "Kiribati",
          "Komoren",
          "Kosovo",
          "Kuwait",
          "Kyrghyzstan",
          "Lao People's Democratic Republic",
          "Latvia",
          "Lebanon",
          "Lesotho",
          "Letonia",
          "Liberia",
          "Libya",
          "Liechtenstein",
          "Lithuania",
          "Luxembourg",
          "Macedonia",
          "Madagascar",
          "Malawi",
          "Malaysia",
          "Maldives",
          "Mali",
          "Malta",
          "Malásia",
          "Marrocos",
          "Marshall Islands",
          "Mauritania",
          "Mauritius",
          "Mexico",
          "Mexique",
          "Micronesia",
          "Monaco",
          "Mongolia",
          "Montenegro",
          "Morocco",
          "Mozambique",
          "Myanmar",
          "Namibia",
          "Nepal",
          "Netherlands",
          "New Zealand",
          "Nicaragua",
          "Niger",
          "Nigeria",
          "Nigeria",
          "North Korea",
          "Norway",
          "Oman",
          "Pakistan",
          "Palau",
          "Panama",
          "Papua New Guinea",
          "Paraguay",
          "Peru",
          "Philippines",
          "Poland",
          "Polônia",
          "Portugal",
          "Qatar",
          "Romania",
          "Russia",
          "Russia",
          "Rwanda",
          "Saint Kitts and Nevis",
          "Saint Lucia",
          "Saint Vincent and the Grenadines",
          "Saint-Vincent-et-les-Grenadines",
          "Samoa",
          "San Marino",
          "Saudi Arabia",
          "Saudi Arabien",
          "Senegal",
          "Serbia",
          "Seychelles Islands",
          "Sierra Leone",
          "Singapore",
          "Slovakia",
          "Slovenia",
          "Solomon Islands",
          "Somalia",
          "South Africa",
          "South Korea",
          "Spain",
          "Sri Lanka",
          "Sudan",
          "Suriname",
          "Swaziland",
          "Sweden",
          "Switzerland",
          "Syria",
          "Südkorea",
          "Tajikistan",
          "Tanzania",
          "Thailand",
          "Timor-Leste",
          "Togo",
          "Tonga",
          "Trinidad and Tobago",
          "Tunisia",
          "Turkey",
          "Turkmenistan",
          "Turkménistan",
          "Tuvalu",
          "USA United States of America",
          "Uganda",
          "Ukraine",
          "United Arab Emirates",
          "United Kingdom",
          "United States of America",
          "Uruguay",
          "Uzbekistan",
          "Vanuatu",
          "Vatican City",
          "Venezuela",
          "Vietnam",
          "Yemen",
          "Zambia",
          "Zimbabwe",
          "Гватемала",
          "Польша",
          "Турция",
          "كولومبيا",
          "火鸡"
         ],
         "legendgroup": "",
         "marker": {
          "color": [
           22.69694323144105,
           25.02227074235808,
           25.15438596491228,
           14.105676855895195,
           26.33580786026201,
           27.93185840707965,
           13.177631578947368,
           22.62052401746725,
           9.911790393013101,
           9.911790393013101,
           18.178947368421053,
           22.427192982456138,
           26.91911111111111,
           32.7117903930131,
           29.846491228070175,
           28.227192982456142,
           15.893013100436681,
           15.645934065934066,
           24.026872246696037,
           29.106578947368423,
           12.683333333333334,
           18.28580931263858,
           19.579912663755458,
           27.055458515283842,
           26.856828193832598,
           26.856828193832598,
           28.01359649122807,
           21.499795918367347,
           30.583771929824564,
           27.496943231441048,
           17.4,
           29.799126637554586,
           24.986784140969164,
           11.045374449339208,
           26.71004366812227,
           30.84780701754386,
           31.689956331877728,
           9.398678414096917,
           19.4390350877193,
           19.4390350877193,
           13.5,
           25.76035242290749,
           29.773684210526316,
           18.223555555555556,
           20.00088105726872,
           25.40352422907489,
           28.92105263157895,
           16.326106194690265,
           29.662114537444936,
           14.864473684210527,
           33.71674008810572,
           27.931277533039648,
           25.70486725663717,
           11.094273127753304,
           30.751315789473686,
           22.07466666666667,
           27.134497816593885,
           21.824890829694322,
           14.368421052631579,
           23.3,
           20.505286343612333,
           23.397816593886464,
           14.239737991266376,
           16.955458515283844,
           27.61798245614035,
           28.163876651982378,
           21.36079295154185,
           17.211353711790395,
           17.211353711790395,
           28.25720524017467,
           26.6784140969163,
           28.207964601769913,
           17.41111111111111,
           26.956768558951968,
           28.360698689956333,
           26.024229074889867,
           24.97180616740088,
           18.90929203539823,
           19.74235807860262,
           6.769432314410481,
           31.2,
           32.13348017621146,
           32.13348017621146,
           26.808496732026146,
           23.588815789473685,
           35.33580786026201,
           13.483771929824563,
           25.742105263157892,
           24.035087719298247,
           28.027753303964758,
           22.009606986899563,
           26.1,
           26.631004366812228,
           12.075877192982457,
           23.30086956521739,
           28.37224669603524,
           25.2,
           29.3,
           35.68296943231441,
           18.375877192982454,
           25,
           15.704405286343613,
           25.969736842105263,
           21.133333333333333,
           20.6,
           27.108771929824563,
           27,
           13.82719298245614,
           15.525877192982456,
           14.411013215859032,
           23.333920704845816,
           27.181140350877193,
           27.13231441048035,
           28.33711790393013,
           28.081858407079647,
           29.43580786026201,
           25.733624454148472,
           24.3,
           40.3,
           28.33231441048035,
           26.358515283842795,
           25.01528384279476,
           14.369911504424778,
           27.4,
           27.435087719298245,
           21.047577092511013,
           5.561842105263158,
           23.79605263157895,
           22.718502202643172,
           26.868995633187772,
           28.606550218340608,
           25.891666666666666,
           22.147368421052633,
           15.667543859649122,
           12.035807860262008,
           24.383185840707966,
           31.850438596491227,
           29.04934497816594,
           29.04934497816594,
           16.15657894736842,
           10.679385964912282,
           32.57510917030567,
           30.546491228070177,
           27.63421052631579,
           25.83832599118943,
           25.90921052631579,
           21.127947598253275,
           16.539823008849556,
           29.045614035087716,
           17.57117903930131,
           27.7,
           20.751541850220267,
           35.14035087719298,
           21.954385964912284,
           15.618181818181817,
           15.618181818181817,
           26.521491228070175,
           28.28377192982456,
           28.046491228070177,
           28.69647577092511,
           27.8,
           25.509734513274335,
           20.953982300884956,
           36.25550660792952,
           45,
           27.32532751091703,
           21.262719298245614,
           27.90921052631579,
           26.97973568281938,
           28.80655021834061,
           18.553947368421053,
           18.26375545851528,
           26.078602620087338,
           28.678947368421053,
           23.500873362445414,
           18.56315789473684,
           21.760087719298248,
           29.078070175438597,
           32.60087719298246,
           25.850438596491227,
           23.769298245614035,
           14.560964912280703,
           15.997368421052633,
           28.618859649122808,
           26.1,
           24.714473684210525,
           28.039737991266378,
           29.27098901098901,
           25.670484581497796,
           27.9,
           22.747598253275108,
           26.825438596491228,
           27.042543859649122,
           23.3632967032967,
           26.25482456140351,
           37.8,
           28.666812227074235,
           24.53333333333333,
           26.473684210526315,
           18.504366812227076,
           33.93973799126638,
           15.58590308370044,
           9.506222222222222,
           13.151528384279475,
           24.602183406113536,
           23.385964912280702,
           24.024454148471616,
           23.02863436123348,
           26.532107843137254,
           23.580701754385963,
           28.12227074235808,
           26.427312775330396,
           15.9,
           24.2,
           34,
           23.1,
           29.7
          ],
          "coloraxis": "coloraxis",
          "symbol": "circle"
         },
         "mode": "markers",
         "name": "",
         "orientation": "v",
         "showlegend": false,
         "type": "scatter",
         "x": [
          22.69694323144105,
          25.02227074235808,
          25.15438596491228,
          14.105676855895195,
          26.33580786026201,
          27.93185840707965,
          13.177631578947368,
          22.62052401746725,
          9.911790393013101,
          9.911790393013101,
          18.178947368421053,
          22.427192982456138,
          26.91911111111111,
          32.7117903930131,
          29.846491228070175,
          28.227192982456142,
          15.893013100436681,
          15.645934065934066,
          24.026872246696037,
          29.106578947368423,
          12.683333333333334,
          18.28580931263858,
          19.579912663755458,
          27.055458515283842,
          26.856828193832598,
          26.856828193832598,
          28.01359649122807,
          21.499795918367347,
          30.583771929824564,
          27.496943231441048,
          17.4,
          29.799126637554586,
          24.986784140969164,
          11.045374449339208,
          26.71004366812227,
          30.84780701754386,
          31.689956331877728,
          9.398678414096917,
          19.4390350877193,
          19.4390350877193,
          13.5,
          25.76035242290749,
          29.773684210526316,
          18.223555555555556,
          20.00088105726872,
          25.40352422907489,
          28.92105263157895,
          16.326106194690265,
          29.662114537444936,
          14.864473684210527,
          33.71674008810572,
          27.931277533039648,
          25.70486725663717,
          11.094273127753304,
          30.751315789473686,
          22.07466666666667,
          27.134497816593885,
          21.824890829694322,
          14.368421052631579,
          23.3,
          20.505286343612333,
          23.397816593886464,
          14.239737991266376,
          16.955458515283844,
          27.61798245614035,
          28.163876651982378,
          21.36079295154185,
          17.211353711790395,
          17.211353711790395,
          28.25720524017467,
          26.6784140969163,
          28.207964601769913,
          17.41111111111111,
          26.956768558951968,
          28.360698689956333,
          26.024229074889867,
          24.97180616740088,
          18.90929203539823,
          19.74235807860262,
          6.769432314410481,
          31.2,
          32.13348017621146,
          32.13348017621146,
          26.808496732026146,
          23.588815789473685,
          35.33580786026201,
          13.483771929824563,
          25.742105263157892,
          24.035087719298247,
          28.027753303964758,
          22.009606986899563,
          26.1,
          26.631004366812228,
          12.075877192982457,
          23.30086956521739,
          28.37224669603524,
          25.2,
          29.3,
          35.68296943231441,
          18.375877192982454,
          25,
          15.704405286343613,
          25.969736842105263,
          21.133333333333333,
          20.6,
          27.108771929824563,
          27,
          13.82719298245614,
          15.525877192982456,
          14.411013215859032,
          23.333920704845816,
          27.181140350877193,
          27.13231441048035,
          28.33711790393013,
          28.081858407079647,
          29.43580786026201,
          25.733624454148472,
          24.3,
          40.3,
          28.33231441048035,
          26.358515283842795,
          25.01528384279476,
          14.369911504424778,
          27.4,
          27.435087719298245,
          21.047577092511013,
          5.561842105263158,
          23.79605263157895,
          22.718502202643172,
          26.868995633187772,
          28.606550218340608,
          25.891666666666666,
          22.147368421052633,
          15.667543859649122,
          12.035807860262008,
          24.383185840707966,
          31.850438596491227,
          29.04934497816594,
          29.04934497816594,
          16.15657894736842,
          10.679385964912282,
          32.57510917030567,
          30.546491228070177,
          27.63421052631579,
          25.83832599118943,
          25.90921052631579,
          21.127947598253275,
          16.539823008849556,
          29.045614035087716,
          17.57117903930131,
          27.7,
          20.751541850220267,
          35.14035087719298,
          21.954385964912284,
          15.618181818181817,
          15.618181818181817,
          26.521491228070175,
          28.28377192982456,
          28.046491228070177,
          28.69647577092511,
          27.8,
          25.509734513274335,
          20.953982300884956,
          36.25550660792952,
          45,
          27.32532751091703,
          21.262719298245614,
          27.90921052631579,
          26.97973568281938,
          28.80655021834061,
          18.553947368421053,
          18.26375545851528,
          26.078602620087338,
          28.678947368421053,
          23.500873362445414,
          18.56315789473684,
          21.760087719298248,
          29.078070175438597,
          32.60087719298246,
          25.850438596491227,
          23.769298245614035,
          14.560964912280703,
          15.997368421052633,
          28.618859649122808,
          26.1,
          24.714473684210525,
          28.039737991266378,
          29.27098901098901,
          25.670484581497796,
          27.9,
          22.747598253275108,
          26.825438596491228,
          27.042543859649122,
          23.3632967032967,
          26.25482456140351,
          37.8,
          28.666812227074235,
          24.53333333333333,
          26.473684210526315,
          18.504366812227076,
          33.93973799126638,
          15.58590308370044,
          9.506222222222222,
          13.151528384279475,
          24.602183406113536,
          23.385964912280702,
          24.024454148471616,
          23.02863436123348,
          26.532107843137254,
          23.580701754385963,
          28.12227074235808,
          26.427312775330396,
          15.9,
          24.2,
          34,
          23.1,
          29.7
         ],
         "xaxis": "x",
         "y": [
          1.721,
          5.304,
          5.364,
          null,
          null,
          null,
          6.188,
          5.455,
          7.057,
          7.057,
          6.905,
          4.893,
          null,
          5.959,
          3.886,
          null,
          null,
          6.894,
          null,
          4.377,
          null,
          5.784,
          5.877,
          3.383,
          6.272,
          6.272,
          null,
          5.463,
          4.548,
          null,
          null,
          4.341,
          4.874,
          6.9,
          null,
          null,
          4.471,
          6.36,
          5.973,
          5.973,
          5.695,
          3.566,
          null,
          6.955,
          5.942,
          null,
          6.068,
          null,
          null,
          7.583,
          null,
          null,
          5.823,
          5.725,
          3.977,
          6.469,
          null,
          null,
          6.448,
          null,
          3.861,
          null,
          7.741,
          6.609,
          5.106,
          4.485,
          5.185,
          6.719,
          6.719,
          4.289,
          5.934,
          null,
          6.287,
          5.023,
          null,
          null,
          null,
          5.968,
          6.017,
          7.525,
          null,
          4.054,
          4.054,
          5.568,
          4.923,
          5.166,
          6.838,
          7.341,
          6.324,
          5.842,
          6.06,
          null,
          4.186,
          6.188,
          4.47,
          null,
          null,
          6.561,
          6.951,
          null,
          null,
          6.234,
          2.707,
          3.186,
          null,
          4.269,
          5.866,
          null,
          6.818,
          7.122,
          null,
          4.228,
          3.421,
          5.975,
          null,
          4.232,
          6.346,
          null,
          null,
          null,
          4.505,
          5.816,
          6.678,
          null,
          null,
          null,
          5.696,
          5.707,
          4.795,
          5.216,
          4.354,
          4.832,
          5.158,
          7.319,
          7.029,
          6.284,
          4.556,
          4.881,
          4.881,
          null,
          7.302,
          null,
          4.657,
          null,
          6.358,
          null,
          5.977,
          5.841,
          6.048,
          6.442,
          null,
          6.03,
          null,
          6.491,
          5.785,
          5.785,
          null,
          null,
          null,
          null,
          null,
          null,
          null,
          6.594,
          null,
          4.969,
          6.411,
          null,
          3.245,
          6.523,
          6.257,
          6.743,
          null,
          null,
          5.422,
          6.058,
          6.421,
          3.898,
          null,
          null,
          null,
          7.344,
          7.06,
          null,
          null,
          5.281,
          3.781,
          5.976,
          null,
          4.214,
          null,
          null,
          4.422,
          null,
          null,
          null,
          null,
          null,
          4.372,
          4.873,
          6.733,
          6.749,
          null,
          6.611,
          6.195,
          null,
          null,
          5.607,
          6.043,
          3.561,
          3.502,
          3.341,
          null,
          null,
          null,
          null,
          null
         ],
         "yaxis": "y"
        }
       ],
       "layout": {
        "coloraxis": {
         "colorbar": {
          "title": {
           "text": "Gemiddelde temperatuur (°C)"
          }
         },
         "colorscale": [
          [
           0,
           "rgb(3, 35, 51)"
          ],
          [
           0.09090909090909091,
           "rgb(13, 48, 100)"
          ],
          [
           0.18181818181818182,
           "rgb(53, 50, 155)"
          ],
          [
           0.2727272727272727,
           "rgb(93, 62, 153)"
          ],
          [
           0.36363636363636365,
           "rgb(126, 77, 143)"
          ],
          [
           0.45454545454545453,
           "rgb(158, 89, 135)"
          ],
          [
           0.5454545454545454,
           "rgb(193, 100, 121)"
          ],
          [
           0.6363636363636364,
           "rgb(225, 113, 97)"
          ],
          [
           0.7272727272727273,
           "rgb(246, 139, 69)"
          ],
          [
           0.8181818181818182,
           "rgb(251, 173, 60)"
          ],
          [
           0.9090909090909091,
           "rgb(246, 211, 70)"
          ],
          [
           1,
           "rgb(231, 250, 90)"
          ]
         ]
        },
        "height": 600,
        "legend": {
         "tracegroupgap": 0
        },
        "template": {
         "data": {
          "bar": [
           {
            "error_x": {
             "color": "#2a3f5f"
            },
            "error_y": {
             "color": "#2a3f5f"
            },
            "marker": {
             "line": {
              "color": "#E5ECF6",
              "width": 0.5
             },
             "pattern": {
              "fillmode": "overlay",
              "size": 10,
              "solidity": 0.2
             }
            },
            "type": "bar"
           }
          ],
          "barpolar": [
           {
            "marker": {
             "line": {
              "color": "#E5ECF6",
              "width": 0.5
             },
             "pattern": {
              "fillmode": "overlay",
              "size": 10,
              "solidity": 0.2
             }
            },
            "type": "barpolar"
           }
          ],
          "carpet": [
           {
            "aaxis": {
             "endlinecolor": "#2a3f5f",
             "gridcolor": "white",
             "linecolor": "white",
             "minorgridcolor": "white",
             "startlinecolor": "#2a3f5f"
            },
            "baxis": {
             "endlinecolor": "#2a3f5f",
             "gridcolor": "white",
             "linecolor": "white",
             "minorgridcolor": "white",
             "startlinecolor": "#2a3f5f"
            },
            "type": "carpet"
           }
          ],
          "choropleth": [
           {
            "colorbar": {
             "outlinewidth": 0,
             "ticks": ""
            },
            "type": "choropleth"
           }
          ],
          "contour": [
           {
            "colorbar": {
             "outlinewidth": 0,
             "ticks": ""
            },
            "colorscale": [
             [
              0,
              "#0d0887"
             ],
             [
              0.1111111111111111,
              "#46039f"
             ],
             [
              0.2222222222222222,
              "#7201a8"
             ],
             [
              0.3333333333333333,
              "#9c179e"
             ],
             [
              0.4444444444444444,
              "#bd3786"
             ],
             [
              0.5555555555555556,
              "#d8576b"
             ],
             [
              0.6666666666666666,
              "#ed7953"
             ],
             [
              0.7777777777777778,
              "#fb9f3a"
             ],
             [
              0.8888888888888888,
              "#fdca26"
             ],
             [
              1,
              "#f0f921"
             ]
            ],
            "type": "contour"
           }
          ],
          "contourcarpet": [
           {
            "colorbar": {
             "outlinewidth": 0,
             "ticks": ""
            },
            "type": "contourcarpet"
           }
          ],
          "heatmap": [
           {
            "colorbar": {
             "outlinewidth": 0,
             "ticks": ""
            },
            "colorscale": [
             [
              0,
              "#0d0887"
             ],
             [
              0.1111111111111111,
              "#46039f"
             ],
             [
              0.2222222222222222,
              "#7201a8"
             ],
             [
              0.3333333333333333,
              "#9c179e"
             ],
             [
              0.4444444444444444,
              "#bd3786"
             ],
             [
              0.5555555555555556,
              "#d8576b"
             ],
             [
              0.6666666666666666,
              "#ed7953"
             ],
             [
              0.7777777777777778,
              "#fb9f3a"
             ],
             [
              0.8888888888888888,
              "#fdca26"
             ],
             [
              1,
              "#f0f921"
             ]
            ],
            "type": "heatmap"
           }
          ],
          "heatmapgl": [
           {
            "colorbar": {
             "outlinewidth": 0,
             "ticks": ""
            },
            "colorscale": [
             [
              0,
              "#0d0887"
             ],
             [
              0.1111111111111111,
              "#46039f"
             ],
             [
              0.2222222222222222,
              "#7201a8"
             ],
             [
              0.3333333333333333,
              "#9c179e"
             ],
             [
              0.4444444444444444,
              "#bd3786"
             ],
             [
              0.5555555555555556,
              "#d8576b"
             ],
             [
              0.6666666666666666,
              "#ed7953"
             ],
             [
              0.7777777777777778,
              "#fb9f3a"
             ],
             [
              0.8888888888888888,
              "#fdca26"
             ],
             [
              1,
              "#f0f921"
             ]
            ],
            "type": "heatmapgl"
           }
          ],
          "histogram": [
           {
            "marker": {
             "pattern": {
              "fillmode": "overlay",
              "size": 10,
              "solidity": 0.2
             }
            },
            "type": "histogram"
           }
          ],
          "histogram2d": [
           {
            "colorbar": {
             "outlinewidth": 0,
             "ticks": ""
            },
            "colorscale": [
             [
              0,
              "#0d0887"
             ],
             [
              0.1111111111111111,
              "#46039f"
             ],
             [
              0.2222222222222222,
              "#7201a8"
             ],
             [
              0.3333333333333333,
              "#9c179e"
             ],
             [
              0.4444444444444444,
              "#bd3786"
             ],
             [
              0.5555555555555556,
              "#d8576b"
             ],
             [
              0.6666666666666666,
              "#ed7953"
             ],
             [
              0.7777777777777778,
              "#fb9f3a"
             ],
             [
              0.8888888888888888,
              "#fdca26"
             ],
             [
              1,
              "#f0f921"
             ]
            ],
            "type": "histogram2d"
           }
          ],
          "histogram2dcontour": [
           {
            "colorbar": {
             "outlinewidth": 0,
             "ticks": ""
            },
            "colorscale": [
             [
              0,
              "#0d0887"
             ],
             [
              0.1111111111111111,
              "#46039f"
             ],
             [
              0.2222222222222222,
              "#7201a8"
             ],
             [
              0.3333333333333333,
              "#9c179e"
             ],
             [
              0.4444444444444444,
              "#bd3786"
             ],
             [
              0.5555555555555556,
              "#d8576b"
             ],
             [
              0.6666666666666666,
              "#ed7953"
             ],
             [
              0.7777777777777778,
              "#fb9f3a"
             ],
             [
              0.8888888888888888,
              "#fdca26"
             ],
             [
              1,
              "#f0f921"
             ]
            ],
            "type": "histogram2dcontour"
           }
          ],
          "mesh3d": [
           {
            "colorbar": {
             "outlinewidth": 0,
             "ticks": ""
            },
            "type": "mesh3d"
           }
          ],
          "parcoords": [
           {
            "line": {
             "colorbar": {
              "outlinewidth": 0,
              "ticks": ""
             }
            },
            "type": "parcoords"
           }
          ],
          "pie": [
           {
            "automargin": true,
            "type": "pie"
           }
          ],
          "scatter": [
           {
            "fillpattern": {
             "fillmode": "overlay",
             "size": 10,
             "solidity": 0.2
            },
            "type": "scatter"
           }
          ],
          "scatter3d": [
           {
            "line": {
             "colorbar": {
              "outlinewidth": 0,
              "ticks": ""
             }
            },
            "marker": {
             "colorbar": {
              "outlinewidth": 0,
              "ticks": ""
             }
            },
            "type": "scatter3d"
           }
          ],
          "scattercarpet": [
           {
            "marker": {
             "colorbar": {
              "outlinewidth": 0,
              "ticks": ""
             }
            },
            "type": "scattercarpet"
           }
          ],
          "scattergeo": [
           {
            "marker": {
             "colorbar": {
              "outlinewidth": 0,
              "ticks": ""
             }
            },
            "type": "scattergeo"
           }
          ],
          "scattergl": [
           {
            "marker": {
             "colorbar": {
              "outlinewidth": 0,
              "ticks": ""
             }
            },
            "type": "scattergl"
           }
          ],
          "scattermapbox": [
           {
            "marker": {
             "colorbar": {
              "outlinewidth": 0,
              "ticks": ""
             }
            },
            "type": "scattermapbox"
           }
          ],
          "scatterpolar": [
           {
            "marker": {
             "colorbar": {
              "outlinewidth": 0,
              "ticks": ""
             }
            },
            "type": "scatterpolar"
           }
          ],
          "scatterpolargl": [
           {
            "marker": {
             "colorbar": {
              "outlinewidth": 0,
              "ticks": ""
             }
            },
            "type": "scatterpolargl"
           }
          ],
          "scatterternary": [
           {
            "marker": {
             "colorbar": {
              "outlinewidth": 0,
              "ticks": ""
             }
            },
            "type": "scatterternary"
           }
          ],
          "surface": [
           {
            "colorbar": {
             "outlinewidth": 0,
             "ticks": ""
            },
            "colorscale": [
             [
              0,
              "#0d0887"
             ],
             [
              0.1111111111111111,
              "#46039f"
             ],
             [
              0.2222222222222222,
              "#7201a8"
             ],
             [
              0.3333333333333333,
              "#9c179e"
             ],
             [
              0.4444444444444444,
              "#bd3786"
             ],
             [
              0.5555555555555556,
              "#d8576b"
             ],
             [
              0.6666666666666666,
              "#ed7953"
             ],
             [
              0.7777777777777778,
              "#fb9f3a"
             ],
             [
              0.8888888888888888,
              "#fdca26"
             ],
             [
              1,
              "#f0f921"
             ]
            ],
            "type": "surface"
           }
          ],
          "table": [
           {
            "cells": {
             "fill": {
              "color": "#EBF0F8"
             },
             "line": {
              "color": "white"
             }
            },
            "header": {
             "fill": {
              "color": "#C8D4E3"
             },
             "line": {
              "color": "white"
             }
            },
            "type": "table"
           }
          ]
         },
         "layout": {
          "annotationdefaults": {
           "arrowcolor": "#2a3f5f",
           "arrowhead": 0,
           "arrowwidth": 1
          },
          "autotypenumbers": "strict",
          "coloraxis": {
           "colorbar": {
            "outlinewidth": 0,
            "ticks": ""
           }
          },
          "colorscale": {
           "diverging": [
            [
             0,
             "#8e0152"
            ],
            [
             0.1,
             "#c51b7d"
            ],
            [
             0.2,
             "#de77ae"
            ],
            [
             0.3,
             "#f1b6da"
            ],
            [
             0.4,
             "#fde0ef"
            ],
            [
             0.5,
             "#f7f7f7"
            ],
            [
             0.6,
             "#e6f5d0"
            ],
            [
             0.7,
             "#b8e186"
            ],
            [
             0.8,
             "#7fbc41"
            ],
            [
             0.9,
             "#4d9221"
            ],
            [
             1,
             "#276419"
            ]
           ],
           "sequential": [
            [
             0,
             "#0d0887"
            ],
            [
             0.1111111111111111,
             "#46039f"
            ],
            [
             0.2222222222222222,
             "#7201a8"
            ],
            [
             0.3333333333333333,
             "#9c179e"
            ],
            [
             0.4444444444444444,
             "#bd3786"
            ],
            [
             0.5555555555555556,
             "#d8576b"
            ],
            [
             0.6666666666666666,
             "#ed7953"
            ],
            [
             0.7777777777777778,
             "#fb9f3a"
            ],
            [
             0.8888888888888888,
             "#fdca26"
            ],
            [
             1,
             "#f0f921"
            ]
           ],
           "sequentialminus": [
            [
             0,
             "#0d0887"
            ],
            [
             0.1111111111111111,
             "#46039f"
            ],
            [
             0.2222222222222222,
             "#7201a8"
            ],
            [
             0.3333333333333333,
             "#9c179e"
            ],
            [
             0.4444444444444444,
             "#bd3786"
            ],
            [
             0.5555555555555556,
             "#d8576b"
            ],
            [
             0.6666666666666666,
             "#ed7953"
            ],
            [
             0.7777777777777778,
             "#fb9f3a"
            ],
            [
             0.8888888888888888,
             "#fdca26"
            ],
            [
             1,
             "#f0f921"
            ]
           ]
          },
          "colorway": [
           "#636efa",
           "#EF553B",
           "#00cc96",
           "#ab63fa",
           "#FFA15A",
           "#19d3f3",
           "#FF6692",
           "#B6E880",
           "#FF97FF",
           "#FECB52"
          ],
          "font": {
           "color": "#2a3f5f"
          },
          "geo": {
           "bgcolor": "white",
           "lakecolor": "white",
           "landcolor": "#E5ECF6",
           "showlakes": true,
           "showland": true,
           "subunitcolor": "white"
          },
          "hoverlabel": {
           "align": "left"
          },
          "hovermode": "closest",
          "mapbox": {
           "style": "light"
          },
          "paper_bgcolor": "white",
          "plot_bgcolor": "#E5ECF6",
          "polar": {
           "angularaxis": {
            "gridcolor": "white",
            "linecolor": "white",
            "ticks": ""
           },
           "bgcolor": "#E5ECF6",
           "radialaxis": {
            "gridcolor": "white",
            "linecolor": "white",
            "ticks": ""
           }
          },
          "scene": {
           "xaxis": {
            "backgroundcolor": "#E5ECF6",
            "gridcolor": "white",
            "gridwidth": 2,
            "linecolor": "white",
            "showbackground": true,
            "ticks": "",
            "zerolinecolor": "white"
           },
           "yaxis": {
            "backgroundcolor": "#E5ECF6",
            "gridcolor": "white",
            "gridwidth": 2,
            "linecolor": "white",
            "showbackground": true,
            "ticks": "",
            "zerolinecolor": "white"
           },
           "zaxis": {
            "backgroundcolor": "#E5ECF6",
            "gridcolor": "white",
            "gridwidth": 2,
            "linecolor": "white",
            "showbackground": true,
            "ticks": "",
            "zerolinecolor": "white"
           }
          },
          "shapedefaults": {
           "line": {
            "color": "#2a3f5f"
           }
          },
          "ternary": {
           "aaxis": {
            "gridcolor": "white",
            "linecolor": "white",
            "ticks": ""
           },
           "baxis": {
            "gridcolor": "white",
            "linecolor": "white",
            "ticks": ""
           },
           "bgcolor": "#E5ECF6",
           "caxis": {
            "gridcolor": "white",
            "linecolor": "white",
            "ticks": ""
           }
          },
          "title": {
           "x": 0.05
          },
          "xaxis": {
           "automargin": true,
           "gridcolor": "white",
           "linecolor": "white",
           "ticks": "",
           "title": {
            "standoff": 15
           },
           "zerolinecolor": "white",
           "zerolinewidth": 2
          },
          "yaxis": {
           "automargin": true,
           "gridcolor": "white",
           "linecolor": "white",
           "ticks": "",
           "title": {
            "standoff": 15
           },
           "zerolinecolor": "white",
           "zerolinewidth": 2
          }
         }
        },
        "title": {
         "text": "Relatie tussen gemiddelde temperatuur en geluksscore per land"
        },
        "width": 900,
        "xaxis": {
         "anchor": "y",
         "autorange": true,
         "domain": [
          0,
          1
         ],
         "range": [
          3.042838008194138,
          47.51900409706902
         ],
         "title": {
          "text": "Gemiddelde temperatuur (°C)"
         },
         "type": "linear"
        },
        "yaxis": {
         "anchor": "x",
         "autorange": true,
         "domain": [
          0,
          1
         ],
         "range": [
          1.3188542510121457,
          8.143145748987854
         ],
         "title": {
          "text": "Geluksscore"
         },
         "type": "linear"
        }
       }
      },
      "text/html": [
       "<div>                            <div id=\"4a673615-98c7-401f-bd37-34619f517457\" class=\"plotly-graph-div\" style=\"height:600px; width:900px;\"></div>            <script type=\"text/javascript\">                require([\"plotly\"], function(Plotly) {                    window.PLOTLYENV=window.PLOTLYENV || {};                                    if (document.getElementById(\"4a673615-98c7-401f-bd37-34619f517457\")) {                    Plotly.newPlot(                        \"4a673615-98c7-401f-bd37-34619f517457\",                        [{\"hovertemplate\":\"\\u003cb\\u003e%{hovertext}\\u003c\\u002fb\\u003e\\u003cbr\\u003e\\u003cbr\\u003eGemiddelde temperatuur (\\u00b0C)=%{marker.color}\\u003cbr\\u003eGeluksscore=%{y}\\u003cextra\\u003e\\u003c\\u002fextra\\u003e\",\"hovertext\":[\"Afghanistan\",\"Albania\",\"Algeria\",\"Andorra\",\"Angola\",\"Antigua and Barbuda\",\"Argentina\",\"Armenia\",\"Australia\",\"Australia\",\"Austria\",\"Azerbaijan\",\"Bahamas\",\"Bahrain\",\"Bangladesh\",\"Barbados\",\"Belarus\",\"Belgium\",\"Belize\",\"Benin\",\"Bhutan\",\"Bolivia\",\"Bosnia and Herzegovina\",\"Botswana\",\"Brazil\",\"Brazil\",\"Brunei Darussalam\",\"Bulgaria\",\"Burkina Faso\",\"Burundi\",\"B\\u00e9lgica\",\"Cambodia\",\"Cameroon\",\"Canada\",\"Cape Verde\",\"Central African Republic\",\"Chad\",\"Chile\",\"China\",\"China\",\"Colombia\",\"Comoros\",\"Congo\",\"Costa Rica\",\"Croatia\",\"Cuba\",\"Cyprus\",\"Czech Republic\",\"Democratic Republic of Congo\",\"Denmark\",\"Djibouti\",\"Dominica\",\"Dominican Republic\",\"Ecuador\",\"Egypt\",\"El Salvador\",\"Equatorial Guinea\",\"Eritrea\",\"Estonia\",\"Estonie\",\"Ethiopia\",\"Fiji Islands\",\"Finland\",\"France\",\"Gabon\",\"Gambia\",\"Georgia\",\"Germany\",\"Germany\",\"Ghana\",\"Greece\",\"Grenada\",\"Guatemala\",\"Guinea\",\"Guinea-Bissau\",\"Guyana\",\"Haiti\",\"Honduras\",\"Hungary\",\"Iceland\",\"Inde\",\"India\",\"India\",\"Indonesia\",\"Iran\",\"Iraq\",\"Ireland\",\"Israel\",\"Italy\",\"Jamaica\",\"Japan\",\"Jemen\",\"Jordan\",\"Kazakhstan\",\"Kenya\",\"Kiribati\",\"Komoren\",\"Kosovo\",\"Kuwait\",\"Kyrghyzstan\",\"Lao People's Democratic Republic\",\"Latvia\",\"Lebanon\",\"Lesotho\",\"Letonia\",\"Liberia\",\"Libya\",\"Liechtenstein\",\"Lithuania\",\"Luxembourg\",\"Macedonia\",\"Madagascar\",\"Malawi\",\"Malaysia\",\"Maldives\",\"Mali\",\"Malta\",\"Mal\\u00e1sia\",\"Marrocos\",\"Marshall Islands\",\"Mauritania\",\"Mauritius\",\"Mexico\",\"Mexique\",\"Micronesia\",\"Monaco\",\"Mongolia\",\"Montenegro\",\"Morocco\",\"Mozambique\",\"Myanmar\",\"Namibia\",\"Nepal\",\"Netherlands\",\"New Zealand\",\"Nicaragua\",\"Niger\",\"Nigeria\",\"Nigeria\",\"North Korea\",\"Norway\",\"Oman\",\"Pakistan\",\"Palau\",\"Panama\",\"Papua New Guinea\",\"Paraguay\",\"Peru\",\"Philippines\",\"Poland\",\"Pol\\u00f4nia\",\"Portugal\",\"Qatar\",\"Romania\",\"Russia\",\"Russia\",\"Rwanda\",\"Saint Kitts and Nevis\",\"Saint Lucia\",\"Saint Vincent and the Grenadines\",\"Saint-Vincent-et-les-Grenadines\",\"Samoa\",\"San Marino\",\"Saudi Arabia\",\"Saudi Arabien\",\"Senegal\",\"Serbia\",\"Seychelles Islands\",\"Sierra Leone\",\"Singapore\",\"Slovakia\",\"Slovenia\",\"Solomon Islands\",\"Somalia\",\"South Africa\",\"South Korea\",\"Spain\",\"Sri Lanka\",\"Sudan\",\"Suriname\",\"Swaziland\",\"Sweden\",\"Switzerland\",\"Syria\",\"S\\u00fcdkorea\",\"Tajikistan\",\"Tanzania\",\"Thailand\",\"Timor-Leste\",\"Togo\",\"Tonga\",\"Trinidad and Tobago\",\"Tunisia\",\"Turkey\",\"Turkmenistan\",\"Turkm\\u00e9nistan\",\"Tuvalu\",\"USA United States of America\",\"Uganda\",\"Ukraine\",\"United Arab Emirates\",\"United Kingdom\",\"United States of America\",\"Uruguay\",\"Uzbekistan\",\"Vanuatu\",\"Vatican City\",\"Venezuela\",\"Vietnam\",\"Yemen\",\"Zambia\",\"Zimbabwe\",\"\\u0413\\u0432\\u0430\\u0442\\u0435\\u043c\\u0430\\u043b\\u0430\",\"\\u041f\\u043e\\u043b\\u044c\\u0448\\u0430\",\"\\u0422\\u0443\\u0440\\u0446\\u0438\\u044f\",\"\\u0643\\u0648\\u0644\\u0648\\u0645\\u0628\\u064a\\u0627\",\"\\u706b\\u9e21\"],\"legendgroup\":\"\",\"marker\":{\"color\":[22.69694323144105,25.02227074235808,25.15438596491228,14.105676855895195,26.33580786026201,27.93185840707965,13.177631578947368,22.62052401746725,9.911790393013101,9.911790393013101,18.178947368421053,22.427192982456138,26.91911111111111,32.7117903930131,29.846491228070175,28.227192982456142,15.893013100436681,15.645934065934066,24.026872246696037,29.106578947368423,12.683333333333334,18.28580931263858,19.579912663755458,27.055458515283842,26.856828193832598,26.856828193832598,28.01359649122807,21.499795918367347,30.583771929824564,27.496943231441048,17.4,29.799126637554586,24.986784140969164,11.045374449339208,26.71004366812227,30.84780701754386,31.689956331877728,9.398678414096917,19.4390350877193,19.4390350877193,13.5,25.76035242290749,29.773684210526316,18.223555555555556,20.00088105726872,25.40352422907489,28.92105263157895,16.326106194690265,29.662114537444936,14.864473684210527,33.71674008810572,27.931277533039648,25.70486725663717,11.094273127753304,30.751315789473686,22.07466666666667,27.134497816593885,21.824890829694322,14.368421052631579,23.3,20.505286343612333,23.397816593886464,14.239737991266376,16.955458515283844,27.61798245614035,28.163876651982378,21.36079295154185,17.211353711790395,17.211353711790395,28.25720524017467,26.6784140969163,28.207964601769913,17.41111111111111,26.956768558951968,28.360698689956333,26.024229074889867,24.97180616740088,18.90929203539823,19.74235807860262,6.769432314410481,31.2,32.13348017621146,32.13348017621146,26.808496732026146,23.588815789473685,35.33580786026201,13.483771929824563,25.742105263157892,24.035087719298247,28.027753303964758,22.009606986899563,26.1,26.631004366812228,12.075877192982457,23.30086956521739,28.37224669603524,25.2,29.3,35.68296943231441,18.375877192982454,25.0,15.704405286343613,25.969736842105263,21.133333333333333,20.6,27.108771929824563,27.0,13.82719298245614,15.525877192982456,14.411013215859032,23.333920704845816,27.181140350877193,27.13231441048035,28.33711790393013,28.081858407079647,29.43580786026201,25.733624454148472,24.3,40.3,28.33231441048035,26.358515283842795,25.01528384279476,14.369911504424778,27.4,27.435087719298245,21.047577092511013,5.561842105263158,23.79605263157895,22.718502202643172,26.868995633187772,28.606550218340608,25.891666666666666,22.147368421052633,15.667543859649122,12.035807860262008,24.383185840707966,31.850438596491227,29.04934497816594,29.04934497816594,16.15657894736842,10.679385964912282,32.57510917030567,30.546491228070177,27.63421052631579,25.83832599118943,25.90921052631579,21.127947598253275,16.539823008849556,29.045614035087716,17.57117903930131,27.7,20.751541850220267,35.14035087719298,21.954385964912284,15.618181818181817,15.618181818181817,26.521491228070175,28.28377192982456,28.046491228070177,28.69647577092511,27.8,25.509734513274335,20.953982300884956,36.25550660792952,45.0,27.32532751091703,21.262719298245614,27.90921052631579,26.97973568281938,28.80655021834061,18.553947368421053,18.26375545851528,26.078602620087338,28.678947368421053,23.500873362445414,18.56315789473684,21.760087719298248,29.078070175438597,32.60087719298246,25.850438596491227,23.769298245614035,14.560964912280703,15.997368421052633,28.618859649122808,26.1,24.714473684210525,28.039737991266378,29.27098901098901,25.670484581497796,27.9,22.747598253275108,26.825438596491228,27.042543859649122,23.3632967032967,26.25482456140351,37.8,28.666812227074235,24.53333333333333,26.473684210526315,18.504366812227076,33.93973799126638,15.58590308370044,9.506222222222222,13.151528384279475,24.602183406113536,23.385964912280702,24.024454148471616,23.02863436123348,26.532107843137254,23.580701754385963,28.12227074235808,26.427312775330396,15.9,24.2,34.0,23.1,29.7],\"coloraxis\":\"coloraxis\",\"symbol\":\"circle\"},\"mode\":\"markers\",\"name\":\"\",\"orientation\":\"v\",\"showlegend\":false,\"x\":[22.69694323144105,25.02227074235808,25.15438596491228,14.105676855895195,26.33580786026201,27.93185840707965,13.177631578947368,22.62052401746725,9.911790393013101,9.911790393013101,18.178947368421053,22.427192982456138,26.91911111111111,32.7117903930131,29.846491228070175,28.227192982456142,15.893013100436681,15.645934065934066,24.026872246696037,29.106578947368423,12.683333333333334,18.28580931263858,19.579912663755458,27.055458515283842,26.856828193832598,26.856828193832598,28.01359649122807,21.499795918367347,30.583771929824564,27.496943231441048,17.4,29.799126637554586,24.986784140969164,11.045374449339208,26.71004366812227,30.84780701754386,31.689956331877728,9.398678414096917,19.4390350877193,19.4390350877193,13.5,25.76035242290749,29.773684210526316,18.223555555555556,20.00088105726872,25.40352422907489,28.92105263157895,16.326106194690265,29.662114537444936,14.864473684210527,33.71674008810572,27.931277533039648,25.70486725663717,11.094273127753304,30.751315789473686,22.07466666666667,27.134497816593885,21.824890829694322,14.368421052631579,23.3,20.505286343612333,23.397816593886464,14.239737991266376,16.955458515283844,27.61798245614035,28.163876651982378,21.36079295154185,17.211353711790395,17.211353711790395,28.25720524017467,26.6784140969163,28.207964601769913,17.41111111111111,26.956768558951968,28.360698689956333,26.024229074889867,24.97180616740088,18.90929203539823,19.74235807860262,6.769432314410481,31.2,32.13348017621146,32.13348017621146,26.808496732026146,23.588815789473685,35.33580786026201,13.483771929824563,25.742105263157892,24.035087719298247,28.027753303964758,22.009606986899563,26.1,26.631004366812228,12.075877192982457,23.30086956521739,28.37224669603524,25.2,29.3,35.68296943231441,18.375877192982454,25.0,15.704405286343613,25.969736842105263,21.133333333333333,20.6,27.108771929824563,27.0,13.82719298245614,15.525877192982456,14.411013215859032,23.333920704845816,27.181140350877193,27.13231441048035,28.33711790393013,28.081858407079647,29.43580786026201,25.733624454148472,24.3,40.3,28.33231441048035,26.358515283842795,25.01528384279476,14.369911504424778,27.4,27.435087719298245,21.047577092511013,5.561842105263158,23.79605263157895,22.718502202643172,26.868995633187772,28.606550218340608,25.891666666666666,22.147368421052633,15.667543859649122,12.035807860262008,24.383185840707966,31.850438596491227,29.04934497816594,29.04934497816594,16.15657894736842,10.679385964912282,32.57510917030567,30.546491228070177,27.63421052631579,25.83832599118943,25.90921052631579,21.127947598253275,16.539823008849556,29.045614035087716,17.57117903930131,27.7,20.751541850220267,35.14035087719298,21.954385964912284,15.618181818181817,15.618181818181817,26.521491228070175,28.28377192982456,28.046491228070177,28.69647577092511,27.8,25.509734513274335,20.953982300884956,36.25550660792952,45.0,27.32532751091703,21.262719298245614,27.90921052631579,26.97973568281938,28.80655021834061,18.553947368421053,18.26375545851528,26.078602620087338,28.678947368421053,23.500873362445414,18.56315789473684,21.760087719298248,29.078070175438597,32.60087719298246,25.850438596491227,23.769298245614035,14.560964912280703,15.997368421052633,28.618859649122808,26.1,24.714473684210525,28.039737991266378,29.27098901098901,25.670484581497796,27.9,22.747598253275108,26.825438596491228,27.042543859649122,23.3632967032967,26.25482456140351,37.8,28.666812227074235,24.53333333333333,26.473684210526315,18.504366812227076,33.93973799126638,15.58590308370044,9.506222222222222,13.151528384279475,24.602183406113536,23.385964912280702,24.024454148471616,23.02863436123348,26.532107843137254,23.580701754385963,28.12227074235808,26.427312775330396,15.9,24.2,34.0,23.1,29.7],\"xaxis\":\"x\",\"y\":[1.721,5.304,5.364,null,null,null,6.188,5.455,7.057,7.057,6.905,4.893,null,5.959,3.886,null,null,6.894,null,4.377,null,5.784,5.877,3.383,6.272,6.272,null,5.463,4.548,null,null,4.341,4.874,6.9,null,null,4.471,6.36,5.973,5.973,5.695,3.566,null,6.955,5.942,null,6.068,null,null,7.583,null,null,5.823,5.725,3.977,6.469,null,null,6.448,null,3.861,null,7.741,6.609,5.106,4.485,5.185,6.719,6.719,4.289,5.934,null,6.287,5.023,null,null,null,5.968,6.017,7.525,null,4.054,4.054,5.568,4.923,5.166,6.838,7.341,6.324,5.842,6.06,null,4.186,6.188,4.47,null,null,6.561,6.951,null,null,6.234,2.707,3.186,null,4.269,5.866,null,6.818,7.122,null,4.228,3.421,5.975,null,4.232,6.346,null,null,null,4.505,5.816,6.678,null,null,null,5.696,5.707,4.795,5.216,4.354,4.832,5.158,7.319,7.029,6.284,4.556,4.881,4.881,null,7.302,null,4.657,null,6.358,null,5.977,5.841,6.048,6.442,null,6.03,null,6.491,5.785,5.785,null,null,null,null,null,null,null,6.594,null,4.969,6.411,null,3.245,6.523,6.257,6.743,null,null,5.422,6.058,6.421,3.898,null,null,null,7.344,7.06,null,null,5.281,3.781,5.976,null,4.214,null,null,4.422,null,null,null,null,null,4.372,4.873,6.733,6.749,null,6.611,6.195,null,null,5.607,6.043,3.561,3.502,3.341,null,null,null,null,null],\"yaxis\":\"y\",\"type\":\"scatter\"}],                        {\"template\":{\"data\":{\"histogram2dcontour\":[{\"type\":\"histogram2dcontour\",\"colorbar\":{\"outlinewidth\":0,\"ticks\":\"\"},\"colorscale\":[[0.0,\"#0d0887\"],[0.1111111111111111,\"#46039f\"],[0.2222222222222222,\"#7201a8\"],[0.3333333333333333,\"#9c179e\"],[0.4444444444444444,\"#bd3786\"],[0.5555555555555556,\"#d8576b\"],[0.6666666666666666,\"#ed7953\"],[0.7777777777777778,\"#fb9f3a\"],[0.8888888888888888,\"#fdca26\"],[1.0,\"#f0f921\"]]}],\"choropleth\":[{\"type\":\"choropleth\",\"colorbar\":{\"outlinewidth\":0,\"ticks\":\"\"}}],\"histogram2d\":[{\"type\":\"histogram2d\",\"colorbar\":{\"outlinewidth\":0,\"ticks\":\"\"},\"colorscale\":[[0.0,\"#0d0887\"],[0.1111111111111111,\"#46039f\"],[0.2222222222222222,\"#7201a8\"],[0.3333333333333333,\"#9c179e\"],[0.4444444444444444,\"#bd3786\"],[0.5555555555555556,\"#d8576b\"],[0.6666666666666666,\"#ed7953\"],[0.7777777777777778,\"#fb9f3a\"],[0.8888888888888888,\"#fdca26\"],[1.0,\"#f0f921\"]]}],\"heatmap\":[{\"type\":\"heatmap\",\"colorbar\":{\"outlinewidth\":0,\"ticks\":\"\"},\"colorscale\":[[0.0,\"#0d0887\"],[0.1111111111111111,\"#46039f\"],[0.2222222222222222,\"#7201a8\"],[0.3333333333333333,\"#9c179e\"],[0.4444444444444444,\"#bd3786\"],[0.5555555555555556,\"#d8576b\"],[0.6666666666666666,\"#ed7953\"],[0.7777777777777778,\"#fb9f3a\"],[0.8888888888888888,\"#fdca26\"],[1.0,\"#f0f921\"]]}],\"heatmapgl\":[{\"type\":\"heatmapgl\",\"colorbar\":{\"outlinewidth\":0,\"ticks\":\"\"},\"colorscale\":[[0.0,\"#0d0887\"],[0.1111111111111111,\"#46039f\"],[0.2222222222222222,\"#7201a8\"],[0.3333333333333333,\"#9c179e\"],[0.4444444444444444,\"#bd3786\"],[0.5555555555555556,\"#d8576b\"],[0.6666666666666666,\"#ed7953\"],[0.7777777777777778,\"#fb9f3a\"],[0.8888888888888888,\"#fdca26\"],[1.0,\"#f0f921\"]]}],\"contourcarpet\":[{\"type\":\"contourcarpet\",\"colorbar\":{\"outlinewidth\":0,\"ticks\":\"\"}}],\"contour\":[{\"type\":\"contour\",\"colorbar\":{\"outlinewidth\":0,\"ticks\":\"\"},\"colorscale\":[[0.0,\"#0d0887\"],[0.1111111111111111,\"#46039f\"],[0.2222222222222222,\"#7201a8\"],[0.3333333333333333,\"#9c179e\"],[0.4444444444444444,\"#bd3786\"],[0.5555555555555556,\"#d8576b\"],[0.6666666666666666,\"#ed7953\"],[0.7777777777777778,\"#fb9f3a\"],[0.8888888888888888,\"#fdca26\"],[1.0,\"#f0f921\"]]}],\"surface\":[{\"type\":\"surface\",\"colorbar\":{\"outlinewidth\":0,\"ticks\":\"\"},\"colorscale\":[[0.0,\"#0d0887\"],[0.1111111111111111,\"#46039f\"],[0.2222222222222222,\"#7201a8\"],[0.3333333333333333,\"#9c179e\"],[0.4444444444444444,\"#bd3786\"],[0.5555555555555556,\"#d8576b\"],[0.6666666666666666,\"#ed7953\"],[0.7777777777777778,\"#fb9f3a\"],[0.8888888888888888,\"#fdca26\"],[1.0,\"#f0f921\"]]}],\"mesh3d\":[{\"type\":\"mesh3d\",\"colorbar\":{\"outlinewidth\":0,\"ticks\":\"\"}}],\"scatter\":[{\"fillpattern\":{\"fillmode\":\"overlay\",\"size\":10,\"solidity\":0.2},\"type\":\"scatter\"}],\"parcoords\":[{\"type\":\"parcoords\",\"line\":{\"colorbar\":{\"outlinewidth\":0,\"ticks\":\"\"}}}],\"scatterpolargl\":[{\"type\":\"scatterpolargl\",\"marker\":{\"colorbar\":{\"outlinewidth\":0,\"ticks\":\"\"}}}],\"bar\":[{\"error_x\":{\"color\":\"#2a3f5f\"},\"error_y\":{\"color\":\"#2a3f5f\"},\"marker\":{\"line\":{\"color\":\"#E5ECF6\",\"width\":0.5},\"pattern\":{\"fillmode\":\"overlay\",\"size\":10,\"solidity\":0.2}},\"type\":\"bar\"}],\"scattergeo\":[{\"type\":\"scattergeo\",\"marker\":{\"colorbar\":{\"outlinewidth\":0,\"ticks\":\"\"}}}],\"scatterpolar\":[{\"type\":\"scatterpolar\",\"marker\":{\"colorbar\":{\"outlinewidth\":0,\"ticks\":\"\"}}}],\"histogram\":[{\"marker\":{\"pattern\":{\"fillmode\":\"overlay\",\"size\":10,\"solidity\":0.2}},\"type\":\"histogram\"}],\"scattergl\":[{\"type\":\"scattergl\",\"marker\":{\"colorbar\":{\"outlinewidth\":0,\"ticks\":\"\"}}}],\"scatter3d\":[{\"type\":\"scatter3d\",\"line\":{\"colorbar\":{\"outlinewidth\":0,\"ticks\":\"\"}},\"marker\":{\"colorbar\":{\"outlinewidth\":0,\"ticks\":\"\"}}}],\"scattermapbox\":[{\"type\":\"scattermapbox\",\"marker\":{\"colorbar\":{\"outlinewidth\":0,\"ticks\":\"\"}}}],\"scatterternary\":[{\"type\":\"scatterternary\",\"marker\":{\"colorbar\":{\"outlinewidth\":0,\"ticks\":\"\"}}}],\"scattercarpet\":[{\"type\":\"scattercarpet\",\"marker\":{\"colorbar\":{\"outlinewidth\":0,\"ticks\":\"\"}}}],\"carpet\":[{\"aaxis\":{\"endlinecolor\":\"#2a3f5f\",\"gridcolor\":\"white\",\"linecolor\":\"white\",\"minorgridcolor\":\"white\",\"startlinecolor\":\"#2a3f5f\"},\"baxis\":{\"endlinecolor\":\"#2a3f5f\",\"gridcolor\":\"white\",\"linecolor\":\"white\",\"minorgridcolor\":\"white\",\"startlinecolor\":\"#2a3f5f\"},\"type\":\"carpet\"}],\"table\":[{\"cells\":{\"fill\":{\"color\":\"#EBF0F8\"},\"line\":{\"color\":\"white\"}},\"header\":{\"fill\":{\"color\":\"#C8D4E3\"},\"line\":{\"color\":\"white\"}},\"type\":\"table\"}],\"barpolar\":[{\"marker\":{\"line\":{\"color\":\"#E5ECF6\",\"width\":0.5},\"pattern\":{\"fillmode\":\"overlay\",\"size\":10,\"solidity\":0.2}},\"type\":\"barpolar\"}],\"pie\":[{\"automargin\":true,\"type\":\"pie\"}]},\"layout\":{\"autotypenumbers\":\"strict\",\"colorway\":[\"#636efa\",\"#EF553B\",\"#00cc96\",\"#ab63fa\",\"#FFA15A\",\"#19d3f3\",\"#FF6692\",\"#B6E880\",\"#FF97FF\",\"#FECB52\"],\"font\":{\"color\":\"#2a3f5f\"},\"hovermode\":\"closest\",\"hoverlabel\":{\"align\":\"left\"},\"paper_bgcolor\":\"white\",\"plot_bgcolor\":\"#E5ECF6\",\"polar\":{\"bgcolor\":\"#E5ECF6\",\"angularaxis\":{\"gridcolor\":\"white\",\"linecolor\":\"white\",\"ticks\":\"\"},\"radialaxis\":{\"gridcolor\":\"white\",\"linecolor\":\"white\",\"ticks\":\"\"}},\"ternary\":{\"bgcolor\":\"#E5ECF6\",\"aaxis\":{\"gridcolor\":\"white\",\"linecolor\":\"white\",\"ticks\":\"\"},\"baxis\":{\"gridcolor\":\"white\",\"linecolor\":\"white\",\"ticks\":\"\"},\"caxis\":{\"gridcolor\":\"white\",\"linecolor\":\"white\",\"ticks\":\"\"}},\"coloraxis\":{\"colorbar\":{\"outlinewidth\":0,\"ticks\":\"\"}},\"colorscale\":{\"sequential\":[[0.0,\"#0d0887\"],[0.1111111111111111,\"#46039f\"],[0.2222222222222222,\"#7201a8\"],[0.3333333333333333,\"#9c179e\"],[0.4444444444444444,\"#bd3786\"],[0.5555555555555556,\"#d8576b\"],[0.6666666666666666,\"#ed7953\"],[0.7777777777777778,\"#fb9f3a\"],[0.8888888888888888,\"#fdca26\"],[1.0,\"#f0f921\"]],\"sequentialminus\":[[0.0,\"#0d0887\"],[0.1111111111111111,\"#46039f\"],[0.2222222222222222,\"#7201a8\"],[0.3333333333333333,\"#9c179e\"],[0.4444444444444444,\"#bd3786\"],[0.5555555555555556,\"#d8576b\"],[0.6666666666666666,\"#ed7953\"],[0.7777777777777778,\"#fb9f3a\"],[0.8888888888888888,\"#fdca26\"],[1.0,\"#f0f921\"]],\"diverging\":[[0,\"#8e0152\"],[0.1,\"#c51b7d\"],[0.2,\"#de77ae\"],[0.3,\"#f1b6da\"],[0.4,\"#fde0ef\"],[0.5,\"#f7f7f7\"],[0.6,\"#e6f5d0\"],[0.7,\"#b8e186\"],[0.8,\"#7fbc41\"],[0.9,\"#4d9221\"],[1,\"#276419\"]]},\"xaxis\":{\"gridcolor\":\"white\",\"linecolor\":\"white\",\"ticks\":\"\",\"title\":{\"standoff\":15},\"zerolinecolor\":\"white\",\"automargin\":true,\"zerolinewidth\":2},\"yaxis\":{\"gridcolor\":\"white\",\"linecolor\":\"white\",\"ticks\":\"\",\"title\":{\"standoff\":15},\"zerolinecolor\":\"white\",\"automargin\":true,\"zerolinewidth\":2},\"scene\":{\"xaxis\":{\"backgroundcolor\":\"#E5ECF6\",\"gridcolor\":\"white\",\"linecolor\":\"white\",\"showbackground\":true,\"ticks\":\"\",\"zerolinecolor\":\"white\",\"gridwidth\":2},\"yaxis\":{\"backgroundcolor\":\"#E5ECF6\",\"gridcolor\":\"white\",\"linecolor\":\"white\",\"showbackground\":true,\"ticks\":\"\",\"zerolinecolor\":\"white\",\"gridwidth\":2},\"zaxis\":{\"backgroundcolor\":\"#E5ECF6\",\"gridcolor\":\"white\",\"linecolor\":\"white\",\"showbackground\":true,\"ticks\":\"\",\"zerolinecolor\":\"white\",\"gridwidth\":2}},\"shapedefaults\":{\"line\":{\"color\":\"#2a3f5f\"}},\"annotationdefaults\":{\"arrowcolor\":\"#2a3f5f\",\"arrowhead\":0,\"arrowwidth\":1},\"geo\":{\"bgcolor\":\"white\",\"landcolor\":\"#E5ECF6\",\"subunitcolor\":\"white\",\"showland\":true,\"showlakes\":true,\"lakecolor\":\"white\"},\"title\":{\"x\":0.05},\"mapbox\":{\"style\":\"light\"}}},\"xaxis\":{\"anchor\":\"y\",\"domain\":[0.0,1.0],\"title\":{\"text\":\"Gemiddelde temperatuur (\\u00b0C)\"}},\"yaxis\":{\"anchor\":\"x\",\"domain\":[0.0,1.0],\"title\":{\"text\":\"Geluksscore\"}},\"coloraxis\":{\"colorbar\":{\"title\":{\"text\":\"Gemiddelde temperatuur (\\u00b0C)\"}},\"colorscale\":[[0.0,\"rgb(3, 35, 51)\"],[0.09090909090909091,\"rgb(13, 48, 100)\"],[0.18181818181818182,\"rgb(53, 50, 155)\"],[0.2727272727272727,\"rgb(93, 62, 153)\"],[0.36363636363636365,\"rgb(126, 77, 143)\"],[0.45454545454545453,\"rgb(158, 89, 135)\"],[0.5454545454545454,\"rgb(193, 100, 121)\"],[0.6363636363636364,\"rgb(225, 113, 97)\"],[0.7272727272727273,\"rgb(246, 139, 69)\"],[0.8181818181818182,\"rgb(251, 173, 60)\"],[0.9090909090909091,\"rgb(246, 211, 70)\"],[1.0,\"rgb(231, 250, 90)\"]]},\"legend\":{\"tracegroupgap\":0},\"title\":{\"text\":\"Relatie tussen gemiddelde temperatuur en geluksscore per land\"},\"width\":900,\"height\":600},                        {\"responsive\": true}                    ).then(function(){\n",
       "                            \n",
       "var gd = document.getElementById('4a673615-98c7-401f-bd37-34619f517457');\n",
       "var x = new MutationObserver(function (mutations, observer) {{\n",
       "        var display = window.getComputedStyle(gd).display;\n",
       "        if (!display || display === 'none') {{\n",
       "            console.log([gd, 'removed!']);\n",
       "            Plotly.purge(gd);\n",
       "            observer.disconnect();\n",
       "        }}\n",
       "}});\n",
       "\n",
       "// Listen for the removal of the full notebook cells\n",
       "var notebookContainer = gd.closest('#notebook-container');\n",
       "if (notebookContainer) {{\n",
       "    x.observe(notebookContainer, {childList: true});\n",
       "}}\n",
       "\n",
       "// Listen for the clearing of the current output cell\n",
       "var outputEl = gd.closest('.output');\n",
       "if (outputEl) {{\n",
       "    x.observe(outputEl, {childList: true});\n",
       "}}\n",
       "\n",
       "                        })                };                });            </script>        </div>"
      ]
     },
     "metadata": {},
     "output_type": "display_data"
    }
   ],
   "source": [
    "fig = px.scatter(\n",
    "    df123,\n",
    "    x=\"temperature_celsius\",\n",
    "    y=\"Ladder score\",\n",
    "    hover_name=\"country\",\n",
    "    color=\"temperature_celsius\",  # of kleur op continent als je die variabele hebt\n",
    "    color_continuous_scale=\"thermal\",\n",
    "    labels={\n",
    "        \"temperature_celsius\": \"Gemiddelde temperatuur (°C)\",\n",
    "        \"Ladder score\": \"Geluksscore\"\n",
    "    },\n",
    "    title=\"Relatie tussen gemiddelde temperatuur en geluksscore per land\"\n",
    ")\n",
    "\n",
    "fig.update_layout(width=900, height=600)\n",
    "fig.show()"
   ]
  },
  {
   "cell_type": "markdown",
   "id": "f16bf3e8-2cb6-4285-bbd2-df4155262c5f",
   "metadata": {},
   "source": [
    "> *Figuur X: Vivamus elementum semper nisi. Aenean vulputate eleifend tellus. Aenean leo ligula, porttitor eu, consequat vitae, eleifend ac, enim. Aliquam lorem ante, dapibus in, viverra quis, feugiat a, tellus.*"
   ]
  },
  {
   "cell_type": "markdown",
   "id": "e0a5e8f3-eed9-4965-a85d-05a296514ca0",
   "metadata": {},
   "source": [
    "### Argument 1.2: Extreme weersomstandigheden (hittegolven, kou, neerslag) zorgen voor stress en gezondheidsproblemen, wat het geluksniveau verlaagt."
   ]
  },
  {
   "cell_type": "markdown",
   "id": "bb01e374",
   "metadata": {},
   "source": [
    "De Global Environments Trends dataset definieert extreme weersomstandigheden als gebeurtenissen zoals hittegolven, hevige neerslag, extreme kou, orkanen en overstromingen (BRON IS DATASET). Deze weersomstandigheden hebben aantoonbare negatieve effecten op de gezondheid van mensen, wat het welzijn en dus het geluk vermindert (BRON NOG BENOEMEN). Volgens Berry, Bowen en Kjellstrom (2010) kunnen zulke extreme weersomstandigheden leiden tot directe gezondheidsproblemen, zoals hitteberoertes en ademhalingsklachten, en indirecte effecten zoals verhoogde stress, angst en sociale verstoring. \n",
    "\n",
    "Ook in grootschalige empirische studies, zoals die van Rehdanz en Maddison (2005), blijkt dat mensen minder gelukkig zijn in klimaten met veel extreme temperatuurvariatie en overmatige neerslag. In landen met frequente kou of hittegolven is het geluksniveau gemiddeld lager dan in gematigde gebieden.\n",
    "\n",
    "Peng et al. (2016) vonden dat onder andere een hoge luchtvochtigheid en lage zichtbaarheid, weersomstandigheden die vaak voorkomen bij extreme regenval of smog, negatief gecorreleerd zijn met zelfgerapporteerd geluk. Ze tonen ook aan dat de impact van weer op geluk sterker wordt naarmate de omstandigheden extremer worden."
   ]
  },
  {
   "cell_type": "code",
   "execution_count": 10,
   "id": "f37eabe8-5f45-4a7e-9290-8d50c65bce10",
   "metadata": {},
   "outputs": [],
   "source": [
    "df123ExtremeLadder = df123[['country','Extreme_Weather_Events', 'Ladder score']].dropna()\n",
    "df123ExtremeLadder = df123ExtremeLadder.groupby('country', as_index=False).mean(numeric_only=True) # Er waren duplicate values in de oorspronkelijke dataset.\n",
    "correlation = df123ExtremeLadder[['Extreme_Weather_Events','Ladder score']].corr(method='pearson')\n",
    "# print(correlation)"
   ]
  },
  {
   "cell_type": "code",
   "execution_count": 11,
   "id": "9670f668-eb26-466b-9758-c6dae6eafac4",
   "metadata": {},
   "outputs": [
    {
     "data": {
      "image/png": "[encoded data removed]",
      "text/plain": [
       "<Figure size 640x480 with 1 Axes>"
      ]
     },
     "metadata": {},
     "output_type": "display_data"
    },
    {
     "data": {
      "text/plain": [
       "<Figure size 800x600 with 0 Axes>"
      ]
     },
     "metadata": {},
     "output_type": "display_data"
    }
   ],
   "source": [
    "sns.regplot(\n",
    "    data=df123ExtremeLadder,\n",
    "    x='Extreme_Weather_Events',\n",
    "    y='Ladder score',\n",
    "    scatter_kws={'alpha':0.7},\n",
    "    line_kws={\"color\":\"red\"}\n",
    ")\n",
    "plt.title('Correlation between Extreme Weather Events and Happiness (Ladder score)')\n",
    "plt.xlabel('Extreme Weather Events per year')\n",
    "plt.ylabel('Ladder score (Happiness)')\n",
    "plt.grid(True)\n",
    "plt.figure(figsize=(8,6))\n",
    "plt.show()\n"
   ]
  },
  {
   "cell_type": "markdown",
   "id": "dbf82375-b2e8-4a22-b5a9-2c45b960d08a",
   "metadata": {},
   "source": [
    "> *Figuur X: Vivamus elementum semper nisi. Aenean vulputate eleifend tellus. Aenean leo ligula, porttitor eu, consequat vitae, eleifend ac, enim. Aliquam lorem ante, dapibus in, viverra quis, feugiat a, tellus.*"
   ]
  },
  {
   "cell_type": "markdown",
   "id": "e1ec4c90-ccd9-4940-9a0e-18799c438ef5",
   "metadata": {},
   "source": [
    "## Perspectief 2: Sociaal-economische factoren zijn bepalender voor geluk dan klimaat"
   ]
  },
  {
   "cell_type": "markdown",
   "id": "005e94a9",
   "metadata": {},
   "source": [
    "Niet alleen het klimaat heeft invloed op het geluk. Zoals te zien in Figuur X, scoren de Scandinavische landen hoge Happiness scores in vergelijking met andere landen die vaak minder extreme weersomstandigheden hebben. Andere factoren, zoals GDP per capita (BBP per hoofd) en vrijheid, hebben ook invloed op de blijheid van mensen in een bepaald land. Dit komt doordat deze factoren extra betekenis hebben: vrijheid geeft meer ruimte voor men om zichzelf te uiten en een hoger GDP per capita betekent dat individuen in een land vaak meer te besteden hebben.\n",
    "Daarom wordt er gekeken naar de volgende twee argumenten. Ten eerste, dat de Scandinavische landen met extremere weersomstandigheden toch hoge Happiness scores hebben vanwege hun sterke sociale factoren. Ten tweede hebben landen met over het algemeen hogere GDP per capita en een mindere perceptie van corruptie hogere Happiness scores. Hieronder zal er meer worden gezegd over de twee argumenten.\n"
   ]
  },
  {
   "cell_type": "markdown",
   "id": "4a3eacb4-4812-474a-9900-71e2ac33cb5f",
   "metadata": {},
   "source": [
    "## Argument 2.1: Landen als Zweden, Noorwegen en Finland hebben lange, koude winters, maar behoren tot de gelukkigste landen dankzij sterke sociale vangnetten, gezondheidszorg en welvaart."
   ]
  },
  {
   "cell_type": "markdown",
   "id": "62b3848e-5c37-482c-a584-c7c2a02a1e95",
   "metadata": {},
   "source": [
    "Uit Figuur X kunnen we zien dat er een positieve correlatie is tussen Social support en de Happiness score in verschillende landen. Landen met een betere sociale steun, hebben ook vaker een hogere Happiness score. Hieruit valt vooral op dat de landen bovenaan de lijst voornamelijk Scandinavische landen zijn (Zweden, Noorwegen, Finland, IJsland en Denemarken). Als we dit vergelijken met landen met een milder klimaat (tussen de 16 en 23 graden), zien we dat deze landen nog steeds, ondanks redelijke hoge scores in Social support en milder klimaat, toch lager scoren dan de Scandinavische landen. Dit komt zeker niet alleen door Social support en klimaat, maar de Scandinavische landen scoren over het algemeen veel hoger op alle andere factoren in dataset 1 dan andere landen. (BASICALLY WE HEBBEN GEZEGD DAT EEN WARMER KLIMAAT != HOGERE SCORES, MAAR DAT EEN KOUDER KLIMAAT NIET PER SE DE CAUSATIE IS VOOR DE CORRELATIE HIER)"
   ]
  },
  {
   "cell_type": "code",
   "execution_count": 12,
   "id": "982ff45f",
   "metadata": {
    "tags": [
     "hide-input"
    ]
   },
   "outputs": [
    {
     "data": {
      "application/vnd.plotly.v1+json": {
       "config": {
        "plotlyServerURL": "https://plot.ly"
       },
       "data": [
        {
         "hovertemplate": "<b>%{hovertext}</b><br><br>Social support=%{x}<br>Ladder score=%{marker.color}<extra></extra>",
         "hovertext": [
          "Afghanistan",
          "Albania",
          "Algeria",
          "Andorra",
          "Angola",
          "Antigua and Barbuda",
          "Argentina",
          "Armenia",
          "Australia",
          "Australia",
          "Austria",
          "Azerbaijan",
          "Bahamas",
          "Bahrain",
          "Bangladesh",
          "Barbados",
          "Belarus",
          "Belgium",
          "Belize",
          "Benin",
          "Bhutan",
          "Bolivia",
          "Bosnia and Herzegovina",
          "Botswana",
          "Brazil",
          "Brazil",
          "Brunei Darussalam",
          "Bulgaria",
          "Burkina Faso",
          "Burundi",
          "Bélgica",
          "Cambodia",
          "Cameroon",
          "Canada",
          "Cape Verde",
          "Central African Republic",
          "Chad",
          "Chile",
          "China",
          "China",
          "Colombia",
          "Comoros",
          "Congo",
          "Costa Rica",
          "Croatia",
          "Cuba",
          "Cyprus",
          "Czech Republic",
          "Democratic Republic of Congo",
          "Denmark",
          "Djibouti",
          "Dominica",
          "Dominican Republic",
          "Ecuador",
          "Egypt",
          "El Salvador",
          "Equatorial Guinea",
          "Eritrea",
          "Estonia",
          "Estonie",
          "Ethiopia",
          "Fiji Islands",
          "Finland",
          "France",
          "Gabon",
          "Gambia",
          "Georgia",
          "Germany",
          "Germany",
          "Ghana",
          "Greece",
          "Grenada",
          "Guatemala",
          "Guinea",
          "Guinea-Bissau",
          "Guyana",
          "Haiti",
          "Honduras",
          "Hungary",
          "Iceland",
          "Inde",
          "India",
          "India",
          "Indonesia",
          "Iran",
          "Iraq",
          "Ireland",
          "Israel",
          "Italy",
          "Jamaica",
          "Japan",
          "Jemen",
          "Jordan",
          "Kazakhstan",
          "Kenya",
          "Kiribati",
          "Komoren",
          "Kosovo",
          "Kuwait",
          "Kyrghyzstan",
          "Lao People's Democratic Republic",
          "Latvia",
          "Lebanon",
          "Lesotho",
          "Letonia",
          "Liberia",
          "Libya",
          "Liechtenstein",
          "Lithuania",
          "Luxembourg",
          "Macedonia",
          "Madagascar",
          "Malawi",
          "Malaysia",
          "Maldives",
          "Mali",
          "Malta",
          "Malásia",
          "Marrocos",
          "Marshall Islands",
          "Mauritania",
          "Mauritius",
          "Mexico",
          "Mexique",
          "Micronesia",
          "Monaco",
          "Mongolia",
          "Montenegro",
          "Morocco",
          "Mozambique",
          "Myanmar",
          "Namibia",
          "Nepal",
          "Netherlands",
          "New Zealand",
          "Nicaragua",
          "Niger",
          "Nigeria",
          "Nigeria",
          "North Korea",
          "Norway",
          "Oman",
          "Pakistan",
          "Palau",
          "Panama",
          "Papua New Guinea",
          "Paraguay",
          "Peru",
          "Philippines",
          "Poland",
          "Polônia",
          "Portugal",
          "Qatar",
          "Romania",
          "Russia",
          "Russia",
          "Rwanda",
          "Saint Kitts and Nevis",
          "Saint Lucia",
          "Saint Vincent and the Grenadines",
          "Saint-Vincent-et-les-Grenadines",
          "Samoa",
          "San Marino",
          "Saudi Arabia",
          "Saudi Arabien",
          "Senegal",
          "Serbia",
          "Seychelles Islands",
          "Sierra Leone",
          "Singapore",
          "Slovakia",
          "Slovenia",
          "Solomon Islands",
          "Somalia",
          "South Africa",
          "South Korea",
          "Spain",
          "Sri Lanka",
          "Sudan",
          "Suriname",
          "Swaziland",
          "Sweden",
          "Switzerland",
          "Syria",
          "Südkorea",
          "Tajikistan",
          "Tanzania",
          "Thailand",
          "Timor-Leste",
          "Togo",
          "Tonga",
          "Trinidad and Tobago",
          "Tunisia",
          "Turkey",
          "Turkmenistan",
          "Turkménistan",
          "Tuvalu",
          "USA United States of America",
          "Uganda",
          "Ukraine",
          "United Arab Emirates",
          "United Kingdom",
          "United States of America",
          "Uruguay",
          "Uzbekistan",
          "Vanuatu",
          "Vatican City",
          "Venezuela",
          "Vietnam",
          "Yemen",
          "Zambia",
          "Zimbabwe",
          "Гватемала",
          "Польша",
          "Турция",
          "كولومبيا",
          "火鸡"
         ],
         "legendgroup": "",
         "marker": {
          "color": [
           1.721,
           5.304,
           5.364,
           null,
           null,
           null,
           6.188,
           5.455,
           7.057,
           7.057,
           6.905,
           4.893,
           null,
           5.959,
           3.886,
           null,
           null,
           6.894,
           null,
           4.377,
           null,
           5.784,
           5.877,
           3.383,
           6.272,
           6.272,
           null,
           5.463,
           4.548,
           null,
           null,
           4.341,
           4.874,
           6.9,
           null,
           null,
           4.471,
           6.36,
           5.973,
           5.973,
           5.695,
           3.566,
           null,
           6.955,
           5.942,
           null,
           6.068,
           null,
           null,
           7.583,
           null,
           null,
           5.823,
           5.725,
           3.977,
           6.469,
           null,
           null,
           6.448,
           null,
           3.861,
           null,
           7.741,
           6.609,
           5.106,
           4.485,
           5.185,
           6.719,
           6.719,
           4.289,
           5.934,
           null,
           6.287,
           5.023,
           null,
           null,
           null,
           5.968,
           6.017,
           7.525,
           null,
           4.054,
           4.054,
           5.568,
           4.923,
           5.166,
           6.838,
           7.341,
           6.324,
           5.842,
           6.06,
           null,
           4.186,
           6.188,
           4.47,
           null,
           null,
           6.561,
           6.951,
           null,
           null,
           6.234,
           2.707,
           3.186,
           null,
           4.269,
           5.866,
           null,
           6.818,
           7.122,
           null,
           4.228,
           3.421,
           5.975,
           null,
           4.232,
           6.346,
           null,
           null,
           null,
           4.505,
           5.816,
           6.678,
           null,
           null,
           null,
           5.696,
           5.707,
           4.795,
           5.216,
           4.354,
           4.832,
           5.158,
           7.319,
           7.029,
           6.284,
           4.556,
           4.881,
           4.881,
           null,
           7.302,
           null,
           4.657,
           null,
           6.358,
           null,
           5.977,
           5.841,
           6.048,
           6.442,
           null,
           6.03,
           null,
           6.491,
           5.785,
           5.785,
           null,
           null,
           null,
           null,
           null,
           null,
           null,
           6.594,
           null,
           4.969,
           6.411,
           null,
           3.245,
           6.523,
           6.257,
           6.743,
           null,
           null,
           5.422,
           6.058,
           6.421,
           3.898,
           null,
           null,
           null,
           7.344,
           7.06,
           null,
           null,
           5.281,
           3.781,
           5.976,
           null,
           4.214,
           null,
           null,
           4.422,
           null,
           null,
           null,
           null,
           null,
           4.372,
           4.873,
           6.733,
           6.749,
           null,
           6.611,
           6.195,
           null,
           null,
           5.607,
           6.043,
           3.561,
           3.502,
           3.341,
           null,
           null,
           null,
           null,
           null
          ],
          "coloraxis": "coloraxis",
          "opacity": 0.7,
          "size": 8,
          "symbol": "circle"
         },
         "mode": "markers",
         "name": "",
         "orientation": "v",
         "showlegend": false,
         "textposition": "top center",
         "type": "scatter",
         "x": [
          0,
          0.924,
          1.191,
          null,
          null,
          null,
          1.381,
          1.154,
          1.461,
          1.461,
          1.336,
          0.876,
          null,
          null,
          0.249,
          null,
          null,
          1.44,
          null,
          0.128,
          null,
          1.179,
          1.318,
          0.969,
          1.269,
          1.269,
          null,
          1.469,
          0.685,
          null,
          null,
          1.019,
          0.856,
          1.459,
          null,
          null,
          0.805,
          1.369,
          1.239,
          1.239,
          1.241,
          0.328,
          null,
          1.373,
          1.445,
          null,
          1.217,
          null,
          null,
          1.52,
          null,
          null,
          1.272,
          1.151,
          0.996,
          1.08,
          null,
          null,
          1.527,
          null,
          0.915,
          null,
          1.572,
          1.348,
          1.038,
          0.684,
          0.99,
          1.39,
          1.39,
          0.747,
          1.276,
          null,
          1.169,
          0.622,
          null,
          null,
          null,
          1.035,
          1.528,
          1.617,
          null,
          0.653,
          0.653,
          1.184,
          1.136,
          0.996,
          1.39,
          1.513,
          1.328,
          1.324,
          1.354,
          null,
          0.983,
          1.457,
          0.895,
          null,
          null,
          1.277,
          1.364,
          null,
          null,
          1.508,
          0.577,
          0.851,
          null,
          0.673,
          1.1,
          null,
          1.454,
          1.355,
          null,
          0.823,
          0.41,
          1.143,
          null,
          0.688,
          1.444,
          null,
          null,
          null,
          0.705,
          1.358,
          1.241,
          null,
          null,
          null,
          1.511,
          1.318,
          0.471,
          0.883,
          0.988,
          1.212,
          0.99,
          1.462,
          1.527,
          1.263,
          0.677,
          1.075,
          1.075,
          null,
          1.517,
          null,
          0.6,
          null,
          1.392,
          null,
          1.408,
          1.18,
          1.146,
          1.417,
          null,
          1.368,
          null,
          1.236,
          1.351,
          1.351,
          null,
          null,
          null,
          null,
          null,
          null,
          null,
          1.361,
          null,
          0.751,
          1.391,
          null,
          0.566,
          1.361,
          1.54,
          1.502,
          null,
          null,
          1.369,
          1.178,
          1.471,
          1.179,
          null,
          null,
          null,
          1.501,
          1.425,
          null,
          null,
          null,
          0.706,
          1.347,
          null,
          0.586,
          null,
          null,
          0.955,
          null,
          null,
          null,
          null,
          null,
          1.151,
          1.315,
          1.164,
          1.326,
          null,
          1.431,
          1.394,
          null,
          null,
          1.321,
          1.267,
          1.281,
          0.809,
          0.85,
          null,
          null,
          null,
          null,
          null
         ],
         "xaxis": "x",
         "y": [
          1.721,
          5.304,
          5.364,
          null,
          null,
          null,
          6.188,
          5.455,
          7.057,
          7.057,
          6.905,
          4.893,
          null,
          5.959,
          3.886,
          null,
          null,
          6.894,
          null,
          4.377,
          null,
          5.784,
          5.877,
          3.383,
          6.272,
          6.272,
          null,
          5.463,
          4.548,
          null,
          null,
          4.341,
          4.874,
          6.9,
          null,
          null,
          4.471,
          6.36,
          5.973,
          5.973,
          5.695,
          3.566,
          null,
          6.955,
          5.942,
          null,
          6.068,
          null,
          null,
          7.583,
          null,
          null,
          5.823,
          5.725,
          3.977,
          6.469,
          null,
          null,
          6.448,
          null,
          3.861,
          null,
          7.741,
          6.609,
          5.106,
          4.485,
          5.185,
          6.719,
          6.719,
          4.289,
          5.934,
          null,
          6.287,
          5.023,
          null,
          null,
          null,
          5.968,
          6.017,
          7.525,
          null,
          4.054,
          4.054,
          5.568,
          4.923,
          5.166,
          6.838,
          7.341,
          6.324,
          5.842,
          6.06,
          null,
          4.186,
          6.188,
          4.47,
          null,
          null,
          6.561,
          6.951,
          null,
          null,
          6.234,
          2.707,
          3.186,
          null,
          4.269,
          5.866,
          null,
          6.818,
          7.122,
          null,
          4.228,
          3.421,
          5.975,
          null,
          4.232,
          6.346,
          null,
          null,
          null,
          4.505,
          5.816,
          6.678,
          null,
          null,
          null,
          5.696,
          5.707,
          4.795,
          5.216,
          4.354,
          4.832,
          5.158,
          7.319,
          7.029,
          6.284,
          4.556,
          4.881,
          4.881,
          null,
          7.302,
          null,
          4.657,
          null,
          6.358,
          null,
          5.977,
          5.841,
          6.048,
          6.442,
          null,
          6.03,
          null,
          6.491,
          5.785,
          5.785,
          null,
          null,
          null,
          null,
          null,
          null,
          null,
          6.594,
          null,
          4.969,
          6.411,
          null,
          3.245,
          6.523,
          6.257,
          6.743,
          null,
          null,
          5.422,
          6.058,
          6.421,
          3.898,
          null,
          null,
          null,
          7.344,
          7.06,
          null,
          null,
          5.281,
          3.781,
          5.976,
          null,
          4.214,
          null,
          null,
          4.422,
          null,
          null,
          null,
          null,
          null,
          4.372,
          4.873,
          6.733,
          6.749,
          null,
          6.611,
          6.195,
          null,
          null,
          5.607,
          6.043,
          3.561,
          3.502,
          3.341,
          null,
          null,
          null,
          null,
          null
         ],
         "yaxis": "y"
        },
        {
         "hovertemplate": "<b>OLS trendline</b><br>Ladder score = 2.96208 * Social support + 2.18271<br>R<sup>2</sup>=0.684833<br><br>Social support=%{x}<br>Ladder score=%{y} <b>(trend)</b><extra></extra>",
         "legendgroup": "",
         "marker": {
          "opacity": 0.7,
          "size": 8,
          "symbol": "circle"
         },
         "mode": "lines",
         "name": "",
         "showlegend": false,
         "textposition": "top center",
         "type": "scatter",
         "x": [
          0,
          0.128,
          0.249,
          0.328,
          0.41,
          0.471,
          0.566,
          0.577,
          0.586,
          0.6,
          0.622,
          0.653,
          0.653,
          0.673,
          0.677,
          0.684,
          0.685,
          0.688,
          0.705,
          0.706,
          0.747,
          0.751,
          0.805,
          0.809,
          0.823,
          0.85,
          0.851,
          0.856,
          0.876,
          0.883,
          0.895,
          0.915,
          0.924,
          0.955,
          0.969,
          0.983,
          0.988,
          0.99,
          0.99,
          0.996,
          0.996,
          1.019,
          1.035,
          1.038,
          1.075,
          1.075,
          1.08,
          1.1,
          1.136,
          1.143,
          1.146,
          1.151,
          1.151,
          1.154,
          1.164,
          1.169,
          1.178,
          1.179,
          1.179,
          1.18,
          1.184,
          1.191,
          1.212,
          1.217,
          1.236,
          1.239,
          1.239,
          1.241,
          1.241,
          1.263,
          1.267,
          1.269,
          1.269,
          1.272,
          1.276,
          1.277,
          1.281,
          1.315,
          1.318,
          1.318,
          1.321,
          1.324,
          1.326,
          1.328,
          1.336,
          1.347,
          1.348,
          1.351,
          1.351,
          1.354,
          1.355,
          1.358,
          1.361,
          1.361,
          1.364,
          1.368,
          1.369,
          1.369,
          1.373,
          1.381,
          1.39,
          1.39,
          1.39,
          1.391,
          1.392,
          1.394,
          1.408,
          1.417,
          1.425,
          1.431,
          1.44,
          1.444,
          1.445,
          1.454,
          1.457,
          1.459,
          1.461,
          1.461,
          1.462,
          1.469,
          1.471,
          1.501,
          1.502,
          1.508,
          1.511,
          1.513,
          1.517,
          1.52,
          1.527,
          1.527,
          1.528,
          1.54,
          1.572,
          1.617
         ],
         "xaxis": "x",
         "y": [
          2.1827065548248883,
          2.561852716280108,
          2.9202643220307456,
          3.1542685935538888,
          3.397159103236139,
          3.5778459458046425,
          3.859243487509688,
          3.891826360759746,
          3.9184850752370664,
          3.9599541866462307,
          4.025119933146347,
          4.116944394123783,
          4.116944394123783,
          4.176185981851161,
          4.188034299396637,
          4.208768855101219,
          4.211730934487588,
          4.220617172646694,
          4.270972522214966,
          4.273934601601335,
          4.39537985644246,
          4.407228173987935,
          4.567180460851857,
          4.579028778397332,
          4.620497889806497,
          4.700474033238457,
          4.703436112624826,
          4.71824650955667,
          4.777488097284049,
          4.798222652988631,
          4.833767605625058,
          4.893009193352436,
          4.919667907829757,
          5.0114923688071915,
          5.052961480216357,
          5.094430591625521,
          5.1092409885573655,
          5.115165147330104,
          5.115165147330104,
          5.132937623648317,
          5.132937623648317,
          5.201065449534802,
          5.248458719716704,
          5.257344957875811,
          5.366941895171461,
          5.366941895171461,
          5.381752292103306,
          5.440993879830684,
          5.547628737739963,
          5.568363293444547,
          5.577249531603653,
          5.592059928535498,
          5.592059928535498,
          5.600946166694603,
          5.630566960558292,
          5.645377357490138,
          5.672036071967458,
          5.674998151353827,
          5.674998151353827,
          5.6779602307401955,
          5.689808548285671,
          5.710543103990254,
          5.772746771104,
          5.787557168035845,
          5.8438366763768546,
          5.852722914535962,
          5.852722914535962,
          5.858647073308699,
          5.858647073308699,
          5.9238128198088145,
          5.93566113735429,
          5.941585296127028,
          5.941585296127028,
          5.950471534286135,
          5.9623198518316105,
          5.965281931217979,
          5.977130248763455,
          6.077840947899998,
          6.086727186059105,
          6.086727186059105,
          6.095613424218211,
          6.104499662377318,
          6.1104238211500554,
          6.116347979922794,
          6.140044615013744,
          6.172627488263803,
          6.175589567650172,
          6.184475805809278,
          6.184475805809278,
          6.193362043968385,
          6.196324123354755,
          6.205210361513862,
          6.214096599672967,
          6.214096599672967,
          6.222982837832074,
          6.234831155377551,
          6.2377932347639184,
          6.2377932347639184,
          6.249641552309395,
          6.273338187400345,
          6.299996901877666,
          6.299996901877666,
          6.299996901877666,
          6.302958981264034,
          6.3059210606504035,
          6.311845219423141,
          6.353314330832305,
          6.379973045309626,
          6.4036696804005775,
          6.421442156718792,
          6.448100871196111,
          6.459949188741586,
          6.4629112681279555,
          6.489569982605275,
          6.498456220764382,
          6.504380379537121,
          6.510304538309859,
          6.510304538309859,
          6.513266617696226,
          6.53400117340081,
          6.5399253321735475,
          6.6287877137646145,
          6.631749793150982,
          6.6495222694691964,
          6.6584085076283035,
          6.664332666401041,
          6.676180983946516,
          6.685067222105623,
          6.705801777810205,
          6.705801777810205,
          6.708763857196574,
          6.744308809833001,
          6.839095350196807,
          6.9723889225834075
         ],
         "yaxis": "y"
        },
        {
         "hovertemplate": "<b>%{hovertext}</b><br><br>Highlight=Mild Climate<br>Social support=%{x}<br>Ladder score=%{y}<br>country=%{text}<extra></extra>",
         "hovertext": [
          "Afghanistan",
          "Armenia",
          "Austria",
          "Azerbaijan",
          "Bolivia",
          "Bosnia and Herzegovina",
          "Bulgaria",
          "Bélgica",
          "China",
          "China",
          "Costa Rica",
          "Croatia",
          "Czech Republic",
          "El Salvador",
          "Eritrea",
          "Ethiopia",
          "France",
          "Georgia",
          "Germany",
          "Germany",
          "Guatemala",
          "Honduras",
          "Hungary",
          "Japan",
          "Kyrghyzstan",
          "Lesotho",
          "Letonia",
          "Monaco",
          "Morocco",
          "Nepal",
          "North Korea",
          "Paraguay",
          "Peru",
          "Poland",
          "Portugal",
          "Romania",
          "San Marino",
          "Serbia",
          "Slovakia",
          "Slovenia",
          "South Korea",
          "Spain",
          "Tonga",
          "Ukraine"
         ],
         "legendgroup": "Mild Climate",
         "marker": {
          "color": "orange",
          "opacity": 0.9,
          "size": 10,
          "symbol": "circle"
         },
         "mode": "markers+text",
         "name": "Mild Climate",
         "orientation": "v",
         "showlegend": true,
         "text": [
          "Afghanistan",
          "Armenia",
          "Austria",
          "Azerbaijan",
          "Bolivia",
          "Bosnia and Herzegovina",
          "Bulgaria",
          "Bélgica",
          "China",
          "China",
          "Costa Rica",
          "Croatia",
          "Czech Republic",
          "El Salvador",
          "Eritrea",
          "Ethiopia",
          "France",
          "Georgia",
          "Germany",
          "Germany",
          "Guatemala",
          "Honduras",
          "Hungary",
          "Japan",
          "Kyrghyzstan",
          "Lesotho",
          "Letonia",
          "Monaco",
          "Morocco",
          "Nepal",
          "North Korea",
          "Paraguay",
          "Peru",
          "Poland",
          "Portugal",
          "Romania",
          "San Marino",
          "Serbia",
          "Slovakia",
          "Slovenia",
          "South Korea",
          "Spain",
          "Tonga",
          "Ukraine"
         ],
         "textposition": "top center",
         "type": "scatter",
         "x": [
          0,
          1.154,
          1.336,
          0.876,
          1.179,
          1.318,
          1.469,
          null,
          1.239,
          1.239,
          1.373,
          1.445,
          null,
          1.08,
          null,
          0.915,
          1.348,
          0.99,
          1.39,
          1.39,
          1.169,
          1.035,
          1.528,
          1.354,
          null,
          0.851,
          null,
          null,
          0.471,
          0.99,
          null,
          1.408,
          1.18,
          1.417,
          1.368,
          1.236,
          null,
          1.391,
          1.54,
          1.502,
          1.178,
          1.471,
          null,
          1.315
         ],
         "xaxis": "x2",
         "y": [
          1.721,
          5.455,
          6.905,
          4.893,
          5.784,
          5.877,
          5.463,
          null,
          5.973,
          5.973,
          6.955,
          5.942,
          null,
          6.469,
          null,
          3.861,
          6.609,
          5.185,
          6.719,
          6.719,
          6.287,
          5.968,
          6.017,
          6.06,
          null,
          3.186,
          null,
          null,
          4.795,
          5.158,
          null,
          5.977,
          5.841,
          6.442,
          6.03,
          6.491,
          null,
          6.411,
          6.257,
          6.743,
          6.058,
          6.421,
          null,
          4.873
         ],
         "yaxis": "y2"
        },
        {
         "hovertemplate": "<b>%{hovertext}</b><br><br>Highlight=Nordic<br>Social support=%{x}<br>Ladder score=%{y}<br>country=%{text}<extra></extra>",
         "hovertext": [
          "Denmark",
          "Finland",
          "Iceland",
          "Norway",
          "Sweden"
         ],
         "legendgroup": "Nordic",
         "marker": {
          "color": "blue",
          "opacity": 0.9,
          "size": 10,
          "symbol": "circle"
         },
         "mode": "markers+text",
         "name": "Nordic",
         "orientation": "v",
         "showlegend": true,
         "text": [
          "Denmark",
          "Finland",
          "Iceland",
          "Norway",
          "Sweden"
         ],
         "textposition": "top center",
         "type": "scatter",
         "x": [
          1.52,
          1.572,
          1.617,
          1.517,
          1.501
         ],
         "xaxis": "x2",
         "y": [
          7.583,
          7.741,
          7.525,
          7.302,
          7.344
         ],
         "yaxis": "y2"
        }
       ],
       "layout": {
        "annotations": [
         {
          "font": {
           "size": 16
          },
          "showarrow": false,
          "text": "Alle landen met trendline",
          "x": 0.5,
          "xanchor": "center",
          "xref": "paper",
          "y": 1,
          "yanchor": "bottom",
          "yref": "paper"
         },
         {
          "font": {
           "size": 16
          },
          "showarrow": false,
          "text": "Nordic vs Mild Climate",
          "x": 0.5,
          "xanchor": "center",
          "xref": "paper",
          "y": 0.375,
          "yanchor": "bottom",
          "yref": "paper"
         }
        ],
        "height": 1000,
        "showlegend": false,
        "template": {
         "data": {
          "bar": [
           {
            "error_x": {
             "color": "#2a3f5f"
            },
            "error_y": {
             "color": "#2a3f5f"
            },
            "marker": {
             "line": {
              "color": "#E5ECF6",
              "width": 0.5
             },
             "pattern": {
              "fillmode": "overlay",
              "size": 10,
              "solidity": 0.2
             }
            },
            "type": "bar"
           }
          ],
          "barpolar": [
           {
            "marker": {
             "line": {
              "color": "#E5ECF6",
              "width": 0.5
             },
             "pattern": {
              "fillmode": "overlay",
              "size": 10,
              "solidity": 0.2
             }
            },
            "type": "barpolar"
           }
          ],
          "carpet": [
           {
            "aaxis": {
             "endlinecolor": "#2a3f5f",
             "gridcolor": "white",
             "linecolor": "white",
             "minorgridcolor": "white",
             "startlinecolor": "#2a3f5f"
            },
            "baxis": {
             "endlinecolor": "#2a3f5f",
             "gridcolor": "white",
             "linecolor": "white",
             "minorgridcolor": "white",
             "startlinecolor": "#2a3f5f"
            },
            "type": "carpet"
           }
          ],
          "choropleth": [
           {
            "colorbar": {
             "outlinewidth": 0,
             "ticks": ""
            },
            "type": "choropleth"
           }
          ],
          "contour": [
           {
            "colorbar": {
             "outlinewidth": 0,
             "ticks": ""
            },
            "colorscale": [
             [
              0,
              "#0d0887"
             ],
             [
              0.1111111111111111,
              "#46039f"
             ],
             [
              0.2222222222222222,
              "#7201a8"
             ],
             [
              0.3333333333333333,
              "#9c179e"
             ],
             [
              0.4444444444444444,
              "#bd3786"
             ],
             [
              0.5555555555555556,
              "#d8576b"
             ],
             [
              0.6666666666666666,
              "#ed7953"
             ],
             [
              0.7777777777777778,
              "#fb9f3a"
             ],
             [
              0.8888888888888888,
              "#fdca26"
             ],
             [
              1,
              "#f0f921"
             ]
            ],
            "type": "contour"
           }
          ],
          "contourcarpet": [
           {
            "colorbar": {
             "outlinewidth": 0,
             "ticks": ""
            },
            "type": "contourcarpet"
           }
          ],
          "heatmap": [
           {
            "colorbar": {
             "outlinewidth": 0,
             "ticks": ""
            },
            "colorscale": [
             [
              0,
              "#0d0887"
             ],
             [
              0.1111111111111111,
              "#46039f"
             ],
             [
              0.2222222222222222,
              "#7201a8"
             ],
             [
              0.3333333333333333,
              "#9c179e"
             ],
             [
              0.4444444444444444,
              "#bd3786"
             ],
             [
              0.5555555555555556,
              "#d8576b"
             ],
             [
              0.6666666666666666,
              "#ed7953"
             ],
             [
              0.7777777777777778,
              "#fb9f3a"
             ],
             [
              0.8888888888888888,
              "#fdca26"
             ],
             [
              1,
              "#f0f921"
             ]
            ],
            "type": "heatmap"
           }
          ],
          "heatmapgl": [
           {
            "colorbar": {
             "outlinewidth": 0,
             "ticks": ""
            },
            "colorscale": [
             [
              0,
              "#0d0887"
             ],
             [
              0.1111111111111111,
              "#46039f"
             ],
             [
              0.2222222222222222,
              "#7201a8"
             ],
             [
              0.3333333333333333,
              "#9c179e"
             ],
             [
              0.4444444444444444,
              "#bd3786"
             ],
             [
              0.5555555555555556,
              "#d8576b"
             ],
             [
              0.6666666666666666,
              "#ed7953"
             ],
             [
              0.7777777777777778,
              "#fb9f3a"
             ],
             [
              0.8888888888888888,
              "#fdca26"
             ],
             [
              1,
              "#f0f921"
             ]
            ],
            "type": "heatmapgl"
           }
          ],
          "histogram": [
           {
            "marker": {
             "pattern": {
              "fillmode": "overlay",
              "size": 10,
              "solidity": 0.2
             }
            },
            "type": "histogram"
           }
          ],
          "histogram2d": [
           {
            "colorbar": {
             "outlinewidth": 0,
             "ticks": ""
            },
            "colorscale": [
             [
              0,
              "#0d0887"
             ],
             [
              0.1111111111111111,
              "#46039f"
             ],
             [
              0.2222222222222222,
              "#7201a8"
             ],
             [
              0.3333333333333333,
              "#9c179e"
             ],
             [
              0.4444444444444444,
              "#bd3786"
             ],
             [
              0.5555555555555556,
              "#d8576b"
             ],
             [
              0.6666666666666666,
              "#ed7953"
             ],
             [
              0.7777777777777778,
              "#fb9f3a"
             ],
             [
              0.8888888888888888,
              "#fdca26"
             ],
             [
              1,
              "#f0f921"
             ]
            ],
            "type": "histogram2d"
           }
          ],
          "histogram2dcontour": [
           {
            "colorbar": {
             "outlinewidth": 0,
             "ticks": ""
            },
            "colorscale": [
             [
              0,
              "#0d0887"
             ],
             [
              0.1111111111111111,
              "#46039f"
             ],
             [
              0.2222222222222222,
              "#7201a8"
             ],
             [
              0.3333333333333333,
              "#9c179e"
             ],
             [
              0.4444444444444444,
              "#bd3786"
             ],
             [
              0.5555555555555556,
              "#d8576b"
             ],
             [
              0.6666666666666666,
              "#ed7953"
             ],
             [
              0.7777777777777778,
              "#fb9f3a"
             ],
             [
              0.8888888888888888,
              "#fdca26"
             ],
             [
              1,
              "#f0f921"
             ]
            ],
            "type": "histogram2dcontour"
           }
          ],
          "mesh3d": [
           {
            "colorbar": {
             "outlinewidth": 0,
             "ticks": ""
            },
            "type": "mesh3d"
           }
          ],
          "parcoords": [
           {
            "line": {
             "colorbar": {
              "outlinewidth": 0,
              "ticks": ""
             }
            },
            "type": "parcoords"
           }
          ],
          "pie": [
           {
            "automargin": true,
            "type": "pie"
           }
          ],
          "scatter": [
           {
            "fillpattern": {
             "fillmode": "overlay",
             "size": 10,
             "solidity": 0.2
            },
            "type": "scatter"
           }
          ],
          "scatter3d": [
           {
            "line": {
             "colorbar": {
              "outlinewidth": 0,
              "ticks": ""
             }
            },
            "marker": {
             "colorbar": {
              "outlinewidth": 0,
              "ticks": ""
             }
            },
            "type": "scatter3d"
           }
          ],
          "scattercarpet": [
           {
            "marker": {
             "colorbar": {
              "outlinewidth": 0,
              "ticks": ""
             }
            },
            "type": "scattercarpet"
           }
          ],
          "scattergeo": [
           {
            "marker": {
             "colorbar": {
              "outlinewidth": 0,
              "ticks": ""
             }
            },
            "type": "scattergeo"
           }
          ],
          "scattergl": [
           {
            "marker": {
             "colorbar": {
              "outlinewidth": 0,
              "ticks": ""
             }
            },
            "type": "scattergl"
           }
          ],
          "scattermapbox": [
           {
            "marker": {
             "colorbar": {
              "outlinewidth": 0,
              "ticks": ""
             }
            },
            "type": "scattermapbox"
           }
          ],
          "scatterpolar": [
           {
            "marker": {
             "colorbar": {
              "outlinewidth": 0,
              "ticks": ""
             }
            },
            "type": "scatterpolar"
           }
          ],
          "scatterpolargl": [
           {
            "marker": {
             "colorbar": {
              "outlinewidth": 0,
              "ticks": ""
             }
            },
            "type": "scatterpolargl"
           }
          ],
          "scatterternary": [
           {
            "marker": {
             "colorbar": {
              "outlinewidth": 0,
              "ticks": ""
             }
            },
            "type": "scatterternary"
           }
          ],
          "surface": [
           {
            "colorbar": {
             "outlinewidth": 0,
             "ticks": ""
            },
            "colorscale": [
             [
              0,
              "#0d0887"
             ],
             [
              0.1111111111111111,
              "#46039f"
             ],
             [
              0.2222222222222222,
              "#7201a8"
             ],
             [
              0.3333333333333333,
              "#9c179e"
             ],
             [
              0.4444444444444444,
              "#bd3786"
             ],
             [
              0.5555555555555556,
              "#d8576b"
             ],
             [
              0.6666666666666666,
              "#ed7953"
             ],
             [
              0.7777777777777778,
              "#fb9f3a"
             ],
             [
              0.8888888888888888,
              "#fdca26"
             ],
             [
              1,
              "#f0f921"
             ]
            ],
            "type": "surface"
           }
          ],
          "table": [
           {
            "cells": {
             "fill": {
              "color": "#EBF0F8"
             },
             "line": {
              "color": "white"
             }
            },
            "header": {
             "fill": {
              "color": "#C8D4E3"
             },
             "line": {
              "color": "white"
             }
            },
            "type": "table"
           }
          ]
         },
         "layout": {
          "annotationdefaults": {
           "arrowcolor": "#2a3f5f",
           "arrowhead": 0,
           "arrowwidth": 1
          },
          "autotypenumbers": "strict",
          "coloraxis": {
           "colorbar": {
            "outlinewidth": 0,
            "ticks": ""
           }
          },
          "colorscale": {
           "diverging": [
            [
             0,
             "#8e0152"
            ],
            [
             0.1,
             "#c51b7d"
            ],
            [
             0.2,
             "#de77ae"
            ],
            [
             0.3,
             "#f1b6da"
            ],
            [
             0.4,
             "#fde0ef"
            ],
            [
             0.5,
             "#f7f7f7"
            ],
            [
             0.6,
             "#e6f5d0"
            ],
            [
             0.7,
             "#b8e186"
            ],
            [
             0.8,
             "#7fbc41"
            ],
            [
             0.9,
             "#4d9221"
            ],
            [
             1,
             "#276419"
            ]
           ],
           "sequential": [
            [
             0,
             "#0d0887"
            ],
            [
             0.1111111111111111,
             "#46039f"
            ],
            [
             0.2222222222222222,
             "#7201a8"
            ],
            [
             0.3333333333333333,
             "#9c179e"
            ],
            [
             0.4444444444444444,
             "#bd3786"
            ],
            [
             0.5555555555555556,
             "#d8576b"
            ],
            [
             0.6666666666666666,
             "#ed7953"
            ],
            [
             0.7777777777777778,
             "#fb9f3a"
            ],
            [
             0.8888888888888888,
             "#fdca26"
            ],
            [
             1,
             "#f0f921"
            ]
           ],
           "sequentialminus": [
            [
             0,
             "#0d0887"
            ],
            [
             0.1111111111111111,
             "#46039f"
            ],
            [
             0.2222222222222222,
             "#7201a8"
            ],
            [
             0.3333333333333333,
             "#9c179e"
            ],
            [
             0.4444444444444444,
             "#bd3786"
            ],
            [
             0.5555555555555556,
             "#d8576b"
            ],
            [
             0.6666666666666666,
             "#ed7953"
            ],
            [
             0.7777777777777778,
             "#fb9f3a"
            ],
            [
             0.8888888888888888,
             "#fdca26"
            ],
            [
             1,
             "#f0f921"
            ]
           ]
          },
          "colorway": [
           "#636efa",
           "#EF553B",
           "#00cc96",
           "#ab63fa",
           "#FFA15A",
           "#19d3f3",
           "#FF6692",
           "#B6E880",
           "#FF97FF",
           "#FECB52"
          ],
          "font": {
           "color": "#2a3f5f"
          },
          "geo": {
           "bgcolor": "white",
           "lakecolor": "white",
           "landcolor": "#E5ECF6",
           "showlakes": true,
           "showland": true,
           "subunitcolor": "white"
          },
          "hoverlabel": {
           "align": "left"
          },
          "hovermode": "closest",
          "mapbox": {
           "style": "light"
          },
          "paper_bgcolor": "white",
          "plot_bgcolor": "#E5ECF6",
          "polar": {
           "angularaxis": {
            "gridcolor": "white",
            "linecolor": "white",
            "ticks": ""
           },
           "bgcolor": "#E5ECF6",
           "radialaxis": {
            "gridcolor": "white",
            "linecolor": "white",
            "ticks": ""
           }
          },
          "scene": {
           "xaxis": {
            "backgroundcolor": "#E5ECF6",
            "gridcolor": "white",
            "gridwidth": 2,
            "linecolor": "white",
            "showbackground": true,
            "ticks": "",
            "zerolinecolor": "white"
           },
           "yaxis": {
            "backgroundcolor": "#E5ECF6",
            "gridcolor": "white",
            "gridwidth": 2,
            "linecolor": "white",
            "showbackground": true,
            "ticks": "",
            "zerolinecolor": "white"
           },
           "zaxis": {
            "backgroundcolor": "#E5ECF6",
            "gridcolor": "white",
            "gridwidth": 2,
            "linecolor": "white",
            "showbackground": true,
            "ticks": "",
            "zerolinecolor": "white"
           }
          },
          "shapedefaults": {
           "line": {
            "color": "#2a3f5f"
           }
          },
          "ternary": {
           "aaxis": {
            "gridcolor": "white",
            "linecolor": "white",
            "ticks": ""
           },
           "baxis": {
            "gridcolor": "white",
            "linecolor": "white",
            "ticks": ""
           },
           "bgcolor": "#E5ECF6",
           "caxis": {
            "gridcolor": "white",
            "linecolor": "white",
            "ticks": ""
           }
          },
          "title": {
           "x": 0.05
          },
          "xaxis": {
           "automargin": true,
           "gridcolor": "white",
           "linecolor": "white",
           "ticks": "",
           "title": {
            "standoff": 15
           },
           "zerolinecolor": "white",
           "zerolinewidth": 2
          },
          "yaxis": {
           "automargin": true,
           "gridcolor": "white",
           "linecolor": "white",
           "ticks": "",
           "title": {
            "standoff": 15
           },
           "zerolinecolor": "white",
           "zerolinewidth": 2
          }
         }
        },
        "title": {
         "text": "Vergelijking: Klimaat en Geluk"
        },
        "width": 1000,
        "xaxis": {
         "anchor": "y",
         "autorange": true,
         "domain": [
          0,
          1
         ],
         "range": [
          -0.1019631379962193,
          1.7189631379962194
         ],
         "title": {
          "text": "Social support"
         },
         "type": "linear"
        },
        "xaxis2": {
         "anchor": "y2",
         "autorange": true,
         "domain": [
          0,
          1
         ],
         "range": [
          -0.10504694485842028,
          1.7220469448584204
         ],
         "title": {
          "text": "Social support"
         },
         "type": "linear"
        },
        "yaxis": {
         "anchor": "x",
         "autorange": true,
         "domain": [
          0.625,
          1
         ],
         "range": [
          1.2611780693533272,
          8.200821930646672
         ],
         "title": {
          "text": "Happiness score"
         },
         "type": "linear"
        },
        "yaxis2": {
         "anchor": "x2",
         "autorange": true,
         "domain": [
          0,
          0.375
         ],
         "range": [
          1.2283509933774837,
          8.233649006622516
         ],
         "title": {
          "text": "Happiness score"
         },
         "type": "linear"
        }
       }
      },
      "text/html": [
       "<div>                            <div id=\"2c9a9aea-628f-4b51-acc2-c0cbb3a24938\" class=\"plotly-graph-div\" style=\"height:1000px; width:1000px;\"></div>            <script type=\"text/javascript\">                require([\"plotly\"], function(Plotly) {                    window.PLOTLYENV=window.PLOTLYENV || {};                                    if (document.getElementById(\"2c9a9aea-628f-4b51-acc2-c0cbb3a24938\")) {                    Plotly.newPlot(                        \"2c9a9aea-628f-4b51-acc2-c0cbb3a24938\",                        [{\"hovertemplate\":\"\\u003cb\\u003e%{hovertext}\\u003c\\u002fb\\u003e\\u003cbr\\u003e\\u003cbr\\u003eSocial support=%{x}\\u003cbr\\u003eLadder score=%{marker.color}\\u003cextra\\u003e\\u003c\\u002fextra\\u003e\",\"hovertext\":[\"Afghanistan\",\"Albania\",\"Algeria\",\"Andorra\",\"Angola\",\"Antigua and Barbuda\",\"Argentina\",\"Armenia\",\"Australia\",\"Australia\",\"Austria\",\"Azerbaijan\",\"Bahamas\",\"Bahrain\",\"Bangladesh\",\"Barbados\",\"Belarus\",\"Belgium\",\"Belize\",\"Benin\",\"Bhutan\",\"Bolivia\",\"Bosnia and Herzegovina\",\"Botswana\",\"Brazil\",\"Brazil\",\"Brunei Darussalam\",\"Bulgaria\",\"Burkina Faso\",\"Burundi\",\"B\\u00e9lgica\",\"Cambodia\",\"Cameroon\",\"Canada\",\"Cape Verde\",\"Central African Republic\",\"Chad\",\"Chile\",\"China\",\"China\",\"Colombia\",\"Comoros\",\"Congo\",\"Costa Rica\",\"Croatia\",\"Cuba\",\"Cyprus\",\"Czech Republic\",\"Democratic Republic of Congo\",\"Denmark\",\"Djibouti\",\"Dominica\",\"Dominican Republic\",\"Ecuador\",\"Egypt\",\"El Salvador\",\"Equatorial Guinea\",\"Eritrea\",\"Estonia\",\"Estonie\",\"Ethiopia\",\"Fiji Islands\",\"Finland\",\"France\",\"Gabon\",\"Gambia\",\"Georgia\",\"Germany\",\"Germany\",\"Ghana\",\"Greece\",\"Grenada\",\"Guatemala\",\"Guinea\",\"Guinea-Bissau\",\"Guyana\",\"Haiti\",\"Honduras\",\"Hungary\",\"Iceland\",\"Inde\",\"India\",\"India\",\"Indonesia\",\"Iran\",\"Iraq\",\"Ireland\",\"Israel\",\"Italy\",\"Jamaica\",\"Japan\",\"Jemen\",\"Jordan\",\"Kazakhstan\",\"Kenya\",\"Kiribati\",\"Komoren\",\"Kosovo\",\"Kuwait\",\"Kyrghyzstan\",\"Lao People's Democratic Republic\",\"Latvia\",\"Lebanon\",\"Lesotho\",\"Letonia\",\"Liberia\",\"Libya\",\"Liechtenstein\",\"Lithuania\",\"Luxembourg\",\"Macedonia\",\"Madagascar\",\"Malawi\",\"Malaysia\",\"Maldives\",\"Mali\",\"Malta\",\"Mal\\u00e1sia\",\"Marrocos\",\"Marshall Islands\",\"Mauritania\",\"Mauritius\",\"Mexico\",\"Mexique\",\"Micronesia\",\"Monaco\",\"Mongolia\",\"Montenegro\",\"Morocco\",\"Mozambique\",\"Myanmar\",\"Namibia\",\"Nepal\",\"Netherlands\",\"New Zealand\",\"Nicaragua\",\"Niger\",\"Nigeria\",\"Nigeria\",\"North Korea\",\"Norway\",\"Oman\",\"Pakistan\",\"Palau\",\"Panama\",\"Papua New Guinea\",\"Paraguay\",\"Peru\",\"Philippines\",\"Poland\",\"Pol\\u00f4nia\",\"Portugal\",\"Qatar\",\"Romania\",\"Russia\",\"Russia\",\"Rwanda\",\"Saint Kitts and Nevis\",\"Saint Lucia\",\"Saint Vincent and the Grenadines\",\"Saint-Vincent-et-les-Grenadines\",\"Samoa\",\"San Marino\",\"Saudi Arabia\",\"Saudi Arabien\",\"Senegal\",\"Serbia\",\"Seychelles Islands\",\"Sierra Leone\",\"Singapore\",\"Slovakia\",\"Slovenia\",\"Solomon Islands\",\"Somalia\",\"South Africa\",\"South Korea\",\"Spain\",\"Sri Lanka\",\"Sudan\",\"Suriname\",\"Swaziland\",\"Sweden\",\"Switzerland\",\"Syria\",\"S\\u00fcdkorea\",\"Tajikistan\",\"Tanzania\",\"Thailand\",\"Timor-Leste\",\"Togo\",\"Tonga\",\"Trinidad and Tobago\",\"Tunisia\",\"Turkey\",\"Turkmenistan\",\"Turkm\\u00e9nistan\",\"Tuvalu\",\"USA United States of America\",\"Uganda\",\"Ukraine\",\"United Arab Emirates\",\"United Kingdom\",\"United States of America\",\"Uruguay\",\"Uzbekistan\",\"Vanuatu\",\"Vatican City\",\"Venezuela\",\"Vietnam\",\"Yemen\",\"Zambia\",\"Zimbabwe\",\"\\u0413\\u0432\\u0430\\u0442\\u0435\\u043c\\u0430\\u043b\\u0430\",\"\\u041f\\u043e\\u043b\\u044c\\u0448\\u0430\",\"\\u0422\\u0443\\u0440\\u0446\\u0438\\u044f\",\"\\u0643\\u0648\\u0644\\u0648\\u0645\\u0628\\u064a\\u0627\",\"\\u706b\\u9e21\"],\"legendgroup\":\"\",\"marker\":{\"color\":[1.721,5.304,5.364,null,null,null,6.188,5.455,7.057,7.057,6.905,4.893,null,5.959,3.886,null,null,6.894,null,4.377,null,5.784,5.877,3.383,6.272,6.272,null,5.463,4.548,null,null,4.341,4.874,6.9,null,null,4.471,6.36,5.973,5.973,5.695,3.566,null,6.955,5.942,null,6.068,null,null,7.583,null,null,5.823,5.725,3.977,6.469,null,null,6.448,null,3.861,null,7.741,6.609,5.106,4.485,5.185,6.719,6.719,4.289,5.934,null,6.287,5.023,null,null,null,5.968,6.017,7.525,null,4.054,4.054,5.568,4.923,5.166,6.838,7.341,6.324,5.842,6.06,null,4.186,6.188,4.47,null,null,6.561,6.951,null,null,6.234,2.707,3.186,null,4.269,5.866,null,6.818,7.122,null,4.228,3.421,5.975,null,4.232,6.346,null,null,null,4.505,5.816,6.678,null,null,null,5.696,5.707,4.795,5.216,4.354,4.832,5.158,7.319,7.029,6.284,4.556,4.881,4.881,null,7.302,null,4.657,null,6.358,null,5.977,5.841,6.048,6.442,null,6.03,null,6.491,5.785,5.785,null,null,null,null,null,null,null,6.594,null,4.969,6.411,null,3.245,6.523,6.257,6.743,null,null,5.422,6.058,6.421,3.898,null,null,null,7.344,7.06,null,null,5.281,3.781,5.976,null,4.214,null,null,4.422,null,null,null,null,null,4.372,4.873,6.733,6.749,null,6.611,6.195,null,null,5.607,6.043,3.561,3.502,3.341,null,null,null,null,null],\"coloraxis\":\"coloraxis\",\"opacity\":0.7,\"size\":8,\"symbol\":\"circle\"},\"mode\":\"markers\",\"name\":\"\",\"orientation\":\"v\",\"showlegend\":false,\"textposition\":\"top center\",\"x\":[0.0,0.924,1.191,null,null,null,1.381,1.154,1.461,1.461,1.336,0.876,null,null,0.249,null,null,1.44,null,0.128,null,1.179,1.318,0.969,1.269,1.269,null,1.469,0.685,null,null,1.019,0.856,1.459,null,null,0.805,1.369,1.239,1.239,1.241,0.328,null,1.373,1.445,null,1.217,null,null,1.52,null,null,1.272,1.151,0.996,1.08,null,null,1.527,null,0.915,null,1.572,1.348,1.038,0.684,0.99,1.39,1.39,0.747,1.276,null,1.169,0.622,null,null,null,1.035,1.528,1.617,null,0.653,0.653,1.184,1.136,0.996,1.39,1.513,1.328,1.324,1.354,null,0.983,1.457,0.895,null,null,1.277,1.364,null,null,1.508,0.577,0.851,null,0.673,1.1,null,1.454,1.355,null,0.823,0.41,1.143,null,0.688,1.444,null,null,null,0.705,1.358,1.241,null,null,null,1.511,1.318,0.471,0.883,0.988,1.212,0.99,1.462,1.527,1.263,0.677,1.075,1.075,null,1.517,null,0.6,null,1.392,null,1.408,1.18,1.146,1.417,null,1.368,null,1.236,1.351,1.351,null,null,null,null,null,null,null,1.361,null,0.751,1.391,null,0.566,1.361,1.54,1.502,null,null,1.369,1.178,1.471,1.179,null,null,null,1.501,1.425,null,null,null,0.706,1.347,null,0.586,null,null,0.955,null,null,null,null,null,1.151,1.315,1.164,1.326,null,1.431,1.394,null,null,1.321,1.267,1.281,0.809,0.85,null,null,null,null,null],\"xaxis\":\"x\",\"y\":[1.721,5.304,5.364,null,null,null,6.188,5.455,7.057,7.057,6.905,4.893,null,5.959,3.886,null,null,6.894,null,4.377,null,5.784,5.877,3.383,6.272,6.272,null,5.463,4.548,null,null,4.341,4.874,6.9,null,null,4.471,6.36,5.973,5.973,5.695,3.566,null,6.955,5.942,null,6.068,null,null,7.583,null,null,5.823,5.725,3.977,6.469,null,null,6.448,null,3.861,null,7.741,6.609,5.106,4.485,5.185,6.719,6.719,4.289,5.934,null,6.287,5.023,null,null,null,5.968,6.017,7.525,null,4.054,4.054,5.568,4.923,5.166,6.838,7.341,6.324,5.842,6.06,null,4.186,6.188,4.47,null,null,6.561,6.951,null,null,6.234,2.707,3.186,null,4.269,5.866,null,6.818,7.122,null,4.228,3.421,5.975,null,4.232,6.346,null,null,null,4.505,5.816,6.678,null,null,null,5.696,5.707,4.795,5.216,4.354,4.832,5.158,7.319,7.029,6.284,4.556,4.881,4.881,null,7.302,null,4.657,null,6.358,null,5.977,5.841,6.048,6.442,null,6.03,null,6.491,5.785,5.785,null,null,null,null,null,null,null,6.594,null,4.969,6.411,null,3.245,6.523,6.257,6.743,null,null,5.422,6.058,6.421,3.898,null,null,null,7.344,7.06,null,null,5.281,3.781,5.976,null,4.214,null,null,4.422,null,null,null,null,null,4.372,4.873,6.733,6.749,null,6.611,6.195,null,null,5.607,6.043,3.561,3.502,3.341,null,null,null,null,null],\"yaxis\":\"y\",\"type\":\"scatter\"},{\"hovertemplate\":\"\\u003cb\\u003eOLS trendline\\u003c\\u002fb\\u003e\\u003cbr\\u003eLadder score = 2.96208 * Social support + 2.18271\\u003cbr\\u003eR\\u003csup\\u003e2\\u003c\\u002fsup\\u003e=0.684833\\u003cbr\\u003e\\u003cbr\\u003eSocial support=%{x}\\u003cbr\\u003eLadder score=%{y} \\u003cb\\u003e(trend)\\u003c\\u002fb\\u003e\\u003cextra\\u003e\\u003c\\u002fextra\\u003e\",\"legendgroup\":\"\",\"marker\":{\"opacity\":0.7,\"size\":8,\"symbol\":\"circle\"},\"mode\":\"lines\",\"name\":\"\",\"showlegend\":false,\"textposition\":\"top center\",\"x\":[0.0,0.128,0.249,0.328,0.41,0.471,0.566,0.577,0.586,0.6,0.622,0.653,0.653,0.673,0.677,0.684,0.685,0.688,0.705,0.706,0.747,0.751,0.805,0.809,0.823,0.85,0.851,0.856,0.876,0.883,0.895,0.915,0.924,0.955,0.969,0.983,0.988,0.99,0.99,0.996,0.996,1.019,1.035,1.038,1.075,1.075,1.08,1.1,1.136,1.143,1.146,1.151,1.151,1.154,1.164,1.169,1.178,1.179,1.179,1.18,1.184,1.191,1.212,1.217,1.236,1.239,1.239,1.241,1.241,1.263,1.267,1.269,1.269,1.272,1.276,1.277,1.281,1.315,1.318,1.318,1.321,1.324,1.326,1.328,1.336,1.347,1.348,1.351,1.351,1.354,1.355,1.358,1.361,1.361,1.364,1.368,1.369,1.369,1.373,1.381,1.39,1.39,1.39,1.391,1.392,1.394,1.408,1.417,1.425,1.431,1.44,1.444,1.445,1.454,1.457,1.459,1.461,1.461,1.462,1.469,1.471,1.501,1.502,1.508,1.511,1.513,1.517,1.52,1.527,1.527,1.528,1.54,1.572,1.617],\"xaxis\":\"x\",\"y\":[2.1827065548248883,2.561852716280108,2.9202643220307456,3.1542685935538888,3.397159103236139,3.5778459458046425,3.859243487509688,3.891826360759746,3.9184850752370664,3.9599541866462307,4.025119933146347,4.116944394123783,4.116944394123783,4.176185981851161,4.188034299396637,4.208768855101219,4.211730934487588,4.220617172646694,4.270972522214966,4.273934601601335,4.39537985644246,4.407228173987935,4.567180460851857,4.579028778397332,4.620497889806497,4.700474033238457,4.703436112624826,4.71824650955667,4.777488097284049,4.798222652988631,4.833767605625058,4.893009193352436,4.919667907829757,5.0114923688071915,5.052961480216357,5.094430591625521,5.1092409885573655,5.115165147330104,5.115165147330104,5.132937623648317,5.132937623648317,5.201065449534802,5.248458719716704,5.257344957875811,5.366941895171461,5.366941895171461,5.381752292103306,5.440993879830684,5.547628737739963,5.568363293444547,5.577249531603653,5.592059928535498,5.592059928535498,5.600946166694603,5.630566960558292,5.645377357490138,5.672036071967458,5.674998151353827,5.674998151353827,5.6779602307401955,5.689808548285671,5.710543103990254,5.772746771104,5.787557168035845,5.8438366763768546,5.852722914535962,5.852722914535962,5.858647073308699,5.858647073308699,5.9238128198088145,5.93566113735429,5.941585296127028,5.941585296127028,5.950471534286135,5.9623198518316105,5.965281931217979,5.977130248763455,6.077840947899998,6.086727186059105,6.086727186059105,6.095613424218211,6.104499662377318,6.1104238211500554,6.116347979922794,6.140044615013744,6.172627488263803,6.175589567650172,6.184475805809278,6.184475805809278,6.193362043968385,6.196324123354755,6.205210361513862,6.214096599672967,6.214096599672967,6.222982837832074,6.234831155377551,6.2377932347639184,6.2377932347639184,6.249641552309395,6.273338187400345,6.299996901877666,6.299996901877666,6.299996901877666,6.302958981264034,6.3059210606504035,6.311845219423141,6.353314330832305,6.379973045309626,6.4036696804005775,6.421442156718792,6.448100871196111,6.459949188741586,6.4629112681279555,6.489569982605275,6.498456220764382,6.504380379537121,6.510304538309859,6.510304538309859,6.513266617696226,6.53400117340081,6.5399253321735475,6.6287877137646145,6.631749793150982,6.6495222694691964,6.6584085076283035,6.664332666401041,6.676180983946516,6.685067222105623,6.705801777810205,6.705801777810205,6.708763857196574,6.744308809833001,6.839095350196807,6.9723889225834075],\"yaxis\":\"y\",\"type\":\"scatter\"},{\"hovertemplate\":\"\\u003cb\\u003e%{hovertext}\\u003c\\u002fb\\u003e\\u003cbr\\u003e\\u003cbr\\u003eHighlight=Mild Climate\\u003cbr\\u003eSocial support=%{x}\\u003cbr\\u003eLadder score=%{y}\\u003cbr\\u003ecountry=%{text}\\u003cextra\\u003e\\u003c\\u002fextra\\u003e\",\"hovertext\":[\"Afghanistan\",\"Armenia\",\"Austria\",\"Azerbaijan\",\"Bolivia\",\"Bosnia and Herzegovina\",\"Bulgaria\",\"B\\u00e9lgica\",\"China\",\"China\",\"Costa Rica\",\"Croatia\",\"Czech Republic\",\"El Salvador\",\"Eritrea\",\"Ethiopia\",\"France\",\"Georgia\",\"Germany\",\"Germany\",\"Guatemala\",\"Honduras\",\"Hungary\",\"Japan\",\"Kyrghyzstan\",\"Lesotho\",\"Letonia\",\"Monaco\",\"Morocco\",\"Nepal\",\"North Korea\",\"Paraguay\",\"Peru\",\"Poland\",\"Portugal\",\"Romania\",\"San Marino\",\"Serbia\",\"Slovakia\",\"Slovenia\",\"South Korea\",\"Spain\",\"Tonga\",\"Ukraine\"],\"legendgroup\":\"Mild Climate\",\"marker\":{\"color\":\"orange\",\"opacity\":0.9,\"size\":10,\"symbol\":\"circle\"},\"mode\":\"markers+text\",\"name\":\"Mild Climate\",\"orientation\":\"v\",\"showlegend\":true,\"text\":[\"Afghanistan\",\"Armenia\",\"Austria\",\"Azerbaijan\",\"Bolivia\",\"Bosnia and Herzegovina\",\"Bulgaria\",\"B\\u00e9lgica\",\"China\",\"China\",\"Costa Rica\",\"Croatia\",\"Czech Republic\",\"El Salvador\",\"Eritrea\",\"Ethiopia\",\"France\",\"Georgia\",\"Germany\",\"Germany\",\"Guatemala\",\"Honduras\",\"Hungary\",\"Japan\",\"Kyrghyzstan\",\"Lesotho\",\"Letonia\",\"Monaco\",\"Morocco\",\"Nepal\",\"North Korea\",\"Paraguay\",\"Peru\",\"Poland\",\"Portugal\",\"Romania\",\"San Marino\",\"Serbia\",\"Slovakia\",\"Slovenia\",\"South Korea\",\"Spain\",\"Tonga\",\"Ukraine\"],\"textposition\":\"top center\",\"x\":[0.0,1.154,1.336,0.876,1.179,1.318,1.469,null,1.239,1.239,1.373,1.445,null,1.08,null,0.915,1.348,0.99,1.39,1.39,1.169,1.035,1.528,1.354,null,0.851,null,null,0.471,0.99,null,1.408,1.18,1.417,1.368,1.236,null,1.391,1.54,1.502,1.178,1.471,null,1.315],\"xaxis\":\"x2\",\"y\":[1.721,5.455,6.905,4.893,5.784,5.877,5.463,null,5.973,5.973,6.955,5.942,null,6.469,null,3.861,6.609,5.185,6.719,6.719,6.287,5.968,6.017,6.06,null,3.186,null,null,4.795,5.158,null,5.977,5.841,6.442,6.03,6.491,null,6.411,6.257,6.743,6.058,6.421,null,4.873],\"yaxis\":\"y2\",\"type\":\"scatter\"},{\"hovertemplate\":\"\\u003cb\\u003e%{hovertext}\\u003c\\u002fb\\u003e\\u003cbr\\u003e\\u003cbr\\u003eHighlight=Nordic\\u003cbr\\u003eSocial support=%{x}\\u003cbr\\u003eLadder score=%{y}\\u003cbr\\u003ecountry=%{text}\\u003cextra\\u003e\\u003c\\u002fextra\\u003e\",\"hovertext\":[\"Denmark\",\"Finland\",\"Iceland\",\"Norway\",\"Sweden\"],\"legendgroup\":\"Nordic\",\"marker\":{\"color\":\"blue\",\"opacity\":0.9,\"size\":10,\"symbol\":\"circle\"},\"mode\":\"markers+text\",\"name\":\"Nordic\",\"orientation\":\"v\",\"showlegend\":true,\"text\":[\"Denmark\",\"Finland\",\"Iceland\",\"Norway\",\"Sweden\"],\"textposition\":\"top center\",\"x\":[1.52,1.572,1.617,1.517,1.501],\"xaxis\":\"x2\",\"y\":[7.583,7.741,7.525,7.302,7.344],\"yaxis\":\"y2\",\"type\":\"scatter\"}],                        {\"template\":{\"data\":{\"histogram2dcontour\":[{\"type\":\"histogram2dcontour\",\"colorbar\":{\"outlinewidth\":0,\"ticks\":\"\"},\"colorscale\":[[0.0,\"#0d0887\"],[0.1111111111111111,\"#46039f\"],[0.2222222222222222,\"#7201a8\"],[0.3333333333333333,\"#9c179e\"],[0.4444444444444444,\"#bd3786\"],[0.5555555555555556,\"#d8576b\"],[0.6666666666666666,\"#ed7953\"],[0.7777777777777778,\"#fb9f3a\"],[0.8888888888888888,\"#fdca26\"],[1.0,\"#f0f921\"]]}],\"choropleth\":[{\"type\":\"choropleth\",\"colorbar\":{\"outlinewidth\":0,\"ticks\":\"\"}}],\"histogram2d\":[{\"type\":\"histogram2d\",\"colorbar\":{\"outlinewidth\":0,\"ticks\":\"\"},\"colorscale\":[[0.0,\"#0d0887\"],[0.1111111111111111,\"#46039f\"],[0.2222222222222222,\"#7201a8\"],[0.3333333333333333,\"#9c179e\"],[0.4444444444444444,\"#bd3786\"],[0.5555555555555556,\"#d8576b\"],[0.6666666666666666,\"#ed7953\"],[0.7777777777777778,\"#fb9f3a\"],[0.8888888888888888,\"#fdca26\"],[1.0,\"#f0f921\"]]}],\"heatmap\":[{\"type\":\"heatmap\",\"colorbar\":{\"outlinewidth\":0,\"ticks\":\"\"},\"colorscale\":[[0.0,\"#0d0887\"],[0.1111111111111111,\"#46039f\"],[0.2222222222222222,\"#7201a8\"],[0.3333333333333333,\"#9c179e\"],[0.4444444444444444,\"#bd3786\"],[0.5555555555555556,\"#d8576b\"],[0.6666666666666666,\"#ed7953\"],[0.7777777777777778,\"#fb9f3a\"],[0.8888888888888888,\"#fdca26\"],[1.0,\"#f0f921\"]]}],\"heatmapgl\":[{\"type\":\"heatmapgl\",\"colorbar\":{\"outlinewidth\":0,\"ticks\":\"\"},\"colorscale\":[[0.0,\"#0d0887\"],[0.1111111111111111,\"#46039f\"],[0.2222222222222222,\"#7201a8\"],[0.3333333333333333,\"#9c179e\"],[0.4444444444444444,\"#bd3786\"],[0.5555555555555556,\"#d8576b\"],[0.6666666666666666,\"#ed7953\"],[0.7777777777777778,\"#fb9f3a\"],[0.8888888888888888,\"#fdca26\"],[1.0,\"#f0f921\"]]}],\"contourcarpet\":[{\"type\":\"contourcarpet\",\"colorbar\":{\"outlinewidth\":0,\"ticks\":\"\"}}],\"contour\":[{\"type\":\"contour\",\"colorbar\":{\"outlinewidth\":0,\"ticks\":\"\"},\"colorscale\":[[0.0,\"#0d0887\"],[0.1111111111111111,\"#46039f\"],[0.2222222222222222,\"#7201a8\"],[0.3333333333333333,\"#9c179e\"],[0.4444444444444444,\"#bd3786\"],[0.5555555555555556,\"#d8576b\"],[0.6666666666666666,\"#ed7953\"],[0.7777777777777778,\"#fb9f3a\"],[0.8888888888888888,\"#fdca26\"],[1.0,\"#f0f921\"]]}],\"surface\":[{\"type\":\"surface\",\"colorbar\":{\"outlinewidth\":0,\"ticks\":\"\"},\"colorscale\":[[0.0,\"#0d0887\"],[0.1111111111111111,\"#46039f\"],[0.2222222222222222,\"#7201a8\"],[0.3333333333333333,\"#9c179e\"],[0.4444444444444444,\"#bd3786\"],[0.5555555555555556,\"#d8576b\"],[0.6666666666666666,\"#ed7953\"],[0.7777777777777778,\"#fb9f3a\"],[0.8888888888888888,\"#fdca26\"],[1.0,\"#f0f921\"]]}],\"mesh3d\":[{\"type\":\"mesh3d\",\"colorbar\":{\"outlinewidth\":0,\"ticks\":\"\"}}],\"scatter\":[{\"fillpattern\":{\"fillmode\":\"overlay\",\"size\":10,\"solidity\":0.2},\"type\":\"scatter\"}],\"parcoords\":[{\"type\":\"parcoords\",\"line\":{\"colorbar\":{\"outlinewidth\":0,\"ticks\":\"\"}}}],\"scatterpolargl\":[{\"type\":\"scatterpolargl\",\"marker\":{\"colorbar\":{\"outlinewidth\":0,\"ticks\":\"\"}}}],\"bar\":[{\"error_x\":{\"color\":\"#2a3f5f\"},\"error_y\":{\"color\":\"#2a3f5f\"},\"marker\":{\"line\":{\"color\":\"#E5ECF6\",\"width\":0.5},\"pattern\":{\"fillmode\":\"overlay\",\"size\":10,\"solidity\":0.2}},\"type\":\"bar\"}],\"scattergeo\":[{\"type\":\"scattergeo\",\"marker\":{\"colorbar\":{\"outlinewidth\":0,\"ticks\":\"\"}}}],\"scatterpolar\":[{\"type\":\"scatterpolar\",\"marker\":{\"colorbar\":{\"outlinewidth\":0,\"ticks\":\"\"}}}],\"histogram\":[{\"marker\":{\"pattern\":{\"fillmode\":\"overlay\",\"size\":10,\"solidity\":0.2}},\"type\":\"histogram\"}],\"scattergl\":[{\"type\":\"scattergl\",\"marker\":{\"colorbar\":{\"outlinewidth\":0,\"ticks\":\"\"}}}],\"scatter3d\":[{\"type\":\"scatter3d\",\"line\":{\"colorbar\":{\"outlinewidth\":0,\"ticks\":\"\"}},\"marker\":{\"colorbar\":{\"outlinewidth\":0,\"ticks\":\"\"}}}],\"scattermapbox\":[{\"type\":\"scattermapbox\",\"marker\":{\"colorbar\":{\"outlinewidth\":0,\"ticks\":\"\"}}}],\"scatterternary\":[{\"type\":\"scatterternary\",\"marker\":{\"colorbar\":{\"outlinewidth\":0,\"ticks\":\"\"}}}],\"scattercarpet\":[{\"type\":\"scattercarpet\",\"marker\":{\"colorbar\":{\"outlinewidth\":0,\"ticks\":\"\"}}}],\"carpet\":[{\"aaxis\":{\"endlinecolor\":\"#2a3f5f\",\"gridcolor\":\"white\",\"linecolor\":\"white\",\"minorgridcolor\":\"white\",\"startlinecolor\":\"#2a3f5f\"},\"baxis\":{\"endlinecolor\":\"#2a3f5f\",\"gridcolor\":\"white\",\"linecolor\":\"white\",\"minorgridcolor\":\"white\",\"startlinecolor\":\"#2a3f5f\"},\"type\":\"carpet\"}],\"table\":[{\"cells\":{\"fill\":{\"color\":\"#EBF0F8\"},\"line\":{\"color\":\"white\"}},\"header\":{\"fill\":{\"color\":\"#C8D4E3\"},\"line\":{\"color\":\"white\"}},\"type\":\"table\"}],\"barpolar\":[{\"marker\":{\"line\":{\"color\":\"#E5ECF6\",\"width\":0.5},\"pattern\":{\"fillmode\":\"overlay\",\"size\":10,\"solidity\":0.2}},\"type\":\"barpolar\"}],\"pie\":[{\"automargin\":true,\"type\":\"pie\"}]},\"layout\":{\"autotypenumbers\":\"strict\",\"colorway\":[\"#636efa\",\"#EF553B\",\"#00cc96\",\"#ab63fa\",\"#FFA15A\",\"#19d3f3\",\"#FF6692\",\"#B6E880\",\"#FF97FF\",\"#FECB52\"],\"font\":{\"color\":\"#2a3f5f\"},\"hovermode\":\"closest\",\"hoverlabel\":{\"align\":\"left\"},\"paper_bgcolor\":\"white\",\"plot_bgcolor\":\"#E5ECF6\",\"polar\":{\"bgcolor\":\"#E5ECF6\",\"angularaxis\":{\"gridcolor\":\"white\",\"linecolor\":\"white\",\"ticks\":\"\"},\"radialaxis\":{\"gridcolor\":\"white\",\"linecolor\":\"white\",\"ticks\":\"\"}},\"ternary\":{\"bgcolor\":\"#E5ECF6\",\"aaxis\":{\"gridcolor\":\"white\",\"linecolor\":\"white\",\"ticks\":\"\"},\"baxis\":{\"gridcolor\":\"white\",\"linecolor\":\"white\",\"ticks\":\"\"},\"caxis\":{\"gridcolor\":\"white\",\"linecolor\":\"white\",\"ticks\":\"\"}},\"coloraxis\":{\"colorbar\":{\"outlinewidth\":0,\"ticks\":\"\"}},\"colorscale\":{\"sequential\":[[0.0,\"#0d0887\"],[0.1111111111111111,\"#46039f\"],[0.2222222222222222,\"#7201a8\"],[0.3333333333333333,\"#9c179e\"],[0.4444444444444444,\"#bd3786\"],[0.5555555555555556,\"#d8576b\"],[0.6666666666666666,\"#ed7953\"],[0.7777777777777778,\"#fb9f3a\"],[0.8888888888888888,\"#fdca26\"],[1.0,\"#f0f921\"]],\"sequentialminus\":[[0.0,\"#0d0887\"],[0.1111111111111111,\"#46039f\"],[0.2222222222222222,\"#7201a8\"],[0.3333333333333333,\"#9c179e\"],[0.4444444444444444,\"#bd3786\"],[0.5555555555555556,\"#d8576b\"],[0.6666666666666666,\"#ed7953\"],[0.7777777777777778,\"#fb9f3a\"],[0.8888888888888888,\"#fdca26\"],[1.0,\"#f0f921\"]],\"diverging\":[[0,\"#8e0152\"],[0.1,\"#c51b7d\"],[0.2,\"#de77ae\"],[0.3,\"#f1b6da\"],[0.4,\"#fde0ef\"],[0.5,\"#f7f7f7\"],[0.6,\"#e6f5d0\"],[0.7,\"#b8e186\"],[0.8,\"#7fbc41\"],[0.9,\"#4d9221\"],[1,\"#276419\"]]},\"xaxis\":{\"gridcolor\":\"white\",\"linecolor\":\"white\",\"ticks\":\"\",\"title\":{\"standoff\":15},\"zerolinecolor\":\"white\",\"automargin\":true,\"zerolinewidth\":2},\"yaxis\":{\"gridcolor\":\"white\",\"linecolor\":\"white\",\"ticks\":\"\",\"title\":{\"standoff\":15},\"zerolinecolor\":\"white\",\"automargin\":true,\"zerolinewidth\":2},\"scene\":{\"xaxis\":{\"backgroundcolor\":\"#E5ECF6\",\"gridcolor\":\"white\",\"linecolor\":\"white\",\"showbackground\":true,\"ticks\":\"\",\"zerolinecolor\":\"white\",\"gridwidth\":2},\"yaxis\":{\"backgroundcolor\":\"#E5ECF6\",\"gridcolor\":\"white\",\"linecolor\":\"white\",\"showbackground\":true,\"ticks\":\"\",\"zerolinecolor\":\"white\",\"gridwidth\":2},\"zaxis\":{\"backgroundcolor\":\"#E5ECF6\",\"gridcolor\":\"white\",\"linecolor\":\"white\",\"showbackground\":true,\"ticks\":\"\",\"zerolinecolor\":\"white\",\"gridwidth\":2}},\"shapedefaults\":{\"line\":{\"color\":\"#2a3f5f\"}},\"annotationdefaults\":{\"arrowcolor\":\"#2a3f5f\",\"arrowhead\":0,\"arrowwidth\":1},\"geo\":{\"bgcolor\":\"white\",\"landcolor\":\"#E5ECF6\",\"subunitcolor\":\"white\",\"showland\":true,\"showlakes\":true,\"lakecolor\":\"white\"},\"title\":{\"x\":0.05},\"mapbox\":{\"style\":\"light\"}}},\"xaxis\":{\"anchor\":\"y\",\"domain\":[0.0,1.0],\"title\":{\"text\":\"Social support\"}},\"yaxis\":{\"anchor\":\"x\",\"domain\":[0.625,1.0],\"title\":{\"text\":\"Happiness score\"}},\"xaxis2\":{\"anchor\":\"y2\",\"domain\":[0.0,1.0],\"title\":{\"text\":\"Social support\"}},\"yaxis2\":{\"anchor\":\"x2\",\"domain\":[0.0,0.375],\"title\":{\"text\":\"Happiness score\"}},\"annotations\":[{\"font\":{\"size\":16},\"showarrow\":false,\"text\":\"Alle landen met trendline\",\"x\":0.5,\"xanchor\":\"center\",\"xref\":\"paper\",\"y\":1.0,\"yanchor\":\"bottom\",\"yref\":\"paper\"},{\"font\":{\"size\":16},\"showarrow\":false,\"text\":\"Nordic vs Mild Climate\",\"x\":0.5,\"xanchor\":\"center\",\"xref\":\"paper\",\"y\":0.375,\"yanchor\":\"bottom\",\"yref\":\"paper\"}],\"title\":{\"text\":\"Vergelijking: Klimaat en Geluk\"},\"height\":1000,\"width\":1000,\"showlegend\":false},                        {\"responsive\": true}                    ).then(function(){\n",
       "                            \n",
       "var gd = document.getElementById('2c9a9aea-628f-4b51-acc2-c0cbb3a24938');\n",
       "var x = new MutationObserver(function (mutations, observer) {{\n",
       "        var display = window.getComputedStyle(gd).display;\n",
       "        if (!display || display === 'none') {{\n",
       "            console.log([gd, 'removed!']);\n",
       "            Plotly.purge(gd);\n",
       "            observer.disconnect();\n",
       "        }}\n",
       "}});\n",
       "\n",
       "// Listen for the removal of the full notebook cells\n",
       "var notebookContainer = gd.closest('#notebook-container');\n",
       "if (notebookContainer) {{\n",
       "    x.observe(notebookContainer, {childList: true});\n",
       "}}\n",
       "\n",
       "// Listen for the clearing of the current output cell\n",
       "var outputEl = gd.closest('.output');\n",
       "if (outputEl) {{\n",
       "    x.observe(outputEl, {childList: true});\n",
       "}}\n",
       "\n",
       "                        })                };                });            </script>        </div>"
      ]
     },
     "metadata": {},
     "output_type": "display_data"
    }
   ],
   "source": [
    "from plotly.subplots import make_subplots\n",
    "\n",
    "# Definieer Nordic en gemiddeld warme landen\n",
    "nordics = ['Sweden', 'Norway', 'Finland', 'Denmark', 'Iceland']\n",
    "avg_temp_df = df123[(df123['temperature_celsius'] >= 16) & (df123['temperature_celsius'] <= 23)]\n",
    "avg_temp_countries = avg_temp_df['country'].unique()\n",
    "\n",
    "# Voeg Highlight-kolom toe voor categorisering\n",
    "def climate_category(row):\n",
    "    if row['country'] in nordics:\n",
    "        return 'Nordic'\n",
    "    elif row['country'] in avg_temp_countries:\n",
    "        return 'Mild Climate'\n",
    "    else:\n",
    "        return 'Other'\n",
    "\n",
    "df123['Highlight'] = df123.apply(climate_category, axis=1)\n",
    "\n",
    "# Eerste plot: alle landen, viridis kleuren op basis van Ladder score\n",
    "scatter_all = px.scatter(\n",
    "    df123,\n",
    "    x='Social support',\n",
    "    y='Ladder score',\n",
    "    color='Ladder score',                  # Viridis op happiness\n",
    "    color_continuous_scale='viridis',\n",
    "    trendline='ols',                        \n",
    "    title='Correlatie: Social Support vs Happiness (alle landen)',\n",
    "    hover_name='country'\n",
    ")\n",
    "\n",
    "scatter_all.update_traces(marker=dict(size=8, opacity=0.7), textposition='top center')\n",
    "\n",
    "# Tweede plot: enkel Nordic vs Mild Climate landen\n",
    "scan_vs_mild = px.scatter(\n",
    "    df123[df123['Highlight'].isin(['Nordic', 'Mild Climate'])],\n",
    "    x='Social support',\n",
    "    y='Ladder score',\n",
    "    color='Highlight',\n",
    "    color_discrete_map={'Nordic': 'blue', 'Mild Climate': 'orange'},\n",
    "    text='country',\n",
    "    title='Nordic vs Mild Climate landen: Social Support vs Happiness',\n",
    "    hover_name='country'\n",
    ")\n",
    "\n",
    "scan_vs_mild.update_traces(marker=dict(size=10, opacity=0.9), textposition='top center')\n",
    "\n",
    "# Combineer beide in subplots\n",
    "final_fig = make_subplots(rows=2, cols=1, subplot_titles=(\"Alle landen met trendline\", \"Nordic vs Mild Climate\"))\n",
    "\n",
    "for trace in scatter_all.data:\n",
    "    final_fig.add_trace(trace, row=1, col=1)\n",
    "for trace in scan_vs_mild.data:\n",
    "    final_fig.add_trace(trace, row=2, col=1)\n",
    "\n",
    "# 6. Layout en labels\n",
    "final_fig.update_layout(\n",
    "    height=1000,\n",
    "    width=1000,\n",
    "    title_text=\"Vergelijking: Klimaat en Geluk\",\n",
    "    showlegend=False\n",
    ")\n",
    "final_fig.update_xaxes(title_text=\"Social support\", row=1, col=1)\n",
    "final_fig.update_xaxes(title_text=\"Social support\", row=2, col=1)\n",
    "final_fig.update_yaxes(title_text=\"Happiness score\", row=1, col=1)\n",
    "final_fig.update_yaxes(title_text=\"Happiness score\", row=2, col=1)\n",
    "\n",
    "# 7. Toon figuur\n",
    "final_fig.show()"
   ]
  },
  {
   "cell_type": "markdown",
   "id": "c3857f81-dcad-489c-a608-3f7f86e6a58e",
   "metadata": {},
   "source": [
    "> *Figuur X, hierop is te zien dat landen met meer Social support, ook blijer zijn over het algemeen. Daarnaast is te zien dat het temperatuur verschil hier ook niet uitmaakt en landen met betere sociale steun toch hoger scoren.*"
   ]
  },
  {
   "cell_type": "markdown",
   "id": "bf522e30-74ba-4774-a6a0-a94f3d827123",
   "metadata": {},
   "source": [
    "## Argument 2.2: Economische stabiliteit, werkgelegenheid, gezondheidszorg en sociale verbondenheid dragen meer bij aan geluk dan klimaatfactoren."
   ]
  },
  {
   "cell_type": "markdown",
   "id": "51f7128d-2dd5-42ff-a178-bd7d6457d749",
   "metadata": {},
   "source": [
    "Landen met een hoge Log GDP per capita bevinden zich rechts in de grafiek en tonen vrijwel zonder uitzondering hoge happiness scores. Dit suggereert dat economische stabiliteit, waaronder dus factoren als werkgelegenheid, inkomenszekerheid en toegang tot voorzieningen, bijdraagt aan een verhoogd gevoel van welzijn. In rijkere landen is de kans op langdurige werkloosheid kleiner, zijn er meer middelen voor sociale zekerheid, en is de publieke infrastructuur (zoals transport en huisvesting) doorgaans beter geregeld.\n",
    "\n",
    "Economische rijkdom vertaalt zich ook in betere gezondheidsvoorzieningen. In landen met een hoger BBP per capita is de Healthy life expectancy doorgaans aanzienlijk hoger, wat op zijn beurt bijdraagt aan het algemene levensgeluk. Gezond zijn is niet alleen een fysieke toestand maar beïnvloedt ook mentale gezondheid, levenskwaliteit en de mate waarin mensen actief kunnen deelnemen aan de samenleving.\n",
    "\n",
    "De grootte van de bubbels weerspiegelt het niveau van social support, en duidelijk is dat grotere bubbels (meer steun) vaker in het bovenste deel van de grafiek verschijnen, bij landen met hogere geluksscores. Dit impliceert dat zelfs als economische omstandigheden goed zijn, sociale verbondenheid een essentiële factor blijft. Mensen voelen zich gelukkiger als ze op vrienden, familie of de overheid kunnen terugvallen in moeilijke tijden.\n",
    "\n",
    "Hoewel klimaat in deze visualisatie niet direct is opgenomen, laat het ontbreken ervan zien dat een hoge happiness score ook mogelijk is zonder zonnig, mild weer. Landen met strenge winters, zoals Zweden, Noorwegen en Finland, scoren hoog op zowel GDP als social support, en behoren tegelijk tot de gelukkigste landen ter wereld. Dit ondersteunt het idee dat sociaal-economische factoren zwaarder wegen dan klimaatfactoren in het verklaren van geluk."
   ]
  },
  {
   "cell_type": "code",
   "execution_count": 13,
   "id": "e6372635",
   "metadata": {
    "tags": [
     "hide-input"
    ]
   },
   "outputs": [
    {
     "data": {
      "application/vnd.plotly.v1+json": {
       "config": {
        "plotlyServerURL": "https://plot.ly"
       },
       "data": [
        {
         "hovertemplate": "<b>%{hovertext}</b><br><br>Log GDP per capita=%{x}<br>Social support=%{y}<br>Happiness score=%{marker.color}<extra></extra>",
         "hovertext": [
          "Afghanistan",
          "Albania",
          "Algeria",
          "Argentina",
          "Armenia",
          "Australia",
          "Australia",
          "Austria",
          "Azerbaijan",
          "Bangladesh",
          "Belgium",
          "Benin",
          "Bolivia",
          "Bosnia and Herzegovina",
          "Botswana",
          "Brazil",
          "Brazil",
          "Bulgaria",
          "Burkina Faso",
          "Cambodia",
          "Cameroon",
          "Canada",
          "Chad",
          "Chile",
          "China",
          "China",
          "Colombia",
          "Comoros",
          "Costa Rica",
          "Croatia",
          "Cyprus",
          "Denmark",
          "Dominican Republic",
          "Ecuador",
          "Egypt",
          "El Salvador",
          "Estonia",
          "Ethiopia",
          "Finland",
          "France",
          "Gabon",
          "Gambia",
          "Georgia",
          "Germany",
          "Germany",
          "Ghana",
          "Greece",
          "Guatemala",
          "Guinea",
          "Honduras",
          "Hungary",
          "Iceland",
          "India",
          "India",
          "Indonesia",
          "Iran",
          "Iraq",
          "Ireland",
          "Israel",
          "Italy",
          "Jamaica",
          "Japan",
          "Jordan",
          "Kazakhstan",
          "Kenya",
          "Kosovo",
          "Kuwait",
          "Latvia",
          "Lebanon",
          "Lesotho",
          "Liberia",
          "Libya",
          "Lithuania",
          "Luxembourg",
          "Madagascar",
          "Malawi",
          "Malaysia",
          "Mali",
          "Malta",
          "Mauritania",
          "Mauritius",
          "Mexico",
          "Mongolia",
          "Montenegro",
          "Morocco",
          "Mozambique",
          "Myanmar",
          "Namibia",
          "Nepal",
          "Netherlands",
          "New Zealand",
          "Nicaragua",
          "Niger",
          "Nigeria",
          "Nigeria",
          "Norway",
          "Pakistan",
          "Panama",
          "Paraguay",
          "Peru",
          "Philippines",
          "Poland",
          "Portugal",
          "Romania",
          "Russia",
          "Russia",
          "Saudi Arabia",
          "Senegal",
          "Serbia",
          "Sierra Leone",
          "Singapore",
          "Slovakia",
          "Slovenia",
          "South Africa",
          "South Korea",
          "Spain",
          "Sri Lanka",
          "Sweden",
          "Switzerland",
          "Tanzania",
          "Thailand",
          "Togo",
          "Tunisia",
          "Uganda",
          "Ukraine",
          "United Arab Emirates",
          "United Kingdom",
          "Uruguay",
          "Uzbekistan",
          "Venezuela",
          "Vietnam",
          "Yemen",
          "Zambia",
          "Zimbabwe"
         ],
         "legendgroup": "",
         "marker": {
          "color": [
           1.721,
           5.304,
           5.364,
           6.188,
           5.455,
           7.057,
           7.057,
           6.905,
           4.893,
           3.886,
           6.894,
           4.377,
           5.784,
           5.877,
           3.383,
           6.272,
           6.272,
           5.463,
           4.548,
           4.341,
           4.874,
           6.9,
           4.471,
           6.36,
           5.973,
           5.973,
           5.695,
           3.566,
           6.955,
           5.942,
           6.068,
           7.583,
           5.823,
           5.725,
           3.977,
           6.469,
           6.448,
           3.861,
           7.741,
           6.609,
           5.106,
           4.485,
           5.185,
           6.719,
           6.719,
           4.289,
           5.934,
           6.287,
           5.023,
           5.968,
           6.017,
           7.525,
           4.054,
           4.054,
           5.568,
           4.923,
           5.166,
           6.838,
           7.341,
           6.324,
           5.842,
           6.06,
           4.186,
           6.188,
           4.47,
           6.561,
           6.951,
           6.234,
           2.707,
           3.186,
           4.269,
           5.866,
           6.818,
           7.122,
           4.228,
           3.421,
           5.975,
           4.232,
           6.346,
           4.505,
           5.816,
           6.678,
           5.696,
           5.707,
           4.795,
           5.216,
           4.354,
           4.832,
           5.158,
           7.319,
           7.029,
           6.284,
           4.556,
           4.881,
           4.881,
           7.302,
           4.657,
           6.358,
           5.977,
           5.841,
           6.048,
           6.442,
           6.03,
           6.491,
           5.785,
           5.785,
           6.594,
           4.969,
           6.411,
           3.245,
           6.523,
           6.257,
           6.743,
           5.422,
           6.058,
           6.421,
           3.898,
           7.344,
           7.06,
           3.781,
           5.976,
           4.214,
           4.422,
           4.372,
           4.873,
           6.733,
           6.749,
           6.611,
           6.195,
           5.607,
           6.043,
           3.561,
           3.502,
           3.341
          ],
          "coloraxis": "coloraxis",
          "size": [
           1.721,
           5.304,
           5.364,
           6.188,
           5.455,
           7.057,
           7.057,
           6.905,
           4.893,
           3.886,
           6.894,
           4.377,
           5.784,
           5.877,
           3.383,
           6.272,
           6.272,
           5.463,
           4.548,
           4.341,
           4.874,
           6.9,
           4.471,
           6.36,
           5.973,
           5.973,
           5.695,
           3.566,
           6.955,
           5.942,
           6.068,
           7.583,
           5.823,
           5.725,
           3.977,
           6.469,
           6.448,
           3.861,
           7.741,
           6.609,
           5.106,
           4.485,
           5.185,
           6.719,
           6.719,
           4.289,
           5.934,
           6.287,
           5.023,
           5.968,
           6.017,
           7.525,
           4.054,
           4.054,
           5.568,
           4.923,
           5.166,
           6.838,
           7.341,
           6.324,
           5.842,
           6.06,
           4.186,
           6.188,
           4.47,
           6.561,
           6.951,
           6.234,
           2.707,
           3.186,
           4.269,
           5.866,
           6.818,
           7.122,
           4.228,
           3.421,
           5.975,
           4.232,
           6.346,
           4.505,
           5.816,
           6.678,
           5.696,
           5.707,
           4.795,
           5.216,
           4.354,
           4.832,
           5.158,
           7.319,
           7.029,
           6.284,
           4.556,
           4.881,
           4.881,
           7.302,
           4.657,
           6.358,
           5.977,
           5.841,
           6.048,
           6.442,
           6.03,
           6.491,
           5.785,
           5.785,
           6.594,
           4.969,
           6.411,
           3.245,
           6.523,
           6.257,
           6.743,
           5.422,
           6.058,
           6.421,
           3.898,
           7.344,
           7.06,
           3.781,
           5.976,
           4.214,
           4.422,
           4.372,
           4.873,
           6.733,
           6.749,
           6.611,
           6.195,
           5.607,
           6.043,
           3.561,
           3.502,
           3.341
          ],
          "sizemode": "area",
          "sizeref": 0.008601111111111111,
          "symbol": "circle"
         },
         "mode": "markers",
         "name": "",
         "orientation": "v",
         "showlegend": false,
         "type": "scatter",
         "x": [
          0.628,
          1.438,
          1.324,
          1.562,
          1.444,
          1.854,
          1.854,
          1.885,
          1.433,
          1.122,
          1.868,
          0.914,
          1.217,
          1.465,
          1.445,
          1.43,
          1.43,
          1.629,
          0.756,
          1.011,
          0.943,
          1.84,
          0.603,
          1.616,
          1.497,
          1.497,
          1.437,
          0.896,
          1.561,
          1.71,
          1.794,
          1.908,
          1.517,
          1.315,
          1.37,
          1.265,
          1.752,
          0.792,
          1.844,
          1.818,
          1.403,
          0.75,
          1.467,
          1.871,
          1.871,
          1.077,
          1.684,
          1.26,
          0.831,
          1.091,
          1.722,
          1.881,
          1.166,
          1.166,
          1.361,
          1.435,
          1.249,
          2.129,
          1.803,
          1.8,
          1.28,
          1.786,
          1.262,
          1.622,
          1.037,
          1.364,
          1.845,
          1.7,
          1.377,
          0.771,
          0.619,
          1.526,
          1.766,
          2.141,
          0.628,
          0.617,
          1.646,
          0.747,
          1.827,
          1.078,
          1.57,
          1.521,
          1.353,
          1.571,
          1.213,
          0.56,
          0.978,
          1.266,
          0.965,
          1.901,
          1.81,
          1.097,
          0.573,
          1.042,
          1.042,
          1.952,
          1.069,
          1.702,
          1.398,
          1.371,
          1.232,
          1.738,
          1.728,
          1.699,
          1.642,
          1.642,
          1.842,
          0.927,
          1.538,
          0.654,
          2.118,
          1.706,
          1.786,
          1.389,
          1.815,
          1.766,
          1.361,
          1.878,
          1.97,
          0.82,
          1.484,
          0.758,
          1.306,
          0.772,
          1.35,
          1.983,
          1.822,
          1.596,
          1.212,
          0,
          1.331,
          0.671,
          0.899,
          0.748
         ],
         "xaxis": "x",
         "y": [
          0,
          0.924,
          1.191,
          1.381,
          1.154,
          1.461,
          1.461,
          1.336,
          0.876,
          0.249,
          1.44,
          0.128,
          1.179,
          1.318,
          0.969,
          1.269,
          1.269,
          1.469,
          0.685,
          1.019,
          0.856,
          1.459,
          0.805,
          1.369,
          1.239,
          1.239,
          1.241,
          0.328,
          1.373,
          1.445,
          1.217,
          1.52,
          1.272,
          1.151,
          0.996,
          1.08,
          1.527,
          0.915,
          1.572,
          1.348,
          1.038,
          0.684,
          0.99,
          1.39,
          1.39,
          0.747,
          1.276,
          1.169,
          0.622,
          1.035,
          1.528,
          1.617,
          0.653,
          0.653,
          1.184,
          1.136,
          0.996,
          1.39,
          1.513,
          1.328,
          1.324,
          1.354,
          0.983,
          1.457,
          0.895,
          1.277,
          1.364,
          1.508,
          0.577,
          0.851,
          0.673,
          1.1,
          1.454,
          1.355,
          0.823,
          0.41,
          1.143,
          0.688,
          1.444,
          0.705,
          1.358,
          1.241,
          1.511,
          1.318,
          0.471,
          0.883,
          0.988,
          1.212,
          0.99,
          1.462,
          1.527,
          1.263,
          0.677,
          1.075,
          1.075,
          1.517,
          0.6,
          1.392,
          1.408,
          1.18,
          1.146,
          1.417,
          1.368,
          1.236,
          1.351,
          1.351,
          1.361,
          0.751,
          1.391,
          0.566,
          1.361,
          1.54,
          1.502,
          1.369,
          1.178,
          1.471,
          1.179,
          1.501,
          1.425,
          0.706,
          1.347,
          0.586,
          0.955,
          1.151,
          1.315,
          1.164,
          1.326,
          1.431,
          1.394,
          1.321,
          1.267,
          1.281,
          0.809,
          0.85
         ],
         "yaxis": "y"
        }
       ],
       "layout": {
        "autosize": true,
        "coloraxis": {
         "colorbar": {
          "title": {
           "text": "Happiness score"
          }
         },
         "colorscale": [
          [
           0,
           "#0d0887"
          ],
          [
           0.1111111111111111,
           "#46039f"
          ],
          [
           0.2222222222222222,
           "#7201a8"
          ],
          [
           0.3333333333333333,
           "#9c179e"
          ],
          [
           0.4444444444444444,
           "#bd3786"
          ],
          [
           0.5555555555555556,
           "#d8576b"
          ],
          [
           0.6666666666666666,
           "#ed7953"
          ],
          [
           0.7777777777777778,
           "#fb9f3a"
          ],
          [
           0.8888888888888888,
           "#fdca26"
          ],
          [
           1,
           "#f0f921"
          ]
         ]
        },
        "legend": {
         "itemsizing": "constant",
         "tracegroupgap": 0
        },
        "template": {
         "data": {
          "bar": [
           {
            "error_x": {
             "color": "#2a3f5f"
            },
            "error_y": {
             "color": "#2a3f5f"
            },
            "marker": {
             "line": {
              "color": "#E5ECF6",
              "width": 0.5
             },
             "pattern": {
              "fillmode": "overlay",
              "size": 10,
              "solidity": 0.2
             }
            },
            "type": "bar"
           }
          ],
          "barpolar": [
           {
            "marker": {
             "line": {
              "color": "#E5ECF6",
              "width": 0.5
             },
             "pattern": {
              "fillmode": "overlay",
              "size": 10,
              "solidity": 0.2
             }
            },
            "type": "barpolar"
           }
          ],
          "carpet": [
           {
            "aaxis": {
             "endlinecolor": "#2a3f5f",
             "gridcolor": "white",
             "linecolor": "white",
             "minorgridcolor": "white",
             "startlinecolor": "#2a3f5f"
            },
            "baxis": {
             "endlinecolor": "#2a3f5f",
             "gridcolor": "white",
             "linecolor": "white",
             "minorgridcolor": "white",
             "startlinecolor": "#2a3f5f"
            },
            "type": "carpet"
           }
          ],
          "choropleth": [
           {
            "colorbar": {
             "outlinewidth": 0,
             "ticks": ""
            },
            "type": "choropleth"
           }
          ],
          "contour": [
           {
            "colorbar": {
             "outlinewidth": 0,
             "ticks": ""
            },
            "colorscale": [
             [
              0,
              "#0d0887"
             ],
             [
              0.1111111111111111,
              "#46039f"
             ],
             [
              0.2222222222222222,
              "#7201a8"
             ],
             [
              0.3333333333333333,
              "#9c179e"
             ],
             [
              0.4444444444444444,
              "#bd3786"
             ],
             [
              0.5555555555555556,
              "#d8576b"
             ],
             [
              0.6666666666666666,
              "#ed7953"
             ],
             [
              0.7777777777777778,
              "#fb9f3a"
             ],
             [
              0.8888888888888888,
              "#fdca26"
             ],
             [
              1,
              "#f0f921"
             ]
            ],
            "type": "contour"
           }
          ],
          "contourcarpet": [
           {
            "colorbar": {
             "outlinewidth": 0,
             "ticks": ""
            },
            "type": "contourcarpet"
           }
          ],
          "heatmap": [
           {
            "colorbar": {
             "outlinewidth": 0,
             "ticks": ""
            },
            "colorscale": [
             [
              0,
              "#0d0887"
             ],
             [
              0.1111111111111111,
              "#46039f"
             ],
             [
              0.2222222222222222,
              "#7201a8"
             ],
             [
              0.3333333333333333,
              "#9c179e"
             ],
             [
              0.4444444444444444,
              "#bd3786"
             ],
             [
              0.5555555555555556,
              "#d8576b"
             ],
             [
              0.6666666666666666,
              "#ed7953"
             ],
             [
              0.7777777777777778,
              "#fb9f3a"
             ],
             [
              0.8888888888888888,
              "#fdca26"
             ],
             [
              1,
              "#f0f921"
             ]
            ],
            "type": "heatmap"
           }
          ],
          "heatmapgl": [
           {
            "colorbar": {
             "outlinewidth": 0,
             "ticks": ""
            },
            "colorscale": [
             [
              0,
              "#0d0887"
             ],
             [
              0.1111111111111111,
              "#46039f"
             ],
             [
              0.2222222222222222,
              "#7201a8"
             ],
             [
              0.3333333333333333,
              "#9c179e"
             ],
             [
              0.4444444444444444,
              "#bd3786"
             ],
             [
              0.5555555555555556,
              "#d8576b"
             ],
             [
              0.6666666666666666,
              "#ed7953"
             ],
             [
              0.7777777777777778,
              "#fb9f3a"
             ],
             [
              0.8888888888888888,
              "#fdca26"
             ],
             [
              1,
              "#f0f921"
             ]
            ],
            "type": "heatmapgl"
           }
          ],
          "histogram": [
           {
            "marker": {
             "pattern": {
              "fillmode": "overlay",
              "size": 10,
              "solidity": 0.2
             }
            },
            "type": "histogram"
           }
          ],
          "histogram2d": [
           {
            "colorbar": {
             "outlinewidth": 0,
             "ticks": ""
            },
            "colorscale": [
             [
              0,
              "#0d0887"
             ],
             [
              0.1111111111111111,
              "#46039f"
             ],
             [
              0.2222222222222222,
              "#7201a8"
             ],
             [
              0.3333333333333333,
              "#9c179e"
             ],
             [
              0.4444444444444444,
              "#bd3786"
             ],
             [
              0.5555555555555556,
              "#d8576b"
             ],
             [
              0.6666666666666666,
              "#ed7953"
             ],
             [
              0.7777777777777778,
              "#fb9f3a"
             ],
             [
              0.8888888888888888,
              "#fdca26"
             ],
             [
              1,
              "#f0f921"
             ]
            ],
            "type": "histogram2d"
           }
          ],
          "histogram2dcontour": [
           {
            "colorbar": {
             "outlinewidth": 0,
             "ticks": ""
            },
            "colorscale": [
             [
              0,
              "#0d0887"
             ],
             [
              0.1111111111111111,
              "#46039f"
             ],
             [
              0.2222222222222222,
              "#7201a8"
             ],
             [
              0.3333333333333333,
              "#9c179e"
             ],
             [
              0.4444444444444444,
              "#bd3786"
             ],
             [
              0.5555555555555556,
              "#d8576b"
             ],
             [
              0.6666666666666666,
              "#ed7953"
             ],
             [
              0.7777777777777778,
              "#fb9f3a"
             ],
             [
              0.8888888888888888,
              "#fdca26"
             ],
             [
              1,
              "#f0f921"
             ]
            ],
            "type": "histogram2dcontour"
           }
          ],
          "mesh3d": [
           {
            "colorbar": {
             "outlinewidth": 0,
             "ticks": ""
            },
            "type": "mesh3d"
           }
          ],
          "parcoords": [
           {
            "line": {
             "colorbar": {
              "outlinewidth": 0,
              "ticks": ""
             }
            },
            "type": "parcoords"
           }
          ],
          "pie": [
           {
            "automargin": true,
            "type": "pie"
           }
          ],
          "scatter": [
           {
            "fillpattern": {
             "fillmode": "overlay",
             "size": 10,
             "solidity": 0.2
            },
            "type": "scatter"
           }
          ],
          "scatter3d": [
           {
            "line": {
             "colorbar": {
              "outlinewidth": 0,
              "ticks": ""
             }
            },
            "marker": {
             "colorbar": {
              "outlinewidth": 0,
              "ticks": ""
             }
            },
            "type": "scatter3d"
           }
          ],
          "scattercarpet": [
           {
            "marker": {
             "colorbar": {
              "outlinewidth": 0,
              "ticks": ""
             }
            },
            "type": "scattercarpet"
           }
          ],
          "scattergeo": [
           {
            "marker": {
             "colorbar": {
              "outlinewidth": 0,
              "ticks": ""
             }
            },
            "type": "scattergeo"
           }
          ],
          "scattergl": [
           {
            "marker": {
             "colorbar": {
              "outlinewidth": 0,
              "ticks": ""
             }
            },
            "type": "scattergl"
           }
          ],
          "scattermapbox": [
           {
            "marker": {
             "colorbar": {
              "outlinewidth": 0,
              "ticks": ""
             }
            },
            "type": "scattermapbox"
           }
          ],
          "scatterpolar": [
           {
            "marker": {
             "colorbar": {
              "outlinewidth": 0,
              "ticks": ""
             }
            },
            "type": "scatterpolar"
           }
          ],
          "scatterpolargl": [
           {
            "marker": {
             "colorbar": {
              "outlinewidth": 0,
              "ticks": ""
             }
            },
            "type": "scatterpolargl"
           }
          ],
          "scatterternary": [
           {
            "marker": {
             "colorbar": {
              "outlinewidth": 0,
              "ticks": ""
             }
            },
            "type": "scatterternary"
           }
          ],
          "surface": [
           {
            "colorbar": {
             "outlinewidth": 0,
             "ticks": ""
            },
            "colorscale": [
             [
              0,
              "#0d0887"
             ],
             [
              0.1111111111111111,
              "#46039f"
             ],
             [
              0.2222222222222222,
              "#7201a8"
             ],
             [
              0.3333333333333333,
              "#9c179e"
             ],
             [
              0.4444444444444444,
              "#bd3786"
             ],
             [
              0.5555555555555556,
              "#d8576b"
             ],
             [
              0.6666666666666666,
              "#ed7953"
             ],
             [
              0.7777777777777778,
              "#fb9f3a"
             ],
             [
              0.8888888888888888,
              "#fdca26"
             ],
             [
              1,
              "#f0f921"
             ]
            ],
            "type": "surface"
           }
          ],
          "table": [
           {
            "cells": {
             "fill": {
              "color": "#EBF0F8"
             },
             "line": {
              "color": "white"
             }
            },
            "header": {
             "fill": {
              "color": "#C8D4E3"
             },
             "line": {
              "color": "white"
             }
            },
            "type": "table"
           }
          ]
         },
         "layout": {
          "annotationdefaults": {
           "arrowcolor": "#2a3f5f",
           "arrowhead": 0,
           "arrowwidth": 1
          },
          "autotypenumbers": "strict",
          "coloraxis": {
           "colorbar": {
            "outlinewidth": 0,
            "ticks": ""
           }
          },
          "colorscale": {
           "diverging": [
            [
             0,
             "#8e0152"
            ],
            [
             0.1,
             "#c51b7d"
            ],
            [
             0.2,
             "#de77ae"
            ],
            [
             0.3,
             "#f1b6da"
            ],
            [
             0.4,
             "#fde0ef"
            ],
            [
             0.5,
             "#f7f7f7"
            ],
            [
             0.6,
             "#e6f5d0"
            ],
            [
             0.7,
             "#b8e186"
            ],
            [
             0.8,
             "#7fbc41"
            ],
            [
             0.9,
             "#4d9221"
            ],
            [
             1,
             "#276419"
            ]
           ],
           "sequential": [
            [
             0,
             "#0d0887"
            ],
            [
             0.1111111111111111,
             "#46039f"
            ],
            [
             0.2222222222222222,
             "#7201a8"
            ],
            [
             0.3333333333333333,
             "#9c179e"
            ],
            [
             0.4444444444444444,
             "#bd3786"
            ],
            [
             0.5555555555555556,
             "#d8576b"
            ],
            [
             0.6666666666666666,
             "#ed7953"
            ],
            [
             0.7777777777777778,
             "#fb9f3a"
            ],
            [
             0.8888888888888888,
             "#fdca26"
            ],
            [
             1,
             "#f0f921"
            ]
           ],
           "sequentialminus": [
            [
             0,
             "#0d0887"
            ],
            [
             0.1111111111111111,
             "#46039f"
            ],
            [
             0.2222222222222222,
             "#7201a8"
            ],
            [
             0.3333333333333333,
             "#9c179e"
            ],
            [
             0.4444444444444444,
             "#bd3786"
            ],
            [
             0.5555555555555556,
             "#d8576b"
            ],
            [
             0.6666666666666666,
             "#ed7953"
            ],
            [
             0.7777777777777778,
             "#fb9f3a"
            ],
            [
             0.8888888888888888,
             "#fdca26"
            ],
            [
             1,
             "#f0f921"
            ]
           ]
          },
          "colorway": [
           "#636efa",
           "#EF553B",
           "#00cc96",
           "#ab63fa",
           "#FFA15A",
           "#19d3f3",
           "#FF6692",
           "#B6E880",
           "#FF97FF",
           "#FECB52"
          ],
          "font": {
           "color": "#2a3f5f"
          },
          "geo": {
           "bgcolor": "white",
           "lakecolor": "white",
           "landcolor": "#E5ECF6",
           "showlakes": true,
           "showland": true,
           "subunitcolor": "white"
          },
          "hoverlabel": {
           "align": "left"
          },
          "hovermode": "closest",
          "mapbox": {
           "style": "light"
          },
          "paper_bgcolor": "white",
          "plot_bgcolor": "#E5ECF6",
          "polar": {
           "angularaxis": {
            "gridcolor": "white",
            "linecolor": "white",
            "ticks": ""
           },
           "bgcolor": "#E5ECF6",
           "radialaxis": {
            "gridcolor": "white",
            "linecolor": "white",
            "ticks": ""
           }
          },
          "scene": {
           "xaxis": {
            "backgroundcolor": "#E5ECF6",
            "gridcolor": "white",
            "gridwidth": 2,
            "linecolor": "white",
            "showbackground": true,
            "ticks": "",
            "zerolinecolor": "white"
           },
           "yaxis": {
            "backgroundcolor": "#E5ECF6",
            "gridcolor": "white",
            "gridwidth": 2,
            "linecolor": "white",
            "showbackground": true,
            "ticks": "",
            "zerolinecolor": "white"
           },
           "zaxis": {
            "backgroundcolor": "#E5ECF6",
            "gridcolor": "white",
            "gridwidth": 2,
            "linecolor": "white",
            "showbackground": true,
            "ticks": "",
            "zerolinecolor": "white"
           }
          },
          "shapedefaults": {
           "line": {
            "color": "#2a3f5f"
           }
          },
          "ternary": {
           "aaxis": {
            "gridcolor": "white",
            "linecolor": "white",
            "ticks": ""
           },
           "baxis": {
            "gridcolor": "white",
            "linecolor": "white",
            "ticks": ""
           },
           "bgcolor": "#E5ECF6",
           "caxis": {
            "gridcolor": "white",
            "linecolor": "white",
            "ticks": ""
           }
          },
          "title": {
           "x": 0.05
          },
          "xaxis": {
           "automargin": true,
           "gridcolor": "white",
           "linecolor": "white",
           "ticks": "",
           "title": {
            "standoff": 15
           },
           "zerolinecolor": "white",
           "zerolinewidth": 2
          },
          "yaxis": {
           "automargin": true,
           "gridcolor": "white",
           "linecolor": "white",
           "ticks": "",
           "title": {
            "standoff": 15
           },
           "zerolinecolor": "white",
           "zerolinewidth": 2
          }
         }
        },
        "title": {
         "text": "Log GDP per Capita vs. Happiness (bubbel = Social support)"
        },
        "xaxis": {
         "anchor": "y",
         "autorange": true,
         "domain": [
          0,
          1
         ],
         "range": [
          -0.24792006852763465,
          2.4035724688556854
         ],
         "title": {
          "text": "Log GDP per capita"
         },
         "type": "linear"
        },
        "yaxis": {
         "anchor": "x",
         "autorange": true,
         "domain": [
          0,
          1
         ],
         "range": [
          -0.13411942311703662,
          1.7923560738874944
         ],
         "title": {
          "text": "Social support"
         },
         "type": "linear"
        }
       }
      },
      "text/html": [
       "<div>                            <div id=\"2674cd7c-e973-4557-be4b-b9ca2312600d\" class=\"plotly-graph-div\" style=\"height:750px; width:100%;\"></div>            <script type=\"text/javascript\">                require([\"plotly\"], function(Plotly) {                    window.PLOTLYENV=window.PLOTLYENV || {};                                    if (document.getElementById(\"2674cd7c-e973-4557-be4b-b9ca2312600d\")) {                    Plotly.newPlot(                        \"2674cd7c-e973-4557-be4b-b9ca2312600d\",                        [{\"hovertemplate\":\"\\u003cb\\u003e%{hovertext}\\u003c\\u002fb\\u003e\\u003cbr\\u003e\\u003cbr\\u003eLog GDP per capita=%{x}\\u003cbr\\u003eSocial support=%{y}\\u003cbr\\u003eHappiness score=%{marker.color}\\u003cextra\\u003e\\u003c\\u002fextra\\u003e\",\"hovertext\":[\"Afghanistan\",\"Albania\",\"Algeria\",\"Argentina\",\"Armenia\",\"Australia\",\"Australia\",\"Austria\",\"Azerbaijan\",\"Bangladesh\",\"Belgium\",\"Benin\",\"Bolivia\",\"Bosnia and Herzegovina\",\"Botswana\",\"Brazil\",\"Brazil\",\"Bulgaria\",\"Burkina Faso\",\"Cambodia\",\"Cameroon\",\"Canada\",\"Chad\",\"Chile\",\"China\",\"China\",\"Colombia\",\"Comoros\",\"Costa Rica\",\"Croatia\",\"Cyprus\",\"Denmark\",\"Dominican Republic\",\"Ecuador\",\"Egypt\",\"El Salvador\",\"Estonia\",\"Ethiopia\",\"Finland\",\"France\",\"Gabon\",\"Gambia\",\"Georgia\",\"Germany\",\"Germany\",\"Ghana\",\"Greece\",\"Guatemala\",\"Guinea\",\"Honduras\",\"Hungary\",\"Iceland\",\"India\",\"India\",\"Indonesia\",\"Iran\",\"Iraq\",\"Ireland\",\"Israel\",\"Italy\",\"Jamaica\",\"Japan\",\"Jordan\",\"Kazakhstan\",\"Kenya\",\"Kosovo\",\"Kuwait\",\"Latvia\",\"Lebanon\",\"Lesotho\",\"Liberia\",\"Libya\",\"Lithuania\",\"Luxembourg\",\"Madagascar\",\"Malawi\",\"Malaysia\",\"Mali\",\"Malta\",\"Mauritania\",\"Mauritius\",\"Mexico\",\"Mongolia\",\"Montenegro\",\"Morocco\",\"Mozambique\",\"Myanmar\",\"Namibia\",\"Nepal\",\"Netherlands\",\"New Zealand\",\"Nicaragua\",\"Niger\",\"Nigeria\",\"Nigeria\",\"Norway\",\"Pakistan\",\"Panama\",\"Paraguay\",\"Peru\",\"Philippines\",\"Poland\",\"Portugal\",\"Romania\",\"Russia\",\"Russia\",\"Saudi Arabia\",\"Senegal\",\"Serbia\",\"Sierra Leone\",\"Singapore\",\"Slovakia\",\"Slovenia\",\"South Africa\",\"South Korea\",\"Spain\",\"Sri Lanka\",\"Sweden\",\"Switzerland\",\"Tanzania\",\"Thailand\",\"Togo\",\"Tunisia\",\"Uganda\",\"Ukraine\",\"United Arab Emirates\",\"United Kingdom\",\"Uruguay\",\"Uzbekistan\",\"Venezuela\",\"Vietnam\",\"Yemen\",\"Zambia\",\"Zimbabwe\"],\"legendgroup\":\"\",\"marker\":{\"color\":[1.721,5.304,5.364,6.188,5.455,7.057,7.057,6.905,4.893,3.886,6.894,4.377,5.784,5.877,3.383,6.272,6.272,5.463,4.548,4.341,4.874,6.9,4.471,6.36,5.973,5.973,5.695,3.566,6.955,5.942,6.068,7.583,5.823,5.725,3.977,6.469,6.448,3.861,7.741,6.609,5.106,4.485,5.185,6.719,6.719,4.289,5.934,6.287,5.023,5.968,6.017,7.525,4.054,4.054,5.568,4.923,5.166,6.838,7.341,6.324,5.842,6.06,4.186,6.188,4.47,6.561,6.951,6.234,2.707,3.186,4.269,5.866,6.818,7.122,4.228,3.421,5.975,4.232,6.346,4.505,5.816,6.678,5.696,5.707,4.795,5.216,4.354,4.832,5.158,7.319,7.029,6.284,4.556,4.881,4.881,7.302,4.657,6.358,5.977,5.841,6.048,6.442,6.03,6.491,5.785,5.785,6.594,4.969,6.411,3.245,6.523,6.257,6.743,5.422,6.058,6.421,3.898,7.344,7.06,3.781,5.976,4.214,4.422,4.372,4.873,6.733,6.749,6.611,6.195,5.607,6.043,3.561,3.502,3.341],\"coloraxis\":\"coloraxis\",\"size\":[1.721,5.304,5.364,6.188,5.455,7.057,7.057,6.905,4.893,3.886,6.894,4.377,5.784,5.877,3.383,6.272,6.272,5.463,4.548,4.341,4.874,6.9,4.471,6.36,5.973,5.973,5.695,3.566,6.955,5.942,6.068,7.583,5.823,5.725,3.977,6.469,6.448,3.861,7.741,6.609,5.106,4.485,5.185,6.719,6.719,4.289,5.934,6.287,5.023,5.968,6.017,7.525,4.054,4.054,5.568,4.923,5.166,6.838,7.341,6.324,5.842,6.06,4.186,6.188,4.47,6.561,6.951,6.234,2.707,3.186,4.269,5.866,6.818,7.122,4.228,3.421,5.975,4.232,6.346,4.505,5.816,6.678,5.696,5.707,4.795,5.216,4.354,4.832,5.158,7.319,7.029,6.284,4.556,4.881,4.881,7.302,4.657,6.358,5.977,5.841,6.048,6.442,6.03,6.491,5.785,5.785,6.594,4.969,6.411,3.245,6.523,6.257,6.743,5.422,6.058,6.421,3.898,7.344,7.06,3.781,5.976,4.214,4.422,4.372,4.873,6.733,6.749,6.611,6.195,5.607,6.043,3.561,3.502,3.341],\"sizemode\":\"area\",\"sizeref\":0.008601111111111111,\"symbol\":\"circle\"},\"mode\":\"markers\",\"name\":\"\",\"orientation\":\"v\",\"showlegend\":false,\"x\":[0.628,1.438,1.324,1.562,1.444,1.854,1.854,1.885,1.433,1.122,1.868,0.914,1.217,1.465,1.445,1.43,1.43,1.629,0.756,1.011,0.943,1.84,0.603,1.616,1.497,1.497,1.437,0.896,1.561,1.71,1.794,1.908,1.517,1.315,1.37,1.265,1.752,0.792,1.844,1.818,1.403,0.75,1.467,1.871,1.871,1.077,1.684,1.26,0.831,1.091,1.722,1.881,1.166,1.166,1.361,1.435,1.249,2.129,1.803,1.8,1.28,1.786,1.262,1.622,1.037,1.364,1.845,1.7,1.377,0.771,0.619,1.526,1.766,2.141,0.628,0.617,1.646,0.747,1.827,1.078,1.57,1.521,1.353,1.571,1.213,0.56,0.978,1.266,0.965,1.901,1.81,1.097,0.573,1.042,1.042,1.952,1.069,1.702,1.398,1.371,1.232,1.738,1.728,1.699,1.642,1.642,1.842,0.927,1.538,0.654,2.118,1.706,1.786,1.389,1.815,1.766,1.361,1.878,1.97,0.82,1.484,0.758,1.306,0.772,1.35,1.983,1.822,1.596,1.212,0.0,1.331,0.671,0.899,0.748],\"xaxis\":\"x\",\"y\":[0.0,0.924,1.191,1.381,1.154,1.461,1.461,1.336,0.876,0.249,1.44,0.128,1.179,1.318,0.969,1.269,1.269,1.469,0.685,1.019,0.856,1.459,0.805,1.369,1.239,1.239,1.241,0.328,1.373,1.445,1.217,1.52,1.272,1.151,0.996,1.08,1.527,0.915,1.572,1.348,1.038,0.684,0.99,1.39,1.39,0.747,1.276,1.169,0.622,1.035,1.528,1.617,0.653,0.653,1.184,1.136,0.996,1.39,1.513,1.328,1.324,1.354,0.983,1.457,0.895,1.277,1.364,1.508,0.577,0.851,0.673,1.1,1.454,1.355,0.823,0.41,1.143,0.688,1.444,0.705,1.358,1.241,1.511,1.318,0.471,0.883,0.988,1.212,0.99,1.462,1.527,1.263,0.677,1.075,1.075,1.517,0.6,1.392,1.408,1.18,1.146,1.417,1.368,1.236,1.351,1.351,1.361,0.751,1.391,0.566,1.361,1.54,1.502,1.369,1.178,1.471,1.179,1.501,1.425,0.706,1.347,0.586,0.955,1.151,1.315,1.164,1.326,1.431,1.394,1.321,1.267,1.281,0.809,0.85],\"yaxis\":\"y\",\"type\":\"scatter\"}],                        {\"template\":{\"data\":{\"histogram2dcontour\":[{\"type\":\"histogram2dcontour\",\"colorbar\":{\"outlinewidth\":0,\"ticks\":\"\"},\"colorscale\":[[0.0,\"#0d0887\"],[0.1111111111111111,\"#46039f\"],[0.2222222222222222,\"#7201a8\"],[0.3333333333333333,\"#9c179e\"],[0.4444444444444444,\"#bd3786\"],[0.5555555555555556,\"#d8576b\"],[0.6666666666666666,\"#ed7953\"],[0.7777777777777778,\"#fb9f3a\"],[0.8888888888888888,\"#fdca26\"],[1.0,\"#f0f921\"]]}],\"choropleth\":[{\"type\":\"choropleth\",\"colorbar\":{\"outlinewidth\":0,\"ticks\":\"\"}}],\"histogram2d\":[{\"type\":\"histogram2d\",\"colorbar\":{\"outlinewidth\":0,\"ticks\":\"\"},\"colorscale\":[[0.0,\"#0d0887\"],[0.1111111111111111,\"#46039f\"],[0.2222222222222222,\"#7201a8\"],[0.3333333333333333,\"#9c179e\"],[0.4444444444444444,\"#bd3786\"],[0.5555555555555556,\"#d8576b\"],[0.6666666666666666,\"#ed7953\"],[0.7777777777777778,\"#fb9f3a\"],[0.8888888888888888,\"#fdca26\"],[1.0,\"#f0f921\"]]}],\"heatmap\":[{\"type\":\"heatmap\",\"colorbar\":{\"outlinewidth\":0,\"ticks\":\"\"},\"colorscale\":[[0.0,\"#0d0887\"],[0.1111111111111111,\"#46039f\"],[0.2222222222222222,\"#7201a8\"],[0.3333333333333333,\"#9c179e\"],[0.4444444444444444,\"#bd3786\"],[0.5555555555555556,\"#d8576b\"],[0.6666666666666666,\"#ed7953\"],[0.7777777777777778,\"#fb9f3a\"],[0.8888888888888888,\"#fdca26\"],[1.0,\"#f0f921\"]]}],\"heatmapgl\":[{\"type\":\"heatmapgl\",\"colorbar\":{\"outlinewidth\":0,\"ticks\":\"\"},\"colorscale\":[[0.0,\"#0d0887\"],[0.1111111111111111,\"#46039f\"],[0.2222222222222222,\"#7201a8\"],[0.3333333333333333,\"#9c179e\"],[0.4444444444444444,\"#bd3786\"],[0.5555555555555556,\"#d8576b\"],[0.6666666666666666,\"#ed7953\"],[0.7777777777777778,\"#fb9f3a\"],[0.8888888888888888,\"#fdca26\"],[1.0,\"#f0f921\"]]}],\"contourcarpet\":[{\"type\":\"contourcarpet\",\"colorbar\":{\"outlinewidth\":0,\"ticks\":\"\"}}],\"contour\":[{\"type\":\"contour\",\"colorbar\":{\"outlinewidth\":0,\"ticks\":\"\"},\"colorscale\":[[0.0,\"#0d0887\"],[0.1111111111111111,\"#46039f\"],[0.2222222222222222,\"#7201a8\"],[0.3333333333333333,\"#9c179e\"],[0.4444444444444444,\"#bd3786\"],[0.5555555555555556,\"#d8576b\"],[0.6666666666666666,\"#ed7953\"],[0.7777777777777778,\"#fb9f3a\"],[0.8888888888888888,\"#fdca26\"],[1.0,\"#f0f921\"]]}],\"surface\":[{\"type\":\"surface\",\"colorbar\":{\"outlinewidth\":0,\"ticks\":\"\"},\"colorscale\":[[0.0,\"#0d0887\"],[0.1111111111111111,\"#46039f\"],[0.2222222222222222,\"#7201a8\"],[0.3333333333333333,\"#9c179e\"],[0.4444444444444444,\"#bd3786\"],[0.5555555555555556,\"#d8576b\"],[0.6666666666666666,\"#ed7953\"],[0.7777777777777778,\"#fb9f3a\"],[0.8888888888888888,\"#fdca26\"],[1.0,\"#f0f921\"]]}],\"mesh3d\":[{\"type\":\"mesh3d\",\"colorbar\":{\"outlinewidth\":0,\"ticks\":\"\"}}],\"scatter\":[{\"fillpattern\":{\"fillmode\":\"overlay\",\"size\":10,\"solidity\":0.2},\"type\":\"scatter\"}],\"parcoords\":[{\"type\":\"parcoords\",\"line\":{\"colorbar\":{\"outlinewidth\":0,\"ticks\":\"\"}}}],\"scatterpolargl\":[{\"type\":\"scatterpolargl\",\"marker\":{\"colorbar\":{\"outlinewidth\":0,\"ticks\":\"\"}}}],\"bar\":[{\"error_x\":{\"color\":\"#2a3f5f\"},\"error_y\":{\"color\":\"#2a3f5f\"},\"marker\":{\"line\":{\"color\":\"#E5ECF6\",\"width\":0.5},\"pattern\":{\"fillmode\":\"overlay\",\"size\":10,\"solidity\":0.2}},\"type\":\"bar\"}],\"scattergeo\":[{\"type\":\"scattergeo\",\"marker\":{\"colorbar\":{\"outlinewidth\":0,\"ticks\":\"\"}}}],\"scatterpolar\":[{\"type\":\"scatterpolar\",\"marker\":{\"colorbar\":{\"outlinewidth\":0,\"ticks\":\"\"}}}],\"histogram\":[{\"marker\":{\"pattern\":{\"fillmode\":\"overlay\",\"size\":10,\"solidity\":0.2}},\"type\":\"histogram\"}],\"scattergl\":[{\"type\":\"scattergl\",\"marker\":{\"colorbar\":{\"outlinewidth\":0,\"ticks\":\"\"}}}],\"scatter3d\":[{\"type\":\"scatter3d\",\"line\":{\"colorbar\":{\"outlinewidth\":0,\"ticks\":\"\"}},\"marker\":{\"colorbar\":{\"outlinewidth\":0,\"ticks\":\"\"}}}],\"scattermapbox\":[{\"type\":\"scattermapbox\",\"marker\":{\"colorbar\":{\"outlinewidth\":0,\"ticks\":\"\"}}}],\"scatterternary\":[{\"type\":\"scatterternary\",\"marker\":{\"colorbar\":{\"outlinewidth\":0,\"ticks\":\"\"}}}],\"scattercarpet\":[{\"type\":\"scattercarpet\",\"marker\":{\"colorbar\":{\"outlinewidth\":0,\"ticks\":\"\"}}}],\"carpet\":[{\"aaxis\":{\"endlinecolor\":\"#2a3f5f\",\"gridcolor\":\"white\",\"linecolor\":\"white\",\"minorgridcolor\":\"white\",\"startlinecolor\":\"#2a3f5f\"},\"baxis\":{\"endlinecolor\":\"#2a3f5f\",\"gridcolor\":\"white\",\"linecolor\":\"white\",\"minorgridcolor\":\"white\",\"startlinecolor\":\"#2a3f5f\"},\"type\":\"carpet\"}],\"table\":[{\"cells\":{\"fill\":{\"color\":\"#EBF0F8\"},\"line\":{\"color\":\"white\"}},\"header\":{\"fill\":{\"color\":\"#C8D4E3\"},\"line\":{\"color\":\"white\"}},\"type\":\"table\"}],\"barpolar\":[{\"marker\":{\"line\":{\"color\":\"#E5ECF6\",\"width\":0.5},\"pattern\":{\"fillmode\":\"overlay\",\"size\":10,\"solidity\":0.2}},\"type\":\"barpolar\"}],\"pie\":[{\"automargin\":true,\"type\":\"pie\"}]},\"layout\":{\"autotypenumbers\":\"strict\",\"colorway\":[\"#636efa\",\"#EF553B\",\"#00cc96\",\"#ab63fa\",\"#FFA15A\",\"#19d3f3\",\"#FF6692\",\"#B6E880\",\"#FF97FF\",\"#FECB52\"],\"font\":{\"color\":\"#2a3f5f\"},\"hovermode\":\"closest\",\"hoverlabel\":{\"align\":\"left\"},\"paper_bgcolor\":\"white\",\"plot_bgcolor\":\"#E5ECF6\",\"polar\":{\"bgcolor\":\"#E5ECF6\",\"angularaxis\":{\"gridcolor\":\"white\",\"linecolor\":\"white\",\"ticks\":\"\"},\"radialaxis\":{\"gridcolor\":\"white\",\"linecolor\":\"white\",\"ticks\":\"\"}},\"ternary\":{\"bgcolor\":\"#E5ECF6\",\"aaxis\":{\"gridcolor\":\"white\",\"linecolor\":\"white\",\"ticks\":\"\"},\"baxis\":{\"gridcolor\":\"white\",\"linecolor\":\"white\",\"ticks\":\"\"},\"caxis\":{\"gridcolor\":\"white\",\"linecolor\":\"white\",\"ticks\":\"\"}},\"coloraxis\":{\"colorbar\":{\"outlinewidth\":0,\"ticks\":\"\"}},\"colorscale\":{\"sequential\":[[0.0,\"#0d0887\"],[0.1111111111111111,\"#46039f\"],[0.2222222222222222,\"#7201a8\"],[0.3333333333333333,\"#9c179e\"],[0.4444444444444444,\"#bd3786\"],[0.5555555555555556,\"#d8576b\"],[0.6666666666666666,\"#ed7953\"],[0.7777777777777778,\"#fb9f3a\"],[0.8888888888888888,\"#fdca26\"],[1.0,\"#f0f921\"]],\"sequentialminus\":[[0.0,\"#0d0887\"],[0.1111111111111111,\"#46039f\"],[0.2222222222222222,\"#7201a8\"],[0.3333333333333333,\"#9c179e\"],[0.4444444444444444,\"#bd3786\"],[0.5555555555555556,\"#d8576b\"],[0.6666666666666666,\"#ed7953\"],[0.7777777777777778,\"#fb9f3a\"],[0.8888888888888888,\"#fdca26\"],[1.0,\"#f0f921\"]],\"diverging\":[[0,\"#8e0152\"],[0.1,\"#c51b7d\"],[0.2,\"#de77ae\"],[0.3,\"#f1b6da\"],[0.4,\"#fde0ef\"],[0.5,\"#f7f7f7\"],[0.6,\"#e6f5d0\"],[0.7,\"#b8e186\"],[0.8,\"#7fbc41\"],[0.9,\"#4d9221\"],[1,\"#276419\"]]},\"xaxis\":{\"gridcolor\":\"white\",\"linecolor\":\"white\",\"ticks\":\"\",\"title\":{\"standoff\":15},\"zerolinecolor\":\"white\",\"automargin\":true,\"zerolinewidth\":2},\"yaxis\":{\"gridcolor\":\"white\",\"linecolor\":\"white\",\"ticks\":\"\",\"title\":{\"standoff\":15},\"zerolinecolor\":\"white\",\"automargin\":true,\"zerolinewidth\":2},\"scene\":{\"xaxis\":{\"backgroundcolor\":\"#E5ECF6\",\"gridcolor\":\"white\",\"linecolor\":\"white\",\"showbackground\":true,\"ticks\":\"\",\"zerolinecolor\":\"white\",\"gridwidth\":2},\"yaxis\":{\"backgroundcolor\":\"#E5ECF6\",\"gridcolor\":\"white\",\"linecolor\":\"white\",\"showbackground\":true,\"ticks\":\"\",\"zerolinecolor\":\"white\",\"gridwidth\":2},\"zaxis\":{\"backgroundcolor\":\"#E5ECF6\",\"gridcolor\":\"white\",\"linecolor\":\"white\",\"showbackground\":true,\"ticks\":\"\",\"zerolinecolor\":\"white\",\"gridwidth\":2}},\"shapedefaults\":{\"line\":{\"color\":\"#2a3f5f\"}},\"annotationdefaults\":{\"arrowcolor\":\"#2a3f5f\",\"arrowhead\":0,\"arrowwidth\":1},\"geo\":{\"bgcolor\":\"white\",\"landcolor\":\"#E5ECF6\",\"subunitcolor\":\"white\",\"showland\":true,\"showlakes\":true,\"lakecolor\":\"white\"},\"title\":{\"x\":0.05},\"mapbox\":{\"style\":\"light\"}}},\"xaxis\":{\"anchor\":\"y\",\"domain\":[0.0,1.0],\"title\":{\"text\":\"Log GDP per capita\"}},\"yaxis\":{\"anchor\":\"x\",\"domain\":[0.0,1.0],\"title\":{\"text\":\"Social support\"}},\"coloraxis\":{\"colorbar\":{\"title\":{\"text\":\"Happiness score\"}},\"colorscale\":[[0.0,\"#0d0887\"],[0.1111111111111111,\"#46039f\"],[0.2222222222222222,\"#7201a8\"],[0.3333333333333333,\"#9c179e\"],[0.4444444444444444,\"#bd3786\"],[0.5555555555555556,\"#d8576b\"],[0.6666666666666666,\"#ed7953\"],[0.7777777777777778,\"#fb9f3a\"],[0.8888888888888888,\"#fdca26\"],[1.0,\"#f0f921\"]]},\"legend\":{\"tracegroupgap\":0,\"itemsizing\":\"constant\"},\"title\":{\"text\":\"Log GDP per Capita vs. Happiness (bubbel = Social support)\"},\"height\":750},                        {\"responsive\": true}                    ).then(function(){\n",
       "                            \n",
       "var gd = document.getElementById('2674cd7c-e973-4557-be4b-b9ca2312600d');\n",
       "var x = new MutationObserver(function (mutations, observer) {{\n",
       "        var display = window.getComputedStyle(gd).display;\n",
       "        if (!display || display === 'none') {{\n",
       "            console.log([gd, 'removed!']);\n",
       "            Plotly.purge(gd);\n",
       "            observer.disconnect();\n",
       "        }}\n",
       "}});\n",
       "\n",
       "// Listen for the removal of the full notebook cells\n",
       "var notebookContainer = gd.closest('#notebook-container');\n",
       "if (notebookContainer) {{\n",
       "    x.observe(notebookContainer, {childList: true});\n",
       "}}\n",
       "\n",
       "// Listen for the clearing of the current output cell\n",
       "var outputEl = gd.closest('.output');\n",
       "if (outputEl) {{\n",
       "    x.observe(outputEl, {childList: true});\n",
       "}}\n",
       "\n",
       "                        })                };                });            </script>        </div>"
      ]
     },
     "metadata": {},
     "output_type": "display_data"
    }
   ],
   "source": [
    "import pandas as pd\n",
    "import plotly.express as px\n",
    "\n",
    "\n",
    "# Verwijder alle rijen waar één van deze kolommen NaN is\n",
    "df_clean = df123.dropna(subset=['Log GDP per capita', 'Ladder score', 'Social support'])\n",
    "\n",
    "# Maak de bubble plot op de schone data\n",
    "fig = px.scatter(\n",
    "    df_clean,\n",
    "    x='Log GDP per capita',\n",
    "    y='Social support',\n",
    "    size='Ladder score',\n",
    "    color='Ladder score',\n",
    "    hover_name='country',\n",
    "    size_max=30,\n",
    "    height=750,\n",
    "    title='Log GDP per Capita vs. Happiness (bubbel = Social support)',\n",
    "    labels={\n",
    "        'Log GDP per capita': 'Log GDP per capita',\n",
    "        'Ladder score': 'Happiness score',\n",
    "        'Social support': 'Social support'\n",
    "    }\n",
    ")\n",
    "\n",
    "fig.show()  # Waarom heeft Venezuela 0 gdp LMAO"
   ]
  },
  {
   "cell_type": "markdown",
   "id": "84271e8b-3cdf-4cad-b78e-f536ff980cba",
   "metadata": {},
   "source": [
    "> *Figuur X: Vivamus elementum semper nisi. Aenean vulputate eleifend tellus. Aenean leo ligula, porttitor eu, consequat vitae, eleifend ac, enim. Aliquam lorem ante, dapibus in, viverra quis, feugiat a, tellus.*"
   ]
  },
  {
   "cell_type": "markdown",
   "id": "921df77f",
   "metadata": {},
   "source": [
    "## Reflection\n",
    "\n",
    "Gewoon ff uitschrijven wat voor een feedback we hebben gekregen van elkaar en van de TAs enzo\n",
    "\n",
    "- Bij correlatie van extreme weather en ladder score waren er maar 17 landen in de dataset. Niet heel veel landen = minder betrouwbaar dus misschien is die correlatie toch wat anders als we betere data konden vinden (de enige dataset die ik verder vond was nog minder landen). Basically next time wat langer doorzoeken misschien naar een dataset die wel wat betrouwbaarder is\n",
    "- Bij de extreme_weather_events was de variabele at first niet duidelijk gedefinieert in de dataset description dus hebben we een mail moeten sturen naar de owner van de dataset voor clarification"
   ]
  },
  {
   "cell_type": "markdown",
   "id": "8799e8f6",
   "metadata": {},
   "source": [
    "## Work Distribution\n",
    "\n",
    "Tot nu toe hebben we eigenlijk elkaar aangevuld bij ieder onderdeel.\n",
    "Aryan perspective 2   \n",
    "Mieke en lucas perspective 1   \n",
    "Reyna data en processing en helpen met code/structuur van notebook        \n",
    "Mieke github troubleshooting    "
   ]
  },
  {
   "cell_type": "markdown",
   "id": "8a61224c",
   "metadata": {},
   "source": [
    "## References (opmaak mogelijk anders)\n",
    "\n",
    "- Helliwell, J. F., Layard, R., & Sachs, J. D. (2017, March 20). World Happiness Report 2017. The World Happiness Report. https://worldhappiness.report/ed/2017/    \n",
    "- Helliwell, J. F., Layard, R., Sachs, J. D., De Neve, J.-E., Aknin, L. B., & Wang, S. (Eds.). (2024). World Happiness Report 2024. University of Oxford: Wellbeing Research Centre.       \n",
    "- Nidula Elgiriyewithana. (2025). World Weather Repository ( Daily Updating ) [Data set]. Kaggle. https://doi.org/10.34740/KAGGLE/DSV/12171408    \n",
    "- Peng, Y., Tang, J., Fu, Y., Fan, I., Hor, M., & Chan, T. (2016). Analyzing Personal Happiness from Global Survey and Weather Data: A Geospatial Approach. PLoS ONE, 11(4), e0153638. https://doi.org/10.1371/journal.pone.0153638   \n",
    "- Rehdanz, K., & Maddison, D. (2004). Climate and happiness. Ecological Economics, 52(1), 111–125. https://doi.org/10.1016/j.ecolecon.2004.06.015      \n",
    "- Shamim, A. (2025, April 24). Global Environmental Trends 2000-2024. https://www.kaggle.com/datasets/adilshamim8/temperature\n",
    "- Tsutsui, Y., 2013: Weather and Individual Happiness. Wea. Climate Soc., 5, 70–82, https://doi.org/10.1175/WCAS-D-11-00052.1.\n",
    "- World Happiness Report - Sustainable Development Solutions Network. (2025, March 20). https://www.unsdsn.org/our-work/world-happiness-report/  \n",
    "     \n",
    "\n",
    "   \n",
    "     \n",
    "    "
   ]
  },
  {
   "cell_type": "markdown",
   "id": "f377761c-1ed5-440a-8c20-eaf6ab7c67bb",
   "metadata": {},
   "source": [
    "## Appendix\n",
    "\n",
    "Generatieve AI (ChatGPT with GPT-4o) is gebruikt als hulpmiddel bij dit document, zoals te zien is in onderstaande tabel (VUL DEZE IN ALS JE CHATGPT GEBRUIKT HEBT:\n",
    "\n",
    "| Reasons of Usage | In which parts? | Which prompts were used? |\n",
    "| ------------------------ | --------------------------------- | -------------------------------------------- |\n",
    "| Brainstorm research questions and identify keywords for further search | The entire project framing | \"Give keywords about the current debate in climate change with brief explanations\" |\n",
    "| Improve writing clarity and enhance readability | All sections | \"Edit the following text to make it more clear. Do not alter the meaning.\" |\n",
    "| Enhance readability | All sections | \"Revise the paragraph to improve readability.\" |\n",
    "| Ensure grammatical accuracy |  All sections | \"Correct any grammatical errors in the text.\" |\n",
    "| Provide alternative phrasing | Descriptions of the perspectives | \"Suggest alternative phrases for better clarity.\" |\n",
    "| Optimize sentence structure | All sections | \"Restructure the sentence for better flow.\" |\n",
    "| Condense lengthy sentences | All sections | \"Simplify the following sentences without losing important information.\"|\n",
    "\n",
    "> *Figuur x: Gebruik van generatieve AI dat heeft bijgedragen aan dit document.*"
   ]
  }
 ],
 "metadata": {
  "celltoolbar": "Tags",
  "kernelspec": {
   "display_name": "Python 3 (ipykernel)",
   "language": "python",
   "name": "python3"
  },
  "language_info": {
   "codemirror_mode": {
    "name": "ipython",
    "version": 3
   },
   "file_extension": ".py",
   "mimetype": "text/x-python",
   "name": "python",
   "nbconvert_exporter": "python",
   "pygments_lexer": "ipython3",
   "version": "3.12.7"
  }
 },
 "nbformat": 4,
 "nbformat_minor": 5
}
